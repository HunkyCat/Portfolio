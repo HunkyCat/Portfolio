{
 "cells": [
  {
   "cell_type": "markdown",
   "metadata": {
    "toc": true
   },
   "source": [
    "<h1>Содержание<span class=\"tocSkip\"></span></h1>\n",
    "<div class=\"toc\"><ul class=\"toc-item\"><li><span><a href=\"#Подготовка\" data-toc-modified-id=\"Подготовка-1\"><span class=\"toc-item-num\">1&nbsp;&nbsp;</span>Подготовка</a></span><ul class=\"toc-item\"><li><span><a href=\"#Вывод:\" data-toc-modified-id=\"Вывод:-1.1\"><span class=\"toc-item-num\">1.1&nbsp;&nbsp;</span>Вывод:</a></span></li></ul></li><li><span><a href=\"#Анализ\" data-toc-modified-id=\"Анализ-2\"><span class=\"toc-item-num\">2&nbsp;&nbsp;</span>Анализ</a></span><ul class=\"toc-item\"><li><span><a href=\"#Вывод:\" data-toc-modified-id=\"Вывод:-2.1\"><span class=\"toc-item-num\">2.1&nbsp;&nbsp;</span>Вывод:</a></span></li></ul></li><li><span><a href=\"#Обучение\" data-toc-modified-id=\"Обучение-3\"><span class=\"toc-item-num\">3&nbsp;&nbsp;</span>Обучение</a></span><ul class=\"toc-item\"><li><span><a href=\"#Взглянем-на-результаты:\" data-toc-modified-id=\"Взглянем-на-результаты:-3.1\"><span class=\"toc-item-num\">3.1&nbsp;&nbsp;</span>Взглянем на результаты:</a></span></li></ul></li><li><span><a href=\"#Тестирование\" data-toc-modified-id=\"Тестирование-4\"><span class=\"toc-item-num\">4&nbsp;&nbsp;</span>Тестирование</a></span></li><li><span><a href=\"#Вывод:\" data-toc-modified-id=\"Вывод:-5\"><span class=\"toc-item-num\">5&nbsp;&nbsp;</span>Вывод:</a></span></li></ul></div>"
   ]
  },
  {
   "cell_type": "markdown",
   "metadata": {},
   "source": [
    "#  Прогнозирование заказов такси"
   ]
  },
  {
   "cell_type": "markdown",
   "metadata": {},
   "source": [
    "Сервис заказа такси собрал исторические данные о заказах такси в аэропортах. Чтобы привлекать больше водителей в период пиковой нагрузки, нужно спрогнозировать количество заказов такси на следующий час.\n",
    "\n",
    "**Цель исследования:** Написать модель для предсказания количества заказов такси на следующий час, основываясь на исторических данных.\n",
    "\n",
    "**План исследования:**\n",
    "\n",
    "1. Загрузить данные и выполнить их ресемплирование по одному часу.\n",
    "2. Проанализировать данные.\n",
    "3. Обучить разные модели с различными гиперпараметрами. Сделать тестовую выборку размером 10% от исходных данных.\n",
    "4. Проверить данные на тестовой выборке и сделать выводы.\n",
    "\n",
    "\n",
    "Данные лежат в файле `taxi.csv`. Количество заказов находится в столбце `num_orders` (от англ. *number of orders*, «число заказов»).\n",
    "\n",
    "Значение метрики *RMSE* на тестовой выборке должно быть не больше 48."
   ]
  },
  {
   "cell_type": "markdown",
   "metadata": {},
   "source": [
    "## Подготовка"
   ]
  },
  {
   "cell_type": "code",
   "execution_count": 1,
   "metadata": {},
   "outputs": [],
   "source": [
    "# base stuff\n",
    "import pandas as pd\n",
    "import plotly.express as px\n",
    "from datetime import datetime\n",
    "import matplotlib.pyplot as plt\n",
    "from statsmodels.tsa.seasonal import seasonal_decompose\n",
    "\n",
    "# sklearn\n",
    "from sklearn.model_selection import train_test_split\n",
    "from sklearn.linear_model import LinearRegression\n",
    "from sklearn.metrics import mean_squared_error\n",
    "from sklearn.model_selection import GridSearchCV\n",
    "from sklearn.metrics import make_scorer\n",
    "from sklearn.ensemble import RandomForestRegressor\n",
    "from sklearn.tree import DecisionTreeRegressor\n",
    "from sklearn.dummy import DummyRegressor\n",
    "from sklearn.model_selection import TimeSeriesSplit\n",
    "\n",
    "# boosting\n",
    "from lightgbm import LGBMRegressor\n",
    "from catboost import Pool, CatBoostRegressor"
   ]
  },
  {
   "cell_type": "code",
   "execution_count": 2,
   "metadata": {
    "scrolled": true
   },
   "outputs": [
    {
     "data": {
      "text/html": [
       "<div>\n",
       "<style scoped>\n",
       "    .dataframe tbody tr th:only-of-type {\n",
       "        vertical-align: middle;\n",
       "    }\n",
       "\n",
       "    .dataframe tbody tr th {\n",
       "        vertical-align: top;\n",
       "    }\n",
       "\n",
       "    .dataframe thead th {\n",
       "        text-align: right;\n",
       "    }\n",
       "</style>\n",
       "<table border=\"1\" class=\"dataframe\">\n",
       "  <thead>\n",
       "    <tr style=\"text-align: right;\">\n",
       "      <th></th>\n",
       "      <th>datetime</th>\n",
       "      <th>num_orders</th>\n",
       "    </tr>\n",
       "  </thead>\n",
       "  <tbody>\n",
       "    <tr>\n",
       "      <th>0</th>\n",
       "      <td>2018-03-01 00:00:00</td>\n",
       "      <td>9</td>\n",
       "    </tr>\n",
       "    <tr>\n",
       "      <th>1</th>\n",
       "      <td>2018-03-01 00:10:00</td>\n",
       "      <td>14</td>\n",
       "    </tr>\n",
       "    <tr>\n",
       "      <th>2</th>\n",
       "      <td>2018-03-01 00:20:00</td>\n",
       "      <td>28</td>\n",
       "    </tr>\n",
       "    <tr>\n",
       "      <th>3</th>\n",
       "      <td>2018-03-01 00:30:00</td>\n",
       "      <td>20</td>\n",
       "    </tr>\n",
       "    <tr>\n",
       "      <th>4</th>\n",
       "      <td>2018-03-01 00:40:00</td>\n",
       "      <td>32</td>\n",
       "    </tr>\n",
       "    <tr>\n",
       "      <th>...</th>\n",
       "      <td>...</td>\n",
       "      <td>...</td>\n",
       "    </tr>\n",
       "    <tr>\n",
       "      <th>26491</th>\n",
       "      <td>2018-08-31 23:10:00</td>\n",
       "      <td>32</td>\n",
       "    </tr>\n",
       "    <tr>\n",
       "      <th>26492</th>\n",
       "      <td>2018-08-31 23:20:00</td>\n",
       "      <td>24</td>\n",
       "    </tr>\n",
       "    <tr>\n",
       "      <th>26493</th>\n",
       "      <td>2018-08-31 23:30:00</td>\n",
       "      <td>27</td>\n",
       "    </tr>\n",
       "    <tr>\n",
       "      <th>26494</th>\n",
       "      <td>2018-08-31 23:40:00</td>\n",
       "      <td>39</td>\n",
       "    </tr>\n",
       "    <tr>\n",
       "      <th>26495</th>\n",
       "      <td>2018-08-31 23:50:00</td>\n",
       "      <td>53</td>\n",
       "    </tr>\n",
       "  </tbody>\n",
       "</table>\n",
       "<p>26496 rows × 2 columns</p>\n",
       "</div>"
      ],
      "text/plain": [
       "                  datetime  num_orders\n",
       "0      2018-03-01 00:00:00           9\n",
       "1      2018-03-01 00:10:00          14\n",
       "2      2018-03-01 00:20:00          28\n",
       "3      2018-03-01 00:30:00          20\n",
       "4      2018-03-01 00:40:00          32\n",
       "...                    ...         ...\n",
       "26491  2018-08-31 23:10:00          32\n",
       "26492  2018-08-31 23:20:00          24\n",
       "26493  2018-08-31 23:30:00          27\n",
       "26494  2018-08-31 23:40:00          39\n",
       "26495  2018-08-31 23:50:00          53\n",
       "\n",
       "[26496 rows x 2 columns]"
      ]
     },
     "metadata": {},
     "output_type": "display_data"
    },
    {
     "name": "stdout",
     "output_type": "stream",
     "text": [
      "<class 'pandas.core.frame.DataFrame'>\n",
      "RangeIndex: 26496 entries, 0 to 26495\n",
      "Data columns (total 2 columns):\n",
      " #   Column      Non-Null Count  Dtype \n",
      "---  ------      --------------  ----- \n",
      " 0   datetime    26496 non-null  object\n",
      " 1   num_orders  26496 non-null  int64 \n",
      "dtypes: int64(1), object(1)\n",
      "memory usage: 414.1+ KB\n"
     ]
    }
   ],
   "source": [
    "taxi_data = pd.read_csv('/datasets/taxi.csv')\n",
    "display(taxi_data)\n",
    "taxi_data.info()"
   ]
  },
  {
   "cell_type": "markdown",
   "metadata": {},
   "source": [
    "Теперь когда мы знаем как выглядят даннные, можем открыть их заного, указав, дату как индекс:"
   ]
  },
  {
   "cell_type": "code",
   "execution_count": 3,
   "metadata": {},
   "outputs": [],
   "source": [
    "taxi_data = pd.read_csv('/datasets/taxi.csv', index_col=[0], parse_dates=[0])"
   ]
  },
  {
   "cell_type": "code",
   "execution_count": 4,
   "metadata": {
    "scrolled": false
   },
   "outputs": [
    {
     "data": {
      "text/html": [
       "<div>\n",
       "<style scoped>\n",
       "    .dataframe tbody tr th:only-of-type {\n",
       "        vertical-align: middle;\n",
       "    }\n",
       "\n",
       "    .dataframe tbody tr th {\n",
       "        vertical-align: top;\n",
       "    }\n",
       "\n",
       "    .dataframe thead th {\n",
       "        text-align: right;\n",
       "    }\n",
       "</style>\n",
       "<table border=\"1\" class=\"dataframe\">\n",
       "  <thead>\n",
       "    <tr style=\"text-align: right;\">\n",
       "      <th></th>\n",
       "      <th>num_orders</th>\n",
       "    </tr>\n",
       "    <tr>\n",
       "      <th>datetime</th>\n",
       "      <th></th>\n",
       "    </tr>\n",
       "  </thead>\n",
       "  <tbody>\n",
       "    <tr>\n",
       "      <th>2018-03-01 00:00:00</th>\n",
       "      <td>9</td>\n",
       "    </tr>\n",
       "    <tr>\n",
       "      <th>2018-03-01 00:10:00</th>\n",
       "      <td>14</td>\n",
       "    </tr>\n",
       "    <tr>\n",
       "      <th>2018-03-01 00:20:00</th>\n",
       "      <td>28</td>\n",
       "    </tr>\n",
       "    <tr>\n",
       "      <th>2018-03-01 00:30:00</th>\n",
       "      <td>20</td>\n",
       "    </tr>\n",
       "    <tr>\n",
       "      <th>2018-03-01 00:40:00</th>\n",
       "      <td>32</td>\n",
       "    </tr>\n",
       "    <tr>\n",
       "      <th>...</th>\n",
       "      <td>...</td>\n",
       "    </tr>\n",
       "    <tr>\n",
       "      <th>2018-08-31 23:10:00</th>\n",
       "      <td>32</td>\n",
       "    </tr>\n",
       "    <tr>\n",
       "      <th>2018-08-31 23:20:00</th>\n",
       "      <td>24</td>\n",
       "    </tr>\n",
       "    <tr>\n",
       "      <th>2018-08-31 23:30:00</th>\n",
       "      <td>27</td>\n",
       "    </tr>\n",
       "    <tr>\n",
       "      <th>2018-08-31 23:40:00</th>\n",
       "      <td>39</td>\n",
       "    </tr>\n",
       "    <tr>\n",
       "      <th>2018-08-31 23:50:00</th>\n",
       "      <td>53</td>\n",
       "    </tr>\n",
       "  </tbody>\n",
       "</table>\n",
       "<p>26496 rows × 1 columns</p>\n",
       "</div>"
      ],
      "text/plain": [
       "                     num_orders\n",
       "datetime                       \n",
       "2018-03-01 00:00:00           9\n",
       "2018-03-01 00:10:00          14\n",
       "2018-03-01 00:20:00          28\n",
       "2018-03-01 00:30:00          20\n",
       "2018-03-01 00:40:00          32\n",
       "...                         ...\n",
       "2018-08-31 23:10:00          32\n",
       "2018-08-31 23:20:00          24\n",
       "2018-08-31 23:30:00          27\n",
       "2018-08-31 23:40:00          39\n",
       "2018-08-31 23:50:00          53\n",
       "\n",
       "[26496 rows x 1 columns]"
      ]
     },
     "metadata": {},
     "output_type": "display_data"
    },
    {
     "name": "stdout",
     "output_type": "stream",
     "text": [
      "<class 'pandas.core.frame.DataFrame'>\n",
      "DatetimeIndex: 26496 entries, 2018-03-01 00:00:00 to 2018-08-31 23:50:00\n",
      "Data columns (total 1 columns):\n",
      " #   Column      Non-Null Count  Dtype\n",
      "---  ------      --------------  -----\n",
      " 0   num_orders  26496 non-null  int64\n",
      "dtypes: int64(1)\n",
      "memory usage: 414.0 KB\n"
     ]
    }
   ],
   "source": [
    "display(taxi_data)\n",
    "taxi_data.info()"
   ]
  },
  {
   "cell_type": "markdown",
   "metadata": {},
   "source": [
    "Похоже, что данные собранны с 1 марта 2018 по 31 августа 2018 с интервалом в 10 минут. Проверим расположены ли данные в хронологическом порядке:"
   ]
  },
  {
   "cell_type": "code",
   "execution_count": 5,
   "metadata": {
    "scrolled": false
   },
   "outputs": [
    {
     "data": {
      "text/plain": [
       "True"
      ]
     },
     "execution_count": 5,
     "metadata": {},
     "output_type": "execute_result"
    }
   ],
   "source": [
    "taxi_data.index.is_monotonic"
   ]
  },
  {
   "cell_type": "code",
   "execution_count": 6,
   "metadata": {},
   "outputs": [
    {
     "data": {
      "text/html": [
       "<div>\n",
       "<style scoped>\n",
       "    .dataframe tbody tr th:only-of-type {\n",
       "        vertical-align: middle;\n",
       "    }\n",
       "\n",
       "    .dataframe tbody tr th {\n",
       "        vertical-align: top;\n",
       "    }\n",
       "\n",
       "    .dataframe thead th {\n",
       "        text-align: right;\n",
       "    }\n",
       "</style>\n",
       "<table border=\"1\" class=\"dataframe\">\n",
       "  <thead>\n",
       "    <tr style=\"text-align: right;\">\n",
       "      <th></th>\n",
       "      <th>num_orders</th>\n",
       "    </tr>\n",
       "  </thead>\n",
       "  <tbody>\n",
       "    <tr>\n",
       "      <th>count</th>\n",
       "      <td>26496.000000</td>\n",
       "    </tr>\n",
       "    <tr>\n",
       "      <th>mean</th>\n",
       "      <td>14.070463</td>\n",
       "    </tr>\n",
       "    <tr>\n",
       "      <th>std</th>\n",
       "      <td>9.211330</td>\n",
       "    </tr>\n",
       "    <tr>\n",
       "      <th>min</th>\n",
       "      <td>0.000000</td>\n",
       "    </tr>\n",
       "    <tr>\n",
       "      <th>25%</th>\n",
       "      <td>8.000000</td>\n",
       "    </tr>\n",
       "    <tr>\n",
       "      <th>50%</th>\n",
       "      <td>13.000000</td>\n",
       "    </tr>\n",
       "    <tr>\n",
       "      <th>75%</th>\n",
       "      <td>19.000000</td>\n",
       "    </tr>\n",
       "    <tr>\n",
       "      <th>max</th>\n",
       "      <td>119.000000</td>\n",
       "    </tr>\n",
       "  </tbody>\n",
       "</table>\n",
       "</div>"
      ],
      "text/plain": [
       "         num_orders\n",
       "count  26496.000000\n",
       "mean      14.070463\n",
       "std        9.211330\n",
       "min        0.000000\n",
       "25%        8.000000\n",
       "50%       13.000000\n",
       "75%       19.000000\n",
       "max      119.000000"
      ]
     },
     "execution_count": 6,
     "metadata": {},
     "output_type": "execute_result"
    }
   ],
   "source": [
    "taxi_data.describe()"
   ]
  },
  {
   "cell_type": "markdown",
   "metadata": {},
   "source": [
    "### Вывод:\n",
    "С данными все хорошо, можно их анализировать."
   ]
  },
  {
   "cell_type": "markdown",
   "metadata": {},
   "source": [
    "## Анализ"
   ]
  },
  {
   "cell_type": "markdown",
   "metadata": {},
   "source": [
    "Сделаем ресемплинг по часам и разобьем данные для анализа:"
   ]
  },
  {
   "cell_type": "code",
   "execution_count": 7,
   "metadata": {},
   "outputs": [],
   "source": [
    "taxi_data = taxi_data.resample('1H').sum()\n",
    "decomposed = seasonal_decompose(taxi_data)  "
   ]
  },
  {
   "cell_type": "markdown",
   "metadata": {},
   "source": [
    "Зададим такое скользящее среднее, чтобы было очевиднее заметно изменения графика:"
   ]
  },
  {
   "cell_type": "code",
   "execution_count": 8,
   "metadata": {},
   "outputs": [],
   "source": [
    "taxi_data['rolling_mean'] = taxi_data['num_orders'].rolling(20).mean()"
   ]
  },
  {
   "cell_type": "code",
   "execution_count": 9,
   "metadata": {
    "scrolled": false
   },
   "outputs": [
    {
     "data": {
      "text/plain": [
       "<AxesSubplot:xlabel='datetime'>"
      ]
     },
     "execution_count": 9,
     "metadata": {},
     "output_type": "execute_result"
    },
    {
     "data": {
      "image/png": "[encoded data removed]",
      "text/plain": [
       "<Figure size 432x288 with 1 Axes>"
      ]
     },
     "metadata": {
      "needs_background": "light"
     },
     "output_type": "display_data"
    }
   ],
   "source": [
    "taxi_data.plot()"
   ]
  },
  {
   "cell_type": "code",
   "execution_count": 10,
   "metadata": {},
   "outputs": [
    {
     "data": {
      "text/plain": [
       "Text(0.5, 1.0, 'Seasonality')"
      ]
     },
     "execution_count": 10,
     "metadata": {},
     "output_type": "execute_result"
    },
    {
     "data": {
      "image/png": "[encoded data removed]",
      "text/plain": [
       "<Figure size 720x1152 with 2 Axes>"
      ]
     },
     "metadata": {
      "needs_background": "light"
     },
     "output_type": "display_data"
    }
   ],
   "source": [
    "plt.figure(figsize=(10, 16))\n",
    "plt.subplot(311)\n",
    "decomposed.trend.plot(ax=plt.gca())\n",
    "plt.title('Trend')\n",
    "plt.subplot(312)\n",
    "decomposed.seasonal.plot(ax=plt.gca())\n",
    "plt.title('Seasonality')"
   ]
  },
  {
   "cell_type": "markdown",
   "metadata": {},
   "source": [
    "Можем видеть, что начиная с Апреля кол-во заказов начинает медленно расти (люди больше путешествуют и немного чаще берут такси(?)), в  Июле-Августе этот рост усиливается. Скорее всего, это связанно со снижением температуры. Летом люди после выхода из аэропорта готовы немного прогуляться, но чем хуже погода, тем больше они берут такси."
   ]
  },
  {
   "cell_type": "markdown",
   "metadata": {},
   "source": [
    "Сезонность в таком масштабе смотреть бесполезно, но если его уменьшить, то можно найти что-то полезное:"
   ]
  },
  {
   "cell_type": "markdown",
   "metadata": {},
   "source": [
    "Посмотрим на то, в какие часы чаще заказывают такси:"
   ]
  },
  {
   "cell_type": "code",
   "execution_count": 11,
   "metadata": {
    "scrolled": true
   },
   "outputs": [
    {
     "data": {
      "text/plain": [
       "Text(0.5, 1.0, 'Seasonal')"
      ]
     },
     "execution_count": 11,
     "metadata": {},
     "output_type": "execute_result"
    },
    {
     "data": {
      "image/png": "[encoded data removed]",
      "text/plain": [
       "<Figure size 432x288 with 1 Axes>"
      ]
     },
     "metadata": {
      "needs_background": "light"
     },
     "output_type": "display_data"
    }
   ],
   "source": [
    "decomposed.seasonal['2018-03-01':'2018-03-01'].plot()\n",
    "plt.title('Seasonal')"
   ]
  },
  {
   "cell_type": "markdown",
   "metadata": {},
   "source": [
    "Заметно, что чаще всего такси берут с `22 до 4`, кроме такси ничего и не работает. \n",
    "\n",
    "Меньше всего заказов `с 5 до 8 утра`, во-первых, в 5:30 начинает работу общественный транспорт и он может быть еще не нагружен, во-вторых, такая просадка может быть связанна и с расписанием полетов в аэропорту."
   ]
  },
  {
   "cell_type": "markdown",
   "metadata": {},
   "source": [
    "Взглянем на дни недели:"
   ]
  },
  {
   "cell_type": "code",
   "execution_count": 12,
   "metadata": {
    "scrolled": false
   },
   "outputs": [
    {
     "data": {
      "text/plain": [
       "<AxesSubplot:title={'center':'Распределение заказов такси по дням недели'}, ylabel='num_orders'>"
      ]
     },
     "execution_count": 12,
     "metadata": {},
     "output_type": "execute_result"
    },
    {
     "data": {
      "image/png": "[encoded data removed]",
      "text/plain": [
       "<Figure size 2016x864 with 1 Axes>"
      ]
     },
     "metadata": {},
     "output_type": "display_data"
    }
   ],
   "source": [
    "colors = [plt.cm.Spectral(i/float(7)) for i in range(7)]\n",
    "\n",
    "taxi_data.pivot_table(index=taxi_data.index.strftime('%A'), values='num_orders', aggfunc=('sum')).plot(kind='pie',\n",
    "                                                                                 figsize=(28,12),\n",
    "                                                                                 y='num_orders', \n",
    "                                                                                 autopct='%1.1f%%',\n",
    "                                                                                 colors=colors, \n",
    "                                                                    title='Распределение заказов такси по дням недели')"
   ]
  },
  {
   "cell_type": "markdown",
   "metadata": {},
   "source": [
    "Похоже услугами такси пользуются, так или иначе, в любой день недели.  Чаще всего пользуются такси в пятницу, наверное, специально берут билеты на дату перед выходными. Реже всего - во вторник."
   ]
  },
  {
   "cell_type": "markdown",
   "metadata": {},
   "source": [
    "### Вывод:\n",
    "Мы выяснили, что:\n",
    "* Заметный рост заказов начинается в Июле\n",
    "* Больше всего такси заказывают с 22 до 4\n",
    "* Самый нагруженный день - пятница"
   ]
  },
  {
   "cell_type": "markdown",
   "metadata": {},
   "source": [
    "## Обучение"
   ]
  },
  {
   "cell_type": "markdown",
   "metadata": {},
   "source": [
    "Напишем функцию, чтобы создать признаки для обучения модели:"
   ]
  },
  {
   "cell_type": "code",
   "execution_count": 13,
   "metadata": {},
   "outputs": [],
   "source": [
    "def make_features(data, max_lag, rolling_mean_size):\n",
    "    data['month'] = data.index.month\n",
    "    data['day'] = data.index.day\n",
    "    data['dayofweek'] = data.index.dayofweek\n",
    "    \n",
    "    for lag in range(1, max_lag + 1):\n",
    "        data['lag_{}'.format(lag)] = data['num_orders'].shift(lag)\n",
    "\n",
    "    data['rolling_mean'] = data['num_orders'].shift().rolling(rolling_mean_size).mean()"
   ]
  },
  {
   "cell_type": "markdown",
   "metadata": {},
   "source": [
    "Разделим выборку на тестовую, валидационную и обучающую:"
   ]
  },
  {
   "cell_type": "code",
   "execution_count": 14,
   "metadata": {},
   "outputs": [],
   "source": [
    "data_train, data_test_and_valid = train_test_split(taxi_data, test_size=0.2, shuffle=False) \n",
    "data_valid, data_test = train_test_split(data_test_and_valid, test_size=0.5, shuffle=False) "
   ]
  },
  {
   "cell_type": "markdown",
   "metadata": {},
   "source": [
    "Параметры max_lag и rolling_mean_size придется случайным образом подбирать так, чтобы увеличивалась эффективность моделей:"
   ]
  },
  {
   "cell_type": "code",
   "execution_count": 15,
   "metadata": {},
   "outputs": [],
   "source": [
    "make_features(taxi_data, 80, 300)\n",
    "\n",
    "data_train, data_test_and_valid = train_test_split(taxi_data, test_size=0.2, shuffle=False) # выделим обучающую выборку.\n",
    "data_valid, data_test = train_test_split(data_test_and_valid, test_size=0.5, shuffle=False) # оставим 10 % от общих данных \n",
    "                                                                                            # для теста и валидации\n",
    "data_train = data_train.dropna()\n",
    "    \n",
    "features_train = data_train.drop('num_orders', axis=1)\n",
    "target_train = data_train['num_orders']\n",
    "\n",
    "features_valid = data_valid.drop('num_orders', axis=1)\n",
    "target_valid = data_valid['num_orders']\n",
    "\n",
    "features_test = data_test.drop('num_orders', axis=1)\n",
    "target_test = data_test['num_orders']"
   ]
  },
  {
   "cell_type": "markdown",
   "metadata": {},
   "source": [
    "Напишем функцию, которой будем передавать название модели и ее гиперпараметры для кросс-валидации в `GridSearchCV`, так же укажем ему нашу метрику в `scoring` - rmse:"
   ]
  },
  {
   "cell_type": "code",
   "execution_count": 16,
   "metadata": {},
   "outputs": [],
   "source": [
    "models = []\n",
    "time_to_fit = []\n",
    "time_to_score = []\n",
    "score = []\n",
    "params = []\n",
    "\n",
    "def CV_modeling(model, parameters_as_dict): # будем передавать нашей функции название модели и гиперпарамтры на перебор\n",
    "    params_to_test = parameters_as_dict\n",
    "\n",
    "    scoring =  make_scorer(mean_squared_error, greater_is_better=False, squared=False) # Наша основная метрика RMSE\n",
    "    tscv = TimeSeriesSplit()\n",
    "    \n",
    "    model = model()\n",
    "    grid_search = GridSearchCV(model, param_grid=params_to_test, n_jobs=6, verbose=1, scoring=scoring, cv=tscv)\n",
    "\n",
    "    grid_search.fit(features_train, target_train)\n",
    "\n",
    "    #Сохраним показатели лучшей модели\n",
    "\n",
    "    models.append(model) #название модели\n",
    "    params.append(grid_search.best_params_) # параметры модели\n",
    "    time_to_fit.append(grid_search.cv_results_['mean_fit_time'][grid_search.best_index_]) # время на обучние\n",
    "    time_to_score.append(grid_search.cv_results_['mean_score_time'][grid_search.best_index_]) # время предсказания\n",
    "    score.append(grid_search.cv_results_['mean_test_score'][grid_search.best_index_]) # выбранная метрика scoring"
   ]
  },
  {
   "cell_type": "markdown",
   "metadata": {},
   "source": [
    "Теперь обучим разные модели:"
   ]
  },
  {
   "cell_type": "markdown",
   "metadata": {},
   "source": [
    "**`LinearRegression`**"
   ]
  },
  {
   "cell_type": "code",
   "execution_count": 17,
   "metadata": {
    "scrolled": true
   },
   "outputs": [
    {
     "name": "stdout",
     "output_type": "stream",
     "text": [
      "Fitting 5 folds for each of 1 candidates, totalling 5 fits\n"
     ]
    }
   ],
   "source": [
    "CV_modeling(LinearRegression, {})"
   ]
  },
  {
   "cell_type": "markdown",
   "metadata": {},
   "source": [
    "**`RandomForestRegressor`**"
   ]
  },
  {
   "cell_type": "code",
   "execution_count": 18,
   "metadata": {},
   "outputs": [
    {
     "name": "stdout",
     "output_type": "stream",
     "text": [
      "Fitting 5 folds for each of 9 candidates, totalling 45 fits\n"
     ]
    }
   ],
   "source": [
    "CV_modeling(RandomForestRegressor, {'n_estimators': [50, 100, 150],\n",
    "                                'max_depth': [5, 10, 15],\n",
    "                                'random_state': [12345]\n",
    "})"
   ]
  },
  {
   "cell_type": "markdown",
   "metadata": {},
   "source": [
    "**`DecisionTreeRegressor`**"
   ]
  },
  {
   "cell_type": "code",
   "execution_count": 19,
   "metadata": {},
   "outputs": [
    {
     "name": "stdout",
     "output_type": "stream",
     "text": [
      "Fitting 5 folds for each of 4 candidates, totalling 20 fits\n"
     ]
    }
   ],
   "source": [
    "CV_modeling(DecisionTreeRegressor, {'max_depth': range(1, 20, 5),\n",
    "                                    'random_state': [12345]\n",
    "})"
   ]
  },
  {
   "cell_type": "markdown",
   "metadata": {},
   "source": [
    "**`LGBMRegressor`**"
   ]
  },
  {
   "cell_type": "code",
   "execution_count": 20,
   "metadata": {},
   "outputs": [
    {
     "name": "stdout",
     "output_type": "stream",
     "text": [
      "Fitting 5 folds for each of 250 candidates, totalling 1250 fits\n",
      "Wall time: 2min 14s\n"
     ]
    }
   ],
   "source": [
    "%%time\n",
    "CV_modeling(LGBMRegressor, {'n_estimators': range(50, 500, 100),\n",
    "                            'max_depth': range(-1, 20, 5),\n",
    "                            'num_leaves': [30,60],\n",
    "                            'random_state': [12345],\n",
    "                            'learning_rate': [0.1, 0.3, 0.5, 0.8, 1]\n",
    "})"
   ]
  },
  {
   "cell_type": "markdown",
   "metadata": {},
   "source": [
    "**`CatBoostRegressor`**"
   ]
  },
  {
   "cell_type": "code",
   "execution_count": 21,
   "metadata": {
    "scrolled": false
   },
   "outputs": [
    {
     "name": "stdout",
     "output_type": "stream",
     "text": [
      "Fitting 5 folds for each of 3 candidates, totalling 15 fits\n",
      "Learning rate set to 0.049281\n",
      "0:\tlearn: 34.9274095\ttotal: 155ms\tremaining: 2m 34s\n",
      "999:\tlearn: 10.5864742\ttotal: 3.06s\tremaining: 0us\n",
      "Wall time: 1min 57s\n"
     ]
    }
   ],
   "source": [
    "%%time\n",
    "CV_modeling(CatBoostRegressor, {'verbose':[999],\n",
    "                               'random_state': [12345],\n",
    "                               'depth': range(1, 12, 4),\n",
    "                               })"
   ]
  },
  {
   "cell_type": "markdown",
   "metadata": {},
   "source": [
    "### Взглянем на результаты:"
   ]
  },
  {
   "cell_type": "code",
   "execution_count": 22,
   "metadata": {
    "scrolled": true
   },
   "outputs": [
    {
     "data": {
      "text/html": [
       "<div>\n",
       "<style scoped>\n",
       "    .dataframe tbody tr th:only-of-type {\n",
       "        vertical-align: middle;\n",
       "    }\n",
       "\n",
       "    .dataframe tbody tr th {\n",
       "        vertical-align: top;\n",
       "    }\n",
       "\n",
       "    .dataframe thead th {\n",
       "        text-align: right;\n",
       "    }\n",
       "</style>\n",
       "<table border=\"1\" class=\"dataframe\">\n",
       "  <thead>\n",
       "    <tr style=\"text-align: right;\">\n",
       "      <th></th>\n",
       "      <th>time_to_fit</th>\n",
       "      <th>time_to_score</th>\n",
       "      <th>rmse</th>\n",
       "      <th>parameters</th>\n",
       "    </tr>\n",
       "  </thead>\n",
       "  <tbody>\n",
       "    <tr>\n",
       "      <th>DecisionTreeRegressor()</th>\n",
       "      <td>0.044239</td>\n",
       "      <td>0.002002</td>\n",
       "      <td>-28.466683</td>\n",
       "      <td>{'max_depth': 6, 'random_state': 12345}</td>\n",
       "    </tr>\n",
       "    <tr>\n",
       "      <th>LinearRegression()</th>\n",
       "      <td>0.026424</td>\n",
       "      <td>0.002202</td>\n",
       "      <td>-23.492598</td>\n",
       "      <td>{}</td>\n",
       "    </tr>\n",
       "    <tr>\n",
       "      <th>RandomForestRegressor()</th>\n",
       "      <td>7.446755</td>\n",
       "      <td>0.020722</td>\n",
       "      <td>-22.830233</td>\n",
       "      <td>{'max_depth': 15, 'n_estimators': 150, 'random...</td>\n",
       "    </tr>\n",
       "    <tr>\n",
       "      <th>LGBMRegressor()</th>\n",
       "      <td>0.149861</td>\n",
       "      <td>0.005205</td>\n",
       "      <td>-22.587968</td>\n",
       "      <td>{'learning_rate': 0.1, 'max_depth': 4, 'n_esti...</td>\n",
       "    </tr>\n",
       "    <tr>\n",
       "      <th>&lt;catboost.core.CatBoostRegressor object at 0x0000023512A7FCD0&gt;</th>\n",
       "      <td>14.273081</td>\n",
       "      <td>0.019024</td>\n",
       "      <td>-22.114717</td>\n",
       "      <td>{'depth': 5, 'random_state': 12345, 'verbose':...</td>\n",
       "    </tr>\n",
       "  </tbody>\n",
       "</table>\n",
       "</div>"
      ],
      "text/plain": [
       "                                                    time_to_fit  \\\n",
       "DecisionTreeRegressor()                                0.044239   \n",
       "LinearRegression()                                     0.026424   \n",
       "RandomForestRegressor()                                7.446755   \n",
       "LGBMRegressor()                                        0.149861   \n",
       "<catboost.core.CatBoostRegressor object at 0x00...    14.273081   \n",
       "\n",
       "                                                    time_to_score       rmse  \\\n",
       "DecisionTreeRegressor()                                  0.002002 -28.466683   \n",
       "LinearRegression()                                       0.002202 -23.492598   \n",
       "RandomForestRegressor()                                  0.020722 -22.830233   \n",
       "LGBMRegressor()                                          0.005205 -22.587968   \n",
       "<catboost.core.CatBoostRegressor object at 0x00...       0.019024 -22.114717   \n",
       "\n",
       "                                                                                           parameters  \n",
       "DecisionTreeRegressor()                                       {'max_depth': 6, 'random_state': 12345}  \n",
       "LinearRegression()                                                                                 {}  \n",
       "RandomForestRegressor()                             {'max_depth': 15, 'n_estimators': 150, 'random...  \n",
       "LGBMRegressor()                                     {'learning_rate': 0.1, 'max_depth': 4, 'n_esti...  \n",
       "<catboost.core.CatBoostRegressor object at 0x00...  {'depth': 5, 'random_state': 12345, 'verbose':...  "
      ]
     },
     "execution_count": 22,
     "metadata": {},
     "output_type": "execute_result"
    }
   ],
   "source": [
    "final_data_results = pd.DataFrame({'time_to_fit': time_to_fit, \n",
    "                                   'time_to_score': time_to_score, \n",
    "                                   'rmse': score, \n",
    "                                   'parameters': params}, index=models).sort_values(by='rmse')\n",
    "\n",
    "final_data_results"
   ]
  },
  {
   "cell_type": "markdown",
   "metadata": {},
   "source": [
    "Catboost показал лучший результат, но он долго обучается, за ним идет LGBMRegressor и RandomForestRegressor с идентичными результатами."
   ]
  },
  {
   "cell_type": "code",
   "execution_count": 23,
   "metadata": {
    "scrolled": true
   },
   "outputs": [
    {
     "name": "stdout",
     "output_type": "stream",
     "text": [
      "[{'depth': 5, 'random_state': 12345, 'verbose': 999}]\n",
      "[{'learning_rate': 0.1, 'max_depth': 4, 'n_estimators': 150, 'num_leaves': 30, 'random_state': 12345}]\n"
     ]
    }
   ],
   "source": [
    "print(final_data_results.iloc[[-1]]['parameters'].values) # лучший. Cat\n",
    "print(final_data_results.iloc[[-2]]['parameters'].values) # второй по лучшести. LGBM"
   ]
  },
  {
   "cell_type": "markdown",
   "metadata": {},
   "source": [
    "## Тестирование"
   ]
  },
  {
   "cell_type": "markdown",
   "metadata": {},
   "source": [
    "Объеденим обучающую и валидационную выборку в обучающую перед тестом:"
   ]
  },
  {
   "cell_type": "code",
   "execution_count": 24,
   "metadata": {},
   "outputs": [],
   "source": [
    "train_and_valid_features = features_train.append(features_valid)\n",
    "train_and_valid_target = target_train.append(target_valid)"
   ]
  },
  {
   "cell_type": "markdown",
   "metadata": {},
   "source": [
    "**`CatBoostRegressor`**"
   ]
  },
  {
   "cell_type": "code",
   "execution_count": 25,
   "metadata": {
    "scrolled": true
   },
   "outputs": [
    {
     "name": "stdout",
     "output_type": "stream",
     "text": [
      "Learning rate set to 0.050289\n",
      "0:\tlearn: 37.8111325\ttotal: 3.62ms\tremaining: 3.62s\n",
      "100:\tlearn: 21.8202409\ttotal: 317ms\tremaining: 2.82s\n",
      "200:\tlearn: 19.7796235\ttotal: 629ms\tremaining: 2.5s\n",
      "300:\tlearn: 18.1647364\ttotal: 937ms\tremaining: 2.17s\n",
      "400:\tlearn: 16.7055845\ttotal: 1.25s\tremaining: 1.87s\n",
      "500:\tlearn: 15.5602555\ttotal: 1.56s\tremaining: 1.55s\n",
      "600:\tlearn: 14.5960079\ttotal: 1.88s\tremaining: 1.25s\n",
      "700:\tlearn: 13.7684946\ttotal: 2.19s\tremaining: 935ms\n",
      "800:\tlearn: 12.9842760\ttotal: 2.5s\tremaining: 622ms\n",
      "900:\tlearn: 12.2586812\ttotal: 2.81s\tremaining: 309ms\n",
      "999:\tlearn: 11.5680609\ttotal: 3.16s\tremaining: 0us\n",
      "38.84540349939071\n"
     ]
    }
   ],
   "source": [
    "model = CatBoostRegressor(random_state=12345, depth=5, verbose=100)\n",
    "\n",
    "model.fit(train_and_valid_features, train_and_valid_target)\n",
    "predictions = model.predict(features_test)\n",
    "rmse = mean_squared_error(target_test, predictions, squared=False)\n",
    "print(rmse)"
   ]
  },
  {
   "cell_type": "markdown",
   "metadata": {},
   "source": [
    "**`LGBMRegressor`**"
   ]
  },
  {
   "cell_type": "code",
   "execution_count": 26,
   "metadata": {},
   "outputs": [
    {
     "name": "stdout",
     "output_type": "stream",
     "text": [
      "38.677634057317135\n"
     ]
    }
   ],
   "source": [
    "model = LGBMRegressor(learning_rate=0.1, max_depth=4, n_estimators=150, num_leaves=30, random_state=12345)\n",
    "\n",
    "model.fit(train_and_valid_features, train_and_valid_target)\n",
    "predictions = model.predict(features_test)\n",
    "rmse = mean_squared_error(target_test, predictions, squared=False)\n",
    "print(rmse)"
   ]
  },
  {
   "cell_type": "markdown",
   "metadata": {},
   "source": [
    "На тестовой выборке лучше себя показал `LGBMRegressor`, он и работает быстрее и точнее, чем `CatBoostRegressor`"
   ]
  },
  {
   "cell_type": "markdown",
   "metadata": {},
   "source": [
    "Чтобы проверить модель на адекватность используем `DummyRegressor`:"
   ]
  },
  {
   "cell_type": "code",
   "execution_count": 27,
   "metadata": {},
   "outputs": [
    {
     "name": "stdout",
     "output_type": "stream",
     "text": [
      "83.46819882591065\n"
     ]
    }
   ],
   "source": [
    "model = DummyRegressor()\n",
    "model.fit(train_and_valid_features, train_and_valid_target)\n",
    "\n",
    "fake_predictions = model.predict(features_test)\n",
    "rmse = mean_squared_error(target_test, fake_predictions, squared=False)\n",
    "print(rmse)"
   ]
  },
  {
   "cell_type": "markdown",
   "metadata": {},
   "source": [
    "У нашей модели результаты куда лучше, значит она адекватна."
   ]
  },
  {
   "cell_type": "markdown",
   "metadata": {},
   "source": [
    "Построим график исходных данных и предсказанных:"
   ]
  },
  {
   "cell_type": "code",
   "execution_count": 29,
   "metadata": {
    "scrolled": false
   },
   "outputs": [
    {
     "data": {
      "image/png": "[encoded data removed]",
      "text/plain": [
       "<Figure size 1080x576 with 1 Axes>"
      ]
     },
     "metadata": {
      "needs_background": "light"
     },
     "output_type": "display_data"
    }
   ],
   "source": [
    "predictions = pd.Series(predictions.tolist())\n",
    "predictions.index = target_test.index\n",
    "predictions = pd.Series(predictions, name='predicted_num_orders')\n",
    "data = pd.DataFrame(target_test).join([predictions]).plot(figsize=(15, 8))"
   ]
  },
  {
   "cell_type": "markdown",
   "metadata": {},
   "source": [
    "## Вывод:\n",
    "C параметрами `max_lag = 80` и `rolling_mean_size= 300` при формировании признаков для обучения:\n",
    "\n",
    "Лучшая модель: `LGBMRegressor` с гипперапараметрами: \n",
    "* `learning_rate=0.1, max_depth=4, n_estimators=150, num_leaves=30, random_state=12345` \n",
    "\n",
    "* метрика `rmse = 38,6`\n",
    "\n",
    "Судя по графику, наша модель может хорошо справляться в \"целом\", даже способна уловить некоторые аномальные значения. Но иногда все-таки промахивается. Стоит уделить отдельное внимание тем случаем, где модель ошиблась, возможно, это дни, когда произошло что-то такое, что ни одна машина не предскажет, и необходимо искать другие способы борьбы с нагрузкой в такие дни / часы."
   ]
  }
 ],
 "metadata": {
  "ExecuteTimeLog": [
   {
    "duration": 394,
    "start_time": "2022-07-07T09:01:55.822Z"
   },
   {
    "duration": 67,
    "start_time": "2022-07-07T09:02:18.858Z"
   },
   {
    "duration": 88,
    "start_time": "2022-07-07T09:02:38.752Z"
   },
   {
    "duration": 16,
    "start_time": "2022-07-07T09:02:41.951Z"
   },
   {
    "duration": 13,
    "start_time": "2022-07-07T09:02:54.393Z"
   },
   {
    "duration": 23,
    "start_time": "2022-07-07T09:03:15.578Z"
   },
   {
    "duration": 9,
    "start_time": "2022-07-07T09:06:15.861Z"
   },
   {
    "duration": 11,
    "start_time": "2022-07-07T09:06:21.897Z"
   },
   {
    "duration": 32,
    "start_time": "2022-07-07T09:07:45.519Z"
   },
   {
    "duration": 15,
    "start_time": "2022-07-07T09:07:45.994Z"
   },
   {
    "duration": 820,
    "start_time": "2022-07-07T09:07:47.385Z"
   },
   {
    "duration": 9,
    "start_time": "2022-07-07T09:08:37.498Z"
   },
   {
    "duration": 34,
    "start_time": "2022-07-07T09:08:57.691Z"
   },
   {
    "duration": 16,
    "start_time": "2022-07-07T09:08:58.331Z"
   },
   {
    "duration": 7,
    "start_time": "2022-07-07T09:09:18.923Z"
   },
   {
    "duration": 11,
    "start_time": "2022-07-07T09:09:22.666Z"
   },
   {
    "duration": 28,
    "start_time": "2022-07-07T09:09:39.882Z"
   },
   {
    "duration": 54,
    "start_time": "2022-07-07T09:10:08.782Z"
   },
   {
    "duration": 34,
    "start_time": "2022-07-07T09:13:53.726Z"
   },
   {
    "duration": 15,
    "start_time": "2022-07-07T09:13:54.281Z"
   },
   {
    "duration": 9,
    "start_time": "2022-07-07T09:18:47.662Z"
   },
   {
    "duration": 8,
    "start_time": "2022-07-07T09:18:50.972Z"
   },
   {
    "duration": 7,
    "start_time": "2022-07-07T09:19:31.000Z"
   },
   {
    "duration": 3,
    "start_time": "2022-07-07T09:19:33.192Z"
   },
   {
    "duration": 13,
    "start_time": "2022-07-07T09:21:20.351Z"
   },
   {
    "duration": 25,
    "start_time": "2022-07-07T09:23:08.346Z"
   },
   {
    "duration": 9,
    "start_time": "2022-07-07T09:26:09.214Z"
   },
   {
    "duration": 8,
    "start_time": "2022-07-07T09:26:13.563Z"
   },
   {
    "duration": 643,
    "start_time": "2022-07-07T09:27:38.397Z"
   },
   {
    "duration": 96,
    "start_time": "2022-07-07T09:29:00.755Z"
   },
   {
    "duration": 39,
    "start_time": "2022-07-07T09:30:27.192Z"
   },
   {
    "duration": 595,
    "start_time": "2022-07-07T09:30:43.260Z"
   },
   {
    "duration": 6,
    "start_time": "2022-07-07T09:34:14.531Z"
   },
   {
    "duration": 127,
    "start_time": "2022-07-07T09:34:31.054Z"
   },
   {
    "duration": 357,
    "start_time": "2022-07-07T09:34:38.761Z"
   },
   {
    "duration": 5,
    "start_time": "2022-07-07T09:34:49.064Z"
   },
   {
    "duration": 431,
    "start_time": "2022-07-07T09:34:49.402Z"
   },
   {
    "duration": 10,
    "start_time": "2022-07-07T09:35:05.824Z"
   },
   {
    "duration": 434,
    "start_time": "2022-07-07T09:35:06.889Z"
   },
   {
    "duration": 284,
    "start_time": "2022-07-07T09:53:41.083Z"
   },
   {
    "duration": 741,
    "start_time": "2022-07-07T09:56:27.322Z"
   },
   {
    "duration": 4,
    "start_time": "2022-07-07T10:00:46.436Z"
   },
   {
    "duration": 81,
    "start_time": "2022-07-07T10:06:33.517Z"
   },
   {
    "duration": 5,
    "start_time": "2022-07-07T10:06:40.323Z"
   },
   {
    "duration": 12,
    "start_time": "2022-07-07T10:06:43.951Z"
   },
   {
    "duration": 12,
    "start_time": "2022-07-07T10:06:48.040Z"
   },
   {
    "duration": 6,
    "start_time": "2022-07-07T10:08:59.997Z"
   },
   {
    "duration": 6,
    "start_time": "2022-07-07T10:09:19.666Z"
   },
   {
    "duration": 6,
    "start_time": "2022-07-07T10:09:25.655Z"
   },
   {
    "duration": 15,
    "start_time": "2022-07-07T10:15:33.663Z"
   },
   {
    "duration": 35,
    "start_time": "2022-07-07T10:15:56.885Z"
   },
   {
    "duration": 8,
    "start_time": "2022-07-07T10:16:52.783Z"
   },
   {
    "duration": 19,
    "start_time": "2022-07-07T10:17:00.302Z"
   },
   {
    "duration": 10,
    "start_time": "2022-07-07T10:17:09.588Z"
   },
   {
    "duration": 17,
    "start_time": "2022-07-07T10:17:13.311Z"
   },
   {
    "duration": 9,
    "start_time": "2022-07-07T10:17:15.912Z"
   },
   {
    "duration": 6,
    "start_time": "2022-07-07T10:17:30.479Z"
   },
   {
    "duration": 14,
    "start_time": "2022-07-07T10:17:52.895Z"
   },
   {
    "duration": 22,
    "start_time": "2022-07-07T10:18:21.860Z"
   },
   {
    "duration": 7,
    "start_time": "2022-07-07T10:21:01.391Z"
   },
   {
    "duration": 14,
    "start_time": "2022-07-07T10:22:21.280Z"
   },
   {
    "duration": 4,
    "start_time": "2022-07-07T10:25:41.061Z"
   },
   {
    "duration": 3,
    "start_time": "2022-07-07T10:27:34.880Z"
   },
   {
    "duration": 4,
    "start_time": "2022-07-07T10:29:39.472Z"
   },
   {
    "duration": 12,
    "start_time": "2022-07-07T10:29:40.640Z"
   },
   {
    "duration": 60,
    "start_time": "2022-07-07T10:30:02.368Z"
   },
   {
    "duration": 4,
    "start_time": "2022-07-07T10:31:35.817Z"
   },
   {
    "duration": 22044,
    "start_time": "2022-07-07T10:31:41.089Z"
   },
   {
    "duration": 27,
    "start_time": "2022-07-07T10:32:06.688Z"
   },
   {
    "duration": 4,
    "start_time": "2022-07-07T10:32:31.073Z"
   },
   {
    "duration": 4,
    "start_time": "2022-07-07T10:33:44.979Z"
   },
   {
    "duration": 4,
    "start_time": "2022-07-07T10:34:06.343Z"
   },
   {
    "duration": 4,
    "start_time": "2022-07-07T10:34:50.194Z"
   },
   {
    "duration": 81,
    "start_time": "2022-07-07T11:03:14.982Z"
   },
   {
    "duration": 20,
    "start_time": "2022-07-07T11:03:27.175Z"
   },
   {
    "duration": 6,
    "start_time": "2022-07-07T11:04:08.863Z"
   },
   {
    "duration": 65,
    "start_time": "2022-07-07T11:04:10.678Z"
   },
   {
    "duration": 60,
    "start_time": "2022-07-07T11:04:30.786Z"
   },
   {
    "duration": 8,
    "start_time": "2022-07-07T11:05:16.620Z"
   },
   {
    "duration": 78,
    "start_time": "2022-07-07T11:05:17.219Z"
   },
   {
    "duration": 5,
    "start_time": "2022-07-07T11:06:34.653Z"
   },
   {
    "duration": 68,
    "start_time": "2022-07-07T11:06:35.353Z"
   },
   {
    "duration": 49,
    "start_time": "2022-07-07T11:06:41.533Z"
   },
   {
    "duration": 15,
    "start_time": "2022-07-07T11:08:03.560Z"
   },
   {
    "duration": 14,
    "start_time": "2022-07-07T11:08:17.880Z"
   },
   {
    "duration": 10,
    "start_time": "2022-07-07T11:08:48.697Z"
   },
   {
    "duration": 21202,
    "start_time": "2022-07-07T11:08:49.226Z"
   },
   {
    "duration": 3,
    "start_time": "2022-07-07T11:09:47.729Z"
   },
   {
    "duration": 5,
    "start_time": "2022-07-07T11:09:48.088Z"
   },
   {
    "duration": 21,
    "start_time": "2022-07-07T11:09:48.972Z"
   },
   {
    "duration": 6,
    "start_time": "2022-07-07T11:10:00.923Z"
   },
   {
    "duration": 16678,
    "start_time": "2022-07-07T11:10:01.326Z"
   },
   {
    "duration": 6,
    "start_time": "2022-07-07T11:11:17.424Z"
   },
   {
    "duration": 6,
    "start_time": "2022-07-07T11:11:17.784Z"
   },
   {
    "duration": 16,
    "start_time": "2022-07-07T11:11:18.281Z"
   },
   {
    "duration": 5,
    "start_time": "2022-07-07T11:11:21.362Z"
   },
   {
    "duration": 63,
    "start_time": "2022-07-07T11:14:23.058Z"
   },
   {
    "duration": 4,
    "start_time": "2022-07-07T11:17:56.876Z"
   },
   {
    "duration": 5,
    "start_time": "2022-07-07T11:17:57.287Z"
   },
   {
    "duration": 18,
    "start_time": "2022-07-07T11:17:57.621Z"
   },
   {
    "duration": 5,
    "start_time": "2022-07-07T11:17:58.225Z"
   },
   {
    "duration": 46312,
    "start_time": "2022-07-07T11:18:53.410Z"
   },
   {
    "duration": 597,
    "start_time": "2022-07-07T11:19:39.726Z"
   },
   {
    "duration": 24,
    "start_time": "2022-07-07T11:19:40.329Z"
   },
   {
    "duration": 0,
    "start_time": "2022-07-07T11:19:40.355Z"
   },
   {
    "duration": 0,
    "start_time": "2022-07-07T11:19:40.356Z"
   },
   {
    "duration": 23,
    "start_time": "2022-07-07T11:20:59.101Z"
   },
   {
    "duration": 445238,
    "start_time": "2022-07-07T11:22:42.187Z"
   },
   {
    "duration": 15305,
    "start_time": "2022-07-07T11:30:07.428Z"
   },
   {
    "duration": 14,
    "start_time": "2022-07-07T11:30:22.735Z"
   },
   {
    "duration": 11,
    "start_time": "2022-07-07T11:33:06.103Z"
   },
   {
    "duration": 23,
    "start_time": "2022-07-07T11:33:12.190Z"
   },
   {
    "duration": 19,
    "start_time": "2022-07-07T11:33:22.522Z"
   },
   {
    "duration": 5,
    "start_time": "2022-07-07T11:33:33.375Z"
   },
   {
    "duration": 14,
    "start_time": "2022-07-07T11:35:32.079Z"
   },
   {
    "duration": 5,
    "start_time": "2022-07-07T11:35:36.191Z"
   },
   {
    "duration": 6,
    "start_time": "2022-07-07T11:38:13.792Z"
   },
   {
    "duration": 3050,
    "start_time": "2022-07-07T11:38:15.156Z"
   },
   {
    "duration": 1374,
    "start_time": "2022-07-07T11:41:35.520Z"
   },
   {
    "duration": 62,
    "start_time": "2022-07-07T11:41:36.895Z"
   },
   {
    "duration": 27,
    "start_time": "2022-07-07T11:41:36.958Z"
   },
   {
    "duration": 33,
    "start_time": "2022-07-07T11:41:36.987Z"
   },
   {
    "duration": 5,
    "start_time": "2022-07-07T11:41:37.023Z"
   },
   {
    "duration": 13,
    "start_time": "2022-07-07T11:41:37.029Z"
   },
   {
    "duration": 14,
    "start_time": "2022-07-07T11:41:37.044Z"
   },
   {
    "duration": 746,
    "start_time": "2022-07-07T11:41:37.060Z"
   },
   {
    "duration": 7,
    "start_time": "2022-07-07T11:41:37.808Z"
   },
   {
    "duration": 29,
    "start_time": "2022-07-07T11:41:37.817Z"
   },
   {
    "duration": 23,
    "start_time": "2022-07-07T11:41:37.848Z"
   },
   {
    "duration": 5,
    "start_time": "2022-07-07T11:41:37.874Z"
   },
   {
    "duration": 54391,
    "start_time": "2022-07-07T11:41:37.880Z"
   },
   {
    "duration": 560,
    "start_time": "2022-07-07T11:42:32.274Z"
   },
   {
    "duration": 455068,
    "start_time": "2022-07-07T11:42:32.836Z"
   },
   {
    "duration": 14559,
    "start_time": "2022-07-07T11:50:07.910Z"
   },
   {
    "duration": 15,
    "start_time": "2022-07-07T11:50:22.471Z"
   },
   {
    "duration": 176,
    "start_time": "2022-07-07T11:50:22.487Z"
   },
   {
    "duration": 0,
    "start_time": "2022-07-07T11:50:22.665Z"
   },
   {
    "duration": 0,
    "start_time": "2022-07-07T11:50:22.666Z"
   },
   {
    "duration": 11,
    "start_time": "2022-07-07T11:52:19.272Z"
   },
   {
    "duration": 295,
    "start_time": "2022-07-07T11:52:58.213Z"
   },
   {
    "duration": 17,
    "start_time": "2022-07-07T11:53:02.555Z"
   },
   {
    "duration": 5,
    "start_time": "2022-07-07T11:53:22.691Z"
   },
   {
    "duration": 5,
    "start_time": "2022-07-07T11:53:26.979Z"
   },
   {
    "duration": 1683,
    "start_time": "2022-07-07T11:53:27.426Z"
   },
   {
    "duration": 1369,
    "start_time": "2022-07-07T11:54:29.303Z"
   },
   {
    "duration": 61,
    "start_time": "2022-07-07T11:54:30.674Z"
   },
   {
    "duration": 27,
    "start_time": "2022-07-07T11:54:30.736Z"
   },
   {
    "duration": 47,
    "start_time": "2022-07-07T11:54:30.765Z"
   },
   {
    "duration": 6,
    "start_time": "2022-07-07T11:54:30.817Z"
   },
   {
    "duration": 65,
    "start_time": "2022-07-07T11:54:30.825Z"
   },
   {
    "duration": 40,
    "start_time": "2022-07-07T11:54:30.892Z"
   },
   {
    "duration": 790,
    "start_time": "2022-07-07T11:54:30.934Z"
   },
   {
    "duration": 4,
    "start_time": "2022-07-07T11:54:31.726Z"
   },
   {
    "duration": 29,
    "start_time": "2022-07-07T11:54:31.731Z"
   },
   {
    "duration": 35,
    "start_time": "2022-07-07T11:54:31.761Z"
   },
   {
    "duration": 27,
    "start_time": "2022-07-07T11:54:31.798Z"
   },
   {
    "duration": 3126,
    "start_time": "2022-07-07T11:54:31.827Z"
   },
   {
    "duration": 0,
    "start_time": "2022-07-07T11:54:34.955Z"
   },
   {
    "duration": 0,
    "start_time": "2022-07-07T11:54:34.956Z"
   },
   {
    "duration": 0,
    "start_time": "2022-07-07T11:54:34.957Z"
   },
   {
    "duration": 0,
    "start_time": "2022-07-07T11:54:34.959Z"
   },
   {
    "duration": 0,
    "start_time": "2022-07-07T11:54:34.960Z"
   },
   {
    "duration": 0,
    "start_time": "2022-07-07T11:54:34.961Z"
   },
   {
    "duration": 0,
    "start_time": "2022-07-07T11:54:34.962Z"
   },
   {
    "duration": 0,
    "start_time": "2022-07-07T11:54:34.964Z"
   },
   {
    "duration": 16,
    "start_time": "2022-07-07T11:54:40.479Z"
   },
   {
    "duration": 6,
    "start_time": "2022-07-07T11:54:41.511Z"
   },
   {
    "duration": 5277,
    "start_time": "2022-07-07T11:54:43.328Z"
   },
   {
    "duration": 4,
    "start_time": "2022-07-07T11:54:56.323Z"
   },
   {
    "duration": 20,
    "start_time": "2022-07-07T11:55:03.831Z"
   },
   {
    "duration": 5,
    "start_time": "2022-07-07T11:55:04.168Z"
   },
   {
    "duration": 859,
    "start_time": "2022-07-07T11:55:06.561Z"
   },
   {
    "duration": 4,
    "start_time": "2022-07-07T11:55:07.422Z"
   },
   {
    "duration": 4,
    "start_time": "2022-07-07T11:55:10.757Z"
   },
   {
    "duration": 14,
    "start_time": "2022-07-07T11:55:33.662Z"
   },
   {
    "duration": 5,
    "start_time": "2022-07-07T11:55:34.288Z"
   },
   {
    "duration": 97,
    "start_time": "2022-07-07T11:55:35.221Z"
   },
   {
    "duration": 4,
    "start_time": "2022-07-07T11:55:36.367Z"
   },
   {
    "duration": 18,
    "start_time": "2022-07-07T11:55:41.730Z"
   },
   {
    "duration": 5,
    "start_time": "2022-07-07T11:55:43.984Z"
   },
   {
    "duration": 192,
    "start_time": "2022-07-07T11:55:45.412Z"
   },
   {
    "duration": 7,
    "start_time": "2022-07-07T11:55:46.307Z"
   },
   {
    "duration": 17,
    "start_time": "2022-07-07T11:56:01.762Z"
   },
   {
    "duration": 5,
    "start_time": "2022-07-07T11:56:02.266Z"
   },
   {
    "duration": 126,
    "start_time": "2022-07-07T11:56:03.280Z"
   },
   {
    "duration": 4,
    "start_time": "2022-07-07T11:56:04.114Z"
   },
   {
    "duration": 1298,
    "start_time": "2022-07-07T11:56:12.466Z"
   },
   {
    "duration": 54,
    "start_time": "2022-07-07T11:56:13.766Z"
   },
   {
    "duration": 26,
    "start_time": "2022-07-07T11:56:13.822Z"
   },
   {
    "duration": 29,
    "start_time": "2022-07-07T11:56:13.849Z"
   },
   {
    "duration": 22,
    "start_time": "2022-07-07T11:56:13.880Z"
   },
   {
    "duration": 34,
    "start_time": "2022-07-07T11:56:13.906Z"
   },
   {
    "duration": 7,
    "start_time": "2022-07-07T11:56:13.942Z"
   },
   {
    "duration": 659,
    "start_time": "2022-07-07T11:56:13.950Z"
   },
   {
    "duration": 5,
    "start_time": "2022-07-07T11:56:14.612Z"
   },
   {
    "duration": 16,
    "start_time": "2022-07-07T11:56:14.619Z"
   },
   {
    "duration": 21,
    "start_time": "2022-07-07T11:56:14.636Z"
   },
   {
    "duration": 7,
    "start_time": "2022-07-07T11:56:14.658Z"
   },
   {
    "duration": 5548,
    "start_time": "2022-07-07T11:56:14.667Z"
   },
   {
    "duration": 82,
    "start_time": "2022-07-07T11:56:20.223Z"
   },
   {
    "duration": 49736,
    "start_time": "2022-07-07T11:56:20.308Z"
   },
   {
    "duration": 775,
    "start_time": "2022-07-07T11:57:10.046Z"
   },
   {
    "duration": 461502,
    "start_time": "2022-07-07T11:57:10.823Z"
   },
   {
    "duration": 16301,
    "start_time": "2022-07-07T12:04:52.327Z"
   },
   {
    "duration": 17,
    "start_time": "2022-07-07T12:05:08.630Z"
   },
   {
    "duration": 16,
    "start_time": "2022-07-07T12:05:08.649Z"
   },
   {
    "duration": 10,
    "start_time": "2022-07-07T12:05:08.667Z"
   },
   {
    "duration": 5230,
    "start_time": "2022-07-07T12:05:08.678Z"
   },
   {
    "duration": 1365,
    "start_time": "2022-07-07T12:07:26.116Z"
   },
   {
    "duration": 61,
    "start_time": "2022-07-07T12:07:27.483Z"
   },
   {
    "duration": 25,
    "start_time": "2022-07-07T12:07:27.549Z"
   },
   {
    "duration": 46,
    "start_time": "2022-07-07T12:07:27.576Z"
   },
   {
    "duration": 3,
    "start_time": "2022-07-07T12:07:27.624Z"
   },
   {
    "duration": 21,
    "start_time": "2022-07-07T12:07:27.629Z"
   },
   {
    "duration": 5,
    "start_time": "2022-07-07T12:07:27.652Z"
   },
   {
    "duration": 709,
    "start_time": "2022-07-07T12:07:27.659Z"
   },
   {
    "duration": 8,
    "start_time": "2022-07-07T12:07:28.403Z"
   },
   {
    "duration": 20,
    "start_time": "2022-07-07T12:07:28.412Z"
   },
   {
    "duration": 31,
    "start_time": "2022-07-07T12:07:28.434Z"
   },
   {
    "duration": 5,
    "start_time": "2022-07-07T12:07:28.467Z"
   },
   {
    "duration": 6044,
    "start_time": "2022-07-07T12:07:28.474Z"
   },
   {
    "duration": 4,
    "start_time": "2022-07-07T12:07:34.521Z"
   },
   {
    "duration": 81343,
    "start_time": "2022-07-07T12:07:34.527Z"
   },
   {
    "duration": 956,
    "start_time": "2022-07-07T12:08:55.872Z"
   },
   {
    "duration": 659388,
    "start_time": "2022-07-07T12:08:56.829Z"
   },
   {
    "duration": 24660,
    "start_time": "2022-07-07T12:19:56.222Z"
   },
   {
    "duration": 23,
    "start_time": "2022-07-07T12:20:20.884Z"
   },
   {
    "duration": 21,
    "start_time": "2022-07-07T12:20:20.908Z"
   },
   {
    "duration": 14,
    "start_time": "2022-07-07T12:20:20.931Z"
   },
   {
    "duration": 6862,
    "start_time": "2022-07-07T12:20:20.947Z"
   },
   {
    "duration": 7,
    "start_time": "2022-07-07T12:22:59.021Z"
   },
   {
    "duration": 4502,
    "start_time": "2022-07-07T12:23:26.952Z"
   },
   {
    "duration": 5411,
    "start_time": "2022-07-07T12:27:36.217Z"
   },
   {
    "duration": 175,
    "start_time": "2022-07-07T12:29:20.546Z"
   },
   {
    "duration": 4285,
    "start_time": "2022-07-07T12:29:25.530Z"
   },
   {
    "duration": 4134,
    "start_time": "2022-07-07T12:29:34.761Z"
   },
   {
    "duration": 4340,
    "start_time": "2022-07-07T12:29:43.577Z"
   },
   {
    "duration": 4306,
    "start_time": "2022-07-07T12:29:51.930Z"
   },
   {
    "duration": 4333,
    "start_time": "2022-07-07T12:29:58.954Z"
   },
   {
    "duration": 4114,
    "start_time": "2022-07-07T12:30:24.522Z"
   },
   {
    "duration": 4239,
    "start_time": "2022-07-07T12:30:34.633Z"
   },
   {
    "duration": 4032,
    "start_time": "2022-07-07T12:31:09.361Z"
   },
   {
    "duration": 19,
    "start_time": "2022-07-07T12:31:22.208Z"
   },
   {
    "duration": 5,
    "start_time": "2022-07-07T12:31:24.233Z"
   },
   {
    "duration": 5643,
    "start_time": "2022-07-07T12:31:25.182Z"
   },
   {
    "duration": 7,
    "start_time": "2022-07-07T12:31:30.906Z"
   },
   {
    "duration": 1410,
    "start_time": "2022-07-07T12:31:40.053Z"
   },
   {
    "duration": 64,
    "start_time": "2022-07-07T12:31:41.466Z"
   },
   {
    "duration": 28,
    "start_time": "2022-07-07T12:31:41.532Z"
   },
   {
    "duration": 41,
    "start_time": "2022-07-07T12:31:41.561Z"
   },
   {
    "duration": 16,
    "start_time": "2022-07-07T12:31:41.604Z"
   },
   {
    "duration": 14,
    "start_time": "2022-07-07T12:31:41.621Z"
   },
   {
    "duration": 8,
    "start_time": "2022-07-07T12:31:41.637Z"
   },
   {
    "duration": 711,
    "start_time": "2022-07-07T12:31:41.647Z"
   },
   {
    "duration": 4,
    "start_time": "2022-07-07T12:31:42.359Z"
   },
   {
    "duration": 40,
    "start_time": "2022-07-07T12:31:42.365Z"
   },
   {
    "duration": 26,
    "start_time": "2022-07-07T12:31:42.407Z"
   },
   {
    "duration": 5,
    "start_time": "2022-07-07T12:31:42.435Z"
   },
   {
    "duration": 6179,
    "start_time": "2022-07-07T12:31:42.442Z"
   },
   {
    "duration": 84,
    "start_time": "2022-07-07T12:31:48.625Z"
   },
   {
    "duration": 81450,
    "start_time": "2022-07-07T12:31:48.711Z"
   },
   {
    "duration": 876,
    "start_time": "2022-07-07T12:33:10.163Z"
   },
   {
    "duration": 583865,
    "start_time": "2022-07-07T12:33:11.040Z"
   },
   {
    "duration": 22024,
    "start_time": "2022-07-07T12:42:54.907Z"
   },
   {
    "duration": 15,
    "start_time": "2022-07-07T12:43:16.933Z"
   },
   {
    "duration": 9,
    "start_time": "2022-07-07T12:43:16.949Z"
   },
   {
    "duration": 13,
    "start_time": "2022-07-07T12:43:16.959Z"
   },
   {
    "duration": 3489,
    "start_time": "2022-07-07T12:43:16.974Z"
   },
   {
    "duration": 6,
    "start_time": "2022-07-07T12:45:30.525Z"
   },
   {
    "duration": 3729,
    "start_time": "2022-07-07T12:45:31.088Z"
   },
   {
    "duration": 6910,
    "start_time": "2022-07-07T12:48:13.598Z"
   },
   {
    "duration": 17727,
    "start_time": "2022-07-07T12:48:25.581Z"
   },
   {
    "duration": 508793,
    "start_time": "2022-07-07T12:54:01.870Z"
   },
   {
    "duration": 1436,
    "start_time": "2022-07-07T13:02:52.574Z"
   },
   {
    "duration": 51,
    "start_time": "2022-07-07T13:02:54.012Z"
   },
   {
    "duration": 25,
    "start_time": "2022-07-07T13:02:54.065Z"
   },
   {
    "duration": 26,
    "start_time": "2022-07-07T13:02:54.092Z"
   },
   {
    "duration": 4,
    "start_time": "2022-07-07T13:02:54.119Z"
   },
   {
    "duration": 15,
    "start_time": "2022-07-07T13:02:54.125Z"
   },
   {
    "duration": 13,
    "start_time": "2022-07-07T13:02:54.142Z"
   },
   {
    "duration": 609,
    "start_time": "2022-07-07T13:02:54.156Z"
   },
   {
    "duration": 34,
    "start_time": "2022-07-07T13:02:54.767Z"
   },
   {
    "duration": 28,
    "start_time": "2022-07-07T13:02:54.803Z"
   },
   {
    "duration": 32,
    "start_time": "2022-07-07T13:02:54.833Z"
   },
   {
    "duration": 5,
    "start_time": "2022-07-07T13:02:54.867Z"
   },
   {
    "duration": 5839,
    "start_time": "2022-07-07T13:02:54.874Z"
   },
   {
    "duration": 86,
    "start_time": "2022-07-07T13:03:00.716Z"
   },
   {
    "duration": 80471,
    "start_time": "2022-07-07T13:03:00.804Z"
   },
   {
    "duration": 947,
    "start_time": "2022-07-07T13:04:21.277Z"
   },
   {
    "duration": 249211,
    "start_time": "2022-07-07T13:04:22.225Z"
   },
   {
    "duration": 0,
    "start_time": "2022-07-07T13:08:31.438Z"
   },
   {
    "duration": 0,
    "start_time": "2022-07-07T13:08:31.440Z"
   },
   {
    "duration": 0,
    "start_time": "2022-07-07T13:08:31.441Z"
   },
   {
    "duration": 0,
    "start_time": "2022-07-07T13:08:31.443Z"
   },
   {
    "duration": 0,
    "start_time": "2022-07-07T13:08:31.445Z"
   },
   {
    "duration": 1484,
    "start_time": "2022-07-07T13:08:44.785Z"
   },
   {
    "duration": 52,
    "start_time": "2022-07-07T13:08:46.271Z"
   },
   {
    "duration": 26,
    "start_time": "2022-07-07T13:08:46.325Z"
   },
   {
    "duration": 25,
    "start_time": "2022-07-07T13:08:46.353Z"
   },
   {
    "duration": 4,
    "start_time": "2022-07-07T13:08:46.401Z"
   },
   {
    "duration": 21,
    "start_time": "2022-07-07T13:08:46.406Z"
   },
   {
    "duration": 18,
    "start_time": "2022-07-07T13:08:46.428Z"
   },
   {
    "duration": 682,
    "start_time": "2022-07-07T13:08:46.448Z"
   },
   {
    "duration": 4,
    "start_time": "2022-07-07T13:08:47.132Z"
   },
   {
    "duration": 28,
    "start_time": "2022-07-07T13:08:47.138Z"
   },
   {
    "duration": 46,
    "start_time": "2022-07-07T13:08:47.169Z"
   },
   {
    "duration": 6,
    "start_time": "2022-07-07T13:08:47.216Z"
   },
   {
    "duration": 5509,
    "start_time": "2022-07-07T13:08:47.224Z"
   },
   {
    "duration": 95,
    "start_time": "2022-07-07T13:08:52.808Z"
   },
   {
    "duration": 80784,
    "start_time": "2022-07-07T13:08:52.905Z"
   },
   {
    "duration": 950,
    "start_time": "2022-07-07T13:10:13.690Z"
   },
   {
    "duration": 589765,
    "start_time": "2022-07-07T13:10:14.642Z"
   },
   {
    "duration": 3595726,
    "start_time": "2022-07-07T13:20:04.409Z"
   },
   {
    "duration": 0,
    "start_time": "2022-07-07T14:20:00.136Z"
   },
   {
    "duration": 0,
    "start_time": "2022-07-07T14:20:00.138Z"
   },
   {
    "duration": 0,
    "start_time": "2022-07-07T14:20:00.139Z"
   },
   {
    "duration": 0,
    "start_time": "2022-07-07T14:20:00.140Z"
   },
   {
    "duration": 1377,
    "start_time": "2022-07-11T11:40:05.670Z"
   },
   {
    "duration": 123,
    "start_time": "2022-07-11T11:40:07.049Z"
   },
   {
    "duration": 32,
    "start_time": "2022-07-11T11:40:07.173Z"
   },
   {
    "duration": 18,
    "start_time": "2022-07-11T11:40:07.208Z"
   },
   {
    "duration": 5,
    "start_time": "2022-07-11T11:40:07.228Z"
   },
   {
    "duration": 16,
    "start_time": "2022-07-11T11:40:07.234Z"
   },
   {
    "duration": 8,
    "start_time": "2022-07-11T11:40:07.252Z"
   },
   {
    "duration": 5,
    "start_time": "2022-07-11T11:40:07.262Z"
   },
   {
    "duration": 747,
    "start_time": "2022-07-11T11:40:07.268Z"
   },
   {
    "duration": 167,
    "start_time": "2022-07-11T11:40:08.017Z"
   },
   {
    "duration": 72,
    "start_time": "2022-07-11T11:40:08.186Z"
   },
   {
    "duration": 3,
    "start_time": "2022-07-11T11:40:08.260Z"
   },
   {
    "duration": 14,
    "start_time": "2022-07-11T11:40:08.265Z"
   },
   {
    "duration": 78,
    "start_time": "2022-07-11T11:40:08.280Z"
   },
   {
    "duration": 5,
    "start_time": "2022-07-11T11:40:08.360Z"
   },
   {
    "duration": 6052,
    "start_time": "2022-07-11T11:40:08.366Z"
   },
   {
    "duration": 381913,
    "start_time": "2022-07-11T11:40:14.420Z"
   },
   {
    "duration": 2979,
    "start_time": "2022-07-11T11:46:36.335Z"
   },
   {
    "duration": 1040971,
    "start_time": "2022-07-11T11:46:39.315Z"
   },
   {
    "duration": 9828,
    "start_time": "2022-07-11T12:04:00.288Z"
   },
   {
    "duration": 16,
    "start_time": "2022-07-11T12:04:10.118Z"
   },
   {
    "duration": 31,
    "start_time": "2022-07-11T12:04:10.135Z"
   },
   {
    "duration": 20,
    "start_time": "2022-07-11T12:04:10.168Z"
   },
   {
    "duration": 15703,
    "start_time": "2022-07-11T12:04:10.190Z"
   },
   {
    "duration": 0,
    "start_time": "2022-07-11T12:04:25.895Z"
   },
   {
    "duration": 0,
    "start_time": "2022-07-11T12:04:25.897Z"
   },
   {
    "duration": 0,
    "start_time": "2022-07-11T12:04:25.898Z"
   },
   {
    "duration": 10,
    "start_time": "2022-07-11T12:05:49.079Z"
   },
   {
    "duration": 35,
    "start_time": "2022-07-11T12:05:55.602Z"
   },
   {
    "duration": 28,
    "start_time": "2022-07-11T12:06:01.943Z"
   },
   {
    "duration": 4,
    "start_time": "2022-07-11T12:06:12.802Z"
   },
   {
    "duration": 47,
    "start_time": "2022-07-11T12:06:13.096Z"
   },
   {
    "duration": 25,
    "start_time": "2022-07-11T12:06:13.330Z"
   },
   {
    "duration": 15,
    "start_time": "2022-07-11T12:06:13.474Z"
   },
   {
    "duration": 4,
    "start_time": "2022-07-11T12:06:13.746Z"
   },
   {
    "duration": 12,
    "start_time": "2022-07-11T12:06:13.890Z"
   },
   {
    "duration": 7,
    "start_time": "2022-07-11T12:06:14.770Z"
   },
   {
    "duration": 8,
    "start_time": "2022-07-11T12:06:26.034Z"
   },
   {
    "duration": 13,
    "start_time": "2022-07-11T12:07:26.818Z"
   },
   {
    "duration": 298,
    "start_time": "2022-07-11T12:07:43.010Z"
   },
   {
    "duration": 814,
    "start_time": "2022-07-11T12:07:47.810Z"
   },
   {
    "duration": 197,
    "start_time": "2022-07-11T12:17:05.739Z"
   },
   {
    "duration": 168,
    "start_time": "2022-07-11T12:17:21.441Z"
   },
   {
    "duration": 4,
    "start_time": "2022-07-11T12:22:14.243Z"
   },
   {
    "duration": 208,
    "start_time": "2022-07-11T12:22:16.785Z"
   },
   {
    "duration": 6,
    "start_time": "2022-07-11T12:22:23.713Z"
   },
   {
    "duration": 241,
    "start_time": "2022-07-11T12:22:24.238Z"
   },
   {
    "duration": 19,
    "start_time": "2022-07-11T12:22:43.035Z"
   },
   {
    "duration": 227,
    "start_time": "2022-07-11T12:22:58.401Z"
   },
   {
    "duration": 273,
    "start_time": "2022-07-11T12:23:16.236Z"
   },
   {
    "duration": 191,
    "start_time": "2022-07-11T12:23:21.601Z"
   },
   {
    "duration": 125,
    "start_time": "2022-07-11T12:23:55.345Z"
   },
   {
    "duration": 139,
    "start_time": "2022-07-11T12:24:08.593Z"
   },
   {
    "duration": 136,
    "start_time": "2022-07-11T12:24:12.980Z"
   },
   {
    "duration": 139,
    "start_time": "2022-07-11T12:24:15.809Z"
   },
   {
    "duration": 138,
    "start_time": "2022-07-11T12:24:28.177Z"
   },
   {
    "duration": 137,
    "start_time": "2022-07-11T12:25:01.057Z"
   },
   {
    "duration": 144,
    "start_time": "2022-07-11T12:25:34.993Z"
   },
   {
    "duration": 211,
    "start_time": "2022-07-11T12:25:39.649Z"
   },
   {
    "duration": 138,
    "start_time": "2022-07-11T12:25:43.028Z"
   },
   {
    "duration": 136,
    "start_time": "2022-07-11T12:25:53.473Z"
   },
   {
    "duration": 139,
    "start_time": "2022-07-11T12:25:58.610Z"
   },
   {
    "duration": 15,
    "start_time": "2022-07-11T12:26:54.943Z"
   },
   {
    "duration": 15,
    "start_time": "2022-07-11T12:27:06.801Z"
   },
   {
    "duration": 4,
    "start_time": "2022-07-11T12:27:13.252Z"
   },
   {
    "duration": 18,
    "start_time": "2022-07-11T12:27:15.553Z"
   },
   {
    "duration": 13,
    "start_time": "2022-07-11T12:27:21.105Z"
   },
   {
    "duration": 136,
    "start_time": "2022-07-11T12:27:24.947Z"
   },
   {
    "duration": 134,
    "start_time": "2022-07-11T12:31:54.690Z"
   },
   {
    "duration": 122,
    "start_time": "2022-07-11T12:32:19.889Z"
   },
   {
    "duration": 140,
    "start_time": "2022-07-11T12:33:03.873Z"
   },
   {
    "duration": 190,
    "start_time": "2022-07-11T12:33:49.828Z"
   },
   {
    "duration": 263,
    "start_time": "2022-07-11T12:33:57.984Z"
   },
   {
    "duration": 13,
    "start_time": "2022-07-11T12:36:00.160Z"
   },
   {
    "duration": 38014,
    "start_time": "2022-07-11T12:36:45.970Z"
   },
   {
    "duration": 140,
    "start_time": "2022-07-11T12:37:37.569Z"
   },
   {
    "duration": 0,
    "start_time": "2022-07-11T12:41:05.146Z"
   },
   {
    "duration": 12,
    "start_time": "2022-07-11T12:41:06.911Z"
   },
   {
    "duration": 56218,
    "start_time": "2022-07-11T12:41:27.568Z"
   },
   {
    "duration": 6,
    "start_time": "2022-07-11T12:42:31.450Z"
   },
   {
    "duration": 43,
    "start_time": "2022-07-11T12:43:09.885Z"
   },
   {
    "duration": 187,
    "start_time": "2022-07-11T12:46:03.696Z"
   },
   {
    "duration": 183,
    "start_time": "2022-07-11T12:46:51.184Z"
   },
   {
    "duration": 186,
    "start_time": "2022-07-11T12:46:54.943Z"
   },
   {
    "duration": 214,
    "start_time": "2022-07-11T12:46:59.951Z"
   },
   {
    "duration": 18,
    "start_time": "2022-07-11T12:48:00.896Z"
   },
   {
    "duration": 186,
    "start_time": "2022-07-11T12:49:06.319Z"
   },
   {
    "duration": 211,
    "start_time": "2022-07-11T12:49:30.937Z"
   },
   {
    "duration": 174,
    "start_time": "2022-07-11T12:49:37.311Z"
   },
   {
    "duration": 96,
    "start_time": "2022-07-11T12:50:10.435Z"
   },
   {
    "duration": 192,
    "start_time": "2022-07-11T12:50:17.332Z"
   },
   {
    "duration": 51,
    "start_time": "2022-07-11T12:51:02.991Z"
   },
   {
    "duration": 79,
    "start_time": "2022-07-11T12:51:05.739Z"
   },
   {
    "duration": 197,
    "start_time": "2022-07-11T12:51:26.591Z"
   },
   {
    "duration": 234,
    "start_time": "2022-07-11T12:52:43.056Z"
   },
   {
    "duration": 13,
    "start_time": "2022-07-11T12:53:29.472Z"
   },
   {
    "duration": 243,
    "start_time": "2022-07-11T12:53:55.120Z"
   },
   {
    "duration": 250,
    "start_time": "2022-07-11T12:54:02.480Z"
   },
   {
    "duration": 4,
    "start_time": "2022-07-11T12:56:29.632Z"
   },
   {
    "duration": 6,
    "start_time": "2022-07-11T12:56:32.111Z"
   },
   {
    "duration": 280,
    "start_time": "2022-07-11T12:56:50.135Z"
   },
   {
    "duration": 226,
    "start_time": "2022-07-11T13:01:49.280Z"
   },
   {
    "duration": 233,
    "start_time": "2022-07-11T13:02:40.287Z"
   },
   {
    "duration": 234,
    "start_time": "2022-07-11T13:03:15.442Z"
   },
   {
    "duration": 324,
    "start_time": "2022-07-11T13:04:41.072Z"
   },
   {
    "duration": 198,
    "start_time": "2022-07-11T13:04:45.200Z"
   },
   {
    "duration": 17,
    "start_time": "2022-07-11T13:04:49.041Z"
   },
   {
    "duration": 16,
    "start_time": "2022-07-11T13:04:51.777Z"
   },
   {
    "duration": 186,
    "start_time": "2022-07-11T13:04:56.634Z"
   },
   {
    "duration": 353,
    "start_time": "2022-07-11T13:06:50.400Z"
   },
   {
    "duration": 334,
    "start_time": "2022-07-11T13:06:53.425Z"
   },
   {
    "duration": 468,
    "start_time": "2022-07-11T13:07:01.120Z"
   },
   {
    "duration": 4,
    "start_time": "2022-07-11T13:09:04.929Z"
   },
   {
    "duration": 4,
    "start_time": "2022-07-11T13:11:04.114Z"
   },
   {
    "duration": 5,
    "start_time": "2022-07-11T13:16:28.096Z"
   },
   {
    "duration": 6391,
    "start_time": "2022-07-11T13:16:31.328Z"
   },
   {
    "duration": 15,
    "start_time": "2022-07-11T13:16:45.014Z"
   },
   {
    "duration": 1514,
    "start_time": "2022-07-11T13:16:54.348Z"
   },
   {
    "duration": 48,
    "start_time": "2022-07-11T13:16:55.864Z"
   },
   {
    "duration": 25,
    "start_time": "2022-07-11T13:16:55.914Z"
   },
   {
    "duration": 13,
    "start_time": "2022-07-11T13:16:55.941Z"
   },
   {
    "duration": 4,
    "start_time": "2022-07-11T13:16:55.956Z"
   },
   {
    "duration": 21,
    "start_time": "2022-07-11T13:16:55.961Z"
   },
   {
    "duration": 28,
    "start_time": "2022-07-11T13:16:55.984Z"
   },
   {
    "duration": 118,
    "start_time": "2022-07-11T13:16:56.014Z"
   },
   {
    "duration": 0,
    "start_time": "2022-07-11T13:16:56.134Z"
   },
   {
    "duration": 0,
    "start_time": "2022-07-11T13:16:56.135Z"
   },
   {
    "duration": 0,
    "start_time": "2022-07-11T13:16:56.136Z"
   },
   {
    "duration": 0,
    "start_time": "2022-07-11T13:16:56.137Z"
   },
   {
    "duration": 0,
    "start_time": "2022-07-11T13:16:56.138Z"
   },
   {
    "duration": 0,
    "start_time": "2022-07-11T13:16:56.139Z"
   },
   {
    "duration": 0,
    "start_time": "2022-07-11T13:16:56.140Z"
   },
   {
    "duration": 0,
    "start_time": "2022-07-11T13:16:56.142Z"
   },
   {
    "duration": 0,
    "start_time": "2022-07-11T13:16:56.143Z"
   },
   {
    "duration": 0,
    "start_time": "2022-07-11T13:16:56.144Z"
   },
   {
    "duration": 0,
    "start_time": "2022-07-11T13:16:56.145Z"
   },
   {
    "duration": 0,
    "start_time": "2022-07-11T13:16:56.146Z"
   },
   {
    "duration": 0,
    "start_time": "2022-07-11T13:16:56.147Z"
   },
   {
    "duration": 0,
    "start_time": "2022-07-11T13:16:56.148Z"
   },
   {
    "duration": 0,
    "start_time": "2022-07-11T13:16:56.148Z"
   },
   {
    "duration": 0,
    "start_time": "2022-07-11T13:16:56.149Z"
   },
   {
    "duration": 0,
    "start_time": "2022-07-11T13:16:56.150Z"
   },
   {
    "duration": 1,
    "start_time": "2022-07-11T13:16:56.151Z"
   },
   {
    "duration": 0,
    "start_time": "2022-07-11T13:16:56.152Z"
   },
   {
    "duration": 12,
    "start_time": "2022-07-11T13:17:42.880Z"
   },
   {
    "duration": 11,
    "start_time": "2022-07-11T13:18:12.160Z"
   },
   {
    "duration": 4,
    "start_time": "2022-07-11T13:18:22.223Z"
   },
   {
    "duration": 45,
    "start_time": "2022-07-11T13:18:22.544Z"
   },
   {
    "duration": 26,
    "start_time": "2022-07-11T13:18:22.846Z"
   },
   {
    "duration": 17,
    "start_time": "2022-07-11T13:18:23.009Z"
   },
   {
    "duration": 4,
    "start_time": "2022-07-11T13:18:23.870Z"
   },
   {
    "duration": 12,
    "start_time": "2022-07-11T13:18:24.207Z"
   },
   {
    "duration": 7,
    "start_time": "2022-07-11T13:18:25.790Z"
   },
   {
    "duration": 7,
    "start_time": "2022-07-11T13:18:26.190Z"
   },
   {
    "duration": 1489,
    "start_time": "2022-07-11T13:20:48.600Z"
   },
   {
    "duration": 57,
    "start_time": "2022-07-11T13:20:50.092Z"
   },
   {
    "duration": 27,
    "start_time": "2022-07-11T13:20:50.151Z"
   },
   {
    "duration": 30,
    "start_time": "2022-07-11T13:20:50.180Z"
   },
   {
    "duration": 5,
    "start_time": "2022-07-11T13:20:50.211Z"
   },
   {
    "duration": 18,
    "start_time": "2022-07-11T13:20:50.218Z"
   },
   {
    "duration": 13,
    "start_time": "2022-07-11T13:20:50.238Z"
   },
   {
    "duration": 6,
    "start_time": "2022-07-11T13:20:50.252Z"
   },
   {
    "duration": 307,
    "start_time": "2022-07-11T13:20:50.259Z"
   },
   {
    "duration": 591,
    "start_time": "2022-07-11T13:20:50.569Z"
   },
   {
    "duration": 143,
    "start_time": "2022-07-11T13:20:51.162Z"
   },
   {
    "duration": 343,
    "start_time": "2022-07-11T13:20:51.307Z"
   },
   {
    "duration": 5,
    "start_time": "2022-07-11T13:20:51.652Z"
   },
   {
    "duration": 18,
    "start_time": "2022-07-11T13:20:51.658Z"
   },
   {
    "duration": 91,
    "start_time": "2022-07-11T13:20:51.678Z"
   },
   {
    "duration": 5,
    "start_time": "2022-07-11T13:20:51.771Z"
   },
   {
    "duration": 5932,
    "start_time": "2022-07-11T13:20:51.778Z"
   },
   {
    "duration": 250819,
    "start_time": "2022-07-11T13:20:57.719Z"
   },
   {
    "duration": 2202,
    "start_time": "2022-07-11T13:25:08.539Z"
   }
  ],
  "kernelspec": {
   "display_name": "Python 3 (ipykernel)",
   "language": "python",
   "name": "python3"
  },
  "language_info": {
   "codemirror_mode": {
    "name": "ipython",
    "version": 3
   },
   "file_extension": ".py",
   "mimetype": "text/x-python",
   "name": "python",
   "nbconvert_exporter": "python",
   "pygments_lexer": "ipython3",
   "version": "3.9.7"
  },
  "toc": {
   "base_numbering": 1,
   "nav_menu": {
    "height": "290px",
    "width": "286px"
   },
   "number_sections": true,
   "sideBar": true,
   "skip_h1_title": true,
   "title_cell": "Содержание",
   "title_sidebar": "Contents",
   "toc_cell": true,
   "toc_position": {
    "height": "calc(100% - 180px)",
    "left": "10px",
    "top": "150px",
    "width": "384px"
   },
   "toc_section_display": true,
   "toc_window_display": true
  }
 },
 "nbformat": 4,
 "nbformat_minor": 2
}

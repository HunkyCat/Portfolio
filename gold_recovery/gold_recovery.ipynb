{
 "cells": [
  {
   "cell_type": "markdown",
   "metadata": {
    "toc": true
   },
   "source": [
    "<h1>Содержание<span class=\"tocSkip\"></span></h1>\n",
    "<div class=\"toc\"><ul class=\"toc-item\"><li><ul class=\"toc-item\"><li><span><a href=\"#Постановка-задачи\" data-toc-modified-id=\"Постановка-задачи-0.1\"><span class=\"toc-item-num\">0.1&nbsp;&nbsp;</span>Постановка задачи</a></span></li><li><span><a href=\"#Данные\" data-toc-modified-id=\"Данные-0.2\"><span class=\"toc-item-num\">0.2&nbsp;&nbsp;</span>Данные</a></span></li><li><span><a href=\"#Наименование-признаков\" data-toc-modified-id=\"Наименование-признаков-0.3\"><span class=\"toc-item-num\">0.3&nbsp;&nbsp;</span>Наименование признаков</a></span></li><li><span><a href=\"#План-работы\" data-toc-modified-id=\"План-работы-0.4\"><span class=\"toc-item-num\">0.4&nbsp;&nbsp;</span>План работы</a></span></li><li><span><a href=\"#Формулы\" data-toc-modified-id=\"Формулы-0.5\"><span class=\"toc-item-num\">0.5&nbsp;&nbsp;</span>Формулы</a></span></li></ul></li><li><span><a href=\"#Подготовка-данных\" data-toc-modified-id=\"Подготовка-данных-1\"><span class=\"toc-item-num\">1&nbsp;&nbsp;</span>Подготовка данных</a></span><ul class=\"toc-item\"><li><span><a href=\"#Эффективность-обогащения\" data-toc-modified-id=\"Эффективность-обогащения-1.1\"><span class=\"toc-item-num\">1.1&nbsp;&nbsp;</span>Эффективность обогащения</a></span></li><li><span><a href=\"#Найдем-столбцы-которых-нет-в-тестовой-выборке:\" data-toc-modified-id=\"Найдем-столбцы-которых-нет-в-тестовой-выборке:-1.2\"><span class=\"toc-item-num\">1.2&nbsp;&nbsp;</span>Найдем столбцы которых нет в тестовой выборке:</a></span></li><li><span><a href=\"#Предобработка\" data-toc-modified-id=\"Предобработка-1.3\"><span class=\"toc-item-num\">1.3&nbsp;&nbsp;</span>Предобработка</a></span></li><li><span><a href=\"#Вывод:\" data-toc-modified-id=\"Вывод:-1.4\"><span class=\"toc-item-num\">1.4&nbsp;&nbsp;</span>Вывод:</a></span></li></ul></li><li><span><a href=\"#Анализ-данных\" data-toc-modified-id=\"Анализ-данных-2\"><span class=\"toc-item-num\">2&nbsp;&nbsp;</span>Анализ данных</a></span><ul class=\"toc-item\"><li><span><a href=\"#Концентрация-металов-на-каждом-этапе-очистки:\" data-toc-modified-id=\"Концентрация-металов-на-каждом-этапе-очистки:-2.1\"><span class=\"toc-item-num\">2.1&nbsp;&nbsp;</span>Концентрация металов на каждом этапе очистки:</a></span><ul class=\"toc-item\"><li><span><a href=\"#Серебро-(ag)\" data-toc-modified-id=\"Серебро-(ag)-2.1.1\"><span class=\"toc-item-num\">2.1.1&nbsp;&nbsp;</span>Серебро (ag)</a></span></li><li><span><a href=\"#Свинец-(pb)\" data-toc-modified-id=\"Свинец-(pb)-2.1.2\"><span class=\"toc-item-num\">2.1.2&nbsp;&nbsp;</span>Свинец (pb)</a></span></li><li><span><a href=\"#Золото-(au)\" data-toc-modified-id=\"Золото-(au)-2.1.3\"><span class=\"toc-item-num\">2.1.3&nbsp;&nbsp;</span>Золото (au)</a></span></li></ul></li><li><span><a href=\"#Сравним-распределение-размеров-гранул-сырья-на-тестовой-и-обучающей-выборке:\" data-toc-modified-id=\"Сравним-распределение-размеров-гранул-сырья-на-тестовой-и-обучающей-выборке:-2.2\"><span class=\"toc-item-num\">2.2&nbsp;&nbsp;</span>Сравним распределение размеров гранул сырья на тестовой и обучающей выборке:</a></span><ul class=\"toc-item\"><li><span><a href=\"#Этап-флотации:\" data-toc-modified-id=\"Этап-флотации:-2.2.1\"><span class=\"toc-item-num\">2.2.1&nbsp;&nbsp;</span>Этап флотации:</a></span></li><li><span><a href=\"#Первичный-этап-очистки:\" data-toc-modified-id=\"Первичный-этап-очистки:-2.2.2\"><span class=\"toc-item-num\">2.2.2&nbsp;&nbsp;</span>Первичный этап очистки:</a></span></li></ul></li><li><span><a href=\"#Cуммарная-концентрация-всех-веществ-на-разных-стадиях:\" data-toc-modified-id=\"Cуммарная-концентрация-всех-веществ-на-разных-стадиях:-2.3\"><span class=\"toc-item-num\">2.3&nbsp;&nbsp;</span>Cуммарная концентрация всех веществ на разных стадиях:</a></span></li><li><span><a href=\"#Вывод:\" data-toc-modified-id=\"Вывод:-2.4\"><span class=\"toc-item-num\">2.4&nbsp;&nbsp;</span>Вывод:</a></span></li></ul></li><li><span><a href=\"#Модель\" data-toc-modified-id=\"Модель-3\"><span class=\"toc-item-num\">3&nbsp;&nbsp;</span>Модель</a></span><ul class=\"toc-item\"><li><span><a href=\"#Взглянем-на-результаты:\" data-toc-modified-id=\"Взглянем-на-результаты:-3.1\"><span class=\"toc-item-num\">3.1&nbsp;&nbsp;</span>Взглянем на результаты:</a></span></li></ul></li><li><span><a href=\"#Выводы:\" data-toc-modified-id=\"Выводы:-4\"><span class=\"toc-item-num\">4&nbsp;&nbsp;</span>Выводы:</a></span></li></ul></div>"
   ]
  },
  {
   "cell_type": "markdown",
   "metadata": {},
   "source": [
    "# Улучшение процесса обогащения золота\n",
    "### Постановка задачи\n",
    "\n",
    "Заказчиком является инжиниринговая компания, которая разрабатывает решения для эффективной работы промышленных предприятий.\n",
    "\n",
    "Требуется подготовить прототип модели машинного обучения, которая должна предсказать коэффициент восстановления золота из золотосодержащей руды. Модель поможет оптимизировать производство, чтобы не запускать предприятие с убыточными характеристиками.\n",
    "\n",
    "### Данные\n",
    "В нашем распоряжении имеются данные с параметрами добычи и очистки. \n",
    "\n",
    "Данные находятся в трёх файлах:\n",
    "- **gold_recovery_train.csv** — обучающая выборка;\n",
    "- **gold_recovery_test.csv** — тестовая выборка;\n",
    "- **gold_recovery_full.csv** — исходные данные.\n",
    "\n",
    "Данные индексируются датой и временем получения информации (признак date).Некоторые параметры недоступны, потому что замеряются и/или рассчитываются значительно позже. Из-за этого в тестовой выборке отсутствуют некоторые признаки, которые могут быть в обучающей. Также в тестовом наборе нет целевых признаков.\n",
    "Исходный датасет содержит обучающую и тестовую выборки со всеми признаками.\n",
    "\n",
    "\n",
    "### Наименование признаков\n",
    "Наименование признаков строится по следующему правилу:\n",
    "\n",
    "`[этап].[тип_параметра].[название_параметра]`\n",
    "    \n",
    "\n",
    "Пример: `rougher.input.feed_ag`\n",
    "\n",
    "Возможные значения для блока `[этап]`:\n",
    "- **rougher** — флотация\n",
    "- **primary_cleaner** — первичная очистка\n",
    "- **secondary_cleaner** — вторичная очистка\n",
    "- **final** — финальные характеристики\n",
    "\n",
    "Возможные значения для блока `[тип_параметра]`:\n",
    "- **input** — параметры сырья\n",
    "- **output** — параметры продукта\n",
    "- **state** — параметры, характеризующие текущее состояние этапа\n",
    "- **calculation** — расчётные характеристики\n",
    "\n",
    "### План работы\n",
    "\n",
    "1. Подготовка данных\n",
    "    * Открыть и изучить файлы. \n",
    "    * Провести предобработку данных. Убрать или заменить пропуски, привести данные к нужным типам.\n",
    "    * Проверить, что эффективность обогащения рассчитана правильно. Вычислить её на обучающей выборке для признака               `rougher.output.recovery`. Найти MAE между расчитанным и имеющимся значением признака.\n",
    "    * Проанализировать признаки, недоступные в тестовой выборке.\n",
    "\n",
    "\n",
    "2. Проанализировать данные\n",
    "    * Изучить, как меняется концентрация металлов (Au, Ag, Pb) на различных этапах очистки. Описать выводы.\n",
    "    * Сравнить распределения размеров гранул сырья на обучающей и тестовой выборках. **Если распределения сильно отличаются друг от друга, оценка модели будет неправильной**.\n",
    "    * Исследовать суммарную концентрацию всех веществ на разных стадиях: в сырье, в черновом и финальном концентратах. Проверить, есть ли аномальные значения в суммарном распределении. Определить, если они есть, следует ли их удалять из обеих выборок? Описать выводы и удалить аномалии в соответствии с принятыми правилами, если найдутся.\n",
    "\n",
    "\n",
    "3. Построить модель\n",
    "    * Написать функцию для вычисления итоговой **sMAPE**.\n",
    "    * Обучить разные модели и оценить их качество кросс-валидацией.\n",
    "    * Выбрать лучшую модель и проверить её на тестовой выборке.\n",
    "    * Описать выводы.\n",
    "\n",
    "### Формулы\n",
    "Требуется использовать следующие формулы для вычисления метрик качества.<br/>"
   ]
  },
  {
   "cell_type": "markdown",
   "metadata": {},
   "source": [
    "Эффективность обогащения рассчитывается по формуле:"
   ]
  },
  {
   "cell_type": "markdown",
   "metadata": {},
   "source": [
    "$$\n",
    "Recovery = {{C \\times (F - T)} \\over {F \\times (C - T)}} \\times 100\\%\n",
    "$$"
   ]
  },
  {
   "cell_type": "markdown",
   "metadata": {},
   "source": [
    "где:\n",
    "- $C$ — доля золота в концентрате после флотации/очистки;\n",
    "- $F$ — доля золота в сырье/концентрате до флотации/очистки;\n",
    "- $T$ — доля золота в отвальных хвостах после флотации/очистки."
   ]
  },
  {
   "cell_type": "markdown",
   "metadata": {},
   "source": [
    "Для решения задачи введём новую метрику качества — **sMAPE** (Symmetric Mean Absolute Percentage Error - симметричное среднее абсолютное процентное отклонение).\n",
    "Она похожа на MAE, но выражается не в абсолютных величинах, а в относительных и одинаково учитывает масштаб и целевого признака, и предсказания.\n",
    "\n",
    "Метрика sMAPE вычисляется так:"
   ]
  },
  {
   "cell_type": "markdown",
   "metadata": {},
   "source": [
    "$$\n",
    "sMAPE = {1 \\over N} \\sum\\limits_{i=1}^N {{|y_i - y'_i|} \\over {(|y_i| + |y'_i|) / 2}} \\times 100\\%\n",
    "$$"
   ]
  },
  {
   "cell_type": "markdown",
   "metadata": {},
   "source": [
    "При работе над проектом требуется спрогнозировать сразу две величины эффективности обогащения:\n",
    "- эффективность обогащения чернового концентрата `rougher.output.recovery`;\n",
    "- эффективность обогащения финального концентрата `final.output.recovery`.\n",
    "\n",
    "Итоговая метрика sMAPE складывается из двух величин:"
   ]
  },
  {
   "cell_type": "markdown",
   "metadata": {},
   "source": [
    "$$\n",
    "Final\\_sMAPE = 25\\% \\times sMAPE(rougher) + 75\\% \\times sMAPE(final)\n",
    "$$"
   ]
  },
  {
   "cell_type": "markdown",
   "metadata": {},
   "source": [
    "## Подготовка данных"
   ]
  },
  {
   "cell_type": "code",
   "execution_count": 1,
   "metadata": {},
   "outputs": [],
   "source": [
    "# base stuff\n",
    "import pandas as pd\n",
    "import numpy as np\n",
    "import plotly.express as px\n",
    "from plotly import graph_objects as go\n",
    "\n",
    "# sklearn\n",
    "from sklearn.metrics import mean_absolute_error\n",
    "from sklearn.ensemble import BaggingRegressor\n",
    "from sklearn.model_selection import cross_val_score\n",
    "from sklearn.metrics import mean_squared_error\n",
    "from sklearn.ensemble import RandomForestRegressor\n",
    "from sklearn.linear_model import LinearRegression\n",
    "from sklearn.model_selection import GridSearchCV\n",
    "from sklearn.dummy import DummyRegressor\n",
    "\n",
    "# boosting\n",
    "from catboost import CatBoostRegressor"
   ]
  },
  {
   "cell_type": "code",
   "execution_count": 2,
   "metadata": {},
   "outputs": [],
   "source": [
    "train_data = pd.read_csv('/datasets/gold_recovery_train_new.csv') # обучающая выборка\n",
    "test_data = pd.read_csv('/datasets/gold_recovery_test_new.csv') # тестовая выборка\n",
    "full_data = pd.read_csv('/datasets/gold_recovery_full_new.csv') # исходная выборка"
   ]
  },
  {
   "cell_type": "markdown",
   "metadata": {},
   "source": [
    "Посмотрим на имеющиеся данные:"
   ]
  },
  {
   "cell_type": "code",
   "execution_count": 3,
   "metadata": {
    "scrolled": true
   },
   "outputs": [
    {
     "data": {
      "text/html": [
       "<div>\n",
       "<style scoped>\n",
       "    .dataframe tbody tr th:only-of-type {\n",
       "        vertical-align: middle;\n",
       "    }\n",
       "\n",
       "    .dataframe tbody tr th {\n",
       "        vertical-align: top;\n",
       "    }\n",
       "\n",
       "    .dataframe thead th {\n",
       "        text-align: right;\n",
       "    }\n",
       "</style>\n",
       "<table border=\"1\" class=\"dataframe\">\n",
       "  <thead>\n",
       "    <tr style=\"text-align: right;\">\n",
       "      <th></th>\n",
       "      <th>date</th>\n",
       "      <th>final.output.concentrate_ag</th>\n",
       "      <th>final.output.concentrate_pb</th>\n",
       "      <th>final.output.concentrate_sol</th>\n",
       "      <th>final.output.concentrate_au</th>\n",
       "      <th>final.output.recovery</th>\n",
       "      <th>final.output.tail_ag</th>\n",
       "      <th>final.output.tail_pb</th>\n",
       "      <th>final.output.tail_sol</th>\n",
       "      <th>final.output.tail_au</th>\n",
       "      <th>...</th>\n",
       "      <th>secondary_cleaner.state.floatbank4_a_air</th>\n",
       "      <th>secondary_cleaner.state.floatbank4_a_level</th>\n",
       "      <th>secondary_cleaner.state.floatbank4_b_air</th>\n",
       "      <th>secondary_cleaner.state.floatbank4_b_level</th>\n",
       "      <th>secondary_cleaner.state.floatbank5_a_air</th>\n",
       "      <th>secondary_cleaner.state.floatbank5_a_level</th>\n",
       "      <th>secondary_cleaner.state.floatbank5_b_air</th>\n",
       "      <th>secondary_cleaner.state.floatbank5_b_level</th>\n",
       "      <th>secondary_cleaner.state.floatbank6_a_air</th>\n",
       "      <th>secondary_cleaner.state.floatbank6_a_level</th>\n",
       "    </tr>\n",
       "  </thead>\n",
       "  <tbody>\n",
       "    <tr>\n",
       "      <th>0</th>\n",
       "      <td>2016-01-15 00:00:00</td>\n",
       "      <td>6.055403</td>\n",
       "      <td>9.889648</td>\n",
       "      <td>5.507324</td>\n",
       "      <td>42.192020</td>\n",
       "      <td>70.541216</td>\n",
       "      <td>10.411962</td>\n",
       "      <td>0.895447</td>\n",
       "      <td>16.904297</td>\n",
       "      <td>2.143149</td>\n",
       "      <td>...</td>\n",
       "      <td>14.016835</td>\n",
       "      <td>-502.488007</td>\n",
       "      <td>12.099931</td>\n",
       "      <td>-504.715942</td>\n",
       "      <td>9.925633</td>\n",
       "      <td>-498.310211</td>\n",
       "      <td>8.079666</td>\n",
       "      <td>-500.470978</td>\n",
       "      <td>14.151341</td>\n",
       "      <td>-605.841980</td>\n",
       "    </tr>\n",
       "    <tr>\n",
       "      <th>1</th>\n",
       "      <td>2016-01-15 01:00:00</td>\n",
       "      <td>6.029369</td>\n",
       "      <td>9.968944</td>\n",
       "      <td>5.257781</td>\n",
       "      <td>42.701629</td>\n",
       "      <td>69.266198</td>\n",
       "      <td>10.462676</td>\n",
       "      <td>0.927452</td>\n",
       "      <td>16.634514</td>\n",
       "      <td>2.224930</td>\n",
       "      <td>...</td>\n",
       "      <td>13.992281</td>\n",
       "      <td>-505.503262</td>\n",
       "      <td>11.950531</td>\n",
       "      <td>-501.331529</td>\n",
       "      <td>10.039245</td>\n",
       "      <td>-500.169983</td>\n",
       "      <td>7.984757</td>\n",
       "      <td>-500.582168</td>\n",
       "      <td>13.998353</td>\n",
       "      <td>-599.787184</td>\n",
       "    </tr>\n",
       "    <tr>\n",
       "      <th>2</th>\n",
       "      <td>2016-01-15 02:00:00</td>\n",
       "      <td>6.055926</td>\n",
       "      <td>10.213995</td>\n",
       "      <td>5.383759</td>\n",
       "      <td>42.657501</td>\n",
       "      <td>68.116445</td>\n",
       "      <td>10.507046</td>\n",
       "      <td>0.953716</td>\n",
       "      <td>16.208849</td>\n",
       "      <td>2.257889</td>\n",
       "      <td>...</td>\n",
       "      <td>14.015015</td>\n",
       "      <td>-502.520901</td>\n",
       "      <td>11.912783</td>\n",
       "      <td>-501.133383</td>\n",
       "      <td>10.070913</td>\n",
       "      <td>-500.129135</td>\n",
       "      <td>8.013877</td>\n",
       "      <td>-500.517572</td>\n",
       "      <td>14.028663</td>\n",
       "      <td>-601.427363</td>\n",
       "    </tr>\n",
       "    <tr>\n",
       "      <th>3</th>\n",
       "      <td>2016-01-15 03:00:00</td>\n",
       "      <td>6.047977</td>\n",
       "      <td>9.977019</td>\n",
       "      <td>4.858634</td>\n",
       "      <td>42.689819</td>\n",
       "      <td>68.347543</td>\n",
       "      <td>10.422762</td>\n",
       "      <td>0.883763</td>\n",
       "      <td>16.532835</td>\n",
       "      <td>2.146849</td>\n",
       "      <td>...</td>\n",
       "      <td>14.036510</td>\n",
       "      <td>-500.857308</td>\n",
       "      <td>11.999550</td>\n",
       "      <td>-501.193686</td>\n",
       "      <td>9.970366</td>\n",
       "      <td>-499.201640</td>\n",
       "      <td>7.977324</td>\n",
       "      <td>-500.255908</td>\n",
       "      <td>14.005551</td>\n",
       "      <td>-599.996129</td>\n",
       "    </tr>\n",
       "    <tr>\n",
       "      <th>4</th>\n",
       "      <td>2016-01-15 04:00:00</td>\n",
       "      <td>6.148599</td>\n",
       "      <td>10.142511</td>\n",
       "      <td>4.939416</td>\n",
       "      <td>42.774141</td>\n",
       "      <td>66.927016</td>\n",
       "      <td>10.360302</td>\n",
       "      <td>0.792826</td>\n",
       "      <td>16.525686</td>\n",
       "      <td>2.055292</td>\n",
       "      <td>...</td>\n",
       "      <td>14.027298</td>\n",
       "      <td>-499.838632</td>\n",
       "      <td>11.953070</td>\n",
       "      <td>-501.053894</td>\n",
       "      <td>9.925709</td>\n",
       "      <td>-501.686727</td>\n",
       "      <td>7.894242</td>\n",
       "      <td>-500.356035</td>\n",
       "      <td>13.996647</td>\n",
       "      <td>-601.496691</td>\n",
       "    </tr>\n",
       "  </tbody>\n",
       "</table>\n",
       "<p>5 rows × 87 columns</p>\n",
       "</div>"
      ],
      "text/plain": [
       "                  date  final.output.concentrate_ag  \\\n",
       "0  2016-01-15 00:00:00                     6.055403   \n",
       "1  2016-01-15 01:00:00                     6.029369   \n",
       "2  2016-01-15 02:00:00                     6.055926   \n",
       "3  2016-01-15 03:00:00                     6.047977   \n",
       "4  2016-01-15 04:00:00                     6.148599   \n",
       "\n",
       "   final.output.concentrate_pb  final.output.concentrate_sol  \\\n",
       "0                     9.889648                      5.507324   \n",
       "1                     9.968944                      5.257781   \n",
       "2                    10.213995                      5.383759   \n",
       "3                     9.977019                      4.858634   \n",
       "4                    10.142511                      4.939416   \n",
       "\n",
       "   final.output.concentrate_au  final.output.recovery  final.output.tail_ag  \\\n",
       "0                    42.192020              70.541216             10.411962   \n",
       "1                    42.701629              69.266198             10.462676   \n",
       "2                    42.657501              68.116445             10.507046   \n",
       "3                    42.689819              68.347543             10.422762   \n",
       "4                    42.774141              66.927016             10.360302   \n",
       "\n",
       "   final.output.tail_pb  final.output.tail_sol  final.output.tail_au  ...  \\\n",
       "0              0.895447              16.904297              2.143149  ...   \n",
       "1              0.927452              16.634514              2.224930  ...   \n",
       "2              0.953716              16.208849              2.257889  ...   \n",
       "3              0.883763              16.532835              2.146849  ...   \n",
       "4              0.792826              16.525686              2.055292  ...   \n",
       "\n",
       "   secondary_cleaner.state.floatbank4_a_air  \\\n",
       "0                                 14.016835   \n",
       "1                                 13.992281   \n",
       "2                                 14.015015   \n",
       "3                                 14.036510   \n",
       "4                                 14.027298   \n",
       "\n",
       "   secondary_cleaner.state.floatbank4_a_level  \\\n",
       "0                                 -502.488007   \n",
       "1                                 -505.503262   \n",
       "2                                 -502.520901   \n",
       "3                                 -500.857308   \n",
       "4                                 -499.838632   \n",
       "\n",
       "   secondary_cleaner.state.floatbank4_b_air  \\\n",
       "0                                 12.099931   \n",
       "1                                 11.950531   \n",
       "2                                 11.912783   \n",
       "3                                 11.999550   \n",
       "4                                 11.953070   \n",
       "\n",
       "   secondary_cleaner.state.floatbank4_b_level  \\\n",
       "0                                 -504.715942   \n",
       "1                                 -501.331529   \n",
       "2                                 -501.133383   \n",
       "3                                 -501.193686   \n",
       "4                                 -501.053894   \n",
       "\n",
       "   secondary_cleaner.state.floatbank5_a_air  \\\n",
       "0                                  9.925633   \n",
       "1                                 10.039245   \n",
       "2                                 10.070913   \n",
       "3                                  9.970366   \n",
       "4                                  9.925709   \n",
       "\n",
       "   secondary_cleaner.state.floatbank5_a_level  \\\n",
       "0                                 -498.310211   \n",
       "1                                 -500.169983   \n",
       "2                                 -500.129135   \n",
       "3                                 -499.201640   \n",
       "4                                 -501.686727   \n",
       "\n",
       "   secondary_cleaner.state.floatbank5_b_air  \\\n",
       "0                                  8.079666   \n",
       "1                                  7.984757   \n",
       "2                                  8.013877   \n",
       "3                                  7.977324   \n",
       "4                                  7.894242   \n",
       "\n",
       "   secondary_cleaner.state.floatbank5_b_level  \\\n",
       "0                                 -500.470978   \n",
       "1                                 -500.582168   \n",
       "2                                 -500.517572   \n",
       "3                                 -500.255908   \n",
       "4                                 -500.356035   \n",
       "\n",
       "   secondary_cleaner.state.floatbank6_a_air  \\\n",
       "0                                 14.151341   \n",
       "1                                 13.998353   \n",
       "2                                 14.028663   \n",
       "3                                 14.005551   \n",
       "4                                 13.996647   \n",
       "\n",
       "   secondary_cleaner.state.floatbank6_a_level  \n",
       "0                                 -605.841980  \n",
       "1                                 -599.787184  \n",
       "2                                 -601.427363  \n",
       "3                                 -599.996129  \n",
       "4                                 -601.496691  \n",
       "\n",
       "[5 rows x 87 columns]"
      ]
     },
     "metadata": {},
     "output_type": "display_data"
    },
    {
     "data": {
      "text/html": [
       "<div>\n",
       "<style scoped>\n",
       "    .dataframe tbody tr th:only-of-type {\n",
       "        vertical-align: middle;\n",
       "    }\n",
       "\n",
       "    .dataframe tbody tr th {\n",
       "        vertical-align: top;\n",
       "    }\n",
       "\n",
       "    .dataframe thead th {\n",
       "        text-align: right;\n",
       "    }\n",
       "</style>\n",
       "<table border=\"1\" class=\"dataframe\">\n",
       "  <thead>\n",
       "    <tr style=\"text-align: right;\">\n",
       "      <th></th>\n",
       "      <th>date</th>\n",
       "      <th>primary_cleaner.input.sulfate</th>\n",
       "      <th>primary_cleaner.input.depressant</th>\n",
       "      <th>primary_cleaner.input.feed_size</th>\n",
       "      <th>primary_cleaner.input.xanthate</th>\n",
       "      <th>primary_cleaner.state.floatbank8_a_air</th>\n",
       "      <th>primary_cleaner.state.floatbank8_a_level</th>\n",
       "      <th>primary_cleaner.state.floatbank8_b_air</th>\n",
       "      <th>primary_cleaner.state.floatbank8_b_level</th>\n",
       "      <th>primary_cleaner.state.floatbank8_c_air</th>\n",
       "      <th>...</th>\n",
       "      <th>secondary_cleaner.state.floatbank4_a_air</th>\n",
       "      <th>secondary_cleaner.state.floatbank4_a_level</th>\n",
       "      <th>secondary_cleaner.state.floatbank4_b_air</th>\n",
       "      <th>secondary_cleaner.state.floatbank4_b_level</th>\n",
       "      <th>secondary_cleaner.state.floatbank5_a_air</th>\n",
       "      <th>secondary_cleaner.state.floatbank5_a_level</th>\n",
       "      <th>secondary_cleaner.state.floatbank5_b_air</th>\n",
       "      <th>secondary_cleaner.state.floatbank5_b_level</th>\n",
       "      <th>secondary_cleaner.state.floatbank6_a_air</th>\n",
       "      <th>secondary_cleaner.state.floatbank6_a_level</th>\n",
       "    </tr>\n",
       "  </thead>\n",
       "  <tbody>\n",
       "    <tr>\n",
       "      <th>0</th>\n",
       "      <td>2016-09-01 00:59:59</td>\n",
       "      <td>210.800909</td>\n",
       "      <td>14.993118</td>\n",
       "      <td>8.080000</td>\n",
       "      <td>1.005021</td>\n",
       "      <td>1398.981301</td>\n",
       "      <td>-500.225577</td>\n",
       "      <td>1399.144926</td>\n",
       "      <td>-499.919735</td>\n",
       "      <td>1400.102998</td>\n",
       "      <td>...</td>\n",
       "      <td>12.023554</td>\n",
       "      <td>-497.795834</td>\n",
       "      <td>8.016656</td>\n",
       "      <td>-501.289139</td>\n",
       "      <td>7.946562</td>\n",
       "      <td>-432.317850</td>\n",
       "      <td>4.872511</td>\n",
       "      <td>-500.037437</td>\n",
       "      <td>26.705889</td>\n",
       "      <td>-499.709414</td>\n",
       "    </tr>\n",
       "    <tr>\n",
       "      <th>1</th>\n",
       "      <td>2016-09-01 01:59:59</td>\n",
       "      <td>215.392455</td>\n",
       "      <td>14.987471</td>\n",
       "      <td>8.080000</td>\n",
       "      <td>0.990469</td>\n",
       "      <td>1398.777912</td>\n",
       "      <td>-500.057435</td>\n",
       "      <td>1398.055362</td>\n",
       "      <td>-499.778182</td>\n",
       "      <td>1396.151033</td>\n",
       "      <td>...</td>\n",
       "      <td>12.058140</td>\n",
       "      <td>-498.695773</td>\n",
       "      <td>8.130979</td>\n",
       "      <td>-499.634209</td>\n",
       "      <td>7.958270</td>\n",
       "      <td>-525.839648</td>\n",
       "      <td>4.878850</td>\n",
       "      <td>-500.162375</td>\n",
       "      <td>25.019940</td>\n",
       "      <td>-499.819438</td>\n",
       "    </tr>\n",
       "    <tr>\n",
       "      <th>2</th>\n",
       "      <td>2016-09-01 02:59:59</td>\n",
       "      <td>215.259946</td>\n",
       "      <td>12.884934</td>\n",
       "      <td>7.786667</td>\n",
       "      <td>0.996043</td>\n",
       "      <td>1398.493666</td>\n",
       "      <td>-500.868360</td>\n",
       "      <td>1398.860436</td>\n",
       "      <td>-499.764529</td>\n",
       "      <td>1398.075709</td>\n",
       "      <td>...</td>\n",
       "      <td>11.962366</td>\n",
       "      <td>-498.767484</td>\n",
       "      <td>8.096893</td>\n",
       "      <td>-500.827423</td>\n",
       "      <td>8.071056</td>\n",
       "      <td>-500.801673</td>\n",
       "      <td>4.905125</td>\n",
       "      <td>-499.828510</td>\n",
       "      <td>24.994862</td>\n",
       "      <td>-500.622559</td>\n",
       "    </tr>\n",
       "    <tr>\n",
       "      <th>3</th>\n",
       "      <td>2016-09-01 03:59:59</td>\n",
       "      <td>215.336236</td>\n",
       "      <td>12.006805</td>\n",
       "      <td>7.640000</td>\n",
       "      <td>0.863514</td>\n",
       "      <td>1399.618111</td>\n",
       "      <td>-498.863574</td>\n",
       "      <td>1397.440120</td>\n",
       "      <td>-499.211024</td>\n",
       "      <td>1400.129303</td>\n",
       "      <td>...</td>\n",
       "      <td>12.033091</td>\n",
       "      <td>-498.350935</td>\n",
       "      <td>8.074946</td>\n",
       "      <td>-499.474407</td>\n",
       "      <td>7.897085</td>\n",
       "      <td>-500.868509</td>\n",
       "      <td>4.931400</td>\n",
       "      <td>-499.963623</td>\n",
       "      <td>24.948919</td>\n",
       "      <td>-498.709987</td>\n",
       "    </tr>\n",
       "    <tr>\n",
       "      <th>4</th>\n",
       "      <td>2016-09-01 04:59:59</td>\n",
       "      <td>199.099327</td>\n",
       "      <td>10.682530</td>\n",
       "      <td>7.530000</td>\n",
       "      <td>0.805575</td>\n",
       "      <td>1401.268123</td>\n",
       "      <td>-500.808305</td>\n",
       "      <td>1398.128818</td>\n",
       "      <td>-499.504543</td>\n",
       "      <td>1402.172226</td>\n",
       "      <td>...</td>\n",
       "      <td>12.025367</td>\n",
       "      <td>-500.786497</td>\n",
       "      <td>8.054678</td>\n",
       "      <td>-500.397500</td>\n",
       "      <td>8.107890</td>\n",
       "      <td>-509.526725</td>\n",
       "      <td>4.957674</td>\n",
       "      <td>-500.360026</td>\n",
       "      <td>25.003331</td>\n",
       "      <td>-500.856333</td>\n",
       "    </tr>\n",
       "  </tbody>\n",
       "</table>\n",
       "<p>5 rows × 53 columns</p>\n",
       "</div>"
      ],
      "text/plain": [
       "                  date  primary_cleaner.input.sulfate  \\\n",
       "0  2016-09-01 00:59:59                     210.800909   \n",
       "1  2016-09-01 01:59:59                     215.392455   \n",
       "2  2016-09-01 02:59:59                     215.259946   \n",
       "3  2016-09-01 03:59:59                     215.336236   \n",
       "4  2016-09-01 04:59:59                     199.099327   \n",
       "\n",
       "   primary_cleaner.input.depressant  primary_cleaner.input.feed_size  \\\n",
       "0                         14.993118                         8.080000   \n",
       "1                         14.987471                         8.080000   \n",
       "2                         12.884934                         7.786667   \n",
       "3                         12.006805                         7.640000   \n",
       "4                         10.682530                         7.530000   \n",
       "\n",
       "   primary_cleaner.input.xanthate  primary_cleaner.state.floatbank8_a_air  \\\n",
       "0                        1.005021                             1398.981301   \n",
       "1                        0.990469                             1398.777912   \n",
       "2                        0.996043                             1398.493666   \n",
       "3                        0.863514                             1399.618111   \n",
       "4                        0.805575                             1401.268123   \n",
       "\n",
       "   primary_cleaner.state.floatbank8_a_level  \\\n",
       "0                               -500.225577   \n",
       "1                               -500.057435   \n",
       "2                               -500.868360   \n",
       "3                               -498.863574   \n",
       "4                               -500.808305   \n",
       "\n",
       "   primary_cleaner.state.floatbank8_b_air  \\\n",
       "0                             1399.144926   \n",
       "1                             1398.055362   \n",
       "2                             1398.860436   \n",
       "3                             1397.440120   \n",
       "4                             1398.128818   \n",
       "\n",
       "   primary_cleaner.state.floatbank8_b_level  \\\n",
       "0                               -499.919735   \n",
       "1                               -499.778182   \n",
       "2                               -499.764529   \n",
       "3                               -499.211024   \n",
       "4                               -499.504543   \n",
       "\n",
       "   primary_cleaner.state.floatbank8_c_air  ...  \\\n",
       "0                             1400.102998  ...   \n",
       "1                             1396.151033  ...   \n",
       "2                             1398.075709  ...   \n",
       "3                             1400.129303  ...   \n",
       "4                             1402.172226  ...   \n",
       "\n",
       "   secondary_cleaner.state.floatbank4_a_air  \\\n",
       "0                                 12.023554   \n",
       "1                                 12.058140   \n",
       "2                                 11.962366   \n",
       "3                                 12.033091   \n",
       "4                                 12.025367   \n",
       "\n",
       "   secondary_cleaner.state.floatbank4_a_level  \\\n",
       "0                                 -497.795834   \n",
       "1                                 -498.695773   \n",
       "2                                 -498.767484   \n",
       "3                                 -498.350935   \n",
       "4                                 -500.786497   \n",
       "\n",
       "   secondary_cleaner.state.floatbank4_b_air  \\\n",
       "0                                  8.016656   \n",
       "1                                  8.130979   \n",
       "2                                  8.096893   \n",
       "3                                  8.074946   \n",
       "4                                  8.054678   \n",
       "\n",
       "   secondary_cleaner.state.floatbank4_b_level  \\\n",
       "0                                 -501.289139   \n",
       "1                                 -499.634209   \n",
       "2                                 -500.827423   \n",
       "3                                 -499.474407   \n",
       "4                                 -500.397500   \n",
       "\n",
       "   secondary_cleaner.state.floatbank5_a_air  \\\n",
       "0                                  7.946562   \n",
       "1                                  7.958270   \n",
       "2                                  8.071056   \n",
       "3                                  7.897085   \n",
       "4                                  8.107890   \n",
       "\n",
       "   secondary_cleaner.state.floatbank5_a_level  \\\n",
       "0                                 -432.317850   \n",
       "1                                 -525.839648   \n",
       "2                                 -500.801673   \n",
       "3                                 -500.868509   \n",
       "4                                 -509.526725   \n",
       "\n",
       "   secondary_cleaner.state.floatbank5_b_air  \\\n",
       "0                                  4.872511   \n",
       "1                                  4.878850   \n",
       "2                                  4.905125   \n",
       "3                                  4.931400   \n",
       "4                                  4.957674   \n",
       "\n",
       "   secondary_cleaner.state.floatbank5_b_level  \\\n",
       "0                                 -500.037437   \n",
       "1                                 -500.162375   \n",
       "2                                 -499.828510   \n",
       "3                                 -499.963623   \n",
       "4                                 -500.360026   \n",
       "\n",
       "   secondary_cleaner.state.floatbank6_a_air  \\\n",
       "0                                 26.705889   \n",
       "1                                 25.019940   \n",
       "2                                 24.994862   \n",
       "3                                 24.948919   \n",
       "4                                 25.003331   \n",
       "\n",
       "   secondary_cleaner.state.floatbank6_a_level  \n",
       "0                                 -499.709414  \n",
       "1                                 -499.819438  \n",
       "2                                 -500.622559  \n",
       "3                                 -498.709987  \n",
       "4                                 -500.856333  \n",
       "\n",
       "[5 rows x 53 columns]"
      ]
     },
     "metadata": {},
     "output_type": "display_data"
    },
    {
     "data": {
      "text/html": [
       "<div>\n",
       "<style scoped>\n",
       "    .dataframe tbody tr th:only-of-type {\n",
       "        vertical-align: middle;\n",
       "    }\n",
       "\n",
       "    .dataframe tbody tr th {\n",
       "        vertical-align: top;\n",
       "    }\n",
       "\n",
       "    .dataframe thead th {\n",
       "        text-align: right;\n",
       "    }\n",
       "</style>\n",
       "<table border=\"1\" class=\"dataframe\">\n",
       "  <thead>\n",
       "    <tr style=\"text-align: right;\">\n",
       "      <th></th>\n",
       "      <th>date</th>\n",
       "      <th>final.output.concentrate_ag</th>\n",
       "      <th>final.output.concentrate_pb</th>\n",
       "      <th>final.output.concentrate_sol</th>\n",
       "      <th>final.output.concentrate_au</th>\n",
       "      <th>final.output.recovery</th>\n",
       "      <th>final.output.tail_ag</th>\n",
       "      <th>final.output.tail_pb</th>\n",
       "      <th>final.output.tail_sol</th>\n",
       "      <th>final.output.tail_au</th>\n",
       "      <th>...</th>\n",
       "      <th>secondary_cleaner.state.floatbank4_a_air</th>\n",
       "      <th>secondary_cleaner.state.floatbank4_a_level</th>\n",
       "      <th>secondary_cleaner.state.floatbank4_b_air</th>\n",
       "      <th>secondary_cleaner.state.floatbank4_b_level</th>\n",
       "      <th>secondary_cleaner.state.floatbank5_a_air</th>\n",
       "      <th>secondary_cleaner.state.floatbank5_a_level</th>\n",
       "      <th>secondary_cleaner.state.floatbank5_b_air</th>\n",
       "      <th>secondary_cleaner.state.floatbank5_b_level</th>\n",
       "      <th>secondary_cleaner.state.floatbank6_a_air</th>\n",
       "      <th>secondary_cleaner.state.floatbank6_a_level</th>\n",
       "    </tr>\n",
       "  </thead>\n",
       "  <tbody>\n",
       "    <tr>\n",
       "      <th>0</th>\n",
       "      <td>2016-01-15 00:00:00</td>\n",
       "      <td>6.055403</td>\n",
       "      <td>9.889648</td>\n",
       "      <td>5.507324</td>\n",
       "      <td>42.192020</td>\n",
       "      <td>70.541216</td>\n",
       "      <td>10.411962</td>\n",
       "      <td>0.895447</td>\n",
       "      <td>16.904297</td>\n",
       "      <td>2.143149</td>\n",
       "      <td>...</td>\n",
       "      <td>14.016835</td>\n",
       "      <td>-502.488007</td>\n",
       "      <td>12.099931</td>\n",
       "      <td>-504.715942</td>\n",
       "      <td>9.925633</td>\n",
       "      <td>-498.310211</td>\n",
       "      <td>8.079666</td>\n",
       "      <td>-500.470978</td>\n",
       "      <td>14.151341</td>\n",
       "      <td>-605.841980</td>\n",
       "    </tr>\n",
       "    <tr>\n",
       "      <th>1</th>\n",
       "      <td>2016-01-15 01:00:00</td>\n",
       "      <td>6.029369</td>\n",
       "      <td>9.968944</td>\n",
       "      <td>5.257781</td>\n",
       "      <td>42.701629</td>\n",
       "      <td>69.266198</td>\n",
       "      <td>10.462676</td>\n",
       "      <td>0.927452</td>\n",
       "      <td>16.634514</td>\n",
       "      <td>2.224930</td>\n",
       "      <td>...</td>\n",
       "      <td>13.992281</td>\n",
       "      <td>-505.503262</td>\n",
       "      <td>11.950531</td>\n",
       "      <td>-501.331529</td>\n",
       "      <td>10.039245</td>\n",
       "      <td>-500.169983</td>\n",
       "      <td>7.984757</td>\n",
       "      <td>-500.582168</td>\n",
       "      <td>13.998353</td>\n",
       "      <td>-599.787184</td>\n",
       "    </tr>\n",
       "    <tr>\n",
       "      <th>2</th>\n",
       "      <td>2016-01-15 02:00:00</td>\n",
       "      <td>6.055926</td>\n",
       "      <td>10.213995</td>\n",
       "      <td>5.383759</td>\n",
       "      <td>42.657501</td>\n",
       "      <td>68.116445</td>\n",
       "      <td>10.507046</td>\n",
       "      <td>0.953716</td>\n",
       "      <td>16.208849</td>\n",
       "      <td>2.257889</td>\n",
       "      <td>...</td>\n",
       "      <td>14.015015</td>\n",
       "      <td>-502.520901</td>\n",
       "      <td>11.912783</td>\n",
       "      <td>-501.133383</td>\n",
       "      <td>10.070913</td>\n",
       "      <td>-500.129135</td>\n",
       "      <td>8.013877</td>\n",
       "      <td>-500.517572</td>\n",
       "      <td>14.028663</td>\n",
       "      <td>-601.427363</td>\n",
       "    </tr>\n",
       "    <tr>\n",
       "      <th>3</th>\n",
       "      <td>2016-01-15 03:00:00</td>\n",
       "      <td>6.047977</td>\n",
       "      <td>9.977019</td>\n",
       "      <td>4.858634</td>\n",
       "      <td>42.689819</td>\n",
       "      <td>68.347543</td>\n",
       "      <td>10.422762</td>\n",
       "      <td>0.883763</td>\n",
       "      <td>16.532835</td>\n",
       "      <td>2.146849</td>\n",
       "      <td>...</td>\n",
       "      <td>14.036510</td>\n",
       "      <td>-500.857308</td>\n",
       "      <td>11.999550</td>\n",
       "      <td>-501.193686</td>\n",
       "      <td>9.970366</td>\n",
       "      <td>-499.201640</td>\n",
       "      <td>7.977324</td>\n",
       "      <td>-500.255908</td>\n",
       "      <td>14.005551</td>\n",
       "      <td>-599.996129</td>\n",
       "    </tr>\n",
       "    <tr>\n",
       "      <th>4</th>\n",
       "      <td>2016-01-15 04:00:00</td>\n",
       "      <td>6.148599</td>\n",
       "      <td>10.142511</td>\n",
       "      <td>4.939416</td>\n",
       "      <td>42.774141</td>\n",
       "      <td>66.927016</td>\n",
       "      <td>10.360302</td>\n",
       "      <td>0.792826</td>\n",
       "      <td>16.525686</td>\n",
       "      <td>2.055292</td>\n",
       "      <td>...</td>\n",
       "      <td>14.027298</td>\n",
       "      <td>-499.838632</td>\n",
       "      <td>11.953070</td>\n",
       "      <td>-501.053894</td>\n",
       "      <td>9.925709</td>\n",
       "      <td>-501.686727</td>\n",
       "      <td>7.894242</td>\n",
       "      <td>-500.356035</td>\n",
       "      <td>13.996647</td>\n",
       "      <td>-601.496691</td>\n",
       "    </tr>\n",
       "  </tbody>\n",
       "</table>\n",
       "<p>5 rows × 87 columns</p>\n",
       "</div>"
      ],
      "text/plain": [
       "                  date  final.output.concentrate_ag  \\\n",
       "0  2016-01-15 00:00:00                     6.055403   \n",
       "1  2016-01-15 01:00:00                     6.029369   \n",
       "2  2016-01-15 02:00:00                     6.055926   \n",
       "3  2016-01-15 03:00:00                     6.047977   \n",
       "4  2016-01-15 04:00:00                     6.148599   \n",
       "\n",
       "   final.output.concentrate_pb  final.output.concentrate_sol  \\\n",
       "0                     9.889648                      5.507324   \n",
       "1                     9.968944                      5.257781   \n",
       "2                    10.213995                      5.383759   \n",
       "3                     9.977019                      4.858634   \n",
       "4                    10.142511                      4.939416   \n",
       "\n",
       "   final.output.concentrate_au  final.output.recovery  final.output.tail_ag  \\\n",
       "0                    42.192020              70.541216             10.411962   \n",
       "1                    42.701629              69.266198             10.462676   \n",
       "2                    42.657501              68.116445             10.507046   \n",
       "3                    42.689819              68.347543             10.422762   \n",
       "4                    42.774141              66.927016             10.360302   \n",
       "\n",
       "   final.output.tail_pb  final.output.tail_sol  final.output.tail_au  ...  \\\n",
       "0              0.895447              16.904297              2.143149  ...   \n",
       "1              0.927452              16.634514              2.224930  ...   \n",
       "2              0.953716              16.208849              2.257889  ...   \n",
       "3              0.883763              16.532835              2.146849  ...   \n",
       "4              0.792826              16.525686              2.055292  ...   \n",
       "\n",
       "   secondary_cleaner.state.floatbank4_a_air  \\\n",
       "0                                 14.016835   \n",
       "1                                 13.992281   \n",
       "2                                 14.015015   \n",
       "3                                 14.036510   \n",
       "4                                 14.027298   \n",
       "\n",
       "   secondary_cleaner.state.floatbank4_a_level  \\\n",
       "0                                 -502.488007   \n",
       "1                                 -505.503262   \n",
       "2                                 -502.520901   \n",
       "3                                 -500.857308   \n",
       "4                                 -499.838632   \n",
       "\n",
       "   secondary_cleaner.state.floatbank4_b_air  \\\n",
       "0                                 12.099931   \n",
       "1                                 11.950531   \n",
       "2                                 11.912783   \n",
       "3                                 11.999550   \n",
       "4                                 11.953070   \n",
       "\n",
       "   secondary_cleaner.state.floatbank4_b_level  \\\n",
       "0                                 -504.715942   \n",
       "1                                 -501.331529   \n",
       "2                                 -501.133383   \n",
       "3                                 -501.193686   \n",
       "4                                 -501.053894   \n",
       "\n",
       "   secondary_cleaner.state.floatbank5_a_air  \\\n",
       "0                                  9.925633   \n",
       "1                                 10.039245   \n",
       "2                                 10.070913   \n",
       "3                                  9.970366   \n",
       "4                                  9.925709   \n",
       "\n",
       "   secondary_cleaner.state.floatbank5_a_level  \\\n",
       "0                                 -498.310211   \n",
       "1                                 -500.169983   \n",
       "2                                 -500.129135   \n",
       "3                                 -499.201640   \n",
       "4                                 -501.686727   \n",
       "\n",
       "   secondary_cleaner.state.floatbank5_b_air  \\\n",
       "0                                  8.079666   \n",
       "1                                  7.984757   \n",
       "2                                  8.013877   \n",
       "3                                  7.977324   \n",
       "4                                  7.894242   \n",
       "\n",
       "   secondary_cleaner.state.floatbank5_b_level  \\\n",
       "0                                 -500.470978   \n",
       "1                                 -500.582168   \n",
       "2                                 -500.517572   \n",
       "3                                 -500.255908   \n",
       "4                                 -500.356035   \n",
       "\n",
       "   secondary_cleaner.state.floatbank6_a_air  \\\n",
       "0                                 14.151341   \n",
       "1                                 13.998353   \n",
       "2                                 14.028663   \n",
       "3                                 14.005551   \n",
       "4                                 13.996647   \n",
       "\n",
       "   secondary_cleaner.state.floatbank6_a_level  \n",
       "0                                 -605.841980  \n",
       "1                                 -599.787184  \n",
       "2                                 -601.427363  \n",
       "3                                 -599.996129  \n",
       "4                                 -601.496691  \n",
       "\n",
       "[5 rows x 87 columns]"
      ]
     },
     "execution_count": 3,
     "metadata": {},
     "output_type": "execute_result"
    }
   ],
   "source": [
    "display(train_data.head())\n",
    "display(test_data.head())\n",
    "full_data.head()"
   ]
  },
  {
   "cell_type": "code",
   "execution_count": 4,
   "metadata": {
    "scrolled": true
   },
   "outputs": [
    {
     "name": "stdout",
     "output_type": "stream",
     "text": [
      "<class 'pandas.core.frame.DataFrame'>\n",
      "RangeIndex: 5290 entries, 0 to 5289\n",
      "Data columns (total 53 columns):\n",
      " #   Column                                      Non-Null Count  Dtype  \n",
      "---  ------                                      --------------  -----  \n",
      " 0   date                                        5290 non-null   object \n",
      " 1   primary_cleaner.input.sulfate               5286 non-null   float64\n",
      " 2   primary_cleaner.input.depressant            5285 non-null   float64\n",
      " 3   primary_cleaner.input.feed_size             5290 non-null   float64\n",
      " 4   primary_cleaner.input.xanthate              5286 non-null   float64\n",
      " 5   primary_cleaner.state.floatbank8_a_air      5290 non-null   float64\n",
      " 6   primary_cleaner.state.floatbank8_a_level    5290 non-null   float64\n",
      " 7   primary_cleaner.state.floatbank8_b_air      5290 non-null   float64\n",
      " 8   primary_cleaner.state.floatbank8_b_level    5290 non-null   float64\n",
      " 9   primary_cleaner.state.floatbank8_c_air      5290 non-null   float64\n",
      " 10  primary_cleaner.state.floatbank8_c_level    5290 non-null   float64\n",
      " 11  primary_cleaner.state.floatbank8_d_air      5290 non-null   float64\n",
      " 12  primary_cleaner.state.floatbank8_d_level    5290 non-null   float64\n",
      " 13  rougher.input.feed_ag                       5290 non-null   float64\n",
      " 14  rougher.input.feed_pb                       5290 non-null   float64\n",
      " 15  rougher.input.feed_rate                     5287 non-null   float64\n",
      " 16  rougher.input.feed_size                     5289 non-null   float64\n",
      " 17  rougher.input.feed_sol                      5269 non-null   float64\n",
      " 18  rougher.input.feed_au                       5290 non-null   float64\n",
      " 19  rougher.input.floatbank10_sulfate           5285 non-null   float64\n",
      " 20  rougher.input.floatbank10_xanthate          5290 non-null   float64\n",
      " 21  rougher.input.floatbank11_sulfate           5282 non-null   float64\n",
      " 22  rougher.input.floatbank11_xanthate          5265 non-null   float64\n",
      " 23  rougher.state.floatbank10_a_air             5290 non-null   float64\n",
      " 24  rougher.state.floatbank10_a_level           5290 non-null   float64\n",
      " 25  rougher.state.floatbank10_b_air             5290 non-null   float64\n",
      " 26  rougher.state.floatbank10_b_level           5290 non-null   float64\n",
      " 27  rougher.state.floatbank10_c_air             5290 non-null   float64\n",
      " 28  rougher.state.floatbank10_c_level           5290 non-null   float64\n",
      " 29  rougher.state.floatbank10_d_air             5290 non-null   float64\n",
      " 30  rougher.state.floatbank10_d_level           5290 non-null   float64\n",
      " 31  rougher.state.floatbank10_e_air             5290 non-null   float64\n",
      " 32  rougher.state.floatbank10_e_level           5290 non-null   float64\n",
      " 33  rougher.state.floatbank10_f_air             5290 non-null   float64\n",
      " 34  rougher.state.floatbank10_f_level           5290 non-null   float64\n",
      " 35  secondary_cleaner.state.floatbank2_a_air    5287 non-null   float64\n",
      " 36  secondary_cleaner.state.floatbank2_a_level  5290 non-null   float64\n",
      " 37  secondary_cleaner.state.floatbank2_b_air    5288 non-null   float64\n",
      " 38  secondary_cleaner.state.floatbank2_b_level  5290 non-null   float64\n",
      " 39  secondary_cleaner.state.floatbank3_a_air    5281 non-null   float64\n",
      " 40  secondary_cleaner.state.floatbank3_a_level  5290 non-null   float64\n",
      " 41  secondary_cleaner.state.floatbank3_b_air    5290 non-null   float64\n",
      " 42  secondary_cleaner.state.floatbank3_b_level  5290 non-null   float64\n",
      " 43  secondary_cleaner.state.floatbank4_a_air    5290 non-null   float64\n",
      " 44  secondary_cleaner.state.floatbank4_a_level  5290 non-null   float64\n",
      " 45  secondary_cleaner.state.floatbank4_b_air    5290 non-null   float64\n",
      " 46  secondary_cleaner.state.floatbank4_b_level  5290 non-null   float64\n",
      " 47  secondary_cleaner.state.floatbank5_a_air    5290 non-null   float64\n",
      " 48  secondary_cleaner.state.floatbank5_a_level  5290 non-null   float64\n",
      " 49  secondary_cleaner.state.floatbank5_b_air    5290 non-null   float64\n",
      " 50  secondary_cleaner.state.floatbank5_b_level  5290 non-null   float64\n",
      " 51  secondary_cleaner.state.floatbank6_a_air    5290 non-null   float64\n",
      " 52  secondary_cleaner.state.floatbank6_a_level  5290 non-null   float64\n",
      "dtypes: float64(52), object(1)\n",
      "memory usage: 2.1+ MB\n",
      "<class 'pandas.core.frame.DataFrame'>\n",
      "RangeIndex: 14149 entries, 0 to 14148\n",
      "Data columns (total 87 columns):\n",
      " #   Column                                              Non-Null Count  Dtype  \n",
      "---  ------                                              --------------  -----  \n",
      " 0   date                                                14149 non-null  object \n",
      " 1   final.output.concentrate_ag                         14148 non-null  float64\n",
      " 2   final.output.concentrate_pb                         14148 non-null  float64\n",
      " 3   final.output.concentrate_sol                        13938 non-null  float64\n",
      " 4   final.output.concentrate_au                         14149 non-null  float64\n",
      " 5   final.output.recovery                               14149 non-null  float64\n",
      " 6   final.output.tail_ag                                14149 non-null  float64\n",
      " 7   final.output.tail_pb                                14049 non-null  float64\n",
      " 8   final.output.tail_sol                               14144 non-null  float64\n",
      " 9   final.output.tail_au                                14149 non-null  float64\n",
      " 10  primary_cleaner.input.sulfate                       14129 non-null  float64\n",
      " 11  primary_cleaner.input.depressant                    14117 non-null  float64\n",
      " 12  primary_cleaner.input.feed_size                     14149 non-null  float64\n",
      " 13  primary_cleaner.input.xanthate                      14049 non-null  float64\n",
      " 14  primary_cleaner.output.concentrate_ag               14149 non-null  float64\n",
      " 15  primary_cleaner.output.concentrate_pb               14063 non-null  float64\n",
      " 16  primary_cleaner.output.concentrate_sol              13863 non-null  float64\n",
      " 17  primary_cleaner.output.concentrate_au               14149 non-null  float64\n",
      " 18  primary_cleaner.output.tail_ag                      14148 non-null  float64\n",
      " 19  primary_cleaner.output.tail_pb                      14134 non-null  float64\n",
      " 20  primary_cleaner.output.tail_sol                     14103 non-null  float64\n",
      " 21  primary_cleaner.output.tail_au                      14149 non-null  float64\n",
      " 22  primary_cleaner.state.floatbank8_a_air              14145 non-null  float64\n",
      " 23  primary_cleaner.state.floatbank8_a_level            14148 non-null  float64\n",
      " 24  primary_cleaner.state.floatbank8_b_air              14145 non-null  float64\n",
      " 25  primary_cleaner.state.floatbank8_b_level            14148 non-null  float64\n",
      " 26  primary_cleaner.state.floatbank8_c_air              14147 non-null  float64\n",
      " 27  primary_cleaner.state.floatbank8_c_level            14148 non-null  float64\n",
      " 28  primary_cleaner.state.floatbank8_d_air              14146 non-null  float64\n",
      " 29  primary_cleaner.state.floatbank8_d_level            14148 non-null  float64\n",
      " 30  rougher.calculation.sulfate_to_au_concentrate       14148 non-null  float64\n",
      " 31  rougher.calculation.floatbank10_sulfate_to_au_feed  14148 non-null  float64\n",
      " 32  rougher.calculation.floatbank11_sulfate_to_au_feed  14148 non-null  float64\n",
      " 33  rougher.calculation.au_pb_ratio                     14149 non-null  float64\n",
      " 34  rougher.input.feed_ag                               14149 non-null  float64\n",
      " 35  rougher.input.feed_pb                               14049 non-null  float64\n",
      " 36  rougher.input.feed_rate                             14141 non-null  float64\n",
      " 37  rougher.input.feed_size                             14005 non-null  float64\n",
      " 38  rougher.input.feed_sol                              14071 non-null  float64\n",
      " 39  rougher.input.feed_au                               14149 non-null  float64\n",
      " 40  rougher.input.floatbank10_sulfate                   14120 non-null  float64\n",
      " 41  rougher.input.floatbank10_xanthate                  14141 non-null  float64\n",
      " 42  rougher.input.floatbank11_sulfate                   14113 non-null  float64\n",
      " 43  rougher.input.floatbank11_xanthate                  13721 non-null  float64\n",
      " 44  rougher.output.concentrate_ag                       14149 non-null  float64\n",
      " 45  rougher.output.concentrate_pb                       14149 non-null  float64\n",
      " 46  rougher.output.concentrate_sol                      14127 non-null  float64\n",
      " 47  rougher.output.concentrate_au                       14149 non-null  float64\n",
      " 48  rougher.output.recovery                             14149 non-null  float64\n",
      " 49  rougher.output.tail_ag                              14148 non-null  float64\n",
      " 50  rougher.output.tail_pb                              14149 non-null  float64\n",
      " 51  rougher.output.tail_sol                             14149 non-null  float64\n",
      " 52  rougher.output.tail_au                              14149 non-null  float64\n",
      " 53  rougher.state.floatbank10_a_air                     14148 non-null  float64\n",
      " 54  rougher.state.floatbank10_a_level                   14148 non-null  float64\n",
      " 55  rougher.state.floatbank10_b_air                     14148 non-null  float64\n",
      " 56  rougher.state.floatbank10_b_level                   14148 non-null  float64\n",
      " 57  rougher.state.floatbank10_c_air                     14148 non-null  float64\n",
      " 58  rougher.state.floatbank10_c_level                   14148 non-null  float64\n",
      " 59  rougher.state.floatbank10_d_air                     14149 non-null  float64\n",
      " 60  rougher.state.floatbank10_d_level                   14149 non-null  float64\n",
      " 61  rougher.state.floatbank10_e_air                     13713 non-null  float64\n",
      " 62  rougher.state.floatbank10_e_level                   14149 non-null  float64\n",
      " 63  rougher.state.floatbank10_f_air                     14149 non-null  float64\n",
      " 64  rougher.state.floatbank10_f_level                   14149 non-null  float64\n",
      " 65  secondary_cleaner.output.tail_ag                    14147 non-null  float64\n",
      " 66  secondary_cleaner.output.tail_pb                    14139 non-null  float64\n",
      " 67  secondary_cleaner.output.tail_sol                   12544 non-null  float64\n",
      " 68  secondary_cleaner.output.tail_au                    14149 non-null  float64\n",
      " 69  secondary_cleaner.state.floatbank2_a_air            13932 non-null  float64\n",
      " 70  secondary_cleaner.state.floatbank2_a_level          14148 non-null  float64\n",
      " 71  secondary_cleaner.state.floatbank2_b_air            14128 non-null  float64\n",
      " 72  secondary_cleaner.state.floatbank2_b_level          14148 non-null  float64\n",
      " 73  secondary_cleaner.state.floatbank3_a_air            14145 non-null  float64\n",
      " 74  secondary_cleaner.state.floatbank3_a_level          14148 non-null  float64\n",
      " 75  secondary_cleaner.state.floatbank3_b_air            14148 non-null  float64\n",
      " 76  secondary_cleaner.state.floatbank3_b_level          14148 non-null  float64\n",
      " 77  secondary_cleaner.state.floatbank4_a_air            14143 non-null  float64\n",
      " 78  secondary_cleaner.state.floatbank4_a_level          14148 non-null  float64\n",
      " 79  secondary_cleaner.state.floatbank4_b_air            14148 non-null  float64\n",
      " 80  secondary_cleaner.state.floatbank4_b_level          14148 non-null  float64\n",
      " 81  secondary_cleaner.state.floatbank5_a_air            14148 non-null  float64\n",
      " 82  secondary_cleaner.state.floatbank5_a_level          14148 non-null  float64\n",
      " 83  secondary_cleaner.state.floatbank5_b_air            14148 non-null  float64\n",
      " 84  secondary_cleaner.state.floatbank5_b_level          14148 non-null  float64\n",
      " 85  secondary_cleaner.state.floatbank6_a_air            14147 non-null  float64\n",
      " 86  secondary_cleaner.state.floatbank6_a_level          14148 non-null  float64\n",
      "dtypes: float64(86), object(1)\n",
      "memory usage: 9.4+ MB\n",
      "<class 'pandas.core.frame.DataFrame'>\n",
      "RangeIndex: 19439 entries, 0 to 19438\n",
      "Data columns (total 87 columns):\n",
      " #   Column                                              Non-Null Count  Dtype  \n",
      "---  ------                                              --------------  -----  \n",
      " 0   date                                                19439 non-null  object \n",
      " 1   final.output.concentrate_ag                         19438 non-null  float64\n",
      " 2   final.output.concentrate_pb                         19438 non-null  float64\n",
      " 3   final.output.concentrate_sol                        19228 non-null  float64\n",
      " 4   final.output.concentrate_au                         19439 non-null  float64\n",
      " 5   final.output.recovery                               19439 non-null  float64\n",
      " 6   final.output.tail_ag                                19438 non-null  float64\n",
      " 7   final.output.tail_pb                                19338 non-null  float64\n",
      " 8   final.output.tail_sol                               19433 non-null  float64\n",
      " 9   final.output.tail_au                                19439 non-null  float64\n",
      " 10  primary_cleaner.input.sulfate                       19415 non-null  float64\n",
      " 11  primary_cleaner.input.depressant                    19402 non-null  float64\n",
      " 12  primary_cleaner.input.feed_size                     19439 non-null  float64\n",
      " 13  primary_cleaner.input.xanthate                      19335 non-null  float64\n",
      " 14  primary_cleaner.output.concentrate_ag               19439 non-null  float64\n",
      " 15  primary_cleaner.output.concentrate_pb               19323 non-null  float64\n",
      " 16  primary_cleaner.output.concentrate_sol              19069 non-null  float64\n",
      " 17  primary_cleaner.output.concentrate_au               19439 non-null  float64\n",
      " 18  primary_cleaner.output.tail_ag                      19435 non-null  float64\n",
      " 19  primary_cleaner.output.tail_pb                      19418 non-null  float64\n",
      " 20  primary_cleaner.output.tail_sol                     19377 non-null  float64\n",
      " 21  primary_cleaner.output.tail_au                      19439 non-null  float64\n",
      " 22  primary_cleaner.state.floatbank8_a_air              19435 non-null  float64\n",
      " 23  primary_cleaner.state.floatbank8_a_level            19438 non-null  float64\n",
      " 24  primary_cleaner.state.floatbank8_b_air              19435 non-null  float64\n",
      " 25  primary_cleaner.state.floatbank8_b_level            19438 non-null  float64\n",
      " 26  primary_cleaner.state.floatbank8_c_air              19437 non-null  float64\n",
      " 27  primary_cleaner.state.floatbank8_c_level            19438 non-null  float64\n",
      " 28  primary_cleaner.state.floatbank8_d_air              19436 non-null  float64\n",
      " 29  primary_cleaner.state.floatbank8_d_level            19438 non-null  float64\n",
      " 30  rougher.calculation.sulfate_to_au_concentrate       19437 non-null  float64\n",
      " 31  rougher.calculation.floatbank10_sulfate_to_au_feed  19437 non-null  float64\n",
      " 32  rougher.calculation.floatbank11_sulfate_to_au_feed  19437 non-null  float64\n",
      " 33  rougher.calculation.au_pb_ratio                     19439 non-null  float64\n",
      " 34  rougher.input.feed_ag                               19439 non-null  float64\n",
      " 35  rougher.input.feed_pb                               19339 non-null  float64\n",
      " 36  rougher.input.feed_rate                             19428 non-null  float64\n",
      " 37  rougher.input.feed_size                             19294 non-null  float64\n",
      " 38  rougher.input.feed_sol                              19340 non-null  float64\n",
      " 39  rougher.input.feed_au                               19439 non-null  float64\n",
      " 40  rougher.input.floatbank10_sulfate                   19405 non-null  float64\n",
      " 41  rougher.input.floatbank10_xanthate                  19431 non-null  float64\n",
      " 42  rougher.input.floatbank11_sulfate                   19395 non-null  float64\n",
      " 43  rougher.input.floatbank11_xanthate                  18986 non-null  float64\n",
      " 44  rougher.output.concentrate_ag                       19439 non-null  float64\n",
      " 45  rougher.output.concentrate_pb                       19439 non-null  float64\n",
      " 46  rougher.output.concentrate_sol                      19416 non-null  float64\n",
      " 47  rougher.output.concentrate_au                       19439 non-null  float64\n",
      " 48  rougher.output.recovery                             19439 non-null  float64\n",
      " 49  rougher.output.tail_ag                              19438 non-null  float64\n",
      " 50  rougher.output.tail_pb                              19439 non-null  float64\n",
      " 51  rougher.output.tail_sol                             19439 non-null  float64\n",
      " 52  rougher.output.tail_au                              19439 non-null  float64\n",
      " 53  rougher.state.floatbank10_a_air                     19438 non-null  float64\n",
      " 54  rougher.state.floatbank10_a_level                   19438 non-null  float64\n",
      " 55  rougher.state.floatbank10_b_air                     19438 non-null  float64\n",
      " 56  rougher.state.floatbank10_b_level                   19438 non-null  float64\n",
      " 57  rougher.state.floatbank10_c_air                     19438 non-null  float64\n",
      " 58  rougher.state.floatbank10_c_level                   19438 non-null  float64\n",
      " 59  rougher.state.floatbank10_d_air                     19439 non-null  float64\n",
      " 60  rougher.state.floatbank10_d_level                   19439 non-null  float64\n",
      " 61  rougher.state.floatbank10_e_air                     19003 non-null  float64\n",
      " 62  rougher.state.floatbank10_e_level                   19439 non-null  float64\n",
      " 63  rougher.state.floatbank10_f_air                     19439 non-null  float64\n",
      " 64  rougher.state.floatbank10_f_level                   19439 non-null  float64\n",
      " 65  secondary_cleaner.output.tail_ag                    19437 non-null  float64\n",
      " 66  secondary_cleaner.output.tail_pb                    19427 non-null  float64\n",
      " 67  secondary_cleaner.output.tail_sol                   17691 non-null  float64\n",
      " 68  secondary_cleaner.output.tail_au                    19439 non-null  float64\n",
      " 69  secondary_cleaner.state.floatbank2_a_air            19219 non-null  float64\n",
      " 70  secondary_cleaner.state.floatbank2_a_level          19438 non-null  float64\n",
      " 71  secondary_cleaner.state.floatbank2_b_air            19416 non-null  float64\n",
      " 72  secondary_cleaner.state.floatbank2_b_level          19438 non-null  float64\n",
      " 73  secondary_cleaner.state.floatbank3_a_air            19426 non-null  float64\n",
      " 74  secondary_cleaner.state.floatbank3_a_level          19438 non-null  float64\n",
      " 75  secondary_cleaner.state.floatbank3_b_air            19438 non-null  float64\n",
      " 76  secondary_cleaner.state.floatbank3_b_level          19438 non-null  float64\n",
      " 77  secondary_cleaner.state.floatbank4_a_air            19433 non-null  float64\n",
      " 78  secondary_cleaner.state.floatbank4_a_level          19438 non-null  float64\n",
      " 79  secondary_cleaner.state.floatbank4_b_air            19438 non-null  float64\n",
      " 80  secondary_cleaner.state.floatbank4_b_level          19438 non-null  float64\n",
      " 81  secondary_cleaner.state.floatbank5_a_air            19438 non-null  float64\n",
      " 82  secondary_cleaner.state.floatbank5_a_level          19438 non-null  float64\n",
      " 83  secondary_cleaner.state.floatbank5_b_air            19438 non-null  float64\n",
      " 84  secondary_cleaner.state.floatbank5_b_level          19438 non-null  float64\n",
      " 85  secondary_cleaner.state.floatbank6_a_air            19437 non-null  float64\n",
      " 86  secondary_cleaner.state.floatbank6_a_level          19438 non-null  float64\n",
      "dtypes: float64(86), object(1)\n",
      "memory usage: 12.9+ MB\n"
     ]
    }
   ],
   "source": [
    "test_data.info()\n",
    "train_data.info()\n",
    "full_data.info()"
   ]
  },
  {
   "cell_type": "markdown",
   "metadata": {},
   "source": [
    "Над чем нужно будет работать:\n",
    "* Нужно будет предсказать данные на этапе `recovery`, поэтому убедимся что эффективность обогащения(`recovery`) рассчитана правильно в уже имеющихся данных.\n",
    "* Взглянуть на возможные дубликаты.\n",
    "* Во всех данных есть пропуски, где-то больше, где-то меньше. Нам нужны только данные в обучающей и тестовой выборке, поэтому их и будет обрабатывать.\n",
    "* Столбцов во всех данныех разное количество. Как минимум, нам придется оставить в обучающей и тестовой выборке одни и те же столбцы, чтобы можно было обучит модель. (Займемся этим чуть позже)"
   ]
  },
  {
   "cell_type": "markdown",
   "metadata": {},
   "source": [
    "### Эффективность обогащения"
   ]
  },
  {
   "cell_type": "code",
   "execution_count": 5,
   "metadata": {
    "scrolled": true
   },
   "outputs": [
    {
     "data": {
      "text/plain": [
       "count    19439.000000\n",
       "mean        83.328587\n",
       "std         14.148086\n",
       "min          0.000000\n",
       "25%         81.037957\n",
       "50%         86.188892\n",
       "75%         90.010670\n",
       "max        100.000000\n",
       "Name: rougher.output.recovery, dtype: float64"
      ]
     },
     "execution_count": 5,
     "metadata": {},
     "output_type": "execute_result"
    }
   ],
   "source": [
    "full_data['rougher.output.recovery'].describe() "
   ]
  },
  {
   "cell_type": "markdown",
   "metadata": {},
   "source": [
    "Сохраним в переменных данные для расчета эффективности обогащения:"
   ]
  },
  {
   "cell_type": "code",
   "execution_count": 6,
   "metadata": {},
   "outputs": [],
   "source": [
    "concentrate_gold = train_data['rougher.output.concentrate_au']\n",
    "gold_before_rougher = train_data['rougher.input.feed_au']\n",
    "gold_in_tail = train_data['rougher.output.tail_au']"
   ]
  },
  {
   "cell_type": "markdown",
   "metadata": {},
   "source": [
    "По формуле найдем эффектиность обогащения:"
   ]
  },
  {
   "cell_type": "code",
   "execution_count": 7,
   "metadata": {},
   "outputs": [],
   "source": [
    "recovery_check = (((concentrate_gold*(gold_before_rougher - gold_in_tail)) / \n",
    "                                 (gold_before_rougher*(concentrate_gold - gold_in_tail)))*100\n",
    "                               )"
   ]
  },
  {
   "cell_type": "markdown",
   "metadata": {},
   "source": [
    "Сравним наши результаты со значениями в данных:"
   ]
  },
  {
   "cell_type": "code",
   "execution_count": 8,
   "metadata": {
    "scrolled": true
   },
   "outputs": [
    {
     "data": {
      "text/plain": [
       "9.73512347450521e-15"
      ]
     },
     "execution_count": 8,
     "metadata": {},
     "output_type": "execute_result"
    }
   ],
   "source": [
    "MAE = mean_absolute_error(train_data['rougher.output.recovery'], recovery_check)\n",
    "MAE"
   ]
  },
  {
   "cell_type": "markdown",
   "metadata": {},
   "source": [
    "MAE практически равен нулю, если и есть ошибки при расчете эффективности, то они настолько мизерные, что их можно игнорировать."
   ]
  },
  {
   "cell_type": "markdown",
   "metadata": {},
   "source": [
    "В будущем нам понадобятся `rougher.output.recovery` и `final.output.recovery`. Добавим их в тестовую выборку из исходной на основе даты:"
   ]
  },
  {
   "cell_type": "code",
   "execution_count": 9,
   "metadata": {
    "scrolled": true
   },
   "outputs": [
    {
     "name": "stdout",
     "output_type": "stream",
     "text": [
      "<class 'pandas.core.frame.DataFrame'>\n",
      "RangeIndex: 5290 entries, 0 to 5289\n",
      "Data columns (total 55 columns):\n",
      " #   Column                                      Non-Null Count  Dtype  \n",
      "---  ------                                      --------------  -----  \n",
      " 0   date                                        5290 non-null   object \n",
      " 1   primary_cleaner.input.sulfate               5286 non-null   float64\n",
      " 2   primary_cleaner.input.depressant            5285 non-null   float64\n",
      " 3   primary_cleaner.input.feed_size             5290 non-null   float64\n",
      " 4   primary_cleaner.input.xanthate              5286 non-null   float64\n",
      " 5   primary_cleaner.state.floatbank8_a_air      5290 non-null   float64\n",
      " 6   primary_cleaner.state.floatbank8_a_level    5290 non-null   float64\n",
      " 7   primary_cleaner.state.floatbank8_b_air      5290 non-null   float64\n",
      " 8   primary_cleaner.state.floatbank8_b_level    5290 non-null   float64\n",
      " 9   primary_cleaner.state.floatbank8_c_air      5290 non-null   float64\n",
      " 10  primary_cleaner.state.floatbank8_c_level    5290 non-null   float64\n",
      " 11  primary_cleaner.state.floatbank8_d_air      5290 non-null   float64\n",
      " 12  primary_cleaner.state.floatbank8_d_level    5290 non-null   float64\n",
      " 13  rougher.input.feed_ag                       5290 non-null   float64\n",
      " 14  rougher.input.feed_pb                       5290 non-null   float64\n",
      " 15  rougher.input.feed_rate                     5287 non-null   float64\n",
      " 16  rougher.input.feed_size                     5289 non-null   float64\n",
      " 17  rougher.input.feed_sol                      5269 non-null   float64\n",
      " 18  rougher.input.feed_au                       5290 non-null   float64\n",
      " 19  rougher.input.floatbank10_sulfate           5285 non-null   float64\n",
      " 20  rougher.input.floatbank10_xanthate          5290 non-null   float64\n",
      " 21  rougher.input.floatbank11_sulfate           5282 non-null   float64\n",
      " 22  rougher.input.floatbank11_xanthate          5265 non-null   float64\n",
      " 23  rougher.state.floatbank10_a_air             5290 non-null   float64\n",
      " 24  rougher.state.floatbank10_a_level           5290 non-null   float64\n",
      " 25  rougher.state.floatbank10_b_air             5290 non-null   float64\n",
      " 26  rougher.state.floatbank10_b_level           5290 non-null   float64\n",
      " 27  rougher.state.floatbank10_c_air             5290 non-null   float64\n",
      " 28  rougher.state.floatbank10_c_level           5290 non-null   float64\n",
      " 29  rougher.state.floatbank10_d_air             5290 non-null   float64\n",
      " 30  rougher.state.floatbank10_d_level           5290 non-null   float64\n",
      " 31  rougher.state.floatbank10_e_air             5290 non-null   float64\n",
      " 32  rougher.state.floatbank10_e_level           5290 non-null   float64\n",
      " 33  rougher.state.floatbank10_f_air             5290 non-null   float64\n",
      " 34  rougher.state.floatbank10_f_level           5290 non-null   float64\n",
      " 35  secondary_cleaner.state.floatbank2_a_air    5287 non-null   float64\n",
      " 36  secondary_cleaner.state.floatbank2_a_level  5290 non-null   float64\n",
      " 37  secondary_cleaner.state.floatbank2_b_air    5288 non-null   float64\n",
      " 38  secondary_cleaner.state.floatbank2_b_level  5290 non-null   float64\n",
      " 39  secondary_cleaner.state.floatbank3_a_air    5281 non-null   float64\n",
      " 40  secondary_cleaner.state.floatbank3_a_level  5290 non-null   float64\n",
      " 41  secondary_cleaner.state.floatbank3_b_air    5290 non-null   float64\n",
      " 42  secondary_cleaner.state.floatbank3_b_level  5290 non-null   float64\n",
      " 43  secondary_cleaner.state.floatbank4_a_air    5290 non-null   float64\n",
      " 44  secondary_cleaner.state.floatbank4_a_level  5290 non-null   float64\n",
      " 45  secondary_cleaner.state.floatbank4_b_air    5290 non-null   float64\n",
      " 46  secondary_cleaner.state.floatbank4_b_level  5290 non-null   float64\n",
      " 47  secondary_cleaner.state.floatbank5_a_air    5290 non-null   float64\n",
      " 48  secondary_cleaner.state.floatbank5_a_level  5290 non-null   float64\n",
      " 49  secondary_cleaner.state.floatbank5_b_air    5290 non-null   float64\n",
      " 50  secondary_cleaner.state.floatbank5_b_level  5290 non-null   float64\n",
      " 51  secondary_cleaner.state.floatbank6_a_air    5290 non-null   float64\n",
      " 52  secondary_cleaner.state.floatbank6_a_level  5290 non-null   float64\n",
      " 53  rougher.output.recovery                     5290 non-null   float64\n",
      " 54  final.output.recovery                       5290 non-null   float64\n",
      "dtypes: float64(54), object(1)\n",
      "memory usage: 2.2+ MB\n"
     ]
    }
   ],
   "source": [
    "columns_to_join = full_data[['date', 'rougher.output.recovery', 'final.output.recovery']]\n",
    "test_data = test_data.join(columns_to_join.set_index('date'), on='date')\n",
    "test_data.info()"
   ]
  },
  {
   "cell_type": "markdown",
   "metadata": {},
   "source": [
    "### Найдем столбцы которых нет в тестовой выборке:"
   ]
  },
  {
   "cell_type": "code",
   "execution_count": 10,
   "metadata": {
    "scrolled": true
   },
   "outputs": [
    {
     "data": {
      "text/plain": [
       "['final.output.concentrate_ag',\n",
       " 'final.output.concentrate_pb',\n",
       " 'final.output.concentrate_sol',\n",
       " 'final.output.concentrate_au',\n",
       " 'final.output.tail_ag',\n",
       " 'final.output.tail_pb',\n",
       " 'final.output.tail_sol',\n",
       " 'final.output.tail_au',\n",
       " 'primary_cleaner.output.concentrate_ag',\n",
       " 'primary_cleaner.output.concentrate_pb',\n",
       " 'primary_cleaner.output.concentrate_sol',\n",
       " 'primary_cleaner.output.concentrate_au',\n",
       " 'primary_cleaner.output.tail_ag',\n",
       " 'primary_cleaner.output.tail_pb',\n",
       " 'primary_cleaner.output.tail_sol',\n",
       " 'primary_cleaner.output.tail_au',\n",
       " 'rougher.calculation.sulfate_to_au_concentrate',\n",
       " 'rougher.calculation.floatbank10_sulfate_to_au_feed',\n",
       " 'rougher.calculation.floatbank11_sulfate_to_au_feed',\n",
       " 'rougher.calculation.au_pb_ratio',\n",
       " 'rougher.output.concentrate_ag',\n",
       " 'rougher.output.concentrate_pb',\n",
       " 'rougher.output.concentrate_sol',\n",
       " 'rougher.output.concentrate_au',\n",
       " 'rougher.output.tail_ag',\n",
       " 'rougher.output.tail_pb',\n",
       " 'rougher.output.tail_sol',\n",
       " 'rougher.output.tail_au',\n",
       " 'secondary_cleaner.output.tail_ag',\n",
       " 'secondary_cleaner.output.tail_pb',\n",
       " 'secondary_cleaner.output.tail_sol',\n",
       " 'secondary_cleaner.output.tail_au']"
      ]
     },
     "metadata": {},
     "output_type": "display_data"
    }
   ],
   "source": [
    "columns_to_drop=[]\n",
    "for i in range(len(full_data.columns.tolist())):\n",
    "    if full_data.columns.tolist()[i] not in test_data.columns.tolist():\n",
    "        columns_to_drop.append(full_data.columns.tolist()[i])\n",
    "display(columns_to_drop)"
   ]
  },
  {
   "cell_type": "markdown",
   "metadata": {},
   "source": [
    "В тестовой выборке недоступны параметры `output` и `calculation`. Т.е. нам известно какое сырье использовали, но неизвестно какой продукт получился на выходе после очистки. Сохраним список этих столбцов и удалим их перед началом обучения моделей."
   ]
  },
  {
   "cell_type": "markdown",
   "metadata": {},
   "source": [
    "### Предобработка"
   ]
  },
  {
   "cell_type": "markdown",
   "metadata": {},
   "source": [
    "**Обучающая выборка:**"
   ]
  },
  {
   "cell_type": "code",
   "execution_count": 11,
   "metadata": {
    "scrolled": true
   },
   "outputs": [
    {
     "name": "stdout",
     "output_type": "stream",
     "text": [
      "<class 'pandas.core.frame.DataFrame'>\n",
      "RangeIndex: 14149 entries, 0 to 14148\n",
      "Data columns (total 87 columns):\n",
      " #   Column                                              Non-Null Count  Dtype  \n",
      "---  ------                                              --------------  -----  \n",
      " 0   date                                                14149 non-null  object \n",
      " 1   final.output.concentrate_ag                         14148 non-null  float64\n",
      " 2   final.output.concentrate_pb                         14148 non-null  float64\n",
      " 3   final.output.concentrate_sol                        13938 non-null  float64\n",
      " 4   final.output.concentrate_au                         14149 non-null  float64\n",
      " 5   final.output.recovery                               14149 non-null  float64\n",
      " 6   final.output.tail_ag                                14149 non-null  float64\n",
      " 7   final.output.tail_pb                                14049 non-null  float64\n",
      " 8   final.output.tail_sol                               14144 non-null  float64\n",
      " 9   final.output.tail_au                                14149 non-null  float64\n",
      " 10  primary_cleaner.input.sulfate                       14129 non-null  float64\n",
      " 11  primary_cleaner.input.depressant                    14117 non-null  float64\n",
      " 12  primary_cleaner.input.feed_size                     14149 non-null  float64\n",
      " 13  primary_cleaner.input.xanthate                      14049 non-null  float64\n",
      " 14  primary_cleaner.output.concentrate_ag               14149 non-null  float64\n",
      " 15  primary_cleaner.output.concentrate_pb               14063 non-null  float64\n",
      " 16  primary_cleaner.output.concentrate_sol              13863 non-null  float64\n",
      " 17  primary_cleaner.output.concentrate_au               14149 non-null  float64\n",
      " 18  primary_cleaner.output.tail_ag                      14148 non-null  float64\n",
      " 19  primary_cleaner.output.tail_pb                      14134 non-null  float64\n",
      " 20  primary_cleaner.output.tail_sol                     14103 non-null  float64\n",
      " 21  primary_cleaner.output.tail_au                      14149 non-null  float64\n",
      " 22  primary_cleaner.state.floatbank8_a_air              14145 non-null  float64\n",
      " 23  primary_cleaner.state.floatbank8_a_level            14148 non-null  float64\n",
      " 24  primary_cleaner.state.floatbank8_b_air              14145 non-null  float64\n",
      " 25  primary_cleaner.state.floatbank8_b_level            14148 non-null  float64\n",
      " 26  primary_cleaner.state.floatbank8_c_air              14147 non-null  float64\n",
      " 27  primary_cleaner.state.floatbank8_c_level            14148 non-null  float64\n",
      " 28  primary_cleaner.state.floatbank8_d_air              14146 non-null  float64\n",
      " 29  primary_cleaner.state.floatbank8_d_level            14148 non-null  float64\n",
      " 30  rougher.calculation.sulfate_to_au_concentrate       14148 non-null  float64\n",
      " 31  rougher.calculation.floatbank10_sulfate_to_au_feed  14148 non-null  float64\n",
      " 32  rougher.calculation.floatbank11_sulfate_to_au_feed  14148 non-null  float64\n",
      " 33  rougher.calculation.au_pb_ratio                     14149 non-null  float64\n",
      " 34  rougher.input.feed_ag                               14149 non-null  float64\n",
      " 35  rougher.input.feed_pb                               14049 non-null  float64\n",
      " 36  rougher.input.feed_rate                             14141 non-null  float64\n",
      " 37  rougher.input.feed_size                             14005 non-null  float64\n",
      " 38  rougher.input.feed_sol                              14071 non-null  float64\n",
      " 39  rougher.input.feed_au                               14149 non-null  float64\n",
      " 40  rougher.input.floatbank10_sulfate                   14120 non-null  float64\n",
      " 41  rougher.input.floatbank10_xanthate                  14141 non-null  float64\n",
      " 42  rougher.input.floatbank11_sulfate                   14113 non-null  float64\n",
      " 43  rougher.input.floatbank11_xanthate                  13721 non-null  float64\n",
      " 44  rougher.output.concentrate_ag                       14149 non-null  float64\n",
      " 45  rougher.output.concentrate_pb                       14149 non-null  float64\n",
      " 46  rougher.output.concentrate_sol                      14127 non-null  float64\n",
      " 47  rougher.output.concentrate_au                       14149 non-null  float64\n",
      " 48  rougher.output.recovery                             14149 non-null  float64\n",
      " 49  rougher.output.tail_ag                              14148 non-null  float64\n",
      " 50  rougher.output.tail_pb                              14149 non-null  float64\n",
      " 51  rougher.output.tail_sol                             14149 non-null  float64\n",
      " 52  rougher.output.tail_au                              14149 non-null  float64\n",
      " 53  rougher.state.floatbank10_a_air                     14148 non-null  float64\n",
      " 54  rougher.state.floatbank10_a_level                   14148 non-null  float64\n",
      " 55  rougher.state.floatbank10_b_air                     14148 non-null  float64\n",
      " 56  rougher.state.floatbank10_b_level                   14148 non-null  float64\n",
      " 57  rougher.state.floatbank10_c_air                     14148 non-null  float64\n",
      " 58  rougher.state.floatbank10_c_level                   14148 non-null  float64\n",
      " 59  rougher.state.floatbank10_d_air                     14149 non-null  float64\n",
      " 60  rougher.state.floatbank10_d_level                   14149 non-null  float64\n",
      " 61  rougher.state.floatbank10_e_air                     13713 non-null  float64\n",
      " 62  rougher.state.floatbank10_e_level                   14149 non-null  float64\n",
      " 63  rougher.state.floatbank10_f_air                     14149 non-null  float64\n",
      " 64  rougher.state.floatbank10_f_level                   14149 non-null  float64\n",
      " 65  secondary_cleaner.output.tail_ag                    14147 non-null  float64\n",
      " 66  secondary_cleaner.output.tail_pb                    14139 non-null  float64\n",
      " 67  secondary_cleaner.output.tail_sol                   12544 non-null  float64\n",
      " 68  secondary_cleaner.output.tail_au                    14149 non-null  float64\n",
      " 69  secondary_cleaner.state.floatbank2_a_air            13932 non-null  float64\n",
      " 70  secondary_cleaner.state.floatbank2_a_level          14148 non-null  float64\n",
      " 71  secondary_cleaner.state.floatbank2_b_air            14128 non-null  float64\n",
      " 72  secondary_cleaner.state.floatbank2_b_level          14148 non-null  float64\n",
      " 73  secondary_cleaner.state.floatbank3_a_air            14145 non-null  float64\n",
      " 74  secondary_cleaner.state.floatbank3_a_level          14148 non-null  float64\n",
      " 75  secondary_cleaner.state.floatbank3_b_air            14148 non-null  float64\n",
      " 76  secondary_cleaner.state.floatbank3_b_level          14148 non-null  float64\n",
      " 77  secondary_cleaner.state.floatbank4_a_air            14143 non-null  float64\n",
      " 78  secondary_cleaner.state.floatbank4_a_level          14148 non-null  float64\n",
      " 79  secondary_cleaner.state.floatbank4_b_air            14148 non-null  float64\n",
      " 80  secondary_cleaner.state.floatbank4_b_level          14148 non-null  float64\n",
      " 81  secondary_cleaner.state.floatbank5_a_air            14148 non-null  float64\n",
      " 82  secondary_cleaner.state.floatbank5_a_level          14148 non-null  float64\n",
      " 83  secondary_cleaner.state.floatbank5_b_air            14148 non-null  float64\n",
      " 84  secondary_cleaner.state.floatbank5_b_level          14148 non-null  float64\n",
      " 85  secondary_cleaner.state.floatbank6_a_air            14147 non-null  float64\n",
      " 86  secondary_cleaner.state.floatbank6_a_level          14148 non-null  float64\n",
      "dtypes: float64(86), object(1)\n",
      "memory usage: 9.4+ MB\n"
     ]
    }
   ],
   "source": [
    "train_data.info()"
   ]
  },
  {
   "cell_type": "markdown",
   "metadata": {},
   "source": [
    "Найдем процент пропусков в столбах:"
   ]
  },
  {
   "cell_type": "code",
   "execution_count": 12,
   "metadata": {
    "scrolled": true
   },
   "outputs": [
    {
     "data": {
      "text/plain": [
       "secondary_cleaner.output.tail_sol           11.343558\n",
       "rougher.state.floatbank10_e_air              3.081490\n",
       "rougher.input.floatbank11_xanthate           3.024949\n",
       "primary_cleaner.output.concentrate_sol       2.021344\n",
       "secondary_cleaner.state.floatbank2_a_air     1.533677\n",
       "                                              ...    \n",
       "rougher.output.concentrate_pb                0.000000\n",
       "rougher.output.concentrate_au                0.000000\n",
       "rougher.output.recovery                      0.000000\n",
       "rougher.output.tail_pb                       0.000000\n",
       "date                                         0.000000\n",
       "Length: 87, dtype: float64"
      ]
     },
     "execution_count": 12,
     "metadata": {},
     "output_type": "execute_result"
    }
   ],
   "source": [
    "train_data.isna().sum().sort_values(ascending=False)/train_data.shape[0]*100"
   ]
  },
  {
   "cell_type": "markdown",
   "metadata": {},
   "source": [
    "Больше всего пропусков в `secondary_cleaner.output.tail_sol`, но он нам все равно не нужен для обучения, поэтому его можно откинуть, остальных пропусков не очень много, их тоже откинем."
   ]
  },
  {
   "cell_type": "code",
   "execution_count": 13,
   "metadata": {},
   "outputs": [],
   "source": [
    "train_data = train_data.dropna()"
   ]
  },
  {
   "cell_type": "markdown",
   "metadata": {},
   "source": [
    "**Дубликаты:**"
   ]
  },
  {
   "cell_type": "code",
   "execution_count": 14,
   "metadata": {
    "scrolled": true
   },
   "outputs": [
    {
     "data": {
      "text/plain": [
       "0"
      ]
     },
     "execution_count": 14,
     "metadata": {},
     "output_type": "execute_result"
    }
   ],
   "source": [
    "train_data.duplicated().sum()"
   ]
  },
  {
   "cell_type": "markdown",
   "metadata": {},
   "source": [
    "Посмотрим на дубликаты по всем столбцам:"
   ]
  },
  {
   "cell_type": "code",
   "execution_count": 15,
   "metadata": {
    "scrolled": true
   },
   "outputs": [
    {
     "name": "stdout",
     "output_type": "stream",
     "text": [
      "date 0\n",
      "final.output.concentrate_ag 36\n",
      "final.output.concentrate_pb 45\n",
      "final.output.concentrate_sol 36\n",
      "final.output.concentrate_au 36\n",
      "final.output.recovery 59\n",
      "final.output.tail_ag 31\n",
      "final.output.tail_pb 31\n",
      "final.output.tail_sol 31\n",
      "final.output.tail_au 31\n",
      "primary_cleaner.input.sulfate 0\n",
      "primary_cleaner.input.depressant 4\n",
      "primary_cleaner.input.feed_size 7961\n",
      "primary_cleaner.input.xanthate 0\n",
      "primary_cleaner.output.concentrate_ag 112\n",
      "primary_cleaner.output.concentrate_pb 119\n",
      "primary_cleaner.output.concentrate_sol 114\n",
      "primary_cleaner.output.concentrate_au 112\n",
      "primary_cleaner.output.tail_ag 50\n",
      "primary_cleaner.output.tail_pb 50\n",
      "primary_cleaner.output.tail_sol 50\n",
      "primary_cleaner.output.tail_au 50\n",
      "primary_cleaner.state.floatbank8_a_air 0\n",
      "primary_cleaner.state.floatbank8_a_level 0\n",
      "primary_cleaner.state.floatbank8_b_air 0\n",
      "primary_cleaner.state.floatbank8_b_level 0\n",
      "primary_cleaner.state.floatbank8_c_air 0\n",
      "primary_cleaner.state.floatbank8_c_level 0\n",
      "primary_cleaner.state.floatbank8_d_air 0\n",
      "primary_cleaner.state.floatbank8_d_level 0\n",
      "rougher.calculation.sulfate_to_au_concentrate 0\n",
      "rougher.calculation.floatbank10_sulfate_to_au_feed 0\n",
      "rougher.calculation.floatbank11_sulfate_to_au_feed 0\n",
      "rougher.calculation.au_pb_ratio 8\n",
      "rougher.input.feed_ag 8\n",
      "rougher.input.feed_pb 10\n",
      "rougher.input.feed_rate 0\n",
      "rougher.input.feed_size 3\n",
      "rougher.input.feed_sol 17\n",
      "rougher.input.feed_au 8\n",
      "rougher.input.floatbank10_sulfate 0\n",
      "rougher.input.floatbank10_xanthate 0\n",
      "rougher.input.floatbank11_sulfate 0\n",
      "rougher.input.floatbank11_xanthate 15\n",
      "rougher.output.concentrate_ag 212\n",
      "rougher.output.concentrate_pb 231\n",
      "rougher.output.concentrate_sol 390\n",
      "rougher.output.concentrate_au 212\n",
      "rougher.output.recovery 211\n",
      "rougher.output.tail_ag 13\n",
      "rougher.output.tail_pb 8\n",
      "rougher.output.tail_sol 44\n",
      "rougher.output.tail_au 12\n",
      "rougher.state.floatbank10_a_air 0\n",
      "rougher.state.floatbank10_a_level 0\n",
      "rougher.state.floatbank10_b_air 0\n",
      "rougher.state.floatbank10_b_level 0\n",
      "rougher.state.floatbank10_c_air 0\n",
      "rougher.state.floatbank10_c_level 0\n",
      "rougher.state.floatbank10_d_air 0\n",
      "rougher.state.floatbank10_d_level 0\n",
      "rougher.state.floatbank10_e_air 0\n",
      "rougher.state.floatbank10_e_level 0\n",
      "rougher.state.floatbank10_f_air 0\n",
      "rougher.state.floatbank10_f_level 0\n",
      "secondary_cleaner.output.tail_ag 406\n",
      "secondary_cleaner.output.tail_pb 407\n",
      "secondary_cleaner.output.tail_sol 406\n",
      "secondary_cleaner.output.tail_au 406\n",
      "secondary_cleaner.state.floatbank2_a_air 1\n",
      "secondary_cleaner.state.floatbank2_a_level 0\n",
      "secondary_cleaner.state.floatbank2_b_air 129\n",
      "secondary_cleaner.state.floatbank2_b_level 0\n",
      "secondary_cleaner.state.floatbank3_a_air 0\n",
      "secondary_cleaner.state.floatbank3_a_level 0\n",
      "secondary_cleaner.state.floatbank3_b_air 0\n",
      "secondary_cleaner.state.floatbank3_b_level 0\n",
      "secondary_cleaner.state.floatbank4_a_air 0\n",
      "secondary_cleaner.state.floatbank4_a_level 0\n",
      "secondary_cleaner.state.floatbank4_b_air 4\n",
      "secondary_cleaner.state.floatbank4_b_level 2\n",
      "secondary_cleaner.state.floatbank5_a_air 0\n",
      "secondary_cleaner.state.floatbank5_a_level 0\n",
      "secondary_cleaner.state.floatbank5_b_air 0\n",
      "secondary_cleaner.state.floatbank5_b_level 0\n",
      "secondary_cleaner.state.floatbank6_a_air 0\n",
      "secondary_cleaner.state.floatbank6_a_level 0\n"
     ]
    }
   ],
   "source": [
    "for i in range(len(train_data.columns.tolist())):\n",
    "    n = train_data.columns[i]\n",
    "    print(n, train_data[n].duplicated().sum())"
   ]
  },
  {
   "cell_type": "markdown",
   "metadata": {},
   "source": [
    "Больше всего дубликатов в `primary_cleaner.input.feed_size`, но скорее всего, это просто фиксированная объем, который обычно отправляется на флотацию. \n",
    "\n",
    "Остальные дубликаты редки и, скорее всего, просто совпадения."
   ]
  },
  {
   "cell_type": "markdown",
   "metadata": {},
   "source": [
    "**Тестовая выборка:**"
   ]
  },
  {
   "cell_type": "code",
   "execution_count": 16,
   "metadata": {
    "scrolled": true
   },
   "outputs": [
    {
     "name": "stdout",
     "output_type": "stream",
     "text": [
      "<class 'pandas.core.frame.DataFrame'>\n",
      "RangeIndex: 5290 entries, 0 to 5289\n",
      "Data columns (total 55 columns):\n",
      " #   Column                                      Non-Null Count  Dtype  \n",
      "---  ------                                      --------------  -----  \n",
      " 0   date                                        5290 non-null   object \n",
      " 1   primary_cleaner.input.sulfate               5286 non-null   float64\n",
      " 2   primary_cleaner.input.depressant            5285 non-null   float64\n",
      " 3   primary_cleaner.input.feed_size             5290 non-null   float64\n",
      " 4   primary_cleaner.input.xanthate              5286 non-null   float64\n",
      " 5   primary_cleaner.state.floatbank8_a_air      5290 non-null   float64\n",
      " 6   primary_cleaner.state.floatbank8_a_level    5290 non-null   float64\n",
      " 7   primary_cleaner.state.floatbank8_b_air      5290 non-null   float64\n",
      " 8   primary_cleaner.state.floatbank8_b_level    5290 non-null   float64\n",
      " 9   primary_cleaner.state.floatbank8_c_air      5290 non-null   float64\n",
      " 10  primary_cleaner.state.floatbank8_c_level    5290 non-null   float64\n",
      " 11  primary_cleaner.state.floatbank8_d_air      5290 non-null   float64\n",
      " 12  primary_cleaner.state.floatbank8_d_level    5290 non-null   float64\n",
      " 13  rougher.input.feed_ag                       5290 non-null   float64\n",
      " 14  rougher.input.feed_pb                       5290 non-null   float64\n",
      " 15  rougher.input.feed_rate                     5287 non-null   float64\n",
      " 16  rougher.input.feed_size                     5289 non-null   float64\n",
      " 17  rougher.input.feed_sol                      5269 non-null   float64\n",
      " 18  rougher.input.feed_au                       5290 non-null   float64\n",
      " 19  rougher.input.floatbank10_sulfate           5285 non-null   float64\n",
      " 20  rougher.input.floatbank10_xanthate          5290 non-null   float64\n",
      " 21  rougher.input.floatbank11_sulfate           5282 non-null   float64\n",
      " 22  rougher.input.floatbank11_xanthate          5265 non-null   float64\n",
      " 23  rougher.state.floatbank10_a_air             5290 non-null   float64\n",
      " 24  rougher.state.floatbank10_a_level           5290 non-null   float64\n",
      " 25  rougher.state.floatbank10_b_air             5290 non-null   float64\n",
      " 26  rougher.state.floatbank10_b_level           5290 non-null   float64\n",
      " 27  rougher.state.floatbank10_c_air             5290 non-null   float64\n",
      " 28  rougher.state.floatbank10_c_level           5290 non-null   float64\n",
      " 29  rougher.state.floatbank10_d_air             5290 non-null   float64\n",
      " 30  rougher.state.floatbank10_d_level           5290 non-null   float64\n",
      " 31  rougher.state.floatbank10_e_air             5290 non-null   float64\n",
      " 32  rougher.state.floatbank10_e_level           5290 non-null   float64\n",
      " 33  rougher.state.floatbank10_f_air             5290 non-null   float64\n",
      " 34  rougher.state.floatbank10_f_level           5290 non-null   float64\n",
      " 35  secondary_cleaner.state.floatbank2_a_air    5287 non-null   float64\n",
      " 36  secondary_cleaner.state.floatbank2_a_level  5290 non-null   float64\n",
      " 37  secondary_cleaner.state.floatbank2_b_air    5288 non-null   float64\n",
      " 38  secondary_cleaner.state.floatbank2_b_level  5290 non-null   float64\n",
      " 39  secondary_cleaner.state.floatbank3_a_air    5281 non-null   float64\n",
      " 40  secondary_cleaner.state.floatbank3_a_level  5290 non-null   float64\n",
      " 41  secondary_cleaner.state.floatbank3_b_air    5290 non-null   float64\n",
      " 42  secondary_cleaner.state.floatbank3_b_level  5290 non-null   float64\n",
      " 43  secondary_cleaner.state.floatbank4_a_air    5290 non-null   float64\n",
      " 44  secondary_cleaner.state.floatbank4_a_level  5290 non-null   float64\n",
      " 45  secondary_cleaner.state.floatbank4_b_air    5290 non-null   float64\n",
      " 46  secondary_cleaner.state.floatbank4_b_level  5290 non-null   float64\n",
      " 47  secondary_cleaner.state.floatbank5_a_air    5290 non-null   float64\n",
      " 48  secondary_cleaner.state.floatbank5_a_level  5290 non-null   float64\n",
      " 49  secondary_cleaner.state.floatbank5_b_air    5290 non-null   float64\n",
      " 50  secondary_cleaner.state.floatbank5_b_level  5290 non-null   float64\n",
      " 51  secondary_cleaner.state.floatbank6_a_air    5290 non-null   float64\n",
      " 52  secondary_cleaner.state.floatbank6_a_level  5290 non-null   float64\n",
      " 53  rougher.output.recovery                     5290 non-null   float64\n",
      " 54  final.output.recovery                       5290 non-null   float64\n",
      "dtypes: float64(54), object(1)\n",
      "memory usage: 2.2+ MB\n"
     ]
    }
   ],
   "source": [
    "test_data.info()"
   ]
  },
  {
   "cell_type": "code",
   "execution_count": 17,
   "metadata": {
    "scrolled": true
   },
   "outputs": [
    {
     "data": {
      "text/plain": [
       "rougher.input.floatbank11_xanthate            0.472590\n",
       "rougher.input.feed_sol                        0.396975\n",
       "secondary_cleaner.state.floatbank3_a_air      0.170132\n",
       "rougher.input.floatbank11_sulfate             0.151229\n",
       "primary_cleaner.input.depressant              0.094518\n",
       "rougher.input.floatbank10_sulfate             0.094518\n",
       "primary_cleaner.input.xanthate                0.075614\n",
       "primary_cleaner.input.sulfate                 0.075614\n",
       "secondary_cleaner.state.floatbank2_a_air      0.056711\n",
       "rougher.input.feed_rate                       0.056711\n",
       "secondary_cleaner.state.floatbank2_b_air      0.037807\n",
       "rougher.input.feed_size                       0.018904\n",
       "secondary_cleaner.state.floatbank3_a_level    0.000000\n",
       "secondary_cleaner.state.floatbank3_b_level    0.000000\n",
       "secondary_cleaner.state.floatbank3_b_air      0.000000\n",
       "secondary_cleaner.state.floatbank2_a_level    0.000000\n",
       "rougher.state.floatbank10_f_level             0.000000\n",
       "secondary_cleaner.state.floatbank2_b_level    0.000000\n",
       "date                                          0.000000\n",
       "rougher.state.floatbank10_e_level             0.000000\n",
       "secondary_cleaner.state.floatbank4_a_air      0.000000\n",
       "secondary_cleaner.state.floatbank4_a_level    0.000000\n",
       "secondary_cleaner.state.floatbank4_b_air      0.000000\n",
       "secondary_cleaner.state.floatbank4_b_level    0.000000\n",
       "secondary_cleaner.state.floatbank5_a_air      0.000000\n",
       "secondary_cleaner.state.floatbank5_a_level    0.000000\n",
       "secondary_cleaner.state.floatbank5_b_air      0.000000\n",
       "secondary_cleaner.state.floatbank5_b_level    0.000000\n",
       "secondary_cleaner.state.floatbank6_a_air      0.000000\n",
       "secondary_cleaner.state.floatbank6_a_level    0.000000\n",
       "rougher.output.recovery                       0.000000\n",
       "rougher.state.floatbank10_f_air               0.000000\n",
       "rougher.state.floatbank10_c_air               0.000000\n",
       "rougher.state.floatbank10_e_air               0.000000\n",
       "rougher.state.floatbank10_d_level             0.000000\n",
       "primary_cleaner.input.feed_size               0.000000\n",
       "primary_cleaner.state.floatbank8_a_air        0.000000\n",
       "primary_cleaner.state.floatbank8_a_level      0.000000\n",
       "primary_cleaner.state.floatbank8_b_air        0.000000\n",
       "primary_cleaner.state.floatbank8_b_level      0.000000\n",
       "primary_cleaner.state.floatbank8_c_air        0.000000\n",
       "primary_cleaner.state.floatbank8_c_level      0.000000\n",
       "primary_cleaner.state.floatbank8_d_air        0.000000\n",
       "primary_cleaner.state.floatbank8_d_level      0.000000\n",
       "rougher.input.feed_ag                         0.000000\n",
       "rougher.input.feed_pb                         0.000000\n",
       "rougher.input.feed_au                         0.000000\n",
       "rougher.input.floatbank10_xanthate            0.000000\n",
       "rougher.state.floatbank10_a_air               0.000000\n",
       "rougher.state.floatbank10_a_level             0.000000\n",
       "rougher.state.floatbank10_b_air               0.000000\n",
       "rougher.state.floatbank10_b_level             0.000000\n",
       "rougher.state.floatbank10_c_level             0.000000\n",
       "rougher.state.floatbank10_d_air               0.000000\n",
       "final.output.recovery                         0.000000\n",
       "dtype: float64"
      ]
     },
     "execution_count": 17,
     "metadata": {},
     "output_type": "execute_result"
    }
   ],
   "source": [
    "test_data.isnull().sum().sort_values(ascending=False)/test_data.shape[0]*100"
   ]
  },
  {
   "cell_type": "markdown",
   "metadata": {},
   "source": [
    "Процент пропусков маленький, поэтому можно их отбросить:"
   ]
  },
  {
   "cell_type": "code",
   "execution_count": 18,
   "metadata": {},
   "outputs": [],
   "source": [
    "test_data = test_data.dropna()"
   ]
  },
  {
   "cell_type": "code",
   "execution_count": 19,
   "metadata": {
    "scrolled": true
   },
   "outputs": [
    {
     "name": "stdout",
     "output_type": "stream",
     "text": [
      "<class 'pandas.core.frame.DataFrame'>\n",
      "Int64Index: 5229 entries, 0 to 5289\n",
      "Data columns (total 55 columns):\n",
      " #   Column                                      Non-Null Count  Dtype  \n",
      "---  ------                                      --------------  -----  \n",
      " 0   date                                        5229 non-null   object \n",
      " 1   primary_cleaner.input.sulfate               5229 non-null   float64\n",
      " 2   primary_cleaner.input.depressant            5229 non-null   float64\n",
      " 3   primary_cleaner.input.feed_size             5229 non-null   float64\n",
      " 4   primary_cleaner.input.xanthate              5229 non-null   float64\n",
      " 5   primary_cleaner.state.floatbank8_a_air      5229 non-null   float64\n",
      " 6   primary_cleaner.state.floatbank8_a_level    5229 non-null   float64\n",
      " 7   primary_cleaner.state.floatbank8_b_air      5229 non-null   float64\n",
      " 8   primary_cleaner.state.floatbank8_b_level    5229 non-null   float64\n",
      " 9   primary_cleaner.state.floatbank8_c_air      5229 non-null   float64\n",
      " 10  primary_cleaner.state.floatbank8_c_level    5229 non-null   float64\n",
      " 11  primary_cleaner.state.floatbank8_d_air      5229 non-null   float64\n",
      " 12  primary_cleaner.state.floatbank8_d_level    5229 non-null   float64\n",
      " 13  rougher.input.feed_ag                       5229 non-null   float64\n",
      " 14  rougher.input.feed_pb                       5229 non-null   float64\n",
      " 15  rougher.input.feed_rate                     5229 non-null   float64\n",
      " 16  rougher.input.feed_size                     5229 non-null   float64\n",
      " 17  rougher.input.feed_sol                      5229 non-null   float64\n",
      " 18  rougher.input.feed_au                       5229 non-null   float64\n",
      " 19  rougher.input.floatbank10_sulfate           5229 non-null   float64\n",
      " 20  rougher.input.floatbank10_xanthate          5229 non-null   float64\n",
      " 21  rougher.input.floatbank11_sulfate           5229 non-null   float64\n",
      " 22  rougher.input.floatbank11_xanthate          5229 non-null   float64\n",
      " 23  rougher.state.floatbank10_a_air             5229 non-null   float64\n",
      " 24  rougher.state.floatbank10_a_level           5229 non-null   float64\n",
      " 25  rougher.state.floatbank10_b_air             5229 non-null   float64\n",
      " 26  rougher.state.floatbank10_b_level           5229 non-null   float64\n",
      " 27  rougher.state.floatbank10_c_air             5229 non-null   float64\n",
      " 28  rougher.state.floatbank10_c_level           5229 non-null   float64\n",
      " 29  rougher.state.floatbank10_d_air             5229 non-null   float64\n",
      " 30  rougher.state.floatbank10_d_level           5229 non-null   float64\n",
      " 31  rougher.state.floatbank10_e_air             5229 non-null   float64\n",
      " 32  rougher.state.floatbank10_e_level           5229 non-null   float64\n",
      " 33  rougher.state.floatbank10_f_air             5229 non-null   float64\n",
      " 34  rougher.state.floatbank10_f_level           5229 non-null   float64\n",
      " 35  secondary_cleaner.state.floatbank2_a_air    5229 non-null   float64\n",
      " 36  secondary_cleaner.state.floatbank2_a_level  5229 non-null   float64\n",
      " 37  secondary_cleaner.state.floatbank2_b_air    5229 non-null   float64\n",
      " 38  secondary_cleaner.state.floatbank2_b_level  5229 non-null   float64\n",
      " 39  secondary_cleaner.state.floatbank3_a_air    5229 non-null   float64\n",
      " 40  secondary_cleaner.state.floatbank3_a_level  5229 non-null   float64\n",
      " 41  secondary_cleaner.state.floatbank3_b_air    5229 non-null   float64\n",
      " 42  secondary_cleaner.state.floatbank3_b_level  5229 non-null   float64\n",
      " 43  secondary_cleaner.state.floatbank4_a_air    5229 non-null   float64\n",
      " 44  secondary_cleaner.state.floatbank4_a_level  5229 non-null   float64\n",
      " 45  secondary_cleaner.state.floatbank4_b_air    5229 non-null   float64\n",
      " 46  secondary_cleaner.state.floatbank4_b_level  5229 non-null   float64\n",
      " 47  secondary_cleaner.state.floatbank5_a_air    5229 non-null   float64\n",
      " 48  secondary_cleaner.state.floatbank5_a_level  5229 non-null   float64\n",
      " 49  secondary_cleaner.state.floatbank5_b_air    5229 non-null   float64\n",
      " 50  secondary_cleaner.state.floatbank5_b_level  5229 non-null   float64\n",
      " 51  secondary_cleaner.state.floatbank6_a_air    5229 non-null   float64\n",
      " 52  secondary_cleaner.state.floatbank6_a_level  5229 non-null   float64\n",
      " 53  rougher.output.recovery                     5229 non-null   float64\n",
      " 54  final.output.recovery                       5229 non-null   float64\n",
      "dtypes: float64(54), object(1)\n",
      "memory usage: 2.2+ MB\n"
     ]
    }
   ],
   "source": [
    "test_data.info()"
   ]
  },
  {
   "cell_type": "markdown",
   "metadata": {},
   "source": [
    "Взглянем на дубликаты по столбцам:"
   ]
  },
  {
   "cell_type": "code",
   "execution_count": 20,
   "metadata": {
    "scrolled": true
   },
   "outputs": [
    {
     "name": "stdout",
     "output_type": "stream",
     "text": [
      "date 0\n",
      "primary_cleaner.input.sulfate 0\n",
      "primary_cleaner.input.depressant 0\n",
      "primary_cleaner.input.feed_size 3700\n",
      "primary_cleaner.input.xanthate 0\n",
      "primary_cleaner.state.floatbank8_a_air 0\n",
      "primary_cleaner.state.floatbank8_a_level 0\n",
      "primary_cleaner.state.floatbank8_b_air 0\n",
      "primary_cleaner.state.floatbank8_b_level 0\n",
      "primary_cleaner.state.floatbank8_c_air 0\n",
      "primary_cleaner.state.floatbank8_c_level 0\n",
      "primary_cleaner.state.floatbank8_d_air 0\n",
      "primary_cleaner.state.floatbank8_d_level 0\n",
      "rougher.input.feed_ag 6\n",
      "rougher.input.feed_pb 7\n",
      "rougher.input.feed_rate 0\n",
      "rougher.input.feed_size 0\n",
      "rougher.input.feed_sol 8\n",
      "rougher.input.feed_au 6\n",
      "rougher.input.floatbank10_sulfate 0\n",
      "rougher.input.floatbank10_xanthate 0\n",
      "rougher.input.floatbank11_sulfate 0\n",
      "rougher.input.floatbank11_xanthate 0\n",
      "rougher.state.floatbank10_a_air 0\n",
      "rougher.state.floatbank10_a_level 0\n",
      "rougher.state.floatbank10_b_air 0\n",
      "rougher.state.floatbank10_b_level 0\n",
      "rougher.state.floatbank10_c_air 0\n",
      "rougher.state.floatbank10_c_level 0\n",
      "rougher.state.floatbank10_d_air 0\n",
      "rougher.state.floatbank10_d_level 0\n",
      "rougher.state.floatbank10_e_air 0\n",
      "rougher.state.floatbank10_e_level 0\n",
      "rougher.state.floatbank10_f_air 0\n",
      "rougher.state.floatbank10_f_level 0\n",
      "secondary_cleaner.state.floatbank2_a_air 0\n",
      "secondary_cleaner.state.floatbank2_a_level 0\n",
      "secondary_cleaner.state.floatbank2_b_air 0\n",
      "secondary_cleaner.state.floatbank2_b_level 0\n",
      "secondary_cleaner.state.floatbank3_a_air 69\n",
      "secondary_cleaner.state.floatbank3_a_level 0\n",
      "secondary_cleaner.state.floatbank3_b_air 111\n",
      "secondary_cleaner.state.floatbank3_b_level 0\n",
      "secondary_cleaner.state.floatbank4_a_air 10\n",
      "secondary_cleaner.state.floatbank4_a_level 0\n",
      "secondary_cleaner.state.floatbank4_b_air 19\n",
      "secondary_cleaner.state.floatbank4_b_level 0\n",
      "secondary_cleaner.state.floatbank5_a_air 0\n",
      "secondary_cleaner.state.floatbank5_a_level 0\n",
      "secondary_cleaner.state.floatbank5_b_air 0\n",
      "secondary_cleaner.state.floatbank5_b_level 0\n",
      "secondary_cleaner.state.floatbank6_a_air 0\n",
      "secondary_cleaner.state.floatbank6_a_level 0\n",
      "rougher.output.recovery 101\n",
      "final.output.recovery 46\n"
     ]
    }
   ],
   "source": [
    "for i in range(len(test_data.columns.tolist())):\n",
    "    n = test_data.columns[i]\n",
    "    print(n, test_data[n].duplicated().sum())"
   ]
  },
  {
   "cell_type": "markdown",
   "metadata": {},
   "source": [
    "Ситуация такая же как и в обучающей выборке: малое количество дубликатов - просто совпадения, большое кол-во дубликатов в `primary_cleaner.input.feed_siz` опять  же фиксированный объем сырья."
   ]
  },
  {
   "cell_type": "markdown",
   "metadata": {},
   "source": [
    "### Вывод: \n",
    "Мы избавились от пропусков, сохранили список столбцов, которые мы удалим перед обучением, разобрались с дубликатами."
   ]
  },
  {
   "cell_type": "markdown",
   "metadata": {},
   "source": [
    "## Анализ данных"
   ]
  },
  {
   "cell_type": "markdown",
   "metadata": {},
   "source": [
    "Посмотрим на концентрацию разных металов на разных стадиях очистки:"
   ]
  },
  {
   "cell_type": "markdown",
   "metadata": {},
   "source": [
    "В тестовой выборке нет `output` поэтому его смотреть будем в обучающей выборке, создадим отдельный датафрейм со всеми необходимыми данными:"
   ]
  },
  {
   "cell_type": "code",
   "execution_count": 21,
   "metadata": {
    "scrolled": true
   },
   "outputs": [
    {
     "data": {
      "text/html": [
       "<div>\n",
       "<style scoped>\n",
       "    .dataframe tbody tr th:only-of-type {\n",
       "        vertical-align: middle;\n",
       "    }\n",
       "\n",
       "    .dataframe tbody tr th {\n",
       "        vertical-align: top;\n",
       "    }\n",
       "\n",
       "    .dataframe thead th {\n",
       "        text-align: right;\n",
       "    }\n",
       "</style>\n",
       "<table border=\"1\" class=\"dataframe\">\n",
       "  <thead>\n",
       "    <tr style=\"text-align: right;\">\n",
       "      <th></th>\n",
       "      <th>rougher.output.concentrate_ag</th>\n",
       "      <th>rougher.output.concentrate_pb</th>\n",
       "      <th>rougher.output.concentrate_sol</th>\n",
       "      <th>rougher.output.concentrate_au</th>\n",
       "      <th>primary_cleaner.output.concentrate_ag</th>\n",
       "      <th>primary_cleaner.output.concentrate_pb</th>\n",
       "      <th>primary_cleaner.output.concentrate_sol</th>\n",
       "      <th>primary_cleaner.output.concentrate_au</th>\n",
       "      <th>final.output.concentrate_ag</th>\n",
       "      <th>final.output.concentrate_pb</th>\n",
       "      <th>final.output.concentrate_sol</th>\n",
       "      <th>final.output.concentrate_au</th>\n",
       "      <th>rougher.input.feed_ag</th>\n",
       "      <th>rougher.input.feed_pb</th>\n",
       "      <th>rougher.input.feed_sol</th>\n",
       "      <th>rougher.input.feed_au</th>\n",
       "    </tr>\n",
       "  </thead>\n",
       "  <tbody>\n",
       "    <tr>\n",
       "      <th>0</th>\n",
       "      <td>11.500771</td>\n",
       "      <td>7.101074</td>\n",
       "      <td>28.029297</td>\n",
       "      <td>19.793808</td>\n",
       "      <td>8.547551</td>\n",
       "      <td>10.389648</td>\n",
       "      <td>19.529297</td>\n",
       "      <td>34.174427</td>\n",
       "      <td>6.055403</td>\n",
       "      <td>9.889648</td>\n",
       "      <td>5.507324</td>\n",
       "      <td>42.192020</td>\n",
       "      <td>6.100378</td>\n",
       "      <td>2.284912</td>\n",
       "      <td>36.808594</td>\n",
       "      <td>6.486150</td>\n",
       "    </tr>\n",
       "    <tr>\n",
       "      <th>1</th>\n",
       "      <td>11.615865</td>\n",
       "      <td>7.278807</td>\n",
       "      <td>28.067063</td>\n",
       "      <td>20.050975</td>\n",
       "      <td>8.558743</td>\n",
       "      <td>10.497069</td>\n",
       "      <td>19.369147</td>\n",
       "      <td>34.118526</td>\n",
       "      <td>6.029369</td>\n",
       "      <td>9.968944</td>\n",
       "      <td>5.257781</td>\n",
       "      <td>42.701629</td>\n",
       "      <td>6.161113</td>\n",
       "      <td>2.266033</td>\n",
       "      <td>35.753385</td>\n",
       "      <td>6.478583</td>\n",
       "    </tr>\n",
       "    <tr>\n",
       "      <th>2</th>\n",
       "      <td>11.695753</td>\n",
       "      <td>7.216833</td>\n",
       "      <td>27.454037</td>\n",
       "      <td>19.737170</td>\n",
       "      <td>8.603505</td>\n",
       "      <td>10.354494</td>\n",
       "      <td>19.167579</td>\n",
       "      <td>33.969464</td>\n",
       "      <td>6.055926</td>\n",
       "      <td>10.213995</td>\n",
       "      <td>5.383759</td>\n",
       "      <td>42.657501</td>\n",
       "      <td>6.116455</td>\n",
       "      <td>2.159622</td>\n",
       "      <td>35.971630</td>\n",
       "      <td>6.362222</td>\n",
       "    </tr>\n",
       "    <tr>\n",
       "      <th>3</th>\n",
       "      <td>11.915047</td>\n",
       "      <td>7.175616</td>\n",
       "      <td>27.341277</td>\n",
       "      <td>19.320810</td>\n",
       "      <td>7.221879</td>\n",
       "      <td>8.496563</td>\n",
       "      <td>15.978538</td>\n",
       "      <td>28.260743</td>\n",
       "      <td>6.047977</td>\n",
       "      <td>9.977019</td>\n",
       "      <td>4.858634</td>\n",
       "      <td>42.689819</td>\n",
       "      <td>6.043309</td>\n",
       "      <td>2.037807</td>\n",
       "      <td>36.862241</td>\n",
       "      <td>6.118189</td>\n",
       "    </tr>\n",
       "    <tr>\n",
       "      <th>4</th>\n",
       "      <td>12.411054</td>\n",
       "      <td>7.240205</td>\n",
       "      <td>27.041023</td>\n",
       "      <td>19.216101</td>\n",
       "      <td>9.089428</td>\n",
       "      <td>9.986786</td>\n",
       "      <td>19.199864</td>\n",
       "      <td>33.044932</td>\n",
       "      <td>6.148599</td>\n",
       "      <td>10.142511</td>\n",
       "      <td>4.939416</td>\n",
       "      <td>42.774141</td>\n",
       "      <td>6.060915</td>\n",
       "      <td>1.786875</td>\n",
       "      <td>34.347666</td>\n",
       "      <td>5.663707</td>\n",
       "    </tr>\n",
       "  </tbody>\n",
       "</table>\n",
       "</div>"
      ],
      "text/plain": [
       "   rougher.output.concentrate_ag  rougher.output.concentrate_pb  \\\n",
       "0                      11.500771                       7.101074   \n",
       "1                      11.615865                       7.278807   \n",
       "2                      11.695753                       7.216833   \n",
       "3                      11.915047                       7.175616   \n",
       "4                      12.411054                       7.240205   \n",
       "\n",
       "   rougher.output.concentrate_sol  rougher.output.concentrate_au  \\\n",
       "0                       28.029297                      19.793808   \n",
       "1                       28.067063                      20.050975   \n",
       "2                       27.454037                      19.737170   \n",
       "3                       27.341277                      19.320810   \n",
       "4                       27.041023                      19.216101   \n",
       "\n",
       "   primary_cleaner.output.concentrate_ag  \\\n",
       "0                               8.547551   \n",
       "1                               8.558743   \n",
       "2                               8.603505   \n",
       "3                               7.221879   \n",
       "4                               9.089428   \n",
       "\n",
       "   primary_cleaner.output.concentrate_pb  \\\n",
       "0                              10.389648   \n",
       "1                              10.497069   \n",
       "2                              10.354494   \n",
       "3                               8.496563   \n",
       "4                               9.986786   \n",
       "\n",
       "   primary_cleaner.output.concentrate_sol  \\\n",
       "0                               19.529297   \n",
       "1                               19.369147   \n",
       "2                               19.167579   \n",
       "3                               15.978538   \n",
       "4                               19.199864   \n",
       "\n",
       "   primary_cleaner.output.concentrate_au  final.output.concentrate_ag  \\\n",
       "0                              34.174427                     6.055403   \n",
       "1                              34.118526                     6.029369   \n",
       "2                              33.969464                     6.055926   \n",
       "3                              28.260743                     6.047977   \n",
       "4                              33.044932                     6.148599   \n",
       "\n",
       "   final.output.concentrate_pb  final.output.concentrate_sol  \\\n",
       "0                     9.889648                      5.507324   \n",
       "1                     9.968944                      5.257781   \n",
       "2                    10.213995                      5.383759   \n",
       "3                     9.977019                      4.858634   \n",
       "4                    10.142511                      4.939416   \n",
       "\n",
       "   final.output.concentrate_au  rougher.input.feed_ag  rougher.input.feed_pb  \\\n",
       "0                    42.192020               6.100378               2.284912   \n",
       "1                    42.701629               6.161113               2.266033   \n",
       "2                    42.657501               6.116455               2.159622   \n",
       "3                    42.689819               6.043309               2.037807   \n",
       "4                    42.774141               6.060915               1.786875   \n",
       "\n",
       "   rougher.input.feed_sol  rougher.input.feed_au  \n",
       "0               36.808594               6.486150  \n",
       "1               35.753385               6.478583  \n",
       "2               35.971630               6.362222  \n",
       "3               36.862241               6.118189  \n",
       "4               34.347666               5.663707  "
      ]
     },
     "execution_count": 21,
     "metadata": {},
     "output_type": "execute_result"
    }
   ],
   "source": [
    "concentrate_after_cleaner = train_data[train_data.columns[[44,45,46,47,\n",
    "                                                           14,15,16,17,\n",
    "                                                          1,2,3,4,\n",
    "                                                           34,35,38,39\n",
    "                                                          ]]]\n",
    "concentrate_after_cleaner.head()"
   ]
  },
  {
   "cell_type": "markdown",
   "metadata": {},
   "source": [
    "### Концентрация металов на каждом этапе очистки:"
   ]
  },
  {
   "cell_type": "markdown",
   "metadata": {},
   "source": [
    "#### Серебро (ag)"
   ]
  },
  {
   "cell_type": "code",
   "execution_count": 22,
   "metadata": {},
   "outputs": [
    {
     "data": {
      "image/png": "[encoded data removed]"
     },
     "metadata": {},
     "output_type": "display_data"
    }
   ],
   "source": [
    "fig = go.Figure(go.Funnel(\n",
    "    y = [\"До обработки\",\"После флотации\", \"После первого этапа очистки\", \"После второго этапа очистки\"],\n",
    "    x = [concentrate_after_cleaner['rougher.input.feed_ag'].mean(),\n",
    "         concentrate_after_cleaner['rougher.output.concentrate_ag'].mean(), \n",
    "         concentrate_after_cleaner['primary_cleaner.output.concentrate_ag'].mean(),\n",
    "         concentrate_after_cleaner['final.output.concentrate_ag'].mean()],\n",
    "        textposition = \"inside\",\n",
    "    textinfo = \"value+percent initial\",\n",
    "    opacity = 0.65, marker = {\"color\": [\"#70D6FF\", \"#FF70A6\", \"#FF9770\", \"#FFF07C\"],\n",
    "    \"line\": {\"width\": [4, 2, 2, 3, 1, 1], \"color\": [\"#70D6FF\", \"#FF70A6\", \"#FF9770\", \"#FFF07C\"]}},\n",
    "    connector = {\"line\": {\"color\": \"#70D6FF\", \"dash\": \"dot\", \"width\": 3}})\n",
    "    )\n",
    "fig.update_layout(\n",
    "    title=\"Доля ag на этапах очистки\")\n",
    "\n",
    "fig.show('png')"
   ]
  },
  {
   "cell_type": "markdown",
   "metadata": {},
   "source": [
    "Доля серебра с возрастает после флотации, но после первого и второго этапа очистки уменьшается."
   ]
  },
  {
   "cell_type": "markdown",
   "metadata": {},
   "source": [
    "#### Свинец (pb)"
   ]
  },
  {
   "cell_type": "code",
   "execution_count": 23,
   "metadata": {},
   "outputs": [
    {
     "data": {
      "image/png": "[encoded data removed]"
     },
     "metadata": {},
     "output_type": "display_data"
    }
   ],
   "source": [
    "fig = go.Figure(go.Funnel(\n",
    "    y = [\"До обработки\",\"После флотации\", \"После первого этапа очистки\", \"После второго этапа очиски\"],\n",
    "    x = [concentrate_after_cleaner['rougher.input.feed_pb'].mean(),\n",
    "         concentrate_after_cleaner['rougher.output.concentrate_pb'].mean(), \n",
    "         concentrate_after_cleaner['primary_cleaner.output.concentrate_pb'].mean(),\n",
    "         concentrate_after_cleaner['final.output.concentrate_pb'].mean()],\n",
    "    textposition = \"inside\",\n",
    "    textinfo = \"value+percent initial\",\n",
    "    opacity = 0.65, marker = {\"color\": [\"#70D6FF\", \"#FF70A6\", \"#FF9770\", \"#FFF07C\"],\n",
    "    \"line\": {\"width\": [4, 2, 2, 3, 1, 1], \"color\": [\"#70D6FF\", \"#FF70A6\", \"#FF9770\", \"#FFF07C\"]}},\n",
    "    connector = {\"line\": {\"color\": \"#70D6FF\", \"dash\": \"dot\", \"width\": 3}})\n",
    "    )\n",
    "fig.update_layout(\n",
    "    title=\"Доля pb на этапах очистки\")\n",
    "\n",
    "fig.show('png')"
   ]
  },
  {
   "cell_type": "markdown",
   "metadata": {},
   "source": [
    "Доля свинца с каждым этапом очистки возрастает"
   ]
  },
  {
   "cell_type": "markdown",
   "metadata": {},
   "source": [
    "#### Золото (au)"
   ]
  },
  {
   "cell_type": "code",
   "execution_count": 24,
   "metadata": {
    "scrolled": false
   },
   "outputs": [
    {
     "data": {
      "image/png": "[encoded data removed]"
     },
     "metadata": {},
     "output_type": "display_data"
    }
   ],
   "source": [
    "fig = go.Figure(go.Funnel(\n",
    "    y = [\"До обработки\",\"Флотация\", \"Первый этап очистки\", \"Второй этап очиски\"],\n",
    "    x = [concentrate_after_cleaner['rougher.input.feed_au'].mean(),\n",
    "         concentrate_after_cleaner['rougher.output.concentrate_au'].mean(), \n",
    "         concentrate_after_cleaner['primary_cleaner.output.concentrate_au'].mean(),\n",
    "         concentrate_after_cleaner['final.output.concentrate_au'].mean()],\n",
    "    textposition = \"inside\",\n",
    "    textinfo = \"value+percent initial\",\n",
    "    opacity = 0.65, marker = {\"color\": [\"#70D6FF\", \"#FF70A6\", \"#FF9770\", \"#FFF07C\"],\n",
    "    \"line\": {\"width\": [4, 2, 2, 3, 1, 1], \"color\": [\"#70D6FF\", \"#FF70A6\", \"#FF9770\", \"#FFF07C\"]}},\n",
    "    connector = {\"line\": {\"color\": \"#70D6FF\", \"dash\": \"dot\", \"width\": 3}})\n",
    "    )\n",
    "fig.update_layout(\n",
    "    title=\"Доля au на этапах очистки\")\n",
    "\n",
    "fig.show('png')"
   ]
  },
  {
   "cell_type": "markdown",
   "metadata": {},
   "source": [
    "Как и должно быть, доля золота сильно возрастает с каждым этапом очистки."
   ]
  },
  {
   "cell_type": "markdown",
   "metadata": {},
   "source": [
    "### Сравним распределение размеров гранул сырья на тестовой и обучающей выборке:"
   ]
  },
  {
   "cell_type": "markdown",
   "metadata": {},
   "source": [
    "#### Этап флотации:"
   ]
  },
  {
   "cell_type": "code",
   "execution_count": 25,
   "metadata": {},
   "outputs": [
    {
     "data": {
      "image/png": "[encoded data removed]"
     },
     "metadata": {},
     "output_type": "display_data"
    }
   ],
   "source": [
    "x0 = train_data['rougher.input.feed_size']\n",
    "\n",
    "x1 = test_data['rougher.input.feed_size']\n",
    "\n",
    "fig = go.Figure()\n",
    "fig.add_trace(go.Histogram(x=x0, name='Обучающая выборка'))\n",
    "fig.add_trace(go.Histogram(x=x1, name='Тестовая выборка'))\n",
    "\n",
    "\n",
    "fig.update_layout(barmode='overlay', title='Распределение размеров гранул сырья на этапе флотации')\n",
    "\n",
    "fig.update_traces(opacity=0.75)\n",
    "fig.show('png')"
   ]
  },
  {
   "cell_type": "markdown",
   "metadata": {},
   "source": [
    "#### Первичный этап очистки:"
   ]
  },
  {
   "cell_type": "code",
   "execution_count": 26,
   "metadata": {
    "scrolled": false
   },
   "outputs": [
    {
     "data": {
      "image/png": "[encoded data removed]"
     },
     "metadata": {},
     "output_type": "display_data"
    }
   ],
   "source": [
    "x0 = train_data['primary_cleaner.input.feed_size']\n",
    "\n",
    "x1 = test_data['primary_cleaner.input.feed_size']\n",
    "\n",
    "fig = go.Figure()\n",
    "fig.add_trace(go.Histogram(x=x0, name='Обучающая выборка'))\n",
    "fig.add_trace(go.Histogram(x=x1, name='Тестовая выборка'))\n",
    "\n",
    "\n",
    "fig.update_layout(barmode='overlay', title='Распределение размеров гранул сырья первичном этапе очистки')\n",
    "\n",
    "fig.update_traces(opacity=0.75)\n",
    "fig.show('png')"
   ]
  },
  {
   "cell_type": "markdown",
   "metadata": {},
   "source": [
    "Распределения отличаются, но не так уж и радикально."
   ]
  },
  {
   "cell_type": "markdown",
   "metadata": {},
   "source": [
    "### Cуммарная концентрация всех веществ на разных стадиях:"
   ]
  },
  {
   "cell_type": "code",
   "execution_count": 27,
   "metadata": {},
   "outputs": [],
   "source": [
    "sum_before_rougher = (train_data['rougher.input.feed_ag']+ # Концентрация веществ в сырье\n",
    "          train_data['rougher.input.feed_pb']+\n",
    "          train_data['rougher.input.feed_sol']+ \n",
    "          train_data['rougher.input.feed_au']\n",
    "                     )\n",
    "sum_after_rougher = (train_data['rougher.output.concentrate_ag']+ # Концентрация после флотации\n",
    "          train_data['rougher.output.concentrate_pb']+\n",
    "          train_data['rougher.output.concentrate_sol']+\n",
    "          train_data['rougher.output.concentrate_au']\n",
    "                    )\n",
    "sum_final = (train_data['final.output.concentrate_ag']+ # Концентрация в финальном концентрате\n",
    "          train_data['final.output.concentrate_pb']+\n",
    "          train_data['final.output.concentrate_sol']+\n",
    "          train_data['final.output.concentrate_au']\n",
    "                                       )"
   ]
  },
  {
   "cell_type": "code",
   "execution_count": 28,
   "metadata": {},
   "outputs": [
    {
     "data": {
      "image/png": "[encoded data removed]"
     },
     "metadata": {},
     "output_type": "display_data"
    }
   ],
   "source": [
    "x0 = sum_before_rougher\n",
    "\n",
    "x1 = sum_after_rougher\n",
    "\n",
    "x2 = sum_final\n",
    "\n",
    "fig = go.Figure()\n",
    "fig.add_trace(go.Histogram(x=x0, name='Суммарная концентрания сырья'))\n",
    "fig.add_trace(go.Histogram(x=x1, name='Суммарная концентрация после флотации'))\n",
    "fig.add_trace(go.Histogram(x=x2, name='Суммарная концентрация финального концентрата'))\n",
    "\n",
    "\n",
    "fig.update_layout(barmode='overlay', title='Суммарная концентрация всех веществ на разных стадиях')\n",
    "\n",
    "fig.update_traces(opacity=0.75)\n",
    "fig.show('png')"
   ]
  },
  {
   "cell_type": "markdown",
   "metadata": {},
   "source": [
    "Есть много значений, где суммарная конецнтрация всех веществ ровна нулю, или даже отрицательная. Такие показатели невозможны, поэтому - это ошибки, от которых лучше избавиться перед обучением модели:"
   ]
  },
  {
   "cell_type": "code",
   "execution_count": 29,
   "metadata": {},
   "outputs": [],
   "source": [
    "\"\"\"\n",
    "\n",
    "Функции передается датафрей и столбец с суммарной концентрацией.\n",
    "Если где-то в столбце с суммарной концентрацией есть 0 или отриц.значение\n",
    "то функция создает новый датафрейм исключающий такие объекты\n",
    "\n",
    "\"\"\"\n",
    "\n",
    "def drop_zeroes(data, row_with_zeroes):\n",
    "    data['new_row'] = row_with_zeroes\n",
    "    data = data.query('new_row > 0 and new_row != 0')\n",
    "    data = data.drop('new_row', axis=1)\n",
    "    return data\n",
    "\n",
    "train_data = drop_zeroes(train_data, sum_before_rougher)\n",
    "train_data = drop_zeroes(train_data, sum_after_rougher)\n",
    "train_data = drop_zeroes(train_data, sum_final)"
   ]
  },
  {
   "cell_type": "markdown",
   "metadata": {},
   "source": [
    "Снова взглянем на график:"
   ]
  },
  {
   "cell_type": "code",
   "execution_count": 30,
   "metadata": {},
   "outputs": [],
   "source": [
    "sum_before_rougher = (train_data['rougher.input.feed_ag']+ # Концентрация веществ в сырье\n",
    "          train_data['rougher.input.feed_pb']+\n",
    "          train_data['rougher.input.feed_sol']+ \n",
    "          train_data['rougher.input.feed_au']\n",
    "                     )\n",
    "sum_after_rougher = (train_data['rougher.output.concentrate_ag']+ # Концентрация после флотации\n",
    "          train_data['rougher.output.concentrate_pb']+\n",
    "          train_data['rougher.output.concentrate_sol']+\n",
    "          train_data['rougher.output.concentrate_au']\n",
    "                    )\n",
    "sum_final = (train_data['final.output.concentrate_ag']+ # Концентрация в финальном концентрате\n",
    "          train_data['final.output.concentrate_pb']+\n",
    "          train_data['final.output.concentrate_sol']+\n",
    "          train_data['final.output.concentrate_au']\n",
    "                                       )"
   ]
  },
  {
   "cell_type": "code",
   "execution_count": 31,
   "metadata": {
    "scrolled": false
   },
   "outputs": [
    {
     "data": {
      "image/png": "[encoded data removed]"
     },
     "metadata": {},
     "output_type": "display_data"
    }
   ],
   "source": [
    "x0 = sum_before_rougher\n",
    "\n",
    "x1 = sum_after_rougher\n",
    "\n",
    "x2 = sum_final\n",
    "\n",
    "fig = go.Figure()\n",
    "fig.add_trace(go.Histogram(x=x0, name='Суммарная концентрания сырья'))\n",
    "fig.add_trace(go.Histogram(x=x1, name='Суммарная концентрация после флотации'))\n",
    "fig.add_trace(go.Histogram(x=x2, name='Суммарная концентрация финального концентрата'))\n",
    "\n",
    "\n",
    "fig.update_layout(barmode='overlay', title='Суммарная концентрация всех веществ на разных стадиях')\n",
    "\n",
    "fig.update_traces(opacity=0.75)\n",
    "fig.show('png')"
   ]
  },
  {
   "cell_type": "markdown",
   "metadata": {},
   "source": [
    "Мы избавились от аномальных значений в обучающей выборке, теперь избавимся от них(если они есть) и в тестовой выборке:"
   ]
  },
  {
   "cell_type": "code",
   "execution_count": 32,
   "metadata": {},
   "outputs": [],
   "source": [
    "test_data = drop_zeroes(test_data, sum_before_rougher)\n",
    "test_data = drop_zeroes(test_data, sum_after_rougher)\n",
    "test_data = drop_zeroes(test_data, sum_final)"
   ]
  },
  {
   "cell_type": "markdown",
   "metadata": {},
   "source": [
    "### Вывод: \n",
    "* Мы посмотрели на концентрацию металов, и убедились, что доля золота действительно резко возрастает после очистки\n",
    "* Избавились от аномальных значений\n",
    "* Убедились, что распределение размеров гранул сырья в обучающей и тестовой выборке близко"
   ]
  },
  {
   "cell_type": "markdown",
   "metadata": {},
   "source": [
    "## Модель"
   ]
  },
  {
   "cell_type": "markdown",
   "metadata": {},
   "source": [
    "Для начала напишем функцию расчета sMAPE, чтобы в будущем оценить качество нашей модели:"
   ]
  },
  {
   "cell_type": "code",
   "execution_count": 33,
   "metadata": {},
   "outputs": [],
   "source": [
    "def smape (target, predictions):\n",
    "    return 100/len(target) * np.sum(2 * np.abs(predictions - target) / (np.abs(target) + np.abs(predictions)))"
   ]
  },
  {
   "cell_type": "code",
   "execution_count": 34,
   "metadata": {},
   "outputs": [],
   "source": [
    "def fin_smape (rougher, final):\n",
    "    return 0.25 * rougher + 0.75 * final"
   ]
  },
  {
   "cell_type": "markdown",
   "metadata": {},
   "source": [
    "Нам необходимо предсказать эффективность обогащения чернового (`rougher.output.recovery`) и финального (`final.output.recovery`) концентрата."
   ]
  },
  {
   "cell_type": "markdown",
   "metadata": {},
   "source": [
    "Удалим из обучающей выборке столбцы, которые нам не нужны:\n",
    "\n",
    "(список мы сохранили еще на этапе подготовки данных)"
   ]
  },
  {
   "cell_type": "code",
   "execution_count": 35,
   "metadata": {},
   "outputs": [],
   "source": [
    "train_data = train_data.drop(columns_to_drop, axis=1)"
   ]
  },
  {
   "cell_type": "code",
   "execution_count": 36,
   "metadata": {},
   "outputs": [],
   "source": [
    "train_data = train_data.drop('date', axis=1) # удалим данные о дате, чтобы они не мешали обучению\n",
    "test_data = test_data.drop('date', axis=1)"
   ]
  },
  {
   "cell_type": "markdown",
   "metadata": {},
   "source": [
    "Создадим отдельно обучающую и валидационную выборку для предсказания `rougher.output.recovery` и `final.output.recovery`"
   ]
  },
  {
   "cell_type": "code",
   "execution_count": 37,
   "metadata": {},
   "outputs": [],
   "source": [
    "features_train_rough = train_data.drop('rougher.output.recovery', axis=1)\n",
    "features_train_fin = train_data.drop('final.output.recovery', axis=1)\n",
    "\n",
    "target_train_rough = train_data['rougher.output.recovery']\n",
    "target_train_fin = train_data['final.output.recovery']\n",
    "\n",
    "features_test_rough = test_data.drop('rougher.output.recovery', axis=1)\n",
    "features_test_fin = test_data.drop('final.output.recovery', axis=1)\n",
    "\n",
    "target_test_rough = test_data['rougher.output.recovery']\n",
    "target_test_fin = test_data['final.output.recovery']"
   ]
  },
  {
   "cell_type": "markdown",
   "metadata": {},
   "source": [
    "Для проверки результатов будем использовать кросс валидацию и метрику `neg_mean_squared_error`\n",
    "\n",
    "**Bagging:**\n"
   ]
  },
  {
   "cell_type": "code",
   "execution_count": 38,
   "metadata": {},
   "outputs": [],
   "source": [
    "model_name = []\n",
    "results = []"
   ]
  },
  {
   "cell_type": "code",
   "execution_count": 39,
   "metadata": {
    "scrolled": true
   },
   "outputs": [
    {
     "name": "stdout",
     "output_type": "stream",
     "text": [
      "-42.95683538857109\n"
     ]
    }
   ],
   "source": [
    "model = BaggingRegressor(random_state=12345)\n",
    "score = cross_val_score(model, features_train_rough, target_train_rough, cv=5, scoring='neg_mean_squared_error').mean()\n",
    "print(score)\n",
    "model_name.append(model)\n",
    "results.append(score)"
   ]
  },
  {
   "cell_type": "markdown",
   "metadata": {},
   "source": [
    "**RandomForestRegressor:**"
   ]
  },
  {
   "cell_type": "code",
   "execution_count": 40,
   "metadata": {},
   "outputs": [
    {
     "name": "stdout",
     "output_type": "stream",
     "text": [
      "-45.414295358649056\n"
     ]
    }
   ],
   "source": [
    "model = RandomForestRegressor(random_state=12345, max_depth=4)\n",
    "score = cross_val_score(model, features_train_rough, target_train_rough, cv=5, scoring='neg_mean_squared_error').mean()\n",
    "print(score)\n",
    "model_name.append(model)\n",
    "results.append(score)"
   ]
  },
  {
   "cell_type": "markdown",
   "metadata": {},
   "source": [
    "**LinearRegression:**"
   ]
  },
  {
   "cell_type": "code",
   "execution_count": 41,
   "metadata": {},
   "outputs": [
    {
     "name": "stdout",
     "output_type": "stream",
     "text": [
      "-34.67825608732082\n"
     ]
    }
   ],
   "source": [
    "model = LinearRegression()\n",
    "score = cross_val_score(model, features_train_rough, target_train_rough, cv=5, scoring='neg_mean_squared_error').mean()\n",
    "print(score)\n",
    "model_name.append(model)\n",
    "results.append(score)"
   ]
  },
  {
   "cell_type": "markdown",
   "metadata": {},
   "source": [
    "**CatBoost:**"
   ]
  },
  {
   "cell_type": "code",
   "execution_count": 42,
   "metadata": {
    "scrolled": true
   },
   "outputs": [
    {
     "name": "stdout",
     "output_type": "stream",
     "text": [
      "Learning rate set to 0.05755\n",
      "0:\tlearn: 6.9199693\ttotal: 163ms\tremaining: 2m 42s\n",
      "500:\tlearn: 1.6872100\ttotal: 2.65s\tremaining: 2.63s\n",
      "999:\tlearn: 1.2439464\ttotal: 5.1s\tremaining: 0us\n",
      "Learning rate set to 0.05755\n",
      "0:\tlearn: 6.5498133\ttotal: 5.79ms\tremaining: 5.79s\n",
      "500:\tlearn: 1.7872564\ttotal: 2.53s\tremaining: 2.52s\n",
      "999:\tlearn: 1.2964175\ttotal: 5s\tremaining: 0us\n",
      "Learning rate set to 0.05755\n",
      "0:\tlearn: 7.7136196\ttotal: 5.35ms\tremaining: 5.35s\n",
      "500:\tlearn: 1.9307265\ttotal: 2.5s\tremaining: 2.49s\n",
      "999:\tlearn: 1.4213143\ttotal: 5.05s\tremaining: 0us\n",
      "Learning rate set to 0.05755\n",
      "0:\tlearn: 7.7114458\ttotal: 5.83ms\tremaining: 5.83s\n",
      "500:\tlearn: 1.8223461\ttotal: 2.45s\tremaining: 2.44s\n",
      "999:\tlearn: 1.3180874\ttotal: 4.99s\tremaining: 0us\n",
      "Learning rate set to 0.057551\n",
      "0:\tlearn: 6.8221737\ttotal: 5.71ms\tremaining: 5.7s\n",
      "500:\tlearn: 1.8072891\ttotal: 2.5s\tremaining: 2.48s\n",
      "999:\tlearn: 1.3159497\ttotal: 4.89s\tremaining: 0us\n",
      "-32.09677822669074\n"
     ]
    }
   ],
   "source": [
    "model = CatBoostRegressor(metric_period=500)\n",
    "score = cross_val_score(model, features_train_rough, target_train_rough, cv=5, scoring='neg_mean_squared_error').mean()\n",
    "print(score)\n",
    "model_name.append(model)\n",
    "results.append(score)"
   ]
  },
  {
   "cell_type": "markdown",
   "metadata": {},
   "source": [
    "### Взглянем на результаты:"
   ]
  },
  {
   "cell_type": "code",
   "execution_count": 43,
   "metadata": {
    "scrolled": true
   },
   "outputs": [
    {
     "data": {
      "text/html": [
       "<div>\n",
       "<style scoped>\n",
       "    .dataframe tbody tr th:only-of-type {\n",
       "        vertical-align: middle;\n",
       "    }\n",
       "\n",
       "    .dataframe tbody tr th {\n",
       "        vertical-align: top;\n",
       "    }\n",
       "\n",
       "    .dataframe thead th {\n",
       "        text-align: right;\n",
       "    }\n",
       "</style>\n",
       "<table border=\"1\" class=\"dataframe\">\n",
       "  <thead>\n",
       "    <tr style=\"text-align: right;\">\n",
       "      <th></th>\n",
       "      <th>0</th>\n",
       "    </tr>\n",
       "  </thead>\n",
       "  <tbody>\n",
       "    <tr>\n",
       "      <th>BaggingRegressor(random_state=12345)</th>\n",
       "      <td>-42.956835</td>\n",
       "    </tr>\n",
       "    <tr>\n",
       "      <th>RandomForestRegressor(max_depth=4, random_state=12345)</th>\n",
       "      <td>-45.414295</td>\n",
       "    </tr>\n",
       "    <tr>\n",
       "      <th>LinearRegression()</th>\n",
       "      <td>-34.678256</td>\n",
       "    </tr>\n",
       "    <tr>\n",
       "      <th>&lt;catboost.core.CatBoostRegressor object at 0x00000216D0C74BE0&gt;</th>\n",
       "      <td>-32.096778</td>\n",
       "    </tr>\n",
       "  </tbody>\n",
       "</table>\n",
       "</div>"
      ],
      "text/plain": [
       "                                                            0\n",
       "BaggingRegressor(random_state=12345)               -42.956835\n",
       "RandomForestRegressor(max_depth=4, random_state... -45.414295\n",
       "LinearRegression()                                 -34.678256\n",
       "<catboost.core.CatBoostRegressor object at 0x00... -32.096778"
      ]
     },
     "execution_count": 43,
     "metadata": {},
     "output_type": "execute_result"
    }
   ],
   "source": [
    "pd.DataFrame(index=model_name, data=results)"
   ]
  },
  {
   "cell_type": "code",
   "execution_count": 44,
   "metadata": {
    "scrolled": false
   },
   "outputs": [
    {
     "name": "stdout",
     "output_type": "stream",
     "text": [
      "Learning rate set to 0.050481\n",
      "0:\tlearn: 9.0989971\ttotal: 20.6ms\tremaining: 20.6s\n",
      "500:\tlearn: 3.7892489\ttotal: 2.14s\tremaining: 2.13s\n",
      "999:\tlearn: 2.3697163\ttotal: 4.29s\tremaining: 0us\n",
      "Learning rate set to 0.050484\n",
      "0:\tlearn: 9.0039260\ttotal: 5ms\tremaining: 4.99s\n",
      "500:\tlearn: 3.4751807\ttotal: 2.16s\tremaining: 2.15s\n",
      "999:\tlearn: 2.1951561\ttotal: 4.25s\tremaining: 0us\n",
      "Learning rate set to 0.050484\n",
      "0:\tlearn: 8.9324235\ttotal: 8.8ms\tremaining: 8.79s\n",
      "500:\tlearn: 3.4827253\ttotal: 2.09s\tremaining: 2.08s\n",
      "999:\tlearn: 2.1728940\ttotal: 4.17s\tremaining: 0us\n",
      "Learning rate set to 0.050484\n",
      "0:\tlearn: 8.7101883\ttotal: 10.4ms\tremaining: 10.4s\n",
      "500:\tlearn: 3.3904938\ttotal: 2.12s\tremaining: 2.11s\n",
      "999:\tlearn: 2.1618727\ttotal: 4.25s\tremaining: 0us\n",
      "Learning rate set to 0.050484\n",
      "0:\tlearn: 8.4111340\ttotal: 4.78ms\tremaining: 4.77s\n",
      "500:\tlearn: 3.4219798\ttotal: 2.14s\tremaining: 2.13s\n",
      "999:\tlearn: 2.1623959\ttotal: 4.33s\tremaining: 0us\n",
      "-65.673106782311\n"
     ]
    }
   ],
   "source": [
    "model = CatBoostRegressor(metric_period=500)\n",
    "print(cross_val_score(model, features_test_fin, target_test_fin, cv=5, scoring='neg_mean_squared_error').mean())"
   ]
  },
  {
   "cell_type": "markdown",
   "metadata": {},
   "source": [
    "Лучший результат показал **CatBoost**. Проверим как модель работает уже используя нашу метрику `sMAPE`"
   ]
  },
  {
   "cell_type": "markdown",
   "metadata": {},
   "source": [
    "Обучим модель и пусть она предскажет 2 нужных нам целевых признака:"
   ]
  },
  {
   "cell_type": "code",
   "execution_count": 45,
   "metadata": {
    "scrolled": true
   },
   "outputs": [
    {
     "name": "stdout",
     "output_type": "stream",
     "text": [
      "Learning rate set to 0.059615\n",
      "0:\tlearn: 7.2280558\ttotal: 17.5ms\tremaining: 17.5s\n",
      "500:\tlearn: 1.9316233\ttotal: 2.73s\tremaining: 2.72s\n",
      "999:\tlearn: 1.4514744\ttotal: 5.42s\tremaining: 0us\n",
      "Learning rate set to 0.059615\n",
      "0:\tlearn: 7.9451300\ttotal: 6.57ms\tremaining: 6.56s\n",
      "500:\tlearn: 3.4005398\ttotal: 2.71s\tremaining: 2.7s\n",
      "999:\tlearn: 2.6376488\ttotal: 5.43s\tremaining: 0us\n"
     ]
    }
   ],
   "source": [
    "model_rough = CatBoostRegressor(metric_period=500)\n",
    "model_fin = CatBoostRegressor(metric_period=500)\n",
    "\n",
    "\n",
    "model_rough.fit(features_train_rough, target_train_rough)\n",
    "model_fin.fit(features_train_fin, target_train_fin)\n",
    "\n",
    "predictions_rough = model_rough.predict(features_test_rough)\n",
    "predictions_fin = model_fin.predict(features_test_fin)"
   ]
  },
  {
   "cell_type": "code",
   "execution_count": 46,
   "metadata": {},
   "outputs": [
    {
     "name": "stdout",
     "output_type": "stream",
     "text": [
      "Final sMAPE: 7.716496024185482\n"
     ]
    }
   ],
   "source": [
    "smape_rougher_data = smape(target_test_rough, predictions_rough)\n",
    "smape_final_data = smape(target_test_fin, predictions_fin)\n",
    "print('Final sMAPE:', fin_smape(smape_rougher_data, smape_final_data))"
   ]
  },
  {
   "cell_type": "markdown",
   "metadata": {},
   "source": [
    "Финальная метрика получилсь в районе 7.7%.\n",
    "\n",
    "Сравним нашу модель с константной моделью(`DummyRegressor`), чтобы убедиться, что наша модель адекватна:"
   ]
  },
  {
   "cell_type": "code",
   "execution_count": 47,
   "metadata": {},
   "outputs": [],
   "source": [
    "model_rough = DummyRegressor()\n",
    "model_fin = DummyRegressor()\n",
    "\n",
    "model_rough.fit(features_train_rough, target_train_rough)\n",
    "model_fin.fit(features_train_fin, target_train_fin)\n",
    "\n",
    "predictions_rough = model_rough.predict(features_test_rough)\n",
    "predictions_fin = model_fin.predict(features_test_fin)"
   ]
  },
  {
   "cell_type": "code",
   "execution_count": 48,
   "metadata": {},
   "outputs": [
    {
     "name": "stdout",
     "output_type": "stream",
     "text": [
      "Dummy sMAPE: 9.485376298676194\n"
     ]
    }
   ],
   "source": [
    "smape_rougher_data = smape(target_test_rough, predictions_rough)\n",
    "smape_final_data = smape(target_test_fin, predictions_fin)\n",
    "print('Dummy sMAPE:', fin_smape(smape_rougher_data, smape_final_data))"
   ]
  },
  {
   "cell_type": "markdown",
   "metadata": {},
   "source": [
    "\"Cимметричное среднее абсолютное процентное отклонение\" нашей модели ниже, значит она адекватна."
   ]
  },
  {
   "cell_type": "markdown",
   "metadata": {},
   "source": [
    "## Выводы:\n",
    "1. Путём математического исследования было выявлено, что показатели концентрации не влияют на значения `recovery`. Учитывая это и то, что они недостоверны в имеющемся наборе данных, было решено исключить их числа признаков для обучения модели.\n",
    "\n",
    "2. В качестве обучающих признаков были отобраны первичные технологические параметры для стадий грубой и тонкой очистки. В качестве целевых признаков выбраны значения `recovery` обеих стадий.\n",
    "\n",
    "3. Были исследованы значения sMAPE для 4-х типов моделей: бэггинг, случайный лес, линейная регрессия и сatboost. Лучший результат показал `catboost`\n",
    "\n",
    "4. Проведена проверка выбранных обученных моделей на тестовом наборе. Итоговая `sMAPE = 7.7%`"
   ]
  }
 ],
 "metadata": {
  "ExecuteTimeLog": [
   {
    "duration": 448,
    "start_time": "2022-05-24T08:54:32.900Z"
   },
   {
    "duration": 1036,
    "start_time": "2022-05-24T08:56:15.340Z"
   },
   {
    "duration": 2412,
    "start_time": "2022-05-24T08:56:33.443Z"
   },
   {
    "duration": 39,
    "start_time": "2022-05-24T08:56:37.195Z"
   },
   {
    "duration": 6,
    "start_time": "2022-05-24T09:04:11.701Z"
   },
   {
    "duration": 5,
    "start_time": "2022-05-24T09:05:47.085Z"
   },
   {
    "duration": 8,
    "start_time": "2022-05-24T09:05:59.645Z"
   },
   {
    "duration": 16,
    "start_time": "2022-05-24T09:06:46.765Z"
   },
   {
    "duration": 11,
    "start_time": "2022-05-24T09:17:54.407Z"
   },
   {
    "duration": 11,
    "start_time": "2022-05-24T09:18:25.589Z"
   },
   {
    "duration": 3,
    "start_time": "2022-05-24T09:25:21.046Z"
   },
   {
    "duration": 594,
    "start_time": "2022-05-24T09:31:05.476Z"
   },
   {
    "duration": 6,
    "start_time": "2022-05-24T09:31:23.043Z"
   },
   {
    "duration": 7,
    "start_time": "2022-05-24T09:31:27.051Z"
   },
   {
    "duration": 34,
    "start_time": "2022-05-24T09:33:46.835Z"
   },
   {
    "duration": 4,
    "start_time": "2022-05-24T09:33:52.860Z"
   },
   {
    "duration": 5,
    "start_time": "2022-05-24T09:33:56.699Z"
   },
   {
    "duration": 5,
    "start_time": "2022-05-24T09:33:58.620Z"
   },
   {
    "duration": 5,
    "start_time": "2022-05-24T09:34:07.870Z"
   },
   {
    "duration": 6,
    "start_time": "2022-05-24T09:34:09.870Z"
   },
   {
    "duration": 2,
    "start_time": "2022-05-24T09:38:58.396Z"
   },
   {
    "duration": 4,
    "start_time": "2022-05-24T09:39:39.804Z"
   },
   {
    "duration": 5,
    "start_time": "2022-05-24T09:39:41.979Z"
   },
   {
    "duration": 5,
    "start_time": "2022-05-24T09:39:56.087Z"
   },
   {
    "duration": 6,
    "start_time": "2022-05-24T09:39:58.011Z"
   },
   {
    "duration": 8,
    "start_time": "2022-05-24T09:41:27.115Z"
   },
   {
    "duration": 2,
    "start_time": "2022-05-24T09:41:29.515Z"
   },
   {
    "duration": 6,
    "start_time": "2022-05-24T09:41:31.281Z"
   },
   {
    "duration": 6,
    "start_time": "2022-05-24T09:41:33.195Z"
   },
   {
    "duration": 3,
    "start_time": "2022-05-24T09:42:01.163Z"
   },
   {
    "duration": 6,
    "start_time": "2022-05-24T09:42:03.819Z"
   },
   {
    "duration": 5,
    "start_time": "2022-05-24T09:42:05.851Z"
   },
   {
    "duration": 2,
    "start_time": "2022-05-24T09:43:30.243Z"
   },
   {
    "duration": 5,
    "start_time": "2022-05-24T09:44:28.523Z"
   },
   {
    "duration": 6,
    "start_time": "2022-05-24T09:44:30.267Z"
   },
   {
    "duration": 28,
    "start_time": "2022-05-24T09:45:55.686Z"
   },
   {
    "duration": 8,
    "start_time": "2022-05-24T09:46:09.499Z"
   },
   {
    "duration": 7,
    "start_time": "2022-05-24T09:46:17.163Z"
   },
   {
    "duration": 17,
    "start_time": "2022-05-24T09:46:21.227Z"
   },
   {
    "duration": 12,
    "start_time": "2022-05-24T09:46:37.660Z"
   },
   {
    "duration": 2,
    "start_time": "2022-05-24T09:46:51.371Z"
   },
   {
    "duration": 4,
    "start_time": "2022-05-24T09:46:57.531Z"
   },
   {
    "duration": 5,
    "start_time": "2022-05-24T09:47:01.451Z"
   },
   {
    "duration": 5,
    "start_time": "2022-05-24T09:47:03.835Z"
   },
   {
    "duration": 5,
    "start_time": "2022-05-24T09:47:05.755Z"
   },
   {
    "duration": 7,
    "start_time": "2022-05-24T09:47:06.379Z"
   },
   {
    "duration": 23,
    "start_time": "2022-05-24T09:47:15.563Z"
   },
   {
    "duration": 15,
    "start_time": "2022-05-24T09:47:30.076Z"
   },
   {
    "duration": 17,
    "start_time": "2022-05-24T09:47:37.915Z"
   },
   {
    "duration": 18,
    "start_time": "2022-05-24T09:48:47.515Z"
   },
   {
    "duration": 40,
    "start_time": "2022-05-24T09:48:52.603Z"
   },
   {
    "duration": 31,
    "start_time": "2022-05-24T09:49:31.037Z"
   },
   {
    "duration": 29,
    "start_time": "2022-05-24T09:49:36.092Z"
   },
   {
    "duration": 42,
    "start_time": "2022-05-24T09:51:22.845Z"
   },
   {
    "duration": 23,
    "start_time": "2022-05-24T09:51:36.523Z"
   },
   {
    "duration": 440,
    "start_time": "2022-05-24T09:51:50.907Z"
   },
   {
    "duration": 29,
    "start_time": "2022-05-24T09:52:00.091Z"
   },
   {
    "duration": 368,
    "start_time": "2022-05-24T09:52:39.867Z"
   },
   {
    "duration": 10,
    "start_time": "2022-05-24T09:53:39.371Z"
   },
   {
    "duration": 5,
    "start_time": "2022-05-24T09:53:51.867Z"
   },
   {
    "duration": 46,
    "start_time": "2022-05-24T09:53:58.780Z"
   },
   {
    "duration": 18,
    "start_time": "2022-05-24T09:56:11.258Z"
   },
   {
    "duration": 27,
    "start_time": "2022-05-24T09:56:26.409Z"
   },
   {
    "duration": 20,
    "start_time": "2022-05-24T09:56:55.577Z"
   },
   {
    "duration": 20,
    "start_time": "2022-05-24T09:57:00.864Z"
   },
   {
    "duration": 5,
    "start_time": "2022-05-24T09:57:44.400Z"
   },
   {
    "duration": 3,
    "start_time": "2022-05-24T09:57:47.848Z"
   },
   {
    "duration": 4,
    "start_time": "2022-05-24T09:57:49.080Z"
   },
   {
    "duration": 5,
    "start_time": "2022-05-24T09:57:49.752Z"
   },
   {
    "duration": 359,
    "start_time": "2022-05-24T09:57:57.273Z"
   },
   {
    "duration": 672,
    "start_time": "2022-05-24T09:57:57.634Z"
   },
   {
    "duration": 32,
    "start_time": "2022-05-24T09:57:58.308Z"
   },
   {
    "duration": 8,
    "start_time": "2022-05-24T09:57:58.342Z"
   },
   {
    "duration": 17,
    "start_time": "2022-05-24T09:57:58.352Z"
   },
   {
    "duration": 23,
    "start_time": "2022-05-24T09:57:58.370Z"
   },
   {
    "duration": 37,
    "start_time": "2022-05-24T09:57:58.395Z"
   },
   {
    "duration": 8,
    "start_time": "2022-05-24T09:57:58.434Z"
   },
   {
    "duration": 8,
    "start_time": "2022-05-24T09:57:58.443Z"
   },
   {
    "duration": 5,
    "start_time": "2022-05-24T09:57:58.453Z"
   },
   {
    "duration": 19,
    "start_time": "2022-05-24T10:02:13.777Z"
   },
   {
    "duration": 11,
    "start_time": "2022-05-24T10:02:43.985Z"
   },
   {
    "duration": 15,
    "start_time": "2022-05-24T10:03:09.148Z"
   },
   {
    "duration": 12,
    "start_time": "2022-05-24T10:04:07.914Z"
   },
   {
    "duration": 11,
    "start_time": "2022-05-24T10:04:11.729Z"
   },
   {
    "duration": 10,
    "start_time": "2022-05-24T10:04:59.611Z"
   },
   {
    "duration": 8,
    "start_time": "2022-05-24T10:05:04.315Z"
   },
   {
    "duration": 670,
    "start_time": "2022-05-24T10:06:31.882Z"
   },
   {
    "duration": 4,
    "start_time": "2022-05-24T10:07:46.656Z"
   },
   {
    "duration": 6,
    "start_time": "2022-05-24T10:07:52.729Z"
   },
   {
    "duration": 5,
    "start_time": "2022-05-24T10:13:27.695Z"
   },
   {
    "duration": 6,
    "start_time": "2022-05-24T10:13:39.112Z"
   },
   {
    "duration": 4,
    "start_time": "2022-05-24T10:14:51.768Z"
   },
   {
    "duration": 9,
    "start_time": "2022-05-24T10:14:56.440Z"
   },
   {
    "duration": 4,
    "start_time": "2022-05-24T10:14:59.608Z"
   },
   {
    "duration": 5,
    "start_time": "2022-05-24T10:15:04.040Z"
   },
   {
    "duration": 5,
    "start_time": "2022-05-24T10:15:08.920Z"
   },
   {
    "duration": 4,
    "start_time": "2022-05-24T10:15:17.976Z"
   },
   {
    "duration": 5,
    "start_time": "2022-05-24T10:15:28.504Z"
   },
   {
    "duration": 53,
    "start_time": "2022-05-24T11:02:14.516Z"
   },
   {
    "duration": 97,
    "start_time": "2022-05-24T11:02:17.181Z"
   },
   {
    "duration": 16,
    "start_time": "2022-05-24T11:02:23.517Z"
   },
   {
    "duration": 17,
    "start_time": "2022-05-24T11:02:38.109Z"
   },
   {
    "duration": 5,
    "start_time": "2022-05-24T11:03:04.109Z"
   },
   {
    "duration": 15,
    "start_time": "2022-05-24T11:05:43.149Z"
   },
   {
    "duration": 3,
    "start_time": "2022-05-24T11:06:07.844Z"
   },
   {
    "duration": 4,
    "start_time": "2022-05-24T11:06:11.597Z"
   },
   {
    "duration": 8,
    "start_time": "2022-05-24T11:08:22.931Z"
   },
   {
    "duration": 5,
    "start_time": "2022-05-24T11:08:28.829Z"
   },
   {
    "duration": 8,
    "start_time": "2022-05-24T11:08:35.617Z"
   },
   {
    "duration": 4,
    "start_time": "2022-05-24T11:08:54.701Z"
   },
   {
    "duration": 58,
    "start_time": "2022-05-24T11:10:25.117Z"
   },
   {
    "duration": 17,
    "start_time": "2022-05-24T11:20:16.383Z"
   },
   {
    "duration": 43,
    "start_time": "2022-05-24T11:22:53.709Z"
   },
   {
    "duration": 12,
    "start_time": "2022-05-24T11:25:18.990Z"
   },
   {
    "duration": 4,
    "start_time": "2022-05-24T11:26:26.173Z"
   },
   {
    "duration": 4,
    "start_time": "2022-05-24T11:26:30.365Z"
   },
   {
    "duration": 40,
    "start_time": "2022-05-24T11:26:33.501Z"
   },
   {
    "duration": 112,
    "start_time": "2022-05-24T11:27:36.845Z"
   },
   {
    "duration": 104,
    "start_time": "2022-05-24T11:27:41.693Z"
   },
   {
    "duration": 141,
    "start_time": "2022-05-24T11:28:24.829Z"
   },
   {
    "duration": 104,
    "start_time": "2022-05-24T11:30:07.165Z"
   },
   {
    "duration": 101,
    "start_time": "2022-05-24T11:30:49.086Z"
   },
   {
    "duration": 6,
    "start_time": "2022-05-24T11:40:35.708Z"
   },
   {
    "duration": 6,
    "start_time": "2022-05-24T11:40:46.173Z"
   },
   {
    "duration": 32,
    "start_time": "2022-05-24T11:41:16.492Z"
   },
   {
    "duration": 7,
    "start_time": "2022-05-24T11:41:44.212Z"
   },
   {
    "duration": 7,
    "start_time": "2022-05-24T11:42:20.240Z"
   },
   {
    "duration": 10,
    "start_time": "2022-05-24T11:42:35.500Z"
   },
   {
    "duration": 10,
    "start_time": "2022-05-24T11:42:46.892Z"
   },
   {
    "duration": 14,
    "start_time": "2022-05-24T11:42:51.020Z"
   },
   {
    "duration": 13,
    "start_time": "2022-05-24T11:42:54.204Z"
   },
   {
    "duration": 11,
    "start_time": "2022-05-24T11:42:59.246Z"
   },
   {
    "duration": 15,
    "start_time": "2022-05-24T11:43:16.028Z"
   },
   {
    "duration": 7,
    "start_time": "2022-05-24T11:43:20.204Z"
   },
   {
    "duration": 6,
    "start_time": "2022-05-24T11:44:04.511Z"
   },
   {
    "duration": 7,
    "start_time": "2022-05-24T11:44:11.342Z"
   },
   {
    "duration": 8,
    "start_time": "2022-05-24T11:44:25.180Z"
   },
   {
    "duration": 6,
    "start_time": "2022-05-24T11:44:32.492Z"
   },
   {
    "duration": 14,
    "start_time": "2022-05-24T11:45:09.324Z"
   },
   {
    "duration": 8,
    "start_time": "2022-05-24T11:45:39.692Z"
   },
   {
    "duration": 5,
    "start_time": "2022-05-24T11:45:44.316Z"
   },
   {
    "duration": 25,
    "start_time": "2022-05-24T11:46:11.724Z"
   },
   {
    "duration": 9,
    "start_time": "2022-05-24T11:46:18.779Z"
   },
   {
    "duration": 10,
    "start_time": "2022-05-24T11:46:26.845Z"
   },
   {
    "duration": 11,
    "start_time": "2022-05-24T11:46:35.840Z"
   },
   {
    "duration": 9,
    "start_time": "2022-05-24T11:46:40.700Z"
   },
   {
    "duration": 10,
    "start_time": "2022-05-24T11:47:02.684Z"
   },
   {
    "duration": 8,
    "start_time": "2022-05-24T11:48:30.491Z"
   },
   {
    "duration": 14,
    "start_time": "2022-05-24T11:54:35.943Z"
   },
   {
    "duration": 106,
    "start_time": "2022-05-24T11:57:03.165Z"
   },
   {
    "duration": 40,
    "start_time": "2022-05-24T12:02:35.540Z"
   },
   {
    "duration": 15,
    "start_time": "2022-05-24T12:02:58.048Z"
   },
   {
    "duration": 14,
    "start_time": "2022-05-24T12:04:43.260Z"
   },
   {
    "duration": 17,
    "start_time": "2022-05-24T12:08:29.596Z"
   },
   {
    "duration": 10,
    "start_time": "2022-05-24T12:08:38.780Z"
   },
   {
    "duration": 37,
    "start_time": "2022-05-24T12:09:06.048Z"
   },
   {
    "duration": 13,
    "start_time": "2022-05-24T12:09:36.477Z"
   },
   {
    "duration": 86,
    "start_time": "2022-05-24T12:11:16.971Z"
   },
   {
    "duration": 4,
    "start_time": "2022-05-24T12:11:24.188Z"
   },
   {
    "duration": 11,
    "start_time": "2022-05-24T12:11:52.444Z"
   },
   {
    "duration": 3,
    "start_time": "2022-05-24T12:15:40.171Z"
   },
   {
    "duration": 4,
    "start_time": "2022-05-24T12:15:45.467Z"
   },
   {
    "duration": 9,
    "start_time": "2022-05-24T12:16:37.596Z"
   },
   {
    "duration": 3,
    "start_time": "2022-05-24T12:17:06.784Z"
   },
   {
    "duration": 3,
    "start_time": "2022-05-24T12:17:10.971Z"
   },
   {
    "duration": 4,
    "start_time": "2022-05-24T12:17:13.498Z"
   },
   {
    "duration": 4,
    "start_time": "2022-05-24T12:17:20.907Z"
   },
   {
    "duration": 5,
    "start_time": "2022-05-24T12:17:31.067Z"
   },
   {
    "duration": 4,
    "start_time": "2022-05-24T12:17:49.840Z"
   },
   {
    "duration": 20,
    "start_time": "2022-05-24T12:18:26.640Z"
   },
   {
    "duration": 13,
    "start_time": "2022-05-24T12:18:35.963Z"
   },
   {
    "duration": 9,
    "start_time": "2022-05-24T12:19:53.211Z"
   },
   {
    "duration": 9,
    "start_time": "2022-05-24T12:20:00.555Z"
   },
   {
    "duration": 859,
    "start_time": "2022-05-24T12:20:13.162Z"
   },
   {
    "duration": 697,
    "start_time": "2022-05-24T12:20:14.023Z"
   },
   {
    "duration": 49,
    "start_time": "2022-05-24T12:20:14.721Z"
   },
   {
    "duration": 10,
    "start_time": "2022-05-24T12:20:14.773Z"
   },
   {
    "duration": 26,
    "start_time": "2022-05-24T12:20:14.784Z"
   },
   {
    "duration": 46,
    "start_time": "2022-05-24T12:20:14.812Z"
   },
   {
    "duration": 16,
    "start_time": "2022-05-24T12:20:14.860Z"
   },
   {
    "duration": 5,
    "start_time": "2022-05-24T12:20:14.878Z"
   },
   {
    "duration": 10,
    "start_time": "2022-05-24T12:20:14.886Z"
   },
   {
    "duration": 47,
    "start_time": "2022-05-24T12:20:14.899Z"
   },
   {
    "duration": 5,
    "start_time": "2022-05-24T12:20:14.947Z"
   },
   {
    "duration": 11,
    "start_time": "2022-05-24T12:20:14.954Z"
   },
   {
    "duration": 18,
    "start_time": "2022-05-24T12:20:14.966Z"
   },
   {
    "duration": 17,
    "start_time": "2022-05-24T12:20:14.986Z"
   },
   {
    "duration": 36,
    "start_time": "2022-05-24T12:20:15.005Z"
   },
   {
    "duration": 112,
    "start_time": "2022-05-24T12:20:15.043Z"
   },
   {
    "duration": 134,
    "start_time": "2022-05-24T12:20:15.156Z"
   },
   {
    "duration": 109,
    "start_time": "2022-05-24T12:20:15.292Z"
   },
   {
    "duration": 37,
    "start_time": "2022-05-24T12:20:15.402Z"
   },
   {
    "duration": 8,
    "start_time": "2022-05-24T12:20:15.443Z"
   },
   {
    "duration": 18,
    "start_time": "2022-05-24T12:20:15.452Z"
   },
   {
    "duration": 45,
    "start_time": "2022-05-24T12:20:15.472Z"
   },
   {
    "duration": 11,
    "start_time": "2022-05-24T12:20:39.343Z"
   },
   {
    "duration": 64,
    "start_time": "2022-05-24T12:21:01.479Z"
   },
   {
    "duration": 11,
    "start_time": "2022-05-24T12:21:18.391Z"
   },
   {
    "duration": 860,
    "start_time": "2022-05-24T12:21:52.483Z"
   },
   {
    "duration": 710,
    "start_time": "2022-05-24T12:21:53.345Z"
   },
   {
    "duration": 38,
    "start_time": "2022-05-24T12:21:54.057Z"
   },
   {
    "duration": 10,
    "start_time": "2022-05-24T12:21:54.098Z"
   },
   {
    "duration": 51,
    "start_time": "2022-05-24T12:21:54.109Z"
   },
   {
    "duration": 32,
    "start_time": "2022-05-24T12:21:54.162Z"
   },
   {
    "duration": 12,
    "start_time": "2022-05-24T12:21:54.196Z"
   },
   {
    "duration": 30,
    "start_time": "2022-05-24T12:21:54.211Z"
   },
   {
    "duration": 15,
    "start_time": "2022-05-24T12:21:54.243Z"
   },
   {
    "duration": 33,
    "start_time": "2022-05-24T12:21:54.260Z"
   },
   {
    "duration": 13,
    "start_time": "2022-05-24T12:21:54.295Z"
   },
   {
    "duration": 30,
    "start_time": "2022-05-24T12:21:54.310Z"
   },
   {
    "duration": 37,
    "start_time": "2022-05-24T12:21:54.341Z"
   },
   {
    "duration": 22,
    "start_time": "2022-05-24T12:21:54.380Z"
   },
   {
    "duration": 11,
    "start_time": "2022-05-24T12:21:54.404Z"
   },
   {
    "duration": 142,
    "start_time": "2022-05-24T12:21:54.417Z"
   },
   {
    "duration": 10,
    "start_time": "2022-05-24T12:21:54.564Z"
   },
   {
    "duration": 82,
    "start_time": "2022-05-24T12:21:54.577Z"
   },
   {
    "duration": 83,
    "start_time": "2022-05-24T12:21:54.661Z"
   },
   {
    "duration": 5,
    "start_time": "2022-05-24T12:21:54.746Z"
   },
   {
    "duration": 20,
    "start_time": "2022-05-24T12:21:54.753Z"
   },
   {
    "duration": 35,
    "start_time": "2022-05-24T12:21:54.775Z"
   },
   {
    "duration": 47,
    "start_time": "2022-05-24T12:21:54.811Z"
   },
   {
    "duration": 907,
    "start_time": "2022-05-24T12:22:44.844Z"
   },
   {
    "duration": 705,
    "start_time": "2022-05-24T12:22:45.753Z"
   },
   {
    "duration": 38,
    "start_time": "2022-05-24T12:22:46.462Z"
   },
   {
    "duration": 10,
    "start_time": "2022-05-24T12:22:46.503Z"
   },
   {
    "duration": 29,
    "start_time": "2022-05-24T12:22:46.527Z"
   },
   {
    "duration": 34,
    "start_time": "2022-05-24T12:22:46.558Z"
   },
   {
    "duration": 14,
    "start_time": "2022-05-24T12:22:46.595Z"
   },
   {
    "duration": 10,
    "start_time": "2022-05-24T12:22:46.626Z"
   },
   {
    "duration": 19,
    "start_time": "2022-05-24T12:22:46.642Z"
   },
   {
    "duration": 26,
    "start_time": "2022-05-24T12:22:46.665Z"
   },
   {
    "duration": 6,
    "start_time": "2022-05-24T12:22:46.693Z"
   },
   {
    "duration": 19,
    "start_time": "2022-05-24T12:22:46.701Z"
   },
   {
    "duration": 48,
    "start_time": "2022-05-24T12:22:46.722Z"
   },
   {
    "duration": 30,
    "start_time": "2022-05-24T12:22:46.773Z"
   },
   {
    "duration": 13,
    "start_time": "2022-05-24T12:22:46.806Z"
   },
   {
    "duration": 191,
    "start_time": "2022-05-24T12:22:46.820Z"
   },
   {
    "duration": 119,
    "start_time": "2022-05-24T12:22:47.013Z"
   },
   {
    "duration": 8,
    "start_time": "2022-05-24T12:22:47.140Z"
   },
   {
    "duration": 11,
    "start_time": "2022-05-24T12:22:47.149Z"
   },
   {
    "duration": 16,
    "start_time": "2022-05-24T12:22:47.162Z"
   },
   {
    "duration": 68,
    "start_time": "2022-05-24T12:22:47.180Z"
   },
   {
    "duration": 9,
    "start_time": "2022-05-24T12:23:41.575Z"
   },
   {
    "duration": 34,
    "start_time": "2022-05-24T12:24:11.544Z"
   },
   {
    "duration": 7,
    "start_time": "2022-05-24T12:24:35.255Z"
   },
   {
    "duration": 8,
    "start_time": "2022-05-24T12:24:42.183Z"
   },
   {
    "duration": 59,
    "start_time": "2022-05-24T12:28:34.311Z"
   },
   {
    "duration": 51,
    "start_time": "2022-05-24T12:30:28.199Z"
   },
   {
    "duration": 186,
    "start_time": "2022-05-24T12:30:47.591Z"
   },
   {
    "duration": 31,
    "start_time": "2022-05-24T12:31:09.319Z"
   },
   {
    "duration": 10,
    "start_time": "2022-05-24T12:33:33.591Z"
   },
   {
    "duration": 17,
    "start_time": "2022-05-24T12:33:47.799Z"
   },
   {
    "duration": 95,
    "start_time": "2022-05-24T12:35:38.554Z"
   },
   {
    "duration": 12,
    "start_time": "2022-05-24T12:36:45.929Z"
   },
   {
    "duration": 36,
    "start_time": "2022-05-24T12:36:53.511Z"
   },
   {
    "duration": 39,
    "start_time": "2022-05-24T12:37:08.622Z"
   },
   {
    "duration": 7,
    "start_time": "2022-05-24T12:37:35.096Z"
   },
   {
    "duration": 27,
    "start_time": "2022-05-24T12:37:39.845Z"
   },
   {
    "duration": 20340,
    "start_time": "2022-05-24T12:38:06.919Z"
   },
   {
    "duration": 11,
    "start_time": "2022-05-24T12:42:32.710Z"
   },
   {
    "duration": 943,
    "start_time": "2022-05-24T12:42:41.790Z"
   },
   {
    "duration": 731,
    "start_time": "2022-05-24T12:42:42.736Z"
   },
   {
    "duration": 34,
    "start_time": "2022-05-24T12:42:43.469Z"
   },
   {
    "duration": 29,
    "start_time": "2022-05-24T12:42:43.505Z"
   },
   {
    "duration": 28,
    "start_time": "2022-05-24T12:42:43.536Z"
   },
   {
    "duration": 37,
    "start_time": "2022-05-24T12:42:43.566Z"
   },
   {
    "duration": 38,
    "start_time": "2022-05-24T12:42:43.605Z"
   },
   {
    "duration": 10,
    "start_time": "2022-05-24T12:42:43.645Z"
   },
   {
    "duration": 12,
    "start_time": "2022-05-24T12:42:43.657Z"
   },
   {
    "duration": 19,
    "start_time": "2022-05-24T12:42:43.672Z"
   },
   {
    "duration": 5,
    "start_time": "2022-05-24T12:42:43.693Z"
   },
   {
    "duration": 17,
    "start_time": "2022-05-24T12:42:43.699Z"
   },
   {
    "duration": 25,
    "start_time": "2022-05-24T12:42:43.729Z"
   },
   {
    "duration": 10,
    "start_time": "2022-05-24T12:42:43.756Z"
   },
   {
    "duration": 17,
    "start_time": "2022-05-24T12:42:43.768Z"
   },
   {
    "duration": 8,
    "start_time": "2022-05-24T12:42:43.787Z"
   },
   {
    "duration": 168,
    "start_time": "2022-05-24T12:42:43.797Z"
   },
   {
    "duration": 113,
    "start_time": "2022-05-24T12:42:43.966Z"
   },
   {
    "duration": 5,
    "start_time": "2022-05-24T12:42:44.081Z"
   },
   {
    "duration": 19,
    "start_time": "2022-05-24T12:42:44.088Z"
   },
   {
    "duration": 34,
    "start_time": "2022-05-24T12:42:44.109Z"
   },
   {
    "duration": 11,
    "start_time": "2022-05-24T12:42:44.145Z"
   },
   {
    "duration": 7,
    "start_time": "2022-05-24T12:42:44.159Z"
   },
   {
    "duration": 77,
    "start_time": "2022-05-24T12:42:44.168Z"
   },
   {
    "duration": 1608,
    "start_time": "2022-05-24T12:42:44.247Z"
   },
   {
    "duration": 14,
    "start_time": "2022-05-24T12:43:13.017Z"
   },
   {
    "duration": 14,
    "start_time": "2022-05-24T12:44:05.147Z"
   },
   {
    "duration": 11,
    "start_time": "2022-05-24T12:44:07.263Z"
   },
   {
    "duration": 15,
    "start_time": "2022-05-24T12:44:19.847Z"
   },
   {
    "duration": 10,
    "start_time": "2022-05-24T12:47:30.283Z"
   },
   {
    "duration": 1829,
    "start_time": "2022-05-25T09:29:34.314Z"
   },
   {
    "duration": 121,
    "start_time": "2022-05-25T09:32:32.745Z"
   },
   {
    "duration": 1435,
    "start_time": "2022-05-25T09:32:38.019Z"
   },
   {
    "duration": 3404,
    "start_time": "2022-05-25T09:32:39.456Z"
   },
   {
    "duration": 41,
    "start_time": "2022-05-25T09:32:42.862Z"
   },
   {
    "duration": 9,
    "start_time": "2022-05-25T09:32:42.905Z"
   },
   {
    "duration": 33,
    "start_time": "2022-05-25T09:32:42.916Z"
   },
   {
    "duration": 37,
    "start_time": "2022-05-25T09:32:42.951Z"
   },
   {
    "duration": 12,
    "start_time": "2022-05-25T09:32:42.990Z"
   },
   {
    "duration": 8,
    "start_time": "2022-05-25T09:32:43.004Z"
   },
   {
    "duration": 12,
    "start_time": "2022-05-25T09:32:43.033Z"
   },
   {
    "duration": 19,
    "start_time": "2022-05-25T09:32:43.049Z"
   },
   {
    "duration": 14,
    "start_time": "2022-05-25T09:32:43.070Z"
   },
   {
    "duration": 14,
    "start_time": "2022-05-25T09:32:43.086Z"
   },
   {
    "duration": 34,
    "start_time": "2022-05-25T09:32:43.102Z"
   },
   {
    "duration": 23,
    "start_time": "2022-05-25T09:32:43.137Z"
   },
   {
    "duration": 13,
    "start_time": "2022-05-25T09:32:43.162Z"
   },
   {
    "duration": 175,
    "start_time": "2022-05-25T09:32:43.177Z"
   },
   {
    "duration": 127,
    "start_time": "2022-05-25T09:32:43.354Z"
   },
   {
    "duration": 5,
    "start_time": "2022-05-25T09:32:43.482Z"
   },
   {
    "duration": 9,
    "start_time": "2022-05-25T09:32:43.490Z"
   },
   {
    "duration": 27,
    "start_time": "2022-05-25T09:32:43.501Z"
   },
   {
    "duration": 15,
    "start_time": "2022-05-25T09:32:43.530Z"
   },
   {
    "duration": 36,
    "start_time": "2022-05-25T09:32:43.546Z"
   },
   {
    "duration": 20,
    "start_time": "2022-05-25T09:32:43.584Z"
   },
   {
    "duration": 43,
    "start_time": "2022-05-25T09:32:43.607Z"
   },
   {
    "duration": 1458,
    "start_time": "2022-05-25T09:32:43.651Z"
   },
   {
    "duration": 30,
    "start_time": "2022-05-25T09:32:45.111Z"
   },
   {
    "duration": 143,
    "start_time": "2022-05-25T09:32:45.146Z"
   },
   {
    "duration": 9,
    "start_time": "2022-05-25T09:33:11.237Z"
   },
   {
    "duration": 6,
    "start_time": "2022-05-25T09:33:20.174Z"
   },
   {
    "duration": 15,
    "start_time": "2022-05-25T09:33:31.279Z"
   },
   {
    "duration": 5,
    "start_time": "2022-05-25T09:33:36.894Z"
   },
   {
    "duration": 13,
    "start_time": "2022-05-25T09:33:39.918Z"
   },
   {
    "duration": 33,
    "start_time": "2022-05-25T09:34:03.622Z"
   },
   {
    "duration": 14,
    "start_time": "2022-05-25T09:34:07.966Z"
   },
   {
    "duration": 14,
    "start_time": "2022-05-25T09:34:26.256Z"
   },
   {
    "duration": 29,
    "start_time": "2022-05-25T09:34:36.256Z"
   },
   {
    "duration": 24,
    "start_time": "2022-05-25T09:34:46.910Z"
   },
   {
    "duration": 15,
    "start_time": "2022-05-25T09:35:08.851Z"
   },
   {
    "duration": 4,
    "start_time": "2022-05-25T09:37:45.174Z"
   },
   {
    "duration": 18,
    "start_time": "2022-05-25T09:37:52.399Z"
   },
   {
    "duration": 15,
    "start_time": "2022-05-25T09:39:33.439Z"
   },
   {
    "duration": 17,
    "start_time": "2022-05-25T09:40:09.758Z"
   },
   {
    "duration": 85,
    "start_time": "2022-05-25T09:44:35.071Z"
   },
   {
    "duration": 20,
    "start_time": "2022-05-25T09:45:56.545Z"
   },
   {
    "duration": 4,
    "start_time": "2022-05-25T09:50:19.509Z"
   },
   {
    "duration": 4,
    "start_time": "2022-05-25T09:50:25.487Z"
   },
   {
    "duration": 10,
    "start_time": "2022-05-25T09:50:30.223Z"
   },
   {
    "duration": 4,
    "start_time": "2022-05-25T09:54:08.189Z"
   },
   {
    "duration": 231,
    "start_time": "2022-05-25T09:57:27.076Z"
   },
   {
    "duration": 57,
    "start_time": "2022-05-25T09:58:36.798Z"
   },
   {
    "duration": 38,
    "start_time": "2022-05-25T09:58:49.677Z"
   },
   {
    "duration": 12,
    "start_time": "2022-05-25T09:59:02.318Z"
   },
   {
    "duration": 12,
    "start_time": "2022-05-25T09:59:21.188Z"
   },
   {
    "duration": 13,
    "start_time": "2022-05-25T09:59:30.717Z"
   },
   {
    "duration": 816,
    "start_time": "2022-05-25T10:00:11.485Z"
   },
   {
    "duration": 5,
    "start_time": "2022-05-25T10:00:21.228Z"
   },
   {
    "duration": 633,
    "start_time": "2022-05-25T10:01:01.543Z"
   },
   {
    "duration": 5,
    "start_time": "2022-05-25T10:01:04.013Z"
   },
   {
    "duration": 15,
    "start_time": "2022-05-25T10:01:33.811Z"
   },
   {
    "duration": 57,
    "start_time": "2022-05-25T10:03:34.125Z"
   },
   {
    "duration": 28,
    "start_time": "2022-05-25T10:03:39.820Z"
   },
   {
    "duration": 12,
    "start_time": "2022-05-25T10:04:29.676Z"
   },
   {
    "duration": 44,
    "start_time": "2022-05-25T10:05:20.741Z"
   },
   {
    "duration": 20,
    "start_time": "2022-05-25T10:05:23.853Z"
   },
   {
    "duration": 18,
    "start_time": "2022-05-25T10:05:35.885Z"
   },
   {
    "duration": 37,
    "start_time": "2022-05-25T10:06:07.325Z"
   },
   {
    "duration": 44,
    "start_time": "2022-05-25T10:06:10.493Z"
   },
   {
    "duration": 63,
    "start_time": "2022-05-25T10:06:28.945Z"
   },
   {
    "duration": 27,
    "start_time": "2022-05-25T10:06:34.285Z"
   },
   {
    "duration": 37,
    "start_time": "2022-05-25T10:06:37.356Z"
   },
   {
    "duration": 36,
    "start_time": "2022-05-25T10:06:45.404Z"
   },
   {
    "duration": 94,
    "start_time": "2022-05-25T10:06:48.221Z"
   },
   {
    "duration": 12,
    "start_time": "2022-05-25T10:07:29.405Z"
   },
   {
    "duration": 15,
    "start_time": "2022-05-25T10:08:02.142Z"
   },
   {
    "duration": 13,
    "start_time": "2022-05-25T10:08:20.382Z"
   },
   {
    "duration": 14,
    "start_time": "2022-05-25T10:08:42.317Z"
   },
   {
    "duration": 13,
    "start_time": "2022-05-25T10:09:22.493Z"
   },
   {
    "duration": 13,
    "start_time": "2022-05-25T10:10:25.373Z"
   },
   {
    "duration": 10,
    "start_time": "2022-05-25T10:24:10.269Z"
   },
   {
    "duration": 488,
    "start_time": "2022-05-25T10:25:30.157Z"
   },
   {
    "duration": 14,
    "start_time": "2022-05-25T10:26:34.941Z"
   },
   {
    "duration": 13,
    "start_time": "2022-05-25T10:29:10.942Z"
   },
   {
    "duration": 101,
    "start_time": "2022-05-25T10:29:20.223Z"
   },
   {
    "duration": 88,
    "start_time": "2022-05-25T10:29:49.511Z"
   },
   {
    "duration": 74,
    "start_time": "2022-05-25T10:31:40.864Z"
   },
   {
    "duration": 79,
    "start_time": "2022-05-25T10:32:16.641Z"
   },
   {
    "duration": 63,
    "start_time": "2022-05-25T10:32:45.566Z"
   },
   {
    "duration": 44,
    "start_time": "2022-05-25T10:41:23.360Z"
   },
   {
    "duration": 16,
    "start_time": "2022-05-25T10:45:45.024Z"
   },
   {
    "duration": 15,
    "start_time": "2022-05-25T10:51:02.991Z"
   },
   {
    "duration": 14,
    "start_time": "2022-05-25T10:52:28.000Z"
   },
   {
    "duration": 6,
    "start_time": "2022-05-25T11:04:22.445Z"
   },
   {
    "duration": 6,
    "start_time": "2022-05-25T11:05:05.084Z"
   },
   {
    "duration": 6,
    "start_time": "2022-05-25T11:05:11.357Z"
   },
   {
    "duration": 18,
    "start_time": "2022-05-25T11:06:01.340Z"
   },
   {
    "duration": 18,
    "start_time": "2022-05-25T11:07:58.557Z"
   },
   {
    "duration": 37,
    "start_time": "2022-05-25T11:11:05.908Z"
   },
   {
    "duration": 12,
    "start_time": "2022-05-25T11:11:11.787Z"
   },
   {
    "duration": 17,
    "start_time": "2022-05-25T11:11:42.033Z"
   },
   {
    "duration": 13,
    "start_time": "2022-05-25T11:12:25.154Z"
   },
   {
    "duration": 12,
    "start_time": "2022-05-25T11:14:20.331Z"
   },
   {
    "duration": 40,
    "start_time": "2022-05-25T11:14:51.328Z"
   },
   {
    "duration": 12,
    "start_time": "2022-05-25T11:15:04.132Z"
   },
   {
    "duration": 14,
    "start_time": "2022-05-25T11:15:09.563Z"
   },
   {
    "duration": 13,
    "start_time": "2022-05-25T11:15:13.052Z"
   },
   {
    "duration": 13,
    "start_time": "2022-05-25T11:15:22.203Z"
   },
   {
    "duration": 12,
    "start_time": "2022-05-25T11:18:14.668Z"
   },
   {
    "duration": 14,
    "start_time": "2022-05-25T11:18:32.651Z"
   },
   {
    "duration": 1722,
    "start_time": "2022-05-27T10:33:12.230Z"
   },
   {
    "duration": 1999,
    "start_time": "2022-05-27T10:33:13.954Z"
   },
   {
    "duration": 32,
    "start_time": "2022-05-27T10:33:15.955Z"
   },
   {
    "duration": 9,
    "start_time": "2022-05-27T10:33:15.989Z"
   },
   {
    "duration": 20,
    "start_time": "2022-05-27T10:33:15.999Z"
   },
   {
    "duration": 70,
    "start_time": "2022-05-27T10:33:16.021Z"
   },
   {
    "duration": 20,
    "start_time": "2022-05-27T10:33:16.094Z"
   },
   {
    "duration": 8,
    "start_time": "2022-05-27T10:33:16.116Z"
   },
   {
    "duration": 9,
    "start_time": "2022-05-27T10:33:16.126Z"
   },
   {
    "duration": 37,
    "start_time": "2022-05-27T10:33:16.138Z"
   },
   {
    "duration": 7,
    "start_time": "2022-05-27T10:33:16.176Z"
   },
   {
    "duration": 12,
    "start_time": "2022-05-27T10:33:16.185Z"
   },
   {
    "duration": 18,
    "start_time": "2022-05-27T10:33:16.199Z"
   },
   {
    "duration": 64,
    "start_time": "2022-05-27T10:33:16.220Z"
   },
   {
    "duration": 12,
    "start_time": "2022-05-27T10:33:16.286Z"
   },
   {
    "duration": 139,
    "start_time": "2022-05-27T10:33:16.300Z"
   },
   {
    "duration": 132,
    "start_time": "2022-05-27T10:33:16.441Z"
   },
   {
    "duration": 6,
    "start_time": "2022-05-27T10:33:16.575Z"
   },
   {
    "duration": 12,
    "start_time": "2022-05-27T10:33:16.582Z"
   },
   {
    "duration": 16,
    "start_time": "2022-05-27T10:33:16.595Z"
   },
   {
    "duration": 9,
    "start_time": "2022-05-27T10:33:16.613Z"
   },
   {
    "duration": 40,
    "start_time": "2022-05-27T10:33:16.624Z"
   },
   {
    "duration": 23,
    "start_time": "2022-05-27T10:33:16.666Z"
   },
   {
    "duration": 35,
    "start_time": "2022-05-27T10:33:16.690Z"
   },
   {
    "duration": 2085,
    "start_time": "2022-05-27T10:33:16.727Z"
   },
   {
    "duration": 9,
    "start_time": "2022-05-27T10:33:18.814Z"
   },
   {
    "duration": 43,
    "start_time": "2022-05-27T10:33:18.826Z"
   },
   {
    "duration": 27,
    "start_time": "2022-05-27T10:33:18.875Z"
   },
   {
    "duration": 250,
    "start_time": "2022-05-27T10:33:18.905Z"
   },
   {
    "duration": 24,
    "start_time": "2022-05-27T10:33:19.158Z"
   },
   {
    "duration": 76,
    "start_time": "2022-05-27T10:33:19.184Z"
   },
   {
    "duration": 143,
    "start_time": "2022-05-27T10:33:19.262Z"
   },
   {
    "duration": 186,
    "start_time": "2022-05-27T10:33:19.407Z"
   },
   {
    "duration": 67,
    "start_time": "2022-05-27T10:33:19.596Z"
   },
   {
    "duration": 28,
    "start_time": "2022-05-27T10:33:19.665Z"
   },
   {
    "duration": 143,
    "start_time": "2022-05-27T10:45:50.158Z"
   },
   {
    "duration": 15,
    "start_time": "2022-05-27T10:46:10.848Z"
   },
   {
    "duration": 9,
    "start_time": "2022-05-27T10:53:43.259Z"
   },
   {
    "duration": 9,
    "start_time": "2022-05-27T10:55:27.445Z"
   },
   {
    "duration": 30,
    "start_time": "2022-05-27T10:56:51.112Z"
   },
   {
    "duration": 53,
    "start_time": "2022-05-27T10:56:54.724Z"
   },
   {
    "duration": 13,
    "start_time": "2022-05-27T10:57:00.613Z"
   },
   {
    "duration": 14,
    "start_time": "2022-05-27T10:58:27.568Z"
   },
   {
    "duration": 10,
    "start_time": "2022-05-27T11:01:25.618Z"
   },
   {
    "duration": 81,
    "start_time": "2022-05-27T11:04:20.084Z"
   },
   {
    "duration": 19,
    "start_time": "2022-05-27T11:04:35.873Z"
   },
   {
    "duration": 13,
    "start_time": "2022-05-27T11:04:53.626Z"
   },
   {
    "duration": 22,
    "start_time": "2022-05-27T11:05:01.818Z"
   },
   {
    "duration": 12,
    "start_time": "2022-05-27T11:05:05.963Z"
   },
   {
    "duration": 20,
    "start_time": "2022-05-27T11:05:19.098Z"
   },
   {
    "duration": 11,
    "start_time": "2022-05-27T11:06:34.257Z"
   },
   {
    "duration": 22,
    "start_time": "2022-05-27T11:07:24.674Z"
   },
   {
    "duration": 19,
    "start_time": "2022-05-27T11:07:28.859Z"
   },
   {
    "duration": 11,
    "start_time": "2022-05-27T11:07:31.403Z"
   },
   {
    "duration": 14,
    "start_time": "2022-05-27T11:08:15.987Z"
   },
   {
    "duration": 14,
    "start_time": "2022-05-27T11:09:26.211Z"
   },
   {
    "duration": 5,
    "start_time": "2022-05-27T11:09:43.694Z"
   },
   {
    "duration": 60,
    "start_time": "2022-05-27T11:09:46.847Z"
   },
   {
    "duration": 13,
    "start_time": "2022-05-27T11:10:08.434Z"
   },
   {
    "duration": 11,
    "start_time": "2022-05-27T11:10:28.316Z"
   },
   {
    "duration": 13,
    "start_time": "2022-05-27T11:11:23.165Z"
   },
   {
    "duration": 17,
    "start_time": "2022-05-27T11:11:30.221Z"
   },
   {
    "duration": 44,
    "start_time": "2022-05-27T11:14:55.413Z"
   },
   {
    "duration": 33,
    "start_time": "2022-05-27T11:15:21.965Z"
   },
   {
    "duration": 28,
    "start_time": "2022-05-27T11:16:11.470Z"
   },
   {
    "duration": 10,
    "start_time": "2022-05-27T11:16:28.525Z"
   },
   {
    "duration": 22,
    "start_time": "2022-05-27T11:16:38.549Z"
   },
   {
    "duration": 22,
    "start_time": "2022-05-27T11:17:07.277Z"
   },
   {
    "duration": 20,
    "start_time": "2022-05-27T11:17:18.814Z"
   },
   {
    "duration": 98,
    "start_time": "2022-05-27T11:18:09.312Z"
   },
   {
    "duration": 12,
    "start_time": "2022-05-27T11:19:06.981Z"
   },
   {
    "duration": 14,
    "start_time": "2022-05-27T11:21:31.447Z"
   },
   {
    "duration": 27,
    "start_time": "2022-05-27T11:46:13.092Z"
   },
   {
    "duration": 30,
    "start_time": "2022-05-27T11:50:07.575Z"
   },
   {
    "duration": 5,
    "start_time": "2022-05-27T11:50:23.966Z"
   },
   {
    "duration": 7,
    "start_time": "2022-05-27T11:52:37.525Z"
   },
   {
    "duration": 7,
    "start_time": "2022-05-27T11:52:43.869Z"
   },
   {
    "duration": 15,
    "start_time": "2022-05-27T11:56:36.021Z"
   },
   {
    "duration": 22,
    "start_time": "2022-05-27T11:56:39.838Z"
   },
   {
    "duration": 134,
    "start_time": "2022-05-27T11:56:47.151Z"
   },
   {
    "duration": 1274,
    "start_time": "2022-05-27T12:00:29.409Z"
   },
   {
    "duration": 1870,
    "start_time": "2022-05-27T12:00:30.685Z"
   },
   {
    "duration": 38,
    "start_time": "2022-05-27T12:00:32.556Z"
   },
   {
    "duration": 10,
    "start_time": "2022-05-27T12:00:32.596Z"
   },
   {
    "duration": 24,
    "start_time": "2022-05-27T12:00:32.608Z"
   },
   {
    "duration": 53,
    "start_time": "2022-05-27T12:00:32.634Z"
   },
   {
    "duration": 13,
    "start_time": "2022-05-27T12:00:32.690Z"
   },
   {
    "duration": 7,
    "start_time": "2022-05-27T12:00:32.704Z"
   },
   {
    "duration": 13,
    "start_time": "2022-05-27T12:00:32.712Z"
   },
   {
    "duration": 35,
    "start_time": "2022-05-27T12:00:32.729Z"
   },
   {
    "duration": 6,
    "start_time": "2022-05-27T12:00:32.766Z"
   },
   {
    "duration": 8,
    "start_time": "2022-05-27T12:00:32.773Z"
   },
   {
    "duration": 16,
    "start_time": "2022-05-27T12:00:32.783Z"
   },
   {
    "duration": 14,
    "start_time": "2022-05-27T12:00:32.801Z"
   },
   {
    "duration": 10,
    "start_time": "2022-05-27T12:00:32.816Z"
   },
   {
    "duration": 141,
    "start_time": "2022-05-27T12:00:32.827Z"
   },
   {
    "duration": 112,
    "start_time": "2022-05-27T12:00:32.970Z"
   },
   {
    "duration": 4,
    "start_time": "2022-05-27T12:00:33.083Z"
   },
   {
    "duration": 10,
    "start_time": "2022-05-27T12:00:33.088Z"
   },
   {
    "duration": 9,
    "start_time": "2022-05-27T12:00:33.099Z"
   },
   {
    "duration": 7,
    "start_time": "2022-05-27T12:00:33.110Z"
   },
   {
    "duration": 9,
    "start_time": "2022-05-27T12:00:33.119Z"
   },
   {
    "duration": 41,
    "start_time": "2022-05-27T12:00:33.130Z"
   },
   {
    "duration": 37,
    "start_time": "2022-05-27T12:00:33.173Z"
   },
   {
    "duration": 1526,
    "start_time": "2022-05-27T12:00:33.212Z"
   },
   {
    "duration": 5,
    "start_time": "2022-05-27T12:00:34.740Z"
   },
   {
    "duration": 19,
    "start_time": "2022-05-27T12:00:34.746Z"
   },
   {
    "duration": 16,
    "start_time": "2022-05-27T12:00:34.768Z"
   },
   {
    "duration": 141,
    "start_time": "2022-05-27T12:00:34.786Z"
   },
   {
    "duration": 12,
    "start_time": "2022-05-27T12:00:34.929Z"
   },
   {
    "duration": 12,
    "start_time": "2022-05-27T12:00:34.943Z"
   },
   {
    "duration": 116,
    "start_time": "2022-05-27T12:00:34.959Z"
   },
   {
    "duration": 128,
    "start_time": "2022-05-27T12:00:35.077Z"
   },
   {
    "duration": 57,
    "start_time": "2022-05-27T12:00:35.207Z"
   },
   {
    "duration": 26,
    "start_time": "2022-05-27T12:00:35.266Z"
   },
   {
    "duration": 17,
    "start_time": "2022-05-27T12:00:35.293Z"
   },
   {
    "duration": 59,
    "start_time": "2022-05-27T12:00:35.311Z"
   },
   {
    "duration": 11,
    "start_time": "2022-05-27T12:00:35.372Z"
   },
   {
    "duration": 20,
    "start_time": "2022-05-27T12:00:35.385Z"
   },
   {
    "duration": 9,
    "start_time": "2022-05-27T12:00:35.407Z"
   },
   {
    "duration": 154,
    "start_time": "2022-05-27T12:00:35.418Z"
   },
   {
    "duration": 4,
    "start_time": "2022-05-27T12:00:35.574Z"
   },
   {
    "duration": 141,
    "start_time": "2022-05-27T12:01:45.319Z"
   },
   {
    "duration": 167,
    "start_time": "2022-05-27T12:10:21.558Z"
   },
   {
    "duration": 4,
    "start_time": "2022-05-27T12:12:50.335Z"
   },
   {
    "duration": 3,
    "start_time": "2022-05-27T12:17:44.519Z"
   },
   {
    "duration": 14,
    "start_time": "2022-05-27T12:18:10.959Z"
   },
   {
    "duration": 3,
    "start_time": "2022-05-27T12:18:34.351Z"
   },
   {
    "duration": 670,
    "start_time": "2022-05-27T12:18:36.160Z"
   },
   {
    "duration": 3,
    "start_time": "2022-05-27T12:20:36.615Z"
   },
   {
    "duration": 539,
    "start_time": "2022-05-27T12:20:39.618Z"
   },
   {
    "duration": 3,
    "start_time": "2022-05-27T12:24:15.031Z"
   },
   {
    "duration": 519,
    "start_time": "2022-05-27T12:24:18.577Z"
   },
   {
    "duration": 4,
    "start_time": "2022-05-27T12:24:50.352Z"
   },
   {
    "duration": 469,
    "start_time": "2022-05-27T12:24:52.343Z"
   },
   {
    "duration": 3,
    "start_time": "2022-05-27T12:25:34.704Z"
   },
   {
    "duration": 46,
    "start_time": "2022-05-27T12:26:35.648Z"
   },
   {
    "duration": 5,
    "start_time": "2022-05-27T12:27:40.792Z"
   },
   {
    "duration": 146,
    "start_time": "2022-05-27T12:27:43.939Z"
   },
   {
    "duration": 22,
    "start_time": "2022-05-27T12:28:35.033Z"
   },
   {
    "duration": 144,
    "start_time": "2022-05-27T12:29:42.049Z"
   },
   {
    "duration": 3,
    "start_time": "2022-05-27T12:32:51.192Z"
   },
   {
    "duration": 19,
    "start_time": "2022-05-27T12:33:25.153Z"
   },
   {
    "duration": 26,
    "start_time": "2022-05-27T12:33:29.749Z"
   },
   {
    "duration": 16,
    "start_time": "2022-05-27T12:33:56.289Z"
   },
   {
    "duration": 125,
    "start_time": "2022-05-27T12:34:19.666Z"
   },
   {
    "duration": 6,
    "start_time": "2022-05-27T12:34:42.245Z"
   },
   {
    "duration": 122,
    "start_time": "2022-05-27T12:34:44.053Z"
   },
   {
    "duration": 1586,
    "start_time": "2022-05-27T12:36:49.167Z"
   },
   {
    "duration": 1773,
    "start_time": "2022-05-27T12:36:50.755Z"
   },
   {
    "duration": 34,
    "start_time": "2022-05-27T12:36:52.529Z"
   },
   {
    "duration": 9,
    "start_time": "2022-05-27T12:36:52.565Z"
   },
   {
    "duration": 19,
    "start_time": "2022-05-27T12:36:52.575Z"
   },
   {
    "duration": 25,
    "start_time": "2022-05-27T12:36:52.595Z"
   },
   {
    "duration": 37,
    "start_time": "2022-05-27T12:36:52.622Z"
   },
   {
    "duration": 3,
    "start_time": "2022-05-27T12:36:52.661Z"
   },
   {
    "duration": 12,
    "start_time": "2022-05-27T12:36:52.666Z"
   },
   {
    "duration": 22,
    "start_time": "2022-05-27T12:36:52.681Z"
   },
   {
    "duration": 5,
    "start_time": "2022-05-27T12:36:52.704Z"
   },
   {
    "duration": 13,
    "start_time": "2022-05-27T12:36:52.711Z"
   },
   {
    "duration": 35,
    "start_time": "2022-05-27T12:36:52.725Z"
   },
   {
    "duration": 16,
    "start_time": "2022-05-27T12:36:52.761Z"
   },
   {
    "duration": 11,
    "start_time": "2022-05-27T12:36:52.778Z"
   },
   {
    "duration": 146,
    "start_time": "2022-05-27T12:36:52.790Z"
   },
   {
    "duration": 126,
    "start_time": "2022-05-27T12:36:52.937Z"
   },
   {
    "duration": 4,
    "start_time": "2022-05-27T12:36:53.065Z"
   },
   {
    "duration": 14,
    "start_time": "2022-05-27T12:36:53.071Z"
   },
   {
    "duration": 11,
    "start_time": "2022-05-27T12:36:53.087Z"
   },
   {
    "duration": 7,
    "start_time": "2022-05-27T12:36:53.100Z"
   },
   {
    "duration": 6,
    "start_time": "2022-05-27T12:36:53.108Z"
   },
   {
    "duration": 12,
    "start_time": "2022-05-27T12:36:53.115Z"
   },
   {
    "duration": 62,
    "start_time": "2022-05-27T12:36:53.129Z"
   },
   {
    "duration": 1891,
    "start_time": "2022-05-27T12:36:53.192Z"
   },
   {
    "duration": 5,
    "start_time": "2022-05-27T12:36:55.084Z"
   },
   {
    "duration": 18,
    "start_time": "2022-05-27T12:36:55.090Z"
   },
   {
    "duration": 14,
    "start_time": "2022-05-27T12:36:55.110Z"
   },
   {
    "duration": 198,
    "start_time": "2022-05-27T12:36:55.125Z"
   },
   {
    "duration": 12,
    "start_time": "2022-05-27T12:36:55.324Z"
   },
   {
    "duration": 23,
    "start_time": "2022-05-27T12:36:55.337Z"
   },
   {
    "duration": 112,
    "start_time": "2022-05-27T12:36:55.361Z"
   },
   {
    "duration": 119,
    "start_time": "2022-05-27T12:36:55.475Z"
   },
   {
    "duration": 13,
    "start_time": "2022-05-27T12:36:55.596Z"
   },
   {
    "duration": 54,
    "start_time": "2022-05-27T12:36:55.610Z"
   },
   {
    "duration": 25,
    "start_time": "2022-05-27T12:36:55.665Z"
   },
   {
    "duration": 11,
    "start_time": "2022-05-27T12:36:55.691Z"
   },
   {
    "duration": 10,
    "start_time": "2022-05-27T12:36:55.703Z"
   },
   {
    "duration": 18,
    "start_time": "2022-05-27T12:36:55.714Z"
   },
   {
    "duration": 32,
    "start_time": "2022-05-27T12:36:55.733Z"
   },
   {
    "duration": 145,
    "start_time": "2022-05-27T12:36:55.766Z"
   },
   {
    "duration": 70,
    "start_time": "2022-05-27T12:36:55.913Z"
   },
   {
    "duration": 5,
    "start_time": "2022-05-27T12:36:55.985Z"
   },
   {
    "duration": 176,
    "start_time": "2022-05-27T12:36:55.992Z"
   },
   {
    "duration": 3,
    "start_time": "2022-05-27T12:36:56.170Z"
   },
   {
    "duration": 23,
    "start_time": "2022-05-27T12:38:17.542Z"
   },
   {
    "duration": 38,
    "start_time": "2022-05-27T12:51:45.056Z"
   },
   {
    "duration": 3,
    "start_time": "2022-05-27T12:51:59.123Z"
   },
   {
    "duration": 3,
    "start_time": "2022-05-27T12:52:12.160Z"
   },
   {
    "duration": 126,
    "start_time": "2022-05-27T12:53:53.297Z"
   },
   {
    "duration": 6,
    "start_time": "2022-05-27T12:54:18.593Z"
   },
   {
    "duration": 3,
    "start_time": "2022-05-27T12:55:18.577Z"
   },
   {
    "duration": 13,
    "start_time": "2022-05-27T13:05:56.717Z"
   },
   {
    "duration": 1387,
    "start_time": "2022-05-27T13:09:26.631Z"
   },
   {
    "duration": 726,
    "start_time": "2022-05-27T13:09:28.020Z"
   },
   {
    "duration": 34,
    "start_time": "2022-05-27T13:09:28.748Z"
   },
   {
    "duration": 8,
    "start_time": "2022-05-27T13:09:28.784Z"
   },
   {
    "duration": 25,
    "start_time": "2022-05-27T13:09:28.793Z"
   },
   {
    "duration": 37,
    "start_time": "2022-05-27T13:09:28.820Z"
   },
   {
    "duration": 15,
    "start_time": "2022-05-27T13:09:28.858Z"
   },
   {
    "duration": 8,
    "start_time": "2022-05-27T13:09:28.874Z"
   },
   {
    "duration": 28,
    "start_time": "2022-05-27T13:09:28.883Z"
   },
   {
    "duration": 37,
    "start_time": "2022-05-27T13:09:28.913Z"
   },
   {
    "duration": 11,
    "start_time": "2022-05-27T13:09:28.951Z"
   },
   {
    "duration": 24,
    "start_time": "2022-05-27T13:09:28.964Z"
   },
   {
    "duration": 32,
    "start_time": "2022-05-27T13:09:28.989Z"
   },
   {
    "duration": 39,
    "start_time": "2022-05-27T13:09:29.022Z"
   },
   {
    "duration": 20,
    "start_time": "2022-05-27T13:09:29.062Z"
   },
   {
    "duration": 131,
    "start_time": "2022-05-27T13:09:29.083Z"
   },
   {
    "duration": 99,
    "start_time": "2022-05-27T13:09:29.216Z"
   },
   {
    "duration": 4,
    "start_time": "2022-05-27T13:09:29.317Z"
   },
   {
    "duration": 31,
    "start_time": "2022-05-27T13:09:29.322Z"
   },
   {
    "duration": 46,
    "start_time": "2022-05-27T13:09:29.354Z"
   },
   {
    "duration": 45,
    "start_time": "2022-05-27T13:09:29.401Z"
   },
   {
    "duration": 28,
    "start_time": "2022-05-27T13:09:29.447Z"
   },
   {
    "duration": 33,
    "start_time": "2022-05-27T13:09:29.477Z"
   },
   {
    "duration": 49,
    "start_time": "2022-05-27T13:09:29.511Z"
   },
   {
    "duration": 1490,
    "start_time": "2022-05-27T13:09:29.562Z"
   },
   {
    "duration": 8,
    "start_time": "2022-05-27T13:09:31.054Z"
   },
   {
    "duration": 47,
    "start_time": "2022-05-27T13:09:31.063Z"
   },
   {
    "duration": 34,
    "start_time": "2022-05-27T13:09:31.113Z"
   },
   {
    "duration": 143,
    "start_time": "2022-05-27T13:09:31.148Z"
   },
   {
    "duration": 14,
    "start_time": "2022-05-27T13:09:31.292Z"
   },
   {
    "duration": 12,
    "start_time": "2022-05-27T13:09:31.308Z"
   },
   {
    "duration": 138,
    "start_time": "2022-05-27T13:09:31.322Z"
   },
   {
    "duration": 103,
    "start_time": "2022-05-27T13:09:31.461Z"
   },
   {
    "duration": 6,
    "start_time": "2022-05-27T13:09:31.565Z"
   },
   {
    "duration": 196,
    "start_time": "2022-05-27T13:09:31.573Z"
   },
   {
    "duration": 98,
    "start_time": "2022-05-27T13:09:31.770Z"
   },
   {
    "duration": 7,
    "start_time": "2022-05-27T13:09:31.870Z"
   },
   {
    "duration": 181,
    "start_time": "2022-05-27T13:09:31.879Z"
   },
   {
    "duration": 24,
    "start_time": "2022-05-27T13:09:32.061Z"
   },
   {
    "duration": 6,
    "start_time": "2022-05-27T13:09:32.086Z"
   },
   {
    "duration": 24,
    "start_time": "2022-05-27T13:09:32.093Z"
   },
   {
    "duration": 50,
    "start_time": "2022-05-27T13:09:32.118Z"
   },
   {
    "duration": 145,
    "start_time": "2022-05-27T13:10:36.187Z"
   },
   {
    "duration": 1387,
    "start_time": "2022-05-27T13:13:07.814Z"
   },
   {
    "duration": 778,
    "start_time": "2022-05-27T13:13:09.203Z"
   },
   {
    "duration": 34,
    "start_time": "2022-05-27T13:13:09.982Z"
   },
   {
    "duration": 8,
    "start_time": "2022-05-27T13:13:10.017Z"
   },
   {
    "duration": 37,
    "start_time": "2022-05-27T13:13:10.027Z"
   },
   {
    "duration": 32,
    "start_time": "2022-05-27T13:13:10.066Z"
   },
   {
    "duration": 12,
    "start_time": "2022-05-27T13:13:10.100Z"
   },
   {
    "duration": 26,
    "start_time": "2022-05-27T13:13:10.113Z"
   },
   {
    "duration": 22,
    "start_time": "2022-05-27T13:13:10.141Z"
   },
   {
    "duration": 41,
    "start_time": "2022-05-27T13:13:10.165Z"
   },
   {
    "duration": 11,
    "start_time": "2022-05-27T13:13:10.208Z"
   },
   {
    "duration": 24,
    "start_time": "2022-05-27T13:13:10.221Z"
   },
   {
    "duration": 30,
    "start_time": "2022-05-27T13:13:10.246Z"
   },
   {
    "duration": 31,
    "start_time": "2022-05-27T13:13:10.280Z"
   },
   {
    "duration": 23,
    "start_time": "2022-05-27T13:13:10.313Z"
   },
   {
    "duration": 151,
    "start_time": "2022-05-27T13:13:10.338Z"
   },
   {
    "duration": 118,
    "start_time": "2022-05-27T13:13:10.490Z"
   },
   {
    "duration": 4,
    "start_time": "2022-05-27T13:13:10.610Z"
   },
   {
    "duration": 24,
    "start_time": "2022-05-27T13:13:10.615Z"
   },
   {
    "duration": 23,
    "start_time": "2022-05-27T13:13:10.640Z"
   },
   {
    "duration": 25,
    "start_time": "2022-05-27T13:13:10.665Z"
   },
   {
    "duration": 25,
    "start_time": "2022-05-27T13:13:10.691Z"
   },
   {
    "duration": 20,
    "start_time": "2022-05-27T13:13:10.717Z"
   },
   {
    "duration": 41,
    "start_time": "2022-05-27T13:13:10.738Z"
   },
   {
    "duration": 1517,
    "start_time": "2022-05-27T13:13:10.781Z"
   },
   {
    "duration": 6,
    "start_time": "2022-05-27T13:13:12.299Z"
   },
   {
    "duration": 32,
    "start_time": "2022-05-27T13:13:12.306Z"
   },
   {
    "duration": 25,
    "start_time": "2022-05-27T13:13:12.339Z"
   },
   {
    "duration": 138,
    "start_time": "2022-05-27T13:13:12.366Z"
   },
   {
    "duration": 15,
    "start_time": "2022-05-27T13:13:12.507Z"
   },
   {
    "duration": 43,
    "start_time": "2022-05-27T13:13:12.524Z"
   },
   {
    "duration": 139,
    "start_time": "2022-05-27T13:13:12.569Z"
   },
   {
    "duration": 156,
    "start_time": "2022-05-27T13:13:12.710Z"
   },
   {
    "duration": 9,
    "start_time": "2022-05-27T13:13:12.868Z"
   },
   {
    "duration": 192,
    "start_time": "2022-05-27T13:13:12.879Z"
   },
   {
    "duration": 108,
    "start_time": "2022-05-27T13:13:13.073Z"
   },
   {
    "duration": 7,
    "start_time": "2022-05-27T13:13:13.182Z"
   },
   {
    "duration": 205,
    "start_time": "2022-05-27T13:13:13.190Z"
   },
   {
    "duration": 25,
    "start_time": "2022-05-27T13:13:13.396Z"
   },
   {
    "duration": 37,
    "start_time": "2022-05-27T13:13:13.422Z"
   },
   {
    "duration": 5,
    "start_time": "2022-05-27T13:13:13.467Z"
   },
   {
    "duration": 245,
    "start_time": "2022-05-27T13:13:13.474Z"
   },
   {
    "duration": 10,
    "start_time": "2022-05-27T13:32:40.379Z"
   },
   {
    "duration": 13,
    "start_time": "2022-05-27T13:32:44.547Z"
   },
   {
    "duration": 24,
    "start_time": "2022-05-27T13:32:47.993Z"
   },
   {
    "duration": 20,
    "start_time": "2022-05-27T13:32:57.648Z"
   },
   {
    "duration": 1256,
    "start_time": "2022-05-27T13:33:14.989Z"
   },
   {
    "duration": 1321,
    "start_time": "2022-05-27T13:33:16.246Z"
   },
   {
    "duration": 29,
    "start_time": "2022-05-27T13:33:17.568Z"
   },
   {
    "duration": 62,
    "start_time": "2022-05-27T13:33:17.598Z"
   },
   {
    "duration": 22,
    "start_time": "2022-05-27T13:33:17.662Z"
   },
   {
    "duration": 83,
    "start_time": "2022-05-27T13:33:17.686Z"
   },
   {
    "duration": 14,
    "start_time": "2022-05-27T13:33:17.771Z"
   },
   {
    "duration": 4,
    "start_time": "2022-05-27T13:33:17.787Z"
   },
   {
    "duration": 11,
    "start_time": "2022-05-27T13:33:17.792Z"
   },
   {
    "duration": 21,
    "start_time": "2022-05-27T13:33:17.805Z"
   },
   {
    "duration": 6,
    "start_time": "2022-05-27T13:33:17.827Z"
   },
   {
    "duration": 7,
    "start_time": "2022-05-27T13:33:17.860Z"
   },
   {
    "duration": 33,
    "start_time": "2022-05-27T13:33:17.869Z"
   },
   {
    "duration": 19,
    "start_time": "2022-05-27T13:33:17.906Z"
   },
   {
    "duration": 33,
    "start_time": "2022-05-27T13:33:17.927Z"
   },
   {
    "duration": 146,
    "start_time": "2022-05-27T13:33:17.962Z"
   },
   {
    "duration": 108,
    "start_time": "2022-05-27T13:33:18.110Z"
   },
   {
    "duration": 4,
    "start_time": "2022-05-27T13:33:18.220Z"
   },
   {
    "duration": 10,
    "start_time": "2022-05-27T13:33:18.225Z"
   },
   {
    "duration": 28,
    "start_time": "2022-05-27T13:33:18.236Z"
   },
   {
    "duration": 7,
    "start_time": "2022-05-27T13:33:18.266Z"
   },
   {
    "duration": 7,
    "start_time": "2022-05-27T13:33:18.274Z"
   },
   {
    "duration": 14,
    "start_time": "2022-05-27T13:33:18.282Z"
   },
   {
    "duration": 28,
    "start_time": "2022-05-27T13:33:18.297Z"
   },
   {
    "duration": 1489,
    "start_time": "2022-05-27T13:33:18.326Z"
   },
   {
    "duration": 6,
    "start_time": "2022-05-27T13:33:19.817Z"
   },
   {
    "duration": 17,
    "start_time": "2022-05-27T13:33:19.825Z"
   },
   {
    "duration": 33,
    "start_time": "2022-05-27T13:33:19.843Z"
   },
   {
    "duration": 149,
    "start_time": "2022-05-27T13:33:19.878Z"
   },
   {
    "duration": 12,
    "start_time": "2022-05-27T13:33:20.029Z"
   },
   {
    "duration": 20,
    "start_time": "2022-05-27T13:33:20.043Z"
   },
   {
    "duration": 118,
    "start_time": "2022-05-27T13:33:20.064Z"
   },
   {
    "duration": 108,
    "start_time": "2022-05-27T13:33:20.184Z"
   },
   {
    "duration": 6,
    "start_time": "2022-05-27T13:33:20.293Z"
   },
   {
    "duration": 176,
    "start_time": "2022-05-27T13:33:20.301Z"
   },
   {
    "duration": 95,
    "start_time": "2022-05-27T13:33:20.479Z"
   },
   {
    "duration": 6,
    "start_time": "2022-05-27T13:33:20.575Z"
   },
   {
    "duration": 164,
    "start_time": "2022-05-27T13:33:20.583Z"
   },
   {
    "duration": 28,
    "start_time": "2022-05-27T13:33:20.748Z"
   },
   {
    "duration": 3,
    "start_time": "2022-05-27T13:33:20.778Z"
   },
   {
    "duration": 8,
    "start_time": "2022-05-27T13:33:20.784Z"
   },
   {
    "duration": 67,
    "start_time": "2022-05-27T13:33:20.794Z"
   },
   {
    "duration": 1841,
    "start_time": "2022-05-28T09:52:29.797Z"
   },
   {
    "duration": 4,
    "start_time": "2022-05-28T09:54:05.455Z"
   },
   {
    "duration": 123,
    "start_time": "2022-05-28T09:56:06.820Z"
   },
   {
    "duration": 1380,
    "start_time": "2022-05-28T09:56:16.686Z"
   },
   {
    "duration": 1907,
    "start_time": "2022-05-28T09:56:18.069Z"
   },
   {
    "duration": 30,
    "start_time": "2022-05-28T09:56:19.979Z"
   },
   {
    "duration": 8,
    "start_time": "2022-05-28T09:56:20.011Z"
   },
   {
    "duration": 23,
    "start_time": "2022-05-28T09:56:20.020Z"
   },
   {
    "duration": 32,
    "start_time": "2022-05-28T09:56:20.044Z"
   },
   {
    "duration": 14,
    "start_time": "2022-05-28T09:56:20.077Z"
   },
   {
    "duration": 7,
    "start_time": "2022-05-28T09:56:20.093Z"
   },
   {
    "duration": 9,
    "start_time": "2022-05-28T09:56:20.102Z"
   },
   {
    "duration": 17,
    "start_time": "2022-05-28T09:56:20.113Z"
   },
   {
    "duration": 5,
    "start_time": "2022-05-28T09:56:20.131Z"
   },
   {
    "duration": 31,
    "start_time": "2022-05-28T09:56:20.137Z"
   },
   {
    "duration": 22,
    "start_time": "2022-05-28T09:56:20.170Z"
   },
   {
    "duration": 14,
    "start_time": "2022-05-28T09:56:20.193Z"
   },
   {
    "duration": 8,
    "start_time": "2022-05-28T09:56:20.209Z"
   },
   {
    "duration": 164,
    "start_time": "2022-05-28T09:56:20.218Z"
   },
   {
    "duration": 123,
    "start_time": "2022-05-28T09:56:20.384Z"
   },
   {
    "duration": 4,
    "start_time": "2022-05-28T09:56:20.509Z"
   },
   {
    "duration": 6,
    "start_time": "2022-05-28T09:56:20.516Z"
   },
   {
    "duration": 9,
    "start_time": "2022-05-28T09:56:20.523Z"
   },
   {
    "duration": 32,
    "start_time": "2022-05-28T09:56:20.534Z"
   },
   {
    "duration": 12,
    "start_time": "2022-05-28T09:56:20.568Z"
   },
   {
    "duration": 16,
    "start_time": "2022-05-28T09:56:20.582Z"
   },
   {
    "duration": 25,
    "start_time": "2022-05-28T09:56:20.599Z"
   },
   {
    "duration": 1545,
    "start_time": "2022-05-28T09:56:20.625Z"
   },
   {
    "duration": 6,
    "start_time": "2022-05-28T09:56:22.172Z"
   },
   {
    "duration": 19,
    "start_time": "2022-05-28T09:56:22.180Z"
   },
   {
    "duration": 16,
    "start_time": "2022-05-28T09:56:22.203Z"
   },
   {
    "duration": 185,
    "start_time": "2022-05-28T09:56:22.221Z"
   },
   {
    "duration": 16,
    "start_time": "2022-05-28T09:56:22.408Z"
   },
   {
    "duration": 15,
    "start_time": "2022-05-28T09:56:22.426Z"
   },
   {
    "duration": 124,
    "start_time": "2022-05-28T09:56:22.442Z"
   },
   {
    "duration": 118,
    "start_time": "2022-05-28T09:56:22.569Z"
   },
   {
    "duration": 7,
    "start_time": "2022-05-28T09:56:22.689Z"
   },
   {
    "duration": 207,
    "start_time": "2022-05-28T09:56:22.697Z"
   },
   {
    "duration": 90,
    "start_time": "2022-05-28T09:56:22.905Z"
   },
   {
    "duration": 6,
    "start_time": "2022-05-28T09:56:22.996Z"
   },
   {
    "duration": 204,
    "start_time": "2022-05-28T09:56:23.003Z"
   },
   {
    "duration": 54,
    "start_time": "2022-05-28T09:56:23.208Z"
   },
   {
    "duration": 3,
    "start_time": "2022-05-28T09:56:23.264Z"
   },
   {
    "duration": 15,
    "start_time": "2022-05-28T09:56:23.268Z"
   },
   {
    "duration": 15,
    "start_time": "2022-05-28T09:56:23.284Z"
   },
   {
    "duration": 186,
    "start_time": "2022-05-28T09:56:23.300Z"
   },
   {
    "duration": 19,
    "start_time": "2022-05-28T09:56:57.964Z"
   },
   {
    "duration": 91,
    "start_time": "2022-05-28T09:56:59.708Z"
   },
   {
    "duration": 9,
    "start_time": "2022-05-28T09:57:55.267Z"
   },
   {
    "duration": 16,
    "start_time": "2022-05-28T09:57:57.195Z"
   },
   {
    "duration": 5960,
    "start_time": "2022-05-28T09:57:58.955Z"
   },
   {
    "duration": 23,
    "start_time": "2022-05-28T09:58:44.895Z"
   },
   {
    "duration": 58,
    "start_time": "2022-05-28T09:59:14.860Z"
   },
   {
    "duration": 1310,
    "start_time": "2022-05-28T10:01:33.514Z"
   },
   {
    "duration": 747,
    "start_time": "2022-05-28T10:01:34.826Z"
   },
   {
    "duration": 31,
    "start_time": "2022-05-28T10:01:35.576Z"
   },
   {
    "duration": 7,
    "start_time": "2022-05-28T10:01:35.609Z"
   },
   {
    "duration": 18,
    "start_time": "2022-05-28T10:01:35.617Z"
   },
   {
    "duration": 48,
    "start_time": "2022-05-28T10:01:35.637Z"
   },
   {
    "duration": 11,
    "start_time": "2022-05-28T10:01:35.687Z"
   },
   {
    "duration": 10,
    "start_time": "2022-05-28T10:01:35.700Z"
   },
   {
    "duration": 17,
    "start_time": "2022-05-28T10:01:35.712Z"
   },
   {
    "duration": 11,
    "start_time": "2022-05-28T10:01:35.732Z"
   },
   {
    "duration": 32,
    "start_time": "2022-05-28T10:01:35.744Z"
   },
   {
    "duration": 35,
    "start_time": "2022-05-28T10:01:35.777Z"
   },
   {
    "duration": 11,
    "start_time": "2022-05-28T10:01:35.814Z"
   },
   {
    "duration": 11,
    "start_time": "2022-05-28T10:01:35.827Z"
   },
   {
    "duration": 130,
    "start_time": "2022-05-28T10:01:35.840Z"
   },
   {
    "duration": 118,
    "start_time": "2022-05-28T10:01:35.972Z"
   },
   {
    "duration": 4,
    "start_time": "2022-05-28T10:01:36.092Z"
   },
   {
    "duration": 14,
    "start_time": "2022-05-28T10:01:36.098Z"
   },
   {
    "duration": 14,
    "start_time": "2022-05-28T10:01:36.113Z"
   },
   {
    "duration": 8,
    "start_time": "2022-05-28T10:01:36.128Z"
   },
   {
    "duration": 29,
    "start_time": "2022-05-28T10:01:36.137Z"
   },
   {
    "duration": 17,
    "start_time": "2022-05-28T10:01:36.168Z"
   },
   {
    "duration": 110,
    "start_time": "2022-05-28T10:01:36.186Z"
   },
   {
    "duration": 2697,
    "start_time": "2022-05-28T10:01:36.298Z"
   },
   {
    "duration": 6,
    "start_time": "2022-05-28T10:01:38.997Z"
   },
   {
    "duration": 16,
    "start_time": "2022-05-28T10:01:39.004Z"
   },
   {
    "duration": 14,
    "start_time": "2022-05-28T10:01:39.022Z"
   },
   {
    "duration": 139,
    "start_time": "2022-05-28T10:01:39.039Z"
   },
   {
    "duration": 13,
    "start_time": "2022-05-28T10:01:39.181Z"
   },
   {
    "duration": 11,
    "start_time": "2022-05-28T10:01:39.195Z"
   },
   {
    "duration": 177,
    "start_time": "2022-05-28T10:01:39.207Z"
   },
   {
    "duration": 119,
    "start_time": "2022-05-28T10:01:39.387Z"
   },
   {
    "duration": 7,
    "start_time": "2022-05-28T10:01:39.508Z"
   },
   {
    "duration": 197,
    "start_time": "2022-05-28T10:01:39.516Z"
   },
   {
    "duration": 89,
    "start_time": "2022-05-28T10:01:39.715Z"
   },
   {
    "duration": 62,
    "start_time": "2022-05-28T10:01:39.806Z"
   },
   {
    "duration": 181,
    "start_time": "2022-05-28T10:01:39.873Z"
   },
   {
    "duration": 41,
    "start_time": "2022-05-28T10:01:40.059Z"
   },
   {
    "duration": 3,
    "start_time": "2022-05-28T10:01:40.103Z"
   },
   {
    "duration": 54,
    "start_time": "2022-05-28T10:01:40.107Z"
   },
   {
    "duration": 17,
    "start_time": "2022-05-28T10:01:40.164Z"
   },
   {
    "duration": 161,
    "start_time": "2022-05-28T10:01:40.185Z"
   },
   {
    "duration": 0,
    "start_time": "2022-05-28T10:01:40.347Z"
   },
   {
    "duration": 0,
    "start_time": "2022-05-28T10:01:40.348Z"
   },
   {
    "duration": 14,
    "start_time": "2022-05-28T10:01:59.087Z"
   },
   {
    "duration": 6046,
    "start_time": "2022-05-28T10:02:01.071Z"
   },
   {
    "duration": 38,
    "start_time": "2022-05-28T10:02:27.758Z"
   },
   {
    "duration": 13,
    "start_time": "2022-05-28T10:02:36.479Z"
   },
   {
    "duration": 29528,
    "start_time": "2022-05-28T10:02:38.190Z"
   },
   {
    "duration": 29935,
    "start_time": "2022-05-28T10:03:21.725Z"
   },
   {
    "duration": 24354,
    "start_time": "2022-05-28T10:05:08.031Z"
   },
   {
    "duration": 1284,
    "start_time": "2022-05-28T10:09:27.565Z"
   },
   {
    "duration": 630,
    "start_time": "2022-05-28T10:09:28.851Z"
   },
   {
    "duration": 28,
    "start_time": "2022-05-28T10:09:29.482Z"
   },
   {
    "duration": 8,
    "start_time": "2022-05-28T10:09:29.512Z"
   },
   {
    "duration": 18,
    "start_time": "2022-05-28T10:09:29.521Z"
   },
   {
    "duration": 23,
    "start_time": "2022-05-28T10:09:29.559Z"
   },
   {
    "duration": 10,
    "start_time": "2022-05-28T10:09:29.584Z"
   },
   {
    "duration": 13,
    "start_time": "2022-05-28T10:09:29.596Z"
   },
   {
    "duration": 11,
    "start_time": "2022-05-28T10:09:29.610Z"
   },
   {
    "duration": 9,
    "start_time": "2022-05-28T10:09:29.623Z"
   },
   {
    "duration": 13,
    "start_time": "2022-05-28T10:09:29.634Z"
   },
   {
    "duration": 28,
    "start_time": "2022-05-28T10:09:29.649Z"
   },
   {
    "duration": 12,
    "start_time": "2022-05-28T10:09:29.678Z"
   },
   {
    "duration": 9,
    "start_time": "2022-05-28T10:09:29.691Z"
   },
   {
    "duration": 134,
    "start_time": "2022-05-28T10:09:29.701Z"
   },
   {
    "duration": 129,
    "start_time": "2022-05-28T10:09:29.836Z"
   },
   {
    "duration": 4,
    "start_time": "2022-05-28T10:09:29.966Z"
   },
   {
    "duration": 11,
    "start_time": "2022-05-28T10:09:29.972Z"
   },
   {
    "duration": 35,
    "start_time": "2022-05-28T10:09:29.984Z"
   },
   {
    "duration": 17,
    "start_time": "2022-05-28T10:09:30.021Z"
   },
   {
    "duration": 8,
    "start_time": "2022-05-28T10:09:30.039Z"
   },
   {
    "duration": 17,
    "start_time": "2022-05-28T10:09:30.049Z"
   },
   {
    "duration": 26,
    "start_time": "2022-05-28T10:09:30.067Z"
   },
   {
    "duration": 1570,
    "start_time": "2022-05-28T10:09:30.095Z"
   },
   {
    "duration": 11,
    "start_time": "2022-05-28T10:09:31.666Z"
   },
   {
    "duration": 29,
    "start_time": "2022-05-28T10:09:31.678Z"
   },
   {
    "duration": 20,
    "start_time": "2022-05-28T10:09:31.710Z"
   },
   {
    "duration": 136,
    "start_time": "2022-05-28T10:09:31.734Z"
   },
   {
    "duration": 12,
    "start_time": "2022-05-28T10:09:31.872Z"
   },
   {
    "duration": 11,
    "start_time": "2022-05-28T10:09:31.887Z"
   },
   {
    "duration": 170,
    "start_time": "2022-05-28T10:09:31.900Z"
   },
   {
    "duration": 131,
    "start_time": "2022-05-28T10:09:32.073Z"
   },
   {
    "duration": 6,
    "start_time": "2022-05-28T10:09:32.205Z"
   },
   {
    "duration": 193,
    "start_time": "2022-05-28T10:09:32.213Z"
   },
   {
    "duration": 83,
    "start_time": "2022-05-28T10:09:32.408Z"
   },
   {
    "duration": 7,
    "start_time": "2022-05-28T10:09:32.492Z"
   },
   {
    "duration": 205,
    "start_time": "2022-05-28T10:09:32.501Z"
   },
   {
    "duration": 52,
    "start_time": "2022-05-28T10:09:32.707Z"
   },
   {
    "duration": 3,
    "start_time": "2022-05-28T10:09:32.761Z"
   },
   {
    "duration": 5,
    "start_time": "2022-05-28T10:09:32.765Z"
   },
   {
    "duration": 9,
    "start_time": "2022-05-28T10:09:32.771Z"
   },
   {
    "duration": 15,
    "start_time": "2022-05-28T10:09:32.781Z"
   },
   {
    "duration": 23450,
    "start_time": "2022-05-28T10:09:32.798Z"
   },
   {
    "duration": 118,
    "start_time": "2022-05-28T10:10:30.535Z"
   },
   {
    "duration": 11,
    "start_time": "2022-05-28T10:10:50.896Z"
   },
   {
    "duration": 10,
    "start_time": "2022-05-28T10:10:57.039Z"
   },
   {
    "duration": 9,
    "start_time": "2022-05-28T10:11:06.352Z"
   },
   {
    "duration": 3,
    "start_time": "2022-05-28T10:11:18.447Z"
   },
   {
    "duration": 3,
    "start_time": "2022-05-28T10:12:33.617Z"
   },
   {
    "duration": 23218,
    "start_time": "2022-05-28T10:12:57.296Z"
   },
   {
    "duration": 29,
    "start_time": "2022-05-28T10:17:09.139Z"
   },
   {
    "duration": 17,
    "start_time": "2022-05-28T10:17:15.107Z"
   },
   {
    "duration": 6,
    "start_time": "2022-05-28T10:17:35.698Z"
   },
   {
    "duration": 11,
    "start_time": "2022-05-28T10:23:54.323Z"
   },
   {
    "duration": 241777,
    "start_time": "2022-05-28T10:24:14.530Z"
   },
   {
    "duration": 1312,
    "start_time": "2022-05-28T10:28:25.923Z"
   },
   {
    "duration": 639,
    "start_time": "2022-05-28T10:28:27.237Z"
   },
   {
    "duration": 39,
    "start_time": "2022-05-28T10:28:27.878Z"
   },
   {
    "duration": 12,
    "start_time": "2022-05-28T10:28:27.919Z"
   },
   {
    "duration": 46,
    "start_time": "2022-05-28T10:28:27.933Z"
   },
   {
    "duration": 36,
    "start_time": "2022-05-28T10:28:27.981Z"
   },
   {
    "duration": 15,
    "start_time": "2022-05-28T10:28:28.019Z"
   },
   {
    "duration": 40,
    "start_time": "2022-05-28T10:28:28.036Z"
   },
   {
    "duration": 43,
    "start_time": "2022-05-28T10:28:28.077Z"
   },
   {
    "duration": 8,
    "start_time": "2022-05-28T10:28:28.124Z"
   },
   {
    "duration": 11,
    "start_time": "2022-05-28T10:28:28.133Z"
   },
   {
    "duration": 40,
    "start_time": "2022-05-28T10:28:28.147Z"
   },
   {
    "duration": 12,
    "start_time": "2022-05-28T10:28:28.189Z"
   },
   {
    "duration": 8,
    "start_time": "2022-05-28T10:28:28.203Z"
   },
   {
    "duration": 117,
    "start_time": "2022-05-28T10:28:28.212Z"
   },
   {
    "duration": 93,
    "start_time": "2022-05-28T10:28:28.331Z"
   },
   {
    "duration": 35,
    "start_time": "2022-05-28T10:28:28.427Z"
   },
   {
    "duration": 10,
    "start_time": "2022-05-28T10:28:28.465Z"
   },
   {
    "duration": 16,
    "start_time": "2022-05-28T10:28:28.477Z"
   },
   {
    "duration": 11,
    "start_time": "2022-05-28T10:28:28.494Z"
   },
   {
    "duration": 9,
    "start_time": "2022-05-28T10:28:28.507Z"
   },
   {
    "duration": 44,
    "start_time": "2022-05-28T10:28:28.517Z"
   },
   {
    "duration": 36,
    "start_time": "2022-05-28T10:28:28.562Z"
   },
   {
    "duration": 1517,
    "start_time": "2022-05-28T10:28:28.600Z"
   },
   {
    "duration": 6,
    "start_time": "2022-05-28T10:28:30.119Z"
   },
   {
    "duration": 32,
    "start_time": "2022-05-28T10:28:30.126Z"
   },
   {
    "duration": 16,
    "start_time": "2022-05-28T10:28:30.160Z"
   },
   {
    "duration": 162,
    "start_time": "2022-05-28T10:28:30.181Z"
   },
   {
    "duration": 19,
    "start_time": "2022-05-28T10:28:30.344Z"
   },
   {
    "duration": 18,
    "start_time": "2022-05-28T10:28:30.365Z"
   },
   {
    "duration": 185,
    "start_time": "2022-05-28T10:28:30.386Z"
   },
   {
    "duration": 128,
    "start_time": "2022-05-28T10:28:30.572Z"
   },
   {
    "duration": 7,
    "start_time": "2022-05-28T10:28:30.702Z"
   },
   {
    "duration": 172,
    "start_time": "2022-05-28T10:28:30.710Z"
   },
   {
    "duration": 120,
    "start_time": "2022-05-28T10:28:30.884Z"
   },
   {
    "duration": 58,
    "start_time": "2022-05-28T10:28:31.006Z"
   },
   {
    "duration": 155,
    "start_time": "2022-05-28T10:28:31.066Z"
   },
   {
    "duration": 48,
    "start_time": "2022-05-28T10:28:31.223Z"
   },
   {
    "duration": 3,
    "start_time": "2022-05-28T10:28:31.272Z"
   },
   {
    "duration": 8,
    "start_time": "2022-05-28T10:28:31.276Z"
   },
   {
    "duration": 9,
    "start_time": "2022-05-28T10:28:31.286Z"
   },
   {
    "duration": 67,
    "start_time": "2022-05-28T10:28:31.297Z"
   },
   {
    "duration": 22994,
    "start_time": "2022-05-28T10:28:31.366Z"
   },
   {
    "duration": 148,
    "start_time": "2022-05-28T10:30:21.704Z"
   },
   {
    "duration": 14,
    "start_time": "2022-05-28T10:31:05.257Z"
   },
   {
    "duration": 11,
    "start_time": "2022-05-28T10:31:09.575Z"
   },
   {
    "duration": 14,
    "start_time": "2022-05-28T10:34:29.639Z"
   },
   {
    "duration": 3,
    "start_time": "2022-05-28T10:34:39.511Z"
   },
   {
    "duration": 13,
    "start_time": "2022-05-28T10:34:46.457Z"
   },
   {
    "duration": 23219,
    "start_time": "2022-05-28T10:35:57.784Z"
   },
   {
    "duration": 83993,
    "start_time": "2022-05-28T10:38:28.407Z"
   },
   {
    "duration": 20,
    "start_time": "2022-05-28T10:46:51.783Z"
   },
   {
    "duration": 1293,
    "start_time": "2022-05-28T10:47:01.278Z"
   },
   {
    "duration": 621,
    "start_time": "2022-05-28T10:47:02.573Z"
   },
   {
    "duration": 29,
    "start_time": "2022-05-28T10:47:03.195Z"
   },
   {
    "duration": 7,
    "start_time": "2022-05-28T10:47:03.226Z"
   },
   {
    "duration": 32,
    "start_time": "2022-05-28T10:47:03.235Z"
   },
   {
    "duration": 22,
    "start_time": "2022-05-28T10:47:03.269Z"
   },
   {
    "duration": 10,
    "start_time": "2022-05-28T10:47:03.293Z"
   },
   {
    "duration": 18,
    "start_time": "2022-05-28T10:47:03.304Z"
   },
   {
    "duration": 10,
    "start_time": "2022-05-28T10:47:03.323Z"
   },
   {
    "duration": 120,
    "start_time": "2022-05-28T10:47:03.336Z"
   },
   {
    "duration": 0,
    "start_time": "2022-05-28T10:47:03.459Z"
   },
   {
    "duration": 0,
    "start_time": "2022-05-28T10:47:03.460Z"
   },
   {
    "duration": 0,
    "start_time": "2022-05-28T10:47:03.462Z"
   },
   {
    "duration": 0,
    "start_time": "2022-05-28T10:47:03.463Z"
   },
   {
    "duration": 0,
    "start_time": "2022-05-28T10:47:03.464Z"
   },
   {
    "duration": 0,
    "start_time": "2022-05-28T10:47:03.465Z"
   },
   {
    "duration": 0,
    "start_time": "2022-05-28T10:47:03.467Z"
   },
   {
    "duration": 0,
    "start_time": "2022-05-28T10:47:03.468Z"
   },
   {
    "duration": 0,
    "start_time": "2022-05-28T10:47:03.469Z"
   },
   {
    "duration": 0,
    "start_time": "2022-05-28T10:47:03.470Z"
   },
   {
    "duration": 0,
    "start_time": "2022-05-28T10:47:03.472Z"
   },
   {
    "duration": 0,
    "start_time": "2022-05-28T10:47:03.473Z"
   },
   {
    "duration": 0,
    "start_time": "2022-05-28T10:47:03.474Z"
   },
   {
    "duration": 0,
    "start_time": "2022-05-28T10:47:03.475Z"
   },
   {
    "duration": 0,
    "start_time": "2022-05-28T10:47:03.477Z"
   },
   {
    "duration": 0,
    "start_time": "2022-05-28T10:47:03.478Z"
   },
   {
    "duration": 0,
    "start_time": "2022-05-28T10:47:03.479Z"
   },
   {
    "duration": 0,
    "start_time": "2022-05-28T10:47:03.481Z"
   },
   {
    "duration": 0,
    "start_time": "2022-05-28T10:47:03.483Z"
   },
   {
    "duration": 0,
    "start_time": "2022-05-28T10:47:03.484Z"
   },
   {
    "duration": 0,
    "start_time": "2022-05-28T10:47:03.485Z"
   },
   {
    "duration": 0,
    "start_time": "2022-05-28T10:47:03.487Z"
   },
   {
    "duration": 0,
    "start_time": "2022-05-28T10:47:03.488Z"
   },
   {
    "duration": 0,
    "start_time": "2022-05-28T10:47:03.489Z"
   },
   {
    "duration": 0,
    "start_time": "2022-05-28T10:47:03.491Z"
   },
   {
    "duration": 0,
    "start_time": "2022-05-28T10:47:03.492Z"
   },
   {
    "duration": 0,
    "start_time": "2022-05-28T10:47:03.493Z"
   },
   {
    "duration": 0,
    "start_time": "2022-05-28T10:47:03.494Z"
   },
   {
    "duration": 0,
    "start_time": "2022-05-28T10:47:03.496Z"
   },
   {
    "duration": 0,
    "start_time": "2022-05-28T10:47:03.559Z"
   },
   {
    "duration": 0,
    "start_time": "2022-05-28T10:47:03.561Z"
   },
   {
    "duration": 0,
    "start_time": "2022-05-28T10:47:03.563Z"
   },
   {
    "duration": 0,
    "start_time": "2022-05-28T10:47:03.564Z"
   },
   {
    "duration": 0,
    "start_time": "2022-05-28T10:47:03.566Z"
   },
   {
    "duration": 4,
    "start_time": "2022-05-28T10:47:44.186Z"
   },
   {
    "duration": 1247,
    "start_time": "2022-05-28T10:47:48.110Z"
   },
   {
    "duration": 620,
    "start_time": "2022-05-28T10:47:49.358Z"
   },
   {
    "duration": 28,
    "start_time": "2022-05-28T10:47:49.979Z"
   },
   {
    "duration": 8,
    "start_time": "2022-05-28T10:47:50.009Z"
   },
   {
    "duration": 20,
    "start_time": "2022-05-28T10:47:50.018Z"
   },
   {
    "duration": 36,
    "start_time": "2022-05-28T10:47:50.039Z"
   },
   {
    "duration": 10,
    "start_time": "2022-05-28T10:47:50.076Z"
   },
   {
    "duration": 7,
    "start_time": "2022-05-28T10:47:50.087Z"
   },
   {
    "duration": 9,
    "start_time": "2022-05-28T10:47:50.095Z"
   },
   {
    "duration": 5,
    "start_time": "2022-05-28T10:47:50.106Z"
   },
   {
    "duration": 9,
    "start_time": "2022-05-28T10:47:50.113Z"
   },
   {
    "duration": 62,
    "start_time": "2022-05-28T10:47:50.123Z"
   },
   {
    "duration": 19,
    "start_time": "2022-05-28T10:47:50.188Z"
   },
   {
    "duration": 13,
    "start_time": "2022-05-28T10:47:50.209Z"
   },
   {
    "duration": 147,
    "start_time": "2022-05-28T10:47:50.224Z"
   },
   {
    "duration": 100,
    "start_time": "2022-05-28T10:47:50.373Z"
   },
   {
    "duration": 4,
    "start_time": "2022-05-28T10:47:50.475Z"
   },
   {
    "duration": 9,
    "start_time": "2022-05-28T10:47:50.480Z"
   },
   {
    "duration": 12,
    "start_time": "2022-05-28T10:47:50.490Z"
   },
   {
    "duration": 10,
    "start_time": "2022-05-28T10:47:50.503Z"
   },
   {
    "duration": 10,
    "start_time": "2022-05-28T10:47:50.515Z"
   },
   {
    "duration": 40,
    "start_time": "2022-05-28T10:47:50.527Z"
   },
   {
    "duration": 36,
    "start_time": "2022-05-28T10:47:50.568Z"
   },
   {
    "duration": 1548,
    "start_time": "2022-05-28T10:47:50.606Z"
   },
   {
    "duration": 7,
    "start_time": "2022-05-28T10:47:52.155Z"
   },
   {
    "duration": 18,
    "start_time": "2022-05-28T10:47:52.164Z"
   },
   {
    "duration": 16,
    "start_time": "2022-05-28T10:47:52.184Z"
   },
   {
    "duration": 126,
    "start_time": "2022-05-28T10:47:52.203Z"
   },
   {
    "duration": 12,
    "start_time": "2022-05-28T10:47:52.331Z"
   },
   {
    "duration": 11,
    "start_time": "2022-05-28T10:47:52.359Z"
   },
   {
    "duration": 118,
    "start_time": "2022-05-28T10:47:52.372Z"
   },
   {
    "duration": 111,
    "start_time": "2022-05-28T10:47:52.492Z"
   },
   {
    "duration": 6,
    "start_time": "2022-05-28T10:47:52.604Z"
   },
   {
    "duration": 197,
    "start_time": "2022-05-28T10:47:52.612Z"
   },
   {
    "duration": 88,
    "start_time": "2022-05-28T10:47:52.811Z"
   },
   {
    "duration": 59,
    "start_time": "2022-05-28T10:47:52.901Z"
   },
   {
    "duration": 189,
    "start_time": "2022-05-28T10:47:52.962Z"
   },
   {
    "duration": 112,
    "start_time": "2022-05-28T10:47:53.154Z"
   },
   {
    "duration": 3,
    "start_time": "2022-05-28T10:47:53.269Z"
   },
   {
    "duration": 14,
    "start_time": "2022-05-28T10:47:53.275Z"
   },
   {
    "duration": 12,
    "start_time": "2022-05-28T10:47:53.292Z"
   },
   {
    "duration": 19,
    "start_time": "2022-05-28T10:47:53.306Z"
   },
   {
    "duration": 171,
    "start_time": "2022-05-28T10:47:53.326Z"
   },
   {
    "duration": 0,
    "start_time": "2022-05-28T10:47:53.499Z"
   },
   {
    "duration": 25220,
    "start_time": "2022-05-28T10:48:10.593Z"
   },
   {
    "duration": 10,
    "start_time": "2022-05-28T10:48:44.115Z"
   },
   {
    "duration": 4,
    "start_time": "2022-05-28T10:48:59.666Z"
   },
   {
    "duration": 10,
    "start_time": "2022-05-28T10:49:04.242Z"
   },
   {
    "duration": 14,
    "start_time": "2022-05-28T10:49:11.058Z"
   },
   {
    "duration": 14,
    "start_time": "2022-05-28T10:49:33.858Z"
   },
   {
    "duration": 86047,
    "start_time": "2022-05-28T10:49:42.807Z"
   },
   {
    "duration": 2205,
    "start_time": "2022-05-28T10:51:08.855Z"
   },
   {
    "duration": 346,
    "start_time": "2022-05-28T10:54:43.626Z"
   },
   {
    "duration": 5,
    "start_time": "2022-05-28T10:55:36.530Z"
   },
   {
    "duration": 15,
    "start_time": "2022-05-28T10:55:47.811Z"
   },
   {
    "duration": 5,
    "start_time": "2022-05-28T10:55:51.570Z"
   },
   {
    "duration": 138571,
    "start_time": "2022-05-28T10:55:57.156Z"
   },
   {
    "duration": 3,
    "start_time": "2022-05-28T11:00:44.345Z"
   },
   {
    "duration": 4,
    "start_time": "2022-05-28T11:00:48.530Z"
   },
   {
    "duration": 5,
    "start_time": "2022-05-28T11:00:57.714Z"
   },
   {
    "duration": 3,
    "start_time": "2022-05-28T11:01:03.058Z"
   },
   {
    "duration": 4,
    "start_time": "2022-05-28T11:01:07.623Z"
   },
   {
    "duration": 263,
    "start_time": "2022-05-28T11:03:54.642Z"
   },
   {
    "duration": 31133,
    "start_time": "2022-05-28T11:04:07.730Z"
   },
   {
    "duration": 0,
    "start_time": "2022-05-28T11:07:46.242Z"
   },
   {
    "duration": 9362,
    "start_time": "2022-05-28T11:07:50.067Z"
   },
   {
    "duration": 117490,
    "start_time": "2022-05-28T11:08:02.300Z"
   },
   {
    "duration": 1355,
    "start_time": "2022-05-28T11:10:21.804Z"
   },
   {
    "duration": 693,
    "start_time": "2022-05-28T11:10:23.161Z"
   },
   {
    "duration": 36,
    "start_time": "2022-05-28T11:10:23.858Z"
   },
   {
    "duration": 9,
    "start_time": "2022-05-28T11:10:23.896Z"
   },
   {
    "duration": 18,
    "start_time": "2022-05-28T11:10:23.907Z"
   },
   {
    "duration": 53,
    "start_time": "2022-05-28T11:10:23.926Z"
   },
   {
    "duration": 12,
    "start_time": "2022-05-28T11:10:23.980Z"
   },
   {
    "duration": 5,
    "start_time": "2022-05-28T11:10:23.994Z"
   },
   {
    "duration": 10,
    "start_time": "2022-05-28T11:10:24.000Z"
   },
   {
    "duration": 5,
    "start_time": "2022-05-28T11:10:24.013Z"
   },
   {
    "duration": 46,
    "start_time": "2022-05-28T11:10:24.019Z"
   },
   {
    "duration": 22,
    "start_time": "2022-05-28T11:10:24.067Z"
   },
   {
    "duration": 13,
    "start_time": "2022-05-28T11:10:24.091Z"
   },
   {
    "duration": 9,
    "start_time": "2022-05-28T11:10:24.105Z"
   },
   {
    "duration": 169,
    "start_time": "2022-05-28T11:10:24.116Z"
   },
   {
    "duration": 124,
    "start_time": "2022-05-28T11:10:24.286Z"
   },
   {
    "duration": 5,
    "start_time": "2022-05-28T11:10:24.412Z"
   },
   {
    "duration": 12,
    "start_time": "2022-05-28T11:10:24.419Z"
   },
   {
    "duration": 37,
    "start_time": "2022-05-28T11:10:24.433Z"
   },
   {
    "duration": 9,
    "start_time": "2022-05-28T11:10:24.473Z"
   },
   {
    "duration": 9,
    "start_time": "2022-05-28T11:10:24.484Z"
   },
   {
    "duration": 13,
    "start_time": "2022-05-28T11:10:24.495Z"
   },
   {
    "duration": 63,
    "start_time": "2022-05-28T11:10:24.510Z"
   },
   {
    "duration": 1624,
    "start_time": "2022-05-28T11:10:24.575Z"
   },
   {
    "duration": 6,
    "start_time": "2022-05-28T11:10:26.201Z"
   },
   {
    "duration": 18,
    "start_time": "2022-05-28T11:10:26.209Z"
   },
   {
    "duration": 35,
    "start_time": "2022-05-28T11:10:26.229Z"
   },
   {
    "duration": 148,
    "start_time": "2022-05-28T11:10:26.268Z"
   },
   {
    "duration": 13,
    "start_time": "2022-05-28T11:10:26.417Z"
   },
   {
    "duration": 34,
    "start_time": "2022-05-28T11:10:26.431Z"
   },
   {
    "duration": 130,
    "start_time": "2022-05-28T11:10:26.468Z"
   },
   {
    "duration": 107,
    "start_time": "2022-05-28T11:10:26.600Z"
   },
   {
    "duration": 5,
    "start_time": "2022-05-28T11:10:26.709Z"
   },
   {
    "duration": 183,
    "start_time": "2022-05-28T11:10:26.716Z"
   },
   {
    "duration": 94,
    "start_time": "2022-05-28T11:10:26.900Z"
   },
   {
    "duration": 65,
    "start_time": "2022-05-28T11:10:26.995Z"
   },
   {
    "duration": 136,
    "start_time": "2022-05-28T11:10:27.061Z"
   },
   {
    "duration": 81,
    "start_time": "2022-05-28T11:10:27.199Z"
   },
   {
    "duration": 4,
    "start_time": "2022-05-28T11:10:27.282Z"
   },
   {
    "duration": 17,
    "start_time": "2022-05-28T11:10:27.288Z"
   },
   {
    "duration": 15,
    "start_time": "2022-05-28T11:10:27.306Z"
   },
   {
    "duration": 48,
    "start_time": "2022-05-28T11:10:27.322Z"
   },
   {
    "duration": 23453,
    "start_time": "2022-05-28T11:10:27.371Z"
   },
   {
    "duration": 89565,
    "start_time": "2022-05-28T11:10:50.825Z"
   },
   {
    "duration": 1774,
    "start_time": "2022-05-28T11:12:20.391Z"
   },
   {
    "duration": 122220,
    "start_time": "2022-05-28T11:12:22.170Z"
   },
   {
    "duration": 514257,
    "start_time": "2022-05-28T11:14:24.392Z"
   },
   {
    "duration": 294848,
    "start_time": "2022-05-28T11:23:01.124Z"
   },
   {
    "duration": 47639,
    "start_time": "2022-05-28T11:27:55.974Z"
   },
   {
    "duration": 63850,
    "start_time": "2022-05-28T11:29:42.122Z"
   },
   {
    "duration": 3,
    "start_time": "2022-05-28T11:31:02.020Z"
   },
   {
    "duration": 65212,
    "start_time": "2022-05-28T11:31:29.763Z"
   },
   {
    "duration": 12,
    "start_time": "2022-05-28T11:36:07.268Z"
   },
   {
    "duration": 23766,
    "start_time": "2022-05-28T11:39:44.971Z"
   },
   {
    "duration": 23462,
    "start_time": "2022-05-28T11:40:34.196Z"
   },
   {
    "duration": 5,
    "start_time": "2022-05-28T11:41:55.972Z"
   },
   {
    "duration": 11,
    "start_time": "2022-05-28T11:42:02.579Z"
   },
   {
    "duration": 5,
    "start_time": "2022-05-28T11:42:08.580Z"
   },
   {
    "duration": 35,
    "start_time": "2022-05-28T11:44:33.483Z"
   },
   {
    "duration": 24,
    "start_time": "2022-05-28T11:44:41.124Z"
   },
   {
    "duration": 14,
    "start_time": "2022-05-28T11:45:21.236Z"
   },
   {
    "duration": 10,
    "start_time": "2022-05-28T11:45:44.341Z"
   },
   {
    "duration": 14,
    "start_time": "2022-05-28T11:45:55.573Z"
   },
   {
    "duration": 25195,
    "start_time": "2022-05-28T11:45:59.492Z"
   },
   {
    "duration": 24753,
    "start_time": "2022-05-28T11:47:00.228Z"
   },
   {
    "duration": 229,
    "start_time": "2022-05-28T11:47:40.948Z"
   },
   {
    "duration": 32,
    "start_time": "2022-05-28T11:53:29.014Z"
   },
   {
    "duration": 29,
    "start_time": "2022-05-28T11:53:46.789Z"
   },
   {
    "duration": 6,
    "start_time": "2022-05-28T12:00:04.749Z"
   },
   {
    "duration": 1460,
    "start_time": "2022-05-28T12:00:53.108Z"
   },
   {
    "duration": 631,
    "start_time": "2022-05-28T12:00:54.570Z"
   },
   {
    "duration": 29,
    "start_time": "2022-05-28T12:00:55.202Z"
   },
   {
    "duration": 8,
    "start_time": "2022-05-28T12:00:55.233Z"
   },
   {
    "duration": 16,
    "start_time": "2022-05-28T12:00:55.260Z"
   },
   {
    "duration": 22,
    "start_time": "2022-05-28T12:00:55.278Z"
   },
   {
    "duration": 10,
    "start_time": "2022-05-28T12:00:55.302Z"
   },
   {
    "duration": 8,
    "start_time": "2022-05-28T12:00:55.314Z"
   },
   {
    "duration": 10,
    "start_time": "2022-05-28T12:00:55.323Z"
   },
   {
    "duration": 4,
    "start_time": "2022-05-28T12:00:55.359Z"
   },
   {
    "duration": 19,
    "start_time": "2022-05-28T12:00:55.364Z"
   },
   {
    "duration": 34,
    "start_time": "2022-05-28T12:00:55.385Z"
   },
   {
    "duration": 6,
    "start_time": "2022-05-28T12:00:55.421Z"
   },
   {
    "duration": 14,
    "start_time": "2022-05-28T12:00:55.429Z"
   },
   {
    "duration": 16,
    "start_time": "2022-05-28T12:00:55.444Z"
   },
   {
    "duration": 124,
    "start_time": "2022-05-28T12:00:55.461Z"
   },
   {
    "duration": 103,
    "start_time": "2022-05-28T12:00:55.587Z"
   },
   {
    "duration": 5,
    "start_time": "2022-05-28T12:00:55.691Z"
   },
   {
    "duration": 9,
    "start_time": "2022-05-28T12:00:55.697Z"
   },
   {
    "duration": 14,
    "start_time": "2022-05-28T12:00:55.707Z"
   },
   {
    "duration": 6,
    "start_time": "2022-05-28T12:00:55.723Z"
   },
   {
    "duration": 34,
    "start_time": "2022-05-28T12:00:55.730Z"
   },
   {
    "duration": 12,
    "start_time": "2022-05-28T12:00:55.766Z"
   },
   {
    "duration": 26,
    "start_time": "2022-05-28T12:00:55.779Z"
   },
   {
    "duration": 1530,
    "start_time": "2022-05-28T12:00:55.807Z"
   },
   {
    "duration": 6,
    "start_time": "2022-05-28T12:00:57.339Z"
   },
   {
    "duration": 25,
    "start_time": "2022-05-28T12:00:57.346Z"
   },
   {
    "duration": 23,
    "start_time": "2022-05-28T12:00:57.374Z"
   },
   {
    "duration": 161,
    "start_time": "2022-05-28T12:00:57.398Z"
   },
   {
    "duration": 12,
    "start_time": "2022-05-28T12:00:57.561Z"
   },
   {
    "duration": 11,
    "start_time": "2022-05-28T12:00:57.575Z"
   },
   {
    "duration": 130,
    "start_time": "2022-05-28T12:00:57.588Z"
   },
   {
    "duration": 175,
    "start_time": "2022-05-28T12:00:57.719Z"
   },
   {
    "duration": 8,
    "start_time": "2022-05-28T12:00:57.896Z"
   },
   {
    "duration": 207,
    "start_time": "2022-05-28T12:00:57.906Z"
   },
   {
    "duration": 80,
    "start_time": "2022-05-28T12:00:58.115Z"
   },
   {
    "duration": 5,
    "start_time": "2022-05-28T12:00:58.197Z"
   },
   {
    "duration": 181,
    "start_time": "2022-05-28T12:00:58.204Z"
   },
   {
    "duration": 25,
    "start_time": "2022-05-28T12:00:58.387Z"
   },
   {
    "duration": 3,
    "start_time": "2022-05-28T12:00:58.414Z"
   },
   {
    "duration": 41,
    "start_time": "2022-05-28T12:00:58.418Z"
   },
   {
    "duration": 7,
    "start_time": "2022-05-28T12:00:58.461Z"
   },
   {
    "duration": 13,
    "start_time": "2022-05-28T12:00:58.469Z"
   },
   {
    "duration": 9812,
    "start_time": "2022-05-28T12:00:58.483Z"
   },
   {
    "duration": 0,
    "start_time": "2022-05-28T12:01:08.297Z"
   },
   {
    "duration": 0,
    "start_time": "2022-05-28T12:01:08.298Z"
   },
   {
    "duration": 0,
    "start_time": "2022-05-28T12:01:08.299Z"
   },
   {
    "duration": 0,
    "start_time": "2022-05-28T12:01:08.300Z"
   },
   {
    "duration": 0,
    "start_time": "2022-05-28T12:01:08.301Z"
   },
   {
    "duration": 0,
    "start_time": "2022-05-28T12:01:08.302Z"
   },
   {
    "duration": 0,
    "start_time": "2022-05-28T12:01:08.302Z"
   },
   {
    "duration": 0,
    "start_time": "2022-05-28T12:01:08.303Z"
   },
   {
    "duration": 0,
    "start_time": "2022-05-28T12:01:08.304Z"
   },
   {
    "duration": 0,
    "start_time": "2022-05-28T12:01:08.304Z"
   },
   {
    "duration": 46164,
    "start_time": "2022-05-28T12:01:20.445Z"
   },
   {
    "duration": 27,
    "start_time": "2022-05-28T12:03:01.925Z"
   },
   {
    "duration": 3,
    "start_time": "2022-05-28T12:03:13.909Z"
   },
   {
    "duration": 33,
    "start_time": "2022-05-28T12:03:37.957Z"
   },
   {
    "duration": 30,
    "start_time": "2022-05-28T12:03:42.117Z"
   },
   {
    "duration": 28,
    "start_time": "2022-05-28T12:03:50.680Z"
   },
   {
    "duration": 41,
    "start_time": "2022-05-28T12:04:03.125Z"
   },
   {
    "duration": 33,
    "start_time": "2022-05-28T12:04:06.478Z"
   },
   {
    "duration": 3,
    "start_time": "2022-05-28T12:04:09.186Z"
   },
   {
    "duration": 4,
    "start_time": "2022-05-28T12:04:11.429Z"
   },
   {
    "duration": 3,
    "start_time": "2022-05-28T12:04:13.220Z"
   },
   {
    "duration": 29,
    "start_time": "2022-05-28T12:04:14.708Z"
   },
   {
    "duration": 25,
    "start_time": "2022-05-28T12:04:16.878Z"
   },
   {
    "duration": 26,
    "start_time": "2022-05-28T12:04:18.406Z"
   },
   {
    "duration": 25,
    "start_time": "2022-05-28T12:04:19.781Z"
   },
   {
    "duration": 37,
    "start_time": "2022-05-28T12:04:21.333Z"
   },
   {
    "duration": 33,
    "start_time": "2022-05-28T12:04:22.607Z"
   },
   {
    "duration": 28,
    "start_time": "2022-05-28T12:04:24.021Z"
   },
   {
    "duration": 40,
    "start_time": "2022-05-28T12:04:27.748Z"
   },
   {
    "duration": 27,
    "start_time": "2022-05-28T12:04:31.733Z"
   },
   {
    "duration": 4,
    "start_time": "2022-05-28T12:04:58.789Z"
   },
   {
    "duration": 3,
    "start_time": "2022-05-28T12:05:18.325Z"
   },
   {
    "duration": 4,
    "start_time": "2022-05-28T12:05:22.356Z"
   },
   {
    "duration": 13,
    "start_time": "2022-05-28T12:05:39.397Z"
   },
   {
    "duration": 5,
    "start_time": "2022-05-28T12:05:47.845Z"
   },
   {
    "duration": 5,
    "start_time": "2022-05-28T12:05:54.341Z"
   },
   {
    "duration": 15,
    "start_time": "2022-05-28T12:06:00.982Z"
   },
   {
    "duration": 1330,
    "start_time": "2022-05-28T12:06:07.467Z"
   },
   {
    "duration": 633,
    "start_time": "2022-05-28T12:06:08.799Z"
   },
   {
    "duration": 33,
    "start_time": "2022-05-28T12:06:09.434Z"
   },
   {
    "duration": 8,
    "start_time": "2022-05-28T12:06:09.469Z"
   },
   {
    "duration": 31,
    "start_time": "2022-05-28T12:06:09.478Z"
   },
   {
    "duration": 22,
    "start_time": "2022-05-28T12:06:09.511Z"
   },
   {
    "duration": 26,
    "start_time": "2022-05-28T12:06:09.535Z"
   },
   {
    "duration": 14,
    "start_time": "2022-05-28T12:06:09.563Z"
   },
   {
    "duration": 10,
    "start_time": "2022-05-28T12:06:09.579Z"
   },
   {
    "duration": 16,
    "start_time": "2022-05-28T12:06:09.592Z"
   },
   {
    "duration": 12,
    "start_time": "2022-05-28T12:06:09.609Z"
   },
   {
    "duration": 23,
    "start_time": "2022-05-28T12:06:09.622Z"
   },
   {
    "duration": 6,
    "start_time": "2022-05-28T12:06:09.646Z"
   },
   {
    "duration": 19,
    "start_time": "2022-05-28T12:06:09.654Z"
   },
   {
    "duration": 7,
    "start_time": "2022-05-28T12:06:09.675Z"
   },
   {
    "duration": 80,
    "start_time": "2022-05-28T12:06:09.684Z"
   },
   {
    "duration": 53,
    "start_time": "2022-05-28T12:06:09.766Z"
   },
   {
    "duration": 156,
    "start_time": "2022-05-28T12:06:09.821Z"
   },
   {
    "duration": 0,
    "start_time": "2022-05-28T12:06:09.979Z"
   },
   {
    "duration": 0,
    "start_time": "2022-05-28T12:06:09.981Z"
   },
   {
    "duration": 0,
    "start_time": "2022-05-28T12:06:09.983Z"
   },
   {
    "duration": 0,
    "start_time": "2022-05-28T12:06:09.984Z"
   },
   {
    "duration": 0,
    "start_time": "2022-05-28T12:06:09.985Z"
   },
   {
    "duration": 0,
    "start_time": "2022-05-28T12:06:09.986Z"
   },
   {
    "duration": 0,
    "start_time": "2022-05-28T12:06:09.988Z"
   },
   {
    "duration": 0,
    "start_time": "2022-05-28T12:06:09.990Z"
   },
   {
    "duration": 0,
    "start_time": "2022-05-28T12:06:09.991Z"
   },
   {
    "duration": 0,
    "start_time": "2022-05-28T12:06:09.992Z"
   },
   {
    "duration": 0,
    "start_time": "2022-05-28T12:06:09.994Z"
   },
   {
    "duration": 0,
    "start_time": "2022-05-28T12:06:09.995Z"
   },
   {
    "duration": 0,
    "start_time": "2022-05-28T12:06:09.996Z"
   },
   {
    "duration": 0,
    "start_time": "2022-05-28T12:06:09.997Z"
   },
   {
    "duration": 0,
    "start_time": "2022-05-28T12:06:09.998Z"
   },
   {
    "duration": 0,
    "start_time": "2022-05-28T12:06:09.999Z"
   },
   {
    "duration": 0,
    "start_time": "2022-05-28T12:06:10.000Z"
   },
   {
    "duration": 0,
    "start_time": "2022-05-28T12:06:10.001Z"
   },
   {
    "duration": 0,
    "start_time": "2022-05-28T12:06:10.002Z"
   },
   {
    "duration": 0,
    "start_time": "2022-05-28T12:06:10.003Z"
   },
   {
    "duration": 0,
    "start_time": "2022-05-28T12:06:10.005Z"
   },
   {
    "duration": 0,
    "start_time": "2022-05-28T12:06:10.006Z"
   },
   {
    "duration": 0,
    "start_time": "2022-05-28T12:06:10.006Z"
   },
   {
    "duration": 0,
    "start_time": "2022-05-28T12:06:10.007Z"
   },
   {
    "duration": 0,
    "start_time": "2022-05-28T12:06:10.008Z"
   },
   {
    "duration": 0,
    "start_time": "2022-05-28T12:06:10.009Z"
   },
   {
    "duration": 0,
    "start_time": "2022-05-28T12:06:10.010Z"
   },
   {
    "duration": 0,
    "start_time": "2022-05-28T12:06:10.059Z"
   },
   {
    "duration": 0,
    "start_time": "2022-05-28T12:06:10.061Z"
   },
   {
    "duration": 0,
    "start_time": "2022-05-28T12:06:10.062Z"
   },
   {
    "duration": 0,
    "start_time": "2022-05-28T12:06:10.063Z"
   },
   {
    "duration": 0,
    "start_time": "2022-05-28T12:06:10.064Z"
   },
   {
    "duration": 0,
    "start_time": "2022-05-28T12:06:10.065Z"
   },
   {
    "duration": 0,
    "start_time": "2022-05-28T12:06:10.066Z"
   },
   {
    "duration": 413,
    "start_time": "2022-05-28T12:07:53.221Z"
   },
   {
    "duration": 9,
    "start_time": "2022-05-28T12:08:09.509Z"
   },
   {
    "duration": 28,
    "start_time": "2022-05-28T12:08:15.252Z"
   },
   {
    "duration": 1312,
    "start_time": "2022-05-28T12:09:10.302Z"
   },
   {
    "duration": 678,
    "start_time": "2022-05-28T12:09:11.616Z"
   },
   {
    "duration": 31,
    "start_time": "2022-05-28T12:09:12.296Z"
   },
   {
    "duration": 8,
    "start_time": "2022-05-28T12:09:12.328Z"
   },
   {
    "duration": 33,
    "start_time": "2022-05-28T12:09:12.337Z"
   },
   {
    "duration": 28,
    "start_time": "2022-05-28T12:09:12.372Z"
   },
   {
    "duration": 11,
    "start_time": "2022-05-28T12:09:12.401Z"
   },
   {
    "duration": 4,
    "start_time": "2022-05-28T12:09:12.414Z"
   },
   {
    "duration": 7,
    "start_time": "2022-05-28T12:09:12.420Z"
   },
   {
    "duration": 5,
    "start_time": "2022-05-28T12:09:12.429Z"
   },
   {
    "duration": 7,
    "start_time": "2022-05-28T12:09:12.459Z"
   },
   {
    "duration": 25,
    "start_time": "2022-05-28T12:09:12.467Z"
   },
   {
    "duration": 7,
    "start_time": "2022-05-28T12:09:12.493Z"
   },
   {
    "duration": 17,
    "start_time": "2022-05-28T12:09:12.502Z"
   },
   {
    "duration": 8,
    "start_time": "2022-05-28T12:09:12.520Z"
   },
   {
    "duration": 97,
    "start_time": "2022-05-28T12:09:12.530Z"
   },
   {
    "duration": 70,
    "start_time": "2022-05-28T12:09:12.629Z"
   },
   {
    "duration": 11,
    "start_time": "2022-05-28T12:09:12.700Z"
   },
   {
    "duration": 7,
    "start_time": "2022-05-28T12:09:12.713Z"
   },
   {
    "duration": 41,
    "start_time": "2022-05-28T12:09:12.721Z"
   },
   {
    "duration": 13,
    "start_time": "2022-05-28T12:09:12.763Z"
   },
   {
    "duration": 40,
    "start_time": "2022-05-28T12:09:12.778Z"
   },
   {
    "duration": 40,
    "start_time": "2022-05-28T12:09:12.819Z"
   },
   {
    "duration": 136,
    "start_time": "2022-05-28T12:09:12.861Z"
   },
   {
    "duration": 0,
    "start_time": "2022-05-28T12:09:12.998Z"
   },
   {
    "duration": 0,
    "start_time": "2022-05-28T12:09:12.999Z"
   },
   {
    "duration": 0,
    "start_time": "2022-05-28T12:09:13.000Z"
   },
   {
    "duration": 0,
    "start_time": "2022-05-28T12:09:13.002Z"
   },
   {
    "duration": 0,
    "start_time": "2022-05-28T12:09:13.002Z"
   },
   {
    "duration": 0,
    "start_time": "2022-05-28T12:09:13.004Z"
   },
   {
    "duration": 0,
    "start_time": "2022-05-28T12:09:13.004Z"
   },
   {
    "duration": 1,
    "start_time": "2022-05-28T12:09:13.005Z"
   },
   {
    "duration": 0,
    "start_time": "2022-05-28T12:09:13.007Z"
   },
   {
    "duration": 0,
    "start_time": "2022-05-28T12:09:13.007Z"
   },
   {
    "duration": 0,
    "start_time": "2022-05-28T12:09:13.008Z"
   },
   {
    "duration": 0,
    "start_time": "2022-05-28T12:09:13.009Z"
   },
   {
    "duration": 0,
    "start_time": "2022-05-28T12:09:13.010Z"
   },
   {
    "duration": 0,
    "start_time": "2022-05-28T12:09:13.011Z"
   },
   {
    "duration": 0,
    "start_time": "2022-05-28T12:09:13.012Z"
   },
   {
    "duration": 0,
    "start_time": "2022-05-28T12:09:13.012Z"
   },
   {
    "duration": 0,
    "start_time": "2022-05-28T12:09:13.013Z"
   },
   {
    "duration": 0,
    "start_time": "2022-05-28T12:09:13.014Z"
   },
   {
    "duration": 0,
    "start_time": "2022-05-28T12:09:13.015Z"
   },
   {
    "duration": 0,
    "start_time": "2022-05-28T12:09:13.016Z"
   },
   {
    "duration": 0,
    "start_time": "2022-05-28T12:09:13.016Z"
   },
   {
    "duration": 0,
    "start_time": "2022-05-28T12:09:13.018Z"
   },
   {
    "duration": 0,
    "start_time": "2022-05-28T12:09:13.019Z"
   },
   {
    "duration": 36,
    "start_time": "2022-05-28T12:10:22.296Z"
   },
   {
    "duration": 26,
    "start_time": "2022-05-28T12:10:39.928Z"
   },
   {
    "duration": 32,
    "start_time": "2022-05-28T12:11:00.425Z"
   },
   {
    "duration": 29,
    "start_time": "2022-05-28T12:11:31.816Z"
   },
   {
    "duration": 36,
    "start_time": "2022-05-28T12:13:29.610Z"
   },
   {
    "duration": 1294,
    "start_time": "2022-05-28T12:15:24.911Z"
   },
   {
    "duration": 690,
    "start_time": "2022-05-28T12:15:26.207Z"
   },
   {
    "duration": 29,
    "start_time": "2022-05-28T12:15:26.899Z"
   },
   {
    "duration": 8,
    "start_time": "2022-05-28T12:15:26.930Z"
   },
   {
    "duration": 32,
    "start_time": "2022-05-28T12:15:26.939Z"
   },
   {
    "duration": 24,
    "start_time": "2022-05-28T12:15:26.972Z"
   },
   {
    "duration": 12,
    "start_time": "2022-05-28T12:15:26.998Z"
   },
   {
    "duration": 6,
    "start_time": "2022-05-28T12:15:27.011Z"
   },
   {
    "duration": 7,
    "start_time": "2022-05-28T12:15:27.019Z"
   },
   {
    "duration": 30,
    "start_time": "2022-05-28T12:15:27.030Z"
   },
   {
    "duration": 9,
    "start_time": "2022-05-28T12:15:27.062Z"
   },
   {
    "duration": 31,
    "start_time": "2022-05-28T12:15:27.073Z"
   },
   {
    "duration": 19,
    "start_time": "2022-05-28T12:15:27.106Z"
   },
   {
    "duration": 42,
    "start_time": "2022-05-28T12:15:27.127Z"
   },
   {
    "duration": 125,
    "start_time": "2022-05-28T12:15:27.171Z"
   },
   {
    "duration": 107,
    "start_time": "2022-05-28T12:15:27.298Z"
   },
   {
    "duration": 11,
    "start_time": "2022-05-28T12:15:27.406Z"
   },
   {
    "duration": 9,
    "start_time": "2022-05-28T12:15:27.418Z"
   },
   {
    "duration": 34,
    "start_time": "2022-05-28T12:15:27.429Z"
   },
   {
    "duration": 13,
    "start_time": "2022-05-28T12:15:27.465Z"
   },
   {
    "duration": 28,
    "start_time": "2022-05-28T12:15:27.479Z"
   },
   {
    "duration": 53,
    "start_time": "2022-05-28T12:15:27.508Z"
   },
   {
    "duration": 149,
    "start_time": "2022-05-28T12:15:27.562Z"
   },
   {
    "duration": 16,
    "start_time": "2022-05-28T12:15:27.713Z"
   },
   {
    "duration": 40,
    "start_time": "2022-05-28T12:15:27.731Z"
   },
   {
    "duration": 223,
    "start_time": "2022-05-28T12:15:27.773Z"
   },
   {
    "duration": 110,
    "start_time": "2022-05-28T12:15:27.998Z"
   },
   {
    "duration": 7,
    "start_time": "2022-05-28T12:15:28.111Z"
   },
   {
    "duration": 273,
    "start_time": "2022-05-28T12:15:28.119Z"
   },
   {
    "duration": 95,
    "start_time": "2022-05-28T12:15:28.393Z"
   },
   {
    "duration": 7,
    "start_time": "2022-05-28T12:15:28.489Z"
   },
   {
    "duration": 204,
    "start_time": "2022-05-28T12:15:28.497Z"
   },
   {
    "duration": 56,
    "start_time": "2022-05-28T12:15:28.703Z"
   },
   {
    "duration": 3,
    "start_time": "2022-05-28T12:15:28.761Z"
   },
   {
    "duration": 6,
    "start_time": "2022-05-28T12:15:28.765Z"
   },
   {
    "duration": 7,
    "start_time": "2022-05-28T12:15:28.773Z"
   },
   {
    "duration": 10,
    "start_time": "2022-05-28T12:15:28.782Z"
   },
   {
    "duration": 183,
    "start_time": "2022-05-28T12:15:28.793Z"
   },
   {
    "duration": 0,
    "start_time": "2022-05-28T12:15:28.978Z"
   },
   {
    "duration": 0,
    "start_time": "2022-05-28T12:15:28.979Z"
   },
   {
    "duration": 0,
    "start_time": "2022-05-28T12:15:28.980Z"
   },
   {
    "duration": 0,
    "start_time": "2022-05-28T12:15:28.981Z"
   },
   {
    "duration": 0,
    "start_time": "2022-05-28T12:15:28.982Z"
   },
   {
    "duration": 0,
    "start_time": "2022-05-28T12:15:28.983Z"
   },
   {
    "duration": 0,
    "start_time": "2022-05-28T12:15:28.984Z"
   },
   {
    "duration": 0,
    "start_time": "2022-05-28T12:15:28.985Z"
   },
   {
    "duration": 0,
    "start_time": "2022-05-28T12:15:28.986Z"
   },
   {
    "duration": 1335,
    "start_time": "2022-05-28T12:20:10.824Z"
   },
   {
    "duration": 667,
    "start_time": "2022-05-28T12:20:12.161Z"
   },
   {
    "duration": 37,
    "start_time": "2022-05-28T12:20:12.830Z"
   },
   {
    "duration": 7,
    "start_time": "2022-05-28T12:20:12.869Z"
   },
   {
    "duration": 18,
    "start_time": "2022-05-28T12:20:12.877Z"
   },
   {
    "duration": 22,
    "start_time": "2022-05-28T12:20:12.896Z"
   },
   {
    "duration": 9,
    "start_time": "2022-05-28T12:20:12.920Z"
   },
   {
    "duration": 28,
    "start_time": "2022-05-28T12:20:12.931Z"
   },
   {
    "duration": 4,
    "start_time": "2022-05-28T12:20:12.961Z"
   },
   {
    "duration": 5,
    "start_time": "2022-05-28T12:20:12.967Z"
   },
   {
    "duration": 22,
    "start_time": "2022-05-28T12:20:12.973Z"
   },
   {
    "duration": 6,
    "start_time": "2022-05-28T12:20:12.997Z"
   },
   {
    "duration": 15,
    "start_time": "2022-05-28T12:20:13.005Z"
   },
   {
    "duration": 9,
    "start_time": "2022-05-28T12:20:13.021Z"
   },
   {
    "duration": 145,
    "start_time": "2022-05-28T12:20:13.031Z"
   },
   {
    "duration": 117,
    "start_time": "2022-05-28T12:20:13.177Z"
   },
   {
    "duration": 10,
    "start_time": "2022-05-28T12:20:13.296Z"
   },
   {
    "duration": 8,
    "start_time": "2022-05-28T12:20:13.307Z"
   },
   {
    "duration": 11,
    "start_time": "2022-05-28T12:20:13.316Z"
   },
   {
    "duration": 35,
    "start_time": "2022-05-28T12:20:13.329Z"
   },
   {
    "duration": 30,
    "start_time": "2022-05-28T12:20:13.365Z"
   },
   {
    "duration": 18,
    "start_time": "2022-05-28T12:20:13.396Z"
   },
   {
    "duration": 165,
    "start_time": "2022-05-28T12:20:13.415Z"
   },
   {
    "duration": 13,
    "start_time": "2022-05-28T12:20:13.582Z"
   },
   {
    "duration": 11,
    "start_time": "2022-05-28T12:20:13.596Z"
   },
   {
    "duration": 189,
    "start_time": "2022-05-28T12:20:13.608Z"
   },
   {
    "duration": 102,
    "start_time": "2022-05-28T12:20:13.799Z"
   },
   {
    "duration": 6,
    "start_time": "2022-05-28T12:20:13.904Z"
   },
   {
    "duration": 277,
    "start_time": "2022-05-28T12:20:13.912Z"
   },
   {
    "duration": 100,
    "start_time": "2022-05-28T12:20:14.191Z"
   },
   {
    "duration": 6,
    "start_time": "2022-05-28T12:20:14.293Z"
   },
   {
    "duration": 186,
    "start_time": "2022-05-28T12:20:14.301Z"
   },
   {
    "duration": 27,
    "start_time": "2022-05-28T12:20:14.489Z"
   },
   {
    "duration": 42,
    "start_time": "2022-05-28T12:20:14.518Z"
   },
   {
    "duration": 7,
    "start_time": "2022-05-28T12:20:14.561Z"
   },
   {
    "duration": 9,
    "start_time": "2022-05-28T12:20:14.569Z"
   },
   {
    "duration": 10,
    "start_time": "2022-05-28T12:20:14.580Z"
   },
   {
    "duration": 13,
    "start_time": "2022-05-28T12:20:14.592Z"
   },
   {
    "duration": 95,
    "start_time": "2022-05-28T12:20:14.607Z"
   },
   {
    "duration": 34,
    "start_time": "2022-05-28T12:20:14.703Z"
   },
   {
    "duration": 47,
    "start_time": "2022-05-28T12:20:14.738Z"
   },
   {
    "duration": 75914,
    "start_time": "2022-05-28T12:20:14.786Z"
   },
   {
    "duration": 66728,
    "start_time": "2022-05-28T12:21:30.702Z"
   },
   {
    "duration": 33672,
    "start_time": "2022-05-28T12:22:37.432Z"
   },
   {
    "duration": 16652,
    "start_time": "2022-05-28T12:23:11.106Z"
   },
   {
    "duration": 5,
    "start_time": "2022-05-28T12:23:27.761Z"
   },
   {
    "duration": 13,
    "start_time": "2022-05-28T12:23:27.769Z"
   },
   {
    "duration": 12,
    "start_time": "2022-05-28T12:24:30.229Z"
   },
   {
    "duration": 8,
    "start_time": "2022-05-28T12:26:46.482Z"
   },
   {
    "duration": 6,
    "start_time": "2022-05-28T12:26:53.545Z"
   },
   {
    "duration": 1371,
    "start_time": "2022-05-28T12:26:57.659Z"
   },
   {
    "duration": 693,
    "start_time": "2022-05-28T12:26:59.032Z"
   },
   {
    "duration": 38,
    "start_time": "2022-05-28T12:26:59.727Z"
   },
   {
    "duration": 8,
    "start_time": "2022-05-28T12:26:59.768Z"
   },
   {
    "duration": 35,
    "start_time": "2022-05-28T12:26:59.778Z"
   },
   {
    "duration": 22,
    "start_time": "2022-05-28T12:26:59.815Z"
   },
   {
    "duration": 22,
    "start_time": "2022-05-28T12:26:59.839Z"
   },
   {
    "duration": 22,
    "start_time": "2022-05-28T12:26:59.862Z"
   },
   {
    "duration": 20,
    "start_time": "2022-05-28T12:26:59.886Z"
   },
   {
    "duration": 22,
    "start_time": "2022-05-28T12:26:59.909Z"
   },
   {
    "duration": 28,
    "start_time": "2022-05-28T12:26:59.933Z"
   },
   {
    "duration": 5,
    "start_time": "2022-05-28T12:26:59.963Z"
   },
   {
    "duration": 27,
    "start_time": "2022-05-28T12:26:59.969Z"
   },
   {
    "duration": 15,
    "start_time": "2022-05-28T12:26:59.998Z"
   },
   {
    "duration": 21,
    "start_time": "2022-05-28T12:27:00.014Z"
   },
   {
    "duration": 70,
    "start_time": "2022-05-28T12:27:00.036Z"
   },
   {
    "duration": 64,
    "start_time": "2022-05-28T12:27:00.107Z"
   },
   {
    "duration": 10,
    "start_time": "2022-05-28T12:27:00.172Z"
   },
   {
    "duration": 24,
    "start_time": "2022-05-28T12:27:00.184Z"
   },
   {
    "duration": 18,
    "start_time": "2022-05-28T12:27:00.210Z"
   },
   {
    "duration": 22,
    "start_time": "2022-05-28T12:27:00.229Z"
   },
   {
    "duration": 32,
    "start_time": "2022-05-28T12:27:00.252Z"
   },
   {
    "duration": 15,
    "start_time": "2022-05-28T12:27:00.285Z"
   },
   {
    "duration": 141,
    "start_time": "2022-05-28T12:27:00.301Z"
   },
   {
    "duration": 12,
    "start_time": "2022-05-28T12:27:00.445Z"
   },
   {
    "duration": 27,
    "start_time": "2022-05-28T12:27:00.460Z"
   },
   {
    "duration": 116,
    "start_time": "2022-05-28T12:27:00.488Z"
   },
   {
    "duration": 94,
    "start_time": "2022-05-28T12:27:00.607Z"
   },
   {
    "duration": 7,
    "start_time": "2022-05-28T12:27:00.702Z"
   },
   {
    "duration": 187,
    "start_time": "2022-05-28T12:27:00.710Z"
   },
   {
    "duration": 98,
    "start_time": "2022-05-28T12:27:00.899Z"
   },
   {
    "duration": 7,
    "start_time": "2022-05-28T12:27:00.999Z"
   },
   {
    "duration": 165,
    "start_time": "2022-05-28T12:27:01.008Z"
   },
   {
    "duration": 28,
    "start_time": "2022-05-28T12:27:01.175Z"
   },
   {
    "duration": 55,
    "start_time": "2022-05-28T12:27:01.204Z"
   },
   {
    "duration": 3,
    "start_time": "2022-05-28T12:27:01.261Z"
   },
   {
    "duration": 38,
    "start_time": "2022-05-28T12:27:01.265Z"
   },
   {
    "duration": 33,
    "start_time": "2022-05-28T12:27:01.305Z"
   },
   {
    "duration": 50,
    "start_time": "2022-05-28T12:27:01.340Z"
   },
   {
    "duration": 14531,
    "start_time": "2022-05-28T12:27:01.392Z"
   },
   {
    "duration": 48954,
    "start_time": "2022-05-28T12:27:15.925Z"
   },
   {
    "duration": 1184,
    "start_time": "2022-05-28T12:28:04.881Z"
   },
   {
    "duration": 70865,
    "start_time": "2022-05-28T12:28:06.159Z"
   },
   {
    "duration": 67876,
    "start_time": "2022-05-28T12:29:17.026Z"
   },
   {
    "duration": 33497,
    "start_time": "2022-05-28T12:30:24.904Z"
   },
   {
    "duration": 16387,
    "start_time": "2022-05-28T12:30:58.403Z"
   },
   {
    "duration": 6,
    "start_time": "2022-05-28T12:31:14.793Z"
   },
   {
    "duration": 20,
    "start_time": "2022-05-28T12:31:14.801Z"
   },
   {
    "duration": 3,
    "start_time": "2022-05-28T12:31:20.987Z"
   },
   {
    "duration": 4,
    "start_time": "2022-05-28T12:31:33.449Z"
   },
   {
    "duration": 4,
    "start_time": "2022-05-28T12:32:24.826Z"
   },
   {
    "duration": 4,
    "start_time": "2022-05-28T12:32:30.313Z"
   },
   {
    "duration": 134,
    "start_time": "2022-05-28T12:32:37.578Z"
   },
   {
    "duration": 6,
    "start_time": "2022-05-28T12:32:45.770Z"
   },
   {
    "duration": 4,
    "start_time": "2022-05-28T12:33:32.890Z"
   },
   {
    "duration": 9,
    "start_time": "2022-05-28T12:34:06.090Z"
   },
   {
    "duration": 3,
    "start_time": "2022-05-28T12:34:14.266Z"
   },
   {
    "duration": 5,
    "start_time": "2022-05-28T12:34:19.369Z"
   },
   {
    "duration": 6,
    "start_time": "2022-05-28T12:39:07.984Z"
   },
   {
    "duration": 7,
    "start_time": "2022-05-28T12:41:09.306Z"
   },
   {
    "duration": 6,
    "start_time": "2022-05-28T12:41:11.739Z"
   },
   {
    "duration": 1455,
    "start_time": "2022-05-28T12:41:21.133Z"
   },
   {
    "duration": 671,
    "start_time": "2022-05-28T12:41:22.590Z"
   },
   {
    "duration": 29,
    "start_time": "2022-05-28T12:41:23.263Z"
   },
   {
    "duration": 8,
    "start_time": "2022-05-28T12:41:23.294Z"
   },
   {
    "duration": 15,
    "start_time": "2022-05-28T12:41:23.304Z"
   },
   {
    "duration": 55,
    "start_time": "2022-05-28T12:41:23.321Z"
   },
   {
    "duration": 12,
    "start_time": "2022-05-28T12:41:23.378Z"
   },
   {
    "duration": 5,
    "start_time": "2022-05-28T12:41:23.391Z"
   },
   {
    "duration": 7,
    "start_time": "2022-05-28T12:41:23.397Z"
   },
   {
    "duration": 7,
    "start_time": "2022-05-28T12:41:23.407Z"
   },
   {
    "duration": 52,
    "start_time": "2022-05-28T12:41:23.415Z"
   },
   {
    "duration": 5,
    "start_time": "2022-05-28T12:41:23.469Z"
   },
   {
    "duration": 18,
    "start_time": "2022-05-28T12:41:23.475Z"
   },
   {
    "duration": 9,
    "start_time": "2022-05-28T12:41:23.494Z"
   },
   {
    "duration": 13,
    "start_time": "2022-05-28T12:41:23.505Z"
   },
   {
    "duration": 85,
    "start_time": "2022-05-28T12:41:23.519Z"
   },
   {
    "duration": 82,
    "start_time": "2022-05-28T12:41:23.606Z"
   },
   {
    "duration": 16,
    "start_time": "2022-05-28T12:41:23.690Z"
   },
   {
    "duration": 8,
    "start_time": "2022-05-28T12:41:23.707Z"
   },
   {
    "duration": 10,
    "start_time": "2022-05-28T12:41:23.716Z"
   },
   {
    "duration": 42,
    "start_time": "2022-05-28T12:41:23.728Z"
   },
   {
    "duration": 38,
    "start_time": "2022-05-28T12:41:23.772Z"
   },
   {
    "duration": 16,
    "start_time": "2022-05-28T12:41:23.811Z"
   },
   {
    "duration": 172,
    "start_time": "2022-05-28T12:41:23.828Z"
   },
   {
    "duration": 11,
    "start_time": "2022-05-28T12:41:24.003Z"
   },
   {
    "duration": 42,
    "start_time": "2022-05-28T12:41:24.017Z"
   },
   {
    "duration": 147,
    "start_time": "2022-05-28T12:41:24.061Z"
   },
   {
    "duration": 152,
    "start_time": "2022-05-28T12:41:24.212Z"
   },
   {
    "duration": 7,
    "start_time": "2022-05-28T12:41:24.365Z"
   },
   {
    "duration": 159,
    "start_time": "2022-05-28T12:41:24.374Z"
   },
   {
    "duration": 138,
    "start_time": "2022-05-28T12:41:24.535Z"
   },
   {
    "duration": 7,
    "start_time": "2022-05-28T12:41:24.675Z"
   },
   {
    "duration": 133,
    "start_time": "2022-05-28T12:41:24.683Z"
   },
   {
    "duration": 47,
    "start_time": "2022-05-28T12:41:24.818Z"
   },
   {
    "duration": 4,
    "start_time": "2022-05-28T12:41:24.867Z"
   },
   {
    "duration": 29,
    "start_time": "2022-05-28T12:41:24.873Z"
   },
   {
    "duration": 57,
    "start_time": "2022-05-28T12:41:24.905Z"
   },
   {
    "duration": 12,
    "start_time": "2022-05-28T12:41:24.963Z"
   },
   {
    "duration": 34,
    "start_time": "2022-05-28T12:41:24.977Z"
   },
   {
    "duration": 14674,
    "start_time": "2022-05-28T12:41:25.013Z"
   },
   {
    "duration": 47904,
    "start_time": "2022-05-28T12:41:39.689Z"
   },
   {
    "duration": 1576,
    "start_time": "2022-05-28T12:42:27.595Z"
   },
   {
    "duration": 85649,
    "start_time": "2022-05-28T12:42:29.173Z"
   },
   {
    "duration": 82096,
    "start_time": "2022-05-28T12:43:54.824Z"
   },
   {
    "duration": 34097,
    "start_time": "2022-05-28T12:45:16.922Z"
   },
   {
    "duration": 24,
    "start_time": "2022-05-28T12:45:51.021Z"
   },
   {
    "duration": 0,
    "start_time": "2022-05-28T12:45:51.046Z"
   },
   {
    "duration": 0,
    "start_time": "2022-05-28T12:45:51.047Z"
   },
   {
    "duration": 6,
    "start_time": "2022-05-28T12:46:14.103Z"
   },
   {
    "duration": 8,
    "start_time": "2022-05-28T12:46:19.223Z"
   },
   {
    "duration": 8,
    "start_time": "2022-05-28T12:46:31.559Z"
   },
   {
    "duration": 1635,
    "start_time": "2022-05-29T12:00:57.433Z"
   },
   {
    "duration": 1805,
    "start_time": "2022-05-29T12:00:59.071Z"
   },
   {
    "duration": 32,
    "start_time": "2022-05-29T12:01:00.877Z"
   },
   {
    "duration": 8,
    "start_time": "2022-05-29T12:01:00.911Z"
   },
   {
    "duration": 26,
    "start_time": "2022-05-29T12:01:00.920Z"
   },
   {
    "duration": 37,
    "start_time": "2022-05-29T12:01:00.948Z"
   },
   {
    "duration": 13,
    "start_time": "2022-05-29T12:01:00.986Z"
   },
   {
    "duration": 23,
    "start_time": "2022-05-29T12:01:01.000Z"
   },
   {
    "duration": 13,
    "start_time": "2022-05-29T12:01:01.025Z"
   },
   {
    "duration": 9,
    "start_time": "2022-05-29T12:01:01.040Z"
   },
   {
    "duration": 28,
    "start_time": "2022-05-29T12:01:01.051Z"
   },
   {
    "duration": 5,
    "start_time": "2022-05-29T12:01:01.080Z"
   },
   {
    "duration": 50,
    "start_time": "2022-05-29T12:01:01.087Z"
   },
   {
    "duration": 8,
    "start_time": "2022-05-29T12:01:01.139Z"
   },
   {
    "duration": 19,
    "start_time": "2022-05-29T12:01:01.148Z"
   },
   {
    "duration": 59,
    "start_time": "2022-05-29T12:01:01.169Z"
   },
   {
    "duration": 63,
    "start_time": "2022-05-29T12:01:01.229Z"
   },
   {
    "duration": 13,
    "start_time": "2022-05-29T12:01:01.293Z"
   },
   {
    "duration": 9,
    "start_time": "2022-05-29T12:01:01.308Z"
   },
   {
    "duration": 42,
    "start_time": "2022-05-29T12:01:01.318Z"
   },
   {
    "duration": 12,
    "start_time": "2022-05-29T12:01:01.361Z"
   },
   {
    "duration": 26,
    "start_time": "2022-05-29T12:01:01.374Z"
   },
   {
    "duration": 15,
    "start_time": "2022-05-29T12:01:01.401Z"
   },
   {
    "duration": 191,
    "start_time": "2022-05-29T12:01:01.418Z"
   },
   {
    "duration": 13,
    "start_time": "2022-05-29T12:01:01.611Z"
   },
   {
    "duration": 45,
    "start_time": "2022-05-29T12:01:01.626Z"
   },
   {
    "duration": 145,
    "start_time": "2022-05-29T12:01:01.673Z"
   },
   {
    "duration": 97,
    "start_time": "2022-05-29T12:01:01.823Z"
   },
   {
    "duration": 46,
    "start_time": "2022-05-29T12:01:01.922Z"
   },
   {
    "duration": 182,
    "start_time": "2022-05-29T12:01:01.970Z"
   },
   {
    "duration": 129,
    "start_time": "2022-05-29T12:01:02.154Z"
   },
   {
    "duration": 8,
    "start_time": "2022-05-29T12:01:02.285Z"
   },
   {
    "duration": 175,
    "start_time": "2022-05-29T12:01:02.295Z"
   },
   {
    "duration": 27,
    "start_time": "2022-05-29T12:01:02.472Z"
   },
   {
    "duration": 3,
    "start_time": "2022-05-29T12:01:02.501Z"
   },
   {
    "duration": 54,
    "start_time": "2022-05-29T12:01:02.505Z"
   },
   {
    "duration": 19,
    "start_time": "2022-05-29T12:01:02.561Z"
   },
   {
    "duration": 21,
    "start_time": "2022-05-29T12:01:02.581Z"
   },
   {
    "duration": 17,
    "start_time": "2022-05-29T12:01:02.603Z"
   },
   {
    "duration": 14883,
    "start_time": "2022-05-29T12:01:02.621Z"
   },
   {
    "duration": 49181,
    "start_time": "2022-05-29T12:01:17.506Z"
   },
   {
    "duration": 1476,
    "start_time": "2022-05-29T12:02:06.689Z"
   },
   {
    "duration": 74533,
    "start_time": "2022-05-29T12:02:08.172Z"
   },
   {
    "duration": 69441,
    "start_time": "2022-05-29T12:03:22.706Z"
   },
   {
    "duration": 32296,
    "start_time": "2022-05-29T12:04:32.149Z"
   },
   {
    "duration": 6,
    "start_time": "2022-05-29T12:05:04.447Z"
   },
   {
    "duration": 9,
    "start_time": "2022-05-29T12:05:04.454Z"
   },
   {
    "duration": 13,
    "start_time": "2022-05-29T12:05:04.464Z"
   },
   {
    "duration": 48,
    "start_time": "2022-05-29T12:05:04.479Z"
   },
   {
    "duration": 30,
    "start_time": "2022-05-29T12:05:04.529Z"
   },
   {
    "duration": 1396,
    "start_time": "2022-05-29T12:09:26.798Z"
   },
   {
    "duration": 666,
    "start_time": "2022-05-29T12:09:28.196Z"
   },
   {
    "duration": 55,
    "start_time": "2022-05-29T12:09:28.864Z"
   },
   {
    "duration": 53,
    "start_time": "2022-05-29T12:09:28.921Z"
   },
   {
    "duration": 10,
    "start_time": "2022-05-29T12:09:28.975Z"
   },
   {
    "duration": 15,
    "start_time": "2022-05-29T12:09:28.987Z"
   },
   {
    "duration": 6,
    "start_time": "2022-05-29T12:09:29.003Z"
   },
   {
    "duration": 13,
    "start_time": "2022-05-29T12:09:29.011Z"
   },
   {
    "duration": 5,
    "start_time": "2022-05-29T12:09:29.026Z"
   },
   {
    "duration": 52,
    "start_time": "2022-05-29T12:09:29.033Z"
   },
   {
    "duration": 5,
    "start_time": "2022-05-29T12:09:29.086Z"
   },
   {
    "duration": 17,
    "start_time": "2022-05-29T12:09:29.092Z"
   },
   {
    "duration": 8,
    "start_time": "2022-05-29T12:09:29.110Z"
   },
   {
    "duration": 12,
    "start_time": "2022-05-29T12:09:29.120Z"
   },
   {
    "duration": 69,
    "start_time": "2022-05-29T12:09:29.160Z"
   },
   {
    "duration": 63,
    "start_time": "2022-05-29T12:09:29.230Z"
   },
   {
    "duration": 13,
    "start_time": "2022-05-29T12:09:29.295Z"
   },
   {
    "duration": 9,
    "start_time": "2022-05-29T12:09:29.310Z"
   },
   {
    "duration": 38,
    "start_time": "2022-05-29T12:09:29.321Z"
   },
   {
    "duration": 16,
    "start_time": "2022-05-29T12:09:29.361Z"
   },
   {
    "duration": 35,
    "start_time": "2022-05-29T12:09:29.379Z"
   },
   {
    "duration": 17,
    "start_time": "2022-05-29T12:09:29.416Z"
   },
   {
    "duration": 172,
    "start_time": "2022-05-29T12:09:29.434Z"
   },
   {
    "duration": 54,
    "start_time": "2022-05-29T12:09:29.608Z"
   },
   {
    "duration": 12,
    "start_time": "2022-05-29T12:09:29.663Z"
   },
   {
    "duration": 117,
    "start_time": "2022-05-29T12:09:29.677Z"
   },
   {
    "duration": 187,
    "start_time": "2022-05-29T12:09:29.796Z"
   },
   {
    "duration": 7,
    "start_time": "2022-05-29T12:09:29.986Z"
   },
   {
    "duration": 280,
    "start_time": "2022-05-29T12:09:29.994Z"
   },
   {
    "duration": 113,
    "start_time": "2022-05-29T12:09:30.277Z"
   },
   {
    "duration": 8,
    "start_time": "2022-05-29T12:09:30.392Z"
   },
   {
    "duration": 286,
    "start_time": "2022-05-29T12:09:30.401Z"
   },
   {
    "duration": 86,
    "start_time": "2022-05-29T12:09:30.689Z"
   },
   {
    "duration": 3,
    "start_time": "2022-05-29T12:09:30.776Z"
   },
   {
    "duration": 28,
    "start_time": "2022-05-29T12:09:30.781Z"
   },
   {
    "duration": 51,
    "start_time": "2022-05-29T12:09:30.811Z"
   },
   {
    "duration": 10,
    "start_time": "2022-05-29T12:09:30.864Z"
   },
   {
    "duration": 37,
    "start_time": "2022-05-29T12:09:30.876Z"
   },
   {
    "duration": 16151,
    "start_time": "2022-05-29T12:09:30.959Z"
   },
   {
    "duration": 52312,
    "start_time": "2022-05-29T12:09:47.112Z"
   },
   {
    "duration": 2741,
    "start_time": "2022-05-29T12:10:39.425Z"
   },
   {
    "duration": 80560,
    "start_time": "2022-05-29T12:10:42.170Z"
   },
   {
    "duration": 74493,
    "start_time": "2022-05-29T12:12:02.732Z"
   },
   {
    "duration": 33057,
    "start_time": "2022-05-29T12:13:17.226Z"
   },
   {
    "duration": 6,
    "start_time": "2022-05-29T12:13:50.285Z"
   },
   {
    "duration": 9,
    "start_time": "2022-05-29T12:13:50.292Z"
   },
   {
    "duration": 21,
    "start_time": "2022-05-29T12:13:50.303Z"
   },
   {
    "duration": 136,
    "start_time": "2022-05-29T12:24:38.185Z"
   },
   {
    "duration": 33,
    "start_time": "2022-05-29T12:24:46.312Z"
   },
   {
    "duration": 1443,
    "start_time": "2022-05-29T12:24:52.719Z"
   },
   {
    "duration": 682,
    "start_time": "2022-05-29T12:24:54.164Z"
   },
   {
    "duration": 69,
    "start_time": "2022-05-29T12:24:54.847Z"
   },
   {
    "duration": 46,
    "start_time": "2022-05-29T12:24:54.918Z"
   },
   {
    "duration": 9,
    "start_time": "2022-05-29T12:24:54.965Z"
   },
   {
    "duration": 4,
    "start_time": "2022-05-29T12:24:54.976Z"
   },
   {
    "duration": 13,
    "start_time": "2022-05-29T12:24:54.981Z"
   },
   {
    "duration": 8,
    "start_time": "2022-05-29T12:24:54.996Z"
   },
   {
    "duration": 23,
    "start_time": "2022-05-29T12:24:55.006Z"
   },
   {
    "duration": 4,
    "start_time": "2022-05-29T12:24:55.032Z"
   },
   {
    "duration": 36,
    "start_time": "2022-05-29T12:24:55.037Z"
   },
   {
    "duration": 10,
    "start_time": "2022-05-29T12:24:55.075Z"
   },
   {
    "duration": 14,
    "start_time": "2022-05-29T12:24:55.086Z"
   },
   {
    "duration": 86,
    "start_time": "2022-05-29T12:24:55.102Z"
   },
   {
    "duration": 86,
    "start_time": "2022-05-29T12:24:55.190Z"
   },
   {
    "duration": 12,
    "start_time": "2022-05-29T12:24:55.278Z"
   },
   {
    "duration": 8,
    "start_time": "2022-05-29T12:24:55.292Z"
   },
   {
    "duration": 11,
    "start_time": "2022-05-29T12:24:55.301Z"
   },
   {
    "duration": 13,
    "start_time": "2022-05-29T12:24:55.314Z"
   },
   {
    "duration": 58,
    "start_time": "2022-05-29T12:24:55.328Z"
   },
   {
    "duration": 15,
    "start_time": "2022-05-29T12:24:55.388Z"
   },
   {
    "duration": 184,
    "start_time": "2022-05-29T12:24:55.405Z"
   },
   {
    "duration": 16,
    "start_time": "2022-05-29T12:24:55.591Z"
   },
   {
    "duration": 62,
    "start_time": "2022-05-29T12:24:55.609Z"
   },
   {
    "duration": 203,
    "start_time": "2022-05-29T12:24:55.673Z"
   },
   {
    "duration": 195,
    "start_time": "2022-05-29T12:24:55.878Z"
   },
   {
    "duration": 8,
    "start_time": "2022-05-29T12:24:56.079Z"
   },
   {
    "duration": 295,
    "start_time": "2022-05-29T12:24:56.091Z"
   },
   {
    "duration": 184,
    "start_time": "2022-05-29T12:24:56.387Z"
   },
   {
    "duration": 10,
    "start_time": "2022-05-29T12:24:56.573Z"
   },
   {
    "duration": 284,
    "start_time": "2022-05-29T12:24:56.585Z"
   },
   {
    "duration": 33,
    "start_time": "2022-05-29T12:24:56.870Z"
   },
   {
    "duration": 3,
    "start_time": "2022-05-29T12:24:56.905Z"
   },
   {
    "duration": 4,
    "start_time": "2022-05-29T12:24:56.960Z"
   },
   {
    "duration": 23,
    "start_time": "2022-05-29T12:24:56.965Z"
   },
   {
    "duration": 11,
    "start_time": "2022-05-29T12:24:56.989Z"
   },
   {
    "duration": 19,
    "start_time": "2022-05-29T12:24:57.001Z"
   },
   {
    "duration": 16275,
    "start_time": "2022-05-29T12:24:57.021Z"
   },
   {
    "duration": 48640,
    "start_time": "2022-05-29T12:25:13.297Z"
   },
   {
    "duration": 1324,
    "start_time": "2022-05-29T12:26:01.938Z"
   },
   {
    "duration": 76852,
    "start_time": "2022-05-29T12:26:03.267Z"
   },
   {
    "duration": 70456,
    "start_time": "2022-05-29T12:27:20.121Z"
   },
   {
    "duration": 35384,
    "start_time": "2022-05-29T12:28:30.578Z"
   },
   {
    "duration": 8,
    "start_time": "2022-05-29T12:29:05.964Z"
   },
   {
    "duration": 5,
    "start_time": "2022-05-29T12:29:05.974Z"
   },
   {
    "duration": 11,
    "start_time": "2022-05-29T12:29:05.981Z"
   },
   {
    "duration": 46,
    "start_time": "2022-05-29T12:44:12.385Z"
   },
   {
    "duration": 6,
    "start_time": "2022-05-29T13:00:37.485Z"
   },
   {
    "duration": 7,
    "start_time": "2022-05-29T13:00:39.629Z"
   },
   {
    "duration": 1368,
    "start_time": "2022-05-29T13:03:30.157Z"
   },
   {
    "duration": 790,
    "start_time": "2022-05-29T13:03:31.527Z"
   },
   {
    "duration": 75,
    "start_time": "2022-05-29T13:03:32.319Z"
   },
   {
    "duration": 47,
    "start_time": "2022-05-29T13:03:32.396Z"
   },
   {
    "duration": 21,
    "start_time": "2022-05-29T13:03:32.444Z"
   },
   {
    "duration": 3,
    "start_time": "2022-05-29T13:03:32.467Z"
   },
   {
    "duration": 9,
    "start_time": "2022-05-29T13:03:32.472Z"
   },
   {
    "duration": 6,
    "start_time": "2022-05-29T13:03:32.483Z"
   },
   {
    "duration": 32,
    "start_time": "2022-05-29T13:03:32.490Z"
   },
   {
    "duration": 35,
    "start_time": "2022-05-29T13:03:32.525Z"
   },
   {
    "duration": 18,
    "start_time": "2022-05-29T13:03:32.561Z"
   },
   {
    "duration": 11,
    "start_time": "2022-05-29T13:03:32.580Z"
   },
   {
    "duration": 15,
    "start_time": "2022-05-29T13:03:32.592Z"
   },
   {
    "duration": 103,
    "start_time": "2022-05-29T13:03:32.609Z"
   },
   {
    "duration": 74,
    "start_time": "2022-05-29T13:03:32.713Z"
   },
   {
    "duration": 11,
    "start_time": "2022-05-29T13:03:32.788Z"
   },
   {
    "duration": 10,
    "start_time": "2022-05-29T13:03:32.801Z"
   },
   {
    "duration": 12,
    "start_time": "2022-05-29T13:03:32.813Z"
   },
   {
    "duration": 18,
    "start_time": "2022-05-29T13:03:32.858Z"
   },
   {
    "duration": 40,
    "start_time": "2022-05-29T13:03:32.878Z"
   },
   {
    "duration": 17,
    "start_time": "2022-05-29T13:03:32.920Z"
   },
   {
    "duration": 154,
    "start_time": "2022-05-29T13:03:32.959Z"
   },
   {
    "duration": 15,
    "start_time": "2022-05-29T13:03:33.115Z"
   },
   {
    "duration": 36,
    "start_time": "2022-05-29T13:03:33.132Z"
   },
   {
    "duration": 154,
    "start_time": "2022-05-29T13:03:33.170Z"
   },
   {
    "duration": 94,
    "start_time": "2022-05-29T13:03:33.326Z"
   },
   {
    "duration": 37,
    "start_time": "2022-05-29T13:03:33.422Z"
   },
   {
    "duration": 196,
    "start_time": "2022-05-29T13:03:33.463Z"
   },
   {
    "duration": 121,
    "start_time": "2022-05-29T13:03:33.661Z"
   },
   {
    "duration": 7,
    "start_time": "2022-05-29T13:03:33.784Z"
   },
   {
    "duration": 175,
    "start_time": "2022-05-29T13:03:33.792Z"
   },
   {
    "duration": 38,
    "start_time": "2022-05-29T13:03:33.969Z"
   },
   {
    "duration": 51,
    "start_time": "2022-05-29T13:03:34.009Z"
   },
   {
    "duration": 19,
    "start_time": "2022-05-29T13:03:34.062Z"
   },
   {
    "duration": 16,
    "start_time": "2022-05-29T13:03:34.083Z"
   },
   {
    "duration": 21,
    "start_time": "2022-05-29T13:03:34.101Z"
   },
   {
    "duration": 36,
    "start_time": "2022-05-29T13:03:34.123Z"
   },
   {
    "duration": 15473,
    "start_time": "2022-05-29T13:03:34.161Z"
   },
   {
    "duration": 49874,
    "start_time": "2022-05-29T13:03:49.635Z"
   },
   {
    "duration": 2051,
    "start_time": "2022-05-29T13:04:39.511Z"
   },
   {
    "duration": 96952,
    "start_time": "2022-05-29T13:04:41.565Z"
   },
   {
    "duration": 75379,
    "start_time": "2022-05-29T13:06:18.519Z"
   },
   {
    "duration": 36777,
    "start_time": "2022-05-29T13:07:33.900Z"
   },
   {
    "duration": 7,
    "start_time": "2022-05-29T13:08:10.680Z"
   },
   {
    "duration": 17,
    "start_time": "2022-05-29T13:08:10.689Z"
   },
   {
    "duration": 12,
    "start_time": "2022-05-29T13:08:10.708Z"
   },
   {
    "duration": 56,
    "start_time": "2022-05-31T09:41:21.156Z"
   },
   {
    "duration": 1563,
    "start_time": "2022-05-31T09:42:04.955Z"
   },
   {
    "duration": 3135,
    "start_time": "2022-05-31T09:42:06.520Z"
   },
   {
    "duration": 57,
    "start_time": "2022-05-31T09:42:09.656Z"
   },
   {
    "duration": 38,
    "start_time": "2022-05-31T09:42:09.715Z"
   },
   {
    "duration": 8,
    "start_time": "2022-05-31T09:42:09.754Z"
   },
   {
    "duration": 3,
    "start_time": "2022-05-31T09:42:09.779Z"
   },
   {
    "duration": 7,
    "start_time": "2022-05-31T09:42:09.784Z"
   },
   {
    "duration": 8,
    "start_time": "2022-05-31T09:42:09.793Z"
   },
   {
    "duration": 21,
    "start_time": "2022-05-31T09:42:09.802Z"
   },
   {
    "duration": 5,
    "start_time": "2022-05-31T09:42:09.826Z"
   },
   {
    "duration": 17,
    "start_time": "2022-05-31T09:42:09.832Z"
   },
   {
    "duration": 34,
    "start_time": "2022-05-31T09:42:09.851Z"
   },
   {
    "duration": 16,
    "start_time": "2022-05-31T09:42:09.886Z"
   },
   {
    "duration": 78,
    "start_time": "2022-05-31T09:42:09.903Z"
   },
   {
    "duration": 55,
    "start_time": "2022-05-31T09:42:09.982Z"
   },
   {
    "duration": 41,
    "start_time": "2022-05-31T09:42:10.039Z"
   },
   {
    "duration": 9,
    "start_time": "2022-05-31T09:42:10.081Z"
   },
   {
    "duration": 9,
    "start_time": "2022-05-31T09:42:10.092Z"
   },
   {
    "duration": 13,
    "start_time": "2022-05-31T09:42:10.102Z"
   },
   {
    "duration": 28,
    "start_time": "2022-05-31T09:42:10.116Z"
   },
   {
    "duration": 17,
    "start_time": "2022-05-31T09:42:10.180Z"
   },
   {
    "duration": 148,
    "start_time": "2022-05-31T09:42:10.199Z"
   },
   {
    "duration": 13,
    "start_time": "2022-05-31T09:42:10.348Z"
   },
   {
    "duration": 26,
    "start_time": "2022-05-31T09:42:10.363Z"
   },
   {
    "duration": 127,
    "start_time": "2022-05-31T09:42:10.390Z"
   },
   {
    "duration": 114,
    "start_time": "2022-05-31T09:42:10.519Z"
   },
   {
    "duration": 7,
    "start_time": "2022-05-31T09:42:10.634Z"
   },
   {
    "duration": 157,
    "start_time": "2022-05-31T09:42:10.680Z"
   },
   {
    "duration": 143,
    "start_time": "2022-05-31T09:42:10.838Z"
   },
   {
    "duration": 7,
    "start_time": "2022-05-31T09:42:10.982Z"
   },
   {
    "duration": 137,
    "start_time": "2022-05-31T09:42:10.991Z"
   },
   {
    "duration": 55,
    "start_time": "2022-05-31T09:42:11.129Z"
   },
   {
    "duration": 3,
    "start_time": "2022-05-31T09:42:11.185Z"
   },
   {
    "duration": 14,
    "start_time": "2022-05-31T09:42:11.190Z"
   },
   {
    "duration": 7,
    "start_time": "2022-05-31T09:42:11.206Z"
   },
   {
    "duration": 9,
    "start_time": "2022-05-31T09:42:11.215Z"
   },
   {
    "duration": 59,
    "start_time": "2022-05-31T09:42:11.225Z"
   },
   {
    "duration": 15936,
    "start_time": "2022-05-31T09:42:11.286Z"
   },
   {
    "duration": 53186,
    "start_time": "2022-05-31T09:42:27.223Z"
   },
   {
    "duration": 1472,
    "start_time": "2022-05-31T09:43:20.411Z"
   },
   {
    "duration": 78535,
    "start_time": "2022-05-31T09:43:21.886Z"
   },
   {
    "duration": 130,
    "start_time": "2022-05-31T09:44:40.423Z"
   },
   {
    "duration": 0,
    "start_time": "2022-05-31T09:44:40.555Z"
   },
   {
    "duration": 0,
    "start_time": "2022-05-31T09:44:40.556Z"
   },
   {
    "duration": 0,
    "start_time": "2022-05-31T09:44:40.557Z"
   },
   {
    "duration": 0,
    "start_time": "2022-05-31T09:44:40.558Z"
   },
   {
    "duration": 0,
    "start_time": "2022-05-31T09:44:40.559Z"
   },
   {
    "duration": 1810,
    "start_time": "2022-06-28T11:06:48.986Z"
   },
   {
    "duration": 1667,
    "start_time": "2022-06-28T11:06:50.798Z"
   },
   {
    "duration": 74,
    "start_time": "2022-06-28T11:06:52.467Z"
   },
   {
    "duration": 41,
    "start_time": "2022-06-28T11:06:52.544Z"
   },
   {
    "duration": 10,
    "start_time": "2022-06-28T11:06:52.587Z"
   },
   {
    "duration": 3,
    "start_time": "2022-06-28T11:06:52.599Z"
   },
   {
    "duration": 25,
    "start_time": "2022-06-28T11:06:52.604Z"
   },
   {
    "duration": 6,
    "start_time": "2022-06-28T11:06:52.641Z"
   },
   {
    "duration": 32,
    "start_time": "2022-06-28T11:06:52.649Z"
   },
   {
    "duration": 7,
    "start_time": "2022-06-28T11:06:52.686Z"
   },
   {
    "duration": 39,
    "start_time": "2022-06-28T11:06:52.695Z"
   },
   {
    "duration": 13,
    "start_time": "2022-06-28T11:06:52.743Z"
   },
   {
    "duration": 15,
    "start_time": "2022-06-28T11:06:52.758Z"
   },
   {
    "duration": 81,
    "start_time": "2022-06-28T11:06:52.775Z"
   },
   {
    "duration": 90,
    "start_time": "2022-06-28T11:06:52.859Z"
   },
   {
    "duration": 13,
    "start_time": "2022-06-28T11:06:52.953Z"
   },
   {
    "duration": 11,
    "start_time": "2022-06-28T11:06:52.968Z"
   },
   {
    "duration": 12,
    "start_time": "2022-06-28T11:06:52.982Z"
   },
   {
    "duration": 49,
    "start_time": "2022-06-28T11:06:52.996Z"
   },
   {
    "duration": 45,
    "start_time": "2022-06-28T11:06:53.046Z"
   },
   {
    "duration": 46,
    "start_time": "2022-06-28T11:06:53.094Z"
   },
   {
    "duration": 205,
    "start_time": "2022-06-28T11:06:53.142Z"
   },
   {
    "duration": 13,
    "start_time": "2022-06-28T11:06:53.348Z"
   },
   {
    "duration": 14,
    "start_time": "2022-06-28T11:06:53.363Z"
   },
   {
    "duration": 183,
    "start_time": "2022-06-28T11:06:53.379Z"
   },
   {
    "duration": 108,
    "start_time": "2022-06-28T11:06:53.564Z"
   },
   {
    "duration": 7,
    "start_time": "2022-06-28T11:06:53.674Z"
   },
   {
    "duration": 205,
    "start_time": "2022-06-28T11:06:53.685Z"
   },
   {
    "duration": 153,
    "start_time": "2022-06-28T11:06:53.892Z"
   },
   {
    "duration": 9,
    "start_time": "2022-06-28T11:06:54.051Z"
   },
   {
    "duration": 159,
    "start_time": "2022-06-28T11:06:54.062Z"
   },
   {
    "duration": 42,
    "start_time": "2022-06-28T11:06:54.226Z"
   },
   {
    "duration": 6,
    "start_time": "2022-06-28T11:06:54.326Z"
   },
   {
    "duration": 29,
    "start_time": "2022-06-28T11:06:54.339Z"
   },
   {
    "duration": 12,
    "start_time": "2022-06-28T11:06:54.370Z"
   },
   {
    "duration": 17,
    "start_time": "2022-06-28T11:06:54.383Z"
   },
   {
    "duration": 63,
    "start_time": "2022-06-28T11:06:54.403Z"
   },
   {
    "duration": 17550,
    "start_time": "2022-06-28T11:06:54.468Z"
   },
   {
    "duration": 58926,
    "start_time": "2022-06-28T11:07:12.020Z"
   },
   {
    "duration": 2684,
    "start_time": "2022-06-28T11:08:10.948Z"
   },
   {
    "duration": 99664,
    "start_time": "2022-06-28T11:08:13.639Z"
   },
   {
    "duration": 164,
    "start_time": "2022-06-28T11:09:53.305Z"
   },
   {
    "duration": 0,
    "start_time": "2022-06-28T11:09:53.471Z"
   },
   {
    "duration": 0,
    "start_time": "2022-06-28T11:09:53.473Z"
   },
   {
    "duration": 0,
    "start_time": "2022-06-28T11:09:53.475Z"
   },
   {
    "duration": 0,
    "start_time": "2022-06-28T11:09:53.477Z"
   },
   {
    "duration": 0,
    "start_time": "2022-06-28T11:09:53.479Z"
   },
   {
    "duration": 14,
    "start_time": "2022-06-28T11:11:07.858Z"
   },
   {
    "duration": 14,
    "start_time": "2022-06-28T11:11:11.154Z"
   },
   {
    "duration": 12,
    "start_time": "2022-06-28T11:11:19.507Z"
   },
   {
    "duration": 17,
    "start_time": "2022-06-28T11:11:44.858Z"
   },
   {
    "duration": 20,
    "start_time": "2022-06-28T11:11:50.514Z"
   },
   {
    "duration": 8,
    "start_time": "2022-06-28T11:13:15.575Z"
   },
   {
    "duration": 11,
    "start_time": "2022-06-28T11:13:32.280Z"
   },
   {
    "duration": 14,
    "start_time": "2022-06-28T11:13:49.946Z"
   },
   {
    "duration": 16,
    "start_time": "2022-06-28T11:14:05.858Z"
   },
   {
    "duration": 14,
    "start_time": "2022-06-28T11:14:11.586Z"
   },
   {
    "duration": 11,
    "start_time": "2022-06-28T11:14:21.541Z"
   },
   {
    "duration": 1664,
    "start_time": "2022-10-06T14:36:16.471Z"
   },
   {
    "duration": 3341,
    "start_time": "2022-10-06T14:36:18.137Z"
   },
   {
    "duration": 60,
    "start_time": "2022-10-06T14:36:21.480Z"
   },
   {
    "duration": 37,
    "start_time": "2022-10-06T14:36:21.542Z"
   },
   {
    "duration": 8,
    "start_time": "2022-10-06T14:36:21.581Z"
   },
   {
    "duration": 31,
    "start_time": "2022-10-06T14:36:21.590Z"
   },
   {
    "duration": 10,
    "start_time": "2022-10-06T14:36:21.623Z"
   },
   {
    "duration": 9,
    "start_time": "2022-10-06T14:36:21.634Z"
   },
   {
    "duration": 20,
    "start_time": "2022-10-06T14:36:21.645Z"
   },
   {
    "duration": 4,
    "start_time": "2022-10-06T14:36:21.669Z"
   },
   {
    "duration": 16,
    "start_time": "2022-10-06T14:36:21.675Z"
   },
   {
    "duration": 35,
    "start_time": "2022-10-06T14:36:21.692Z"
   },
   {
    "duration": 37,
    "start_time": "2022-10-06T14:36:21.728Z"
   },
   {
    "duration": 67,
    "start_time": "2022-10-06T14:36:21.766Z"
   },
   {
    "duration": 84,
    "start_time": "2022-10-06T14:36:21.835Z"
   },
   {
    "duration": 13,
    "start_time": "2022-10-06T14:36:21.921Z"
   },
   {
    "duration": 8,
    "start_time": "2022-10-06T14:36:21.935Z"
   },
   {
    "duration": 9,
    "start_time": "2022-10-06T14:36:21.945Z"
   },
   {
    "duration": 13,
    "start_time": "2022-10-06T14:36:21.956Z"
   },
   {
    "duration": 67,
    "start_time": "2022-10-06T14:36:21.971Z"
   },
   {
    "duration": 18,
    "start_time": "2022-10-06T14:36:22.040Z"
   },
   {
    "duration": 169,
    "start_time": "2022-10-06T14:36:22.059Z"
   },
   {
    "duration": 12,
    "start_time": "2022-10-06T14:36:22.230Z"
   },
   {
    "duration": 18,
    "start_time": "2022-10-06T14:36:22.243Z"
   },
   {
    "duration": 161,
    "start_time": "2022-10-06T14:36:22.262Z"
   },
   {
    "duration": 131,
    "start_time": "2022-10-06T14:36:22.425Z"
   },
   {
    "duration": 7,
    "start_time": "2022-10-06T14:36:22.558Z"
   },
   {
    "duration": 248,
    "start_time": "2022-10-06T14:36:22.570Z"
   },
   {
    "duration": 126,
    "start_time": "2022-10-06T14:36:22.820Z"
   },
   {
    "duration": 8,
    "start_time": "2022-10-06T14:36:22.948Z"
   },
   {
    "duration": 202,
    "start_time": "2022-10-06T14:36:22.957Z"
   },
   {
    "duration": 59,
    "start_time": "2022-10-06T14:36:23.160Z"
   },
   {
    "duration": 4,
    "start_time": "2022-10-06T14:36:23.222Z"
   },
   {
    "duration": 9,
    "start_time": "2022-10-06T14:36:23.227Z"
   },
   {
    "duration": 14,
    "start_time": "2022-10-06T14:36:23.237Z"
   },
   {
    "duration": 15,
    "start_time": "2022-10-06T14:36:23.253Z"
   },
   {
    "duration": 41,
    "start_time": "2022-10-06T14:36:23.269Z"
   },
   {
    "duration": 18976,
    "start_time": "2022-10-06T14:36:23.312Z"
   },
   {
    "duration": 62112,
    "start_time": "2022-10-06T14:36:42.290Z"
   },
   {
    "duration": 2215,
    "start_time": "2022-10-06T14:37:44.404Z"
   },
   {
    "duration": 78265,
    "start_time": "2022-10-06T14:37:46.621Z"
   },
   {
    "duration": 10,
    "start_time": "2022-10-06T14:39:04.888Z"
   },
   {
    "duration": 73702,
    "start_time": "2022-10-06T14:39:04.899Z"
   },
   {
    "duration": 32623,
    "start_time": "2022-10-06T14:40:18.603Z"
   },
   {
    "duration": 7,
    "start_time": "2022-10-06T14:40:51.227Z"
   },
   {
    "duration": 11,
    "start_time": "2022-10-06T14:40:51.236Z"
   },
   {
    "duration": 13,
    "start_time": "2022-10-06T14:40:51.248Z"
   }
  ],
  "kernelspec": {
   "display_name": "Python 3 (ipykernel)",
   "language": "python",
   "name": "python3"
  },
  "language_info": {
   "codemirror_mode": {
    "name": "ipython",
    "version": 3
   },
   "file_extension": ".py",
   "mimetype": "text/x-python",
   "name": "python",
   "nbconvert_exporter": "python",
   "pygments_lexer": "ipython3",
   "version": "3.9.7"
  },
  "toc": {
   "base_numbering": 1,
   "nav_menu": {},
   "number_sections": true,
   "sideBar": true,
   "skip_h1_title": true,
   "title_cell": "Содержание",
   "title_sidebar": "Contents",
   "toc_cell": true,
   "toc_position": {
    "height": "calc(100% - 180px)",
    "left": "10px",
    "top": "150px",
    "width": "366.391px"
   },
   "toc_section_display": true,
   "toc_window_display": true
  }
 },
 "nbformat": 4,
 "nbformat_minor": 2
}

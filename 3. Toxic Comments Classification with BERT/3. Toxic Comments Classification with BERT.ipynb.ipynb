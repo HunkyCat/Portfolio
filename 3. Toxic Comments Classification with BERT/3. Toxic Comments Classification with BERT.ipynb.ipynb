{
 "cells": [
  {
   "cell_type": "markdown",
   "id": "1a4157ab",
   "metadata": {
    "toc": true
   },
   "source": [
    "<h1>Содержание<span class=\"tocSkip\"></span></h1>\n",
    "<div class=\"toc\"><ul class=\"toc-item\"><li><span><a href=\"#Обзор-данных\" data-toc-modified-id=\"Обзор-данных-1\"><span class=\"toc-item-num\">1&nbsp;&nbsp;</span>Обзор данных</a></span><ul class=\"toc-item\"><li><span><a href=\"#Вывод\" data-toc-modified-id=\"Вывод-1.1\"><span class=\"toc-item-num\">1.1&nbsp;&nbsp;</span>Вывод</a></span></li></ul></li><li><span><a href=\"#Предобработка\" data-toc-modified-id=\"Предобработка-2\"><span class=\"toc-item-num\">2&nbsp;&nbsp;</span>Предобработка</a></span><ul class=\"toc-item\"><li><span><a href=\"#Вывод\" data-toc-modified-id=\"Вывод-2.1\"><span class=\"toc-item-num\">2.1&nbsp;&nbsp;</span>Вывод</a></span></li></ul></li><li><span><a href=\"#Обучение-моделей\" data-toc-modified-id=\"Обучение-моделей-3\"><span class=\"toc-item-num\">3&nbsp;&nbsp;</span>Обучение моделей</a></span><ul class=\"toc-item\"><li><span><a href=\"#LogisticRegression\" data-toc-modified-id=\"LogisticRegression-3.1\"><span class=\"toc-item-num\">3.1&nbsp;&nbsp;</span>LogisticRegression</a></span></li><li><span><a href=\"#LGBMClassifier\" data-toc-modified-id=\"LGBMClassifier-3.2\"><span class=\"toc-item-num\">3.2&nbsp;&nbsp;</span>LGBMClassifier</a></span></li><li><span><a href=\"#CatBoostClassifier\" data-toc-modified-id=\"CatBoostClassifier-3.3\"><span class=\"toc-item-num\">3.3&nbsp;&nbsp;</span>CatBoostClassifier</a></span></li><li><span><a href=\"#Вывод:\" data-toc-modified-id=\"Вывод:-3.4\"><span class=\"toc-item-num\">3.4&nbsp;&nbsp;</span>Вывод:</a></span></li></ul></li><li><span><a href=\"#Тестирование-модели\" data-toc-modified-id=\"Тестирование-модели-4\"><span class=\"toc-item-num\">4&nbsp;&nbsp;</span>Тестирование модели</a></span></li><li><span><a href=\"#Вывод\" data-toc-modified-id=\"Вывод-5\"><span class=\"toc-item-num\">5&nbsp;&nbsp;</span>Вывод</a></span></li></ul></div>"
   ]
  },
  {
   "cell_type": "markdown",
   "id": "3d8d5974",
   "metadata": {
    "id": "3d8d5974"
   },
   "source": [
    "# Определение негативных коментариев"
   ]
  },
  {
   "cell_type": "markdown",
   "id": "9a89de4e",
   "metadata": {
    "id": "9a89de4e"
   },
   "source": [
    "Интернет-магазин запускает новый сервис. Теперь пользователи могут редактировать и дополнять описания товаров, как в вики-сообществах. То есть клиенты предлагают свои правки и комментируют изменения других. Магазину нужен инструмент, который будет искать токсичные комментарии и отправлять их на модерацию. \n",
    "\n",
    "Необходимо научить модель классифицировать комментарии на позитивные и негативные. В нашем распоряжении набор данных с разметкой о токсичности правок.\n",
    "\n",
    "**Цель исследования:** Построить модель со значением метрики качества *F1* не меньше 0.75. \n",
    "\n",
    "**Описание данных**\n",
    "\n",
    "Данные находятся в файле `toxic_comments.csv`.\n",
    "\n",
    "Возможно, что хороших результатов можно добиться и с помощью TF-IDF или Word2Vec + модели из классического ML, но мне интересно будет порабоать с нейросетью, поэтому мы будем использовать `BERT` обученую на токсичных комментариях.\n",
    "\n",
    "**План исследования:**\n",
    "* Обзор данных\n",
    "* Предобработка данных\n",
    "    * Избавимся от лишних символов\n",
    "    * Токенизируем данные\n",
    "    * Используем `BERT` предобученую на токсичных комментариях\n",
    "    * Получим наши признаки для обучения моделей\n",
    "* Обучение моделей\n",
    "* Тестирование модели"
   ]
  },
  {
   "cell_type": "markdown",
   "id": "012a417a",
   "metadata": {
    "id": "012a417a"
   },
   "source": [
    "## Обзор данных"
   ]
  },
  {
   "cell_type": "code",
   "execution_count": 6,
   "id": "19a7d4bc",
   "metadata": {
    "id": "19a7d4bc"
   },
   "outputs": [],
   "source": [
    "# base stuff\n",
    "import numpy as np\n",
    "import pandas as pd\n",
    "import re\n",
    "import torch\n",
    "import transformers\n",
    "from tqdm import notebook\n",
    "from tqdm import tqdm\n",
    "import random\n",
    "from transformers import BertTokenizer, BertModel\n",
    "import optuna\n",
    "\n",
    "# sklearn\n",
    "from sklearn.linear_model import LogisticRegression\n",
    "from sklearn.model_selection import train_test_split\n",
    "from sklearn.metrics import f1_score\n",
    "from sklearn.utils import shuffle\n",
    "from sklearn.dummy import DummyClassifier\n",
    "from sklearn.tree import DecisionTreeClassifier\n",
    "\n",
    "# boosting\n",
    "from lightgbm import LGBMClassifier\n",
    "from catboost import Pool, CatBoostClassifier"
   ]
  },
  {
   "cell_type": "code",
   "execution_count": 7,
   "id": "ae898641",
   "metadata": {
    "id": "ae898641"
   },
   "outputs": [],
   "source": [
    "comments = pd.read_csv('toxic_comments.csv')"
   ]
  },
  {
   "cell_type": "code",
   "execution_count": 8,
   "id": "426cbc67",
   "metadata": {
    "colab": {
     "base_uri": "https://localhost:8080/",
     "height": 580
    },
    "id": "426cbc67",
    "outputId": "425954a2-5dd6-4d65-a307-c72ab710c613",
    "scrolled": true
   },
   "outputs": [
    {
     "data": {
      "text/html": [
       "\n",
       "  <div id=\"df-54c7d9c4-6001-4fdb-a16d-b16d051a0ec8\">\n",
       "    <div class=\"colab-df-container\">\n",
       "      <div>\n",
       "<style scoped>\n",
       "    .dataframe tbody tr th:only-of-type {\n",
       "        vertical-align: middle;\n",
       "    }\n",
       "\n",
       "    .dataframe tbody tr th {\n",
       "        vertical-align: top;\n",
       "    }\n",
       "\n",
       "    .dataframe thead th {\n",
       "        text-align: right;\n",
       "    }\n",
       "</style>\n",
       "<table border=\"1\" class=\"dataframe\">\n",
       "  <thead>\n",
       "    <tr style=\"text-align: right;\">\n",
       "      <th></th>\n",
       "      <th>text</th>\n",
       "      <th>toxic</th>\n",
       "    </tr>\n",
       "  </thead>\n",
       "  <tbody>\n",
       "    <tr>\n",
       "      <th>0</th>\n",
       "      <td>Explanation\\nWhy the edits made under my usern...</td>\n",
       "      <td>0</td>\n",
       "    </tr>\n",
       "    <tr>\n",
       "      <th>1</th>\n",
       "      <td>D'aww! He matches this background colour I'm s...</td>\n",
       "      <td>0</td>\n",
       "    </tr>\n",
       "    <tr>\n",
       "      <th>2</th>\n",
       "      <td>Hey man, I'm really not trying to edit war. It...</td>\n",
       "      <td>0</td>\n",
       "    </tr>\n",
       "    <tr>\n",
       "      <th>3</th>\n",
       "      <td>\"\\nMore\\nI can't make any real suggestions on ...</td>\n",
       "      <td>0</td>\n",
       "    </tr>\n",
       "    <tr>\n",
       "      <th>4</th>\n",
       "      <td>You, sir, are my hero. Any chance you remember...</td>\n",
       "      <td>0</td>\n",
       "    </tr>\n",
       "    <tr>\n",
       "      <th>...</th>\n",
       "      <td>...</td>\n",
       "      <td>...</td>\n",
       "    </tr>\n",
       "    <tr>\n",
       "      <th>159566</th>\n",
       "      <td>\":::::And for the second time of asking, when ...</td>\n",
       "      <td>0</td>\n",
       "    </tr>\n",
       "    <tr>\n",
       "      <th>159567</th>\n",
       "      <td>You should be ashamed of yourself \\n\\nThat is ...</td>\n",
       "      <td>0</td>\n",
       "    </tr>\n",
       "    <tr>\n",
       "      <th>159568</th>\n",
       "      <td>Spitzer \\n\\nUmm, theres no actual article for ...</td>\n",
       "      <td>0</td>\n",
       "    </tr>\n",
       "    <tr>\n",
       "      <th>159569</th>\n",
       "      <td>And it looks like it was actually you who put ...</td>\n",
       "      <td>0</td>\n",
       "    </tr>\n",
       "    <tr>\n",
       "      <th>159570</th>\n",
       "      <td>\"\\nAnd ... I really don't think you understand...</td>\n",
       "      <td>0</td>\n",
       "    </tr>\n",
       "  </tbody>\n",
       "</table>\n",
       "<p>159571 rows × 2 columns</p>\n",
       "</div>\n",
       "      <button class=\"colab-df-convert\" onclick=\"convertToInteractive('df-54c7d9c4-6001-4fdb-a16d-b16d051a0ec8')\"\n",
       "              title=\"Convert this dataframe to an interactive table.\"\n",
       "              style=\"display:none;\">\n",
       "        \n",
       "  <svg xmlns=\"http://www.w3.org/2000/svg\" height=\"24px\"viewBox=\"0 0 24 24\"\n",
       "       width=\"24px\">\n",
       "    <path d=\"M0 0h24v24H0V0z\" fill=\"none\"/>\n",
       "    <path d=\"M18.56 5.44l.94 2.06.94-2.06 2.06-.94-2.06-.94-.94-2.06-.94 2.06-2.06.94zm-11 1L8.5 8.5l.94-2.06 2.06-.94-2.06-.94L8.5 2.5l-.94 2.06-2.06.94zm10 10l.94 2.06.94-2.06 2.06-.94-2.06-.94-.94-2.06-.94 2.06-2.06.94z\"/><path d=\"M17.41 7.96l-1.37-1.37c-.4-.4-.92-.59-1.43-.59-.52 0-1.04.2-1.43.59L10.3 9.45l-7.72 7.72c-.78.78-.78 2.05 0 2.83L4 21.41c.39.39.9.59 1.41.59.51 0 1.02-.2 1.41-.59l7.78-7.78 2.81-2.81c.8-.78.8-2.07 0-2.86zM5.41 20L4 18.59l7.72-7.72 1.47 1.35L5.41 20z\"/>\n",
       "  </svg>\n",
       "      </button>\n",
       "      \n",
       "  <style>\n",
       "    .colab-df-container {\n",
       "      display:flex;\n",
       "      flex-wrap:wrap;\n",
       "      gap: 12px;\n",
       "    }\n",
       "\n",
       "    .colab-df-convert {\n",
       "      background-color: #E8F0FE;\n",
       "      border: none;\n",
       "      border-radius: 50%;\n",
       "      cursor: pointer;\n",
       "      display: none;\n",
       "      fill: #1967D2;\n",
       "      height: 32px;\n",
       "      padding: 0 0 0 0;\n",
       "      width: 32px;\n",
       "    }\n",
       "\n",
       "    .colab-df-convert:hover {\n",
       "      background-color: #E2EBFA;\n",
       "      box-shadow: 0px 1px 2px rgba(60, 64, 67, 0.3), 0px 1px 3px 1px rgba(60, 64, 67, 0.15);\n",
       "      fill: #174EA6;\n",
       "    }\n",
       "\n",
       "    [theme=dark] .colab-df-convert {\n",
       "      background-color: #3B4455;\n",
       "      fill: #D2E3FC;\n",
       "    }\n",
       "\n",
       "    [theme=dark] .colab-df-convert:hover {\n",
       "      background-color: #434B5C;\n",
       "      box-shadow: 0px 1px 3px 1px rgba(0, 0, 0, 0.15);\n",
       "      filter: drop-shadow(0px 1px 2px rgba(0, 0, 0, 0.3));\n",
       "      fill: #FFFFFF;\n",
       "    }\n",
       "  </style>\n",
       "\n",
       "      <script>\n",
       "        const buttonEl =\n",
       "          document.querySelector('#df-54c7d9c4-6001-4fdb-a16d-b16d051a0ec8 button.colab-df-convert');\n",
       "        buttonEl.style.display =\n",
       "          google.colab.kernel.accessAllowed ? 'block' : 'none';\n",
       "\n",
       "        async function convertToInteractive(key) {\n",
       "          const element = document.querySelector('#df-54c7d9c4-6001-4fdb-a16d-b16d051a0ec8');\n",
       "          const dataTable =\n",
       "            await google.colab.kernel.invokeFunction('convertToInteractive',\n",
       "                                                     [key], {});\n",
       "          if (!dataTable) return;\n",
       "\n",
       "          const docLinkHtml = 'Like what you see? Visit the ' +\n",
       "            '<a target=\"_blank\" href=https://colab.research.google.com/notebooks/data_table.ipynb>data table notebook</a>'\n",
       "            + ' to learn more about interactive tables.';\n",
       "          element.innerHTML = '';\n",
       "          dataTable['output_type'] = 'display_data';\n",
       "          await google.colab.output.renderOutput(dataTable, element);\n",
       "          const docLink = document.createElement('div');\n",
       "          docLink.innerHTML = docLinkHtml;\n",
       "          element.appendChild(docLink);\n",
       "        }\n",
       "      </script>\n",
       "    </div>\n",
       "  </div>\n",
       "  "
      ],
      "text/plain": [
       "                                                     text  toxic\n",
       "0       Explanation\\nWhy the edits made under my usern...      0\n",
       "1       D'aww! He matches this background colour I'm s...      0\n",
       "2       Hey man, I'm really not trying to edit war. It...      0\n",
       "3       \"\\nMore\\nI can't make any real suggestions on ...      0\n",
       "4       You, sir, are my hero. Any chance you remember...      0\n",
       "...                                                   ...    ...\n",
       "159566  \":::::And for the second time of asking, when ...      0\n",
       "159567  You should be ashamed of yourself \\n\\nThat is ...      0\n",
       "159568  Spitzer \\n\\nUmm, theres no actual article for ...      0\n",
       "159569  And it looks like it was actually you who put ...      0\n",
       "159570  \"\\nAnd ... I really don't think you understand...      0\n",
       "\n",
       "[159571 rows x 2 columns]"
      ]
     },
     "metadata": {},
     "output_type": "display_data"
    },
    {
     "name": "stdout",
     "output_type": "stream",
     "text": [
      "<class 'pandas.core.frame.DataFrame'>\n",
      "RangeIndex: 159571 entries, 0 to 159570\n",
      "Data columns (total 2 columns):\n",
      " #   Column  Non-Null Count   Dtype \n",
      "---  ------  --------------   ----- \n",
      " 0   text    159571 non-null  object\n",
      " 1   toxic   159571 non-null  int64 \n",
      "dtypes: int64(1), object(1)\n",
      "memory usage: 2.4+ MB\n"
     ]
    }
   ],
   "source": [
    "display(comments)\n",
    "comments.info()"
   ]
  },
  {
   "cell_type": "code",
   "execution_count": 9,
   "id": "d3a26f17",
   "metadata": {
    "colab": {
     "base_uri": "https://localhost:8080/"
    },
    "id": "d3a26f17",
    "outputId": "6fb4a632-e81c-46e5-812a-036e36ae82ef",
    "scrolled": false
   },
   "outputs": [
    {
     "data": {
      "text/plain": [
       "0    143346\n",
       "1     16225\n",
       "Name: toxic, dtype: int64"
      ]
     },
     "execution_count": 9,
     "metadata": {},
     "output_type": "execute_result"
    }
   ],
   "source": [
    "comments['toxic'].value_counts()"
   ]
  },
  {
   "cell_type": "code",
   "execution_count": 10,
   "id": "81a9ffd1",
   "metadata": {
    "colab": {
     "base_uri": "https://localhost:8080/"
    },
    "id": "81a9ffd1",
    "outputId": "4326d8d9-4e81-48c8-a6e2-d48b9d1d5815"
   },
   "outputs": [
    {
     "data": {
      "text/plain": [
       "0"
      ]
     },
     "execution_count": 10,
     "metadata": {},
     "output_type": "execute_result"
    }
   ],
   "source": [
    "comments.duplicated().sum()"
   ]
  },
  {
   "cell_type": "markdown",
   "id": "b1708efe",
   "metadata": {
    "id": "b1708efe"
   },
   "source": [
    "### Вывод\n",
    "Данные готовы, но в них дисбаланс классов. "
   ]
  },
  {
   "cell_type": "markdown",
   "id": "cab7e03f",
   "metadata": {
    "id": "cab7e03f"
   },
   "source": [
    "## Предобработка"
   ]
  },
  {
   "cell_type": "code",
   "execution_count": 11,
   "id": "a5e6f162",
   "metadata": {
    "id": "a5e6f162"
   },
   "outputs": [],
   "source": [
    "comments = comments.sample(51200, random_state=13).reset_index(drop=True)"
   ]
  },
  {
   "cell_type": "markdown",
   "id": "5c6742cc",
   "metadata": {
    "id": "5c6742cc"
   },
   "source": [
    "Избавимся от всех лишних символов, оставим только латиницу:"
   ]
  },
  {
   "cell_type": "code",
   "execution_count": 12,
   "id": "caddfa42",
   "metadata": {
    "id": "caddfa42"
   },
   "outputs": [],
   "source": [
    "def clean_text(text):\n",
    "    text = re.sub(r\"[^a-zA-Z' ]\", ' ', text).split()\n",
    "    result_text = \" \".join(text)\n",
    "    return result_text"
   ]
  },
  {
   "cell_type": "code",
   "execution_count": 13,
   "id": "cddda0e3",
   "metadata": {
    "colab": {
     "base_uri": "https://localhost:8080/"
    },
    "id": "cddda0e3",
    "outputId": "e144b5c0-b054-4e4e-c558-a53bd07c539a",
    "scrolled": false
   },
   "outputs": [
    {
     "name": "stderr",
     "output_type": "stream",
     "text": [
      "100%|██████████| 51200/51200 [00:01<00:00, 26179.46it/s]\n"
     ]
    },
    {
     "data": {
      "text/plain": [
       "0                         incorrect moronic allegations of\n",
       "1        As the previous article lead already used digi...\n",
       "2        to character encoding issues Oops Fixed now na...\n",
       "3        Yes I know that was what Mikka did And you kno...\n",
       "4                             Son of a bitchSon of a bitch\n",
       "                               ...                        \n",
       "51195    Preceding unsigned comment added by talk contr...\n",
       "51196    need help in the india china war discussion pa...\n",
       "51197    Please do not add commercial links or links to...\n",
       "51198    Hanibal You're a bastard Pro Assad Hanibal You...\n",
       "51199    I HATE SCIENTOLOGY IT ALL FAKE NO PROOF OF ANY...\n",
       "Name: text, Length: 51200, dtype: object"
      ]
     },
     "execution_count": 13,
     "metadata": {},
     "output_type": "execute_result"
    }
   ],
   "source": [
    "tqdm.pandas()\n",
    "comments['text'] = comments['text'].progress_apply(clean_text)\n",
    "comments['text']"
   ]
  },
  {
   "cell_type": "markdown",
   "id": "f18ac2d3",
   "metadata": {
    "id": "f18ac2d3"
   },
   "source": [
    "Можно удалить и стоп слова, но:\n",
    "* Во-первых, удаление стоп слов приведет текст к нижнему регистру, а это негативно может сказаться при обучении моделей, т.к. использование верхнего регистра ЧАСТО ЯВНЫЙ МАРКЕР ТОКСИЧНОСТИ, поэтому и `модель будем испольховать чувствительную к регистру`\n",
    "* Во-вторых, с удалением стоп слов мы потеряем и все сочетания с отрицательной частицей 'not', что тоже может негативно повлиять на эффективность модели."
   ]
  },
  {
   "cell_type": "markdown",
   "id": "986008ed",
   "metadata": {
    "id": "986008ed"
   },
   "source": [
    "Токенизируем данные. Укажем, чтобы токенайзер сохранял исходный регистр:"
   ]
  },
  {
   "cell_type": "code",
   "execution_count": 14,
   "id": "75f7c004",
   "metadata": {
    "colab": {
     "base_uri": "https://localhost:8080/",
     "height": 145,
     "referenced_widgets": [
      "1a77f39bb8b34785b9b6624f14cd3234",
      "18f16aaec1e1434c89983c887fd4e2bb",
      "24aff31b5ee2458d8ca57533bb509a11",
      "1163775f79524e02871a97615ef397b5",
      "76cf842266cf4cbab9775d75345e3efc",
      "0d2461b4d8fe43eca4794063fc0e22b0",
      "62db45ca08244842a9049f4c73c57ba3",
      "ec946cc147f746fcbb64a3b196889ba7",
      "7589bf7b08a143d49e20da7c9c18c1f0",
      "7e96c4be4c0f4d45a0678cdd15829447",
      "89251a4d93724794ad69e8e7f48c8937",
      "8b7a38ed2f5e4cf8ba097c701155bee2",
      "a13b9b3f3be44fc8b8d445858df2da3f",
      "b72633ea7790462c8368590e6fb1d368",
      "e5bccbc4d32147049b88e018a9a99a64",
      "a950ddfc0c8a457ba55e479850edfdf1",
      "a0b19559b450470dbb99495cf11243c0",
      "410169d8d1944448897b6aa5fcda1a9f",
      "cb2ca8f0a77d4808a24df92f75e79df2",
      "b39b95304a14484a8686f18d1456f3ca",
      "1da4f4c95cc042459f1642a1a2d221b8",
      "7dfe9aa1ef154350a22787fc96d445a5",
      "788422b4f3924b63b47b5477c32fca2e",
      "a3f8dbcbca064a1a9c29b2a6ea31bd45",
      "66dce72f36b04a438edd2d9c92a9e042",
      "c7800cbc6d0d49ff8b1c750cdf7c6e75",
      "b863a3c10c864ffbbd82a3713acecf57",
      "ef52e0cc35b3460d8fe6f098e5123de1",
      "3bc89f134fe2430e8a223995855f8d49",
      "f34c493d74c1495e9007e6937ee2b0f6",
      "9ec30a86d61b4a82ae0f0b006b523bcf",
      "ef7a920f51674a00bfe8bbf5749a5cd7",
      "d80043a52974472996ff6530f4a874a7",
      "d3cb617b207946a09ee420baa9300056",
      "dff9c3fe7b374360bce6155f22390338",
      "e56f38e05f2e4e7185032a86d38b4c0e",
      "1cc14f429da34fefa0a781028ce87b3a",
      "93507b817ebf4b588f9a71be410aa3b2",
      "6b6d37cee75649b78eca92f1a6390f56",
      "1be5565706704ef1b8d5ef6ad514deda",
      "86dd94d6050143c6a0d879a9585942fd",
      "ef591a61096f4eb8b683f2fc6d517919",
      "21940644382a4b4da6fe78a50be40278",
      "99753c49f3cc41068501d21e4a2ad8c3"
     ]
    },
    "id": "75f7c004",
    "outputId": "3dc92093-92ad-4638-e7c6-11a5d11f466f",
    "scrolled": true
   },
   "outputs": [
    {
     "data": {
      "application/vnd.jupyter.widget-view+json": {
       "model_id": "1a77f39bb8b34785b9b6624f14cd3234",
       "version_major": 2,
       "version_minor": 0
      },
      "text/plain": [
       "Downloading vocab.txt:   0%|          | 0.00/226k [00:00<?, ?B/s]"
      ]
     },
     "metadata": {},
     "output_type": "display_data"
    },
    {
     "data": {
      "application/vnd.jupyter.widget-view+json": {
       "model_id": "8b7a38ed2f5e4cf8ba097c701155bee2",
       "version_major": 2,
       "version_minor": 0
      },
      "text/plain": [
       "Downloading special_tokens_map.json:   0%|          | 0.00/112 [00:00<?, ?B/s]"
      ]
     },
     "metadata": {},
     "output_type": "display_data"
    },
    {
     "data": {
      "application/vnd.jupyter.widget-view+json": {
       "model_id": "788422b4f3924b63b47b5477c32fca2e",
       "version_major": 2,
       "version_minor": 0
      },
      "text/plain": [
       "Downloading tokenizer_config.json:   0%|          | 0.00/174 [00:00<?, ?B/s]"
      ]
     },
     "metadata": {},
     "output_type": "display_data"
    },
    {
     "data": {
      "application/vnd.jupyter.widget-view+json": {
       "model_id": "d3cb617b207946a09ee420baa9300056",
       "version_major": 2,
       "version_minor": 0
      },
      "text/plain": [
       "Downloading config.json:   0%|          | 0.00/811 [00:00<?, ?B/s]"
      ]
     },
     "metadata": {},
     "output_type": "display_data"
    }
   ],
   "source": [
    "tokenizer = BertTokenizer.from_pretrained('unitary/toxic-bert', do_lower_case=False)"
   ]
  },
  {
   "cell_type": "markdown",
   "id": "5aab6e3f",
   "metadata": {
    "id": "5aab6e3f"
   },
   "source": [
    "Максимальная длина для этой модели - 512, если сообщения будут длинее - они обрежутся:"
   ]
  },
  {
   "cell_type": "code",
   "execution_count": 15,
   "id": "ffc77b34",
   "metadata": {
    "colab": {
     "base_uri": "https://localhost:8080/"
    },
    "id": "ffc77b34",
    "outputId": "078ec7ee-6765-4a49-8336-8aa381647152"
   },
   "outputs": [
    {
     "name": "stderr",
     "output_type": "stream",
     "text": [
      "100%|██████████| 51200/51200 [01:14<00:00, 685.02it/s]\n"
     ]
    }
   ],
   "source": [
    "tokenized = comments['text'].progress_apply((lambda x: tokenizer.encode(x, max_length=512, \n",
    "                                                            truncation=True, add_special_tokens=True)))"
   ]
  },
  {
   "cell_type": "markdown",
   "id": "8ac9b189",
   "metadata": {
    "id": "8ac9b189"
   },
   "source": [
    "Применим `padding`, чтобы длинна текстов в токенизированном корпусе была одинаковая, иначе bert работать не будет. (Нулями заполним пустые места)"
   ]
  },
  {
   "cell_type": "code",
   "execution_count": 16,
   "id": "f7ad47a4",
   "metadata": {
    "id": "f7ad47a4"
   },
   "outputs": [],
   "source": [
    "padded = np.array([i + [0]*(512 - len(i)) for i in tokenized.values])"
   ]
  },
  {
   "cell_type": "markdown",
   "id": "26efbdff",
   "metadata": {
    "id": "26efbdff"
   },
   "source": [
    "Теперь укажем, что нули, которые мы добавили - пустышки, чтобы модель их игнорировала:"
   ]
  },
  {
   "cell_type": "code",
   "execution_count": 17,
   "id": "997b9dda",
   "metadata": {
    "id": "997b9dda"
   },
   "outputs": [],
   "source": [
    "attention_mask = np.where(padded != 0, 1, 0)"
   ]
  },
  {
   "cell_type": "markdown",
   "id": "f489243b",
   "metadata": {
    "id": "f489243b"
   },
   "source": [
    "Используем преобученую на токсичных данных модель `bert`, чувствительную к регистру:"
   ]
  },
  {
   "cell_type": "code",
   "execution_count": 19,
   "id": "36f31945",
   "metadata": {
    "colab": {
     "base_uri": "https://localhost:8080/"
    },
    "id": "36f31945",
    "outputId": "0c1584d0-6266-4034-91f9-bf2b87a4a860",
    "scrolled": true
   },
   "outputs": [
    {
     "name": "stderr",
     "output_type": "stream",
     "text": [
      "Some weights of the model checkpoint at unitary/toxic-bert were not used when initializing BertModel: ['classifier.bias', 'classifier.weight']\n",
      "- This IS expected if you are initializing BertModel from the checkpoint of a model trained on another task or with another architecture (e.g. initializing a BertForSequenceClassification model from a BertForPreTraining model).\n",
      "- This IS NOT expected if you are initializing BertModel from the checkpoint of a model that you expect to be exactly identical (initializing a BertForSequenceClassification model from a BertForSequenceClassification model).\n"
     ]
    }
   ],
   "source": [
    "model = BertModel.from_pretrained(\"unitary/toxic-bert\") "
   ]
  },
  {
   "cell_type": "markdown",
   "id": "acae8058",
   "metadata": {
    "id": "acae8058"
   },
   "source": [
    "Теперь передадим модели тензоры, чтобы получить эмбеддинги, которые мы объеденим в матрицу, которая и будет нашими признаками для обучения:"
   ]
  },
  {
   "cell_type": "code",
   "execution_count": 20,
   "id": "874c14d7",
   "metadata": {
    "colab": {
     "base_uri": "https://localhost:8080/",
     "height": 84,
     "referenced_widgets": [
      "745c2fe6acd945039172a447a49f6b1a",
      "42bcfb80f6e64a8d95f23e9208ff49b0",
      "05310b11cf984b8780be0f531650cbcf",
      "2419b2718b334e1aa570e3b277239cb4",
      "d120e71df69e44f7828d6510a8a74334",
      "24e01b0fd3e3415587e810586128e118",
      "a104123eada24cb4b8baf44622feb6a8",
      "9e6c31e935d14e5a8f2e5f3eadcbce41",
      "57df1b68dee2478fbbc5a58636449c40",
      "b3b49ebf809d4e4680a2c6d0c9ffa6c4",
      "31a5775be7ef4e51a7a26c43c610a72e"
     ]
    },
    "id": "874c14d7",
    "outputId": "e56565c4-3897-4633-d35e-d87874462084",
    "scrolled": true
   },
   "outputs": [
    {
     "data": {
      "application/vnd.jupyter.widget-view+json": {
       "model_id": "745c2fe6acd945039172a447a49f6b1a",
       "version_major": 2,
       "version_minor": 0
      },
      "text/plain": [
       "  0%|          | 0/800 [00:00<?, ?it/s]"
      ]
     },
     "metadata": {},
     "output_type": "display_data"
    },
    {
     "name": "stdout",
     "output_type": "stream",
     "text": [
      "CPU times: user 29min 6s, sys: 3.22 s, total: 29min 9s\n",
      "Wall time: 29min 21s\n"
     ]
    }
   ],
   "source": [
    "%%time\n",
    "\n",
    "batch_size = 64 \n",
    "embeddings = [] \n",
    "for i in notebook.tqdm(range(padded.shape[0] // batch_size)):\n",
    "        batch = torch.LongTensor(padded[batch_size*i:batch_size*(i+1)]).cuda() # закидываем тензор на GPU\n",
    "        attention_mask_batch = torch.LongTensor(attention_mask[batch_size*i:batch_size*(i+1)]).cuda()\n",
    "\n",
    "        with torch.no_grad():\n",
    "            model.cuda()\n",
    "            batch_embeddings = model(batch, attention_mask=attention_mask_batch)\n",
    "\n",
    "        embeddings.append(batch_embeddings[0][:,0,:].cpu().numpy()) # перевод обратно на проц, чтобы в нумпай кинуть\n",
    "        del batch\n",
    "        del attention_mask_batch\n",
    "        del batch_embeddings\n",
    "\n",
    "features = np.concatenate(embeddings)\n",
    "target = comments['toxic']"
   ]
  },
  {
   "cell_type": "markdown",
   "id": "c20878bf",
   "metadata": {
    "id": "c20878bf"
   },
   "source": [
    "### Вывод\n",
    "С помощью bert, мы получили необходимые признаки для обучения моделей"
   ]
  },
  {
   "cell_type": "markdown",
   "id": "b4036379",
   "metadata": {
    "id": "b4036379"
   },
   "source": [
    "## Обучение моделей"
   ]
  },
  {
   "cell_type": "markdown",
   "id": "c8ad56d5",
   "metadata": {
    "id": "c8ad56d5"
   },
   "source": [
    "Разделим выборку на обучающую, валидационную и тестовую:"
   ]
  },
  {
   "cell_type": "code",
   "execution_count": 21,
   "id": "847d65ec",
   "metadata": {
    "colab": {
     "base_uri": "https://localhost:8080/"
    },
    "id": "847d65ec",
    "outputId": "f2f73065-e00e-4c2d-887a-4ca045e8e9d7",
    "scrolled": false
   },
   "outputs": [
    {
     "name": "stdout",
     "output_type": "stream",
     "text": [
      "(30720, 768) 10240 10240\n"
     ]
    },
    {
     "data": {
      "text/plain": [
       "(30720, 10240, 10240)"
      ]
     },
     "execution_count": 21,
     "metadata": {},
     "output_type": "execute_result"
    }
   ],
   "source": [
    "features_train, features_test, target_train, target_test = train_test_split(features,target, test_size=0.4, random_state=13)\n",
    "features_test, features_valid, target_test, target_valid = train_test_split(features_test, target_test, test_size=0.5, random_state=13)\n",
    "\n",
    "print(features_train.shape, features_valid.shape[0], features_test.shape[0])\n",
    "target_train.shape[0], target_valid.shape[0], target_test.shape[0]"
   ]
  },
  {
   "cell_type": "markdown",
   "id": "a6747bad",
   "metadata": {},
   "source": [
    "Для обучения будем использовать `Optuna`, которая позволит быстрее найти самые эффективные гиперпараметры."
   ]
  },
  {
   "cell_type": "markdown",
   "id": "7449cd0a",
   "metadata": {
    "id": "7449cd0a"
   },
   "source": [
    "### LogisticRegression"
   ]
  },
  {
   "cell_type": "code",
   "execution_count": 22,
   "id": "a71974fe",
   "metadata": {
    "colab": {
     "base_uri": "https://localhost:8080/"
    },
    "id": "a71974fe",
    "outputId": "e790cafc-eabe-4f8c-ebe1-c1054ba2d9fb"
   },
   "outputs": [
    {
     "name": "stderr",
     "output_type": "stream",
     "text": [
      "\u001b[32m[I 2022-07-28 13:24:06,764]\u001b[0m A new study created in memory with name: LogisticRegression\u001b[0m\n",
      "\u001b[32m[I 2022-07-28 13:24:56,944]\u001b[0m Trial 0 finished with value: 0.843687374749499 and parameters: {'C': 3, 'class_weight': None}. Best is trial 0 with value: 0.843687374749499.\u001b[0m\n",
      "\u001b[32m[I 2022-07-28 13:26:12,417]\u001b[0m Trial 1 finished with value: 0.8344965104685942 and parameters: {'C': 27, 'class_weight': None}. Best is trial 0 with value: 0.843687374749499.\u001b[0m\n",
      "\u001b[32m[I 2022-07-28 13:27:34,162]\u001b[0m Trial 2 finished with value: 0.8344965104685942 and parameters: {'C': 26, 'class_weight': None}. Best is trial 0 with value: 0.843687374749499.\u001b[0m\n",
      "\u001b[32m[I 2022-07-28 13:28:55,035]\u001b[0m Trial 3 finished with value: 0.8344965104685942 and parameters: {'C': 21, 'class_weight': None}. Best is trial 0 with value: 0.843687374749499.\u001b[0m\n",
      "\u001b[32m[I 2022-07-28 13:29:36,504]\u001b[0m Trial 4 finished with value: 0.7693554925010134 and parameters: {'C': 1, 'class_weight': 'balanced'}. Best is trial 0 with value: 0.843687374749499.\u001b[0m\n",
      "\u001b[32m[I 2022-07-28 13:30:49,370]\u001b[0m Trial 5 finished with value: 0.7642539425798625 and parameters: {'C': 8, 'class_weight': 'balanced'}. Best is trial 0 with value: 0.843687374749499.\u001b[0m\n",
      "\u001b[32m[I 2022-07-28 13:32:07,208]\u001b[0m Trial 6 finished with value: 0.7620591811917308 and parameters: {'C': 30, 'class_weight': 'balanced'}. Best is trial 0 with value: 0.843687374749499.\u001b[0m\n",
      "\u001b[32m[I 2022-07-28 13:33:18,278]\u001b[0m Trial 7 finished with value: 0.8371628371628371 and parameters: {'C': 12, 'class_weight': None}. Best is trial 0 with value: 0.843687374749499.\u001b[0m\n",
      "\u001b[32m[I 2022-07-28 13:34:08,927]\u001b[0m Trial 8 finished with value: 0.843687374749499 and parameters: {'C': 3, 'class_weight': None}. Best is trial 0 with value: 0.843687374749499.\u001b[0m\n",
      "\u001b[32m[I 2022-07-28 13:35:22,802]\u001b[0m Trial 9 finished with value: 0.7638272103350827 and parameters: {'C': 7, 'class_weight': 'balanced'}. Best is trial 0 with value: 0.843687374749499.\u001b[0m\n"
     ]
    }
   ],
   "source": [
    "models = []\n",
    "params = []\n",
    "scores = []\n",
    "\n",
    "def objective(trial):\n",
    "    C = trial.suggest_int(\"C\", 1, 30)\n",
    "    class_weight = trial.suggest_categorical(\"class_weight\", ['balanced', None])\n",
    "\n",
    "    model = LogisticRegression(C=C, class_weight = class_weight,\n",
    "                                    random_state=13, max_iter=4000\n",
    "                                   )\n",
    "\n",
    "    model.fit(features_train, target_train)\n",
    "\n",
    "    return f1_score(target_valid, model.predict(features_valid))\n",
    "\n",
    "study = optuna.create_study(study_name=\"LogisticRegression\", direction=\"maximize\")\n",
    "study.optimize(objective, n_trials=10)\n",
    "\n",
    "models.append('LogisticRegression')\n",
    "params.append(study.best_params)\n",
    "scores.append(study.best_value)"
   ]
  },
  {
   "cell_type": "markdown",
   "id": "ee4d0f7d",
   "metadata": {
    "id": "ee4d0f7d"
   },
   "source": [
    "### LGBMClassifier"
   ]
  },
  {
   "cell_type": "code",
   "execution_count": 23,
   "id": "d2a6b734",
   "metadata": {
    "colab": {
     "base_uri": "https://localhost:8080/"
    },
    "id": "d2a6b734",
    "outputId": "e463c877-04eb-4695-e7b7-1e5049309325",
    "scrolled": false
   },
   "outputs": [
    {
     "name": "stderr",
     "output_type": "stream",
     "text": [
      "\u001b[32m[I 2022-07-28 13:35:22,828]\u001b[0m A new study created in memory with name: LGBMClassifier\u001b[0m\n",
      "\u001b[32m[I 2022-07-28 13:36:04,328]\u001b[0m Trial 0 finished with value: 0.8400000000000001 and parameters: {'learning_rate': 0.22386464236092768, 'n_estimators': 148, 'max_depth': 8, 'min_child_samples': 8, 'num_leaves': 31}. Best is trial 0 with value: 0.8400000000000001.\u001b[0m\n",
      "\u001b[32m[I 2022-07-28 13:37:13,277]\u001b[0m Trial 1 finished with value: 0.838774485183325 and parameters: {'learning_rate': 0.4391481716549816, 'n_estimators': 198, 'max_depth': 18, 'min_child_samples': 20, 'num_leaves': 57}. Best is trial 0 with value: 0.8400000000000001.\u001b[0m\n",
      "\u001b[32m[I 2022-07-28 13:37:41,674]\u001b[0m Trial 2 finished with value: 0.838774485183325 and parameters: {'learning_rate': 0.29557216443254636, 'n_estimators': 37, 'max_depth': 19, 'min_child_samples': 9, 'num_leaves': 85}. Best is trial 0 with value: 0.8400000000000001.\u001b[0m\n",
      "\u001b[32m[I 2022-07-28 13:38:39,953]\u001b[0m Trial 3 finished with value: 0.8431174089068826 and parameters: {'learning_rate': 0.18044186632795087, 'n_estimators': 170, 'max_depth': 10, 'min_child_samples': 23, 'num_leaves': 46}. Best is trial 3 with value: 0.8431174089068826.\u001b[0m\n",
      "\u001b[32m[I 2022-07-28 13:39:22,598]\u001b[0m Trial 4 finished with value: 0.7511781338360038 and parameters: {'learning_rate': 0.6334792305728587, 'n_estimators': 137, 'max_depth': 18, 'min_child_samples': 10, 'num_leaves': 43}. Best is trial 3 with value: 0.8431174089068826.\u001b[0m\n",
      "\u001b[32m[I 2022-07-28 13:39:56,645]\u001b[0m Trial 5 finished with value: 0.7793296089385475 and parameters: {'learning_rate': 0.3638681755568073, 'n_estimators': 51, 'max_depth': 18, 'min_child_samples': 5, 'num_leaves': 71}. Best is trial 3 with value: 0.8431174089068826.\u001b[0m\n",
      "\u001b[32m[I 2022-07-28 13:40:19,698]\u001b[0m Trial 6 finished with value: 0.8409542743538766 and parameters: {'learning_rate': 0.1516852917891186, 'n_estimators': 129, 'max_depth': 4, 'min_child_samples': 11, 'num_leaves': 64}. Best is trial 3 with value: 0.8431174089068826.\u001b[0m\n",
      "\u001b[32m[I 2022-07-28 13:41:23,167]\u001b[0m Trial 7 finished with value: 0.8415189873417722 and parameters: {'learning_rate': 0.27005330970391517, 'n_estimators': 179, 'max_depth': 8, 'min_child_samples': 6, 'num_leaves': 54}. Best is trial 3 with value: 0.8431174089068826.\u001b[0m\n",
      "\u001b[32m[I 2022-07-28 13:42:09,889]\u001b[0m Trial 8 finished with value: 0.8418393127842345 and parameters: {'learning_rate': 0.30648412328754737, 'n_estimators': 150, 'max_depth': 12, 'min_child_samples': 18, 'num_leaves': 34}. Best is trial 3 with value: 0.8431174089068826.\u001b[0m\n",
      "\u001b[32m[I 2022-07-28 13:42:38,103]\u001b[0m Trial 9 finished with value: 0.8095937347038669 and parameters: {'learning_rate': 0.45322148605712614, 'n_estimators': 187, 'max_depth': 6, 'min_child_samples': 30, 'num_leaves': 76}. Best is trial 3 with value: 0.8431174089068826.\u001b[0m\n"
     ]
    }
   ],
   "source": [
    "def objective(trial):\n",
    "    learning_rate = trial.suggest_loguniform('learning_rate', 0.1, 1)\n",
    "    n_estimators = trial.suggest_int('n_estimators', 20, 200)\n",
    "    max_depth = trial.suggest_int('max_depth', 3, 20)\n",
    "    min_child_samples = trial.suggest_int('min_child_samples', 5, 30)\n",
    "    num_leaves = trial.suggest_int ('num_leaves', 30, 90)\n",
    "    \n",
    "    \n",
    "    model = LGBMClassifier(learning_rate=learning_rate, \n",
    "                                    n_estimators=n_estimators,\n",
    "                                    max_depth=max_depth,\n",
    "                                    min_child_samples=min_child_samples, verbose=-1, \n",
    "                                    num_leaves=num_leaves, random_state=13)\n",
    "\n",
    "\n",
    "    model.fit(features_train, target_train)\n",
    "\n",
    "    return f1_score(target_valid, model.predict(features_valid))\n",
    "\n",
    "study = optuna.create_study(study_name=\"LGBMClassifier\", direction=\"maximize\")\n",
    "study.optimize(objective, n_trials=10)\n",
    "\n",
    "models.append('LGBMClassifier')\n",
    "params.append(study.best_params)\n",
    "scores.append(study.best_value)"
   ]
  },
  {
   "cell_type": "markdown",
   "id": "2f693adc",
   "metadata": {
    "id": "2f693adc"
   },
   "source": [
    "### CatBoostClassifier"
   ]
  },
  {
   "cell_type": "code",
   "execution_count": 24,
   "id": "6ca7a02a",
   "metadata": {
    "colab": {
     "base_uri": "https://localhost:8080/"
    },
    "id": "6ca7a02a",
    "outputId": "769d4a21-cf09-4323-feaf-43c21f1a20a9"
   },
   "outputs": [
    {
     "name": "stdout",
     "output_type": "stream",
     "text": [
      "Learning rate set to 0.04447\n",
      "0:\tlearn: 0.6057593\ttotal: 334ms\tremaining: 5m 34s\n",
      "999:\tlearn: 0.0346167\ttotal: 3m 39s\tremaining: 0us\n"
     ]
    }
   ],
   "source": [
    "model = CatBoostClassifier(random_state=13, verbose=1000)\n",
    "model.fit(features_train, target_train)\n",
    "\n",
    "models.append('CatBoostClassifier')\n",
    "params.append(model.get_params())\n",
    "scores.append(f1_score(target_valid, model.predict(features_valid)))"
   ]
  },
  {
   "cell_type": "markdown",
   "id": "7f934500",
   "metadata": {
    "id": "7f934500"
   },
   "source": [
    "**Результаты:**"
   ]
  },
  {
   "cell_type": "code",
   "execution_count": 25,
   "id": "823ffaed",
   "metadata": {
    "colab": {
     "base_uri": "https://localhost:8080/",
     "height": 143
    },
    "id": "823ffaed",
    "outputId": "70e0d8aa-1930-40cb-9583-e2eb43855503",
    "scrolled": true
   },
   "outputs": [
    {
     "data": {
      "text/html": [
       "\n",
       "  <div id=\"df-8d1e881f-6720-4a46-a94f-818cdd477888\">\n",
       "    <div class=\"colab-df-container\">\n",
       "      <div>\n",
       "<style scoped>\n",
       "    .dataframe tbody tr th:only-of-type {\n",
       "        vertical-align: middle;\n",
       "    }\n",
       "\n",
       "    .dataframe tbody tr th {\n",
       "        vertical-align: top;\n",
       "    }\n",
       "\n",
       "    .dataframe thead th {\n",
       "        text-align: right;\n",
       "    }\n",
       "</style>\n",
       "<table border=\"1\" class=\"dataframe\">\n",
       "  <thead>\n",
       "    <tr style=\"text-align: right;\">\n",
       "      <th></th>\n",
       "      <th>f1_score</th>\n",
       "      <th>parameters</th>\n",
       "    </tr>\n",
       "  </thead>\n",
       "  <tbody>\n",
       "    <tr>\n",
       "      <th>LGBMClassifier</th>\n",
       "      <td>0.843117</td>\n",
       "      <td>{'learning_rate': 0.18044186632795087, 'n_esti...</td>\n",
       "    </tr>\n",
       "    <tr>\n",
       "      <th>LogisticRegression</th>\n",
       "      <td>0.843687</td>\n",
       "      <td>{'C': 3, 'class_weight': None}</td>\n",
       "    </tr>\n",
       "    <tr>\n",
       "      <th>CatBoostClassifier</th>\n",
       "      <td>0.845113</td>\n",
       "      <td>{'verbose': 1000, 'random_state': 13}</td>\n",
       "    </tr>\n",
       "  </tbody>\n",
       "</table>\n",
       "</div>\n",
       "      <button class=\"colab-df-convert\" onclick=\"convertToInteractive('df-8d1e881f-6720-4a46-a94f-818cdd477888')\"\n",
       "              title=\"Convert this dataframe to an interactive table.\"\n",
       "              style=\"display:none;\">\n",
       "        \n",
       "  <svg xmlns=\"http://www.w3.org/2000/svg\" height=\"24px\"viewBox=\"0 0 24 24\"\n",
       "       width=\"24px\">\n",
       "    <path d=\"M0 0h24v24H0V0z\" fill=\"none\"/>\n",
       "    <path d=\"M18.56 5.44l.94 2.06.94-2.06 2.06-.94-2.06-.94-.94-2.06-.94 2.06-2.06.94zm-11 1L8.5 8.5l.94-2.06 2.06-.94-2.06-.94L8.5 2.5l-.94 2.06-2.06.94zm10 10l.94 2.06.94-2.06 2.06-.94-2.06-.94-.94-2.06-.94 2.06-2.06.94z\"/><path d=\"M17.41 7.96l-1.37-1.37c-.4-.4-.92-.59-1.43-.59-.52 0-1.04.2-1.43.59L10.3 9.45l-7.72 7.72c-.78.78-.78 2.05 0 2.83L4 21.41c.39.39.9.59 1.41.59.51 0 1.02-.2 1.41-.59l7.78-7.78 2.81-2.81c.8-.78.8-2.07 0-2.86zM5.41 20L4 18.59l7.72-7.72 1.47 1.35L5.41 20z\"/>\n",
       "  </svg>\n",
       "      </button>\n",
       "      \n",
       "  <style>\n",
       "    .colab-df-container {\n",
       "      display:flex;\n",
       "      flex-wrap:wrap;\n",
       "      gap: 12px;\n",
       "    }\n",
       "\n",
       "    .colab-df-convert {\n",
       "      background-color: #E8F0FE;\n",
       "      border: none;\n",
       "      border-radius: 50%;\n",
       "      cursor: pointer;\n",
       "      display: none;\n",
       "      fill: #1967D2;\n",
       "      height: 32px;\n",
       "      padding: 0 0 0 0;\n",
       "      width: 32px;\n",
       "    }\n",
       "\n",
       "    .colab-df-convert:hover {\n",
       "      background-color: #E2EBFA;\n",
       "      box-shadow: 0px 1px 2px rgba(60, 64, 67, 0.3), 0px 1px 3px 1px rgba(60, 64, 67, 0.15);\n",
       "      fill: #174EA6;\n",
       "    }\n",
       "\n",
       "    [theme=dark] .colab-df-convert {\n",
       "      background-color: #3B4455;\n",
       "      fill: #D2E3FC;\n",
       "    }\n",
       "\n",
       "    [theme=dark] .colab-df-convert:hover {\n",
       "      background-color: #434B5C;\n",
       "      box-shadow: 0px 1px 3px 1px rgba(0, 0, 0, 0.15);\n",
       "      filter: drop-shadow(0px 1px 2px rgba(0, 0, 0, 0.3));\n",
       "      fill: #FFFFFF;\n",
       "    }\n",
       "  </style>\n",
       "\n",
       "      <script>\n",
       "        const buttonEl =\n",
       "          document.querySelector('#df-8d1e881f-6720-4a46-a94f-818cdd477888 button.colab-df-convert');\n",
       "        buttonEl.style.display =\n",
       "          google.colab.kernel.accessAllowed ? 'block' : 'none';\n",
       "\n",
       "        async function convertToInteractive(key) {\n",
       "          const element = document.querySelector('#df-8d1e881f-6720-4a46-a94f-818cdd477888');\n",
       "          const dataTable =\n",
       "            await google.colab.kernel.invokeFunction('convertToInteractive',\n",
       "                                                     [key], {});\n",
       "          if (!dataTable) return;\n",
       "\n",
       "          const docLinkHtml = 'Like what you see? Visit the ' +\n",
       "            '<a target=\"_blank\" href=https://colab.research.google.com/notebooks/data_table.ipynb>data table notebook</a>'\n",
       "            + ' to learn more about interactive tables.';\n",
       "          element.innerHTML = '';\n",
       "          dataTable['output_type'] = 'display_data';\n",
       "          await google.colab.output.renderOutput(dataTable, element);\n",
       "          const docLink = document.createElement('div');\n",
       "          docLink.innerHTML = docLinkHtml;\n",
       "          element.appendChild(docLink);\n",
       "        }\n",
       "      </script>\n",
       "    </div>\n",
       "  </div>\n",
       "  "
      ],
      "text/plain": [
       "                    f1_score  \\\n",
       "LGBMClassifier      0.843117   \n",
       "LogisticRegression  0.843687   \n",
       "CatBoostClassifier  0.845113   \n",
       "\n",
       "                                                           parameters  \n",
       "LGBMClassifier      {'learning_rate': 0.18044186632795087, 'n_esti...  \n",
       "LogisticRegression                     {'C': 3, 'class_weight': None}  \n",
       "CatBoostClassifier              {'verbose': 1000, 'random_state': 13}  "
      ]
     },
     "execution_count": 25,
     "metadata": {},
     "output_type": "execute_result"
    }
   ],
   "source": [
    "final_data_results = pd.DataFrame({'f1_score': scores, 'parameters': params}, index=models).sort_values(by='f1_score')\n",
    "\n",
    "final_data_results"
   ]
  },
  {
   "cell_type": "markdown",
   "id": "bf3fedb7",
   "metadata": {
    "id": "bf3fedb7"
   },
   "source": [
    "### Вывод:\n",
    "\n",
    "Лучшая модель по метрике - `CatBoostClassifier`, но она практически не отличается `LogisticRegression`, которая обучается намного быстрее. Ее и будем тестировать."
   ]
  },
  {
   "cell_type": "markdown",
   "id": "9b75101d",
   "metadata": {
    "id": "9b75101d"
   },
   "source": [
    "## Тестирование модели"
   ]
  },
  {
   "cell_type": "markdown",
   "id": "qwopzVLjJQGH",
   "metadata": {
    "id": "qwopzVLjJQGH"
   },
   "source": [
    "Перед тестированием объеденим обучающую и валидационную выборку и попробуем апсемплинг, чтобы как-то повлиять на дисбаланс классов:"
   ]
  },
  {
   "cell_type": "code",
   "execution_count": 26,
   "id": "8qppiJXVRql0",
   "metadata": {
    "id": "8qppiJXVRql0"
   },
   "outputs": [],
   "source": [
    "train_and_valid_features = pd.DataFrame(features_train).append(pd.DataFrame(features_valid))\n",
    "train_and_valid_target = target_train.append(target_valid)"
   ]
  },
  {
   "cell_type": "code",
   "execution_count": 29,
   "id": "pDw4tQIZKbZW",
   "metadata": {
    "colab": {
     "base_uri": "https://localhost:8080/"
    },
    "id": "pDw4tQIZKbZW",
    "outputId": "ef716358-798d-4818-f37c-ef997fb5a522"
   },
   "outputs": [
    {
     "name": "stdout",
     "output_type": "stream",
     "text": [
      "0.8304821150855366\n"
     ]
    }
   ],
   "source": [
    "model = LogisticRegression(C=3, random_state=13, max_iter=4000)\n",
    "model.fit(train_and_valid_features, train_and_valid_target)\n",
    "prediction = model.predict(features_test)\n",
    "print(f1_score(target_test, prediction))"
   ]
  },
  {
   "cell_type": "markdown",
   "id": "ae735842",
   "metadata": {
    "id": "ae735842"
   },
   "source": [
    "upsampling"
   ]
  },
  {
   "cell_type": "code",
   "execution_count": 30,
   "id": "FiPRDlTIz6FP",
   "metadata": {
    "colab": {
     "base_uri": "https://localhost:8080/"
    },
    "id": "FiPRDlTIz6FP",
    "outputId": "7c317263-5c87-4ccc-88c6-0d232b8b928c"
   },
   "outputs": [
    {
     "name": "stdout",
     "output_type": "stream",
     "text": [
      "(77662, 768)\n",
      "(77662,)\n"
     ]
    }
   ],
   "source": [
    "def upsample(features, target, repeat):\n",
    "    features_zeros = features[target == 0]\n",
    "    features_ones = features[target == 1]\n",
    "    target_zeros = target[target == 0]\n",
    "    target_ones = target[target == 1]\n",
    "    \n",
    "    features_upsampled = pd.concat([features_zeros] + [features_ones] * repeat)\n",
    "    target_upsampled = pd.concat([target_zeros] + [target_ones] * repeat)\n",
    "    \n",
    "    features_upsampled, target_upsampled  = shuffle(features_upsampled, target_upsampled , random_state=12345)\n",
    "    \n",
    "    return features_upsampled, target_upsampled \n",
    "\n",
    "\n",
    "features_upsampled, target_upsampled = upsample(train_and_valid_features.reset_index(drop=True), train_and_valid_target.reset_index(drop=True), 10)\n",
    "\n",
    "print(features_upsampled.shape)\n",
    "print(target_upsampled.shape)"
   ]
  },
  {
   "cell_type": "code",
   "execution_count": 31,
   "id": "R6M_qyCoKTRG",
   "metadata": {
    "colab": {
     "base_uri": "https://localhost:8080/"
    },
    "id": "R6M_qyCoKTRG",
    "outputId": "b7a44e73-6ec2-4b32-e190-020f4ed751f5"
   },
   "outputs": [
    {
     "name": "stdout",
     "output_type": "stream",
     "text": [
      "0.755221386800334\n"
     ]
    }
   ],
   "source": [
    "model = LogisticRegression(C=13, random_state=3, max_iter=4000)\n",
    "model.fit(features_upsampled, target_upsampled)\n",
    "prediction = model.predict(features_test)\n",
    "print(f1_score(target_test, prediction))"
   ]
  },
  {
   "cell_type": "markdown",
   "id": "A3bRHoB8NCnV",
   "metadata": {
    "id": "A3bRHoB8NCnV"
   },
   "source": [
    "Апсемплинг снизил эффектиность."
   ]
  },
  {
   "cell_type": "markdown",
   "id": "2M2MqnzvNDL0",
   "metadata": {
    "id": "2M2MqnzvNDL0"
   },
   "source": [
    "Попробуем поменять распределие признаков при разделении признаков:"
   ]
  },
  {
   "cell_type": "code",
   "execution_count": 32,
   "id": "1ucrcQE0NN6k",
   "metadata": {
    "id": "1ucrcQE0NN6k"
   },
   "outputs": [],
   "source": [
    "features_train, features_test, target_train, target_test = train_test_split(features,target, test_size=0.4, random_state=13, stratify=target)\n",
    "features_test, features_valid, target_test, target_valid = train_test_split(features_test, target_test, test_size=0.5, random_state=13)\n",
    "\n",
    "train_and_valid_features = pd.DataFrame(features_train).append(pd.DataFrame(features_valid))\n",
    "train_and_valid_target = target_train.append(target_valid)"
   ]
  },
  {
   "cell_type": "code",
   "execution_count": 33,
   "id": "6UH0fxcUNYtF",
   "metadata": {
    "colab": {
     "base_uri": "https://localhost:8080/"
    },
    "id": "6UH0fxcUNYtF",
    "outputId": "d119ae3e-179e-4de8-8409-3157299b9c51"
   },
   "outputs": [
    {
     "name": "stdout",
     "output_type": "stream",
     "text": [
      "0.8337569903406202\n"
     ]
    }
   ],
   "source": [
    "model = LogisticRegression(C=3, random_state=13, max_iter=4000)\n",
    "model.fit(train_and_valid_features, train_and_valid_target)\n",
    "prediction = model.predict(features_test)\n",
    "print(f1_score(target_test, prediction))"
   ]
  },
  {
   "cell_type": "markdown",
   "id": "Ir4RqGRlWTVT",
   "metadata": {
    "id": "Ir4RqGRlWTVT"
   },
   "source": [
    "`stratify=target` немного увеличило метрику `f1`"
   ]
  },
  {
   "cell_type": "markdown",
   "id": "effcf239",
   "metadata": {
    "id": "effcf239"
   },
   "source": [
    "Проверим нашу модель на адекватность с помощью `DummyClassifier`:"
   ]
  },
  {
   "cell_type": "code",
   "execution_count": 34,
   "id": "f04cd715",
   "metadata": {
    "colab": {
     "base_uri": "https://localhost:8080/"
    },
    "id": "f04cd715",
    "outputId": "b399b632-8d5a-4d46-8247-b69be0730f41"
   },
   "outputs": [
    {
     "name": "stdout",
     "output_type": "stream",
     "text": [
      "0.17874610938194754\n"
     ]
    }
   ],
   "source": [
    "model = DummyClassifier(random_state=13)\n",
    "model.fit(features_upsampled, target_upsampled)\n",
    "predictions = model.predict(features_test)\n",
    "print(f1_score(predictions, target_test))"
   ]
  },
  {
   "cell_type": "markdown",
   "id": "4abf596e",
   "metadata": {
    "id": "4abf596e"
   },
   "source": [
    "Показатели нашей модели выше - она адекватна"
   ]
  },
  {
   "cell_type": "markdown",
   "id": "02bfc2a3",
   "metadata": {
    "id": "02bfc2a3"
   },
   "source": [
    "## Вывод\n"
   ]
  },
  {
   "cell_type": "markdown",
   "id": "c3147ef5",
   "metadata": {
    "id": "c3147ef5"
   },
   "source": [
    "Мы смогли добиться метрики `f1 = 0.83`, c `LogisticRegression` c гиперпараметром `C=3`. \n",
    "\n",
    "Похоже, что `BERT` довольно тяжелый и нельзя расчитывать на его быструю работу без больших ресурсов. Возможно, стоит попробовать использовать и другие методики (TF-IDF или Word2Vec) или другие готовые модели, может они справятся не хуже и быстрее."
   ]
  }
 ],
 "metadata": {
  "accelerator": "GPU",
  "colab": {
   "name": "fe3663ac-1d5f-458d-8d89-2df09be50987 (1).ipynb",
   "provenance": []
  },
  "gpuClass": "standard",
  "kernelspec": {
   "display_name": "Python 3 (ipykernel)",
   "language": "python",
   "name": "python3"
  },
  "language_info": {
   "codemirror_mode": {
    "name": "ipython",
    "version": 3
   },
   "file_extension": ".py",
   "mimetype": "text/x-python",
   "name": "python",
   "nbconvert_exporter": "python",
   "pygments_lexer": "ipython3",
   "version": "3.9.7"
  },
  "toc": {
   "base_numbering": 1,
   "nav_menu": {},
   "number_sections": true,
   "sideBar": true,
   "skip_h1_title": true,
   "title_cell": "Содержание",
   "title_sidebar": "Contents",
   "toc_cell": true,
   "toc_position": {},
   "toc_section_display": true,
   "toc_window_display": true
  },
  "widgets": {
   "application/vnd.jupyter.widget-state+json": {
    "05310b11cf984b8780be0f531650cbcf": {
     "model_module": "@jupyter-widgets/controls",
     "model_module_version": "1.5.0",
     "model_name": "FloatProgressModel",
     "state": {
      "_dom_classes": [],
      "_model_module": "@jupyter-widgets/controls",
      "_model_module_version": "1.5.0",
      "_model_name": "FloatProgressModel",
      "_view_count": null,
      "_view_module": "@jupyter-widgets/controls",
      "_view_module_version": "1.5.0",
      "_view_name": "ProgressView",
      "bar_style": "success",
      "description": "",
      "description_tooltip": null,
      "layout": "IPY_MODEL_9e6c31e935d14e5a8f2e5f3eadcbce41",
      "max": 800,
      "min": 0,
      "orientation": "horizontal",
      "style": "IPY_MODEL_57df1b68dee2478fbbc5a58636449c40",
      "value": 800
     }
    },
    "0d2461b4d8fe43eca4794063fc0e22b0": {
     "model_module": "@jupyter-widgets/base",
     "model_module_version": "1.2.0",
     "model_name": "LayoutModel",
     "state": {
      "_model_module": "@jupyter-widgets/base",
      "_model_module_version": "1.2.0",
      "_model_name": "LayoutModel",
      "_view_count": null,
      "_view_module": "@jupyter-widgets/base",
      "_view_module_version": "1.2.0",
      "_view_name": "LayoutView",
      "align_content": null,
      "align_items": null,
      "align_self": null,
      "border": null,
      "bottom": null,
      "display": null,
      "flex": null,
      "flex_flow": null,
      "grid_area": null,
      "grid_auto_columns": null,
      "grid_auto_flow": null,
      "grid_auto_rows": null,
      "grid_column": null,
      "grid_gap": null,
      "grid_row": null,
      "grid_template_areas": null,
      "grid_template_columns": null,
      "grid_template_rows": null,
      "height": null,
      "justify_content": null,
      "justify_items": null,
      "left": null,
      "margin": null,
      "max_height": null,
      "max_width": null,
      "min_height": null,
      "min_width": null,
      "object_fit": null,
      "object_position": null,
      "order": null,
      "overflow": null,
      "overflow_x": null,
      "overflow_y": null,
      "padding": null,
      "right": null,
      "top": null,
      "visibility": null,
      "width": null
     }
    },
    "1163775f79524e02871a97615ef397b5": {
     "model_module": "@jupyter-widgets/controls",
     "model_module_version": "1.5.0",
     "model_name": "HTMLModel",
     "state": {
      "_dom_classes": [],
      "_model_module": "@jupyter-widgets/controls",
      "_model_module_version": "1.5.0",
      "_model_name": "HTMLModel",
      "_view_count": null,
      "_view_module": "@jupyter-widgets/controls",
      "_view_module_version": "1.5.0",
      "_view_name": "HTMLView",
      "description": "",
      "description_tooltip": null,
      "layout": "IPY_MODEL_7e96c4be4c0f4d45a0678cdd15829447",
      "placeholder": "​",
      "style": "IPY_MODEL_89251a4d93724794ad69e8e7f48c8937",
      "value": " 226k/226k [00:00&lt;00:00, 2.58MB/s]"
     }
    },
    "18f16aaec1e1434c89983c887fd4e2bb": {
     "model_module": "@jupyter-widgets/controls",
     "model_module_version": "1.5.0",
     "model_name": "HTMLModel",
     "state": {
      "_dom_classes": [],
      "_model_module": "@jupyter-widgets/controls",
      "_model_module_version": "1.5.0",
      "_model_name": "HTMLModel",
      "_view_count": null,
      "_view_module": "@jupyter-widgets/controls",
      "_view_module_version": "1.5.0",
      "_view_name": "HTMLView",
      "description": "",
      "description_tooltip": null,
      "layout": "IPY_MODEL_0d2461b4d8fe43eca4794063fc0e22b0",
      "placeholder": "​",
      "style": "IPY_MODEL_62db45ca08244842a9049f4c73c57ba3",
      "value": "Downloading vocab.txt: 100%"
     }
    },
    "1a77f39bb8b34785b9b6624f14cd3234": {
     "model_module": "@jupyter-widgets/controls",
     "model_module_version": "1.5.0",
     "model_name": "HBoxModel",
     "state": {
      "_dom_classes": [],
      "_model_module": "@jupyter-widgets/controls",
      "_model_module_version": "1.5.0",
      "_model_name": "HBoxModel",
      "_view_count": null,
      "_view_module": "@jupyter-widgets/controls",
      "_view_module_version": "1.5.0",
      "_view_name": "HBoxView",
      "box_style": "",
      "children": [
       "IPY_MODEL_18f16aaec1e1434c89983c887fd4e2bb",
       "IPY_MODEL_24aff31b5ee2458d8ca57533bb509a11",
       "IPY_MODEL_1163775f79524e02871a97615ef397b5"
      ],
      "layout": "IPY_MODEL_76cf842266cf4cbab9775d75345e3efc"
     }
    },
    "1be5565706704ef1b8d5ef6ad514deda": {
     "model_module": "@jupyter-widgets/controls",
     "model_module_version": "1.5.0",
     "model_name": "DescriptionStyleModel",
     "state": {
      "_model_module": "@jupyter-widgets/controls",
      "_model_module_version": "1.5.0",
      "_model_name": "DescriptionStyleModel",
      "_view_count": null,
      "_view_module": "@jupyter-widgets/base",
      "_view_module_version": "1.2.0",
      "_view_name": "StyleView",
      "description_width": ""
     }
    },
    "1cc14f429da34fefa0a781028ce87b3a": {
     "model_module": "@jupyter-widgets/controls",
     "model_module_version": "1.5.0",
     "model_name": "HTMLModel",
     "state": {
      "_dom_classes": [],
      "_model_module": "@jupyter-widgets/controls",
      "_model_module_version": "1.5.0",
      "_model_name": "HTMLModel",
      "_view_count": null,
      "_view_module": "@jupyter-widgets/controls",
      "_view_module_version": "1.5.0",
      "_view_name": "HTMLView",
      "description": "",
      "description_tooltip": null,
      "layout": "IPY_MODEL_21940644382a4b4da6fe78a50be40278",
      "placeholder": "​",
      "style": "IPY_MODEL_99753c49f3cc41068501d21e4a2ad8c3",
      "value": " 811/811 [00:00&lt;00:00, 11.3kB/s]"
     }
    },
    "1da4f4c95cc042459f1642a1a2d221b8": {
     "model_module": "@jupyter-widgets/base",
     "model_module_version": "1.2.0",
     "model_name": "LayoutModel",
     "state": {
      "_model_module": "@jupyter-widgets/base",
      "_model_module_version": "1.2.0",
      "_model_name": "LayoutModel",
      "_view_count": null,
      "_view_module": "@jupyter-widgets/base",
      "_view_module_version": "1.2.0",
      "_view_name": "LayoutView",
      "align_content": null,
      "align_items": null,
      "align_self": null,
      "border": null,
      "bottom": null,
      "display": null,
      "flex": null,
      "flex_flow": null,
      "grid_area": null,
      "grid_auto_columns": null,
      "grid_auto_flow": null,
      "grid_auto_rows": null,
      "grid_column": null,
      "grid_gap": null,
      "grid_row": null,
      "grid_template_areas": null,
      "grid_template_columns": null,
      "grid_template_rows": null,
      "height": null,
      "justify_content": null,
      "justify_items": null,
      "left": null,
      "margin": null,
      "max_height": null,
      "max_width": null,
      "min_height": null,
      "min_width": null,
      "object_fit": null,
      "object_position": null,
      "order": null,
      "overflow": null,
      "overflow_x": null,
      "overflow_y": null,
      "padding": null,
      "right": null,
      "top": null,
      "visibility": null,
      "width": null
     }
    },
    "21940644382a4b4da6fe78a50be40278": {
     "model_module": "@jupyter-widgets/base",
     "model_module_version": "1.2.0",
     "model_name": "LayoutModel",
     "state": {
      "_model_module": "@jupyter-widgets/base",
      "_model_module_version": "1.2.0",
      "_model_name": "LayoutModel",
      "_view_count": null,
      "_view_module": "@jupyter-widgets/base",
      "_view_module_version": "1.2.0",
      "_view_name": "LayoutView",
      "align_content": null,
      "align_items": null,
      "align_self": null,
      "border": null,
      "bottom": null,
      "display": null,
      "flex": null,
      "flex_flow": null,
      "grid_area": null,
      "grid_auto_columns": null,
      "grid_auto_flow": null,
      "grid_auto_rows": null,
      "grid_column": null,
      "grid_gap": null,
      "grid_row": null,
      "grid_template_areas": null,
      "grid_template_columns": null,
      "grid_template_rows": null,
      "height": null,
      "justify_content": null,
      "justify_items": null,
      "left": null,
      "margin": null,
      "max_height": null,
      "max_width": null,
      "min_height": null,
      "min_width": null,
      "object_fit": null,
      "object_position": null,
      "order": null,
      "overflow": null,
      "overflow_x": null,
      "overflow_y": null,
      "padding": null,
      "right": null,
      "top": null,
      "visibility": null,
      "width": null
     }
    },
    "2419b2718b334e1aa570e3b277239cb4": {
     "model_module": "@jupyter-widgets/controls",
     "model_module_version": "1.5.0",
     "model_name": "HTMLModel",
     "state": {
      "_dom_classes": [],
      "_model_module": "@jupyter-widgets/controls",
      "_model_module_version": "1.5.0",
      "_model_name": "HTMLModel",
      "_view_count": null,
      "_view_module": "@jupyter-widgets/controls",
      "_view_module_version": "1.5.0",
      "_view_name": "HTMLView",
      "description": "",
      "description_tooltip": null,
      "layout": "IPY_MODEL_b3b49ebf809d4e4680a2c6d0c9ffa6c4",
      "placeholder": "​",
      "style": "IPY_MODEL_31a5775be7ef4e51a7a26c43c610a72e",
      "value": " 800/800 [29:21&lt;00:00,  2.22s/it]"
     }
    },
    "24aff31b5ee2458d8ca57533bb509a11": {
     "model_module": "@jupyter-widgets/controls",
     "model_module_version": "1.5.0",
     "model_name": "FloatProgressModel",
     "state": {
      "_dom_classes": [],
      "_model_module": "@jupyter-widgets/controls",
      "_model_module_version": "1.5.0",
      "_model_name": "FloatProgressModel",
      "_view_count": null,
      "_view_module": "@jupyter-widgets/controls",
      "_view_module_version": "1.5.0",
      "_view_name": "ProgressView",
      "bar_style": "success",
      "description": "",
      "description_tooltip": null,
      "layout": "IPY_MODEL_ec946cc147f746fcbb64a3b196889ba7",
      "max": 231508,
      "min": 0,
      "orientation": "horizontal",
      "style": "IPY_MODEL_7589bf7b08a143d49e20da7c9c18c1f0",
      "value": 231508
     }
    },
    "24e01b0fd3e3415587e810586128e118": {
     "model_module": "@jupyter-widgets/base",
     "model_module_version": "1.2.0",
     "model_name": "LayoutModel",
     "state": {
      "_model_module": "@jupyter-widgets/base",
      "_model_module_version": "1.2.0",
      "_model_name": "LayoutModel",
      "_view_count": null,
      "_view_module": "@jupyter-widgets/base",
      "_view_module_version": "1.2.0",
      "_view_name": "LayoutView",
      "align_content": null,
      "align_items": null,
      "align_self": null,
      "border": null,
      "bottom": null,
      "display": null,
      "flex": null,
      "flex_flow": null,
      "grid_area": null,
      "grid_auto_columns": null,
      "grid_auto_flow": null,
      "grid_auto_rows": null,
      "grid_column": null,
      "grid_gap": null,
      "grid_row": null,
      "grid_template_areas": null,
      "grid_template_columns": null,
      "grid_template_rows": null,
      "height": null,
      "justify_content": null,
      "justify_items": null,
      "left": null,
      "margin": null,
      "max_height": null,
      "max_width": null,
      "min_height": null,
      "min_width": null,
      "object_fit": null,
      "object_position": null,
      "order": null,
      "overflow": null,
      "overflow_x": null,
      "overflow_y": null,
      "padding": null,
      "right": null,
      "top": null,
      "visibility": null,
      "width": null
     }
    },
    "31a5775be7ef4e51a7a26c43c610a72e": {
     "model_module": "@jupyter-widgets/controls",
     "model_module_version": "1.5.0",
     "model_name": "DescriptionStyleModel",
     "state": {
      "_model_module": "@jupyter-widgets/controls",
      "_model_module_version": "1.5.0",
      "_model_name": "DescriptionStyleModel",
      "_view_count": null,
      "_view_module": "@jupyter-widgets/base",
      "_view_module_version": "1.2.0",
      "_view_name": "StyleView",
      "description_width": ""
     }
    },
    "3bc89f134fe2430e8a223995855f8d49": {
     "model_module": "@jupyter-widgets/controls",
     "model_module_version": "1.5.0",
     "model_name": "DescriptionStyleModel",
     "state": {
      "_model_module": "@jupyter-widgets/controls",
      "_model_module_version": "1.5.0",
      "_model_name": "DescriptionStyleModel",
      "_view_count": null,
      "_view_module": "@jupyter-widgets/base",
      "_view_module_version": "1.2.0",
      "_view_name": "StyleView",
      "description_width": ""
     }
    },
    "410169d8d1944448897b6aa5fcda1a9f": {
     "model_module": "@jupyter-widgets/controls",
     "model_module_version": "1.5.0",
     "model_name": "DescriptionStyleModel",
     "state": {
      "_model_module": "@jupyter-widgets/controls",
      "_model_module_version": "1.5.0",
      "_model_name": "DescriptionStyleModel",
      "_view_count": null,
      "_view_module": "@jupyter-widgets/base",
      "_view_module_version": "1.2.0",
      "_view_name": "StyleView",
      "description_width": ""
     }
    },
    "42bcfb80f6e64a8d95f23e9208ff49b0": {
     "model_module": "@jupyter-widgets/controls",
     "model_module_version": "1.5.0",
     "model_name": "HTMLModel",
     "state": {
      "_dom_classes": [],
      "_model_module": "@jupyter-widgets/controls",
      "_model_module_version": "1.5.0",
      "_model_name": "HTMLModel",
      "_view_count": null,
      "_view_module": "@jupyter-widgets/controls",
      "_view_module_version": "1.5.0",
      "_view_name": "HTMLView",
      "description": "",
      "description_tooltip": null,
      "layout": "IPY_MODEL_24e01b0fd3e3415587e810586128e118",
      "placeholder": "​",
      "style": "IPY_MODEL_a104123eada24cb4b8baf44622feb6a8",
      "value": "100%"
     }
    },
    "57df1b68dee2478fbbc5a58636449c40": {
     "model_module": "@jupyter-widgets/controls",
     "model_module_version": "1.5.0",
     "model_name": "ProgressStyleModel",
     "state": {
      "_model_module": "@jupyter-widgets/controls",
      "_model_module_version": "1.5.0",
      "_model_name": "ProgressStyleModel",
      "_view_count": null,
      "_view_module": "@jupyter-widgets/base",
      "_view_module_version": "1.2.0",
      "_view_name": "StyleView",
      "bar_color": null,
      "description_width": ""
     }
    },
    "62db45ca08244842a9049f4c73c57ba3": {
     "model_module": "@jupyter-widgets/controls",
     "model_module_version": "1.5.0",
     "model_name": "DescriptionStyleModel",
     "state": {
      "_model_module": "@jupyter-widgets/controls",
      "_model_module_version": "1.5.0",
      "_model_name": "DescriptionStyleModel",
      "_view_count": null,
      "_view_module": "@jupyter-widgets/base",
      "_view_module_version": "1.2.0",
      "_view_name": "StyleView",
      "description_width": ""
     }
    },
    "66dce72f36b04a438edd2d9c92a9e042": {
     "model_module": "@jupyter-widgets/controls",
     "model_module_version": "1.5.0",
     "model_name": "FloatProgressModel",
     "state": {
      "_dom_classes": [],
      "_model_module": "@jupyter-widgets/controls",
      "_model_module_version": "1.5.0",
      "_model_name": "FloatProgressModel",
      "_view_count": null,
      "_view_module": "@jupyter-widgets/controls",
      "_view_module_version": "1.5.0",
      "_view_name": "ProgressView",
      "bar_style": "success",
      "description": "",
      "description_tooltip": null,
      "layout": "IPY_MODEL_f34c493d74c1495e9007e6937ee2b0f6",
      "max": 174,
      "min": 0,
      "orientation": "horizontal",
      "style": "IPY_MODEL_9ec30a86d61b4a82ae0f0b006b523bcf",
      "value": 174
     }
    },
    "6b6d37cee75649b78eca92f1a6390f56": {
     "model_module": "@jupyter-widgets/base",
     "model_module_version": "1.2.0",
     "model_name": "LayoutModel",
     "state": {
      "_model_module": "@jupyter-widgets/base",
      "_model_module_version": "1.2.0",
      "_model_name": "LayoutModel",
      "_view_count": null,
      "_view_module": "@jupyter-widgets/base",
      "_view_module_version": "1.2.0",
      "_view_name": "LayoutView",
      "align_content": null,
      "align_items": null,
      "align_self": null,
      "border": null,
      "bottom": null,
      "display": null,
      "flex": null,
      "flex_flow": null,
      "grid_area": null,
      "grid_auto_columns": null,
      "grid_auto_flow": null,
      "grid_auto_rows": null,
      "grid_column": null,
      "grid_gap": null,
      "grid_row": null,
      "grid_template_areas": null,
      "grid_template_columns": null,
      "grid_template_rows": null,
      "height": null,
      "justify_content": null,
      "justify_items": null,
      "left": null,
      "margin": null,
      "max_height": null,
      "max_width": null,
      "min_height": null,
      "min_width": null,
      "object_fit": null,
      "object_position": null,
      "order": null,
      "overflow": null,
      "overflow_x": null,
      "overflow_y": null,
      "padding": null,
      "right": null,
      "top": null,
      "visibility": null,
      "width": null
     }
    },
    "745c2fe6acd945039172a447a49f6b1a": {
     "model_module": "@jupyter-widgets/controls",
     "model_module_version": "1.5.0",
     "model_name": "HBoxModel",
     "state": {
      "_dom_classes": [],
      "_model_module": "@jupyter-widgets/controls",
      "_model_module_version": "1.5.0",
      "_model_name": "HBoxModel",
      "_view_count": null,
      "_view_module": "@jupyter-widgets/controls",
      "_view_module_version": "1.5.0",
      "_view_name": "HBoxView",
      "box_style": "",
      "children": [
       "IPY_MODEL_42bcfb80f6e64a8d95f23e9208ff49b0",
       "IPY_MODEL_05310b11cf984b8780be0f531650cbcf",
       "IPY_MODEL_2419b2718b334e1aa570e3b277239cb4"
      ],
      "layout": "IPY_MODEL_d120e71df69e44f7828d6510a8a74334"
     }
    },
    "7589bf7b08a143d49e20da7c9c18c1f0": {
     "model_module": "@jupyter-widgets/controls",
     "model_module_version": "1.5.0",
     "model_name": "ProgressStyleModel",
     "state": {
      "_model_module": "@jupyter-widgets/controls",
      "_model_module_version": "1.5.0",
      "_model_name": "ProgressStyleModel",
      "_view_count": null,
      "_view_module": "@jupyter-widgets/base",
      "_view_module_version": "1.2.0",
      "_view_name": "StyleView",
      "bar_color": null,
      "description_width": ""
     }
    },
    "76cf842266cf4cbab9775d75345e3efc": {
     "model_module": "@jupyter-widgets/base",
     "model_module_version": "1.2.0",
     "model_name": "LayoutModel",
     "state": {
      "_model_module": "@jupyter-widgets/base",
      "_model_module_version": "1.2.0",
      "_model_name": "LayoutModel",
      "_view_count": null,
      "_view_module": "@jupyter-widgets/base",
      "_view_module_version": "1.2.0",
      "_view_name": "LayoutView",
      "align_content": null,
      "align_items": null,
      "align_self": null,
      "border": null,
      "bottom": null,
      "display": null,
      "flex": null,
      "flex_flow": null,
      "grid_area": null,
      "grid_auto_columns": null,
      "grid_auto_flow": null,
      "grid_auto_rows": null,
      "grid_column": null,
      "grid_gap": null,
      "grid_row": null,
      "grid_template_areas": null,
      "grid_template_columns": null,
      "grid_template_rows": null,
      "height": null,
      "justify_content": null,
      "justify_items": null,
      "left": null,
      "margin": null,
      "max_height": null,
      "max_width": null,
      "min_height": null,
      "min_width": null,
      "object_fit": null,
      "object_position": null,
      "order": null,
      "overflow": null,
      "overflow_x": null,
      "overflow_y": null,
      "padding": null,
      "right": null,
      "top": null,
      "visibility": null,
      "width": null
     }
    },
    "788422b4f3924b63b47b5477c32fca2e": {
     "model_module": "@jupyter-widgets/controls",
     "model_module_version": "1.5.0",
     "model_name": "HBoxModel",
     "state": {
      "_dom_classes": [],
      "_model_module": "@jupyter-widgets/controls",
      "_model_module_version": "1.5.0",
      "_model_name": "HBoxModel",
      "_view_count": null,
      "_view_module": "@jupyter-widgets/controls",
      "_view_module_version": "1.5.0",
      "_view_name": "HBoxView",
      "box_style": "",
      "children": [
       "IPY_MODEL_a3f8dbcbca064a1a9c29b2a6ea31bd45",
       "IPY_MODEL_66dce72f36b04a438edd2d9c92a9e042",
       "IPY_MODEL_c7800cbc6d0d49ff8b1c750cdf7c6e75"
      ],
      "layout": "IPY_MODEL_b863a3c10c864ffbbd82a3713acecf57"
     }
    },
    "7dfe9aa1ef154350a22787fc96d445a5": {
     "model_module": "@jupyter-widgets/controls",
     "model_module_version": "1.5.0",
     "model_name": "DescriptionStyleModel",
     "state": {
      "_model_module": "@jupyter-widgets/controls",
      "_model_module_version": "1.5.0",
      "_model_name": "DescriptionStyleModel",
      "_view_count": null,
      "_view_module": "@jupyter-widgets/base",
      "_view_module_version": "1.2.0",
      "_view_name": "StyleView",
      "description_width": ""
     }
    },
    "7e96c4be4c0f4d45a0678cdd15829447": {
     "model_module": "@jupyter-widgets/base",
     "model_module_version": "1.2.0",
     "model_name": "LayoutModel",
     "state": {
      "_model_module": "@jupyter-widgets/base",
      "_model_module_version": "1.2.0",
      "_model_name": "LayoutModel",
      "_view_count": null,
      "_view_module": "@jupyter-widgets/base",
      "_view_module_version": "1.2.0",
      "_view_name": "LayoutView",
      "align_content": null,
      "align_items": null,
      "align_self": null,
      "border": null,
      "bottom": null,
      "display": null,
      "flex": null,
      "flex_flow": null,
      "grid_area": null,
      "grid_auto_columns": null,
      "grid_auto_flow": null,
      "grid_auto_rows": null,
      "grid_column": null,
      "grid_gap": null,
      "grid_row": null,
      "grid_template_areas": null,
      "grid_template_columns": null,
      "grid_template_rows": null,
      "height": null,
      "justify_content": null,
      "justify_items": null,
      "left": null,
      "margin": null,
      "max_height": null,
      "max_width": null,
      "min_height": null,
      "min_width": null,
      "object_fit": null,
      "object_position": null,
      "order": null,
      "overflow": null,
      "overflow_x": null,
      "overflow_y": null,
      "padding": null,
      "right": null,
      "top": null,
      "visibility": null,
      "width": null
     }
    },
    "86dd94d6050143c6a0d879a9585942fd": {
     "model_module": "@jupyter-widgets/base",
     "model_module_version": "1.2.0",
     "model_name": "LayoutModel",
     "state": {
      "_model_module": "@jupyter-widgets/base",
      "_model_module_version": "1.2.0",
      "_model_name": "LayoutModel",
      "_view_count": null,
      "_view_module": "@jupyter-widgets/base",
      "_view_module_version": "1.2.0",
      "_view_name": "LayoutView",
      "align_content": null,
      "align_items": null,
      "align_self": null,
      "border": null,
      "bottom": null,
      "display": null,
      "flex": null,
      "flex_flow": null,
      "grid_area": null,
      "grid_auto_columns": null,
      "grid_auto_flow": null,
      "grid_auto_rows": null,
      "grid_column": null,
      "grid_gap": null,
      "grid_row": null,
      "grid_template_areas": null,
      "grid_template_columns": null,
      "grid_template_rows": null,
      "height": null,
      "justify_content": null,
      "justify_items": null,
      "left": null,
      "margin": null,
      "max_height": null,
      "max_width": null,
      "min_height": null,
      "min_width": null,
      "object_fit": null,
      "object_position": null,
      "order": null,
      "overflow": null,
      "overflow_x": null,
      "overflow_y": null,
      "padding": null,
      "right": null,
      "top": null,
      "visibility": null,
      "width": null
     }
    },
    "89251a4d93724794ad69e8e7f48c8937": {
     "model_module": "@jupyter-widgets/controls",
     "model_module_version": "1.5.0",
     "model_name": "DescriptionStyleModel",
     "state": {
      "_model_module": "@jupyter-widgets/controls",
      "_model_module_version": "1.5.0",
      "_model_name": "DescriptionStyleModel",
      "_view_count": null,
      "_view_module": "@jupyter-widgets/base",
      "_view_module_version": "1.2.0",
      "_view_name": "StyleView",
      "description_width": ""
     }
    },
    "8b7a38ed2f5e4cf8ba097c701155bee2": {
     "model_module": "@jupyter-widgets/controls",
     "model_module_version": "1.5.0",
     "model_name": "HBoxModel",
     "state": {
      "_dom_classes": [],
      "_model_module": "@jupyter-widgets/controls",
      "_model_module_version": "1.5.0",
      "_model_name": "HBoxModel",
      "_view_count": null,
      "_view_module": "@jupyter-widgets/controls",
      "_view_module_version": "1.5.0",
      "_view_name": "HBoxView",
      "box_style": "",
      "children": [
       "IPY_MODEL_a13b9b3f3be44fc8b8d445858df2da3f",
       "IPY_MODEL_b72633ea7790462c8368590e6fb1d368",
       "IPY_MODEL_e5bccbc4d32147049b88e018a9a99a64"
      ],
      "layout": "IPY_MODEL_a950ddfc0c8a457ba55e479850edfdf1"
     }
    },
    "93507b817ebf4b588f9a71be410aa3b2": {
     "model_module": "@jupyter-widgets/base",
     "model_module_version": "1.2.0",
     "model_name": "LayoutModel",
     "state": {
      "_model_module": "@jupyter-widgets/base",
      "_model_module_version": "1.2.0",
      "_model_name": "LayoutModel",
      "_view_count": null,
      "_view_module": "@jupyter-widgets/base",
      "_view_module_version": "1.2.0",
      "_view_name": "LayoutView",
      "align_content": null,
      "align_items": null,
      "align_self": null,
      "border": null,
      "bottom": null,
      "display": null,
      "flex": null,
      "flex_flow": null,
      "grid_area": null,
      "grid_auto_columns": null,
      "grid_auto_flow": null,
      "grid_auto_rows": null,
      "grid_column": null,
      "grid_gap": null,
      "grid_row": null,
      "grid_template_areas": null,
      "grid_template_columns": null,
      "grid_template_rows": null,
      "height": null,
      "justify_content": null,
      "justify_items": null,
      "left": null,
      "margin": null,
      "max_height": null,
      "max_width": null,
      "min_height": null,
      "min_width": null,
      "object_fit": null,
      "object_position": null,
      "order": null,
      "overflow": null,
      "overflow_x": null,
      "overflow_y": null,
      "padding": null,
      "right": null,
      "top": null,
      "visibility": null,
      "width": null
     }
    },
    "99753c49f3cc41068501d21e4a2ad8c3": {
     "model_module": "@jupyter-widgets/controls",
     "model_module_version": "1.5.0",
     "model_name": "DescriptionStyleModel",
     "state": {
      "_model_module": "@jupyter-widgets/controls",
      "_model_module_version": "1.5.0",
      "_model_name": "DescriptionStyleModel",
      "_view_count": null,
      "_view_module": "@jupyter-widgets/base",
      "_view_module_version": "1.2.0",
      "_view_name": "StyleView",
      "description_width": ""
     }
    },
    "9e6c31e935d14e5a8f2e5f3eadcbce41": {
     "model_module": "@jupyter-widgets/base",
     "model_module_version": "1.2.0",
     "model_name": "LayoutModel",
     "state": {
      "_model_module": "@jupyter-widgets/base",
      "_model_module_version": "1.2.0",
      "_model_name": "LayoutModel",
      "_view_count": null,
      "_view_module": "@jupyter-widgets/base",
      "_view_module_version": "1.2.0",
      "_view_name": "LayoutView",
      "align_content": null,
      "align_items": null,
      "align_self": null,
      "border": null,
      "bottom": null,
      "display": null,
      "flex": null,
      "flex_flow": null,
      "grid_area": null,
      "grid_auto_columns": null,
      "grid_auto_flow": null,
      "grid_auto_rows": null,
      "grid_column": null,
      "grid_gap": null,
      "grid_row": null,
      "grid_template_areas": null,
      "grid_template_columns": null,
      "grid_template_rows": null,
      "height": null,
      "justify_content": null,
      "justify_items": null,
      "left": null,
      "margin": null,
      "max_height": null,
      "max_width": null,
      "min_height": null,
      "min_width": null,
      "object_fit": null,
      "object_position": null,
      "order": null,
      "overflow": null,
      "overflow_x": null,
      "overflow_y": null,
      "padding": null,
      "right": null,
      "top": null,
      "visibility": null,
      "width": null
     }
    },
    "9ec30a86d61b4a82ae0f0b006b523bcf": {
     "model_module": "@jupyter-widgets/controls",
     "model_module_version": "1.5.0",
     "model_name": "ProgressStyleModel",
     "state": {
      "_model_module": "@jupyter-widgets/controls",
      "_model_module_version": "1.5.0",
      "_model_name": "ProgressStyleModel",
      "_view_count": null,
      "_view_module": "@jupyter-widgets/base",
      "_view_module_version": "1.2.0",
      "_view_name": "StyleView",
      "bar_color": null,
      "description_width": ""
     }
    },
    "a0b19559b450470dbb99495cf11243c0": {
     "model_module": "@jupyter-widgets/base",
     "model_module_version": "1.2.0",
     "model_name": "LayoutModel",
     "state": {
      "_model_module": "@jupyter-widgets/base",
      "_model_module_version": "1.2.0",
      "_model_name": "LayoutModel",
      "_view_count": null,
      "_view_module": "@jupyter-widgets/base",
      "_view_module_version": "1.2.0",
      "_view_name": "LayoutView",
      "align_content": null,
      "align_items": null,
      "align_self": null,
      "border": null,
      "bottom": null,
      "display": null,
      "flex": null,
      "flex_flow": null,
      "grid_area": null,
      "grid_auto_columns": null,
      "grid_auto_flow": null,
      "grid_auto_rows": null,
      "grid_column": null,
      "grid_gap": null,
      "grid_row": null,
      "grid_template_areas": null,
      "grid_template_columns": null,
      "grid_template_rows": null,
      "height": null,
      "justify_content": null,
      "justify_items": null,
      "left": null,
      "margin": null,
      "max_height": null,
      "max_width": null,
      "min_height": null,
      "min_width": null,
      "object_fit": null,
      "object_position": null,
      "order": null,
      "overflow": null,
      "overflow_x": null,
      "overflow_y": null,
      "padding": null,
      "right": null,
      "top": null,
      "visibility": null,
      "width": null
     }
    },
    "a104123eada24cb4b8baf44622feb6a8": {
     "model_module": "@jupyter-widgets/controls",
     "model_module_version": "1.5.0",
     "model_name": "DescriptionStyleModel",
     "state": {
      "_model_module": "@jupyter-widgets/controls",
      "_model_module_version": "1.5.0",
      "_model_name": "DescriptionStyleModel",
      "_view_count": null,
      "_view_module": "@jupyter-widgets/base",
      "_view_module_version": "1.2.0",
      "_view_name": "StyleView",
      "description_width": ""
     }
    },
    "a13b9b3f3be44fc8b8d445858df2da3f": {
     "model_module": "@jupyter-widgets/controls",
     "model_module_version": "1.5.0",
     "model_name": "HTMLModel",
     "state": {
      "_dom_classes": [],
      "_model_module": "@jupyter-widgets/controls",
      "_model_module_version": "1.5.0",
      "_model_name": "HTMLModel",
      "_view_count": null,
      "_view_module": "@jupyter-widgets/controls",
      "_view_module_version": "1.5.0",
      "_view_name": "HTMLView",
      "description": "",
      "description_tooltip": null,
      "layout": "IPY_MODEL_a0b19559b450470dbb99495cf11243c0",
      "placeholder": "​",
      "style": "IPY_MODEL_410169d8d1944448897b6aa5fcda1a9f",
      "value": "Downloading special_tokens_map.json: 100%"
     }
    },
    "a3f8dbcbca064a1a9c29b2a6ea31bd45": {
     "model_module": "@jupyter-widgets/controls",
     "model_module_version": "1.5.0",
     "model_name": "HTMLModel",
     "state": {
      "_dom_classes": [],
      "_model_module": "@jupyter-widgets/controls",
      "_model_module_version": "1.5.0",
      "_model_name": "HTMLModel",
      "_view_count": null,
      "_view_module": "@jupyter-widgets/controls",
      "_view_module_version": "1.5.0",
      "_view_name": "HTMLView",
      "description": "",
      "description_tooltip": null,
      "layout": "IPY_MODEL_ef52e0cc35b3460d8fe6f098e5123de1",
      "placeholder": "​",
      "style": "IPY_MODEL_3bc89f134fe2430e8a223995855f8d49",
      "value": "Downloading tokenizer_config.json: 100%"
     }
    },
    "a950ddfc0c8a457ba55e479850edfdf1": {
     "model_module": "@jupyter-widgets/base",
     "model_module_version": "1.2.0",
     "model_name": "LayoutModel",
     "state": {
      "_model_module": "@jupyter-widgets/base",
      "_model_module_version": "1.2.0",
      "_model_name": "LayoutModel",
      "_view_count": null,
      "_view_module": "@jupyter-widgets/base",
      "_view_module_version": "1.2.0",
      "_view_name": "LayoutView",
      "align_content": null,
      "align_items": null,
      "align_self": null,
      "border": null,
      "bottom": null,
      "display": null,
      "flex": null,
      "flex_flow": null,
      "grid_area": null,
      "grid_auto_columns": null,
      "grid_auto_flow": null,
      "grid_auto_rows": null,
      "grid_column": null,
      "grid_gap": null,
      "grid_row": null,
      "grid_template_areas": null,
      "grid_template_columns": null,
      "grid_template_rows": null,
      "height": null,
      "justify_content": null,
      "justify_items": null,
      "left": null,
      "margin": null,
      "max_height": null,
      "max_width": null,
      "min_height": null,
      "min_width": null,
      "object_fit": null,
      "object_position": null,
      "order": null,
      "overflow": null,
      "overflow_x": null,
      "overflow_y": null,
      "padding": null,
      "right": null,
      "top": null,
      "visibility": null,
      "width": null
     }
    },
    "b39b95304a14484a8686f18d1456f3ca": {
     "model_module": "@jupyter-widgets/controls",
     "model_module_version": "1.5.0",
     "model_name": "ProgressStyleModel",
     "state": {
      "_model_module": "@jupyter-widgets/controls",
      "_model_module_version": "1.5.0",
      "_model_name": "ProgressStyleModel",
      "_view_count": null,
      "_view_module": "@jupyter-widgets/base",
      "_view_module_version": "1.2.0",
      "_view_name": "StyleView",
      "bar_color": null,
      "description_width": ""
     }
    },
    "b3b49ebf809d4e4680a2c6d0c9ffa6c4": {
     "model_module": "@jupyter-widgets/base",
     "model_module_version": "1.2.0",
     "model_name": "LayoutModel",
     "state": {
      "_model_module": "@jupyter-widgets/base",
      "_model_module_version": "1.2.0",
      "_model_name": "LayoutModel",
      "_view_count": null,
      "_view_module": "@jupyter-widgets/base",
      "_view_module_version": "1.2.0",
      "_view_name": "LayoutView",
      "align_content": null,
      "align_items": null,
      "align_self": null,
      "border": null,
      "bottom": null,
      "display": null,
      "flex": null,
      "flex_flow": null,
      "grid_area": null,
      "grid_auto_columns": null,
      "grid_auto_flow": null,
      "grid_auto_rows": null,
      "grid_column": null,
      "grid_gap": null,
      "grid_row": null,
      "grid_template_areas": null,
      "grid_template_columns": null,
      "grid_template_rows": null,
      "height": null,
      "justify_content": null,
      "justify_items": null,
      "left": null,
      "margin": null,
      "max_height": null,
      "max_width": null,
      "min_height": null,
      "min_width": null,
      "object_fit": null,
      "object_position": null,
      "order": null,
      "overflow": null,
      "overflow_x": null,
      "overflow_y": null,
      "padding": null,
      "right": null,
      "top": null,
      "visibility": null,
      "width": null
     }
    },
    "b72633ea7790462c8368590e6fb1d368": {
     "model_module": "@jupyter-widgets/controls",
     "model_module_version": "1.5.0",
     "model_name": "FloatProgressModel",
     "state": {
      "_dom_classes": [],
      "_model_module": "@jupyter-widgets/controls",
      "_model_module_version": "1.5.0",
      "_model_name": "FloatProgressModel",
      "_view_count": null,
      "_view_module": "@jupyter-widgets/controls",
      "_view_module_version": "1.5.0",
      "_view_name": "ProgressView",
      "bar_style": "success",
      "description": "",
      "description_tooltip": null,
      "layout": "IPY_MODEL_cb2ca8f0a77d4808a24df92f75e79df2",
      "max": 112,
      "min": 0,
      "orientation": "horizontal",
      "style": "IPY_MODEL_b39b95304a14484a8686f18d1456f3ca",
      "value": 112
     }
    },
    "b863a3c10c864ffbbd82a3713acecf57": {
     "model_module": "@jupyter-widgets/base",
     "model_module_version": "1.2.0",
     "model_name": "LayoutModel",
     "state": {
      "_model_module": "@jupyter-widgets/base",
      "_model_module_version": "1.2.0",
      "_model_name": "LayoutModel",
      "_view_count": null,
      "_view_module": "@jupyter-widgets/base",
      "_view_module_version": "1.2.0",
      "_view_name": "LayoutView",
      "align_content": null,
      "align_items": null,
      "align_self": null,
      "border": null,
      "bottom": null,
      "display": null,
      "flex": null,
      "flex_flow": null,
      "grid_area": null,
      "grid_auto_columns": null,
      "grid_auto_flow": null,
      "grid_auto_rows": null,
      "grid_column": null,
      "grid_gap": null,
      "grid_row": null,
      "grid_template_areas": null,
      "grid_template_columns": null,
      "grid_template_rows": null,
      "height": null,
      "justify_content": null,
      "justify_items": null,
      "left": null,
      "margin": null,
      "max_height": null,
      "max_width": null,
      "min_height": null,
      "min_width": null,
      "object_fit": null,
      "object_position": null,
      "order": null,
      "overflow": null,
      "overflow_x": null,
      "overflow_y": null,
      "padding": null,
      "right": null,
      "top": null,
      "visibility": null,
      "width": null
     }
    },
    "c7800cbc6d0d49ff8b1c750cdf7c6e75": {
     "model_module": "@jupyter-widgets/controls",
     "model_module_version": "1.5.0",
     "model_name": "HTMLModel",
     "state": {
      "_dom_classes": [],
      "_model_module": "@jupyter-widgets/controls",
      "_model_module_version": "1.5.0",
      "_model_name": "HTMLModel",
      "_view_count": null,
      "_view_module": "@jupyter-widgets/controls",
      "_view_module_version": "1.5.0",
      "_view_name": "HTMLView",
      "description": "",
      "description_tooltip": null,
      "layout": "IPY_MODEL_ef7a920f51674a00bfe8bbf5749a5cd7",
      "placeholder": "​",
      "style": "IPY_MODEL_d80043a52974472996ff6530f4a874a7",
      "value": " 174/174 [00:00&lt;00:00, 2.07kB/s]"
     }
    },
    "cb2ca8f0a77d4808a24df92f75e79df2": {
     "model_module": "@jupyter-widgets/base",
     "model_module_version": "1.2.0",
     "model_name": "LayoutModel",
     "state": {
      "_model_module": "@jupyter-widgets/base",
      "_model_module_version": "1.2.0",
      "_model_name": "LayoutModel",
      "_view_count": null,
      "_view_module": "@jupyter-widgets/base",
      "_view_module_version": "1.2.0",
      "_view_name": "LayoutView",
      "align_content": null,
      "align_items": null,
      "align_self": null,
      "border": null,
      "bottom": null,
      "display": null,
      "flex": null,
      "flex_flow": null,
      "grid_area": null,
      "grid_auto_columns": null,
      "grid_auto_flow": null,
      "grid_auto_rows": null,
      "grid_column": null,
      "grid_gap": null,
      "grid_row": null,
      "grid_template_areas": null,
      "grid_template_columns": null,
      "grid_template_rows": null,
      "height": null,
      "justify_content": null,
      "justify_items": null,
      "left": null,
      "margin": null,
      "max_height": null,
      "max_width": null,
      "min_height": null,
      "min_width": null,
      "object_fit": null,
      "object_position": null,
      "order": null,
      "overflow": null,
      "overflow_x": null,
      "overflow_y": null,
      "padding": null,
      "right": null,
      "top": null,
      "visibility": null,
      "width": null
     }
    },
    "d120e71df69e44f7828d6510a8a74334": {
     "model_module": "@jupyter-widgets/base",
     "model_module_version": "1.2.0",
     "model_name": "LayoutModel",
     "state": {
      "_model_module": "@jupyter-widgets/base",
      "_model_module_version": "1.2.0",
      "_model_name": "LayoutModel",
      "_view_count": null,
      "_view_module": "@jupyter-widgets/base",
      "_view_module_version": "1.2.0",
      "_view_name": "LayoutView",
      "align_content": null,
      "align_items": null,
      "align_self": null,
      "border": null,
      "bottom": null,
      "display": null,
      "flex": null,
      "flex_flow": null,
      "grid_area": null,
      "grid_auto_columns": null,
      "grid_auto_flow": null,
      "grid_auto_rows": null,
      "grid_column": null,
      "grid_gap": null,
      "grid_row": null,
      "grid_template_areas": null,
      "grid_template_columns": null,
      "grid_template_rows": null,
      "height": null,
      "justify_content": null,
      "justify_items": null,
      "left": null,
      "margin": null,
      "max_height": null,
      "max_width": null,
      "min_height": null,
      "min_width": null,
      "object_fit": null,
      "object_position": null,
      "order": null,
      "overflow": null,
      "overflow_x": null,
      "overflow_y": null,
      "padding": null,
      "right": null,
      "top": null,
      "visibility": null,
      "width": null
     }
    },
    "d3cb617b207946a09ee420baa9300056": {
     "model_module": "@jupyter-widgets/controls",
     "model_module_version": "1.5.0",
     "model_name": "HBoxModel",
     "state": {
      "_dom_classes": [],
      "_model_module": "@jupyter-widgets/controls",
      "_model_module_version": "1.5.0",
      "_model_name": "HBoxModel",
      "_view_count": null,
      "_view_module": "@jupyter-widgets/controls",
      "_view_module_version": "1.5.0",
      "_view_name": "HBoxView",
      "box_style": "",
      "children": [
       "IPY_MODEL_dff9c3fe7b374360bce6155f22390338",
       "IPY_MODEL_e56f38e05f2e4e7185032a86d38b4c0e",
       "IPY_MODEL_1cc14f429da34fefa0a781028ce87b3a"
      ],
      "layout": "IPY_MODEL_93507b817ebf4b588f9a71be410aa3b2"
     }
    },
    "d80043a52974472996ff6530f4a874a7": {
     "model_module": "@jupyter-widgets/controls",
     "model_module_version": "1.5.0",
     "model_name": "DescriptionStyleModel",
     "state": {
      "_model_module": "@jupyter-widgets/controls",
      "_model_module_version": "1.5.0",
      "_model_name": "DescriptionStyleModel",
      "_view_count": null,
      "_view_module": "@jupyter-widgets/base",
      "_view_module_version": "1.2.0",
      "_view_name": "StyleView",
      "description_width": ""
     }
    },
    "dff9c3fe7b374360bce6155f22390338": {
     "model_module": "@jupyter-widgets/controls",
     "model_module_version": "1.5.0",
     "model_name": "HTMLModel",
     "state": {
      "_dom_classes": [],
      "_model_module": "@jupyter-widgets/controls",
      "_model_module_version": "1.5.0",
      "_model_name": "HTMLModel",
      "_view_count": null,
      "_view_module": "@jupyter-widgets/controls",
      "_view_module_version": "1.5.0",
      "_view_name": "HTMLView",
      "description": "",
      "description_tooltip": null,
      "layout": "IPY_MODEL_6b6d37cee75649b78eca92f1a6390f56",
      "placeholder": "​",
      "style": "IPY_MODEL_1be5565706704ef1b8d5ef6ad514deda",
      "value": "Downloading config.json: 100%"
     }
    },
    "e56f38e05f2e4e7185032a86d38b4c0e": {
     "model_module": "@jupyter-widgets/controls",
     "model_module_version": "1.5.0",
     "model_name": "FloatProgressModel",
     "state": {
      "_dom_classes": [],
      "_model_module": "@jupyter-widgets/controls",
      "_model_module_version": "1.5.0",
      "_model_name": "FloatProgressModel",
      "_view_count": null,
      "_view_module": "@jupyter-widgets/controls",
      "_view_module_version": "1.5.0",
      "_view_name": "ProgressView",
      "bar_style": "success",
      "description": "",
      "description_tooltip": null,
      "layout": "IPY_MODEL_86dd94d6050143c6a0d879a9585942fd",
      "max": 811,
      "min": 0,
      "orientation": "horizontal",
      "style": "IPY_MODEL_ef591a61096f4eb8b683f2fc6d517919",
      "value": 811
     }
    },
    "e5bccbc4d32147049b88e018a9a99a64": {
     "model_module": "@jupyter-widgets/controls",
     "model_module_version": "1.5.0",
     "model_name": "HTMLModel",
     "state": {
      "_dom_classes": [],
      "_model_module": "@jupyter-widgets/controls",
      "_model_module_version": "1.5.0",
      "_model_name": "HTMLModel",
      "_view_count": null,
      "_view_module": "@jupyter-widgets/controls",
      "_view_module_version": "1.5.0",
      "_view_name": "HTMLView",
      "description": "",
      "description_tooltip": null,
      "layout": "IPY_MODEL_1da4f4c95cc042459f1642a1a2d221b8",
      "placeholder": "​",
      "style": "IPY_MODEL_7dfe9aa1ef154350a22787fc96d445a5",
      "value": " 112/112 [00:00&lt;00:00, 1.24kB/s]"
     }
    },
    "ec946cc147f746fcbb64a3b196889ba7": {
     "model_module": "@jupyter-widgets/base",
     "model_module_version": "1.2.0",
     "model_name": "LayoutModel",
     "state": {
      "_model_module": "@jupyter-widgets/base",
      "_model_module_version": "1.2.0",
      "_model_name": "LayoutModel",
      "_view_count": null,
      "_view_module": "@jupyter-widgets/base",
      "_view_module_version": "1.2.0",
      "_view_name": "LayoutView",
      "align_content": null,
      "align_items": null,
      "align_self": null,
      "border": null,
      "bottom": null,
      "display": null,
      "flex": null,
      "flex_flow": null,
      "grid_area": null,
      "grid_auto_columns": null,
      "grid_auto_flow": null,
      "grid_auto_rows": null,
      "grid_column": null,
      "grid_gap": null,
      "grid_row": null,
      "grid_template_areas": null,
      "grid_template_columns": null,
      "grid_template_rows": null,
      "height": null,
      "justify_content": null,
      "justify_items": null,
      "left": null,
      "margin": null,
      "max_height": null,
      "max_width": null,
      "min_height": null,
      "min_width": null,
      "object_fit": null,
      "object_position": null,
      "order": null,
      "overflow": null,
      "overflow_x": null,
      "overflow_y": null,
      "padding": null,
      "right": null,
      "top": null,
      "visibility": null,
      "width": null
     }
    },
    "ef52e0cc35b3460d8fe6f098e5123de1": {
     "model_module": "@jupyter-widgets/base",
     "model_module_version": "1.2.0",
     "model_name": "LayoutModel",
     "state": {
      "_model_module": "@jupyter-widgets/base",
      "_model_module_version": "1.2.0",
      "_model_name": "LayoutModel",
      "_view_count": null,
      "_view_module": "@jupyter-widgets/base",
      "_view_module_version": "1.2.0",
      "_view_name": "LayoutView",
      "align_content": null,
      "align_items": null,
      "align_self": null,
      "border": null,
      "bottom": null,
      "display": null,
      "flex": null,
      "flex_flow": null,
      "grid_area": null,
      "grid_auto_columns": null,
      "grid_auto_flow": null,
      "grid_auto_rows": null,
      "grid_column": null,
      "grid_gap": null,
      "grid_row": null,
      "grid_template_areas": null,
      "grid_template_columns": null,
      "grid_template_rows": null,
      "height": null,
      "justify_content": null,
      "justify_items": null,
      "left": null,
      "margin": null,
      "max_height": null,
      "max_width": null,
      "min_height": null,
      "min_width": null,
      "object_fit": null,
      "object_position": null,
      "order": null,
      "overflow": null,
      "overflow_x": null,
      "overflow_y": null,
      "padding": null,
      "right": null,
      "top": null,
      "visibility": null,
      "width": null
     }
    },
    "ef591a61096f4eb8b683f2fc6d517919": {
     "model_module": "@jupyter-widgets/controls",
     "model_module_version": "1.5.0",
     "model_name": "ProgressStyleModel",
     "state": {
      "_model_module": "@jupyter-widgets/controls",
      "_model_module_version": "1.5.0",
      "_model_name": "ProgressStyleModel",
      "_view_count": null,
      "_view_module": "@jupyter-widgets/base",
      "_view_module_version": "1.2.0",
      "_view_name": "StyleView",
      "bar_color": null,
      "description_width": ""
     }
    },
    "ef7a920f51674a00bfe8bbf5749a5cd7": {
     "model_module": "@jupyter-widgets/base",
     "model_module_version": "1.2.0",
     "model_name": "LayoutModel",
     "state": {
      "_model_module": "@jupyter-widgets/base",
      "_model_module_version": "1.2.0",
      "_model_name": "LayoutModel",
      "_view_count": null,
      "_view_module": "@jupyter-widgets/base",
      "_view_module_version": "1.2.0",
      "_view_name": "LayoutView",
      "align_content": null,
      "align_items": null,
      "align_self": null,
      "border": null,
      "bottom": null,
      "display": null,
      "flex": null,
      "flex_flow": null,
      "grid_area": null,
      "grid_auto_columns": null,
      "grid_auto_flow": null,
      "grid_auto_rows": null,
      "grid_column": null,
      "grid_gap": null,
      "grid_row": null,
      "grid_template_areas": null,
      "grid_template_columns": null,
      "grid_template_rows": null,
      "height": null,
      "justify_content": null,
      "justify_items": null,
      "left": null,
      "margin": null,
      "max_height": null,
      "max_width": null,
      "min_height": null,
      "min_width": null,
      "object_fit": null,
      "object_position": null,
      "order": null,
      "overflow": null,
      "overflow_x": null,
      "overflow_y": null,
      "padding": null,
      "right": null,
      "top": null,
      "visibility": null,
      "width": null
     }
    },
    "f34c493d74c1495e9007e6937ee2b0f6": {
     "model_module": "@jupyter-widgets/base",
     "model_module_version": "1.2.0",
     "model_name": "LayoutModel",
     "state": {
      "_model_module": "@jupyter-widgets/base",
      "_model_module_version": "1.2.0",
      "_model_name": "LayoutModel",
      "_view_count": null,
      "_view_module": "@jupyter-widgets/base",
      "_view_module_version": "1.2.0",
      "_view_name": "LayoutView",
      "align_content": null,
      "align_items": null,
      "align_self": null,
      "border": null,
      "bottom": null,
      "display": null,
      "flex": null,
      "flex_flow": null,
      "grid_area": null,
      "grid_auto_columns": null,
      "grid_auto_flow": null,
      "grid_auto_rows": null,
      "grid_column": null,
      "grid_gap": null,
      "grid_row": null,
      "grid_template_areas": null,
      "grid_template_columns": null,
      "grid_template_rows": null,
      "height": null,
      "justify_content": null,
      "justify_items": null,
      "left": null,
      "margin": null,
      "max_height": null,
      "max_width": null,
      "min_height": null,
      "min_width": null,
      "object_fit": null,
      "object_position": null,
      "order": null,
      "overflow": null,
      "overflow_x": null,
      "overflow_y": null,
      "padding": null,
      "right": null,
      "top": null,
      "visibility": null,
      "width": null
     }
    }
   }
  }
 },
 "nbformat": 4,
 "nbformat_minor": 5
}

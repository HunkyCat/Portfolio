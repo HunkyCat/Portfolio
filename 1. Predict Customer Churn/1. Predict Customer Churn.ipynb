{
 "cells": [
  {
   "cell_type": "markdown",
   "id": "39a12986",
   "metadata": {
    "toc": true
   },
   "source": [
    "<h1>Содержание<span class=\"tocSkip\"></span></h1>\n",
    "<div class=\"toc\"><ul class=\"toc-item\"><li><span><a href=\"#Первичный-анализ-данных\" data-toc-modified-id=\"Первичный-анализ-данных-1\"><span class=\"toc-item-num\">1&nbsp;&nbsp;</span>Первичный анализ данных</a></span></li><li><span><a href=\"#Дальнейший-план\" data-toc-modified-id=\"Дальнейший-план-2\"><span class=\"toc-item-num\">2&nbsp;&nbsp;</span>Дальнейший план</a></span></li><li><span><a href=\"#Предобработка-данных\" data-toc-modified-id=\"Предобработка-данных-3\"><span class=\"toc-item-num\">3&nbsp;&nbsp;</span>Предобработка данных</a></span></li><li><span><a href=\"#Обучение-моделей\" data-toc-modified-id=\"Обучение-моделей-4\"><span class=\"toc-item-num\">4&nbsp;&nbsp;</span>Обучение моделей</a></span><ul class=\"toc-item\"><li><span><a href=\"#LogisticRegression\" data-toc-modified-id=\"LogisticRegression-4.1\"><span class=\"toc-item-num\">4.1&nbsp;&nbsp;</span><code>LogisticRegression</code></a></span></li><li><span><a href=\"#RandomForestClassifier\" data-toc-modified-id=\"RandomForestClassifier-4.2\"><span class=\"toc-item-num\">4.2&nbsp;&nbsp;</span><code>RandomForestClassifier</code></a></span></li><li><span><a href=\"#CatBoostClassifier\" data-toc-modified-id=\"CatBoostClassifier-4.3\"><span class=\"toc-item-num\">4.3&nbsp;&nbsp;</span><code>CatBoostClassifier</code></a></span></li><li><span><a href=\"#XGBClassifier\" data-toc-modified-id=\"XGBClassifier-4.4\"><span class=\"toc-item-num\">4.4&nbsp;&nbsp;</span><code>XGBClassifier</code></a></span></li><li><span><a href=\"#LGBMClassifier\" data-toc-modified-id=\"LGBMClassifier-4.5\"><span class=\"toc-item-num\">4.5&nbsp;&nbsp;</span><code>LGBMClassifier</code></a></span></li><li><span><a href=\"#Вывод\" data-toc-modified-id=\"Вывод-4.6\"><span class=\"toc-item-num\">4.6&nbsp;&nbsp;</span>Вывод</a></span></li></ul></li><li><span><a href=\"#Тестирование-модели\" data-toc-modified-id=\"Тестирование-модели-5\"><span class=\"toc-item-num\">5&nbsp;&nbsp;</span>Тестирование модели</a></span></li><li><span><a href=\"#Вывод\" data-toc-modified-id=\"Вывод-6\"><span class=\"toc-item-num\">6&nbsp;&nbsp;</span>Вывод</a></span></li><li><span><a href=\"#Отчет\" data-toc-modified-id=\"Отчет-7\"><span class=\"toc-item-num\">7&nbsp;&nbsp;</span>Отчет</a></span></li></ul></div>"
   ]
  },
  {
   "cell_type": "markdown",
   "id": "d4243923",
   "metadata": {},
   "source": [
    "# Прогнозирование оттока клиентов"
   ]
  },
  {
   "cell_type": "markdown",
   "id": "d0460cb2",
   "metadata": {},
   "source": [
    "Наш заказчик - оператор связи хочет научиться прогнозировать отток клиентов. Если выяснится, что пользователь планирует уйти, ему будут предложены промокоды и специальные условия. Команда оператора собрала персональные данные о некоторых клиентах, информацию об их тарифах и договорах.\n",
    "\n",
    "Оператор предоставляет два основных типа услуг: \n",
    "\n",
    "1. Стационарную телефонную связь\n",
    "2. Интернет\n",
    "\n",
    "**Цель исследования:** проанализировать данные и написать модель, которая сможет предсказывать, кто из клиентов, скорее всего, может уйти\n",
    "\n",
    "Для начала проведем первичный анализ данных, затем напишем план.\n",
    "\n",
    "В нашем распоряжении 4 файла:\n",
    "- `contract.csv` — информация о договоре;\n",
    "- `personal.csv` — персональные данные клиента;\n",
    "- `internet.csv` — информация об интернет-услугах;\n",
    "- `phone.csv` — информация об услугах телефонии\n",
    "\n",
    "Бизнес-метрика здесь — это убытки по двум направлениям: \n",
    "* Пользователю предложили промокоды, но он не собирался уходить (false positive)\n",
    "\n",
    "* Пользователю ничего не предложили и он ушёл (false negative)\n",
    "\n",
    "Так как величина промокода пока неизвестна, будет использоваться метрика, которая учитывает возможность балансировать между этими (false posititve и false negative) — `AUC-ROC`. В качестве дополнительной метрики также вычислим accuracy.\n",
    "\n",
    "`RANDOM_STATE = 120922`<br>\n",
    "Минимальные показатели `AUC-ROC` - 0.76"
   ]
  },
  {
   "cell_type": "markdown",
   "id": "06fab2ff",
   "metadata": {},
   "source": [
    "Для анализа дополнительно будем использовать `pandas-profiling` это позволит быстрее найти пропуски, аномалии, корреляции и т.п. если они есть (если смотреть на гитхабе, то не отобразиться, но там ничего интересного)) ):"
   ]
  },
  {
   "cell_type": "code",
   "execution_count": 2,
   "id": "4ab3afc2",
   "metadata": {},
   "outputs": [],
   "source": [
    "# base stuff\n",
    "import pandas as pd\n",
    "from pandas_profiling import ProfileReport\n",
    "import phik\n",
    "import plotly.express as px\n",
    "import optuna\n",
    "import matplotlib.pyplot  as plt\n",
    "from imblearn.over_sampling import SMOTE\n",
    "\n",
    "# sklearn\n",
    "from sklearn.model_selection import train_test_split\n",
    "from sklearn.linear_model import LogisticRegression\n",
    "from sklearn.metrics import roc_auc_score\n",
    "from sklearn.metrics import accuracy_score\n",
    "from sklearn.ensemble import RandomForestClassifier\n",
    "from sklearn.tree import DecisionTreeClassifier\n",
    "from sklearn.metrics import make_scorer\n",
    "from sklearn.model_selection import cross_val_score\n",
    "from sklearn.metrics import roc_curve \n",
    "from sklearn.preprocessing import OneHotEncoder\n",
    "from sklearn.utils import shuffle\n",
    "from sklearn.dummy import DummyClassifier\n",
    "\n",
    "# boosting\n",
    "from lightgbm import LGBMClassifier\n",
    "from catboost import Pool, CatBoostClassifier\n",
    "import xgboost as xgb\n",
    "from lightgbm import plot_importance"
   ]
  },
  {
   "cell_type": "markdown",
   "id": "99171b9a",
   "metadata": {},
   "source": [
    "`contract.csv`"
   ]
  },
  {
   "cell_type": "markdown",
   "id": "fbe79d99",
   "metadata": {},
   "source": [
    "## Первичный анализ данных"
   ]
  },
  {
   "cell_type": "code",
   "execution_count": 4,
   "id": "83d67f72",
   "metadata": {
    "scrolled": false
   },
   "outputs": [
    {
     "data": {
      "text/html": [
       "<div>\n",
       "<style scoped>\n",
       "    .dataframe tbody tr th:only-of-type {\n",
       "        vertical-align: middle;\n",
       "    }\n",
       "\n",
       "    .dataframe tbody tr th {\n",
       "        vertical-align: top;\n",
       "    }\n",
       "\n",
       "    .dataframe thead th {\n",
       "        text-align: right;\n",
       "    }\n",
       "</style>\n",
       "<table border=\"1\" class=\"dataframe\">\n",
       "  <thead>\n",
       "    <tr style=\"text-align: right;\">\n",
       "      <th></th>\n",
       "      <th>customerID</th>\n",
       "      <th>BeginDate</th>\n",
       "      <th>EndDate</th>\n",
       "      <th>Type</th>\n",
       "      <th>PaperlessBilling</th>\n",
       "      <th>PaymentMethod</th>\n",
       "      <th>MonthlyCharges</th>\n",
       "      <th>TotalCharges</th>\n",
       "    </tr>\n",
       "  </thead>\n",
       "  <tbody>\n",
       "    <tr>\n",
       "      <th>0</th>\n",
       "      <td>7590-VHVEG</td>\n",
       "      <td>2020-01-01</td>\n",
       "      <td>No</td>\n",
       "      <td>Month-to-month</td>\n",
       "      <td>Yes</td>\n",
       "      <td>Electronic check</td>\n",
       "      <td>29.85</td>\n",
       "      <td>29.85</td>\n",
       "    </tr>\n",
       "    <tr>\n",
       "      <th>1</th>\n",
       "      <td>5575-GNVDE</td>\n",
       "      <td>2017-04-01</td>\n",
       "      <td>No</td>\n",
       "      <td>One year</td>\n",
       "      <td>No</td>\n",
       "      <td>Mailed check</td>\n",
       "      <td>56.95</td>\n",
       "      <td>1889.5</td>\n",
       "    </tr>\n",
       "    <tr>\n",
       "      <th>2</th>\n",
       "      <td>3668-QPYBK</td>\n",
       "      <td>2019-10-01</td>\n",
       "      <td>2019-12-01 00:00:00</td>\n",
       "      <td>Month-to-month</td>\n",
       "      <td>Yes</td>\n",
       "      <td>Mailed check</td>\n",
       "      <td>53.85</td>\n",
       "      <td>108.15</td>\n",
       "    </tr>\n",
       "    <tr>\n",
       "      <th>3</th>\n",
       "      <td>7795-CFOCW</td>\n",
       "      <td>2016-05-01</td>\n",
       "      <td>No</td>\n",
       "      <td>One year</td>\n",
       "      <td>No</td>\n",
       "      <td>Bank transfer (automatic)</td>\n",
       "      <td>42.30</td>\n",
       "      <td>1840.75</td>\n",
       "    </tr>\n",
       "    <tr>\n",
       "      <th>4</th>\n",
       "      <td>9237-HQITU</td>\n",
       "      <td>2019-09-01</td>\n",
       "      <td>2019-11-01 00:00:00</td>\n",
       "      <td>Month-to-month</td>\n",
       "      <td>Yes</td>\n",
       "      <td>Electronic check</td>\n",
       "      <td>70.70</td>\n",
       "      <td>151.65</td>\n",
       "    </tr>\n",
       "  </tbody>\n",
       "</table>\n",
       "</div>"
      ],
      "text/plain": [
       "   customerID   BeginDate              EndDate            Type  \\\n",
       "0  7590-VHVEG  2020-01-01                   No  Month-to-month   \n",
       "1  5575-GNVDE  2017-04-01                   No        One year   \n",
       "2  3668-QPYBK  2019-10-01  2019-12-01 00:00:00  Month-to-month   \n",
       "3  7795-CFOCW  2016-05-01                   No        One year   \n",
       "4  9237-HQITU  2019-09-01  2019-11-01 00:00:00  Month-to-month   \n",
       "\n",
       "  PaperlessBilling              PaymentMethod  MonthlyCharges TotalCharges  \n",
       "0              Yes           Electronic check           29.85        29.85  \n",
       "1               No               Mailed check           56.95       1889.5  \n",
       "2              Yes               Mailed check           53.85       108.15  \n",
       "3               No  Bank transfer (automatic)           42.30      1840.75  \n",
       "4              Yes           Electronic check           70.70       151.65  "
      ]
     },
     "metadata": {},
     "output_type": "display_data"
    },
    {
     "name": "stdout",
     "output_type": "stream",
     "text": [
      "<class 'pandas.core.frame.DataFrame'>\n",
      "RangeIndex: 7043 entries, 0 to 7042\n",
      "Data columns (total 8 columns):\n",
      " #   Column            Non-Null Count  Dtype  \n",
      "---  ------            --------------  -----  \n",
      " 0   customerID        7043 non-null   object \n",
      " 1   BeginDate         7043 non-null   object \n",
      " 2   EndDate           7043 non-null   object \n",
      " 3   Type              7043 non-null   object \n",
      " 4   PaperlessBilling  7043 non-null   object \n",
      " 5   PaymentMethod     7043 non-null   object \n",
      " 6   MonthlyCharges    7043 non-null   float64\n",
      " 7   TotalCharges      7043 non-null   object \n",
      "dtypes: float64(1), object(7)\n",
      "memory usage: 440.3+ KB\n"
     ]
    }
   ],
   "source": [
    "contract = pd.read_csv('/datasets/final_provider/contract.csv')\n",
    "display(contract.head())\n",
    "contract.info()"
   ]
  },
  {
   "cell_type": "markdown",
   "id": "7cd15e86",
   "metadata": {},
   "source": [
    "Приведем `BeginDate` к нужному типу данных:"
   ]
  },
  {
   "cell_type": "code",
   "execution_count": 5,
   "id": "70ee95b9",
   "metadata": {},
   "outputs": [],
   "source": [
    "contract[\"BeginDate\"] = pd.to_datetime(contract[\"BeginDate\"], errors=\"ignore\")"
   ]
  },
  {
   "cell_type": "markdown",
   "id": "3e288cb3",
   "metadata": {},
   "source": [
    "По какой-то причине тип значений в столбце `TotalCharges` - \"str\". Сменим его на \"float\""
   ]
  },
  {
   "cell_type": "code",
   "execution_count": 6,
   "id": "1a1648b9",
   "metadata": {
    "scrolled": true
   },
   "outputs": [],
   "source": [
    "contract['TotalCharges'] = pd.to_numeric(contract['TotalCharges'], errors = 'coerce')"
   ]
  },
  {
   "cell_type": "code",
   "execution_count": 7,
   "id": "43d9a1ff",
   "metadata": {
    "scrolled": false
   },
   "outputs": [
    {
     "data": {
      "text/html": [
       "<div>\n",
       "<style scoped>\n",
       "    .dataframe tbody tr th:only-of-type {\n",
       "        vertical-align: middle;\n",
       "    }\n",
       "\n",
       "    .dataframe tbody tr th {\n",
       "        vertical-align: top;\n",
       "    }\n",
       "\n",
       "    .dataframe thead th {\n",
       "        text-align: right;\n",
       "    }\n",
       "</style>\n",
       "<table border=\"1\" class=\"dataframe\">\n",
       "  <thead>\n",
       "    <tr style=\"text-align: right;\">\n",
       "      <th></th>\n",
       "      <th>customerID</th>\n",
       "      <th>BeginDate</th>\n",
       "      <th>EndDate</th>\n",
       "      <th>Type</th>\n",
       "      <th>PaperlessBilling</th>\n",
       "      <th>PaymentMethod</th>\n",
       "      <th>MonthlyCharges</th>\n",
       "      <th>TotalCharges</th>\n",
       "    </tr>\n",
       "  </thead>\n",
       "  <tbody>\n",
       "    <tr>\n",
       "      <th>488</th>\n",
       "      <td>4472-LVYGI</td>\n",
       "      <td>2020-02-01</td>\n",
       "      <td>No</td>\n",
       "      <td>Two year</td>\n",
       "      <td>Yes</td>\n",
       "      <td>Bank transfer (automatic)</td>\n",
       "      <td>52.55</td>\n",
       "      <td>NaN</td>\n",
       "    </tr>\n",
       "    <tr>\n",
       "      <th>753</th>\n",
       "      <td>3115-CZMZD</td>\n",
       "      <td>2020-02-01</td>\n",
       "      <td>No</td>\n",
       "      <td>Two year</td>\n",
       "      <td>No</td>\n",
       "      <td>Mailed check</td>\n",
       "      <td>20.25</td>\n",
       "      <td>NaN</td>\n",
       "    </tr>\n",
       "    <tr>\n",
       "      <th>936</th>\n",
       "      <td>5709-LVOEQ</td>\n",
       "      <td>2020-02-01</td>\n",
       "      <td>No</td>\n",
       "      <td>Two year</td>\n",
       "      <td>No</td>\n",
       "      <td>Mailed check</td>\n",
       "      <td>80.85</td>\n",
       "      <td>NaN</td>\n",
       "    </tr>\n",
       "    <tr>\n",
       "      <th>1082</th>\n",
       "      <td>4367-NUYAO</td>\n",
       "      <td>2020-02-01</td>\n",
       "      <td>No</td>\n",
       "      <td>Two year</td>\n",
       "      <td>No</td>\n",
       "      <td>Mailed check</td>\n",
       "      <td>25.75</td>\n",
       "      <td>NaN</td>\n",
       "    </tr>\n",
       "    <tr>\n",
       "      <th>1340</th>\n",
       "      <td>1371-DWPAZ</td>\n",
       "      <td>2020-02-01</td>\n",
       "      <td>No</td>\n",
       "      <td>Two year</td>\n",
       "      <td>No</td>\n",
       "      <td>Credit card (automatic)</td>\n",
       "      <td>56.05</td>\n",
       "      <td>NaN</td>\n",
       "    </tr>\n",
       "    <tr>\n",
       "      <th>3331</th>\n",
       "      <td>7644-OMVMY</td>\n",
       "      <td>2020-02-01</td>\n",
       "      <td>No</td>\n",
       "      <td>Two year</td>\n",
       "      <td>No</td>\n",
       "      <td>Mailed check</td>\n",
       "      <td>19.85</td>\n",
       "      <td>NaN</td>\n",
       "    </tr>\n",
       "    <tr>\n",
       "      <th>3826</th>\n",
       "      <td>3213-VVOLG</td>\n",
       "      <td>2020-02-01</td>\n",
       "      <td>No</td>\n",
       "      <td>Two year</td>\n",
       "      <td>No</td>\n",
       "      <td>Mailed check</td>\n",
       "      <td>25.35</td>\n",
       "      <td>NaN</td>\n",
       "    </tr>\n",
       "    <tr>\n",
       "      <th>4380</th>\n",
       "      <td>2520-SGTTA</td>\n",
       "      <td>2020-02-01</td>\n",
       "      <td>No</td>\n",
       "      <td>Two year</td>\n",
       "      <td>No</td>\n",
       "      <td>Mailed check</td>\n",
       "      <td>20.00</td>\n",
       "      <td>NaN</td>\n",
       "    </tr>\n",
       "    <tr>\n",
       "      <th>5218</th>\n",
       "      <td>2923-ARZLG</td>\n",
       "      <td>2020-02-01</td>\n",
       "      <td>No</td>\n",
       "      <td>One year</td>\n",
       "      <td>Yes</td>\n",
       "      <td>Mailed check</td>\n",
       "      <td>19.70</td>\n",
       "      <td>NaN</td>\n",
       "    </tr>\n",
       "    <tr>\n",
       "      <th>6670</th>\n",
       "      <td>4075-WKNIU</td>\n",
       "      <td>2020-02-01</td>\n",
       "      <td>No</td>\n",
       "      <td>Two year</td>\n",
       "      <td>No</td>\n",
       "      <td>Mailed check</td>\n",
       "      <td>73.35</td>\n",
       "      <td>NaN</td>\n",
       "    </tr>\n",
       "    <tr>\n",
       "      <th>6754</th>\n",
       "      <td>2775-SEFEE</td>\n",
       "      <td>2020-02-01</td>\n",
       "      <td>No</td>\n",
       "      <td>Two year</td>\n",
       "      <td>Yes</td>\n",
       "      <td>Bank transfer (automatic)</td>\n",
       "      <td>61.90</td>\n",
       "      <td>NaN</td>\n",
       "    </tr>\n",
       "  </tbody>\n",
       "</table>\n",
       "</div>"
      ],
      "text/plain": [
       "      customerID  BeginDate EndDate      Type PaperlessBilling  \\\n",
       "488   4472-LVYGI 2020-02-01      No  Two year              Yes   \n",
       "753   3115-CZMZD 2020-02-01      No  Two year               No   \n",
       "936   5709-LVOEQ 2020-02-01      No  Two year               No   \n",
       "1082  4367-NUYAO 2020-02-01      No  Two year               No   \n",
       "1340  1371-DWPAZ 2020-02-01      No  Two year               No   \n",
       "3331  7644-OMVMY 2020-02-01      No  Two year               No   \n",
       "3826  3213-VVOLG 2020-02-01      No  Two year               No   \n",
       "4380  2520-SGTTA 2020-02-01      No  Two year               No   \n",
       "5218  2923-ARZLG 2020-02-01      No  One year              Yes   \n",
       "6670  4075-WKNIU 2020-02-01      No  Two year               No   \n",
       "6754  2775-SEFEE 2020-02-01      No  Two year              Yes   \n",
       "\n",
       "                  PaymentMethod  MonthlyCharges  TotalCharges  \n",
       "488   Bank transfer (automatic)           52.55           NaN  \n",
       "753                Mailed check           20.25           NaN  \n",
       "936                Mailed check           80.85           NaN  \n",
       "1082               Mailed check           25.75           NaN  \n",
       "1340    Credit card (automatic)           56.05           NaN  \n",
       "3331               Mailed check           19.85           NaN  \n",
       "3826               Mailed check           25.35           NaN  \n",
       "4380               Mailed check           20.00           NaN  \n",
       "5218               Mailed check           19.70           NaN  \n",
       "6670               Mailed check           73.35           NaN  \n",
       "6754  Bank transfer (automatic)           61.90           NaN  "
      ]
     },
     "execution_count": 7,
     "metadata": {},
     "output_type": "execute_result"
    }
   ],
   "source": [
    "contract[contract['TotalCharges'].isna()]"
   ]
  },
  {
   "cell_type": "markdown",
   "id": "e1f98ee3",
   "metadata": {},
   "source": [
    "После преобразования в `TotalCharges` там где раньше было написано \"none\" теперь пропуски. Информация актуальна на 1 февраля 2020, поэтому общая сумма оплаты еще не указана. Но у нас есть данные о стоимости услуг за месяц и тип оплаты. Мы можем сами посчитать сколько выйдет общая сумма."
   ]
  },
  {
   "cell_type": "markdown",
   "id": "72ec923d",
   "metadata": {},
   "source": [
    "Для начала посчитаем сумму для оплаты раз в год, затем для оплаты раз в 2 года:"
   ]
  },
  {
   "cell_type": "code",
   "execution_count": 8,
   "id": "4ebbc9f8",
   "metadata": {},
   "outputs": [],
   "source": [
    "contract.iloc[5218] = contract.iloc[5218].fillna(contract.iloc[5218]['MonthlyCharges'] * 12)"
   ]
  },
  {
   "cell_type": "markdown",
   "id": "eec84530",
   "metadata": {},
   "source": [
    "Возьмем индексы строк с пропусками и заполним пропуски в `TotalCharges` значениями из `MonthlyCharges` умножеными на 24 (месяца):"
   ]
  },
  {
   "cell_type": "code",
   "execution_count": 9,
   "id": "6391e391",
   "metadata": {},
   "outputs": [],
   "source": [
    "for i in contract[contract['TotalCharges'].isna()].index:\n",
    "    contract.iloc[i] = contract.iloc[i].fillna(contract.iloc[i]['MonthlyCharges'] * 24) "
   ]
  },
  {
   "cell_type": "code",
   "execution_count": 10,
   "id": "d8b9bf55",
   "metadata": {
    "scrolled": true
   },
   "outputs": [
    {
     "data": {
      "text/html": [
       "<div>\n",
       "<style scoped>\n",
       "    .dataframe tbody tr th:only-of-type {\n",
       "        vertical-align: middle;\n",
       "    }\n",
       "\n",
       "    .dataframe tbody tr th {\n",
       "        vertical-align: top;\n",
       "    }\n",
       "\n",
       "    .dataframe thead th {\n",
       "        text-align: right;\n",
       "    }\n",
       "</style>\n",
       "<table border=\"1\" class=\"dataframe\">\n",
       "  <thead>\n",
       "    <tr style=\"text-align: right;\">\n",
       "      <th></th>\n",
       "      <th>customerID</th>\n",
       "      <th>BeginDate</th>\n",
       "      <th>EndDate</th>\n",
       "      <th>Type</th>\n",
       "      <th>PaperlessBilling</th>\n",
       "      <th>PaymentMethod</th>\n",
       "      <th>MonthlyCharges</th>\n",
       "      <th>TotalCharges</th>\n",
       "    </tr>\n",
       "  </thead>\n",
       "  <tbody>\n",
       "  </tbody>\n",
       "</table>\n",
       "</div>"
      ],
      "text/plain": [
       "Empty DataFrame\n",
       "Columns: [customerID, BeginDate, EndDate, Type, PaperlessBilling, PaymentMethod, MonthlyCharges, TotalCharges]\n",
       "Index: []"
      ]
     },
     "metadata": {},
     "output_type": "display_data"
    },
    {
     "data": {
      "text/plain": [
       "customerID                         4472-LVYGI\n",
       "BeginDate                 2020-02-01 00:00:00\n",
       "EndDate                                    No\n",
       "Type                                 Two year\n",
       "PaperlessBilling                          Yes\n",
       "PaymentMethod       Bank transfer (automatic)\n",
       "MonthlyCharges                          52.55\n",
       "TotalCharges                           1261.2\n",
       "Name: 488, dtype: object"
      ]
     },
     "execution_count": 10,
     "metadata": {},
     "output_type": "execute_result"
    }
   ],
   "source": [
    "display(contract[contract['TotalCharges'].isna()])\n",
    "contract.iloc[488]"
   ]
  },
  {
   "cell_type": "markdown",
   "id": "41fafe14",
   "metadata": {},
   "source": [
    "Теперь взглянем как изменялось число клиентов со временем:"
   ]
  },
  {
   "cell_type": "code",
   "execution_count": 31,
   "id": "010556d8",
   "metadata": {},
   "outputs": [
    {
     "data": {
      "image/png": "[encoded data removed]"
     },
     "metadata": {},
     "output_type": "display_data"
    }
   ],
   "source": [
    "fig = px.histogram(contract, x='BeginDate')\n",
    "fig.update_layout(xaxis_title='Начало пользования услугами', yaxis_title='Кол-во пользователей',\n",
    "    title=\"Изменение числа клиентов со временем\")\n",
    "\n",
    "fig.show('png')"
   ]
  },
  {
   "cell_type": "markdown",
   "id": "f0bc0b5c",
   "metadata": {},
   "source": [
    "Похоже, что большой приток клиентов был, когда компания только открылась, затем рост снизился, но снова резко подскочил с августа по декабрь 2019, возможно была какая-нибудь акция, или удачная рекламная компания."
   ]
  },
  {
   "cell_type": "markdown",
   "id": "d9f82468",
   "metadata": {},
   "source": [
    "Теперь посмотрим когда ушло больше всего клиентов:"
   ]
  },
  {
   "cell_type": "code",
   "execution_count": 32,
   "id": "4862d70d",
   "metadata": {},
   "outputs": [
    {
     "data": {
      "image/png": "[encoded data removed]"
     },
     "metadata": {},
     "output_type": "display_data"
    }
   ],
   "source": [
    "fig = px.histogram(contract, x='EndDate', nbins=10)\n",
    "fig.update_layout(xaxis_title='Дата ухода клиента', yaxis_title='Кол-во пользователей',\n",
    "    title=\"Отток клиентов\")\n",
    "\n",
    "fig.show('png')"
   ]
  },
  {
   "cell_type": "markdown",
   "id": "541983e0",
   "metadata": {},
   "source": [
    "Все клиенты, которые ушли, сделали это с октрября 2019 по январь 2020. Выглядит странно, как-будто никто из клиентов за несколько лет так и не ушел, а потом они вдруг решили все вместе уйти в один месяц. Возможно это связанно с тем, как состоялвяется отчетность по ушедшим клиентам, возможно они ушли давно, но их посчитали только в этих месяцах."
   ]
  },
  {
   "cell_type": "markdown",
   "id": "d8a7ff67",
   "metadata": {},
   "source": [
    "Посмотрим на распределение месячного счета и сравним, сколько тратят клиенты с разными типами оплаты:"
   ]
  },
  {
   "cell_type": "code",
   "execution_count": 33,
   "id": "9b1f27e4",
   "metadata": {
    "scrolled": false
   },
   "outputs": [
    {
     "data": {
      "image/png": "[encoded data removed]"
     },
     "metadata": {},
     "output_type": "display_data"
    }
   ],
   "source": [
    "fig = px.histogram(contract, x='MonthlyCharges', color='Type', nbins=40)\n",
    "fig.update_layout(xaxis_title='Месячный счет', yaxis_title='Кол-во пользователей',\n",
    "    title=\"Распределение месячного счета для клиентов разного типа оплаты:\")\n",
    "\n",
    "fig.show('png')"
   ]
  },
  {
   "cell_type": "markdown",
   "id": "d46f85b9",
   "metadata": {},
   "source": [
    "Мы видим пик на показателях 18-25, дальше распределение более равномерное."
   ]
  },
  {
   "cell_type": "markdown",
   "id": "ed4ee6ee",
   "metadata": {},
   "source": [
    "Взглянем на распределение в `TotalCharges`:"
   ]
  },
  {
   "cell_type": "code",
   "execution_count": 34,
   "id": "69fd3426",
   "metadata": {},
   "outputs": [
    {
     "data": {
      "image/png": "[encoded data removed]"
     },
     "metadata": {},
     "output_type": "display_data"
    }
   ],
   "source": [
    "fig = px.histogram(contract, x='TotalCharges', color='Type')\n",
    "fig.update_layout(xaxis_title='Общий счет', yaxis_title='Кол-во пользователей',\n",
    "    title=\"Распределение общего счета для клиентов разного типа оплаты:\")\n",
    "\n",
    "fig.show('png')"
   ]
  },
  {
   "cell_type": "markdown",
   "id": "894567d4",
   "metadata": {},
   "source": [
    "Если взглянуть на распределение в `TotalCharges`, то видно, что большинство клиентов платят до 200. Похоже, что чем больше платит клиент, тем более вероятно, что тип оплаты будет либо \"раз в два года\", либо \"раз в год\"."
   ]
  },
  {
   "cell_type": "markdown",
   "id": "a1a0dc5c",
   "metadata": {},
   "source": [
    "`personal.csv`"
   ]
  },
  {
   "cell_type": "code",
   "execution_count": 15,
   "id": "86b6dfdf",
   "metadata": {
    "scrolled": true
   },
   "outputs": [
    {
     "data": {
      "text/html": [
       "<div>\n",
       "<style scoped>\n",
       "    .dataframe tbody tr th:only-of-type {\n",
       "        vertical-align: middle;\n",
       "    }\n",
       "\n",
       "    .dataframe tbody tr th {\n",
       "        vertical-align: top;\n",
       "    }\n",
       "\n",
       "    .dataframe thead th {\n",
       "        text-align: right;\n",
       "    }\n",
       "</style>\n",
       "<table border=\"1\" class=\"dataframe\">\n",
       "  <thead>\n",
       "    <tr style=\"text-align: right;\">\n",
       "      <th></th>\n",
       "      <th>customerID</th>\n",
       "      <th>gender</th>\n",
       "      <th>SeniorCitizen</th>\n",
       "      <th>Partner</th>\n",
       "      <th>Dependents</th>\n",
       "    </tr>\n",
       "  </thead>\n",
       "  <tbody>\n",
       "    <tr>\n",
       "      <th>0</th>\n",
       "      <td>7590-VHVEG</td>\n",
       "      <td>Female</td>\n",
       "      <td>0</td>\n",
       "      <td>Yes</td>\n",
       "      <td>No</td>\n",
       "    </tr>\n",
       "    <tr>\n",
       "      <th>1</th>\n",
       "      <td>5575-GNVDE</td>\n",
       "      <td>Male</td>\n",
       "      <td>0</td>\n",
       "      <td>No</td>\n",
       "      <td>No</td>\n",
       "    </tr>\n",
       "    <tr>\n",
       "      <th>2</th>\n",
       "      <td>3668-QPYBK</td>\n",
       "      <td>Male</td>\n",
       "      <td>0</td>\n",
       "      <td>No</td>\n",
       "      <td>No</td>\n",
       "    </tr>\n",
       "    <tr>\n",
       "      <th>3</th>\n",
       "      <td>7795-CFOCW</td>\n",
       "      <td>Male</td>\n",
       "      <td>0</td>\n",
       "      <td>No</td>\n",
       "      <td>No</td>\n",
       "    </tr>\n",
       "    <tr>\n",
       "      <th>4</th>\n",
       "      <td>9237-HQITU</td>\n",
       "      <td>Female</td>\n",
       "      <td>0</td>\n",
       "      <td>No</td>\n",
       "      <td>No</td>\n",
       "    </tr>\n",
       "  </tbody>\n",
       "</table>\n",
       "</div>"
      ],
      "text/plain": [
       "   customerID  gender  SeniorCitizen Partner Dependents\n",
       "0  7590-VHVEG  Female              0     Yes         No\n",
       "1  5575-GNVDE    Male              0      No         No\n",
       "2  3668-QPYBK    Male              0      No         No\n",
       "3  7795-CFOCW    Male              0      No         No\n",
       "4  9237-HQITU  Female              0      No         No"
      ]
     },
     "metadata": {},
     "output_type": "display_data"
    },
    {
     "name": "stdout",
     "output_type": "stream",
     "text": [
      "<class 'pandas.core.frame.DataFrame'>\n",
      "RangeIndex: 7043 entries, 0 to 7042\n",
      "Data columns (total 5 columns):\n",
      " #   Column         Non-Null Count  Dtype \n",
      "---  ------         --------------  ----- \n",
      " 0   customerID     7043 non-null   object\n",
      " 1   gender         7043 non-null   object\n",
      " 2   SeniorCitizen  7043 non-null   int64 \n",
      " 3   Partner        7043 non-null   object\n",
      " 4   Dependents     7043 non-null   object\n",
      "dtypes: int64(1), object(4)\n",
      "memory usage: 275.2+ KB\n"
     ]
    }
   ],
   "source": [
    "personal = pd.read_csv('/datasets/final_provider/personal.csv')\n",
    "display(personal.head())\n",
    "personal.info()"
   ]
  },
  {
   "cell_type": "markdown",
   "id": "46ea4238",
   "metadata": {},
   "source": [
    "Кол-во наблюдений столько же, значит все должно быть на месте"
   ]
  },
  {
   "cell_type": "markdown",
   "id": "8e90f79d",
   "metadata": {},
   "source": [
    "Взглянем на соотношение полов:"
   ]
  },
  {
   "cell_type": "code",
   "execution_count": 16,
   "id": "a074b01f",
   "metadata": {
    "scrolled": true
   },
   "outputs": [
    {
     "data": {
      "text/plain": [
       "Male      3555\n",
       "Female    3488\n",
       "Name: gender, dtype: int64"
      ]
     },
     "execution_count": 16,
     "metadata": {},
     "output_type": "execute_result"
    }
   ],
   "source": [
    "personal['gender'].value_counts()"
   ]
  },
  {
   "cell_type": "markdown",
   "id": "00691e7a",
   "metadata": {},
   "source": [
    "Соотношение, практически, одинаковое."
   ]
  },
  {
   "cell_type": "markdown",
   "id": "0f58cec7",
   "metadata": {},
   "source": [
    "Узнаем сколько пенсионеров:"
   ]
  },
  {
   "cell_type": "code",
   "execution_count": 17,
   "id": "d517f3c8",
   "metadata": {
    "scrolled": true
   },
   "outputs": [
    {
     "data": {
      "text/plain": [
       "0    5901\n",
       "1    1142\n",
       "Name: SeniorCitizen, dtype: int64"
      ]
     },
     "execution_count": 17,
     "metadata": {},
     "output_type": "execute_result"
    }
   ],
   "source": [
    "personal['SeniorCitizen'].value_counts()"
   ]
  },
  {
   "cell_type": "markdown",
   "id": "5bbbc331",
   "metadata": {},
   "source": [
    "Примерно 1/7 часть от общего числа клиентов."
   ]
  },
  {
   "cell_type": "markdown",
   "id": "d44116d2",
   "metadata": {},
   "source": [
    "`internet.csv`"
   ]
  },
  {
   "cell_type": "code",
   "execution_count": 18,
   "id": "2fdb9819",
   "metadata": {
    "scrolled": true
   },
   "outputs": [
    {
     "data": {
      "text/html": [
       "<div>\n",
       "<style scoped>\n",
       "    .dataframe tbody tr th:only-of-type {\n",
       "        vertical-align: middle;\n",
       "    }\n",
       "\n",
       "    .dataframe tbody tr th {\n",
       "        vertical-align: top;\n",
       "    }\n",
       "\n",
       "    .dataframe thead th {\n",
       "        text-align: right;\n",
       "    }\n",
       "</style>\n",
       "<table border=\"1\" class=\"dataframe\">\n",
       "  <thead>\n",
       "    <tr style=\"text-align: right;\">\n",
       "      <th></th>\n",
       "      <th>customerID</th>\n",
       "      <th>InternetService</th>\n",
       "      <th>OnlineSecurity</th>\n",
       "      <th>OnlineBackup</th>\n",
       "      <th>DeviceProtection</th>\n",
       "      <th>TechSupport</th>\n",
       "      <th>StreamingTV</th>\n",
       "      <th>StreamingMovies</th>\n",
       "    </tr>\n",
       "  </thead>\n",
       "  <tbody>\n",
       "    <tr>\n",
       "      <th>0</th>\n",
       "      <td>7590-VHVEG</td>\n",
       "      <td>DSL</td>\n",
       "      <td>No</td>\n",
       "      <td>Yes</td>\n",
       "      <td>No</td>\n",
       "      <td>No</td>\n",
       "      <td>No</td>\n",
       "      <td>No</td>\n",
       "    </tr>\n",
       "    <tr>\n",
       "      <th>1</th>\n",
       "      <td>5575-GNVDE</td>\n",
       "      <td>DSL</td>\n",
       "      <td>Yes</td>\n",
       "      <td>No</td>\n",
       "      <td>Yes</td>\n",
       "      <td>No</td>\n",
       "      <td>No</td>\n",
       "      <td>No</td>\n",
       "    </tr>\n",
       "    <tr>\n",
       "      <th>2</th>\n",
       "      <td>3668-QPYBK</td>\n",
       "      <td>DSL</td>\n",
       "      <td>Yes</td>\n",
       "      <td>Yes</td>\n",
       "      <td>No</td>\n",
       "      <td>No</td>\n",
       "      <td>No</td>\n",
       "      <td>No</td>\n",
       "    </tr>\n",
       "    <tr>\n",
       "      <th>3</th>\n",
       "      <td>7795-CFOCW</td>\n",
       "      <td>DSL</td>\n",
       "      <td>Yes</td>\n",
       "      <td>No</td>\n",
       "      <td>Yes</td>\n",
       "      <td>Yes</td>\n",
       "      <td>No</td>\n",
       "      <td>No</td>\n",
       "    </tr>\n",
       "    <tr>\n",
       "      <th>4</th>\n",
       "      <td>9237-HQITU</td>\n",
       "      <td>Fiber optic</td>\n",
       "      <td>No</td>\n",
       "      <td>No</td>\n",
       "      <td>No</td>\n",
       "      <td>No</td>\n",
       "      <td>No</td>\n",
       "      <td>No</td>\n",
       "    </tr>\n",
       "  </tbody>\n",
       "</table>\n",
       "</div>"
      ],
      "text/plain": [
       "   customerID InternetService OnlineSecurity OnlineBackup DeviceProtection  \\\n",
       "0  7590-VHVEG             DSL             No          Yes               No   \n",
       "1  5575-GNVDE             DSL            Yes           No              Yes   \n",
       "2  3668-QPYBK             DSL            Yes          Yes               No   \n",
       "3  7795-CFOCW             DSL            Yes           No              Yes   \n",
       "4  9237-HQITU     Fiber optic             No           No               No   \n",
       "\n",
       "  TechSupport StreamingTV StreamingMovies  \n",
       "0          No          No              No  \n",
       "1          No          No              No  \n",
       "2          No          No              No  \n",
       "3         Yes          No              No  \n",
       "4          No          No              No  "
      ]
     },
     "metadata": {},
     "output_type": "display_data"
    },
    {
     "name": "stdout",
     "output_type": "stream",
     "text": [
      "<class 'pandas.core.frame.DataFrame'>\n",
      "RangeIndex: 5517 entries, 0 to 5516\n",
      "Data columns (total 8 columns):\n",
      " #   Column            Non-Null Count  Dtype \n",
      "---  ------            --------------  ----- \n",
      " 0   customerID        5517 non-null   object\n",
      " 1   InternetService   5517 non-null   object\n",
      " 2   OnlineSecurity    5517 non-null   object\n",
      " 3   OnlineBackup      5517 non-null   object\n",
      " 4   DeviceProtection  5517 non-null   object\n",
      " 5   TechSupport       5517 non-null   object\n",
      " 6   StreamingTV       5517 non-null   object\n",
      " 7   StreamingMovies   5517 non-null   object\n",
      "dtypes: object(8)\n",
      "memory usage: 344.9+ KB\n"
     ]
    }
   ],
   "source": [
    "internet = pd.read_csv('/datasets/final_provider/internet.csv')\n",
    "display(internet.head())\n",
    "internet.info()"
   ]
  },
  {
   "cell_type": "markdown",
   "id": "3607e85b",
   "metadata": {},
   "source": [
    "Кол-во наблюдений уже меньше. Скорее всего, это связано с тем, что кто-то из клиентов не пользуется интернет услугами."
   ]
  },
  {
   "cell_type": "markdown",
   "id": "b179ef54",
   "metadata": {},
   "source": [
    "`phone.csv`"
   ]
  },
  {
   "cell_type": "code",
   "execution_count": 19,
   "id": "06e5d493",
   "metadata": {
    "scrolled": true
   },
   "outputs": [
    {
     "data": {
      "text/html": [
       "<div>\n",
       "<style scoped>\n",
       "    .dataframe tbody tr th:only-of-type {\n",
       "        vertical-align: middle;\n",
       "    }\n",
       "\n",
       "    .dataframe tbody tr th {\n",
       "        vertical-align: top;\n",
       "    }\n",
       "\n",
       "    .dataframe thead th {\n",
       "        text-align: right;\n",
       "    }\n",
       "</style>\n",
       "<table border=\"1\" class=\"dataframe\">\n",
       "  <thead>\n",
       "    <tr style=\"text-align: right;\">\n",
       "      <th></th>\n",
       "      <th>customerID</th>\n",
       "      <th>MultipleLines</th>\n",
       "    </tr>\n",
       "  </thead>\n",
       "  <tbody>\n",
       "    <tr>\n",
       "      <th>0</th>\n",
       "      <td>5575-GNVDE</td>\n",
       "      <td>No</td>\n",
       "    </tr>\n",
       "    <tr>\n",
       "      <th>1</th>\n",
       "      <td>3668-QPYBK</td>\n",
       "      <td>No</td>\n",
       "    </tr>\n",
       "    <tr>\n",
       "      <th>2</th>\n",
       "      <td>9237-HQITU</td>\n",
       "      <td>No</td>\n",
       "    </tr>\n",
       "    <tr>\n",
       "      <th>3</th>\n",
       "      <td>9305-CDSKC</td>\n",
       "      <td>Yes</td>\n",
       "    </tr>\n",
       "    <tr>\n",
       "      <th>4</th>\n",
       "      <td>1452-KIOVK</td>\n",
       "      <td>Yes</td>\n",
       "    </tr>\n",
       "  </tbody>\n",
       "</table>\n",
       "</div>"
      ],
      "text/plain": [
       "   customerID MultipleLines\n",
       "0  5575-GNVDE            No\n",
       "1  3668-QPYBK            No\n",
       "2  9237-HQITU            No\n",
       "3  9305-CDSKC           Yes\n",
       "4  1452-KIOVK           Yes"
      ]
     },
     "metadata": {},
     "output_type": "display_data"
    },
    {
     "name": "stdout",
     "output_type": "stream",
     "text": [
      "<class 'pandas.core.frame.DataFrame'>\n",
      "RangeIndex: 6361 entries, 0 to 6360\n",
      "Data columns (total 2 columns):\n",
      " #   Column         Non-Null Count  Dtype \n",
      "---  ------         --------------  ----- \n",
      " 0   customerID     6361 non-null   object\n",
      " 1   MultipleLines  6361 non-null   object\n",
      "dtypes: object(2)\n",
      "memory usage: 99.5+ KB\n"
     ]
    }
   ],
   "source": [
    "phone = pd.read_csv('/datasets/final_provider/phone.csv')\n",
    "display(phone.head())\n",
    "phone.info()"
   ]
  },
  {
   "cell_type": "markdown",
   "id": "2f67de8a",
   "metadata": {},
   "source": [
    "Здесь кол-во наблюдений другое, значит и телефоном некоторые клиенты не пользуются."
   ]
  },
  {
   "cell_type": "code",
   "execution_count": 20,
   "id": "014c5c7a",
   "metadata": {},
   "outputs": [
    {
     "data": {
      "text/plain": [
       "No     0.532935\n",
       "Yes    0.467065\n",
       "Name: MultipleLines, dtype: float64"
      ]
     },
     "execution_count": 20,
     "metadata": {},
     "output_type": "execute_result"
    }
   ],
   "source": [
    "phone['MultipleLines'].value_counts(normalize=True)"
   ]
  },
  {
   "cell_type": "markdown",
   "id": "943a05c2",
   "metadata": {},
   "source": [
    "Практически половина клиентов пользуются паралельными линиями."
   ]
  },
  {
   "cell_type": "markdown",
   "id": "69e9325c",
   "metadata": {},
   "source": [
    "Объеденим все в один датасет и посмотрим на profile report:"
   ]
  },
  {
   "cell_type": "code",
   "execution_count": 21,
   "id": "557309fa",
   "metadata": {},
   "outputs": [],
   "source": [
    "merged_df = pd.merge(personal, contract, how='outer')\n",
    "merged_df = pd.merge(merged_df, internet, how='outer')\n",
    "merged_df = pd.merge(merged_df, phone, how='outer')"
   ]
  },
  {
   "cell_type": "markdown",
   "id": "94931224",
   "metadata": {},
   "source": [
    "Используем именно такой способ объединения, чтобы сразу знать - **там, где появились пропуски - указатель того, что клиент не пользовался этой услугой.**"
   ]
  },
  {
   "cell_type": "markdown",
   "id": "a63e8593",
   "metadata": {},
   "source": [
    "Наш целевой признак - `EndDate` посмотрим как он связан с другими переменными.\n",
    "Используем `PhiK` корреляцию, которая поможет уловить взаимосвязь для смешанных типов переменных:"
   ]
  },
  {
   "cell_type": "code",
   "execution_count": 35,
   "id": "1923dd00",
   "metadata": {
    "scrolled": false
   },
   "outputs": [
    {
     "name": "stdout",
     "output_type": "stream",
     "text": [
      "interval columns not set, guessing: ['SeniorCitizen', 'MonthlyCharges', 'TotalCharges']\n"
     ]
    },
    {
     "data": {
      "image/png": "[encoded data removed]"
     },
     "metadata": {},
     "output_type": "display_data"
    }
   ],
   "source": [
    "fig = px.imshow(merged_df.phik_matrix())\n",
    "fig.update_layout(title='Корреляция признаков')\n",
    "fig.show('png')"
   ]
  },
  {
   "cell_type": "markdown",
   "id": "5aeef12d",
   "metadata": {},
   "source": [
    "Высокая корреляция `EndDate` с `BeginDate`. Средняя с `Type`, `MonthlyCharges`, `TotalCharges`."
   ]
  },
  {
   "cell_type": "markdown",
   "id": "4c693291",
   "metadata": {},
   "source": [
    "`EndDate` никак не коррелирует с `gender`, `StreamingTV`, `StreamingMovies`, `MultipleLines`. Возможно, если от них избавиться, то показатели моделей улучшатся."
   ]
  },
  {
   "cell_type": "markdown",
   "id": "894364b3",
   "metadata": {},
   "source": [
    "Другие корреляции вполне логичны. Дополнительные услуги коррелируют с месячной и суммарной оплатой. Если у клиента есть супруг, то, возможно, у них есть иждивенец.\n",
    "\n",
    "Интересно, что есть корреляция между `BeginDate` и дополнительными услугами типа `OnlineBackup`, `DeviceProtection`и т.п. Возможно, что клиенты, по началу, их не подключают, но со временем приобретают и их, если достаточно долго пользуются основными услугами."
   ]
  },
  {
   "cell_type": "markdown",
   "id": "7f2f980c",
   "metadata": {},
   "source": [
    "Аномальных и выбивающихся значений нет."
   ]
  },
  {
   "cell_type": "markdown",
   "id": "f6d7aa8a",
   "metadata": {},
   "source": [
    "## Дальнейший план\n",
    "* Создадим новый столбец как целевой признак. Сформируем столбец на основе `EndDate`. Если на его место стоит `No` то в новом столбце будет значение `0`. Если `EndDate` - `любая дата` значит клиент ушел, это отметим как `1`.\n",
    "* Заполним пропуски. Если они появились, значит клиент не пользуется этими услугами\n",
    "* Кодируем данные с помощью `OHE` так как количество уникальных значений в признаках не велико\n",
    "* Разделим данные только на тестовую и обучающую выборку, потому что данных мало \n",
    "* Обучаем модели (После обучения можно попробовать исключить наименее важные признаки, если не достигнем нужных результатов)\n",
    "* Тестируем финальную модель, проверяем на адекватность "
   ]
  },
  {
   "cell_type": "markdown",
   "id": "bb465922",
   "metadata": {},
   "source": [
    "## Предобработка данных"
   ]
  },
  {
   "cell_type": "markdown",
   "id": "06349459",
   "metadata": {},
   "source": [
    "Создадим новый столбец `Leaving` на основе `EndDate`, в котором будет обозначенно ушел клиент или нет. Это будет нашим целевым признаком:"
   ]
  },
  {
   "cell_type": "code",
   "execution_count": 36,
   "id": "5e4057fe",
   "metadata": {},
   "outputs": [],
   "source": [
    "def new_EndDate(row):\n",
    "    if row == 'No':\n",
    "        return 0\n",
    "    if row != 'No':\n",
    "        return 1\n",
    "\n",
    "merged_df['Leaving'] = merged_df['EndDate'].apply(new_EndDate)"
   ]
  },
  {
   "cell_type": "markdown",
   "id": "789fdb54",
   "metadata": {},
   "source": [
    "Теперь удалим столбцы, которые, судя по корреляции, не будут влиять на наш целевой признак:"
   ]
  },
  {
   "cell_type": "code",
   "execution_count": 37,
   "id": "0eda9dc2",
   "metadata": {},
   "outputs": [],
   "source": [
    "merged_df = merged_df.drop(['EndDate', 'customerID', 'gender', 'StreamingTV', 'StreamingMovies', 'MultipleLines'], axis=1)"
   ]
  },
  {
   "cell_type": "markdown",
   "id": "d64fce05",
   "metadata": {},
   "source": [
    "Перед кодировкой заполним пропуски значением 'No', поскольку пропуски после объединения датасетов означают то, что клиент не пользовался услугами:"
   ]
  },
  {
   "cell_type": "code",
   "execution_count": 38,
   "id": "81134aeb",
   "metadata": {},
   "outputs": [],
   "source": [
    "merged_df = merged_df.fillna('No')"
   ]
  },
  {
   "cell_type": "markdown",
   "id": "1c49a965",
   "metadata": {},
   "source": [
    "Кодируем наши признаки с помощью OHE, потому что уникальных значений мало:"
   ]
  },
  {
   "cell_type": "code",
   "execution_count": 39,
   "id": "6e2e4ca6",
   "metadata": {},
   "outputs": [],
   "source": [
    "merged_df_ohe = pd.get_dummies(merged_df[['Partner', \n",
    "                                            'Dependents', \n",
    "                                            'Type', \n",
    "                                            'PaperlessBilling', \n",
    "                                            'PaymentMethod', \n",
    "                                            'InternetService',\n",
    "                                            'OnlineSecurity',\n",
    "                                            'OnlineBackup',\n",
    "                                            'DeviceProtection',\n",
    "                                            'TechSupport'\n",
    "                                          ]],\n",
    "                                drop_first=True)"
   ]
  },
  {
   "cell_type": "markdown",
   "id": "767522c6",
   "metadata": {},
   "source": [
    "Удалим незакодированные признаки из датасета и объеденим закодированные данные с данными, которые кодировать не было необходимости:"
   ]
  },
  {
   "cell_type": "code",
   "execution_count": 40,
   "id": "980f6481",
   "metadata": {},
   "outputs": [],
   "source": [
    "data_numeric = merged_df.drop(['Partner',\n",
    "                               'Dependents',\n",
    "                               'Type',\n",
    "                               'PaperlessBilling',\n",
    "                               'PaymentMethod',\n",
    "                               'InternetService',\n",
    "                               'OnlineSecurity',\n",
    "                               'OnlineBackup',\n",
    "                               'DeviceProtection',\n",
    "                               'TechSupport'\n",
    "                               ], axis=1)\n",
    "\n",
    "merged_df_ohe = pd.concat([data_numeric, merged_df_ohe], axis=1) "
   ]
  },
  {
   "cell_type": "markdown",
   "id": "2f1490e0",
   "metadata": {},
   "source": [
    "Чтобы даты использовать для машинного обучения - разобьем дату на год и месяц, день вряд-ли будет важен при обучении:"
   ]
  },
  {
   "cell_type": "code",
   "execution_count": 41,
   "id": "48f5c3da",
   "metadata": {},
   "outputs": [],
   "source": [
    "merged_df_ohe['BeginDate_year'] = merged_df_ohe['BeginDate'].dt.year\n",
    "merged_df_ohe['BeginDate_month'] = merged_df_ohe['BeginDate'].dt.month\n",
    "\n",
    "merged_df_ohe = merged_df_ohe.drop('BeginDate', axis=1)"
   ]
  },
  {
   "cell_type": "markdown",
   "id": "692c26d4",
   "metadata": {},
   "source": [
    "Вот наши признаки и целевой признак:"
   ]
  },
  {
   "cell_type": "code",
   "execution_count": 42,
   "id": "4e7829e0",
   "metadata": {},
   "outputs": [],
   "source": [
    "features = merged_df_ohe.drop('Leaving', axis=1)\n",
    "target = merged_df_ohe['Leaving']"
   ]
  },
  {
   "cell_type": "markdown",
   "id": "aa1ba640",
   "metadata": {},
   "source": [
    "Разделим выборки на обучающую и тестовую(25%):"
   ]
  },
  {
   "cell_type": "code",
   "execution_count": 43,
   "id": "d09f5bfd",
   "metadata": {},
   "outputs": [
    {
     "name": "stdout",
     "output_type": "stream",
     "text": [
      "5282 1761\n"
     ]
    },
    {
     "data": {
      "text/plain": [
       "(5282, 1761)"
      ]
     },
     "execution_count": 43,
     "metadata": {},
     "output_type": "execute_result"
    }
   ],
   "source": [
    "RANDOM_STATE = 120922\n",
    "\n",
    "features_train, features_test, target_train, target_test = train_test_split(features, \n",
    "                                                                             target, \n",
    "                                                                             test_size=0.25, \n",
    "                                                                             random_state=RANDOM_STATE)\n",
    "print(features_train.shape[0], features_test.shape[0])\n",
    "target_train.shape[0], target_test.shape[0]"
   ]
  },
  {
   "cell_type": "markdown",
   "id": "4dc0968a",
   "metadata": {},
   "source": [
    "Взглянем на баланс классов:"
   ]
  },
  {
   "cell_type": "code",
   "execution_count": 44,
   "id": "7c12bdb0",
   "metadata": {
    "scrolled": true
   },
   "outputs": [
    {
     "data": {
      "text/plain": [
       "0    3881\n",
       "1    1401\n",
       "Name: Leaving, dtype: int64"
      ]
     },
     "execution_count": 44,
     "metadata": {},
     "output_type": "execute_result"
    }
   ],
   "source": [
    "target_train.value_counts()"
   ]
  },
  {
   "cell_type": "markdown",
   "id": "ff7e3609",
   "metadata": {},
   "source": [
    "Дизбаланс классов попробуем исправить с помощью `SMOTE`:"
   ]
  },
  {
   "cell_type": "code",
   "execution_count": 45,
   "id": "6b60898b",
   "metadata": {},
   "outputs": [],
   "source": [
    "sm = SMOTE(random_state=RANDOM_STATE)\n",
    "features_train, target_train = sm.fit_resample(features_train, target_train)"
   ]
  },
  {
   "cell_type": "code",
   "execution_count": 46,
   "id": "ef60c5b5",
   "metadata": {},
   "outputs": [
    {
     "data": {
      "text/plain": [
       "0    3881\n",
       "1    3881\n",
       "Name: Leaving, dtype: int64"
      ]
     },
     "execution_count": 46,
     "metadata": {},
     "output_type": "execute_result"
    }
   ],
   "source": [
    "target_train.value_counts()"
   ]
  },
  {
   "cell_type": "markdown",
   "id": "946c6c89",
   "metadata": {},
   "source": [
    "## Обучение моделей"
   ]
  },
  {
   "cell_type": "markdown",
   "id": "09a0ff89",
   "metadata": {},
   "source": [
    "Целевая метрика - `AUC ROC`. Необходимо получить показатели минимум 0.76."
   ]
  },
  {
   "cell_type": "markdown",
   "id": "81a2b615",
   "metadata": {},
   "source": [
    "Для начала попробуем `LogisticRegression`. При обучении моделей будем использовать `Optuna`. Это позволит эффективнее подбирать оптимальные гиперпараметры для моделей. Лучшие результаты обучения моделей мы будем сохранять, чтобы в конце сформировать датафрейм с результатами.\n",
    "\n",
    "Набор гиперпараметров будем выбирать случайно, `Optuna` выберет оптимальные. Для начала попробуем простые модели, далее попробуем бустинги:"
   ]
  },
  {
   "cell_type": "markdown",
   "id": "6fe0758c",
   "metadata": {},
   "source": [
    "### `LogisticRegression`"
   ]
  },
  {
   "cell_type": "code",
   "execution_count": 48,
   "id": "3fa86cd8",
   "metadata": {},
   "outputs": [],
   "source": [
    "models = [] # сюда будем сохранять результаты\n",
    "params = []\n",
    "score = []"
   ]
  },
  {
   "cell_type": "code",
   "execution_count": 37,
   "id": "88bbf125",
   "metadata": {},
   "outputs": [
    {
     "name": "stderr",
     "output_type": "stream",
     "text": [
      "\u001b[32m[I 2022-09-23 14:35:49,548]\u001b[0m A new study created in memory with name: LogisticRegression\u001b[0m\n",
      "\u001b[32m[I 2022-09-23 14:35:50,113]\u001b[0m Trial 0 finished with value: 0.8945769532386064 and parameters: {'C': 2.454929464976458, 'class_weight': None}. Best is trial 0 with value: 0.8945769532386064.\u001b[0m\n",
      "\u001b[32m[I 2022-09-23 14:35:50,530]\u001b[0m Trial 1 finished with value: 0.8930251328477554 and parameters: {'C': 21.762918955020876, 'class_weight': None}. Best is trial 0 with value: 0.8945769532386064.\u001b[0m\n",
      "\u001b[32m[I 2022-09-23 14:35:51,204]\u001b[0m Trial 2 finished with value: 0.8951072665730747 and parameters: {'C': 5.442650131187865, 'class_weight': 'balanced'}. Best is trial 2 with value: 0.8951072665730747.\u001b[0m\n",
      "\u001b[32m[I 2022-09-23 14:35:51,688]\u001b[0m Trial 3 finished with value: 0.8944508169142923 and parameters: {'C': 8.540185379468445, 'class_weight': None}. Best is trial 2 with value: 0.8951072665730747.\u001b[0m\n",
      "\u001b[32m[I 2022-09-23 14:35:52,207]\u001b[0m Trial 4 finished with value: 0.8947219310510895 and parameters: {'C': 20.78796452278717, 'class_weight': 'balanced'}. Best is trial 2 with value: 0.8951072665730747.\u001b[0m\n",
      "\u001b[32m[I 2022-09-23 14:35:52,682]\u001b[0m Trial 5 finished with value: 0.8948522540000338 and parameters: {'C': 26.836734544956652, 'class_weight': None}. Best is trial 2 with value: 0.8951072665730747.\u001b[0m\n",
      "\u001b[32m[I 2022-09-23 14:35:53,160]\u001b[0m Trial 6 finished with value: 0.8947881362463853 and parameters: {'C': 23.850232925772474, 'class_weight': None}. Best is trial 2 with value: 0.8951072665730747.\u001b[0m\n",
      "\u001b[32m[I 2022-09-23 14:35:53,660]\u001b[0m Trial 7 finished with value: 0.8947402777258502 and parameters: {'C': 18.309321389146984, 'class_weight': 'balanced'}. Best is trial 2 with value: 0.8951072665730747.\u001b[0m\n",
      "\u001b[32m[I 2022-09-23 14:35:54,190]\u001b[0m Trial 8 finished with value: 0.8946310916960868 and parameters: {'C': 13.374689641832953, 'class_weight': None}. Best is trial 2 with value: 0.8951072665730747.\u001b[0m\n",
      "\u001b[32m[I 2022-09-23 14:35:54,719]\u001b[0m Trial 9 finished with value: 0.8942854083400683 and parameters: {'C': 6.96528129079217, 'class_weight': None}. Best is trial 2 with value: 0.8951072665730747.\u001b[0m\n",
      "\u001b[32m[I 2022-09-23 14:35:55,204]\u001b[0m Trial 10 finished with value: 0.8937794012465909 and parameters: {'C': 1.8699784570510438, 'class_weight': None}. Best is trial 2 with value: 0.8951072665730747.\u001b[0m\n",
      "\u001b[32m[I 2022-09-23 14:35:55,717]\u001b[0m Trial 11 finished with value: 0.8946436373126412 and parameters: {'C': 29.399401191135514, 'class_weight': None}. Best is trial 2 with value: 0.8951072665730747.\u001b[0m\n",
      "\u001b[32m[I 2022-09-23 14:35:56,121]\u001b[0m Trial 12 finished with value: 0.8940368442759976 and parameters: {'C': 28.607166686694462, 'class_weight': None}. Best is trial 2 with value: 0.8951072665730747.\u001b[0m\n",
      "\u001b[32m[I 2022-09-23 14:35:56,585]\u001b[0m Trial 13 finished with value: 0.8943407033190558 and parameters: {'C': 13.383255939702758, 'class_weight': None}. Best is trial 2 with value: 0.8951072665730747.\u001b[0m\n",
      "\u001b[32m[I 2022-09-23 14:35:57,154]\u001b[0m Trial 14 finished with value: 0.894484282235328 and parameters: {'C': 7.907963021806075, 'class_weight': None}. Best is trial 2 with value: 0.8951072665730747.\u001b[0m\n",
      "\u001b[32m[I 2022-09-23 14:35:57,650]\u001b[0m Trial 15 finished with value: 0.8947214706230202 and parameters: {'C': 24.985910817951503, 'class_weight': None}. Best is trial 2 with value: 0.8951072665730747.\u001b[0m\n",
      "\u001b[32m[I 2022-09-23 14:35:58,164]\u001b[0m Trial 16 finished with value: 0.8942481941784682 and parameters: {'C': 17.63112184272791, 'class_weight': None}. Best is trial 2 with value: 0.8951072665730747.\u001b[0m\n",
      "\u001b[32m[I 2022-09-23 14:35:58,621]\u001b[0m Trial 17 finished with value: 0.893446303763133 and parameters: {'C': 11.294270129233373, 'class_weight': None}. Best is trial 2 with value: 0.8951072665730747.\u001b[0m\n",
      "\u001b[32m[I 2022-09-23 14:35:59,128]\u001b[0m Trial 18 finished with value: 0.8949037917517894 and parameters: {'C': 4.8742677886495915, 'class_weight': None}. Best is trial 2 with value: 0.8951072665730747.\u001b[0m\n",
      "\u001b[32m[I 2022-09-23 14:35:59,746]\u001b[0m Trial 19 finished with value: 0.8949413447347735 and parameters: {'C': 4.331770554206496, 'class_weight': None}. Best is trial 2 with value: 0.8951072665730747.\u001b[0m\n"
     ]
    }
   ],
   "source": [
    "def objective(trial): # здесь мы выбираем гиперпараметры и их границы для тестирования\n",
    "    parameters = {\n",
    "    'C': trial.suggest_float(\"C\", 1.0, 30.0),\n",
    "    'class_weight': trial.suggest_categorical(\"class_weight\", ['balanced', None]),\n",
    "    'max_iter': 4000\n",
    "    }\n",
    "\n",
    "    \n",
    "    model = LogisticRegression(**parameters, random_state=RANDOM_STATE)\n",
    "\n",
    "    model.fit(features_train, target_train)\n",
    "    scores = cross_val_score(model, features_train, target_train, cv=7, scoring='roc_auc')\n",
    "    mean_score = sum(scores) / len(scores)\n",
    "    return mean_score\n",
    "\n",
    "study = optuna.create_study(study_name=\"LogisticRegression\", direction=\"maximize\")\n",
    "study.optimize(objective, n_trials=20)\n",
    "\n",
    "models.append('LogisticRegression')\n",
    "params.append(study.best_params)\n",
    "score.append(study.best_value)"
   ]
  },
  {
   "cell_type": "markdown",
   "id": "53b884ac",
   "metadata": {},
   "source": [
    "### `RandomForestClassifier`"
   ]
  },
  {
   "cell_type": "code",
   "execution_count": 49,
   "id": "b0cb2a21",
   "metadata": {
    "scrolled": true
   },
   "outputs": [
    {
     "name": "stderr",
     "output_type": "stream",
     "text": [
      "\u001b[32m[I 2022-10-09 16:59:14,679]\u001b[0m A new study created in memory with name: RandomForestClassifier\u001b[0m\n",
      "\u001b[32m[I 2022-10-09 16:59:18,187]\u001b[0m Trial 0 finished with value: 0.9377151308220396 and parameters: {'n_estimators': 95, 'max_depth': 18, 'criterion': 'gini', 'min_samples_leaf': 6, 'min_samples_split': 5}. Best is trial 0 with value: 0.9377151308220396.\u001b[0m\n",
      "\u001b[32m[I 2022-10-09 16:59:19,777]\u001b[0m Trial 1 finished with value: 0.9259259824893418 and parameters: {'n_estimators': 41, 'max_depth': 9, 'criterion': 'entropy', 'min_samples_leaf': 3, 'min_samples_split': 8}. Best is trial 0 with value: 0.9377151308220396.\u001b[0m\n",
      "\u001b[32m[I 2022-10-09 16:59:21,341]\u001b[0m Trial 2 finished with value: 0.879550421511414 and parameters: {'n_estimators': 77, 'max_depth': 3, 'criterion': 'entropy', 'min_samples_leaf': 2, 'min_samples_split': 8}. Best is trial 0 with value: 0.9377151308220396.\u001b[0m\n",
      "\u001b[32m[I 2022-10-09 16:59:27,349]\u001b[0m Trial 3 finished with value: 0.9376686217163742 and parameters: {'n_estimators': 167, 'max_depth': 14, 'criterion': 'gini', 'min_samples_leaf': 5, 'min_samples_split': 4}. Best is trial 0 with value: 0.9377151308220396.\u001b[0m\n",
      "\u001b[32m[I 2022-10-09 16:59:27,975]\u001b[0m Trial 4 finished with value: 0.8892066691018196 and parameters: {'n_estimators': 24, 'max_depth': 4, 'criterion': 'entropy', 'min_samples_leaf': 3, 'min_samples_split': 3}. Best is trial 0 with value: 0.9377151308220396.\u001b[0m\n",
      "\u001b[32m[I 2022-10-09 16:59:31,020]\u001b[0m Trial 5 finished with value: 0.9457020406759097 and parameters: {'n_estimators': 74, 'max_depth': 18, 'criterion': 'gini', 'min_samples_leaf': 2, 'min_samples_split': 5}. Best is trial 5 with value: 0.9457020406759097.\u001b[0m\n",
      "\u001b[32m[I 2022-10-09 16:59:33,924]\u001b[0m Trial 6 finished with value: 0.9347612717362095 and parameters: {'n_estimators': 70, 'max_depth': 11, 'criterion': 'entropy', 'min_samples_leaf': 4, 'min_samples_split': 3}. Best is trial 5 with value: 0.9457020406759097.\u001b[0m\n",
      "\u001b[32m[I 2022-10-09 16:59:35,142]\u001b[0m Trial 7 finished with value: 0.9223277501272131 and parameters: {'n_estimators': 38, 'max_depth': 9, 'criterion': 'gini', 'min_samples_leaf': 8, 'min_samples_split': 9}. Best is trial 5 with value: 0.9457020406759097.\u001b[0m\n",
      "\u001b[32m[I 2022-10-09 16:59:38,407]\u001b[0m Trial 8 finished with value: 0.9425655317039279 and parameters: {'n_estimators': 83, 'max_depth': 19, 'criterion': 'gini', 'min_samples_leaf': 3, 'min_samples_split': 8}. Best is trial 5 with value: 0.9457020406759097.\u001b[0m\n",
      "\u001b[32m[I 2022-10-09 16:59:40,695]\u001b[0m Trial 9 finished with value: 0.9322714226655371 and parameters: {'n_estimators': 54, 'max_depth': 15, 'criterion': 'entropy', 'min_samples_leaf': 9, 'min_samples_split': 8}. Best is trial 5 with value: 0.9457020406759097.\u001b[0m\n",
      "\u001b[32m[I 2022-10-09 16:59:45,632]\u001b[0m Trial 10 finished with value: 0.9358270469805873 and parameters: {'n_estimators': 136, 'max_depth': 20, 'criterion': 'gini', 'min_samples_leaf': 7, 'min_samples_split': 6}. Best is trial 5 with value: 0.9457020406759097.\u001b[0m\n",
      "\u001b[32m[I 2022-10-09 16:59:50,072]\u001b[0m Trial 11 finished with value: 0.9434087776174863 and parameters: {'n_estimators': 114, 'max_depth': 17, 'criterion': 'gini', 'min_samples_leaf': 2, 'min_samples_split': 10}. Best is trial 5 with value: 0.9457020406759097.\u001b[0m\n",
      "\u001b[32m[I 2022-10-09 16:59:54,917]\u001b[0m Trial 12 finished with value: 0.9423877771158461 and parameters: {'n_estimators': 126, 'max_depth': 16, 'criterion': 'gini', 'min_samples_leaf': 2, 'min_samples_split': 10}. Best is trial 5 with value: 0.9457020406759097.\u001b[0m\n",
      "\u001b[32m[I 2022-10-09 17:00:02,080]\u001b[0m Trial 13 finished with value: 0.9389975815030228 and parameters: {'n_estimators': 192, 'max_depth': 17, 'criterion': 'gini', 'min_samples_leaf': 5, 'min_samples_split': 6}. Best is trial 5 with value: 0.9457020406759097.\u001b[0m\n",
      "\u001b[32m[I 2022-10-09 17:00:05,730]\u001b[0m Trial 14 finished with value: 0.929989061436754 and parameters: {'n_estimators': 107, 'max_depth': 13, 'criterion': 'gini', 'min_samples_leaf': 10, 'min_samples_split': 2}. Best is trial 5 with value: 0.9457020406759097.\u001b[0m\n",
      "\u001b[32m[I 2022-10-09 17:00:11,464]\u001b[0m Trial 15 finished with value: 0.9455972710654773 and parameters: {'n_estimators': 141, 'max_depth': 17, 'criterion': 'gini', 'min_samples_leaf': 2, 'min_samples_split': 5}. Best is trial 5 with value: 0.9457020406759097.\u001b[0m\n",
      "\u001b[32m[I 2022-10-09 17:00:17,414]\u001b[0m Trial 16 finished with value: 0.9412354070091041 and parameters: {'n_estimators': 153, 'max_depth': 20, 'criterion': 'gini', 'min_samples_leaf': 4, 'min_samples_split': 5}. Best is trial 5 with value: 0.9457020406759097.\u001b[0m\n",
      "\u001b[32m[I 2022-10-09 17:00:23,660]\u001b[0m Trial 17 finished with value: 0.9363600742407974 and parameters: {'n_estimators': 178, 'max_depth': 12, 'criterion': 'gini', 'min_samples_leaf': 4, 'min_samples_split': 5}. Best is trial 5 with value: 0.9457020406759097.\u001b[0m\n",
      "\u001b[32m[I 2022-10-09 17:00:27,521]\u001b[0m Trial 18 finished with value: 0.9059124838957107 and parameters: {'n_estimators': 145, 'max_depth': 6, 'criterion': 'gini', 'min_samples_leaf': 6, 'min_samples_split': 7}. Best is trial 5 with value: 0.9457020406759097.\u001b[0m\n",
      "\u001b[32m[I 2022-10-09 17:00:31,651]\u001b[0m Trial 19 finished with value: 0.944187464638663 and parameters: {'n_estimators': 103, 'max_depth': 15, 'criterion': 'gini', 'min_samples_leaf': 2, 'min_samples_split': 4}. Best is trial 5 with value: 0.9457020406759097.\u001b[0m\n"
     ]
    }
   ],
   "source": [
    "def objective(trial):\n",
    "    parameters = {\n",
    "    'n_estimators': trial.suggest_int('n_estimators', 20, 200),\n",
    "    'max_depth': trial.suggest_int('max_depth', 3, 20),\n",
    "    'criterion': trial.suggest_categorical(\"criterion\", ['gini', 'entropy']),\n",
    "    'min_samples_leaf': trial.suggest_int('min_samples_leaf', 2, 10),\n",
    "    'min_samples_split': trial.suggest_int('min_samples_split', 2, 10)\n",
    "    }\n",
    "    \n",
    "    \n",
    "    model = RandomForestClassifier(**parameters, random_state=RANDOM_STATE)\n",
    "\n",
    "\n",
    "    model.fit(features_train, target_train)\n",
    "    scores = cross_val_score(model, features_train, target_train, cv=7, scoring='roc_auc')\n",
    "    mean_score = sum(scores) / len(scores)\n",
    "    return mean_score\n",
    "\n",
    "study = optuna.create_study(study_name=\"RandomForestClassifier\", direction=\"maximize\")\n",
    "study.optimize(objective, n_trials=20)\n",
    "\n",
    "models.append('RandomForestClassifier')\n",
    "params.append(study.best_params)\n",
    "score.append(study.best_value)"
   ]
  },
  {
   "cell_type": "markdown",
   "id": "0c29a958",
   "metadata": {},
   "source": [
    "### `CatBoostClassifier`"
   ]
  },
  {
   "cell_type": "code",
   "execution_count": 39,
   "id": "62352e1e",
   "metadata": {
    "scrolled": true
   },
   "outputs": [
    {
     "name": "stderr",
     "output_type": "stream",
     "text": [
      "\u001b[32m[I 2022-09-23 14:37:09,337]\u001b[0m A new study created in memory with name: CatBoostClassifier\u001b[0m\n",
      "\u001b[32m[I 2022-09-23 14:37:11,246]\u001b[0m Trial 0 finished with value: 0.9268224669709115 and parameters: {'max_depth': 4, 'learning_rate': 0.08, 'n_estimators': 83}. Best is trial 0 with value: 0.9268224669709115.\u001b[0m\n",
      "\u001b[32m[I 2022-09-23 14:39:59,677]\u001b[0m Trial 1 finished with value: 0.9201346108845229 and parameters: {'max_depth': 16, 'learning_rate': 0.005, 'n_estimators': 45}. Best is trial 0 with value: 0.9268224669709115.\u001b[0m\n",
      "\u001b[32m[I 2022-09-23 14:40:00,268]\u001b[0m Trial 2 finished with value: 0.8814094501611607 and parameters: {'max_depth': 4, 'learning_rate': 0.005, 'n_estimators': 30}. Best is trial 0 with value: 0.9268224669709115.\u001b[0m\n",
      "\u001b[32m[I 2022-09-23 14:40:01,703]\u001b[0m Trial 3 finished with value: 0.93312340539041 and parameters: {'max_depth': 6, 'learning_rate': 0.08, 'n_estimators': 71}. Best is trial 3 with value: 0.93312340539041.\u001b[0m\n",
      "\u001b[32m[I 2022-09-23 14:40:03,666]\u001b[0m Trial 4 finished with value: 0.9440876557423105 and parameters: {'max_depth': 5, 'learning_rate': 0.1, 'n_estimators': 119}. Best is trial 4 with value: 0.9440876557423105.\u001b[0m\n",
      "\u001b[32m[I 2022-09-23 14:40:05,899]\u001b[0m Trial 5 finished with value: 0.9278470846424293 and parameters: {'max_depth': 8, 'learning_rate': 0.05, 'n_estimators': 64}. Best is trial 4 with value: 0.9440876557423105.\u001b[0m\n",
      "\u001b[32m[I 2022-09-23 14:40:23,825]\u001b[0m Trial 6 finished with value: 0.9540289024369358 and parameters: {'max_depth': 11, 'learning_rate': 0.1, 'n_estimators': 110}. Best is trial 6 with value: 0.9540289024369358.\u001b[0m\n",
      "\u001b[32m[I 2022-09-23 14:41:55,614]\u001b[0m Trial 7 finished with value: 0.9354150846265953 and parameters: {'max_depth': 14, 'learning_rate': 0.05, 'n_estimators': 81}. Best is trial 6 with value: 0.9540289024369358.\u001b[0m\n",
      "\u001b[32m[I 2022-09-23 14:43:57,076]\u001b[0m Trial 8 finished with value: 0.9215048540440504 and parameters: {'max_depth': 14, 'learning_rate': 0.005, 'n_estimators': 118}. Best is trial 6 with value: 0.9540289024369358.\u001b[0m\n",
      "\u001b[32m[I 2022-09-23 14:43:57,705]\u001b[0m Trial 9 finished with value: 0.8823905850561352 and parameters: {'max_depth': 4, 'learning_rate': 0.02, 'n_estimators': 33}. Best is trial 6 with value: 0.9540289024369358.\u001b[0m\n",
      "\u001b[32m[I 2022-09-23 14:44:15,142]\u001b[0m Trial 10 finished with value: 0.9527207910680914 and parameters: {'max_depth': 11, 'learning_rate': 0.1, 'n_estimators': 103}. Best is trial 6 with value: 0.9540289024369358.\u001b[0m\n",
      "\u001b[32m[I 2022-09-23 14:44:31,876]\u001b[0m Trial 11 finished with value: 0.9522393703303138 and parameters: {'max_depth': 11, 'learning_rate': 0.1, 'n_estimators': 100}. Best is trial 6 with value: 0.9540289024369358.\u001b[0m\n",
      "\u001b[32m[I 2022-09-23 14:44:41,267]\u001b[0m Trial 12 finished with value: 0.9526563051397209 and parameters: {'max_depth': 10, 'learning_rate': 0.1, 'n_estimators': 100}. Best is trial 6 with value: 0.9540289024369358.\u001b[0m\n",
      "\u001b[32m[I 2022-09-23 14:45:11,713]\u001b[0m Trial 13 finished with value: 0.9527004139810249 and parameters: {'max_depth': 12, 'learning_rate': 0.1, 'n_estimators': 100}. Best is trial 6 with value: 0.9540289024369358.\u001b[0m\n",
      "\u001b[32m[I 2022-09-23 14:45:15,170]\u001b[0m Trial 14 finished with value: 0.9520534295156667 and parameters: {'max_depth': 8, 'learning_rate': 0.1, 'n_estimators': 108}. Best is trial 6 with value: 0.9540289024369358.\u001b[0m\n",
      "\u001b[32m[I 2022-09-23 14:45:42,236]\u001b[0m Trial 15 finished with value: 0.9271919818825162 and parameters: {'max_depth': 12, 'learning_rate': 0.02, 'n_estimators': 91}. Best is trial 6 with value: 0.9540289024369358.\u001b[0m\n",
      "\u001b[32m[I 2022-09-23 14:45:45,756]\u001b[0m Trial 16 finished with value: 0.9521900592388935 and parameters: {'max_depth': 8, 'learning_rate': 0.1, 'n_estimators': 109}. Best is trial 6 with value: 0.9540289024369358.\u001b[0m\n",
      "\u001b[32m[I 2022-09-23 14:46:56,639]\u001b[0m Trial 17 finished with value: 0.9395614171878687 and parameters: {'max_depth': 14, 'learning_rate': 0.1, 'n_estimators': 59}. Best is trial 6 with value: 0.9540289024369358.\u001b[0m\n",
      "\u001b[32m[I 2022-09-23 14:47:05,198]\u001b[0m Trial 18 finished with value: 0.9508509138440456 and parameters: {'max_depth': 10, 'learning_rate': 0.1, 'n_estimators': 90}. Best is trial 6 with value: 0.9540289024369358.\u001b[0m\n",
      "\u001b[32m[I 2022-09-23 14:47:39,601]\u001b[0m Trial 19 finished with value: 0.9414924231571131 and parameters: {'max_depth': 12, 'learning_rate': 0.05, 'n_estimators': 110}. Best is trial 6 with value: 0.9540289024369358.\u001b[0m\n"
     ]
    }
   ],
   "source": [
    "def objective(trial):\n",
    "\n",
    "    parameters = {\n",
    "        'max_depth': trial.suggest_int('max_depth', 3, 16),\n",
    "        'learning_rate': trial.suggest_categorical('learning_rate', [0.005, 0.02, 0.05, 0.08, 0.1]),\n",
    "        'n_estimators': trial.suggest_int('n_estimators', 30, 120)\n",
    "}\n",
    "    \n",
    "    model = CatBoostClassifier(**parameters, random_state=RANDOM_STATE, verbose=False)\n",
    "\n",
    "\n",
    "    model.fit(features_train, target_train)\n",
    "    scores = cross_val_score(model, features_train, target_train, cv=7, scoring='roc_auc')\n",
    "    mean_score = sum(scores) / len(scores)\n",
    "    return mean_score\n",
    "\n",
    "study = optuna.create_study(study_name=\"CatBoostClassifier\", direction=\"maximize\")\n",
    "study.optimize(objective, n_trials=20)\n",
    "\n",
    "models.append('CatBoostClassifier')\n",
    "params.append(study.best_params)\n",
    "score.append(study.best_value)"
   ]
  },
  {
   "cell_type": "markdown",
   "id": "12a06fb7",
   "metadata": {},
   "source": [
    "### `XGBClassifier`"
   ]
  },
  {
   "cell_type": "code",
   "execution_count": 40,
   "id": "aaaf97ba",
   "metadata": {
    "scrolled": true
   },
   "outputs": [
    {
     "name": "stderr",
     "output_type": "stream",
     "text": [
      "\u001b[32m[I 2022-09-23 14:47:39,619]\u001b[0m A new study created in memory with name: XGBClassifier\u001b[0m\n",
      "\u001b[32m[I 2022-09-23 14:47:40,229]\u001b[0m Trial 0 finished with value: 0.8605110029476959 and parameters: {'max_depth': 30, 'learning_rate': 0.1, 'n_estimators': 46, 'min_child_weight': 133, 'subsample': 0.4174869006086981}. Best is trial 0 with value: 0.8605110029476959.\u001b[0m\n",
      "\u001b[32m[I 2022-09-23 14:47:40,687]\u001b[0m Trial 1 finished with value: 0.8396117464207756 and parameters: {'max_depth': 10, 'learning_rate': 0.02, 'n_estimators': 34, 'min_child_weight': 104, 'subsample': 0.34571365923716335}. Best is trial 0 with value: 0.8605110029476959.\u001b[0m\n",
      "\u001b[32m[I 2022-09-23 14:47:41,604]\u001b[0m Trial 2 finished with value: 0.8010793520017544 and parameters: {'max_depth': 26, 'learning_rate': 0.02, 'n_estimators': 117, 'min_child_weight': 92, 'subsample': 0.1432407877508669}. Best is trial 0 with value: 0.8605110029476959.\u001b[0m\n",
      "\u001b[32m[I 2022-09-23 14:47:42,060]\u001b[0m Trial 3 finished with value: 0.8197645265181659 and parameters: {'max_depth': 12, 'learning_rate': 0.1, 'n_estimators': 38, 'min_child_weight': 170, 'subsample': 0.4221416916608821}. Best is trial 0 with value: 0.8605110029476959.\u001b[0m\n",
      "\u001b[32m[I 2022-09-23 14:47:42,751]\u001b[0m Trial 4 finished with value: 0.808617794852139 and parameters: {'max_depth': 14, 'learning_rate': 0.1, 'n_estimators': 72, 'min_child_weight': 98, 'subsample': 0.21689200036090445}. Best is trial 0 with value: 0.8605110029476959.\u001b[0m\n",
      "\u001b[32m[I 2022-09-23 14:47:43,319]\u001b[0m Trial 5 finished with value: 0.8273472719418841 and parameters: {'max_depth': 7, 'learning_rate': 0.1, 'n_estimators': 48, 'min_child_weight': 254, 'subsample': 0.6780304307694399}. Best is trial 0 with value: 0.8605110029476959.\u001b[0m\n",
      "\u001b[32m[I 2022-09-23 14:47:43,923]\u001b[0m Trial 6 finished with value: 0.8521756211707209 and parameters: {'max_depth': 32, 'learning_rate': 0.02, 'n_estimators': 43, 'min_child_weight': 168, 'subsample': 0.611812143331473}. Best is trial 0 with value: 0.8605110029476959.\u001b[0m\n",
      "\u001b[32m[I 2022-09-23 14:47:44,286]\u001b[0m Trial 7 finished with value: 0.5 and parameters: {'max_depth': 9, 'learning_rate': 0.08, 'n_estimators': 42, 'min_child_weight': 151, 'subsample': 0.11633063995717025}. Best is trial 0 with value: 0.8605110029476959.\u001b[0m\n",
      "\u001b[32m[I 2022-09-23 14:47:45,359]\u001b[0m Trial 8 finished with value: 0.8464173521635499 and parameters: {'max_depth': 5, 'learning_rate': 0.005, 'n_estimators': 78, 'min_child_weight': 147, 'subsample': 0.6007226947495473}. Best is trial 0 with value: 0.8605110029476959.\u001b[0m\n",
      "\u001b[32m[I 2022-09-23 14:47:45,746]\u001b[0m Trial 9 finished with value: 0.8014164713118171 and parameters: {'max_depth': 3, 'learning_rate': 0.1, 'n_estimators': 32, 'min_child_weight': 265, 'subsample': 0.512929848973448}. Best is trial 0 with value: 0.8605110029476959.\u001b[0m\n",
      "\u001b[32m[I 2022-09-23 14:47:48,873]\u001b[0m Trial 10 finished with value: 0.9552001131931797 and parameters: {'max_depth': 23, 'learning_rate': 0.05, 'n_estimators': 65, 'min_child_weight': 3, 'subsample': 0.7785415319933238}. Best is trial 10 with value: 0.9552001131931797.\u001b[0m\n",
      "\u001b[32m[I 2022-09-23 14:47:51,568]\u001b[0m Trial 11 finished with value: 0.9520643456026427 and parameters: {'max_depth': 22, 'learning_rate': 0.05, 'n_estimators': 66, 'min_child_weight': 5, 'subsample': 0.7746242821367696}. Best is trial 10 with value: 0.9552001131931797.\u001b[0m\n",
      "\u001b[32m[I 2022-09-23 14:47:54,492]\u001b[0m Trial 12 finished with value: 0.9532208234993363 and parameters: {'max_depth': 21, 'learning_rate': 0.05, 'n_estimators': 70, 'min_child_weight': 5, 'subsample': 0.7988201258993898}. Best is trial 10 with value: 0.9552001131931797.\u001b[0m\n",
      "\u001b[32m[I 2022-09-23 14:47:57,822]\u001b[0m Trial 13 finished with value: 0.9548587489711445 and parameters: {'max_depth': 19, 'learning_rate': 0.05, 'n_estimators': 93, 'min_child_weight': 8, 'subsample': 0.7938665685541284}. Best is trial 10 with value: 0.9552001131931797.\u001b[0m\n",
      "\u001b[32m[I 2022-09-23 14:47:59,748]\u001b[0m Trial 14 finished with value: 0.9238733304177922 and parameters: {'max_depth': 17, 'learning_rate': 0.05, 'n_estimators': 95, 'min_child_weight': 46, 'subsample': 0.7025621289668574}. Best is trial 10 with value: 0.9552001131931797.\u001b[0m\n",
      "\u001b[32m[I 2022-09-23 14:48:01,714]\u001b[0m Trial 15 finished with value: 0.9240889080395657 and parameters: {'max_depth': 22, 'learning_rate': 0.05, 'n_estimators': 93, 'min_child_weight': 43, 'subsample': 0.6966542767747064}. Best is trial 10 with value: 0.9552001131931797.\u001b[0m\n",
      "\u001b[32m[I 2022-09-23 14:48:02,746]\u001b[0m Trial 16 finished with value: 0.8285930204673443 and parameters: {'max_depth': 26, 'learning_rate': 0.05, 'n_estimators': 89, 'min_child_weight': 206, 'subsample': 0.5478969331262714}. Best is trial 10 with value: 0.9552001131931797.\u001b[0m\n",
      "\u001b[32m[I 2022-09-23 14:48:05,162]\u001b[0m Trial 17 finished with value: 0.936269852144554 and parameters: {'max_depth': 18, 'learning_rate': 0.08, 'n_estimators': 113, 'min_child_weight': 44, 'subsample': 0.7505154711033597}. Best is trial 10 with value: 0.9552001131931797.\u001b[0m\n",
      "\u001b[32m[I 2022-09-23 14:48:05,993]\u001b[0m Trial 18 finished with value: 0.8501274861585174 and parameters: {'max_depth': 26, 'learning_rate': 0.005, 'n_estimators': 59, 'min_child_weight': 67, 'subsample': 0.3109117009883374}. Best is trial 10 with value: 0.9552001131931797.\u001b[0m\n",
      "\u001b[32m[I 2022-09-23 14:48:07,004]\u001b[0m Trial 19 finished with value: 0.8050131789777166 and parameters: {'max_depth': 17, 'learning_rate': 0.05, 'n_estimators': 105, 'min_child_weight': 299, 'subsample': 0.6306674967005617}. Best is trial 10 with value: 0.9552001131931797.\u001b[0m\n",
      "\u001b[32m[I 2022-09-23 14:48:10,199]\u001b[0m Trial 20 finished with value: 0.9597729791053045 and parameters: {'max_depth': 20, 'learning_rate': 0.05, 'n_estimators': 82, 'min_child_weight': 2, 'subsample': 0.5077133482841718}. Best is trial 20 with value: 0.9597729791053045.\u001b[0m\n",
      "\u001b[32m[I 2022-09-23 14:48:12,771]\u001b[0m Trial 21 finished with value: 0.9501975437697264 and parameters: {'max_depth': 20, 'learning_rate': 0.05, 'n_estimators': 85, 'min_child_weight': 7, 'subsample': 0.5037887335122213}. Best is trial 20 with value: 0.9597729791053045.\u001b[0m\n",
      "\u001b[32m[I 2022-09-23 14:48:14,313]\u001b[0m Trial 22 finished with value: 0.9259392720033415 and parameters: {'max_depth': 24, 'learning_rate': 0.05, 'n_estimators': 58, 'min_child_weight': 29, 'subsample': 0.7335517606036568}. Best is trial 20 with value: 0.9597729791053045.\u001b[0m\n",
      "\u001b[32m[I 2022-09-23 14:48:16,323]\u001b[0m Trial 23 finished with value: 0.9343634518203455 and parameters: {'max_depth': 15, 'learning_rate': 0.05, 'n_estimators': 79, 'min_child_weight': 22, 'subsample': 0.6278083952746496}. Best is trial 20 with value: 0.9597729791053045.\u001b[0m\n",
      "\u001b[32m[I 2022-09-23 14:48:17,617]\u001b[0m Trial 24 finished with value: 0.9029328249033315 and parameters: {'max_depth': 19, 'learning_rate': 0.05, 'n_estimators': 103, 'min_child_weight': 57, 'subsample': 0.3288281714867122}. Best is trial 20 with value: 0.9597729791053045.\u001b[0m\n",
      "\u001b[32m[I 2022-09-23 14:48:19,010]\u001b[0m Trial 25 finished with value: 0.9085005832005011 and parameters: {'max_depth': 29, 'learning_rate': 0.05, 'n_estimators': 83, 'min_child_weight': 76, 'subsample': 0.5629868476495978}. Best is trial 20 with value: 0.9597729791053045.\u001b[0m\n",
      "\u001b[32m[I 2022-09-23 14:48:20,712]\u001b[0m Trial 26 finished with value: 0.906487367338219 and parameters: {'max_depth': 24, 'learning_rate': 0.005, 'n_estimators': 62, 'min_child_weight': 27, 'subsample': 0.6752404838439289}. Best is trial 20 with value: 0.9597729791053045.\u001b[0m\n",
      "\u001b[32m[I 2022-09-23 14:48:21,802]\u001b[0m Trial 27 finished with value: 0.9172871702280402 and parameters: {'max_depth': 15, 'learning_rate': 0.08, 'n_estimators': 53, 'min_child_weight': 73, 'subsample': 0.7946088129123555}. Best is trial 20 with value: 0.9597729791053045.\u001b[0m\n",
      "\u001b[32m[I 2022-09-23 14:48:23,057]\u001b[0m Trial 28 finished with value: 0.8852164510093716 and parameters: {'max_depth': 23, 'learning_rate': 0.05, 'n_estimators': 102, 'min_child_weight': 120, 'subsample': 0.4886155447659271}. Best is trial 20 with value: 0.9597729791053045.\u001b[0m\n",
      "\u001b[32m[I 2022-09-23 14:48:26,207]\u001b[0m Trial 29 finished with value: 0.9606429382335493 and parameters: {'max_depth': 29, 'learning_rate': 0.05, 'n_estimators': 96, 'min_child_weight': 2, 'subsample': 0.37727205162661126}. Best is trial 29 with value: 0.9606429382335493.\u001b[0m\n",
      "\u001b[32m[I 2022-09-23 14:48:27,486]\u001b[0m Trial 30 finished with value: 0.9186642283939265 and parameters: {'max_depth': 29, 'learning_rate': 0.05, 'n_estimators': 74, 'min_child_weight': 30, 'subsample': 0.3732370378914248}. Best is trial 29 with value: 0.9606429382335493.\u001b[0m\n",
      "\u001b[32m[I 2022-09-23 14:48:30,904]\u001b[0m Trial 31 finished with value: 0.9608528766598077 and parameters: {'max_depth': 32, 'learning_rate': 0.05, 'n_estimators': 96, 'min_child_weight': 2, 'subsample': 0.44435123447147123}. Best is trial 31 with value: 0.9608528766598077.\u001b[0m\n",
      "\u001b[32m[I 2022-09-23 14:48:32,608]\u001b[0m Trial 32 finished with value: 0.9237554516067202 and parameters: {'max_depth': 32, 'learning_rate': 0.05, 'n_estimators': 110, 'min_child_weight': 22, 'subsample': 0.2755002335488198}. Best is trial 31 with value: 0.9608528766598077.\u001b[0m\n",
      "\u001b[32m[I 2022-09-23 14:48:35,865]\u001b[0m Trial 33 finished with value: 0.9454058722073423 and parameters: {'max_depth': 28, 'learning_rate': 0.02, 'n_estimators': 85, 'min_child_weight': 2, 'subsample': 0.4445816464461457}. Best is trial 31 with value: 0.9608528766598077.\u001b[0m\n",
      "\u001b[32m[I 2022-09-23 14:48:37,256]\u001b[0m Trial 34 finished with value: 0.9106593958113594 and parameters: {'max_depth': 31, 'learning_rate': 0.05, 'n_estimators': 98, 'min_child_weight': 51, 'subsample': 0.3831958001720239}. Best is trial 31 with value: 0.9608528766598077.\u001b[0m\n",
      "\u001b[32m[I 2022-09-23 14:48:38,337]\u001b[0m Trial 35 finished with value: 0.8038238915974193 and parameters: {'max_depth': 26, 'learning_rate': 0.02, 'n_estimators': 118, 'min_child_weight': 113, 'subsample': 0.2470419572152454}. Best is trial 31 with value: 0.9608528766598077.\u001b[0m\n",
      "\u001b[32m[I 2022-09-23 14:48:39,007]\u001b[0m Trial 36 finished with value: 0.8110741266044345 and parameters: {'max_depth': 28, 'learning_rate': 0.05, 'n_estimators': 69, 'min_child_weight': 79, 'subsample': 0.18073004289156414}. Best is trial 31 with value: 0.9608528766598077.\u001b[0m\n",
      "\u001b[32m[I 2022-09-23 14:48:39,843]\u001b[0m Trial 37 finished with value: 0.8060944435590918 and parameters: {'max_depth': 30, 'learning_rate': 0.1, 'n_estimators': 89, 'min_child_weight': 194, 'subsample': 0.38654474712628145}. Best is trial 31 with value: 0.9608528766598077.\u001b[0m\n",
      "\u001b[32m[I 2022-09-23 14:48:40,910]\u001b[0m Trial 38 finished with value: 0.8983061430011084 and parameters: {'max_depth': 27, 'learning_rate': 0.08, 'n_estimators': 80, 'min_child_weight': 89, 'subsample': 0.4471090182182084}. Best is trial 31 with value: 0.9608528766598077.\u001b[0m\n",
      "\u001b[32m[I 2022-09-23 14:48:43,146]\u001b[0m Trial 39 finished with value: 0.9062810070838327 and parameters: {'max_depth': 24, 'learning_rate': 0.005, 'n_estimators': 98, 'min_child_weight': 19, 'subsample': 0.4142611320722225}. Best is trial 31 with value: 0.9608528766598077.\u001b[0m\n",
      "\u001b[32m[I 2022-09-23 14:48:44,730]\u001b[0m Trial 40 finished with value: 0.9011981026069572 and parameters: {'max_depth': 12, 'learning_rate': 0.02, 'n_estimators': 107, 'min_child_weight': 36, 'subsample': 0.2992886431316797}. Best is trial 31 with value: 0.9608528766598077.\u001b[0m\n",
      "\u001b[32m[I 2022-09-23 14:48:48,590]\u001b[0m Trial 41 finished with value: 0.9635313930508707 and parameters: {'max_depth': 20, 'learning_rate': 0.05, 'n_estimators': 92, 'min_child_weight': 1, 'subsample': 0.4808209553567934}. Best is trial 41 with value: 0.9635313930508707.\u001b[0m\n",
      "\u001b[32m[I 2022-09-23 14:48:49,985]\u001b[0m Trial 42 finished with value: 0.9115972081151479 and parameters: {'max_depth': 31, 'learning_rate': 0.05, 'n_estimators': 87, 'min_child_weight': 59, 'subsample': 0.4745734628371579}. Best is trial 41 with value: 0.9635313930508707.\u001b[0m\n",
      "\u001b[32m[I 2022-09-23 14:48:51,985]\u001b[0m Trial 43 finished with value: 0.9375691063533991 and parameters: {'max_depth': 21, 'learning_rate': 0.05, 'n_estimators': 75, 'min_child_weight': 16, 'subsample': 0.5415881557208397}. Best is trial 41 with value: 0.9635313930508707.\u001b[0m\n",
      "\u001b[32m[I 2022-09-23 14:48:53,740]\u001b[0m Trial 44 finished with value: 0.9446629341968783 and parameters: {'max_depth': 25, 'learning_rate': 0.1, 'n_estimators': 97, 'min_child_weight': 15, 'subsample': 0.3505581970293735}. Best is trial 41 with value: 0.9635313930508707.\u001b[0m\n",
      "\u001b[32m[I 2022-09-23 14:48:57,354]\u001b[0m Trial 45 finished with value: 0.9629134163925442 and parameters: {'max_depth': 32, 'learning_rate': 0.05, 'n_estimators': 91, 'min_child_weight': 1, 'subsample': 0.42363378544525554}. Best is trial 41 with value: 0.9635313930508707.\u001b[0m\n",
      "\u001b[32m[I 2022-09-23 14:49:00,966]\u001b[0m Trial 46 finished with value: 0.963496809787 and parameters: {'max_depth': 32, 'learning_rate': 0.05, 'n_estimators': 92, 'min_child_weight': 1, 'subsample': 0.4210733604383776}. Best is trial 41 with value: 0.9635313930508707.\u001b[0m\n",
      "\u001b[32m[I 2022-09-23 14:49:02,627]\u001b[0m Trial 47 finished with value: 0.9218817601261006 and parameters: {'max_depth': 32, 'learning_rate': 0.05, 'n_estimators': 101, 'min_child_weight': 35, 'subsample': 0.4090678616952054}. Best is trial 41 with value: 0.9635313930508707.\u001b[0m\n",
      "\u001b[32m[I 2022-09-23 14:49:04,175]\u001b[0m Trial 48 finished with value: 0.9193877999108094 and parameters: {'max_depth': 30, 'learning_rate': 0.05, 'n_estimators': 90, 'min_child_weight': 38, 'subsample': 0.4408695388015958}. Best is trial 41 with value: 0.9635313930508707.\u001b[0m\n",
      "\u001b[32m[I 2022-09-23 14:49:05,014]\u001b[0m Trial 49 finished with value: 0.7881204400323637 and parameters: {'max_depth': 32, 'learning_rate': 0.05, 'n_estimators': 92, 'min_child_weight': 232, 'subsample': 0.3546607278765224}. Best is trial 41 with value: 0.9635313930508707.\u001b[0m\n"
     ]
    }
   ],
   "source": [
    "def objective(trial):\n",
    "\n",
    "    parameters = {\n",
    "        'max_depth': trial.suggest_int('max_depth', 3, 32),\n",
    "        'learning_rate': trial.suggest_categorical('learning_rate', [0.005, 0.02, 0.05, 0.08, 0.1]),\n",
    "        'n_estimators': trial.suggest_int('n_estimators', 30, 120),\n",
    "        'min_child_weight': trial.suggest_int('min_child_weight', 1, 300),\n",
    "        'subsample': trial.suggest_float('subsample', 0.1, 0.8)\n",
    "}\n",
    "    \n",
    "    model = xgb.XGBClassifier(**parameters, random_state=RANDOM_STATE)\n",
    "\n",
    "\n",
    "    model.fit(features_train, target_train)\n",
    "    scores = cross_val_score(model, features_train, target_train, cv=7, scoring='roc_auc')\n",
    "    mean_score = sum(scores) / len(scores)\n",
    "    return mean_score\n",
    "            \n",
    "\n",
    "study = optuna.create_study(study_name=\"XGBClassifier\", direction=\"maximize\")\n",
    "study.optimize(objective, n_trials=50)\n",
    "\n",
    "models.append('XGBClassifier')\n",
    "params.append(study.best_params)\n",
    "score.append(study.best_value)"
   ]
  },
  {
   "cell_type": "markdown",
   "id": "783c4320",
   "metadata": {},
   "source": [
    "### `LGBMClassifier`"
   ]
  },
  {
   "cell_type": "code",
   "execution_count": 41,
   "id": "fedf63a1",
   "metadata": {
    "scrolled": true
   },
   "outputs": [
    {
     "name": "stderr",
     "output_type": "stream",
     "text": [
      "\u001b[32m[I 2022-09-23 14:49:05,030]\u001b[0m A new study created in memory with name: LGBMClassifier\u001b[0m\n",
      "\u001b[32m[I 2022-09-23 14:49:13,392]\u001b[0m Trial 0 finished with value: 0.979007788581092 and parameters: {'learning_rate': 0.24422897876019622, 'n_estimators': 2245, 'max_depth': 4, 'min_child_samples': 94, 'num_leaves': 295, 'min_data_per_group': 124}. Best is trial 0 with value: 0.979007788581092.\u001b[0m\n",
      "\u001b[32m[I 2022-09-23 14:49:27,755]\u001b[0m Trial 1 finished with value: 0.9824856198417694 and parameters: {'learning_rate': 0.6972091004206938, 'n_estimators': 6513, 'max_depth': 2, 'min_child_samples': 51, 'num_leaves': 266, 'min_data_per_group': 111}. Best is trial 1 with value: 0.9824856198417694.\u001b[0m\n",
      "\u001b[32m[I 2022-09-23 14:49:40,556]\u001b[0m Trial 2 finished with value: 0.9842427433475145 and parameters: {'learning_rate': 0.20638164842317028, 'n_estimators': 5900, 'max_depth': 2, 'min_child_samples': 69, 'num_leaves': 242, 'min_data_per_group': 55}. Best is trial 2 with value: 0.9842427433475145.\u001b[0m\n",
      "\u001b[32m[I 2022-09-23 14:49:59,932]\u001b[0m Trial 3 finished with value: 0.9791018157085746 and parameters: {'learning_rate': 0.5885769922668386, 'n_estimators': 7077, 'max_depth': 3, 'min_child_samples': 177, 'num_leaves': 152, 'min_data_per_group': 71}. Best is trial 2 with value: 0.9842427433475145.\u001b[0m\n",
      "\u001b[32m[I 2022-09-23 14:50:14,345]\u001b[0m Trial 4 finished with value: 0.9796185174809944 and parameters: {'learning_rate': 0.671811229026171, 'n_estimators': 5350, 'max_depth': 3, 'min_child_samples': 173, 'num_leaves': 292, 'min_data_per_group': 55}. Best is trial 2 with value: 0.9842427433475145.\u001b[0m\n",
      "\u001b[32m[I 2022-09-23 14:50:37,139]\u001b[0m Trial 5 finished with value: 0.9793910081467588 and parameters: {'learning_rate': 0.1717532971129304, 'n_estimators': 5915, 'max_depth': 4, 'min_child_samples': 137, 'num_leaves': 241, 'min_data_per_group': 131}. Best is trial 2 with value: 0.9842427433475145.\u001b[0m\n",
      "\u001b[32m[I 2022-09-23 14:50:49,776]\u001b[0m Trial 6 finished with value: 0.9832773296809059 and parameters: {'learning_rate': 0.32869788957933543, 'n_estimators': 5362, 'max_depth': 2, 'min_child_samples': 162, 'num_leaves': 264, 'min_data_per_group': 155}. Best is trial 2 with value: 0.9842427433475145.\u001b[0m\n",
      "\u001b[32m[I 2022-09-23 14:51:10,299]\u001b[0m Trial 7 finished with value: 0.9797532073679294 and parameters: {'learning_rate': 0.6098158330326134, 'n_estimators': 7588, 'max_depth': 3, 'min_child_samples': 87, 'num_leaves': 95, 'min_data_per_group': 167}. Best is trial 2 with value: 0.9842427433475145.\u001b[0m\n",
      "\u001b[32m[I 2022-09-23 14:51:31,466]\u001b[0m Trial 8 finished with value: 0.9796903023264635 and parameters: {'learning_rate': 0.18302459587209663, 'n_estimators': 5801, 'max_depth': 4, 'min_child_samples': 157, 'num_leaves': 201, 'min_data_per_group': 126}. Best is trial 2 with value: 0.9842427433475145.\u001b[0m\n",
      "\u001b[32m[I 2022-09-23 14:51:47,422]\u001b[0m Trial 9 finished with value: 0.9795380901742252 and parameters: {'learning_rate': 0.6134731706252683, 'n_estimators': 5598, 'max_depth': 3, 'min_child_samples': 61, 'num_leaves': 54, 'min_data_per_group': 176}. Best is trial 2 with value: 0.9842427433475145.\u001b[0m\n",
      "\u001b[32m[I 2022-09-23 14:51:55,320]\u001b[0m Trial 10 finished with value: 0.9828800540597905 and parameters: {'learning_rate': 0.1256922704602603, 'n_estimators': 3709, 'max_depth': 2, 'min_child_samples': 32, 'num_leaves': 166, 'min_data_per_group': 92}. Best is trial 2 with value: 0.9842427433475145.\u001b[0m\n",
      "\u001b[32m[I 2022-09-23 14:52:04,885]\u001b[0m Trial 11 finished with value: 0.9838715494249907 and parameters: {'learning_rate': 0.33523836755583747, 'n_estimators': 4339, 'max_depth': 2, 'min_child_samples': 122, 'num_leaves': 236, 'min_data_per_group': 200}. Best is trial 2 with value: 0.9842427433475145.\u001b[0m\n",
      "\u001b[32m[I 2022-09-23 14:52:13,518]\u001b[0m Trial 12 finished with value: 0.9837414420134122 and parameters: {'learning_rate': 0.3532599099681876, 'n_estimators': 4069, 'max_depth': 2, 'min_child_samples': 114, 'num_leaves': 216, 'min_data_per_group': 195}. Best is trial 2 with value: 0.9842427433475145.\u001b[0m\n",
      "\u001b[32m[I 2022-09-23 14:52:22,469]\u001b[0m Trial 13 finished with value: 0.9836169041880051 and parameters: {'learning_rate': 0.41181842807743085, 'n_estimators': 4178, 'max_depth': 2, 'min_child_samples': 119, 'num_leaves': 183, 'min_data_per_group': 87}. Best is trial 2 with value: 0.9842427433475145.\u001b[0m\n",
      "\u001b[32m[I 2022-09-23 14:52:28,629]\u001b[0m Trial 14 finished with value: 0.9829576433181328 and parameters: {'learning_rate': 0.2297894022949053, 'n_estimators': 3002, 'max_depth': 2, 'min_child_samples': 75, 'num_leaves': 128, 'min_data_per_group': 52}. Best is trial 2 with value: 0.9842427433475145.\u001b[0m\n",
      "\u001b[32m[I 2022-09-23 14:52:38,345]\u001b[0m Trial 15 finished with value: 0.9783464570429082 and parameters: {'learning_rate': 0.10151872924891633, 'n_estimators': 4541, 'max_depth': 2, 'min_child_samples': 136, 'num_leaves': 233, 'min_data_per_group': 199}. Best is trial 2 with value: 0.9842427433475145.\u001b[0m\n",
      "\u001b[32m[I 2022-09-23 14:52:47,655]\u001b[0m Trial 16 finished with value: 0.9798760326357455 and parameters: {'learning_rate': 0.4517602448744687, 'n_estimators': 3147, 'max_depth': 3, 'min_child_samples': 72, 'num_leaves': 21, 'min_data_per_group': 148}. Best is trial 2 with value: 0.9842427433475145.\u001b[0m\n",
      "\u001b[32m[I 2022-09-23 14:52:58,250]\u001b[0m Trial 17 finished with value: 0.9835462892827123 and parameters: {'learning_rate': 0.23686379716615946, 'n_estimators': 4713, 'max_depth': 2, 'min_child_samples': 96, 'num_leaves': 248, 'min_data_per_group': 101}. Best is trial 2 with value: 0.9842427433475145.\u001b[0m\n",
      "\u001b[32m[I 2022-09-23 14:53:16,423]\u001b[0m Trial 18 finished with value: 0.9808691382411878 and parameters: {'learning_rate': 0.15079067270126223, 'n_estimators': 6400, 'max_depth': 3, 'min_child_samples': 131, 'num_leaves': 202, 'min_data_per_group': 78}. Best is trial 2 with value: 0.9842427433475145.\u001b[0m\n",
      "\u001b[32m[I 2022-09-23 14:53:34,473]\u001b[0m Trial 19 finished with value: 0.9817212136387415 and parameters: {'learning_rate': 0.9768240232542453, 'n_estimators': 7975, 'max_depth': 2, 'min_child_samples': 42, 'num_leaves': 126, 'min_data_per_group': 148}. Best is trial 2 with value: 0.9842427433475145.\u001b[0m\n",
      "\u001b[32m[I 2022-09-23 14:53:52,731]\u001b[0m Trial 20 finished with value: 0.9800925571123279 and parameters: {'learning_rate': 0.27120311931723873, 'n_estimators': 6505, 'max_depth': 3, 'min_child_samples': 111, 'num_leaves': 273, 'min_data_per_group': 180}. Best is trial 2 with value: 0.9842427433475145.\u001b[0m\n",
      "\u001b[32m[I 2022-09-23 14:54:01,188]\u001b[0m Trial 21 finished with value: 0.9838060654831368 and parameters: {'learning_rate': 0.3446745774801693, 'n_estimators': 3984, 'max_depth': 2, 'min_child_samples': 117, 'num_leaves': 218, 'min_data_per_group': 200}. Best is trial 2 with value: 0.9842427433475145.\u001b[0m\n",
      "\u001b[32m[I 2022-09-23 14:54:08,231]\u001b[0m Trial 22 finished with value: 0.9835922717056318 and parameters: {'learning_rate': 0.4462811576105558, 'n_estimators': 3454, 'max_depth': 2, 'min_child_samples': 126, 'num_leaves': 222, 'min_data_per_group': 188}. Best is trial 2 with value: 0.9842427433475145.\u001b[0m\n",
      "\u001b[32m[I 2022-09-23 14:54:13,654]\u001b[0m Trial 23 finished with value: 0.9827267751233918 and parameters: {'learning_rate': 0.30312831077167024, 'n_estimators': 2585, 'max_depth': 2, 'min_child_samples': 148, 'num_leaves': 186, 'min_data_per_group': 171}. Best is trial 2 with value: 0.9842427433475145.\u001b[0m\n",
      "\u001b[32m[I 2022-09-23 14:54:23,859]\u001b[0m Trial 24 finished with value: 0.9830862813854901 and parameters: {'learning_rate': 0.1979784017737946, 'n_estimators': 4885, 'max_depth': 2, 'min_child_samples': 102, 'num_leaves': 257, 'min_data_per_group': 200}. Best is trial 2 with value: 0.9842427433475145.\u001b[0m\n",
      "\u001b[32m[I 2022-09-23 14:54:32,988]\u001b[0m Trial 25 finished with value: 0.983800873297022 and parameters: {'learning_rate': 0.3657584719431446, 'n_estimators': 4122, 'max_depth': 2, 'min_child_samples': 86, 'num_leaves': 234, 'min_data_per_group': 157}. Best is trial 2 with value: 0.9842427433475145.\u001b[0m\n",
      "\u001b[32m[I 2022-09-23 14:54:42,672]\u001b[0m Trial 26 finished with value: 0.9840629113817868 and parameters: {'learning_rate': 0.2887060811055652, 'n_estimators': 4500, 'max_depth': 2, 'min_child_samples': 72, 'num_leaves': 211, 'min_data_per_group': 186}. Best is trial 2 with value: 0.9842427433475145.\u001b[0m\n",
      "\u001b[32m[I 2022-09-23 14:54:57,001]\u001b[0m Trial 27 finished with value: 0.9800154962140653 and parameters: {'learning_rate': 0.272561472965928, 'n_estimators': 5106, 'max_depth': 3, 'min_child_samples': 73, 'num_leaves': 163, 'min_data_per_group': 188}. Best is trial 2 with value: 0.9842427433475145.\u001b[0m\n",
      "\u001b[32m[I 2022-09-23 14:55:06,714]\u001b[0m Trial 28 finished with value: 0.9841939698415085 and parameters: {'learning_rate': 0.21004901363064596, 'n_estimators': 4430, 'max_depth': 2, 'min_child_samples': 59, 'num_leaves': 280, 'min_data_per_group': 113}. Best is trial 2 with value: 0.9842427433475145.\u001b[0m\n",
      "\u001b[32m[I 2022-09-23 14:55:30,708]\u001b[0m Trial 29 finished with value: 0.9777581473837128 and parameters: {'learning_rate': 0.21018244359535143, 'n_estimators': 6166, 'max_depth': 4, 'min_child_samples': 55, 'num_leaves': 287, 'min_data_per_group': 64}. Best is trial 2 with value: 0.9842427433475145.\u001b[0m\n",
      "\u001b[32m[I 2022-09-23 14:55:45,261]\u001b[0m Trial 30 finished with value: 0.9841335833164216 and parameters: {'learning_rate': 0.1490411640708671, 'n_estimators': 6974, 'max_depth': 2, 'min_child_samples': 65, 'num_leaves': 282, 'min_data_per_group': 113}. Best is trial 2 with value: 0.9842427433475145.\u001b[0m\n",
      "\u001b[32m[I 2022-09-23 14:56:01,603]\u001b[0m Trial 31 finished with value: 0.9841976960380693 and parameters: {'learning_rate': 0.1507369960982381, 'n_estimators': 7304, 'max_depth': 2, 'min_child_samples': 63, 'num_leaves': 294, 'min_data_per_group': 115}. Best is trial 2 with value: 0.9842427433475145.\u001b[0m\n",
      "\u001b[32m[I 2022-09-23 14:56:17,141]\u001b[0m Trial 32 finished with value: 0.9841451921421684 and parameters: {'learning_rate': 0.13795932574968142, 'n_estimators': 7085, 'max_depth': 2, 'min_child_samples': 61, 'num_leaves': 294, 'min_data_per_group': 115}. Best is trial 2 with value: 0.9842427433475145.\u001b[0m\n",
      "\u001b[32m[I 2022-09-23 14:56:32,547]\u001b[0m Trial 33 finished with value: 0.984030927984974 and parameters: {'learning_rate': 0.10765550462840848, 'n_estimators': 7028, 'max_depth': 2, 'min_child_samples': 45, 'num_leaves': 299, 'min_data_per_group': 112}. Best is trial 2 with value: 0.9842427433475145.\u001b[0m\n",
      "\u001b[32m[I 2022-09-23 14:56:48,902]\u001b[0m Trial 34 finished with value: 0.9843008034109182 and parameters: {'learning_rate': 0.13122461652315676, 'n_estimators': 7394, 'max_depth': 2, 'min_child_samples': 52, 'num_leaves': 266, 'min_data_per_group': 136}. Best is trial 34 with value: 0.9843008034109182.\u001b[0m\n",
      "\u001b[32m[I 2022-09-23 14:57:11,512]\u001b[0m Trial 35 finished with value: 0.9797330064008895 and parameters: {'learning_rate': 0.16880890651104258, 'n_estimators': 7524, 'max_depth': 3, 'min_child_samples': 34, 'num_leaves': 271, 'min_data_per_group': 143}. Best is trial 34 with value: 0.9843008034109182.\u001b[0m\n",
      "\u001b[32m[I 2022-09-23 14:57:26,891]\u001b[0m Trial 36 finished with value: 0.9843296535485929 and parameters: {'learning_rate': 0.12172517000279029, 'n_estimators': 7405, 'max_depth': 2, 'min_child_samples': 50, 'num_leaves': 259, 'min_data_per_group': 134}. Best is trial 36 with value: 0.9843296535485929.\u001b[0m\n",
      "\u001b[32m[I 2022-09-23 14:57:42,364]\u001b[0m Trial 37 finished with value: 0.9842130201577086 and parameters: {'learning_rate': 0.129456231252271, 'n_estimators': 7437, 'max_depth': 2, 'min_child_samples': 48, 'num_leaves': 262, 'min_data_per_group': 135}. Best is trial 36 with value: 0.9843296535485929.\u001b[0m\n",
      "\u001b[32m[I 2022-09-23 14:58:04,040]\u001b[0m Trial 38 finished with value: 0.9803138854723 and parameters: {'learning_rate': 0.12351582903212174, 'n_estimators': 7962, 'max_depth': 3, 'min_child_samples': 46, 'num_leaves': 256, 'min_data_per_group': 135}. Best is trial 36 with value: 0.9843296535485929.\u001b[0m\n",
      "\u001b[32m[I 2022-09-23 14:58:18,150]\u001b[0m Trial 39 finished with value: 0.9843789076106714 and parameters: {'learning_rate': 0.12246380770669882, 'n_estimators': 6685, 'max_depth': 2, 'min_child_samples': 39, 'num_leaves': 240, 'min_data_per_group': 136}. Best is trial 39 with value: 0.9843789076106714.\u001b[0m\n",
      "\u001b[32m[I 2022-09-23 14:58:35,908]\u001b[0m Trial 40 finished with value: 0.9803905748411736 and parameters: {'learning_rate': 0.11106854796684648, 'n_estimators': 6760, 'max_depth': 3, 'min_child_samples': 36, 'num_leaves': 243, 'min_data_per_group': 159}. Best is trial 39 with value: 0.9843789076106714.\u001b[0m\n",
      "\u001b[32m[I 2022-09-23 14:58:51,637]\u001b[0m Trial 41 finished with value: 0.9843839974794372 and parameters: {'learning_rate': 0.12449752973746295, 'n_estimators': 7717, 'max_depth': 2, 'min_child_samples': 51, 'num_leaves': 264, 'min_data_per_group': 135}. Best is trial 41 with value: 0.9843839974794372.\u001b[0m\n",
      "\u001b[32m[I 2022-09-23 14:59:04,764]\u001b[0m Trial 42 finished with value: 0.983880861142392 and parameters: {'learning_rate': 0.11494785950735575, 'n_estimators': 6124, 'max_depth': 2, 'min_child_samples': 40, 'num_leaves': 251, 'min_data_per_group': 122}. Best is trial 41 with value: 0.9843839974794372.\u001b[0m\n",
      "\u001b[32m[I 2022-09-23 14:59:21,086]\u001b[0m Trial 43 finished with value: 0.9845094100343094 and parameters: {'learning_rate': 0.172552614376132, 'n_estimators': 7731, 'max_depth': 2, 'min_child_samples': 52, 'num_leaves': 266, 'min_data_per_group': 127}. Best is trial 43 with value: 0.9845094100343094.\u001b[0m\n",
      "\u001b[32m[I 2022-09-23 14:59:36,513]\u001b[0m Trial 44 finished with value: 0.9844123142250316 and parameters: {'learning_rate': 0.1668155684595052, 'n_estimators': 7785, 'max_depth': 2, 'min_child_samples': 53, 'num_leaves': 270, 'min_data_per_group': 126}. Best is trial 43 with value: 0.9845094100343094.\u001b[0m\n",
      "\u001b[32m[I 2022-09-23 14:59:52,846]\u001b[0m Trial 45 finished with value: 0.9843895888709453 and parameters: {'learning_rate': 0.17408907837162454, 'n_estimators': 7727, 'max_depth': 2, 'min_child_samples': 30, 'num_leaves': 228, 'min_data_per_group': 125}. Best is trial 43 with value: 0.9845094100343094.\u001b[0m\n",
      "\u001b[32m[I 2022-09-23 15:00:08,567]\u001b[0m Trial 46 finished with value: 0.9840025189860324 and parameters: {'learning_rate': 0.1713160760102805, 'n_estimators': 7760, 'max_depth': 2, 'min_child_samples': 81, 'num_leaves': 229, 'min_data_per_group': 124}. Best is trial 43 with value: 0.9845094100343094.\u001b[0m\n",
      "\u001b[32m[I 2022-09-23 15:00:24,928]\u001b[0m Trial 47 finished with value: 0.9845233771910779 and parameters: {'learning_rate': 0.192629191945092, 'n_estimators': 7705, 'max_depth': 2, 'min_child_samples': 30, 'num_leaves': 195, 'min_data_per_group': 103}. Best is trial 47 with value: 0.9845233771910779.\u001b[0m\n",
      "\u001b[32m[I 2022-09-23 15:00:41,705]\u001b[0m Trial 48 finished with value: 0.9844360426246024 and parameters: {'learning_rate': 0.18154460097483918, 'n_estimators': 7728, 'max_depth': 2, 'min_child_samples': 30, 'num_leaves': 180, 'min_data_per_group': 104}. Best is trial 47 with value: 0.9845233771910779.\u001b[0m\n",
      "\u001b[32m[I 2022-09-23 15:01:11,533]\u001b[0m Trial 49 finished with value: 0.9790215603284977 and parameters: {'learning_rate': 0.183517105841861, 'n_estimators': 7789, 'max_depth': 4, 'min_child_samples': 31, 'num_leaves': 185, 'min_data_per_group': 104}. Best is trial 47 with value: 0.9845233771910779.\u001b[0m\n"
     ]
    }
   ],
   "source": [
    "def objective(trial):\n",
    "    parameters = {\n",
    "    'learning_rate': trial.suggest_loguniform('learning_rate', 0.1, 1),\n",
    "    'n_estimators': trial.suggest_int('n_estimators', 2000, 8000),\n",
    "    'max_depth': trial.suggest_int('max_depth', 2, 4),\n",
    "    'min_child_samples': trial.suggest_int('min_child_samples', 30, 180),\n",
    "    'num_leaves': trial.suggest_int ('num_leaves', 20, 300),\n",
    "    'min_data_per_group': trial.suggest_int('min_data_per_group', 50, 200)\n",
    "    }\n",
    "    \n",
    "    model = LGBMClassifier(**parameters, random_state=RANDOM_STATE)\n",
    "\n",
    "\n",
    "    model.fit(features_train, target_train)\n",
    "    scores = cross_val_score(model, features_train, target_train, cv=7, scoring='roc_auc')\n",
    "    mean_score = sum(scores) / len(scores)\n",
    "    return mean_score\n",
    "\n",
    "study = optuna.create_study(study_name=\"LGBMClassifier\", direction=\"maximize\")\n",
    "study.optimize(objective, n_trials=50)\n",
    "\n",
    "models.append('LGBMClassifier')\n",
    "params.append(study.best_params)\n",
    "score.append(study.best_value)"
   ]
  },
  {
   "cell_type": "markdown",
   "id": "a38d6f65",
   "metadata": {},
   "source": [
    "**Результаты**:"
   ]
  },
  {
   "cell_type": "code",
   "execution_count": 42,
   "id": "cf006278",
   "metadata": {},
   "outputs": [],
   "source": [
    "final_data_results = pd.DataFrame({'model': models,\n",
    "              'ROC_AUC': score, \n",
    "              'parameters': params}, index=models).sort_values(by='ROC_AUC', ascending=False)"
   ]
  },
  {
   "cell_type": "code",
   "execution_count": 43,
   "id": "52951ad0",
   "metadata": {
    "scrolled": true
   },
   "outputs": [
    {
     "data": {
      "text/html": [
       "<div>\n",
       "<style scoped>\n",
       "    .dataframe tbody tr th:only-of-type {\n",
       "        vertical-align: middle;\n",
       "    }\n",
       "\n",
       "    .dataframe tbody tr th {\n",
       "        vertical-align: top;\n",
       "    }\n",
       "\n",
       "    .dataframe thead th {\n",
       "        text-align: right;\n",
       "    }\n",
       "</style>\n",
       "<table border=\"1\" class=\"dataframe\">\n",
       "  <thead>\n",
       "    <tr style=\"text-align: right;\">\n",
       "      <th></th>\n",
       "      <th>model</th>\n",
       "      <th>ROC_AUC</th>\n",
       "      <th>parameters</th>\n",
       "    </tr>\n",
       "  </thead>\n",
       "  <tbody>\n",
       "    <tr>\n",
       "      <th>LGBMClassifier</th>\n",
       "      <td>LGBMClassifier</td>\n",
       "      <td>0.984523</td>\n",
       "      <td>{'learning_rate': 0.192629191945092, 'n_estima...</td>\n",
       "    </tr>\n",
       "    <tr>\n",
       "      <th>XGBClassifier</th>\n",
       "      <td>XGBClassifier</td>\n",
       "      <td>0.963531</td>\n",
       "      <td>{'max_depth': 20, 'learning_rate': 0.05, 'n_es...</td>\n",
       "    </tr>\n",
       "    <tr>\n",
       "      <th>CatBoostClassifier</th>\n",
       "      <td>CatBoostClassifier</td>\n",
       "      <td>0.954029</td>\n",
       "      <td>{'max_depth': 11, 'learning_rate': 0.1, 'n_est...</td>\n",
       "    </tr>\n",
       "    <tr>\n",
       "      <th>RandomForestClassifier</th>\n",
       "      <td>RandomForestClassifier</td>\n",
       "      <td>0.945226</td>\n",
       "      <td>{'n_estimators': 78, 'max_depth': 17, 'criteri...</td>\n",
       "    </tr>\n",
       "    <tr>\n",
       "      <th>LogisticRegression</th>\n",
       "      <td>LogisticRegression</td>\n",
       "      <td>0.895107</td>\n",
       "      <td>{'C': 5.442650131187865, 'class_weight': 'bala...</td>\n",
       "    </tr>\n",
       "  </tbody>\n",
       "</table>\n",
       "</div>"
      ],
      "text/plain": [
       "                                         model   ROC_AUC  \\\n",
       "LGBMClassifier                  LGBMClassifier  0.984523   \n",
       "XGBClassifier                    XGBClassifier  0.963531   \n",
       "CatBoostClassifier          CatBoostClassifier  0.954029   \n",
       "RandomForestClassifier  RandomForestClassifier  0.945226   \n",
       "LogisticRegression          LogisticRegression  0.895107   \n",
       "\n",
       "                                                               parameters  \n",
       "LGBMClassifier          {'learning_rate': 0.192629191945092, 'n_estima...  \n",
       "XGBClassifier           {'max_depth': 20, 'learning_rate': 0.05, 'n_es...  \n",
       "CatBoostClassifier      {'max_depth': 11, 'learning_rate': 0.1, 'n_est...  \n",
       "RandomForestClassifier  {'n_estimators': 78, 'max_depth': 17, 'criteri...  \n",
       "LogisticRegression      {'C': 5.442650131187865, 'class_weight': 'bala...  "
      ]
     },
     "execution_count": 43,
     "metadata": {},
     "output_type": "execute_result"
    }
   ],
   "source": [
    "final_data_results"
   ]
  },
  {
   "cell_type": "markdown",
   "id": "6eb1f347",
   "metadata": {},
   "source": [
    "### Вывод\n",
    "Лучший результат показал `LGBMClassifier`. На нем и сконцентрируемся."
   ]
  },
  {
   "cell_type": "markdown",
   "id": "e00e632a",
   "metadata": {},
   "source": [
    "## Тестирование модели"
   ]
  },
  {
   "cell_type": "markdown",
   "id": "f04af150",
   "metadata": {},
   "source": [
    "Используем лучшие гиперпараметры, которые удалось найти с помощью `Optuna`"
   ]
  },
  {
   "cell_type": "code",
   "execution_count": 44,
   "id": "eac26870",
   "metadata": {},
   "outputs": [],
   "source": [
    "best_params = {'learning_rate': 0.5619493099944152, \n",
    "               'n_estimators': 2006, \n",
    "               'max_depth': 2, \n",
    "               'min_child_samples': 119, \n",
    "               'num_leaves': 196, \n",
    "               'min_data_per_group': 161}"
   ]
  },
  {
   "cell_type": "code",
   "execution_count": 45,
   "id": "65928555",
   "metadata": {
    "scrolled": true
   },
   "outputs": [
    {
     "name": "stdout",
     "output_type": "stream",
     "text": [
      "ROC_AUC: 0.8801658833561387\n",
      "Accuracy_score: 0.9131175468483816\n",
      "Гиперпараметры: {'learning_rate': 0.5619493099944152, 'n_estimators': 2006, 'max_depth': 2, 'min_child_samples': 119, 'num_leaves': 196, 'min_data_per_group': 161}\n"
     ]
    }
   ],
   "source": [
    "model = LGBMClassifier(**best_params, random_state=RANDOM_STATE)\n",
    "model.fit(features_train, target_train)\n",
    "print('ROC_AUC:', roc_auc_score(target_test, model.predict(features_test)))\n",
    "print('Accuracy_score:', accuracy_score(target_test, model.predict(features_test)))\n",
    "print('Гиперпараметры:', best_params)"
   ]
  },
  {
   "cell_type": "markdown",
   "id": "59fb969c",
   "metadata": {},
   "source": [
    "Мы достигли результата AUC_ROC > 0.88, что отличный результат. Теперь осталось проверить нашу модель на адекватность. Используем `DummyClassifier`, как константную модель:"
   ]
  },
  {
   "cell_type": "code",
   "execution_count": 46,
   "id": "2db73dcb",
   "metadata": {
    "scrolled": false
   },
   "outputs": [
    {
     "name": "stdout",
     "output_type": "stream",
     "text": [
      "ROC_AUC: 0.5\n",
      "Accuracy_score: 0.7342419080068143\n"
     ]
    }
   ],
   "source": [
    "model = DummyClassifier(random_state=RANDOM_STATE)\n",
    "model.fit(features_train, target_train)\n",
    "print('ROC_AUC:', roc_auc_score(target_test, model.predict(features_test)))\n",
    "print('Accuracy_score:', accuracy_score(target_test, model.predict(features_test)))"
   ]
  },
  {
   "cell_type": "markdown",
   "id": "cf5a9d61",
   "metadata": {},
   "source": [
    "Показатели нашей модели лучше - она адекватна."
   ]
  },
  {
   "cell_type": "markdown",
   "id": "30aa0c0b",
   "metadata": {},
   "source": [
    "Взглянем на важность признаков для нашей модели:"
   ]
  },
  {
   "cell_type": "code",
   "execution_count": 47,
   "id": "7df92866",
   "metadata": {
    "scrolled": true
   },
   "outputs": [
    {
     "data": {
      "image/png": "[encoded data removed]",
      "text/plain": [
       "<Figure size 432x288 with 1 Axes>"
      ]
     },
     "metadata": {
      "needs_background": "light"
     },
     "output_type": "display_data"
    }
   ],
   "source": [
    "model = LGBMClassifier(**study.best_params, random_state=RANDOM_STATE)\n",
    "model.fit(features_train, target_train)\n",
    "plot_importance(model)\n",
    "plt.show()"
   ]
  },
  {
   "cell_type": "markdown",
   "id": "fd31839c",
   "metadata": {},
   "source": [
    "4 самых важных признака:\n",
    "* `TotalCharges`\n",
    "* `MonthlyCharges`\n",
    "* `BeginDate_year`\n",
    "* `BeginDate_month`\n",
    "\n",
    "В итоге, больше всего влияет счет на оплату и время, которые клиент был с компанией. Скорее всего, чем дольше остается клиент, тем больше `TotalCharges` и тем меньше вероятность, что клиент уйдет. Если это так, то важно удерживать новых клиентов, поскольку у них и будет самая высокая вероятность уйти."
   ]
  },
  {
   "cell_type": "markdown",
   "id": "3dded3fc",
   "metadata": {},
   "source": [
    "Построим ROC-кривую:"
   ]
  },
  {
   "cell_type": "code",
   "execution_count": 48,
   "id": "9abf53fd",
   "metadata": {},
   "outputs": [
    {
     "data": {
      "image/png": "[encoded data removed]",
      "text/plain": [
       "<Figure size 432x288 with 1 Axes>"
      ]
     },
     "metadata": {
      "needs_background": "light"
     },
     "output_type": "display_data"
    }
   ],
   "source": [
    "probabilities_valid = model.predict_proba(features_test)\n",
    "probabilities_one_valid = probabilities_valid[:, 1]\n",
    "\n",
    "fpr, tpr, thresholds = roc_curve(target_test, probabilities_one_valid)\n",
    "\n",
    "plt.figure()\n",
    "plt.plot(fpr, tpr)\n",
    "plt.xlim([0.0, 1.0])\n",
    "plt.ylim([0.0, 1.0])\n",
    "plt.xlabel('False Positive Rate')\n",
    "plt.ylabel('True Positive Rate')\n",
    "plt.title('ROC-кривая')\n",
    "\n",
    "plt.show()"
   ]
  },
  {
   "cell_type": "markdown",
   "id": "960466b2",
   "metadata": {},
   "source": [
    "## Вывод\n",
    "Мы обучили адекватную модель, которая соответствует поставленным требованиям. Для борьбы с дизбалансом использовался `SMOTE`, для поиска оптимальных параметров - `Optuna`. \n",
    "\n",
    "Лучший результат показал бустинг `LGBMClassifier` с гиперпараметрами: \n",
    "\n",
    "* `{'learning_rate': 0.5619493099944152, 'n_estimators': 2006, 'max_depth': 2, 'min_child_samples': 119, 'num_leaves': 196, 'min_data_per_group': 161}`. \n",
    "\n",
    "Показатели `ROC AUC` - 0.88\n",
    "\n",
    "Показатели `Accuracy` - 0.91"
   ]
  },
  {
   "cell_type": "markdown",
   "id": "424bd530",
   "metadata": {},
   "source": [
    "## Отчет"
   ]
  },
  {
   "cell_type": "markdown",
   "id": "3d5ed996",
   "metadata": {},
   "source": [
    "Все пункты плана были выполнены. Как и планировалось, мы создали новый столбец как целевой признак, заполнили пропуски, кодировали данные с OHE, получили тестовую и обучающую выборки, обучили модели, выбрали лучшую и протестировали её."
   ]
  },
  {
   "cell_type": "markdown",
   "id": "6069c299",
   "metadata": {},
   "source": [
    "Трудности, с которыми столкнулись по ходу работы:\n",
    "* В данных были некоторые пропуски, но мы нашли способ их аутентично заполнить\n",
    "* После анализа корреляций стало очевидно, что некоторые данные только создадут лишний шум для модели, поэтому мы их удалили\n",
    "* В данных наблюдался дизбаланс классов, что негативно отразилось бы на обучении модели, поэтому мы использовали `SMOTE`, чтобы от него избавиться\n",
    "* Для поиска оптимальных гиперпараметров моделей использовали `Optuna` с широким разбросом гиперпараметров, что может занять много времени, зато позволило достичь хороших показателей метрик"
   ]
  },
  {
   "cell_type": "markdown",
   "id": "6da3bcf8",
   "metadata": {},
   "source": [
    "Ключевые шаги:\n",
    "* **Первоначальный анализ данных:**\n",
    "    * Загрузили данные и проанализировали их по отдельности\n",
    "    * Объеденили датасеты, посмотрели на общий анализ с помощью `ProfileReport`\n",
    "    * Провели анализ корреляций\n",
    "* **Предобработка данных:**\n",
    "    * Создали новый столбец `Leaving`, который служит целевым признаком\n",
    "    * Удалили столбцы без корреляций, которые создавали бы лишний шум для модели\n",
    "    * Заполнили пропуски\n",
    "    * Закодировали данные с OHE\n",
    "    * Получили тестовую и обучающую выборку\n",
    "    * Избавились от дизбаланса классов с помощью `SMOTE`\n",
    "* **Обучили несколько моделей c `Optuna`:**\n",
    "    * LogisticRegression\n",
    "    * RandomForestClassifier\n",
    "    * CatBoostClassifier\n",
    "    * XGBClassifier\n",
    "    * LGBMClassifier\n",
    "* **Тестирование лучшей модели (LGBMClassifier):**\n",
    "    * Проверили модель на адекватность\n",
    "    * Посмотрели на важности признаков\n",
    "    * Визуализировали ROC-кривую"
   ]
  },
  {
   "attachments": {
    "%D0%B7%D0%B0%D0%B3%D1%80%D1%83%D0%B6%D0%B5%D0%BD%D0%BD%D0%BE%D0%B5%20%281%29.png": {
     "image/png": "[encoded data removed]"
    }
   },
   "cell_type": "markdown",
   "id": "2135eee0",
   "metadata": {},
   "source": [
    "Итоговая модель -  бустинг `LGBMClassifier` \n",
    "* Гиперпараметры: `{'learning_rate': 0.5619493099944152, 'n_estimators': 2006, 'max_depth': 2, 'min_child_samples': 119, 'num_leaves': 196, 'min_data_per_group': 161}` \n",
    "* Важность признаков для итоговой модели:\n",
    "\n",
    "![%D0%B7%D0%B0%D0%B3%D1%80%D1%83%D0%B6%D0%B5%D0%BD%D0%BD%D0%BE%D0%B5%20%281%29.png](attachment:%D0%B7%D0%B0%D0%B3%D1%80%D1%83%D0%B6%D0%B5%D0%BD%D0%BD%D0%BE%D0%B5%20%281%29.png)\n",
    "\n",
    "Больше всего на модель влияют 4 признака:\n",
    "* `TotalCharges`\n",
    "* `MonthlyCharges`\n",
    "* `BeginDate_year`\n",
    "* `BeginDate_month`"
   ]
  },
  {
   "attachments": {
    "%D0%B7%D0%B0%D0%B3%D1%80%D1%83%D0%B6%D0%B5%D0%BD%D0%BD%D0%BE%D0%B5.png": {
     "image/png": "[encoded data removed]"
    }
   },
   "cell_type": "markdown",
   "id": "0bc18d3b",
   "metadata": {},
   "source": [
    "Показатели метрик:\n",
    "* `ROC AUC` - 0.88\n",
    "* `Accuracy` - 0.91\n",
    "![%D0%B7%D0%B0%D0%B3%D1%80%D1%83%D0%B6%D0%B5%D0%BD%D0%BD%D0%BE%D0%B5.png](attachment:%D0%B7%D0%B0%D0%B3%D1%80%D1%83%D0%B6%D0%B5%D0%BD%D0%BD%D0%BE%D0%B5.png)"
   ]
  }
 ],
 "metadata": {
  "ExecuteTimeLog": [
   {
    "duration": 5,
    "start_time": "2022-09-16T13:13:54.505Z"
   },
   {
    "duration": 508,
    "start_time": "2022-09-16T13:13:54.514Z"
   },
   {
    "duration": 0,
    "start_time": "2022-09-16T13:13:55.026Z"
   },
   {
    "duration": 0,
    "start_time": "2022-09-16T13:13:55.027Z"
   },
   {
    "duration": 0,
    "start_time": "2022-09-16T13:13:55.028Z"
   },
   {
    "duration": 0,
    "start_time": "2022-09-16T13:13:55.029Z"
   },
   {
    "duration": 0,
    "start_time": "2022-09-16T13:13:55.029Z"
   },
   {
    "duration": 0,
    "start_time": "2022-09-16T13:13:55.030Z"
   },
   {
    "duration": 0,
    "start_time": "2022-09-16T13:13:55.031Z"
   },
   {
    "duration": 0,
    "start_time": "2022-09-16T13:13:55.032Z"
   },
   {
    "duration": 0,
    "start_time": "2022-09-16T13:13:55.033Z"
   },
   {
    "duration": 0,
    "start_time": "2022-09-16T13:13:55.034Z"
   },
   {
    "duration": 0,
    "start_time": "2022-09-16T13:13:55.035Z"
   },
   {
    "duration": 0,
    "start_time": "2022-09-16T13:13:55.036Z"
   },
   {
    "duration": 14232,
    "start_time": "2022-09-16T13:14:21.948Z"
   },
   {
    "duration": 1805,
    "start_time": "2022-09-16T13:14:36.183Z"
   },
   {
    "duration": 203,
    "start_time": "2022-09-16T13:14:37.991Z"
   },
   {
    "duration": 0,
    "start_time": "2022-09-16T13:14:38.196Z"
   },
   {
    "duration": 0,
    "start_time": "2022-09-16T13:14:38.199Z"
   },
   {
    "duration": 0,
    "start_time": "2022-09-16T13:14:38.208Z"
   },
   {
    "duration": 0,
    "start_time": "2022-09-16T13:14:38.209Z"
   },
   {
    "duration": 0,
    "start_time": "2022-09-16T13:14:38.210Z"
   },
   {
    "duration": 0,
    "start_time": "2022-09-16T13:14:38.212Z"
   },
   {
    "duration": 0,
    "start_time": "2022-09-16T13:14:38.213Z"
   },
   {
    "duration": 0,
    "start_time": "2022-09-16T13:14:38.214Z"
   },
   {
    "duration": 0,
    "start_time": "2022-09-16T13:14:38.214Z"
   },
   {
    "duration": 0,
    "start_time": "2022-09-16T13:14:38.215Z"
   },
   {
    "duration": 0,
    "start_time": "2022-09-16T13:14:38.216Z"
   },
   {
    "duration": 4,
    "start_time": "2022-09-16T13:17:57.319Z"
   },
   {
    "duration": 1795,
    "start_time": "2022-09-16T13:17:57.325Z"
   },
   {
    "duration": 208,
    "start_time": "2022-09-16T13:17:59.122Z"
   },
   {
    "duration": 0,
    "start_time": "2022-09-16T13:17:59.333Z"
   },
   {
    "duration": 0,
    "start_time": "2022-09-16T13:17:59.335Z"
   },
   {
    "duration": 0,
    "start_time": "2022-09-16T13:17:59.336Z"
   },
   {
    "duration": 0,
    "start_time": "2022-09-16T13:17:59.337Z"
   },
   {
    "duration": 0,
    "start_time": "2022-09-16T13:17:59.339Z"
   },
   {
    "duration": 0,
    "start_time": "2022-09-16T13:17:59.340Z"
   },
   {
    "duration": 0,
    "start_time": "2022-09-16T13:17:59.343Z"
   },
   {
    "duration": 0,
    "start_time": "2022-09-16T13:17:59.344Z"
   },
   {
    "duration": 0,
    "start_time": "2022-09-16T13:17:59.345Z"
   },
   {
    "duration": 0,
    "start_time": "2022-09-16T13:17:59.347Z"
   },
   {
    "duration": 0,
    "start_time": "2022-09-16T13:17:59.348Z"
   },
   {
    "duration": 4,
    "start_time": "2022-09-18T11:48:54.258Z"
   },
   {
    "duration": 497,
    "start_time": "2022-09-18T11:48:54.264Z"
   },
   {
    "duration": 0,
    "start_time": "2022-09-18T11:48:54.764Z"
   },
   {
    "duration": 0,
    "start_time": "2022-09-18T11:48:54.765Z"
   },
   {
    "duration": 0,
    "start_time": "2022-09-18T11:48:54.767Z"
   },
   {
    "duration": 0,
    "start_time": "2022-09-18T11:48:54.768Z"
   },
   {
    "duration": 0,
    "start_time": "2022-09-18T11:48:54.769Z"
   },
   {
    "duration": 0,
    "start_time": "2022-09-18T11:48:54.770Z"
   },
   {
    "duration": 0,
    "start_time": "2022-09-18T11:48:54.771Z"
   },
   {
    "duration": 0,
    "start_time": "2022-09-18T11:48:54.773Z"
   },
   {
    "duration": 0,
    "start_time": "2022-09-18T11:48:54.774Z"
   },
   {
    "duration": 0,
    "start_time": "2022-09-18T11:48:54.775Z"
   },
   {
    "duration": 0,
    "start_time": "2022-09-18T11:48:54.795Z"
   },
   {
    "duration": 0,
    "start_time": "2022-09-18T11:48:54.796Z"
   },
   {
    "duration": 0,
    "start_time": "2022-09-18T11:48:54.797Z"
   },
   {
    "duration": 0,
    "start_time": "2022-09-18T11:48:54.798Z"
   },
   {
    "duration": 0,
    "start_time": "2022-09-18T11:48:54.799Z"
   },
   {
    "duration": 0,
    "start_time": "2022-09-18T11:48:54.800Z"
   },
   {
    "duration": 0,
    "start_time": "2022-09-18T11:48:54.801Z"
   },
   {
    "duration": 0,
    "start_time": "2022-09-18T11:48:54.802Z"
   },
   {
    "duration": 0,
    "start_time": "2022-09-18T11:48:54.804Z"
   },
   {
    "duration": 0,
    "start_time": "2022-09-18T11:48:54.805Z"
   },
   {
    "duration": 13678,
    "start_time": "2022-09-18T11:49:13.958Z"
   },
   {
    "duration": 1843,
    "start_time": "2022-09-18T11:49:27.638Z"
   },
   {
    "duration": 160,
    "start_time": "2022-09-18T11:49:29.483Z"
   },
   {
    "duration": 7,
    "start_time": "2022-09-18T11:49:29.645Z"
   },
   {
    "duration": 12,
    "start_time": "2022-09-18T11:49:29.653Z"
   },
   {
    "duration": 17,
    "start_time": "2022-09-18T11:49:29.666Z"
   },
   {
    "duration": 8,
    "start_time": "2022-09-18T11:49:29.685Z"
   },
   {
    "duration": 29,
    "start_time": "2022-09-18T11:49:29.695Z"
   },
   {
    "duration": 12,
    "start_time": "2022-09-18T11:49:29.726Z"
   },
   {
    "duration": 760,
    "start_time": "2022-09-18T11:49:29.742Z"
   },
   {
    "duration": 120,
    "start_time": "2022-09-18T11:49:30.504Z"
   },
   {
    "duration": 101,
    "start_time": "2022-09-18T11:49:30.625Z"
   },
   {
    "duration": 98,
    "start_time": "2022-09-18T11:49:30.728Z"
   },
   {
    "duration": 80,
    "start_time": "2022-09-18T11:49:30.828Z"
   },
   {
    "duration": 6,
    "start_time": "2022-09-18T11:49:30.910Z"
   },
   {
    "duration": 7,
    "start_time": "2022-09-18T11:49:30.917Z"
   },
   {
    "duration": 117,
    "start_time": "2022-09-18T11:49:30.926Z"
   },
   {
    "duration": 53,
    "start_time": "2022-09-18T11:49:31.045Z"
   },
   {
    "duration": 8,
    "start_time": "2022-09-18T11:49:31.100Z"
   },
   {
    "duration": 51,
    "start_time": "2022-09-18T11:49:31.110Z"
   },
   {
    "duration": 13415,
    "start_time": "2022-09-18T11:49:31.163Z"
   },
   {
    "duration": 19987,
    "start_time": "2022-09-18T11:49:44.580Z"
   },
   {
    "duration": 13389,
    "start_time": "2022-09-18T13:00:11.215Z"
   },
   {
    "duration": 9805,
    "start_time": "2022-09-18T13:00:24.606Z"
   },
   {
    "duration": 294,
    "start_time": "2022-09-18T13:00:34.415Z"
   },
   {
    "duration": 87,
    "start_time": "2022-09-18T13:00:34.714Z"
   },
   {
    "duration": 109,
    "start_time": "2022-09-18T13:00:34.898Z"
   },
   {
    "duration": 292,
    "start_time": "2022-09-18T13:00:35.013Z"
   },
   {
    "duration": 107,
    "start_time": "2022-09-18T13:00:35.311Z"
   },
   {
    "duration": 118,
    "start_time": "2022-09-18T13:00:35.499Z"
   },
   {
    "duration": 94,
    "start_time": "2022-09-18T13:00:35.700Z"
   },
   {
    "duration": 4217,
    "start_time": "2022-09-18T13:00:35.802Z"
   },
   {
    "duration": 500,
    "start_time": "2022-09-18T13:00:40.096Z"
   },
   {
    "duration": 614,
    "start_time": "2022-09-18T13:00:40.601Z"
   },
   {
    "duration": 427,
    "start_time": "2022-09-18T13:00:41.294Z"
   },
   {
    "duration": 321,
    "start_time": "2022-09-18T13:00:41.798Z"
   },
   {
    "duration": 9,
    "start_time": "2022-09-18T13:00:42.200Z"
   },
   {
    "duration": 91,
    "start_time": "2022-09-18T13:00:42.212Z"
   },
   {
    "duration": 293,
    "start_time": "2022-09-18T13:00:42.305Z"
   },
   {
    "duration": 208,
    "start_time": "2022-09-18T13:00:42.601Z"
   },
   {
    "duration": 93,
    "start_time": "2022-09-18T13:00:42.813Z"
   },
   {
    "duration": 381,
    "start_time": "2022-09-18T13:00:42.919Z"
   },
   {
    "duration": 70292,
    "start_time": "2022-09-18T13:00:43.304Z"
   },
   {
    "duration": 126018,
    "start_time": "2022-09-18T13:01:53.598Z"
   },
   {
    "duration": 49,
    "start_time": "2022-09-18T13:29:57.410Z"
   },
   {
    "duration": 42,
    "start_time": "2022-09-18T13:30:22.756Z"
   },
   {
    "duration": 6,
    "start_time": "2022-09-20T21:12:07.228Z"
   },
   {
    "duration": 6,
    "start_time": "2022-09-20T21:12:07.236Z"
   },
   {
    "duration": 442,
    "start_time": "2022-09-20T21:12:07.243Z"
   },
   {
    "duration": 0,
    "start_time": "2022-09-20T21:12:07.688Z"
   },
   {
    "duration": 0,
    "start_time": "2022-09-20T21:12:07.689Z"
   },
   {
    "duration": 0,
    "start_time": "2022-09-20T21:12:07.691Z"
   },
   {
    "duration": 0,
    "start_time": "2022-09-20T21:12:07.692Z"
   },
   {
    "duration": 0,
    "start_time": "2022-09-20T21:12:07.693Z"
   },
   {
    "duration": 0,
    "start_time": "2022-09-20T21:12:07.694Z"
   },
   {
    "duration": 0,
    "start_time": "2022-09-20T21:12:07.695Z"
   },
   {
    "duration": 0,
    "start_time": "2022-09-20T21:12:07.696Z"
   },
   {
    "duration": 0,
    "start_time": "2022-09-20T21:12:07.697Z"
   },
   {
    "duration": 0,
    "start_time": "2022-09-20T21:12:07.698Z"
   },
   {
    "duration": 0,
    "start_time": "2022-09-20T21:12:07.699Z"
   },
   {
    "duration": 0,
    "start_time": "2022-09-20T21:12:07.700Z"
   },
   {
    "duration": 0,
    "start_time": "2022-09-20T21:12:07.723Z"
   },
   {
    "duration": 0,
    "start_time": "2022-09-20T21:12:07.723Z"
   },
   {
    "duration": 0,
    "start_time": "2022-09-20T21:12:07.724Z"
   },
   {
    "duration": 0,
    "start_time": "2022-09-20T21:12:07.724Z"
   },
   {
    "duration": 0,
    "start_time": "2022-09-20T21:12:07.725Z"
   },
   {
    "duration": 0,
    "start_time": "2022-09-20T21:12:07.725Z"
   },
   {
    "duration": 0,
    "start_time": "2022-09-20T21:12:07.726Z"
   },
   {
    "duration": 0,
    "start_time": "2022-09-20T21:12:07.726Z"
   },
   {
    "duration": 0,
    "start_time": "2022-09-20T21:12:07.727Z"
   },
   {
    "duration": 1,
    "start_time": "2022-09-20T21:12:07.727Z"
   },
   {
    "duration": 0,
    "start_time": "2022-09-20T21:12:07.728Z"
   },
   {
    "duration": 0,
    "start_time": "2022-09-20T21:12:07.729Z"
   },
   {
    "duration": 0,
    "start_time": "2022-09-20T21:12:07.729Z"
   },
   {
    "duration": 0,
    "start_time": "2022-09-20T21:12:07.730Z"
   },
   {
    "duration": 0,
    "start_time": "2022-09-20T21:12:07.730Z"
   },
   {
    "duration": 0,
    "start_time": "2022-09-20T21:12:07.731Z"
   },
   {
    "duration": 0,
    "start_time": "2022-09-20T21:12:07.735Z"
   },
   {
    "duration": 0,
    "start_time": "2022-09-20T21:12:07.736Z"
   },
   {
    "duration": 0,
    "start_time": "2022-09-20T21:12:07.736Z"
   },
   {
    "duration": 0,
    "start_time": "2022-09-20T21:12:07.737Z"
   },
   {
    "duration": 1,
    "start_time": "2022-09-20T21:12:07.737Z"
   },
   {
    "duration": 0,
    "start_time": "2022-09-20T21:12:07.738Z"
   },
   {
    "duration": 0,
    "start_time": "2022-09-20T21:12:07.740Z"
   },
   {
    "duration": 0,
    "start_time": "2022-09-20T21:12:07.741Z"
   },
   {
    "duration": 0,
    "start_time": "2022-09-20T21:12:07.742Z"
   },
   {
    "duration": 0,
    "start_time": "2022-09-20T21:12:07.743Z"
   },
   {
    "duration": 0,
    "start_time": "2022-09-20T21:12:07.744Z"
   },
   {
    "duration": 13161,
    "start_time": "2022-09-20T21:38:37.401Z"
   },
   {
    "duration": 2085,
    "start_time": "2022-09-20T21:38:50.564Z"
   },
   {
    "duration": 2199,
    "start_time": "2022-09-20T21:38:52.651Z"
   },
   {
    "duration": 0,
    "start_time": "2022-09-20T21:38:54.853Z"
   },
   {
    "duration": 0,
    "start_time": "2022-09-20T21:38:54.854Z"
   },
   {
    "duration": 0,
    "start_time": "2022-09-20T21:38:54.854Z"
   },
   {
    "duration": 0,
    "start_time": "2022-09-20T21:38:54.855Z"
   },
   {
    "duration": 0,
    "start_time": "2022-09-20T21:38:54.856Z"
   },
   {
    "duration": 0,
    "start_time": "2022-09-20T21:38:54.857Z"
   },
   {
    "duration": 0,
    "start_time": "2022-09-20T21:38:54.858Z"
   },
   {
    "duration": 0,
    "start_time": "2022-09-20T21:38:54.859Z"
   },
   {
    "duration": 0,
    "start_time": "2022-09-20T21:38:54.860Z"
   },
   {
    "duration": 0,
    "start_time": "2022-09-20T21:38:54.861Z"
   },
   {
    "duration": 0,
    "start_time": "2022-09-20T21:38:54.862Z"
   },
   {
    "duration": 0,
    "start_time": "2022-09-20T21:38:54.863Z"
   },
   {
    "duration": 0,
    "start_time": "2022-09-20T21:38:54.864Z"
   },
   {
    "duration": 0,
    "start_time": "2022-09-20T21:38:54.864Z"
   },
   {
    "duration": 0,
    "start_time": "2022-09-20T21:38:54.865Z"
   },
   {
    "duration": 0,
    "start_time": "2022-09-20T21:38:54.866Z"
   },
   {
    "duration": 0,
    "start_time": "2022-09-20T21:38:54.867Z"
   },
   {
    "duration": 0,
    "start_time": "2022-09-20T21:38:54.868Z"
   },
   {
    "duration": 0,
    "start_time": "2022-09-20T21:38:54.869Z"
   },
   {
    "duration": 0,
    "start_time": "2022-09-20T21:38:54.870Z"
   },
   {
    "duration": 0,
    "start_time": "2022-09-20T21:38:54.871Z"
   },
   {
    "duration": 0,
    "start_time": "2022-09-20T21:38:54.872Z"
   },
   {
    "duration": 0,
    "start_time": "2022-09-20T21:38:54.873Z"
   },
   {
    "duration": 0,
    "start_time": "2022-09-20T21:38:54.873Z"
   },
   {
    "duration": 0,
    "start_time": "2022-09-20T21:38:54.874Z"
   },
   {
    "duration": 0,
    "start_time": "2022-09-20T21:38:54.875Z"
   },
   {
    "duration": 0,
    "start_time": "2022-09-20T21:38:54.876Z"
   },
   {
    "duration": 0,
    "start_time": "2022-09-20T21:38:54.877Z"
   },
   {
    "duration": 0,
    "start_time": "2022-09-20T21:38:54.878Z"
   },
   {
    "duration": 0,
    "start_time": "2022-09-20T21:38:54.922Z"
   },
   {
    "duration": 0,
    "start_time": "2022-09-20T21:38:54.923Z"
   },
   {
    "duration": 0,
    "start_time": "2022-09-20T21:38:54.924Z"
   },
   {
    "duration": 0,
    "start_time": "2022-09-20T21:38:54.925Z"
   },
   {
    "duration": 0,
    "start_time": "2022-09-20T21:38:54.926Z"
   },
   {
    "duration": 0,
    "start_time": "2022-09-20T21:38:54.927Z"
   },
   {
    "duration": 0,
    "start_time": "2022-09-20T21:38:54.928Z"
   },
   {
    "duration": 0,
    "start_time": "2022-09-20T21:38:54.930Z"
   },
   {
    "duration": 0,
    "start_time": "2022-09-20T21:38:54.931Z"
   },
   {
    "duration": 0,
    "start_time": "2022-09-20T21:38:54.932Z"
   },
   {
    "duration": 2175,
    "start_time": "2022-09-20T21:48:22.795Z"
   },
   {
    "duration": 2107,
    "start_time": "2022-09-20T21:48:24.972Z"
   },
   {
    "duration": 10634,
    "start_time": "2022-09-20T21:48:27.081Z"
   },
   {
    "duration": 2599,
    "start_time": "2022-09-20T21:48:37.717Z"
   },
   {
    "duration": 71,
    "start_time": "2022-09-20T21:48:40.317Z"
   },
   {
    "duration": 5,
    "start_time": "2022-09-20T21:48:40.390Z"
   },
   {
    "duration": 10,
    "start_time": "2022-09-20T21:48:40.397Z"
   },
   {
    "duration": 14,
    "start_time": "2022-09-20T21:48:40.408Z"
   },
   {
    "duration": 6,
    "start_time": "2022-09-20T21:48:40.424Z"
   },
   {
    "duration": 25,
    "start_time": "2022-09-20T21:48:40.432Z"
   },
   {
    "duration": 8,
    "start_time": "2022-09-20T21:48:40.459Z"
   },
   {
    "duration": 703,
    "start_time": "2022-09-20T21:48:40.469Z"
   },
   {
    "duration": 114,
    "start_time": "2022-09-20T21:48:41.174Z"
   },
   {
    "duration": 96,
    "start_time": "2022-09-20T21:48:41.290Z"
   },
   {
    "duration": 89,
    "start_time": "2022-09-20T21:48:41.387Z"
   },
   {
    "duration": 60,
    "start_time": "2022-09-20T21:48:41.478Z"
   },
   {
    "duration": 5,
    "start_time": "2022-09-20T21:48:41.540Z"
   },
   {
    "duration": 8,
    "start_time": "2022-09-20T21:48:41.547Z"
   },
   {
    "duration": 39,
    "start_time": "2022-09-20T21:48:41.556Z"
   },
   {
    "duration": 29,
    "start_time": "2022-09-20T21:48:41.596Z"
   },
   {
    "duration": 7,
    "start_time": "2022-09-20T21:48:41.627Z"
   },
   {
    "duration": 25,
    "start_time": "2022-09-20T21:48:41.635Z"
   },
   {
    "duration": 11930,
    "start_time": "2022-09-20T21:48:41.661Z"
   },
   {
    "duration": 17904,
    "start_time": "2022-09-20T21:48:53.592Z"
   },
   {
    "duration": 5,
    "start_time": "2022-09-20T21:49:11.498Z"
   },
   {
    "duration": 17,
    "start_time": "2022-09-20T21:49:11.505Z"
   },
   {
    "duration": 7,
    "start_time": "2022-09-20T21:49:11.524Z"
   },
   {
    "duration": 31,
    "start_time": "2022-09-20T21:49:11.535Z"
   },
   {
    "duration": 6,
    "start_time": "2022-09-20T21:49:11.568Z"
   },
   {
    "duration": 17,
    "start_time": "2022-09-20T21:49:11.575Z"
   },
   {
    "duration": 8,
    "start_time": "2022-09-20T21:49:11.594Z"
   },
   {
    "duration": 10,
    "start_time": "2022-09-20T21:49:11.604Z"
   },
   {
    "duration": 24101,
    "start_time": "2022-09-20T21:49:11.622Z"
   },
   {
    "duration": 9171,
    "start_time": "2022-09-20T21:49:35.730Z"
   },
   {
    "duration": 78231,
    "start_time": "2022-09-20T21:49:44.903Z"
   },
   {
    "duration": 311003,
    "start_time": "2022-09-20T21:51:03.136Z"
   },
   {
    "duration": 100207,
    "start_time": "2022-09-20T21:56:14.140Z"
   },
   {
    "duration": 4,
    "start_time": "2022-09-20T21:57:54.349Z"
   },
   {
    "duration": 69,
    "start_time": "2022-09-20T21:57:54.354Z"
   },
   {
    "duration": 44,
    "start_time": "2022-09-20T21:57:54.425Z"
   },
   {
    "duration": 3,
    "start_time": "2022-09-22T15:49:59.074Z"
   },
   {
    "duration": 6,
    "start_time": "2022-09-22T15:49:59.079Z"
   },
   {
    "duration": 5,
    "start_time": "2022-09-22T15:49:59.086Z"
   },
   {
    "duration": 431,
    "start_time": "2022-09-22T15:49:59.093Z"
   },
   {
    "duration": 0,
    "start_time": "2022-09-22T15:49:59.527Z"
   },
   {
    "duration": 0,
    "start_time": "2022-09-22T15:49:59.528Z"
   },
   {
    "duration": 0,
    "start_time": "2022-09-22T15:49:59.529Z"
   },
   {
    "duration": 0,
    "start_time": "2022-09-22T15:49:59.530Z"
   },
   {
    "duration": 0,
    "start_time": "2022-09-22T15:49:59.533Z"
   },
   {
    "duration": 0,
    "start_time": "2022-09-22T15:49:59.534Z"
   },
   {
    "duration": 0,
    "start_time": "2022-09-22T15:49:59.535Z"
   },
   {
    "duration": 0,
    "start_time": "2022-09-22T15:49:59.536Z"
   },
   {
    "duration": 0,
    "start_time": "2022-09-22T15:49:59.538Z"
   },
   {
    "duration": 0,
    "start_time": "2022-09-22T15:49:59.538Z"
   },
   {
    "duration": 0,
    "start_time": "2022-09-22T15:49:59.540Z"
   },
   {
    "duration": 0,
    "start_time": "2022-09-22T15:49:59.540Z"
   },
   {
    "duration": 0,
    "start_time": "2022-09-22T15:49:59.541Z"
   },
   {
    "duration": 0,
    "start_time": "2022-09-22T15:49:59.542Z"
   },
   {
    "duration": 0,
    "start_time": "2022-09-22T15:49:59.543Z"
   },
   {
    "duration": 0,
    "start_time": "2022-09-22T15:49:59.544Z"
   },
   {
    "duration": 0,
    "start_time": "2022-09-22T15:49:59.545Z"
   },
   {
    "duration": 0,
    "start_time": "2022-09-22T15:49:59.546Z"
   },
   {
    "duration": 0,
    "start_time": "2022-09-22T15:49:59.547Z"
   },
   {
    "duration": 0,
    "start_time": "2022-09-22T15:49:59.548Z"
   },
   {
    "duration": 0,
    "start_time": "2022-09-22T15:49:59.549Z"
   },
   {
    "duration": 0,
    "start_time": "2022-09-22T15:49:59.549Z"
   },
   {
    "duration": 0,
    "start_time": "2022-09-22T15:49:59.550Z"
   },
   {
    "duration": 0,
    "start_time": "2022-09-22T15:49:59.551Z"
   },
   {
    "duration": 0,
    "start_time": "2022-09-22T15:49:59.552Z"
   },
   {
    "duration": 0,
    "start_time": "2022-09-22T15:49:59.553Z"
   },
   {
    "duration": 0,
    "start_time": "2022-09-22T15:49:59.554Z"
   },
   {
    "duration": 0,
    "start_time": "2022-09-22T15:49:59.555Z"
   },
   {
    "duration": 0,
    "start_time": "2022-09-22T15:49:59.556Z"
   },
   {
    "duration": 0,
    "start_time": "2022-09-22T15:49:59.557Z"
   },
   {
    "duration": 0,
    "start_time": "2022-09-22T15:49:59.558Z"
   },
   {
    "duration": 0,
    "start_time": "2022-09-22T15:49:59.559Z"
   },
   {
    "duration": 0,
    "start_time": "2022-09-22T15:49:59.560Z"
   },
   {
    "duration": 0,
    "start_time": "2022-09-22T15:49:59.561Z"
   },
   {
    "duration": 0,
    "start_time": "2022-09-22T15:49:59.562Z"
   },
   {
    "duration": 0,
    "start_time": "2022-09-22T15:49:59.563Z"
   },
   {
    "duration": 0,
    "start_time": "2022-09-22T15:49:59.563Z"
   },
   {
    "duration": 0,
    "start_time": "2022-09-22T15:49:59.564Z"
   },
   {
    "duration": 0,
    "start_time": "2022-09-22T15:49:59.565Z"
   },
   {
    "duration": 0,
    "start_time": "2022-09-22T15:49:59.566Z"
   },
   {
    "duration": 0,
    "start_time": "2022-09-22T15:49:59.567Z"
   },
   {
    "duration": 0,
    "start_time": "2022-09-22T15:49:59.568Z"
   },
   {
    "duration": 26370,
    "start_time": "2022-09-22T16:00:05.509Z"
   },
   {
    "duration": 8639,
    "start_time": "2022-09-22T16:00:31.881Z"
   },
   {
    "duration": 11756,
    "start_time": "2022-09-22T16:00:40.522Z"
   },
   {
    "duration": 3064,
    "start_time": "2022-09-22T16:00:52.280Z"
   },
   {
    "duration": 0,
    "start_time": "2022-09-22T16:00:55.348Z"
   },
   {
    "duration": 0,
    "start_time": "2022-09-22T16:00:55.350Z"
   },
   {
    "duration": 0,
    "start_time": "2022-09-22T16:00:55.351Z"
   },
   {
    "duration": 0,
    "start_time": "2022-09-22T16:00:55.352Z"
   },
   {
    "duration": 0,
    "start_time": "2022-09-22T16:00:55.354Z"
   },
   {
    "duration": 0,
    "start_time": "2022-09-22T16:00:55.355Z"
   },
   {
    "duration": 0,
    "start_time": "2022-09-22T16:00:55.357Z"
   },
   {
    "duration": 0,
    "start_time": "2022-09-22T16:00:55.358Z"
   },
   {
    "duration": 0,
    "start_time": "2022-09-22T16:00:55.360Z"
   },
   {
    "duration": 0,
    "start_time": "2022-09-22T16:00:55.361Z"
   },
   {
    "duration": 0,
    "start_time": "2022-09-22T16:00:55.363Z"
   },
   {
    "duration": 0,
    "start_time": "2022-09-22T16:00:55.364Z"
   },
   {
    "duration": 0,
    "start_time": "2022-09-22T16:00:55.366Z"
   },
   {
    "duration": 0,
    "start_time": "2022-09-22T16:00:55.367Z"
   },
   {
    "duration": 0,
    "start_time": "2022-09-22T16:00:55.368Z"
   },
   {
    "duration": 0,
    "start_time": "2022-09-22T16:00:55.370Z"
   },
   {
    "duration": 0,
    "start_time": "2022-09-22T16:00:55.371Z"
   },
   {
    "duration": 0,
    "start_time": "2022-09-22T16:00:55.372Z"
   },
   {
    "duration": 0,
    "start_time": "2022-09-22T16:00:55.374Z"
   },
   {
    "duration": 0,
    "start_time": "2022-09-22T16:00:55.376Z"
   },
   {
    "duration": 0,
    "start_time": "2022-09-22T16:00:55.377Z"
   },
   {
    "duration": 0,
    "start_time": "2022-09-22T16:00:55.378Z"
   },
   {
    "duration": 0,
    "start_time": "2022-09-22T16:00:55.380Z"
   },
   {
    "duration": 0,
    "start_time": "2022-09-22T16:00:55.380Z"
   },
   {
    "duration": 0,
    "start_time": "2022-09-22T16:00:55.381Z"
   },
   {
    "duration": 0,
    "start_time": "2022-09-22T16:00:55.383Z"
   },
   {
    "duration": 0,
    "start_time": "2022-09-22T16:00:55.433Z"
   },
   {
    "duration": 0,
    "start_time": "2022-09-22T16:00:55.434Z"
   },
   {
    "duration": 0,
    "start_time": "2022-09-22T16:00:55.436Z"
   },
   {
    "duration": 0,
    "start_time": "2022-09-22T16:00:55.436Z"
   },
   {
    "duration": 0,
    "start_time": "2022-09-22T16:00:55.437Z"
   },
   {
    "duration": 0,
    "start_time": "2022-09-22T16:00:55.438Z"
   },
   {
    "duration": 0,
    "start_time": "2022-09-22T16:00:55.439Z"
   },
   {
    "duration": 0,
    "start_time": "2022-09-22T16:00:55.440Z"
   },
   {
    "duration": 0,
    "start_time": "2022-09-22T16:00:55.442Z"
   },
   {
    "duration": 0,
    "start_time": "2022-09-22T16:00:55.443Z"
   },
   {
    "duration": 0,
    "start_time": "2022-09-22T16:00:55.444Z"
   },
   {
    "duration": 0,
    "start_time": "2022-09-22T16:00:55.445Z"
   },
   {
    "duration": 0,
    "start_time": "2022-09-22T16:00:55.446Z"
   },
   {
    "duration": 0,
    "start_time": "2022-09-22T16:00:55.447Z"
   },
   {
    "duration": 0,
    "start_time": "2022-09-22T16:00:55.448Z"
   },
   {
    "duration": 0,
    "start_time": "2022-09-22T16:00:55.449Z"
   },
   {
    "duration": 2456,
    "start_time": "2022-09-22T16:33:48.936Z"
   },
   {
    "duration": 2243,
    "start_time": "2022-09-22T16:33:51.394Z"
   },
   {
    "duration": 2282,
    "start_time": "2022-09-22T16:33:53.639Z"
   },
   {
    "duration": 2820,
    "start_time": "2022-09-22T16:33:55.923Z"
   },
   {
    "duration": 133,
    "start_time": "2022-09-22T16:33:58.745Z"
   },
   {
    "duration": 5,
    "start_time": "2022-09-22T16:33:58.879Z"
   },
   {
    "duration": 8,
    "start_time": "2022-09-22T16:33:58.886Z"
   },
   {
    "duration": 14,
    "start_time": "2022-09-22T16:33:58.895Z"
   },
   {
    "duration": 5,
    "start_time": "2022-09-22T16:33:58.911Z"
   },
   {
    "duration": 29,
    "start_time": "2022-09-22T16:33:58.918Z"
   },
   {
    "duration": 9,
    "start_time": "2022-09-22T16:33:58.949Z"
   },
   {
    "duration": 689,
    "start_time": "2022-09-22T16:33:58.960Z"
   },
   {
    "duration": 129,
    "start_time": "2022-09-22T16:33:59.651Z"
   },
   {
    "duration": 95,
    "start_time": "2022-09-22T16:33:59.782Z"
   },
   {
    "duration": 86,
    "start_time": "2022-09-22T16:33:59.879Z"
   },
   {
    "duration": 126,
    "start_time": "2022-09-22T16:33:59.966Z"
   },
   {
    "duration": 5,
    "start_time": "2022-09-22T16:34:00.094Z"
   },
   {
    "duration": 10,
    "start_time": "2022-09-22T16:34:00.101Z"
   },
   {
    "duration": 64,
    "start_time": "2022-09-22T16:34:00.113Z"
   },
   {
    "duration": 62,
    "start_time": "2022-09-22T16:34:00.180Z"
   },
   {
    "duration": 7,
    "start_time": "2022-09-22T16:34:00.244Z"
   },
   {
    "duration": 41,
    "start_time": "2022-09-22T16:34:00.253Z"
   },
   {
    "duration": 12937,
    "start_time": "2022-09-22T16:34:00.296Z"
   },
   {
    "duration": 19162,
    "start_time": "2022-09-22T16:34:13.235Z"
   },
   {
    "duration": 6,
    "start_time": "2022-09-22T16:34:32.399Z"
   },
   {
    "duration": 15,
    "start_time": "2022-09-22T16:34:32.406Z"
   },
   {
    "duration": 10,
    "start_time": "2022-09-22T16:34:32.423Z"
   },
   {
    "duration": 18,
    "start_time": "2022-09-22T16:34:32.436Z"
   },
   {
    "duration": 5,
    "start_time": "2022-09-22T16:34:32.456Z"
   },
   {
    "duration": 19,
    "start_time": "2022-09-22T16:34:32.462Z"
   },
   {
    "duration": 4,
    "start_time": "2022-09-22T16:34:32.482Z"
   },
   {
    "duration": 11,
    "start_time": "2022-09-22T16:34:32.488Z"
   },
   {
    "duration": 9,
    "start_time": "2022-09-22T16:34:32.500Z"
   },
   {
    "duration": 232,
    "start_time": "2022-09-22T16:34:32.510Z"
   },
   {
    "duration": 0,
    "start_time": "2022-09-22T16:34:32.743Z"
   },
   {
    "duration": 0,
    "start_time": "2022-09-22T16:34:32.744Z"
   },
   {
    "duration": 0,
    "start_time": "2022-09-22T16:34:32.746Z"
   },
   {
    "duration": 0,
    "start_time": "2022-09-22T16:34:32.747Z"
   },
   {
    "duration": 0,
    "start_time": "2022-09-22T16:34:32.748Z"
   },
   {
    "duration": 0,
    "start_time": "2022-09-22T16:34:32.750Z"
   },
   {
    "duration": 0,
    "start_time": "2022-09-22T16:34:32.751Z"
   },
   {
    "duration": 0,
    "start_time": "2022-09-22T16:34:32.752Z"
   },
   {
    "duration": 0,
    "start_time": "2022-09-22T16:34:32.753Z"
   },
   {
    "duration": 0,
    "start_time": "2022-09-22T16:34:32.755Z"
   },
   {
    "duration": 0,
    "start_time": "2022-09-22T16:34:32.756Z"
   },
   {
    "duration": 0,
    "start_time": "2022-09-22T16:34:32.757Z"
   },
   {
    "duration": 2463,
    "start_time": "2022-09-22T16:38:35.533Z"
   },
   {
    "duration": 2290,
    "start_time": "2022-09-22T16:38:37.998Z"
   },
   {
    "duration": 2342,
    "start_time": "2022-09-22T16:38:40.289Z"
   },
   {
    "duration": 9495,
    "start_time": "2022-09-22T16:38:42.634Z"
   },
   {
    "duration": 3054,
    "start_time": "2022-09-22T16:38:52.131Z"
   },
   {
    "duration": 71,
    "start_time": "2022-09-22T16:38:55.186Z"
   },
   {
    "duration": 6,
    "start_time": "2022-09-22T16:38:55.258Z"
   },
   {
    "duration": 29,
    "start_time": "2022-09-22T16:38:55.266Z"
   },
   {
    "duration": 19,
    "start_time": "2022-09-22T16:38:55.297Z"
   },
   {
    "duration": 8,
    "start_time": "2022-09-22T16:38:55.319Z"
   },
   {
    "duration": 54,
    "start_time": "2022-09-22T16:38:55.329Z"
   },
   {
    "duration": 11,
    "start_time": "2022-09-22T16:38:55.384Z"
   },
   {
    "duration": 656,
    "start_time": "2022-09-22T16:38:55.396Z"
   },
   {
    "duration": 318,
    "start_time": "2022-09-22T16:38:56.054Z"
   },
   {
    "duration": 105,
    "start_time": "2022-09-22T16:38:56.373Z"
   },
   {
    "duration": 80,
    "start_time": "2022-09-22T16:38:56.480Z"
   },
   {
    "duration": 54,
    "start_time": "2022-09-22T16:38:56.562Z"
   },
   {
    "duration": 5,
    "start_time": "2022-09-22T16:38:56.617Z"
   },
   {
    "duration": 8,
    "start_time": "2022-09-22T16:38:56.623Z"
   },
   {
    "duration": 39,
    "start_time": "2022-09-22T16:38:56.632Z"
   },
   {
    "duration": 26,
    "start_time": "2022-09-22T16:38:56.673Z"
   },
   {
    "duration": 6,
    "start_time": "2022-09-22T16:38:56.701Z"
   },
   {
    "duration": 26,
    "start_time": "2022-09-22T16:38:56.709Z"
   },
   {
    "duration": 12557,
    "start_time": "2022-09-22T16:38:56.737Z"
   },
   {
    "duration": 18711,
    "start_time": "2022-09-22T16:39:09.296Z"
   },
   {
    "duration": 8,
    "start_time": "2022-09-22T16:39:28.009Z"
   },
   {
    "duration": 16,
    "start_time": "2022-09-22T16:39:28.018Z"
   },
   {
    "duration": 8,
    "start_time": "2022-09-22T16:39:28.038Z"
   },
   {
    "duration": 27,
    "start_time": "2022-09-22T16:39:28.048Z"
   },
   {
    "duration": 6,
    "start_time": "2022-09-22T16:39:28.077Z"
   },
   {
    "duration": 19,
    "start_time": "2022-09-22T16:39:28.084Z"
   },
   {
    "duration": 5,
    "start_time": "2022-09-22T16:39:28.105Z"
   },
   {
    "duration": 15,
    "start_time": "2022-09-22T16:39:28.111Z"
   },
   {
    "duration": 7,
    "start_time": "2022-09-22T16:39:28.127Z"
   },
   {
    "duration": 304,
    "start_time": "2022-09-22T16:39:28.135Z"
   },
   {
    "duration": 6,
    "start_time": "2022-09-22T16:39:28.442Z"
   },
   {
    "duration": 405987,
    "start_time": "2022-09-22T16:39:28.450Z"
   },
   {
    "duration": 98660,
    "start_time": "2022-09-22T16:46:14.438Z"
   },
   {
    "duration": 896949,
    "start_time": "2022-09-22T16:47:53.099Z"
   },
   {
    "duration": 2242198,
    "start_time": "2022-09-22T17:02:50.049Z"
   },
   {
    "duration": 9393592,
    "start_time": "2022-09-22T17:40:12.249Z"
   },
   {
    "duration": 5,
    "start_time": "2022-09-22T20:16:45.842Z"
   },
   {
    "duration": 16,
    "start_time": "2022-09-22T20:16:45.848Z"
   },
   {
    "duration": 14200,
    "start_time": "2022-09-22T20:16:45.865Z"
   },
   {
    "duration": 10,
    "start_time": "2022-09-22T20:17:00.066Z"
   },
   {
    "duration": 14495,
    "start_time": "2022-09-22T20:17:00.077Z"
   },
   {
    "duration": 1024,
    "start_time": "2022-09-22T20:17:14.573Z"
   },
   {
    "duration": 50,
    "start_time": "2022-09-24T11:37:38.907Z"
   }
  ],
  "kernelspec": {
   "display_name": "Python 3 (ipykernel)",
   "language": "python",
   "name": "python3"
  },
  "language_info": {
   "codemirror_mode": {
    "name": "ipython",
    "version": 3
   },
   "file_extension": ".py",
   "mimetype": "text/x-python",
   "name": "python",
   "nbconvert_exporter": "python",
   "pygments_lexer": "ipython3",
   "version": "3.9.7"
  },
  "toc": {
   "base_numbering": 1,
   "nav_menu": {
    "height": "70px",
    "width": "260px"
   },
   "number_sections": true,
   "sideBar": true,
   "skip_h1_title": true,
   "title_cell": "Содержание",
   "title_sidebar": "Contents",
   "toc_cell": true,
   "toc_position": {
    "height": "784px",
    "left": "556px",
    "top": "147.125px",
    "width": "245px"
   },
   "toc_section_display": true,
   "toc_window_display": true
  }
 },
 "nbformat": 4,
 "nbformat_minor": 5
}

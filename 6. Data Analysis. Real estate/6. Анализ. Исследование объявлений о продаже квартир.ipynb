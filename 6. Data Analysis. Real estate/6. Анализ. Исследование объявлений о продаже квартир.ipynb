{
 "cells": [
  {
   "cell_type": "markdown",
   "metadata": {
    "toc": true
   },
   "source": [
    "<h1>Содержание<span class=\"tocSkip\"></span></h1>\n",
    "<div class=\"toc\"><ul class=\"toc-item\"><li><span><a href=\"#Изучение-данных-из-файла\" data-toc-modified-id=\"Изучение-данных-из-файла-1\"><span class=\"toc-item-num\">1&nbsp;&nbsp;</span>Изучение данных из файла</a></span><ul class=\"toc-item\"><li><span><a href=\"#Вывод:\" data-toc-modified-id=\"Вывод:-1.1\"><span class=\"toc-item-num\">1.1&nbsp;&nbsp;</span>Вывод:</a></span></li></ul></li><li><span><a href=\"#Предобработка-данных\" data-toc-modified-id=\"Предобработка-данных-2\"><span class=\"toc-item-num\">2&nbsp;&nbsp;</span>Предобработка данных</a></span><ul class=\"toc-item\"><li><span><a href=\"#Вывод:\" data-toc-modified-id=\"Вывод:-2.1\"><span class=\"toc-item-num\">2.1&nbsp;&nbsp;</span>Вывод:</a></span></li></ul></li><li><span><a href=\"#Расчёты-и-добавление-результатов-в-таблицу\" data-toc-modified-id=\"Расчёты-и-добавление-результатов-в-таблицу-3\"><span class=\"toc-item-num\">3&nbsp;&nbsp;</span>Расчёты и добавление результатов в таблицу</a></span><ul class=\"toc-item\"><li><span><a href=\"#Вывод\" data-toc-modified-id=\"Вывод-3.1\"><span class=\"toc-item-num\">3.1&nbsp;&nbsp;</span>Вывод</a></span></li></ul></li><li><span><a href=\"#Исследовательский-анализ-данных\" data-toc-modified-id=\"Исследовательский-анализ-данных-4\"><span class=\"toc-item-num\">4&nbsp;&nbsp;</span>Исследовательский анализ данных</a></span><ul class=\"toc-item\"><li><span><a href=\"#Какие-значения-общей-площади?\" data-toc-modified-id=\"Какие-значения-общей-площади?-4.1\"><span class=\"toc-item-num\">4.1&nbsp;&nbsp;</span>Какие значения общей площади?</a></span></li><li><span><a href=\"#Какие-цены?\" data-toc-modified-id=\"Какие-цены?-4.2\"><span class=\"toc-item-num\">4.2&nbsp;&nbsp;</span>Какие цены?</a></span></li><li><span><a href=\"#Сколько-комнат?\" data-toc-modified-id=\"Сколько-комнат?-4.3\"><span class=\"toc-item-num\">4.3&nbsp;&nbsp;</span>Сколько комнат?</a></span></li><li><span><a href=\"#Какая-высота-потолков?\" data-toc-modified-id=\"Какая-высота-потолков?-4.4\"><span class=\"toc-item-num\">4.4&nbsp;&nbsp;</span>Какая высота потолков?</a></span></li><li><span><a href=\"#Сколько-дней-было-размещено-объявление?\" data-toc-modified-id=\"Сколько-дней-было-размещено-объявление?-4.5\"><span class=\"toc-item-num\">4.5&nbsp;&nbsp;</span>Сколько дней было размещено объявление?</a></span></li></ul></li><li><span><a href=\"#Теперь-сравним-средние-показатели-общих-данных-и-данных-об-объявлениях-в-центре:\" data-toc-modified-id=\"Теперь-сравним-средние-показатели-общих-данных-и-данных-об-объявлениях-в-центре:-5\"><span class=\"toc-item-num\">5&nbsp;&nbsp;</span>Теперь сравним средние показатели общих данных и данных об объявлениях в центре:</a></span><ul class=\"toc-item\"><li><span><a href=\"#Цена\" data-toc-modified-id=\"Цена-5.1\"><span class=\"toc-item-num\">5.1&nbsp;&nbsp;</span>Цена</a></span></li><li><span><a href=\"#Общая-площадь\" data-toc-modified-id=\"Общая-площадь-5.2\"><span class=\"toc-item-num\">5.2&nbsp;&nbsp;</span>Общая площадь</a></span></li><li><span><a href=\"#Кол-во-комнат\" data-toc-modified-id=\"Кол-во-комнат-5.3\"><span class=\"toc-item-num\">5.3&nbsp;&nbsp;</span>Кол-во комнат</a></span></li><li><span><a href=\"#Высота-потолка\" data-toc-modified-id=\"Высота-потолка-5.4\"><span class=\"toc-item-num\">5.4&nbsp;&nbsp;</span>Высота потолка</a></span></li><li><span><a href=\"#Вывод:\" data-toc-modified-id=\"Вывод:-5.5\"><span class=\"toc-item-num\">5.5&nbsp;&nbsp;</span>Вывод:</a></span></li></ul></li><li><span><a href=\"#Общий-вывод\" data-toc-modified-id=\"Общий-вывод-6\"><span class=\"toc-item-num\">6&nbsp;&nbsp;</span>Общий вывод</a></span></li></ul></div>"
   ]
  },
  {
   "cell_type": "markdown",
   "metadata": {},
   "source": [
    "# Исследование объявлений о продаже квартир\n",
    "\n",
    "В нашем распоряжении данные сервиса продажи недвижимости — архив объявлений о продаже квартир в Санкт-Петербурге и соседних населённых пунктах за несколько лет. Нужно научиться определять рыночную стоимость объектов недвижимости. Наша задача — установить параметры. Это позволит построить автоматизированную систему: она отследит аномалии и мошенническую деятельность. \n",
    "\n",
    "По каждой квартире на продажу доступны два вида данных. Первые вписаны пользователем, вторые получены автоматически на основе картографических данных. Например, расстояние до центра, аэропорта, ближайшего парка и водоёма. \n",
    "\n",
    "**Цель исследования** - рассмотреть какие факторы влияют на формирование цены при продаже квартир в Санкт-Петербурге и близлежащих населенных пунктах.\n",
    "\n",
    "**Ход исследования:**\n",
    "Известно, что в данных есть пропущенные значения, которые необходимо обработать, поэтому перед началом исследования необходим обзор данных.\n",
    "\n",
    "**План работы**\n",
    "* Изучение данных из файла.\n",
    "* Предобработка данных.\n",
    "* Новые расчеты.\n",
    "* Исследовательский анализ.\n",
    "* Общий вывод.\n",
    "\n",
    "Данные взяты из `real_estate_data.csv`"
   ]
  },
  {
   "cell_type": "markdown",
   "metadata": {},
   "source": [
    "Согласно документации к данным:\n",
    "* `airports_nearest` — расстояние до ближайшего аэропорта в метрах (м)\n",
    "* `balcony` — число балконов\n",
    "* `ceiling_height` — высота потолков (м)\n",
    "* `cityCenters_nearest` — расстояние до центра города (м)\n",
    "* `days_exposition` — сколько дней было размещено объявление (от публикации до снятия)\n",
    "* `first_day_exposition` — дата публикации\n",
    "* `floor` — этаж\n",
    "* `floors_total` — всего этажей в доме\n",
    "* `is_apartment` — апартаменты (булев тип)\n",
    "* `kitchen_area` — площадь кухни в квадратных метрах (м²)\n",
    "* `last_price` — цена на момент снятия с публикации\n",
    "* `living_area` — жилая площадь в квадратных метрах (м²)\n",
    "* `locality_name` — название населённого пункта\n",
    "* `open_plan` — свободная планировка (булев тип)\n",
    "* `parks_around3000` — число парков в радиусе 3 км\n",
    "* `parks_nearest` — расстояние до ближайшего парка (м)\n",
    "* `ponds_around3000` — число водоёмов в радиусе 3 км\n",
    "* `ponds_nearest` — расстояние до ближайшего водоёма (м)\n",
    "* `rooms` — число комнат\n",
    "* `studio` — квартира-студия (булев тип)\n",
    "* `total_area` — площадь квартиры в квадратных метрах (м²)\n",
    "* `total_images` — число фотографий квартиры в объявлении"
   ]
  },
  {
   "cell_type": "markdown",
   "metadata": {},
   "source": [
    "## Изучение данных из файла"
   ]
  },
  {
   "cell_type": "code",
   "execution_count": 1,
   "metadata": {},
   "outputs": [],
   "source": [
    "import pandas as pd\n",
    "import matplotlib.pyplot as plt\n",
    "import datetime as dt"
   ]
  },
  {
   "cell_type": "code",
   "execution_count": 2,
   "metadata": {},
   "outputs": [
    {
     "data": {
      "text/html": [
       "<div>\n",
       "<style scoped>\n",
       "    .dataframe tbody tr th:only-of-type {\n",
       "        vertical-align: middle;\n",
       "    }\n",
       "\n",
       "    .dataframe tbody tr th {\n",
       "        vertical-align: top;\n",
       "    }\n",
       "\n",
       "    .dataframe thead th {\n",
       "        text-align: right;\n",
       "    }\n",
       "</style>\n",
       "<table border=\"1\" class=\"dataframe\">\n",
       "  <thead>\n",
       "    <tr style=\"text-align: right;\">\n",
       "      <th></th>\n",
       "      <th>total_images</th>\n",
       "      <th>last_price</th>\n",
       "      <th>total_area</th>\n",
       "      <th>first_day_exposition</th>\n",
       "      <th>rooms</th>\n",
       "      <th>ceiling_height</th>\n",
       "      <th>floors_total</th>\n",
       "      <th>living_area</th>\n",
       "      <th>floor</th>\n",
       "      <th>is_apartment</th>\n",
       "      <th>...</th>\n",
       "      <th>kitchen_area</th>\n",
       "      <th>balcony</th>\n",
       "      <th>locality_name</th>\n",
       "      <th>airports_nearest</th>\n",
       "      <th>cityCenters_nearest</th>\n",
       "      <th>parks_around3000</th>\n",
       "      <th>parks_nearest</th>\n",
       "      <th>ponds_around3000</th>\n",
       "      <th>ponds_nearest</th>\n",
       "      <th>days_exposition</th>\n",
       "    </tr>\n",
       "  </thead>\n",
       "  <tbody>\n",
       "    <tr>\n",
       "      <th>0</th>\n",
       "      <td>20</td>\n",
       "      <td>13000000.0</td>\n",
       "      <td>108.0</td>\n",
       "      <td>2019-03-07T00:00:00</td>\n",
       "      <td>3</td>\n",
       "      <td>2.70</td>\n",
       "      <td>16.0</td>\n",
       "      <td>51.0</td>\n",
       "      <td>8</td>\n",
       "      <td>NaN</td>\n",
       "      <td>...</td>\n",
       "      <td>25.0</td>\n",
       "      <td>NaN</td>\n",
       "      <td>Санкт-Петербург</td>\n",
       "      <td>18863.0</td>\n",
       "      <td>16028.0</td>\n",
       "      <td>1.0</td>\n",
       "      <td>482.0</td>\n",
       "      <td>2.0</td>\n",
       "      <td>755.0</td>\n",
       "      <td>NaN</td>\n",
       "    </tr>\n",
       "    <tr>\n",
       "      <th>1</th>\n",
       "      <td>7</td>\n",
       "      <td>3350000.0</td>\n",
       "      <td>40.4</td>\n",
       "      <td>2018-12-04T00:00:00</td>\n",
       "      <td>1</td>\n",
       "      <td>NaN</td>\n",
       "      <td>11.0</td>\n",
       "      <td>18.6</td>\n",
       "      <td>1</td>\n",
       "      <td>NaN</td>\n",
       "      <td>...</td>\n",
       "      <td>11.0</td>\n",
       "      <td>2.0</td>\n",
       "      <td>посёлок Шушары</td>\n",
       "      <td>12817.0</td>\n",
       "      <td>18603.0</td>\n",
       "      <td>0.0</td>\n",
       "      <td>NaN</td>\n",
       "      <td>0.0</td>\n",
       "      <td>NaN</td>\n",
       "      <td>81.0</td>\n",
       "    </tr>\n",
       "    <tr>\n",
       "      <th>2</th>\n",
       "      <td>10</td>\n",
       "      <td>5196000.0</td>\n",
       "      <td>56.0</td>\n",
       "      <td>2015-08-20T00:00:00</td>\n",
       "      <td>2</td>\n",
       "      <td>NaN</td>\n",
       "      <td>5.0</td>\n",
       "      <td>34.3</td>\n",
       "      <td>4</td>\n",
       "      <td>NaN</td>\n",
       "      <td>...</td>\n",
       "      <td>8.3</td>\n",
       "      <td>0.0</td>\n",
       "      <td>Санкт-Петербург</td>\n",
       "      <td>21741.0</td>\n",
       "      <td>13933.0</td>\n",
       "      <td>1.0</td>\n",
       "      <td>90.0</td>\n",
       "      <td>2.0</td>\n",
       "      <td>574.0</td>\n",
       "      <td>558.0</td>\n",
       "    </tr>\n",
       "    <tr>\n",
       "      <th>3</th>\n",
       "      <td>0</td>\n",
       "      <td>64900000.0</td>\n",
       "      <td>159.0</td>\n",
       "      <td>2015-07-24T00:00:00</td>\n",
       "      <td>3</td>\n",
       "      <td>NaN</td>\n",
       "      <td>14.0</td>\n",
       "      <td>NaN</td>\n",
       "      <td>9</td>\n",
       "      <td>NaN</td>\n",
       "      <td>...</td>\n",
       "      <td>NaN</td>\n",
       "      <td>0.0</td>\n",
       "      <td>Санкт-Петербург</td>\n",
       "      <td>28098.0</td>\n",
       "      <td>6800.0</td>\n",
       "      <td>2.0</td>\n",
       "      <td>84.0</td>\n",
       "      <td>3.0</td>\n",
       "      <td>234.0</td>\n",
       "      <td>424.0</td>\n",
       "    </tr>\n",
       "    <tr>\n",
       "      <th>4</th>\n",
       "      <td>2</td>\n",
       "      <td>10000000.0</td>\n",
       "      <td>100.0</td>\n",
       "      <td>2018-06-19T00:00:00</td>\n",
       "      <td>2</td>\n",
       "      <td>3.03</td>\n",
       "      <td>14.0</td>\n",
       "      <td>32.0</td>\n",
       "      <td>13</td>\n",
       "      <td>NaN</td>\n",
       "      <td>...</td>\n",
       "      <td>41.0</td>\n",
       "      <td>NaN</td>\n",
       "      <td>Санкт-Петербург</td>\n",
       "      <td>31856.0</td>\n",
       "      <td>8098.0</td>\n",
       "      <td>2.0</td>\n",
       "      <td>112.0</td>\n",
       "      <td>1.0</td>\n",
       "      <td>48.0</td>\n",
       "      <td>121.0</td>\n",
       "    </tr>\n",
       "  </tbody>\n",
       "</table>\n",
       "<p>5 rows × 22 columns</p>\n",
       "</div>"
      ],
      "text/plain": [
       "   total_images  last_price  total_area first_day_exposition  rooms  \\\n",
       "0            20  13000000.0       108.0  2019-03-07T00:00:00      3   \n",
       "1             7   3350000.0        40.4  2018-12-04T00:00:00      1   \n",
       "2            10   5196000.0        56.0  2015-08-20T00:00:00      2   \n",
       "3             0  64900000.0       159.0  2015-07-24T00:00:00      3   \n",
       "4             2  10000000.0       100.0  2018-06-19T00:00:00      2   \n",
       "\n",
       "   ceiling_height  floors_total  living_area  floor is_apartment  ...  \\\n",
       "0            2.70          16.0         51.0      8          NaN  ...   \n",
       "1             NaN          11.0         18.6      1          NaN  ...   \n",
       "2             NaN           5.0         34.3      4          NaN  ...   \n",
       "3             NaN          14.0          NaN      9          NaN  ...   \n",
       "4            3.03          14.0         32.0     13          NaN  ...   \n",
       "\n",
       "   kitchen_area  balcony    locality_name  airports_nearest  \\\n",
       "0          25.0      NaN  Санкт-Петербург           18863.0   \n",
       "1          11.0      2.0   посёлок Шушары           12817.0   \n",
       "2           8.3      0.0  Санкт-Петербург           21741.0   \n",
       "3           NaN      0.0  Санкт-Петербург           28098.0   \n",
       "4          41.0      NaN  Санкт-Петербург           31856.0   \n",
       "\n",
       "  cityCenters_nearest  parks_around3000  parks_nearest  ponds_around3000  \\\n",
       "0             16028.0               1.0          482.0               2.0   \n",
       "1             18603.0               0.0            NaN               0.0   \n",
       "2             13933.0               1.0           90.0               2.0   \n",
       "3              6800.0               2.0           84.0               3.0   \n",
       "4              8098.0               2.0          112.0               1.0   \n",
       "\n",
       "   ponds_nearest  days_exposition  \n",
       "0          755.0              NaN  \n",
       "1            NaN             81.0  \n",
       "2          574.0            558.0  \n",
       "3          234.0            424.0  \n",
       "4           48.0            121.0  \n",
       "\n",
       "[5 rows x 22 columns]"
      ]
     },
     "metadata": {},
     "output_type": "display_data"
    },
    {
     "name": "stdout",
     "output_type": "stream",
     "text": [
      "<class 'pandas.core.frame.DataFrame'>\n",
      "RangeIndex: 23699 entries, 0 to 23698\n",
      "Data columns (total 22 columns):\n",
      " #   Column                Non-Null Count  Dtype  \n",
      "---  ------                --------------  -----  \n",
      " 0   total_images          23699 non-null  int64  \n",
      " 1   last_price            23699 non-null  float64\n",
      " 2   total_area            23699 non-null  float64\n",
      " 3   first_day_exposition  23699 non-null  object \n",
      " 4   rooms                 23699 non-null  int64  \n",
      " 5   ceiling_height        14504 non-null  float64\n",
      " 6   floors_total          23613 non-null  float64\n",
      " 7   living_area           21796 non-null  float64\n",
      " 8   floor                 23699 non-null  int64  \n",
      " 9   is_apartment          2775 non-null   object \n",
      " 10  studio                23699 non-null  bool   \n",
      " 11  open_plan             23699 non-null  bool   \n",
      " 12  kitchen_area          21421 non-null  float64\n",
      " 13  balcony               12180 non-null  float64\n",
      " 14  locality_name         23650 non-null  object \n",
      " 15  airports_nearest      18157 non-null  float64\n",
      " 16  cityCenters_nearest   18180 non-null  float64\n",
      " 17  parks_around3000      18181 non-null  float64\n",
      " 18  parks_nearest         8079 non-null   float64\n",
      " 19  ponds_around3000      18181 non-null  float64\n",
      " 20  ponds_nearest         9110 non-null   float64\n",
      " 21  days_exposition       20518 non-null  float64\n",
      "dtypes: bool(2), float64(14), int64(3), object(3)\n",
      "memory usage: 3.7+ MB\n"
     ]
    }
   ],
   "source": [
    "df = pd.read_csv('/datasets/real_estate_data.csv', sep='\\t')\n",
    "display(df.head())\n",
    "df.info()"
   ]
  },
  {
   "cell_type": "code",
   "execution_count": 3,
   "metadata": {
    "scrolled": true
   },
   "outputs": [
    {
     "data": {
      "text/html": [
       "<div>\n",
       "<style scoped>\n",
       "    .dataframe tbody tr th:only-of-type {\n",
       "        vertical-align: middle;\n",
       "    }\n",
       "\n",
       "    .dataframe tbody tr th {\n",
       "        vertical-align: top;\n",
       "    }\n",
       "\n",
       "    .dataframe thead th {\n",
       "        text-align: right;\n",
       "    }\n",
       "</style>\n",
       "<table border=\"1\" class=\"dataframe\">\n",
       "  <thead>\n",
       "    <tr style=\"text-align: right;\">\n",
       "      <th></th>\n",
       "      <th>total_images</th>\n",
       "      <th>last_price</th>\n",
       "      <th>total_area</th>\n",
       "      <th>rooms</th>\n",
       "      <th>ceiling_height</th>\n",
       "      <th>floors_total</th>\n",
       "      <th>living_area</th>\n",
       "      <th>floor</th>\n",
       "      <th>kitchen_area</th>\n",
       "      <th>balcony</th>\n",
       "      <th>airports_nearest</th>\n",
       "      <th>cityCenters_nearest</th>\n",
       "      <th>parks_around3000</th>\n",
       "      <th>parks_nearest</th>\n",
       "      <th>ponds_around3000</th>\n",
       "      <th>ponds_nearest</th>\n",
       "      <th>days_exposition</th>\n",
       "    </tr>\n",
       "  </thead>\n",
       "  <tbody>\n",
       "    <tr>\n",
       "      <th>count</th>\n",
       "      <td>23699.000000</td>\n",
       "      <td>2.369900e+04</td>\n",
       "      <td>23699.000000</td>\n",
       "      <td>23699.000000</td>\n",
       "      <td>14504.000000</td>\n",
       "      <td>23613.000000</td>\n",
       "      <td>21796.000000</td>\n",
       "      <td>23699.000000</td>\n",
       "      <td>21421.000000</td>\n",
       "      <td>12180.000000</td>\n",
       "      <td>18157.000000</td>\n",
       "      <td>18180.000000</td>\n",
       "      <td>18181.000000</td>\n",
       "      <td>8079.000000</td>\n",
       "      <td>18181.000000</td>\n",
       "      <td>9110.000000</td>\n",
       "      <td>20518.000000</td>\n",
       "    </tr>\n",
       "    <tr>\n",
       "      <th>mean</th>\n",
       "      <td>9.858475</td>\n",
       "      <td>6.541549e+06</td>\n",
       "      <td>60.348651</td>\n",
       "      <td>2.070636</td>\n",
       "      <td>2.771499</td>\n",
       "      <td>10.673824</td>\n",
       "      <td>34.457852</td>\n",
       "      <td>5.892358</td>\n",
       "      <td>10.569807</td>\n",
       "      <td>1.150082</td>\n",
       "      <td>28793.672193</td>\n",
       "      <td>14191.277833</td>\n",
       "      <td>0.611408</td>\n",
       "      <td>490.804555</td>\n",
       "      <td>0.770255</td>\n",
       "      <td>517.980900</td>\n",
       "      <td>180.888634</td>\n",
       "    </tr>\n",
       "    <tr>\n",
       "      <th>std</th>\n",
       "      <td>5.682529</td>\n",
       "      <td>1.088701e+07</td>\n",
       "      <td>35.654083</td>\n",
       "      <td>1.078405</td>\n",
       "      <td>1.261056</td>\n",
       "      <td>6.597173</td>\n",
       "      <td>22.030445</td>\n",
       "      <td>4.885249</td>\n",
       "      <td>5.905438</td>\n",
       "      <td>1.071300</td>\n",
       "      <td>12630.880622</td>\n",
       "      <td>8608.386210</td>\n",
       "      <td>0.802074</td>\n",
       "      <td>342.317995</td>\n",
       "      <td>0.938346</td>\n",
       "      <td>277.720643</td>\n",
       "      <td>219.727988</td>\n",
       "    </tr>\n",
       "    <tr>\n",
       "      <th>min</th>\n",
       "      <td>0.000000</td>\n",
       "      <td>1.219000e+04</td>\n",
       "      <td>12.000000</td>\n",
       "      <td>0.000000</td>\n",
       "      <td>1.000000</td>\n",
       "      <td>1.000000</td>\n",
       "      <td>2.000000</td>\n",
       "      <td>1.000000</td>\n",
       "      <td>1.300000</td>\n",
       "      <td>0.000000</td>\n",
       "      <td>0.000000</td>\n",
       "      <td>181.000000</td>\n",
       "      <td>0.000000</td>\n",
       "      <td>1.000000</td>\n",
       "      <td>0.000000</td>\n",
       "      <td>13.000000</td>\n",
       "      <td>1.000000</td>\n",
       "    </tr>\n",
       "    <tr>\n",
       "      <th>25%</th>\n",
       "      <td>6.000000</td>\n",
       "      <td>3.400000e+06</td>\n",
       "      <td>40.000000</td>\n",
       "      <td>1.000000</td>\n",
       "      <td>2.520000</td>\n",
       "      <td>5.000000</td>\n",
       "      <td>18.600000</td>\n",
       "      <td>2.000000</td>\n",
       "      <td>7.000000</td>\n",
       "      <td>0.000000</td>\n",
       "      <td>18585.000000</td>\n",
       "      <td>9238.000000</td>\n",
       "      <td>0.000000</td>\n",
       "      <td>288.000000</td>\n",
       "      <td>0.000000</td>\n",
       "      <td>294.000000</td>\n",
       "      <td>45.000000</td>\n",
       "    </tr>\n",
       "    <tr>\n",
       "      <th>50%</th>\n",
       "      <td>9.000000</td>\n",
       "      <td>4.650000e+06</td>\n",
       "      <td>52.000000</td>\n",
       "      <td>2.000000</td>\n",
       "      <td>2.650000</td>\n",
       "      <td>9.000000</td>\n",
       "      <td>30.000000</td>\n",
       "      <td>4.000000</td>\n",
       "      <td>9.100000</td>\n",
       "      <td>1.000000</td>\n",
       "      <td>26726.000000</td>\n",
       "      <td>13098.500000</td>\n",
       "      <td>0.000000</td>\n",
       "      <td>455.000000</td>\n",
       "      <td>1.000000</td>\n",
       "      <td>502.000000</td>\n",
       "      <td>95.000000</td>\n",
       "    </tr>\n",
       "    <tr>\n",
       "      <th>75%</th>\n",
       "      <td>14.000000</td>\n",
       "      <td>6.800000e+06</td>\n",
       "      <td>69.900000</td>\n",
       "      <td>3.000000</td>\n",
       "      <td>2.800000</td>\n",
       "      <td>16.000000</td>\n",
       "      <td>42.300000</td>\n",
       "      <td>8.000000</td>\n",
       "      <td>12.000000</td>\n",
       "      <td>2.000000</td>\n",
       "      <td>37273.000000</td>\n",
       "      <td>16293.000000</td>\n",
       "      <td>1.000000</td>\n",
       "      <td>612.000000</td>\n",
       "      <td>1.000000</td>\n",
       "      <td>729.000000</td>\n",
       "      <td>232.000000</td>\n",
       "    </tr>\n",
       "    <tr>\n",
       "      <th>max</th>\n",
       "      <td>50.000000</td>\n",
       "      <td>7.630000e+08</td>\n",
       "      <td>900.000000</td>\n",
       "      <td>19.000000</td>\n",
       "      <td>100.000000</td>\n",
       "      <td>60.000000</td>\n",
       "      <td>409.700000</td>\n",
       "      <td>33.000000</td>\n",
       "      <td>112.000000</td>\n",
       "      <td>5.000000</td>\n",
       "      <td>84869.000000</td>\n",
       "      <td>65968.000000</td>\n",
       "      <td>3.000000</td>\n",
       "      <td>3190.000000</td>\n",
       "      <td>3.000000</td>\n",
       "      <td>1344.000000</td>\n",
       "      <td>1580.000000</td>\n",
       "    </tr>\n",
       "  </tbody>\n",
       "</table>\n",
       "</div>"
      ],
      "text/plain": [
       "       total_images    last_price    total_area         rooms  ceiling_height  \\\n",
       "count  23699.000000  2.369900e+04  23699.000000  23699.000000    14504.000000   \n",
       "mean       9.858475  6.541549e+06     60.348651      2.070636        2.771499   \n",
       "std        5.682529  1.088701e+07     35.654083      1.078405        1.261056   \n",
       "min        0.000000  1.219000e+04     12.000000      0.000000        1.000000   \n",
       "25%        6.000000  3.400000e+06     40.000000      1.000000        2.520000   \n",
       "50%        9.000000  4.650000e+06     52.000000      2.000000        2.650000   \n",
       "75%       14.000000  6.800000e+06     69.900000      3.000000        2.800000   \n",
       "max       50.000000  7.630000e+08    900.000000     19.000000      100.000000   \n",
       "\n",
       "       floors_total   living_area         floor  kitchen_area       balcony  \\\n",
       "count  23613.000000  21796.000000  23699.000000  21421.000000  12180.000000   \n",
       "mean      10.673824     34.457852      5.892358     10.569807      1.150082   \n",
       "std        6.597173     22.030445      4.885249      5.905438      1.071300   \n",
       "min        1.000000      2.000000      1.000000      1.300000      0.000000   \n",
       "25%        5.000000     18.600000      2.000000      7.000000      0.000000   \n",
       "50%        9.000000     30.000000      4.000000      9.100000      1.000000   \n",
       "75%       16.000000     42.300000      8.000000     12.000000      2.000000   \n",
       "max       60.000000    409.700000     33.000000    112.000000      5.000000   \n",
       "\n",
       "       airports_nearest  cityCenters_nearest  parks_around3000  parks_nearest  \\\n",
       "count      18157.000000         18180.000000      18181.000000    8079.000000   \n",
       "mean       28793.672193         14191.277833          0.611408     490.804555   \n",
       "std        12630.880622          8608.386210          0.802074     342.317995   \n",
       "min            0.000000           181.000000          0.000000       1.000000   \n",
       "25%        18585.000000          9238.000000          0.000000     288.000000   \n",
       "50%        26726.000000         13098.500000          0.000000     455.000000   \n",
       "75%        37273.000000         16293.000000          1.000000     612.000000   \n",
       "max        84869.000000         65968.000000          3.000000    3190.000000   \n",
       "\n",
       "       ponds_around3000  ponds_nearest  days_exposition  \n",
       "count      18181.000000    9110.000000     20518.000000  \n",
       "mean           0.770255     517.980900       180.888634  \n",
       "std            0.938346     277.720643       219.727988  \n",
       "min            0.000000      13.000000         1.000000  \n",
       "25%            0.000000     294.000000        45.000000  \n",
       "50%            1.000000     502.000000        95.000000  \n",
       "75%            1.000000     729.000000       232.000000  \n",
       "max            3.000000    1344.000000      1580.000000  "
      ]
     },
     "execution_count": 3,
     "metadata": {},
     "output_type": "execute_result"
    }
   ],
   "source": [
    "df.describe() # взглянем на разброс значений, чтобы понять где приблизительно можно ждать аномалии"
   ]
  },
  {
   "cell_type": "markdown",
   "metadata": {},
   "source": [
    "Аномальное высокие значения есть, но даже они выглядят реалистично, как и среднее отклонение."
   ]
  },
  {
   "cell_type": "code",
   "execution_count": 4,
   "metadata": {},
   "outputs": [
    {
     "data": {
      "text/plain": [
       "0"
      ]
     },
     "execution_count": 4,
     "metadata": {},
     "output_type": "execute_result"
    }
   ],
   "source": [
    "df.duplicated().sum() # по крайней мере, очевидных дубликатов нет"
   ]
  },
  {
   "cell_type": "code",
   "execution_count": 5,
   "metadata": {},
   "outputs": [
    {
     "data": {
      "text/plain": [
       "total_images             0.000000\n",
       "open_plan                0.000000\n",
       "floor                    0.000000\n",
       "rooms                    0.000000\n",
       "studio                   0.000000\n",
       "total_area               0.000000\n",
       "last_price               0.000000\n",
       "first_day_exposition     0.000000\n",
       "locality_name            0.206760\n",
       "floors_total             0.362885\n",
       "living_area              8.029875\n",
       "kitchen_area             9.612220\n",
       "days_exposition         13.422507\n",
       "ponds_around3000        23.283683\n",
       "parks_around3000        23.283683\n",
       "cityCenters_nearest     23.287902\n",
       "airports_nearest        23.384953\n",
       "ceiling_height          38.799105\n",
       "balcony                 48.605426\n",
       "ponds_nearest           61.559559\n",
       "parks_nearest           65.909954\n",
       "is_apartment            88.290645\n",
       "dtype: float64"
      ]
     },
     "execution_count": 5,
     "metadata": {},
     "output_type": "execute_result"
    }
   ],
   "source": [
    "df.isnull().sum().sort_values()/df.shape[0]*100 # посмотрим на процент пропусков"
   ]
  },
  {
   "cell_type": "markdown",
   "metadata": {},
   "source": [
    "### Вывод: \n",
    "Прежде чем приступать к анализу необходимо рассмотреть чем можно (и нужно ли) заменить пропущенные значения в данных. Так например, кол-во пропусов в `locality_name` и `floors_total` меньше 1%, поэтому о них можно не беспокоится, а вот пропуски в некоторых других столбцах могут достигать и 80%, но не факт, что они понадобятся нам далее при анализе."
   ]
  },
  {
   "cell_type": "markdown",
   "metadata": {},
   "source": [
    "## Предобработка данных"
   ]
  },
  {
   "cell_type": "markdown",
   "metadata": {},
   "source": [
    "Прежде чем приступить к предобработке выделим столбцы с пропущенными значениями, которые нам не понадобятся при анализе, и предположим, почему пропуски появились:\n",
    "* `ponds_around3000` - пропуски обозначают отсутствие водоемов в радиусе 3км.\n",
    "* `parks_around3000` - нет парков в радиусе 3км, либо квартира загородом.\n",
    "* `airports_nearest` - ближайший аэропорт находится на расстоянии более 3км.\n",
    "* `balcony` - пропуск означает, что балконов нет.\n",
    "* `ponds_nearest` - ближайший водоем на расстоянии более 3км.\n",
    "* `parks_nearest` - ближайший парк на расстоянии более 3км.\n",
    "* `is_apartment` - пропуск = False"
   ]
  },
  {
   "cell_type": "markdown",
   "metadata": {},
   "source": [
    "Хоть для анализа они нам не нужны, все равно попробуем найти логичную замену, может в будущем пригодится"
   ]
  },
  {
   "cell_type": "code",
   "execution_count": 6,
   "metadata": {},
   "outputs": [
    {
     "data": {
      "text/plain": [
       "False    2725\n",
       "True       50\n",
       "Name: is_apartment, dtype: int64"
      ]
     },
     "execution_count": 6,
     "metadata": {},
     "output_type": "execute_result"
    }
   ],
   "source": [
    "df['is_apartment'].value_counts() # посмотрим на уникальные значения"
   ]
  },
  {
   "cell_type": "markdown",
   "metadata": {},
   "source": [
    "Скорее всего, когда клиенты не указывают информации о том, явялвяется ли недвижимость апартаментами или нет, значит это **не** апартаменты, заменим пропущеные значения на `false`"
   ]
  },
  {
   "cell_type": "code",
   "execution_count": 7,
   "metadata": {},
   "outputs": [],
   "source": [
    "df['is_apartment'] = df['is_apartment'].fillna(False)"
   ]
  },
  {
   "cell_type": "markdown",
   "metadata": {},
   "source": [
    "Предположим, что пропуски в `balcony`, `ponds_around3000`, `parks_around3000` указывают на **отсутствие**, тогда заменим пропуски на `0` и заменим тип данных на `int`, все-таки вряд-ли у кого-то может быть только 1.5 балкона или 2.5 парка рядом."
   ]
  },
  {
   "cell_type": "code",
   "execution_count": 8,
   "metadata": {},
   "outputs": [
    {
     "name": "stdout",
     "output_type": "stream",
     "text": [
      "<class 'pandas.core.frame.DataFrame'>\n",
      "RangeIndex: 23699 entries, 0 to 23698\n",
      "Data columns (total 22 columns):\n",
      " #   Column                Non-Null Count  Dtype  \n",
      "---  ------                --------------  -----  \n",
      " 0   total_images          23699 non-null  int64  \n",
      " 1   last_price            23699 non-null  float64\n",
      " 2   total_area            23699 non-null  float64\n",
      " 3   first_day_exposition  23699 non-null  object \n",
      " 4   rooms                 23699 non-null  int64  \n",
      " 5   ceiling_height        14504 non-null  float64\n",
      " 6   floors_total          23613 non-null  float64\n",
      " 7   living_area           21796 non-null  float64\n",
      " 8   floor                 23699 non-null  int64  \n",
      " 9   is_apartment          23699 non-null  bool   \n",
      " 10  studio                23699 non-null  bool   \n",
      " 11  open_plan             23699 non-null  bool   \n",
      " 12  kitchen_area          21421 non-null  float64\n",
      " 13  balcony               23699 non-null  int32  \n",
      " 14  locality_name         23650 non-null  object \n",
      " 15  airports_nearest      18157 non-null  float64\n",
      " 16  cityCenters_nearest   18180 non-null  float64\n",
      " 17  parks_around3000      23699 non-null  int32  \n",
      " 18  parks_nearest         8079 non-null   float64\n",
      " 19  ponds_around3000      23699 non-null  int32  \n",
      " 20  ponds_nearest         9110 non-null   float64\n",
      " 21  days_exposition       20518 non-null  float64\n",
      "dtypes: bool(3), float64(11), int32(3), int64(3), object(2)\n",
      "memory usage: 3.2+ MB\n"
     ]
    }
   ],
   "source": [
    "df['balcony'] = df['balcony'].fillna(0).astype(int) \n",
    "df['parks_around3000'] = df['parks_around3000'].fillna(0).astype(int)\n",
    "df['ponds_around3000'] = df['ponds_around3000'].fillna(0).astype(int)\n",
    "df.info()"
   ]
  },
  {
   "cell_type": "markdown",
   "metadata": {},
   "source": [
    "Попробуем заменить пропуски в `kitchen_area` и `living_area`. Для этого найдем какую часть, обычно, кухня и жилая площадь занимает по сравнению с общей площадью. Запишем результаты в новые столбцы `kitchen_part` и `living_part`. Затем умножим часть на общую площадь, тем самым найдем площадь кухни и жилой площади в соответствии с общей площадью:"
   ]
  },
  {
   "cell_type": "code",
   "execution_count": 9,
   "metadata": {
    "scrolled": false
   },
   "outputs": [
    {
     "name": "stdout",
     "output_type": "stream",
     "text": [
      "<class 'pandas.core.frame.DataFrame'>\n",
      "RangeIndex: 23699 entries, 0 to 23698\n",
      "Data columns (total 24 columns):\n",
      " #   Column                Non-Null Count  Dtype  \n",
      "---  ------                --------------  -----  \n",
      " 0   total_images          23699 non-null  int64  \n",
      " 1   last_price            23699 non-null  float64\n",
      " 2   total_area            23699 non-null  float64\n",
      " 3   first_day_exposition  23699 non-null  object \n",
      " 4   rooms                 23699 non-null  int64  \n",
      " 5   ceiling_height        14504 non-null  float64\n",
      " 6   floors_total          23613 non-null  float64\n",
      " 7   living_area           23699 non-null  float64\n",
      " 8   floor                 23699 non-null  int64  \n",
      " 9   is_apartment          23699 non-null  bool   \n",
      " 10  studio                23699 non-null  bool   \n",
      " 11  open_plan             23699 non-null  bool   \n",
      " 12  kitchen_area          23699 non-null  float64\n",
      " 13  balcony               23699 non-null  int32  \n",
      " 14  locality_name         23650 non-null  object \n",
      " 15  airports_nearest      18157 non-null  float64\n",
      " 16  cityCenters_nearest   18180 non-null  float64\n",
      " 17  parks_around3000      23699 non-null  int32  \n",
      " 18  parks_nearest         8079 non-null   float64\n",
      " 19  ponds_around3000      23699 non-null  int32  \n",
      " 20  ponds_nearest         9110 non-null   float64\n",
      " 21  days_exposition       20518 non-null  float64\n",
      " 22  part_living           21796 non-null  float64\n",
      " 23  part_kitchen          21421 non-null  float64\n",
      "dtypes: bool(3), float64(13), int32(3), int64(3), object(2)\n",
      "memory usage: 3.6+ MB\n"
     ]
    }
   ],
   "source": [
    "df['part_living'] = df['living_area'] / df['total_area'] # найдем какую часть от общей площади обычно занимает кухня\n",
    "living_mean = df['part_living'].mean()\n",
    "df['living_area'] = df['living_area'].fillna(df['total_area'] * living_mean).round() #заменим пропуски на среднее значение\n",
    "\n",
    "# то же самое сделаем с кухней:\n",
    "\n",
    "df['part_kitchen'] = df['kitchen_area'] / df['total_area']\n",
    "kitchen_mean = df['part_kitchen'].mean()\n",
    "df['kitchen_area'] = df['kitchen_area'].fillna(df['total_area'] * kitchen_mean).round() \n",
    "df.info()"
   ]
  },
  {
   "cell_type": "markdown",
   "metadata": {},
   "source": [
    "`part_living` и `part_kitchen` заполнились не до конца, поскольку до заполнения пропусков эти самые пропуски не позволили сделать вычисления. Теперь когда пропуски мы заполнили, можно просто еще раз запустить вычисление `part_living` и `part_kitchen`:"
   ]
  },
  {
   "cell_type": "code",
   "execution_count": 10,
   "metadata": {},
   "outputs": [
    {
     "name": "stdout",
     "output_type": "stream",
     "text": [
      "<class 'pandas.core.frame.DataFrame'>\n",
      "RangeIndex: 23699 entries, 0 to 23698\n",
      "Data columns (total 24 columns):\n",
      " #   Column                Non-Null Count  Dtype  \n",
      "---  ------                --------------  -----  \n",
      " 0   total_images          23699 non-null  int64  \n",
      " 1   last_price            23699 non-null  float64\n",
      " 2   total_area            23699 non-null  float64\n",
      " 3   first_day_exposition  23699 non-null  object \n",
      " 4   rooms                 23699 non-null  int64  \n",
      " 5   ceiling_height        14504 non-null  float64\n",
      " 6   floors_total          23613 non-null  float64\n",
      " 7   living_area           23699 non-null  float64\n",
      " 8   floor                 23699 non-null  int64  \n",
      " 9   is_apartment          23699 non-null  bool   \n",
      " 10  studio                23699 non-null  bool   \n",
      " 11  open_plan             23699 non-null  bool   \n",
      " 12  kitchen_area          23699 non-null  float64\n",
      " 13  balcony               23699 non-null  int32  \n",
      " 14  locality_name         23650 non-null  object \n",
      " 15  airports_nearest      18157 non-null  float64\n",
      " 16  cityCenters_nearest   18180 non-null  float64\n",
      " 17  parks_around3000      23699 non-null  int32  \n",
      " 18  parks_nearest         8079 non-null   float64\n",
      " 19  ponds_around3000      23699 non-null  int32  \n",
      " 20  ponds_nearest         9110 non-null   float64\n",
      " 21  days_exposition       20518 non-null  float64\n",
      " 22  part_living           23699 non-null  float64\n",
      " 23  part_kitchen          23699 non-null  float64\n",
      "dtypes: bool(3), float64(13), int32(3), int64(3), object(2)\n",
      "memory usage: 3.6+ MB\n"
     ]
    }
   ],
   "source": [
    "df['part_living'] = df['living_area'] / df['total_area'] \n",
    "# то же самое сделаем с кухней:\n",
    "df['part_kitchen'] = df['kitchen_area'] / df['total_area']\n",
    "df.info()"
   ]
  },
  {
   "cell_type": "markdown",
   "metadata": {},
   "source": [
    "`ceiling_height` медианой или средним значением не заменить, это исказит данные, у высоты потолка есть фиксированные рамки, поэтому пропуски лучше оставить как есть."
   ]
  },
  {
   "cell_type": "markdown",
   "metadata": {},
   "source": [
    "Пропуски есть и в `floors_total`, легко предположить что такие пропуски означают, что всего этажей - `1`, также заменим тип данных на `int`, кол-во этажей всегда целое число:\n"
   ]
  },
  {
   "cell_type": "code",
   "execution_count": 11,
   "metadata": {},
   "outputs": [],
   "source": [
    "df['floors_total'] = df['floors_total'].fillna(1).astype(int)"
   ]
  },
  {
   "cell_type": "markdown",
   "metadata": {},
   "source": [
    "Данные в `first_day_exposition` переведем в дату:"
   ]
  },
  {
   "cell_type": "code",
   "execution_count": 12,
   "metadata": {},
   "outputs": [],
   "source": [
    "df['first_day_exposition'] = pd.to_datetime(df['first_day_exposition'], format='%Y%m%dT%H:%M:%S')"
   ]
  },
  {
   "cell_type": "markdown",
   "metadata": {},
   "source": [
    "* Пропуски в `ponds_nearest`, `parks_nearest`, `airport_nearest`, `cityCenters_nearest` - очевидно указывают на то, что данных объектов в близи нет, поэтому их не нужно ничем заполнять.\n",
    "* Пропусков в `locality_name` меньше процента, да и заполнять их с имеющимися данными трудоемко, поэтому мы их оставим, они не повлияют на результат.\n",
    "* `ceiling_height` медианой или средним значением не заменить, это исказит данные, у высоты потолка есть фиксированные рамки, поэтому пропуски лучше оставить как есть.\n",
    "* Пропуски в `days_exposition` могут указывать на то, что недвижимость все еще продаётся. (можно найти замену с помощью `first_day_exposition`, но нужна точка \"сегодняшнего дня\", в зависимости от нее, данные  в `days_exposition` могут сильно отличаться, поэтому я оставлю все как есть, чтобы не исказить данные)"
   ]
  },
  {
   "cell_type": "markdown",
   "metadata": {},
   "source": [
    "###  Вывод:\n",
    "\n",
    "Мы заполнили пропуски там, где это необходимо, и вместе с тем создали 2 новых столбца `living_part` и `kitchen_part` - соотношение жилой и общей площади, а также отношение площади кухни к общей."
   ]
  },
  {
   "cell_type": "markdown",
   "metadata": {},
   "source": [
    "## Расчёты и добавление результатов в таблицу"
   ]
  },
  {
   "cell_type": "markdown",
   "metadata": {},
   "source": [
    "Найдем среднуюю цену за кв.метр и добавим ее в `m2_price`, переведем тип данных в целые числа:"
   ]
  },
  {
   "cell_type": "code",
   "execution_count": 13,
   "metadata": {
    "scrolled": true
   },
   "outputs": [],
   "source": [
    "df['m2_price'] = df['last_price'] / df['total_area']\n",
    "df['m2_price'] = df['m2_price'].astype(int)"
   ]
  },
  {
   "cell_type": "markdown",
   "metadata": {},
   "source": [
    "Добавим новые столбцы `exposition_day`, `exposition_month`, `exposition_year`, в которых отдельно сохраним день, месяц, год продажи соответственно:"
   ]
  },
  {
   "cell_type": "code",
   "execution_count": 14,
   "metadata": {
    "scrolled": true
   },
   "outputs": [
    {
     "data": {
      "text/html": [
       "<div>\n",
       "<style scoped>\n",
       "    .dataframe tbody tr th:only-of-type {\n",
       "        vertical-align: middle;\n",
       "    }\n",
       "\n",
       "    .dataframe tbody tr th {\n",
       "        vertical-align: top;\n",
       "    }\n",
       "\n",
       "    .dataframe thead th {\n",
       "        text-align: right;\n",
       "    }\n",
       "</style>\n",
       "<table border=\"1\" class=\"dataframe\">\n",
       "  <thead>\n",
       "    <tr style=\"text-align: right;\">\n",
       "      <th></th>\n",
       "      <th>total_images</th>\n",
       "      <th>last_price</th>\n",
       "      <th>total_area</th>\n",
       "      <th>first_day_exposition</th>\n",
       "      <th>rooms</th>\n",
       "      <th>ceiling_height</th>\n",
       "      <th>floors_total</th>\n",
       "      <th>living_area</th>\n",
       "      <th>floor</th>\n",
       "      <th>is_apartment</th>\n",
       "      <th>...</th>\n",
       "      <th>parks_nearest</th>\n",
       "      <th>ponds_around3000</th>\n",
       "      <th>ponds_nearest</th>\n",
       "      <th>days_exposition</th>\n",
       "      <th>part_living</th>\n",
       "      <th>part_kitchen</th>\n",
       "      <th>m2_price</th>\n",
       "      <th>exposition_day</th>\n",
       "      <th>exposition_month</th>\n",
       "      <th>exposition_year</th>\n",
       "    </tr>\n",
       "  </thead>\n",
       "  <tbody>\n",
       "    <tr>\n",
       "      <th>0</th>\n",
       "      <td>20</td>\n",
       "      <td>13000000.0</td>\n",
       "      <td>108.0</td>\n",
       "      <td>2019-03-07</td>\n",
       "      <td>3</td>\n",
       "      <td>2.70</td>\n",
       "      <td>16</td>\n",
       "      <td>51.0</td>\n",
       "      <td>8</td>\n",
       "      <td>False</td>\n",
       "      <td>...</td>\n",
       "      <td>482.0</td>\n",
       "      <td>2</td>\n",
       "      <td>755.0</td>\n",
       "      <td>NaN</td>\n",
       "      <td>0.472222</td>\n",
       "      <td>0.231481</td>\n",
       "      <td>120370</td>\n",
       "      <td>Thursday</td>\n",
       "      <td>March</td>\n",
       "      <td>2019</td>\n",
       "    </tr>\n",
       "    <tr>\n",
       "      <th>1</th>\n",
       "      <td>7</td>\n",
       "      <td>3350000.0</td>\n",
       "      <td>40.4</td>\n",
       "      <td>2018-12-04</td>\n",
       "      <td>1</td>\n",
       "      <td>NaN</td>\n",
       "      <td>11</td>\n",
       "      <td>19.0</td>\n",
       "      <td>1</td>\n",
       "      <td>False</td>\n",
       "      <td>...</td>\n",
       "      <td>NaN</td>\n",
       "      <td>0</td>\n",
       "      <td>NaN</td>\n",
       "      <td>81.0</td>\n",
       "      <td>0.470297</td>\n",
       "      <td>0.272277</td>\n",
       "      <td>82920</td>\n",
       "      <td>Tuesday</td>\n",
       "      <td>December</td>\n",
       "      <td>2018</td>\n",
       "    </tr>\n",
       "    <tr>\n",
       "      <th>2</th>\n",
       "      <td>10</td>\n",
       "      <td>5196000.0</td>\n",
       "      <td>56.0</td>\n",
       "      <td>2015-08-20</td>\n",
       "      <td>2</td>\n",
       "      <td>NaN</td>\n",
       "      <td>5</td>\n",
       "      <td>34.0</td>\n",
       "      <td>4</td>\n",
       "      <td>False</td>\n",
       "      <td>...</td>\n",
       "      <td>90.0</td>\n",
       "      <td>2</td>\n",
       "      <td>574.0</td>\n",
       "      <td>558.0</td>\n",
       "      <td>0.607143</td>\n",
       "      <td>0.142857</td>\n",
       "      <td>92785</td>\n",
       "      <td>Thursday</td>\n",
       "      <td>August</td>\n",
       "      <td>2015</td>\n",
       "    </tr>\n",
       "    <tr>\n",
       "      <th>3</th>\n",
       "      <td>0</td>\n",
       "      <td>64900000.0</td>\n",
       "      <td>159.0</td>\n",
       "      <td>2015-07-24</td>\n",
       "      <td>3</td>\n",
       "      <td>NaN</td>\n",
       "      <td>14</td>\n",
       "      <td>90.0</td>\n",
       "      <td>9</td>\n",
       "      <td>False</td>\n",
       "      <td>...</td>\n",
       "      <td>84.0</td>\n",
       "      <td>3</td>\n",
       "      <td>234.0</td>\n",
       "      <td>424.0</td>\n",
       "      <td>0.566038</td>\n",
       "      <td>0.188679</td>\n",
       "      <td>408176</td>\n",
       "      <td>Friday</td>\n",
       "      <td>July</td>\n",
       "      <td>2015</td>\n",
       "    </tr>\n",
       "    <tr>\n",
       "      <th>4</th>\n",
       "      <td>2</td>\n",
       "      <td>10000000.0</td>\n",
       "      <td>100.0</td>\n",
       "      <td>2018-06-19</td>\n",
       "      <td>2</td>\n",
       "      <td>3.03</td>\n",
       "      <td>14</td>\n",
       "      <td>32.0</td>\n",
       "      <td>13</td>\n",
       "      <td>False</td>\n",
       "      <td>...</td>\n",
       "      <td>112.0</td>\n",
       "      <td>1</td>\n",
       "      <td>48.0</td>\n",
       "      <td>121.0</td>\n",
       "      <td>0.320000</td>\n",
       "      <td>0.410000</td>\n",
       "      <td>100000</td>\n",
       "      <td>Tuesday</td>\n",
       "      <td>June</td>\n",
       "      <td>2018</td>\n",
       "    </tr>\n",
       "  </tbody>\n",
       "</table>\n",
       "<p>5 rows × 28 columns</p>\n",
       "</div>"
      ],
      "text/plain": [
       "   total_images  last_price  total_area first_day_exposition  rooms  \\\n",
       "0            20  13000000.0       108.0           2019-03-07      3   \n",
       "1             7   3350000.0        40.4           2018-12-04      1   \n",
       "2            10   5196000.0        56.0           2015-08-20      2   \n",
       "3             0  64900000.0       159.0           2015-07-24      3   \n",
       "4             2  10000000.0       100.0           2018-06-19      2   \n",
       "\n",
       "   ceiling_height  floors_total  living_area  floor  is_apartment  ...  \\\n",
       "0            2.70            16         51.0      8         False  ...   \n",
       "1             NaN            11         19.0      1         False  ...   \n",
       "2             NaN             5         34.0      4         False  ...   \n",
       "3             NaN            14         90.0      9         False  ...   \n",
       "4            3.03            14         32.0     13         False  ...   \n",
       "\n",
       "   parks_nearest  ponds_around3000  ponds_nearest  days_exposition  \\\n",
       "0          482.0                 2          755.0              NaN   \n",
       "1            NaN                 0            NaN             81.0   \n",
       "2           90.0                 2          574.0            558.0   \n",
       "3           84.0                 3          234.0            424.0   \n",
       "4          112.0                 1           48.0            121.0   \n",
       "\n",
       "  part_living  part_kitchen  m2_price  exposition_day  exposition_month  \\\n",
       "0    0.472222      0.231481    120370        Thursday             March   \n",
       "1    0.470297      0.272277     82920         Tuesday          December   \n",
       "2    0.607143      0.142857     92785        Thursday            August   \n",
       "3    0.566038      0.188679    408176          Friday              July   \n",
       "4    0.320000      0.410000    100000         Tuesday              June   \n",
       "\n",
       "   exposition_year  \n",
       "0             2019  \n",
       "1             2018  \n",
       "2             2015  \n",
       "3             2015  \n",
       "4             2018  \n",
       "\n",
       "[5 rows x 28 columns]"
      ]
     },
     "execution_count": 14,
     "metadata": {},
     "output_type": "execute_result"
    }
   ],
   "source": [
    "df['exposition_day'] = df['first_day_exposition'].dt.strftime(\"%A\")\n",
    "df['exposition_month'] = df['first_day_exposition'].dt.strftime(\"%B\")\n",
    "df['exposition_year'] = df['first_day_exposition'].dt.year\n",
    "df.head(5) "
   ]
  },
  {
   "cell_type": "markdown",
   "metadata": {},
   "source": [
    "Распределим объявления о продаже по этажам: *первый*, *последний*, *другой* в столбце `floor_category`:"
   ]
  },
  {
   "cell_type": "code",
   "execution_count": 15,
   "metadata": {
    "scrolled": true
   },
   "outputs": [
    {
     "data": {
      "text/html": [
       "<div>\n",
       "<style scoped>\n",
       "    .dataframe tbody tr th:only-of-type {\n",
       "        vertical-align: middle;\n",
       "    }\n",
       "\n",
       "    .dataframe tbody tr th {\n",
       "        vertical-align: top;\n",
       "    }\n",
       "\n",
       "    .dataframe thead th {\n",
       "        text-align: right;\n",
       "    }\n",
       "</style>\n",
       "<table border=\"1\" class=\"dataframe\">\n",
       "  <thead>\n",
       "    <tr style=\"text-align: right;\">\n",
       "      <th></th>\n",
       "      <th>total_images</th>\n",
       "      <th>last_price</th>\n",
       "      <th>total_area</th>\n",
       "      <th>first_day_exposition</th>\n",
       "      <th>rooms</th>\n",
       "      <th>ceiling_height</th>\n",
       "      <th>floors_total</th>\n",
       "      <th>living_area</th>\n",
       "      <th>floor</th>\n",
       "      <th>is_apartment</th>\n",
       "      <th>...</th>\n",
       "      <th>ponds_around3000</th>\n",
       "      <th>ponds_nearest</th>\n",
       "      <th>days_exposition</th>\n",
       "      <th>part_living</th>\n",
       "      <th>part_kitchen</th>\n",
       "      <th>m2_price</th>\n",
       "      <th>exposition_day</th>\n",
       "      <th>exposition_month</th>\n",
       "      <th>exposition_year</th>\n",
       "      <th>floor_category</th>\n",
       "    </tr>\n",
       "  </thead>\n",
       "  <tbody>\n",
       "    <tr>\n",
       "      <th>0</th>\n",
       "      <td>20</td>\n",
       "      <td>13000000.0</td>\n",
       "      <td>108.0</td>\n",
       "      <td>2019-03-07</td>\n",
       "      <td>3</td>\n",
       "      <td>2.70</td>\n",
       "      <td>16</td>\n",
       "      <td>51.0</td>\n",
       "      <td>8</td>\n",
       "      <td>False</td>\n",
       "      <td>...</td>\n",
       "      <td>2</td>\n",
       "      <td>755.0</td>\n",
       "      <td>NaN</td>\n",
       "      <td>0.472222</td>\n",
       "      <td>0.231481</td>\n",
       "      <td>120370</td>\n",
       "      <td>Thursday</td>\n",
       "      <td>March</td>\n",
       "      <td>2019</td>\n",
       "      <td>другой</td>\n",
       "    </tr>\n",
       "    <tr>\n",
       "      <th>1</th>\n",
       "      <td>7</td>\n",
       "      <td>3350000.0</td>\n",
       "      <td>40.4</td>\n",
       "      <td>2018-12-04</td>\n",
       "      <td>1</td>\n",
       "      <td>NaN</td>\n",
       "      <td>11</td>\n",
       "      <td>19.0</td>\n",
       "      <td>1</td>\n",
       "      <td>False</td>\n",
       "      <td>...</td>\n",
       "      <td>0</td>\n",
       "      <td>NaN</td>\n",
       "      <td>81.0</td>\n",
       "      <td>0.470297</td>\n",
       "      <td>0.272277</td>\n",
       "      <td>82920</td>\n",
       "      <td>Tuesday</td>\n",
       "      <td>December</td>\n",
       "      <td>2018</td>\n",
       "      <td>первый</td>\n",
       "    </tr>\n",
       "    <tr>\n",
       "      <th>2</th>\n",
       "      <td>10</td>\n",
       "      <td>5196000.0</td>\n",
       "      <td>56.0</td>\n",
       "      <td>2015-08-20</td>\n",
       "      <td>2</td>\n",
       "      <td>NaN</td>\n",
       "      <td>5</td>\n",
       "      <td>34.0</td>\n",
       "      <td>4</td>\n",
       "      <td>False</td>\n",
       "      <td>...</td>\n",
       "      <td>2</td>\n",
       "      <td>574.0</td>\n",
       "      <td>558.0</td>\n",
       "      <td>0.607143</td>\n",
       "      <td>0.142857</td>\n",
       "      <td>92785</td>\n",
       "      <td>Thursday</td>\n",
       "      <td>August</td>\n",
       "      <td>2015</td>\n",
       "      <td>другой</td>\n",
       "    </tr>\n",
       "    <tr>\n",
       "      <th>3</th>\n",
       "      <td>0</td>\n",
       "      <td>64900000.0</td>\n",
       "      <td>159.0</td>\n",
       "      <td>2015-07-24</td>\n",
       "      <td>3</td>\n",
       "      <td>NaN</td>\n",
       "      <td>14</td>\n",
       "      <td>90.0</td>\n",
       "      <td>9</td>\n",
       "      <td>False</td>\n",
       "      <td>...</td>\n",
       "      <td>3</td>\n",
       "      <td>234.0</td>\n",
       "      <td>424.0</td>\n",
       "      <td>0.566038</td>\n",
       "      <td>0.188679</td>\n",
       "      <td>408176</td>\n",
       "      <td>Friday</td>\n",
       "      <td>July</td>\n",
       "      <td>2015</td>\n",
       "      <td>другой</td>\n",
       "    </tr>\n",
       "    <tr>\n",
       "      <th>4</th>\n",
       "      <td>2</td>\n",
       "      <td>10000000.0</td>\n",
       "      <td>100.0</td>\n",
       "      <td>2018-06-19</td>\n",
       "      <td>2</td>\n",
       "      <td>3.03</td>\n",
       "      <td>14</td>\n",
       "      <td>32.0</td>\n",
       "      <td>13</td>\n",
       "      <td>False</td>\n",
       "      <td>...</td>\n",
       "      <td>1</td>\n",
       "      <td>48.0</td>\n",
       "      <td>121.0</td>\n",
       "      <td>0.320000</td>\n",
       "      <td>0.410000</td>\n",
       "      <td>100000</td>\n",
       "      <td>Tuesday</td>\n",
       "      <td>June</td>\n",
       "      <td>2018</td>\n",
       "      <td>другой</td>\n",
       "    </tr>\n",
       "  </tbody>\n",
       "</table>\n",
       "<p>5 rows × 29 columns</p>\n",
       "</div>"
      ],
      "text/plain": [
       "   total_images  last_price  total_area first_day_exposition  rooms  \\\n",
       "0            20  13000000.0       108.0           2019-03-07      3   \n",
       "1             7   3350000.0        40.4           2018-12-04      1   \n",
       "2            10   5196000.0        56.0           2015-08-20      2   \n",
       "3             0  64900000.0       159.0           2015-07-24      3   \n",
       "4             2  10000000.0       100.0           2018-06-19      2   \n",
       "\n",
       "   ceiling_height  floors_total  living_area  floor  is_apartment  ...  \\\n",
       "0            2.70            16         51.0      8         False  ...   \n",
       "1             NaN            11         19.0      1         False  ...   \n",
       "2             NaN             5         34.0      4         False  ...   \n",
       "3             NaN            14         90.0      9         False  ...   \n",
       "4            3.03            14         32.0     13         False  ...   \n",
       "\n",
       "   ponds_around3000  ponds_nearest  days_exposition  part_living part_kitchen  \\\n",
       "0                 2          755.0              NaN     0.472222     0.231481   \n",
       "1                 0            NaN             81.0     0.470297     0.272277   \n",
       "2                 2          574.0            558.0     0.607143     0.142857   \n",
       "3                 3          234.0            424.0     0.566038     0.188679   \n",
       "4                 1           48.0            121.0     0.320000     0.410000   \n",
       "\n",
       "   m2_price  exposition_day  exposition_month  exposition_year  floor_category  \n",
       "0    120370        Thursday             March             2019          другой  \n",
       "1     82920         Tuesday          December             2018          первый  \n",
       "2     92785        Thursday            August             2015          другой  \n",
       "3    408176          Friday              July             2015          другой  \n",
       "4    100000         Tuesday              June             2018          другой  \n",
       "\n",
       "[5 rows x 29 columns]"
      ]
     },
     "execution_count": 15,
     "metadata": {},
     "output_type": "execute_result"
    }
   ],
   "source": [
    "def floor_count(row):\n",
    "    floor = row['floor']\n",
    "    if floor == 1:\n",
    "        return 'первый' # если этаж = 1, значит он первый\n",
    "    if floor == row['floors_total']:\n",
    "        return 'последний' # если этаж = общему кол-ву этажей, значит он последний\n",
    "    return 'другой'\n",
    "\n",
    "\n",
    "\n",
    "df['floor_category'] = df.apply(floor_count, axis=1) # применим функцию к df\n",
    "df.head()"
   ]
  },
  {
   "cell_type": "markdown",
   "metadata": {},
   "source": [
    "### Вывод\n",
    "\n",
    "Мы добавили несколько новых данных, которые могут пригодится при анализе:\n",
    "* `m2_price` - цена за кв.м.\n",
    "* `exposition_day`, `exposition_month`, `exposition_year` - день, месяц, год продажи.\n",
    "* `floor_category` разпределили объявления по этажам: первый, последний, другой."
   ]
  },
  {
   "cell_type": "markdown",
   "metadata": {},
   "source": [
    "## Исследовательский анализ данных"
   ]
  },
  {
   "cell_type": "markdown",
   "metadata": {},
   "source": [
    "Построим гистограммы для `total_area`, `last_price`, `rooms`, `ceiling_height`, чтобы посмотреть как распределены значения. Заодно вызовем `describe()`, таким образом у нас будут текстовые данные, которые мы для наглядности визуализируем. Для дальнейшего анализа избавимся от аномальных значений."
   ]
  },
  {
   "cell_type": "markdown",
   "metadata": {},
   "source": [
    "### Какие значения общей площади?"
   ]
  },
  {
   "cell_type": "code",
   "execution_count": 16,
   "metadata": {},
   "outputs": [
    {
     "name": "stdout",
     "output_type": "stream",
     "text": [
      "count    23699.000000\n",
      "mean        60.348651\n",
      "std         35.654083\n",
      "min         12.000000\n",
      "25%         40.000000\n",
      "50%         52.000000\n",
      "75%         69.900000\n",
      "max        900.000000\n",
      "Name: total_area, dtype: float64\n"
     ]
    },
    {
     "data": {
      "image/png": "[encoded data removed]",
      "text/plain": [
       "<Figure size 720x360 with 1 Axes>"
      ]
     },
     "metadata": {
      "needs_background": "light"
     },
     "output_type": "display_data"
    }
   ],
   "source": [
    "print(df['total_area'].describe()) \n",
    "\n",
    "df['total_area'].plot(kind='hist',\n",
    "        alpha=0.7,\n",
    "        bins=20,\n",
    "        range=(20, 150),           \n",
    "        title='Кол-во продаж и общая площадь квартиры',\n",
    "        grid=True,\n",
    "        figsize=(10,5),\n",
    "        fontsize=15)\n",
    "plt.xlabel('Площадь квартиры')\n",
    "plt.ylabel('Количество продаж');"
   ]
  },
  {
   "cell_type": "markdown",
   "metadata": {},
   "source": [
    "Судя по графику, больше всего объявлений о продаже недвижимостью площадью 30-60 кв.м. Если сузить - квартир 40-45 кв.м. было больше всего в продаже. После 80 кв.м кол-во объявлений неуклонно, но постепенно падает.   "
   ]
  },
  {
   "cell_type": "code",
   "execution_count": 17,
   "metadata": {},
   "outputs": [
    {
     "data": {
      "text/plain": [
       "(0.0, 1000.0)"
      ]
     },
     "execution_count": 17,
     "metadata": {},
     "output_type": "execute_result"
    },
    {
     "data": {
      "image/png": "[encoded data removed]",
      "text/plain": [
       "<Figure size 432x288 with 1 Axes>"
      ]
     },
     "metadata": {
      "needs_background": "light"
     },
     "output_type": "display_data"
    }
   ],
   "source": [
    "df.boxplot('total_area')\n",
    "plt.ylim(0, 1000)"
   ]
  },
  {
   "cell_type": "markdown",
   "metadata": {},
   "source": [
    "На графике видно, что разброс нормальных значений начинается с 20кв.м и заканчивается на 120 кв.м, но много значений и за пределами разброса. Отбросим только редкие значения:"
   ]
  },
  {
   "cell_type": "code",
   "execution_count": 18,
   "metadata": {},
   "outputs": [],
   "source": [
    "df = df.query('total_area>=20 and total_area<=500')"
   ]
  },
  {
   "cell_type": "markdown",
   "metadata": {},
   "source": [
    "### Какие цены?"
   ]
  },
  {
   "cell_type": "code",
   "execution_count": 19,
   "metadata": {},
   "outputs": [
    {
     "name": "stdout",
     "output_type": "stream",
     "text": [
      "count    2.366500e+04\n",
      "mean     6.498059e+06\n",
      "std      1.028711e+07\n",
      "min      1.219000e+04\n",
      "25%      3.425000e+06\n",
      "50%      4.650000e+06\n",
      "75%      6.800000e+06\n",
      "max      7.630000e+08\n",
      "Name: last_price, dtype: float64\n"
     ]
    },
    {
     "data": {
      "image/png": "[encoded data removed]",
      "text/plain": [
       "<Figure size 720x360 with 1 Axes>"
      ]
     },
     "metadata": {
      "needs_background": "light"
     },
     "output_type": "display_data"
    }
   ],
   "source": [
    "print(df['last_price'].describe())\n",
    "\n",
    "df['last_price'].plot(kind='hist',\n",
    "        alpha=0.7,\n",
    "        bins=20,\n",
    "        range=(1_000_000,15_000_000), # сразу срежем редкие низикие и высокие значения          \n",
    "        title='Кол-во продаж и цена квартиры',\n",
    "        grid=True,\n",
    "        figsize=(10,5),\n",
    "        fontsize=15)\n",
    "plt.xlabel('Цена квартиры')\n",
    "plt.ylabel('Количество продаж');"
   ]
  },
  {
   "cell_type": "markdown",
   "metadata": {},
   "source": [
    "Чаще всего недвижимость продается за 3-6 миллионов, после 6 миллионов начинается постепенное снижение, точно такое же, как и на предыдущем графике, они, в целом, очень похожи. Уже просто на графиках можно видеть сильную корреляцию цены и площади."
   ]
  },
  {
   "cell_type": "markdown",
   "metadata": {},
   "source": [
    "Избавимлся от редких значений:"
   ]
  },
  {
   "cell_type": "code",
   "execution_count": 20,
   "metadata": {},
   "outputs": [
    {
     "data": {
      "text/plain": [
       "(0.0, 150000000.0)"
      ]
     },
     "execution_count": 20,
     "metadata": {},
     "output_type": "execute_result"
    },
    {
     "data": {
      "image/png": "[encoded data removed]",
      "text/plain": [
       "<Figure size 432x288 with 1 Axes>"
      ]
     },
     "metadata": {
      "needs_background": "light"
     },
     "output_type": "display_data"
    }
   ],
   "source": [
    "df.boxplot('last_price')\n",
    "plt.ylim(0, 150_000_000)"
   ]
  },
  {
   "cell_type": "markdown",
   "metadata": {},
   "source": [
    "За пределами разброса снова много значений, отбросим только редкие: "
   ]
  },
  {
   "cell_type": "code",
   "execution_count": 21,
   "metadata": {},
   "outputs": [],
   "source": [
    "df = df.query('last_price<=100_000_000')"
   ]
  },
  {
   "cell_type": "markdown",
   "metadata": {},
   "source": [
    "### Сколько комнат?"
   ]
  },
  {
   "cell_type": "code",
   "execution_count": 22,
   "metadata": {},
   "outputs": [
    {
     "name": "stdout",
     "output_type": "stream",
     "text": [
      "count    23632.000000\n",
      "mean         2.066393\n",
      "std          1.065198\n",
      "min          0.000000\n",
      "25%          1.000000\n",
      "50%          2.000000\n",
      "75%          3.000000\n",
      "max         19.000000\n",
      "Name: rooms, dtype: float64\n"
     ]
    },
    {
     "data": {
      "text/plain": [
       "Text(0, 0.5, 'Количество продаж')"
      ]
     },
     "execution_count": 22,
     "metadata": {},
     "output_type": "execute_result"
    },
    {
     "data": {
      "image/png": "[encoded data removed]",
      "text/plain": [
       "<Figure size 720x360 with 1 Axes>"
      ]
     },
     "metadata": {
      "needs_background": "light"
     },
     "output_type": "display_data"
    }
   ],
   "source": [
    "print(df['rooms'].describe()) \n",
    "\n",
    "df['rooms'].plot(kind='hist',\n",
    "        alpha=0.7,\n",
    "        bins=10,\n",
    "        range=(0, 10), # сразу срежем редкие низикие и высокие значения          \n",
    "        title='Кол-во продаж и кол-во комнат в квартире',\n",
    "        grid=True,\n",
    "        figsize=(10,5),\n",
    "        fontsize=15)\n",
    "plt.xlabel('Кол-во комнат')\n",
    "plt.ylabel('Количество продаж')"
   ]
  },
  {
   "cell_type": "markdown",
   "metadata": {},
   "source": [
    "Больше всего квартир с 1-2 комнатами, также много объявлений с 3 комнатами, а вот объявлений с 4 комнатами уже в шесть раз меньше."
   ]
  },
  {
   "cell_type": "markdown",
   "metadata": {},
   "source": [
    "Избавимся от редких значений:"
   ]
  },
  {
   "cell_type": "code",
   "execution_count": 23,
   "metadata": {
    "scrolled": true
   },
   "outputs": [
    {
     "data": {
      "text/plain": [
       "(0.0, 20.0)"
      ]
     },
     "execution_count": 23,
     "metadata": {},
     "output_type": "execute_result"
    },
    {
     "data": {
      "image/png": "[encoded data removed]",
      "text/plain": [
       "<Figure size 432x288 with 1 Axes>"
      ]
     },
     "metadata": {
      "needs_background": "light"
     },
     "output_type": "display_data"
    }
   ],
   "source": [
    "df.boxplot('rooms')\n",
    "plt.ylim(0, 20)"
   ]
  },
  {
   "cell_type": "markdown",
   "metadata": {},
   "source": [
    "Видно, что комнат разброс нормальных значений от 0 до 6, значений, которые выходят за эти рамки мало, их можно убрать:\n"
   ]
  },
  {
   "cell_type": "code",
   "execution_count": 24,
   "metadata": {},
   "outputs": [],
   "source": [
    "df = df.query('rooms<=6')"
   ]
  },
  {
   "cell_type": "markdown",
   "metadata": {},
   "source": [
    "### Какая высота потолков?"
   ]
  },
  {
   "cell_type": "code",
   "execution_count": 25,
   "metadata": {},
   "outputs": [
    {
     "name": "stdout",
     "output_type": "stream",
     "text": [
      "count    14402.000000\n",
      "mean         2.767324\n",
      "std          1.263627\n",
      "min          1.000000\n",
      "25%          2.510000\n",
      "50%          2.650000\n",
      "75%          2.800000\n",
      "max        100.000000\n",
      "Name: ceiling_height, dtype: float64\n"
     ]
    },
    {
     "data": {
      "text/plain": [
       "Text(0, 0.5, 'Количество продаж')"
      ]
     },
     "execution_count": 25,
     "metadata": {},
     "output_type": "execute_result"
    },
    {
     "data": {
      "image/png": "[encoded data removed]",
      "text/plain": [
       "<Figure size 720x360 with 1 Axes>"
      ]
     },
     "metadata": {
      "needs_background": "light"
     },
     "output_type": "display_data"
    }
   ],
   "source": [
    "print(df['ceiling_height'].describe())\n",
    "\n",
    "df['ceiling_height'].plot(kind='hist',\n",
    "        alpha=0.7,\n",
    "        bins=20,\n",
    "        range=(2, 5), # сразу срежем редкие низикие и высокие значения          \n",
    "        title='Кол-во продаж и цена квартиры',\n",
    "        grid=True,\n",
    "        figsize=(10,5),\n",
    "        fontsize=15)\n",
    "plt.xlabel('Высота потолка')\n",
    "plt.ylabel('Количество продаж')"
   ]
  },
  {
   "cell_type": "markdown",
   "metadata": {},
   "source": [
    "Больше всего вариантов с потолками от 2.5 до 2.7, а вот потолков под 3 метра уже намного меньше, скорее всего, это старые здания (\"сталинка\", например) или наоборот новое жилье премиум класса."
   ]
  },
  {
   "cell_type": "markdown",
   "metadata": {},
   "source": [
    "Избавимся от редких значений:"
   ]
  },
  {
   "cell_type": "code",
   "execution_count": 26,
   "metadata": {},
   "outputs": [
    {
     "data": {
      "text/plain": [
       "(0.0, 10.0)"
      ]
     },
     "execution_count": 26,
     "metadata": {},
     "output_type": "execute_result"
    },
    {
     "data": {
      "image/png": "[encoded data removed]",
      "text/plain": [
       "<Figure size 432x288 with 1 Axes>"
      ]
     },
     "metadata": {
      "needs_background": "light"
     },
     "output_type": "display_data"
    }
   ],
   "source": [
    "df.boxplot('ceiling_height')\n",
    "plt.ylim(0, 10)"
   ]
  },
  {
   "cell_type": "markdown",
   "metadata": {},
   "source": [
    "Хоть, в среднем, потолки от 2 до 3 метров, есть много исключений из этого правила."
   ]
  },
  {
   "cell_type": "code",
   "execution_count": 27,
   "metadata": {
    "scrolled": true
   },
   "outputs": [
    {
     "data": {
      "text/plain": [
       "9150"
      ]
     },
     "execution_count": 27,
     "metadata": {},
     "output_type": "execute_result"
    }
   ],
   "source": [
    "df['ceiling_height'].isna().sum()"
   ]
  },
  {
   "cell_type": "code",
   "execution_count": 28,
   "metadata": {},
   "outputs": [],
   "source": [
    "df = df.query('(ceiling_height < 5 and ceiling_height > 2) or ceiling_height.isna()', engine='python')\n",
    "# избавляемся от редких значений, но сохраняем строки с пропусками, их слишком много, \n",
    "# чтобы удалить их без влияния на результат"
   ]
  },
  {
   "cell_type": "markdown",
   "metadata": {},
   "source": [
    "### Сколько дней было размещено объявление?"
   ]
  },
  {
   "cell_type": "code",
   "execution_count": 29,
   "metadata": {},
   "outputs": [
    {
     "name": "stdout",
     "output_type": "stream",
     "text": [
      "count    20364.000000\n",
      "mean       180.501866\n",
      "std        219.315707\n",
      "min          1.000000\n",
      "25%         45.000000\n",
      "50%         95.000000\n",
      "75%        231.000000\n",
      "max       1580.000000\n",
      "Name: days_exposition, dtype: float64\n"
     ]
    },
    {
     "data": {
      "text/plain": [
       "Text(0, 0.5, 'Количество продаж')"
      ]
     },
     "execution_count": 29,
     "metadata": {},
     "output_type": "execute_result"
    },
    {
     "data": {
      "image/png": "[encoded data removed]",
      "text/plain": [
       "<Figure size 720x360 with 1 Axes>"
      ]
     },
     "metadata": {
      "needs_background": "light"
     },
     "output_type": "display_data"
    }
   ],
   "source": [
    "print(df['days_exposition'].describe()) # Сколько дней было размещено\n",
    "df['days_exposition'].plot(kind='hist',\n",
    "        alpha=0.7,\n",
    "        bins=30,\n",
    "        range=(1, 365), # сразу срежем редкие низикие и высокие значения          \n",
    "        title='Кол-во продаж и кол-во дней',\n",
    "        grid=True,\n",
    "        figsize=(10,5),\n",
    "        fontsize=15)\n",
    "plt.xlabel('Кол-во дней в продаже')\n",
    "plt.ylabel('Количество продаж')"
   ]
  },
  {
   "cell_type": "markdown",
   "metadata": {},
   "source": [
    "Большинство продаж проходят за первые 2 месяца, затем кол-во продаж резко падает чуть ли не в 2 раза. Довольно много продаж происходит в первые 2 недели, можно считать, что продать в рамках 2-х первых недель - это необычайно быстро, но есть и большое кол-во объявлений, которые висят и более полугода. Похоже, что если за первые 2 месяца покупатель не нашелся, то шансы на продажу резко падают."
   ]
  },
  {
   "cell_type": "markdown",
   "metadata": {},
   "source": [
    "Взглянем на выбивающиеся значения и избавимся от них:"
   ]
  },
  {
   "cell_type": "code",
   "execution_count": 30,
   "metadata": {},
   "outputs": [
    {
     "data": {
      "text/plain": [
       "<AxesSubplot:>"
      ]
     },
     "execution_count": 30,
     "metadata": {},
     "output_type": "execute_result"
    },
    {
     "data": {
      "image/png": "[encoded data removed]",
      "text/plain": [
       "<Figure size 432x288 with 1 Axes>"
      ]
     },
     "metadata": {
      "needs_background": "light"
     },
     "output_type": "display_data"
    }
   ],
   "source": [
    "df.boxplot('days_exposition')"
   ]
  },
  {
   "cell_type": "markdown",
   "metadata": {},
   "source": [
    "Разброс нормальных значений от 0 до 450, но значений за пределами разброса тоже много, их не назвать редкими, поэтому мы уберем значение только выше 1400:"
   ]
  },
  {
   "cell_type": "code",
   "execution_count": 31,
   "metadata": {},
   "outputs": [],
   "source": [
    "df = df.query('days_exposition < 1400')"
   ]
  },
  {
   "cell_type": "code",
   "execution_count": 32,
   "metadata": {},
   "outputs": [
    {
     "data": {
      "text/plain": [
       "Text(0, 0.5, 'Количество продаж')"
      ]
     },
     "execution_count": 32,
     "metadata": {},
     "output_type": "execute_result"
    },
    {
     "data": {
      "image/png": "[encoded data removed]",
      "text/plain": [
       "<Figure size 720x360 with 1 Axes>"
      ]
     },
     "metadata": {
      "needs_background": "light"
     },
     "output_type": "display_data"
    }
   ],
   "source": [
    "df['days_exposition'].plot(kind='hist',\n",
    "        alpha=0.7,\n",
    "        bins=30,\n",
    "        range=(1, 250), # сразу срежем редкие низикие и высокие значения          \n",
    "        title='Кол-во продаж и кол-во дней',\n",
    "        grid=True,\n",
    "        figsize=(10,5),\n",
    "        fontsize=15)\n",
    "plt.xlabel('Кол-во дней в продаже')\n",
    "plt.ylabel('Количество продаж')"
   ]
  },
  {
   "cell_type": "markdown",
   "metadata": {},
   "source": [
    "Если убрать редкие значения, то можно очевиднее наблюдать, что после 40, 60, 90 дней число продаж резко увеличивается, возможно это связанно с тем, что после месяцев ожидания продавцы начинают более активно продвигать свое объявление на сайтах о продаже, газетах и т.п. (либо вообще впервые начинают их продвигать)"
   ]
  },
  {
   "cell_type": "markdown",
   "metadata": {},
   "source": [
    "Теперь взглянем на корреляцию, чтобы определить какие факторы больше всего влияют на цену.\n",
    "\n",
    "Посмотрим как на цену влияет общая площадь, число комнат, отдаленость от центра:"
   ]
  },
  {
   "cell_type": "code",
   "execution_count": 33,
   "metadata": {},
   "outputs": [],
   "source": [
    "price_and_others_df = pd.DataFrame(df, columns=['last_price','total_area','rooms', 'cityCenters_nearest'])"
   ]
  },
  {
   "cell_type": "code",
   "execution_count": 34,
   "metadata": {
    "scrolled": false
   },
   "outputs": [
    {
     "data": {
      "text/plain": [
       "array([[<AxesSubplot:xlabel='last_price', ylabel='last_price'>,\n",
       "        <AxesSubplot:xlabel='total_area', ylabel='last_price'>,\n",
       "        <AxesSubplot:xlabel='rooms', ylabel='last_price'>,\n",
       "        <AxesSubplot:xlabel='cityCenters_nearest', ylabel='last_price'>],\n",
       "       [<AxesSubplot:xlabel='last_price', ylabel='total_area'>,\n",
       "        <AxesSubplot:xlabel='total_area', ylabel='total_area'>,\n",
       "        <AxesSubplot:xlabel='rooms', ylabel='total_area'>,\n",
       "        <AxesSubplot:xlabel='cityCenters_nearest', ylabel='total_area'>],\n",
       "       [<AxesSubplot:xlabel='last_price', ylabel='rooms'>,\n",
       "        <AxesSubplot:xlabel='total_area', ylabel='rooms'>,\n",
       "        <AxesSubplot:xlabel='rooms', ylabel='rooms'>,\n",
       "        <AxesSubplot:xlabel='cityCenters_nearest', ylabel='rooms'>],\n",
       "       [<AxesSubplot:xlabel='last_price', ylabel='cityCenters_nearest'>,\n",
       "        <AxesSubplot:xlabel='total_area', ylabel='cityCenters_nearest'>,\n",
       "        <AxesSubplot:xlabel='rooms', ylabel='cityCenters_nearest'>,\n",
       "        <AxesSubplot:xlabel='cityCenters_nearest', ylabel='cityCenters_nearest'>]],\n",
       "      dtype=object)"
      ]
     },
     "execution_count": 34,
     "metadata": {},
     "output_type": "execute_result"
    },
    {
     "data": {
      "image/png": "[encoded data removed]",
      "text/plain": [
       "<Figure size 720x720 with 16 Axes>"
      ]
     },
     "metadata": {
      "needs_background": "light"
     },
     "output_type": "display_data"
    }
   ],
   "source": [
    "pd.plotting.scatter_matrix(price_and_others_df, figsize=(10, 10), alpha=0.1)"
   ]
  },
  {
   "cell_type": "markdown",
   "metadata": {},
   "source": [
    "По графикам можно сделать следующие выводы:\n",
    "* Чем больше общая площадь, тем больше и цена\n",
    "* Начиная с 3-х комнат, кол-во комнат перестают сильно влияеть на цену\n",
    "* Чем ближе к центру, тем цена выше"
   ]
  },
  {
   "cell_type": "markdown",
   "metadata": {},
   "source": [
    "Далее посмотрим как влияет день недели, месяц и год появления объявления на цену:"
   ]
  },
  {
   "cell_type": "code",
   "execution_count": 35,
   "metadata": {
    "scrolled": true
   },
   "outputs": [],
   "source": [
    "#для удобства вернем отоброжение дней\\месяцев цифрами\n",
    "df['exposition_month_numeric'] = df['first_day_exposition'].dt.month  \n",
    "df['exposition_day_numeric'] = df['first_day_exposition'].dt.weekday"
   ]
  },
  {
   "cell_type": "code",
   "execution_count": 36,
   "metadata": {
    "scrolled": false
   },
   "outputs": [
    {
     "data": {
      "text/plain": [
       "<AxesSubplot:xlabel='exposition_day_numeric'>"
      ]
     },
     "execution_count": 36,
     "metadata": {},
     "output_type": "execute_result"
    },
    {
     "data": {
      "image/png": "[encoded data removed]",
      "text/plain": [
       "<Figure size 432x288 with 1 Axes>"
      ]
     },
     "metadata": {
      "needs_background": "light"
     },
     "output_type": "display_data"
    }
   ],
   "source": [
    "df.pivot_table(index='exposition_day_numeric', values='last_price', aggfunc=('median')).plot(style='o-', grid=True)\n",
    "# день недели"
   ]
  },
  {
   "cell_type": "markdown",
   "metadata": {},
   "source": [
    "Похоже, что самые высокие цены появляются в c понедельника на вторник и постепенно снижаются к выходным. Есть предположение, что объявления обновляются именно в понедельник, а первую цену продавец назначает немного завышенной, чтобы в последствии снижать ее, если покупателей не найдется."
   ]
  },
  {
   "cell_type": "code",
   "execution_count": 37,
   "metadata": {},
   "outputs": [
    {
     "data": {
      "text/plain": [
       "<AxesSubplot:xlabel='exposition_month_numeric'>"
      ]
     },
     "execution_count": 37,
     "metadata": {},
     "output_type": "execute_result"
    },
    {
     "data": {
      "image/png": "[encoded data removed]",
      "text/plain": [
       "<Figure size 432x288 with 1 Axes>"
      ]
     },
     "metadata": {
      "needs_background": "light"
     },
     "output_type": "display_data"
    }
   ],
   "source": [
    "df.pivot_table(index='exposition_month_numeric', values='last_price', aggfunc=('median')).plot(style='o-', grid=True)\n",
    "# месяц"
   ]
  },
  {
   "cell_type": "markdown",
   "metadata": {},
   "source": [
    "В целом график должен бы быть довольно стабильным, если бы не одно \"но\": резкое снижение цены с апреля по июнь и затем возвращение к норме. Возможно это связано с окончанием периода отопления домов и снижению среднего счета за ЖКХ, либо с тем, что перед летним сезоном люди чаще покупают недвижимость загородом, а она дешевле, чем недвижимость в городе. **Затем цена резко возрастает уже в сентябре, что опять же, может быть связанно уже с началом отопительного периода.**"
   ]
  },
  {
   "cell_type": "code",
   "execution_count": 38,
   "metadata": {},
   "outputs": [
    {
     "data": {
      "text/plain": [
       "<AxesSubplot:xlabel='exposition_year'>"
      ]
     },
     "execution_count": 38,
     "metadata": {},
     "output_type": "execute_result"
    },
    {
     "data": {
      "image/png": "[encoded data removed]",
      "text/plain": [
       "<Figure size 432x288 with 1 Axes>"
      ]
     },
     "metadata": {
      "needs_background": "light"
     },
     "output_type": "display_data"
    }
   ],
   "source": [
    "df.pivot_table(index='exposition_year', values='last_price', aggfunc=('median')).plot(style='o-', grid=True)\n",
    "# год"
   ]
  },
  {
   "cell_type": "code",
   "execution_count": 39,
   "metadata": {},
   "outputs": [
    {
     "data": {
      "text/plain": [
       "2017    7852\n",
       "2018    7515\n",
       "2016    2699\n",
       "2015    1095\n",
       "2019    1074\n",
       "2014     110\n",
       "Name: exposition_year, dtype: int64"
      ]
     },
     "execution_count": 39,
     "metadata": {},
     "output_type": "execute_result"
    }
   ],
   "source": [
    "df['exposition_year'].value_counts()"
   ]
  },
  {
   "cell_type": "code",
   "execution_count": 40,
   "metadata": {},
   "outputs": [
    {
     "name": "stdout",
     "output_type": "stream",
     "text": [
      "-16.66666666666667\n"
     ]
    },
    {
     "data": {
      "text/plain": [
       "10.869565217391305"
      ]
     },
     "execution_count": 40,
     "metadata": {},
     "output_type": "execute_result"
    }
   ],
   "source": [
    "print((4.5 - 5.4) / 5.4 * 100) # посчитаем проценты\n",
    "(5.1 - 4.6) / 4.6 * 100"
   ]
  },
  {
   "cell_type": "markdown",
   "metadata": {},
   "source": [
    "Учитывая, что выборка за 2014 маленькая, а сам год для экономики страны был плохим (~~АХАХХАХА теперь кажется не таким уж и плохим~~), будет лучше не учитывать его при анализе. Таким образом:\n",
    "* Цены с 2015 по 2016 в среднем заметно снизились (на 17%)\n",
    "* С 2016 по 2018 цены практически не изменились\n",
    "* с 2018 по 2019 цены выросли (на 11%)"
   ]
  },
  {
   "cell_type": "markdown",
   "metadata": {},
   "source": [
    "Теперь взглянем как этаж влияет на цену:"
   ]
  },
  {
   "cell_type": "code",
   "execution_count": 41,
   "metadata": {},
   "outputs": [
    {
     "data": {
      "text/plain": [
       "<AxesSubplot:xlabel='floor_category'>"
      ]
     },
     "execution_count": 41,
     "metadata": {},
     "output_type": "execute_result"
    },
    {
     "data": {
      "image/png": "[encoded data removed]",
      "text/plain": [
       "<Figure size 432x288 with 1 Axes>"
      ]
     },
     "metadata": {
      "needs_background": "light"
     },
     "output_type": "display_data"
    }
   ],
   "source": [
    "df.pivot_table(index='floor_category', values='last_price', aggfunc=('median')).plot(style='o-', grid=True)"
   ]
  },
  {
   "cell_type": "markdown",
   "metadata": {},
   "source": [
    "Самым предпочтительным является вариант между первым и последним этажем, первый этаж - самый \"дешевый\""
   ]
  },
  {
   "cell_type": "markdown",
   "metadata": {},
   "source": [
    "Выделим 10 населеных пунктов с наибольшим количеством объявлений:"
   ]
  },
  {
   "cell_type": "code",
   "execution_count": 42,
   "metadata": {},
   "outputs": [
    {
     "data": {
      "text/plain": [
       "Санкт-Петербург      13501\n",
       "посёлок Мурино         515\n",
       "посёлок Шушары         407\n",
       "Всеволожск             338\n",
       "Колпино                307\n",
       "Пушкин                 303\n",
       "посёлок Парголово      300\n",
       "деревня Кудрово        299\n",
       "Гатчина                267\n",
       "Выборг                 206\n",
       "Name: locality_name, dtype: int64"
      ]
     },
     "execution_count": 42,
     "metadata": {},
     "output_type": "execute_result"
    }
   ],
   "source": [
    "df['locality_name'].value_counts().head(10)"
   ]
  },
  {
   "cell_type": "markdown",
   "metadata": {},
   "source": [
    "Найдем среднюю цену за кв.метр сначала для каждого населеного пункта, а затем возьмем срез нужных нам населеных пунктов."
   ]
  },
  {
   "cell_type": "code",
   "execution_count": 43,
   "metadata": {},
   "outputs": [
    {
     "data": {
      "text/html": [
       "<div>\n",
       "<style scoped>\n",
       "    .dataframe tbody tr th:only-of-type {\n",
       "        vertical-align: middle;\n",
       "    }\n",
       "\n",
       "    .dataframe tbody tr th {\n",
       "        vertical-align: top;\n",
       "    }\n",
       "\n",
       "    .dataframe thead th {\n",
       "        text-align: right;\n",
       "    }\n",
       "</style>\n",
       "<table border=\"1\" class=\"dataframe\">\n",
       "  <thead>\n",
       "    <tr style=\"text-align: right;\">\n",
       "      <th></th>\n",
       "      <th>m2_price</th>\n",
       "    </tr>\n",
       "    <tr>\n",
       "      <th>locality_name</th>\n",
       "      <th></th>\n",
       "    </tr>\n",
       "  </thead>\n",
       "  <tbody>\n",
       "    <tr>\n",
       "      <th>Санкт-Петербург</th>\n",
       "      <td>102989.0</td>\n",
       "    </tr>\n",
       "    <tr>\n",
       "      <th>Пушкин</th>\n",
       "      <td>97625.0</td>\n",
       "    </tr>\n",
       "    <tr>\n",
       "      <th>деревня Кудрово</th>\n",
       "      <td>91860.0</td>\n",
       "    </tr>\n",
       "    <tr>\n",
       "      <th>посёлок Парголово</th>\n",
       "      <td>91387.0</td>\n",
       "    </tr>\n",
       "    <tr>\n",
       "      <th>посёлок Мурино</th>\n",
       "      <td>86111.0</td>\n",
       "    </tr>\n",
       "    <tr>\n",
       "      <th>посёлок Шушары</th>\n",
       "      <td>76125.0</td>\n",
       "    </tr>\n",
       "    <tr>\n",
       "      <th>Колпино</th>\n",
       "      <td>73913.0</td>\n",
       "    </tr>\n",
       "    <tr>\n",
       "      <th>Гатчина</th>\n",
       "      <td>67187.0</td>\n",
       "    </tr>\n",
       "    <tr>\n",
       "      <th>Всеволожск</th>\n",
       "      <td>65789.0</td>\n",
       "    </tr>\n",
       "    <tr>\n",
       "      <th>Выборг</th>\n",
       "      <td>57164.0</td>\n",
       "    </tr>\n",
       "  </tbody>\n",
       "</table>\n",
       "</div>"
      ],
      "text/plain": [
       "                   m2_price\n",
       "locality_name              \n",
       "Санкт-Петербург    102989.0\n",
       "Пушкин              97625.0\n",
       "деревня Кудрово     91860.0\n",
       "посёлок Парголово   91387.0\n",
       "посёлок Мурино      86111.0\n",
       "посёлок Шушары      76125.0\n",
       "Колпино             73913.0\n",
       "Гатчина             67187.0\n",
       "Всеволожск          65789.0\n",
       "Выборг              57164.0"
      ]
     },
     "execution_count": 43,
     "metadata": {},
     "output_type": "execute_result"
    }
   ],
   "source": [
    "df_region = df.pivot_table(index='locality_name', values='m2_price', aggfunc=('median'))\n",
    "region_needed = df['locality_name'].value_counts().head(10).index.to_list() \n",
    "\n",
    "\n",
    "# чтобы не писать отдельно список городов, \n",
    "# возьмем индексы из 'value_counts' и переведем их в список\n",
    "# затем этот список передадим 'query()', чтобы получить нужный срез\n",
    "\n",
    "\n",
    "df_region.query('locality_name == @region_needed').sort_values('m2_price', ascending=False)"
   ]
  },
  {
   "cell_type": "markdown",
   "metadata": {},
   "source": [
    "Самый дорогой кв.метр, ожидаемо, в Петербурге, а самый дешевый в Выборге"
   ]
  },
  {
   "cell_type": "markdown",
   "metadata": {},
   "source": [
    "Теперь попробуем предположить с какого километра начинается центр Петербурга, чтобы затем создать датафрей с данными об объявлениях о продаже недвижимости в центре города и сравнить их с общими данными."
   ]
  },
  {
   "cell_type": "code",
   "execution_count": 44,
   "metadata": {
    "scrolled": true
   },
   "outputs": [],
   "source": [
    "df['cityCenters_nearest'] = (df['cityCenters_nearest'] / 1000).round() # переведем метры в км\n",
    "df_saint = df.query('locality_name == \"Санкт-Петербург\"') # берем срез нужного нам Питера "
   ]
  },
  {
   "cell_type": "markdown",
   "metadata": {},
   "source": [
    "Посмотрим с какого километра средняя цена сильно возрастает - это и будет начало центра"
   ]
  },
  {
   "cell_type": "code",
   "execution_count": 45,
   "metadata": {},
   "outputs": [
    {
     "data": {
      "text/plain": [
       "<AxesSubplot:xlabel='cityCenters_nearest'>"
      ]
     },
     "execution_count": 45,
     "metadata": {},
     "output_type": "execute_result"
    },
    {
     "data": {
      "image/png": "[encoded data removed]",
      "text/plain": [
       "<Figure size 432x288 with 1 Axes>"
      ]
     },
     "metadata": {
      "needs_background": "light"
     },
     "output_type": "display_data"
    }
   ],
   "source": [
    "df_saint.pivot_table(index='cityCenters_nearest', values='last_price').plot(grid=True, kind='bar')"
   ]
  },
  {
   "cell_type": "markdown",
   "metadata": {},
   "source": [
    "Условно можно отчертить центр седьмым километром, возьмем объявления в центре:\n"
   ]
  },
  {
   "cell_type": "code",
   "execution_count": 46,
   "metadata": {},
   "outputs": [
    {
     "data": {
      "text/plain": [
       "2841"
      ]
     },
     "execution_count": 46,
     "metadata": {},
     "output_type": "execute_result"
    }
   ],
   "source": [
    "df_saint_center = df_saint.query('cityCenters_nearest <= 7')\n",
    "len(df_saint_center)"
   ]
  },
  {
   "cell_type": "markdown",
   "metadata": {},
   "source": [
    "## Теперь сравним средние показатели общих данных и данных об объявлениях в центре:\n"
   ]
  },
  {
   "cell_type": "markdown",
   "metadata": {},
   "source": [
    "### Цена"
   ]
  },
  {
   "cell_type": "code",
   "execution_count": 47,
   "metadata": {},
   "outputs": [
    {
     "data": {
      "image/png": "[encoded data removed]",
      "text/plain": [
       "<Figure size 432x288 with 1 Axes>"
      ]
     },
     "metadata": {
      "needs_background": "light"
     },
     "output_type": "display_data"
    },
    {
     "data": {
      "text/plain": [
       "<AxesSubplot:>"
      ]
     },
     "execution_count": 47,
     "metadata": {},
     "output_type": "execute_result"
    },
    {
     "data": {
      "image/png": "[encoded data removed]",
      "text/plain": [
       "<Figure size 432x288 with 1 Axes>"
      ]
     },
     "metadata": {
      "needs_background": "light"
     },
     "output_type": "display_data"
    }
   ],
   "source": [
    "df_saint_center['last_price'].hist(bins=20, range=(0, 100_000_000)) # цена\n",
    "plt.show()\n",
    "df['last_price'].hist(bins=20, range=(0, 100_000_000))"
   ]
  },
  {
   "cell_type": "markdown",
   "metadata": {},
   "source": [
    "Похоже, большинство цен в центре, по сравнению с общими данными, выше на 5 млн. Также видно, что, в процентом соотношении, более дорогой недвижимости в центре больше."
   ]
  },
  {
   "cell_type": "markdown",
   "metadata": {},
   "source": [
    "### Общая площадь"
   ]
  },
  {
   "cell_type": "code",
   "execution_count": 48,
   "metadata": {
    "scrolled": false
   },
   "outputs": [
    {
     "data": {
      "image/png": "[encoded data removed]",
      "text/plain": [
       "<Figure size 432x288 with 1 Axes>"
      ]
     },
     "metadata": {
      "needs_background": "light"
     },
     "output_type": "display_data"
    },
    {
     "data": {
      "text/plain": [
       "<AxesSubplot:>"
      ]
     },
     "execution_count": 48,
     "metadata": {},
     "output_type": "execute_result"
    },
    {
     "data": {
      "image/png": "[encoded data removed]",
      "text/plain": [
       "<Figure size 432x288 with 1 Axes>"
      ]
     },
     "metadata": {
      "needs_background": "light"
     },
     "output_type": "display_data"
    }
   ],
   "source": [
    "df_saint_center['total_area'].hist(bins=20, range=(0, 200)) # общая площадь\n",
    "plt.show()\n",
    "df['total_area'].hist(bins=20, range=(0,200))"
   ]
  },
  {
   "cell_type": "markdown",
   "metadata": {},
   "source": [
    "Если средняя квартира в общих данных - 30-60кв.метров, то в центре 40 - 100 кв.метров, также квартиры больше 100 метров чаще встречаюттся в центре."
   ]
  },
  {
   "cell_type": "markdown",
   "metadata": {},
   "source": [
    "### Кол-во комнат"
   ]
  },
  {
   "cell_type": "code",
   "execution_count": 49,
   "metadata": {},
   "outputs": [
    {
     "data": {
      "image/png": "[encoded data removed]",
      "text/plain": [
       "<Figure size 432x288 with 1 Axes>"
      ]
     },
     "metadata": {
      "needs_background": "light"
     },
     "output_type": "display_data"
    },
    {
     "data": {
      "text/plain": [
       "<AxesSubplot:>"
      ]
     },
     "execution_count": 49,
     "metadata": {},
     "output_type": "execute_result"
    },
    {
     "data": {
      "image/png": "[encoded data removed]",
      "text/plain": [
       "<Figure size 432x288 with 1 Axes>"
      ]
     },
     "metadata": {
      "needs_background": "light"
     },
     "output_type": "display_data"
    }
   ],
   "source": [
    "df_saint_center['rooms'].hist(bins=20, range=(0, 8)) # число комнат\n",
    "plt.show()\n",
    "df['rooms'].hist(bins=20, range=(0,8))"
   ]
  },
  {
   "cell_type": "markdown",
   "metadata": {},
   "source": [
    "В центре намного меньше однокомнатных квартиру, а вот 3-х комнатных большинство, а также часто встречаются и 4-х комнатные (так же часто как и однокомнатные)."
   ]
  },
  {
   "cell_type": "markdown",
   "metadata": {},
   "source": [
    "### Высота потолка"
   ]
  },
  {
   "cell_type": "code",
   "execution_count": 50,
   "metadata": {},
   "outputs": [
    {
     "data": {
      "image/png": "[encoded data removed]",
      "text/plain": [
       "<Figure size 432x288 with 1 Axes>"
      ]
     },
     "metadata": {
      "needs_background": "light"
     },
     "output_type": "display_data"
    },
    {
     "data": {
      "text/plain": [
       "<AxesSubplot:>"
      ]
     },
     "execution_count": 50,
     "metadata": {},
     "output_type": "execute_result"
    },
    {
     "data": {
      "image/png": "[encoded data removed]",
      "text/plain": [
       "<Figure size 432x288 with 1 Axes>"
      ]
     },
     "metadata": {
      "needs_background": "light"
     },
     "output_type": "display_data"
    }
   ],
   "source": [
    "df_saint_center['ceiling_height'].hist(bins=30, range=(2, 5)) # высота потолков\n",
    "plt.show()\n",
    "df['ceiling_height'].hist(bins=30, range=(2,5))"
   ]
  },
  {
   "cell_type": "markdown",
   "metadata": {},
   "source": [
    "Если в общей выборке больше всего вариантов с потолками от 2.5 - 2.7м., то в центре, в среднем, потолки выше, большинство квартир с потолками от 3 - 3.4м. Выглядит логично, учитывая, что в центре сохранилась старая застройка, а если и строится что-то новое, то премиум класса с высокими потолками."
   ]
  },
  {
   "cell_type": "markdown",
   "metadata": {},
   "source": [
    "Поближе взглянем на то, что влияет на цену уже не в общей выборке, а именно в центре:"
   ]
  },
  {
   "cell_type": "code",
   "execution_count": 51,
   "metadata": {},
   "outputs": [
    {
     "data": {
      "text/plain": [
       "array([[<AxesSubplot:xlabel='last_price', ylabel='last_price'>,\n",
       "        <AxesSubplot:xlabel='total_area', ylabel='last_price'>,\n",
       "        <AxesSubplot:xlabel='rooms', ylabel='last_price'>,\n",
       "        <AxesSubplot:xlabel='cityCenters_nearest', ylabel='last_price'>],\n",
       "       [<AxesSubplot:xlabel='last_price', ylabel='total_area'>,\n",
       "        <AxesSubplot:xlabel='total_area', ylabel='total_area'>,\n",
       "        <AxesSubplot:xlabel='rooms', ylabel='total_area'>,\n",
       "        <AxesSubplot:xlabel='cityCenters_nearest', ylabel='total_area'>],\n",
       "       [<AxesSubplot:xlabel='last_price', ylabel='rooms'>,\n",
       "        <AxesSubplot:xlabel='total_area', ylabel='rooms'>,\n",
       "        <AxesSubplot:xlabel='rooms', ylabel='rooms'>,\n",
       "        <AxesSubplot:xlabel='cityCenters_nearest', ylabel='rooms'>],\n",
       "       [<AxesSubplot:xlabel='last_price', ylabel='cityCenters_nearest'>,\n",
       "        <AxesSubplot:xlabel='total_area', ylabel='cityCenters_nearest'>,\n",
       "        <AxesSubplot:xlabel='rooms', ylabel='cityCenters_nearest'>,\n",
       "        <AxesSubplot:xlabel='cityCenters_nearest', ylabel='cityCenters_nearest'>]],\n",
       "      dtype=object)"
      ]
     },
     "execution_count": 51,
     "metadata": {},
     "output_type": "execute_result"
    },
    {
     "data": {
      "image/png": "[encoded data removed]",
      "text/plain": [
       "<Figure size 720x720 with 16 Axes>"
      ]
     },
     "metadata": {
      "needs_background": "light"
     },
     "output_type": "display_data"
    }
   ],
   "source": [
    "price_in_center_df = pd.DataFrame(df_saint_center, columns=\n",
    "                                    ['last_price','total_area','rooms', 'cityCenters_nearest'])\n",
    "pd.plotting.scatter_matrix(price_in_center_df, figsize=(10, 10), alpha=0.1)"
   ]
  },
  {
   "cell_type": "markdown",
   "metadata": {},
   "source": [
    "Какие выводы можно сделать по графикам, в центре:\n",
    "* Чем больше общая площадь, тем выше цена\n",
    "* После 3-х комнат, увеличение кол-ва комнат может наоборот снизить цену на жилье\n",
    "* Похоже, что люди хотят жить в центре, но не в самом центре. Цена в 0-1км от центра обычно ниже, чем цена за жилье в 4-6км от центра."
   ]
  },
  {
   "cell_type": "code",
   "execution_count": 52,
   "metadata": {},
   "outputs": [
    {
     "data": {
      "text/plain": [
       "count    2.841000e+03\n",
       "mean     1.218672e+07\n",
       "std      1.147224e+07\n",
       "min      1.600000e+06\n",
       "25%      6.400000e+06\n",
       "50%      8.600000e+06\n",
       "75%      1.290000e+07\n",
       "max      9.900000e+07\n",
       "Name: last_price, dtype: float64"
      ]
     },
     "execution_count": 52,
     "metadata": {},
     "output_type": "execute_result"
    }
   ],
   "source": [
    "df_saint_center['last_price'].describe()"
   ]
  },
  {
   "cell_type": "markdown",
   "metadata": {},
   "source": [
    "Смотреть на зависимость конкретной даты размещения объявления о продаже на цену довольно бессмысленно, поскольку выборка по центру небольшая, а разброс цен высокий, будет много аномально высоких значений обесценивающих график. А вот сравнить как средняя цена менялась по годам в центральной части и в целом может быть полезным"
   ]
  },
  {
   "cell_type": "code",
   "execution_count": 53,
   "metadata": {},
   "outputs": [
    {
     "data": {
      "text/plain": [
       "<AxesSubplot:xlabel='exposition_year'>"
      ]
     },
     "execution_count": 53,
     "metadata": {},
     "output_type": "execute_result"
    },
    {
     "data": {
      "image/png": "[encoded data removed]",
      "text/plain": [
       "<Figure size 432x288 with 1 Axes>"
      ]
     },
     "metadata": {
      "needs_background": "light"
     },
     "output_type": "display_data"
    },
    {
     "data": {
      "image/png": "[encoded data removed]",
      "text/plain": [
       "<Figure size 432x288 with 1 Axes>"
      ]
     },
     "metadata": {
      "needs_background": "light"
     },
     "output_type": "display_data"
    }
   ],
   "source": [
    "df_saint_center.pivot_table(index='exposition_year', values='last_price', aggfunc=('median')).plot(style='o-', grid=True)\n",
    "df.pivot_table(index='exposition_year', values='last_price', aggfunc=('median')).plot(style='o-', grid=True)"
   ]
  },
  {
   "cell_type": "markdown",
   "metadata": {},
   "source": [
    "Графики немного отличаются, если в центре цена с 2015 постепенно падала, то цена из общей выборки падала только с 2015 по 2016, и даже выросла с 2018 по 2019. "
   ]
  },
  {
   "cell_type": "markdown",
   "metadata": {},
   "source": [
    "### Вывод:\n",
    "Общие данные:\n",
    "* Средняя квартира 30-60 кв.м.\n",
    "* Средняя цена 3-6 млн.\n",
    "* Больше всего квартир с 1-2 комнатами.\n",
    "* Средняя высота потолков 2.5-2.7 метра.\n",
    "* Большинство продаж за первые 2 месяца, после 2-х месяцев шансы на продажу резко снижаются.\n",
    "* На цену сильнее всего влиет общая площадь и число комнта. Также важную роль играет этаж.\n",
    "* Самая высокая цена за квадратный метр из всей выборки - в Санкт-Петербурге.\n",
    "\n",
    "После сравнения общих данных и данных по центру можно выделить несколько отличий:\n",
    "* Квартиры в центре зачастую больше по площади (40-100 кв.м. против 30-60 кв.м.)\n",
    "* В центре реже встречаются однокомнатные квартиры, но чаще 4-х комнтаные и больше\n",
    "* В центре выше потолки\n",
    "* На цену так же больше всего влияет общая площадь, но совершенно нивелируется влияение фактора отдаленности от центра.\n"
   ]
  },
  {
   "cell_type": "markdown",
   "metadata": {},
   "source": [
    "## Общий вывод"
   ]
  },
  {
   "cell_type": "markdown",
   "metadata": {},
   "source": [
    "После проведения анализа можно выделить несколько факторов, которые оказывают наибольшее влияние на цену:\n",
    "* Общая площадь\n",
    "* Число комнат\n",
    "* Этаж\n",
    "* Регион\n",
    "* Отдаленость от центра (но не для недвижимости, которая в центре)\n"
   ]
  }
 ],
 "metadata": {
  "ExecuteTimeLog": [
   {
    "duration": 575,
    "start_time": "2022-03-11T10:29:02.861Z"
   },
   {
    "duration": 78,
    "start_time": "2022-03-11T10:29:35.963Z"
   },
   {
    "duration": 74,
    "start_time": "2022-03-11T10:29:57.319Z"
   },
   {
    "duration": 90,
    "start_time": "2022-03-11T10:30:06.918Z"
   },
   {
    "duration": 90,
    "start_time": "2022-03-11T10:30:36.071Z"
   },
   {
    "duration": 28,
    "start_time": "2022-03-11T10:30:56.055Z"
   },
   {
    "duration": 11,
    "start_time": "2022-03-11T10:32:32.776Z"
   },
   {
    "duration": 72,
    "start_time": "2022-03-11T10:36:50.142Z"
   },
   {
    "duration": 8,
    "start_time": "2022-03-11T11:09:12.418Z"
   },
   {
    "duration": 5,
    "start_time": "2022-03-11T11:11:48.851Z"
   },
   {
    "duration": 16,
    "start_time": "2022-03-11T11:14:55.439Z"
   },
   {
    "duration": 72,
    "start_time": "2022-03-11T11:27:39.024Z"
   },
   {
    "duration": 75,
    "start_time": "2022-03-11T11:27:48.420Z"
   },
   {
    "duration": 80,
    "start_time": "2022-03-11T11:28:19.712Z"
   },
   {
    "duration": 79,
    "start_time": "2022-03-11T11:28:37.568Z"
   },
   {
    "duration": 8,
    "start_time": "2022-03-11T11:38:00.294Z"
   },
   {
    "duration": 19,
    "start_time": "2022-03-11T11:38:36.818Z"
   },
   {
    "duration": 15,
    "start_time": "2022-03-11T11:39:25.937Z"
   },
   {
    "duration": 660,
    "start_time": "2022-03-11T11:39:48.046Z"
   },
   {
    "duration": 56,
    "start_time": "2022-03-11T11:39:48.708Z"
   },
   {
    "duration": 1248,
    "start_time": "2022-03-11T11:39:47.518Z"
   },
   {
    "duration": 1246,
    "start_time": "2022-03-11T11:39:47.521Z"
   },
   {
    "duration": 1246,
    "start_time": "2022-03-11T11:39:47.522Z"
   },
   {
    "duration": 1246,
    "start_time": "2022-03-11T11:39:47.523Z"
   },
   {
    "duration": 1241,
    "start_time": "2022-03-11T11:39:47.530Z"
   },
   {
    "duration": 1238,
    "start_time": "2022-03-11T11:39:47.534Z"
   },
   {
    "duration": 1238,
    "start_time": "2022-03-11T11:39:47.535Z"
   },
   {
    "duration": 608,
    "start_time": "2022-03-11T11:40:13.515Z"
   },
   {
    "duration": 96,
    "start_time": "2022-03-11T11:40:14.124Z"
   },
   {
    "duration": 84,
    "start_time": "2022-03-11T11:40:14.222Z"
   },
   {
    "duration": 29,
    "start_time": "2022-03-11T11:40:14.307Z"
   },
   {
    "duration": 22,
    "start_time": "2022-03-11T11:40:14.338Z"
   },
   {
    "duration": 7,
    "start_time": "2022-03-11T11:40:14.362Z"
   },
   {
    "duration": 13,
    "start_time": "2022-03-11T11:40:14.371Z"
   },
   {
    "duration": 22,
    "start_time": "2022-03-11T11:40:14.386Z"
   },
   {
    "duration": 19,
    "start_time": "2022-03-11T11:40:14.410Z"
   },
   {
    "duration": 16,
    "start_time": "2022-03-11T11:40:43.826Z"
   },
   {
    "duration": 17,
    "start_time": "2022-03-11T11:40:46.849Z"
   },
   {
    "duration": 15,
    "start_time": "2022-03-11T11:40:48.962Z"
   },
   {
    "duration": 624,
    "start_time": "2022-03-11T11:40:54.388Z"
   },
   {
    "duration": 92,
    "start_time": "2022-03-11T11:40:55.013Z"
   },
   {
    "duration": 82,
    "start_time": "2022-03-11T11:40:55.107Z"
   },
   {
    "duration": 27,
    "start_time": "2022-03-11T11:40:55.191Z"
   },
   {
    "duration": 11,
    "start_time": "2022-03-11T11:40:55.220Z"
   },
   {
    "duration": 28,
    "start_time": "2022-03-11T11:40:55.233Z"
   },
   {
    "duration": 7,
    "start_time": "2022-03-11T11:40:55.263Z"
   },
   {
    "duration": 17,
    "start_time": "2022-03-11T11:40:55.272Z"
   },
   {
    "duration": 19,
    "start_time": "2022-03-11T11:40:55.290Z"
   },
   {
    "duration": 13,
    "start_time": "2022-03-11T11:44:46.225Z"
   },
   {
    "duration": 635,
    "start_time": "2022-03-11T11:45:03.579Z"
   },
   {
    "duration": 99,
    "start_time": "2022-03-11T11:45:04.216Z"
   },
   {
    "duration": 81,
    "start_time": "2022-03-11T11:45:04.317Z"
   },
   {
    "duration": 28,
    "start_time": "2022-03-11T11:45:04.400Z"
   },
   {
    "duration": 11,
    "start_time": "2022-03-11T11:45:04.429Z"
   },
   {
    "duration": 22,
    "start_time": "2022-03-11T11:45:04.442Z"
   },
   {
    "duration": 6,
    "start_time": "2022-03-11T11:45:04.466Z"
   },
   {
    "duration": 19,
    "start_time": "2022-03-11T11:45:04.474Z"
   },
   {
    "duration": 23,
    "start_time": "2022-03-11T11:45:04.496Z"
   },
   {
    "duration": 38,
    "start_time": "2022-03-11T11:45:04.521Z"
   },
   {
    "duration": 6,
    "start_time": "2022-03-11T11:50:10.814Z"
   },
   {
    "duration": 9,
    "start_time": "2022-03-11T11:51:10.302Z"
   },
   {
    "duration": 217,
    "start_time": "2022-03-12T07:31:31.795Z"
   },
   {
    "duration": 589,
    "start_time": "2022-03-12T07:31:36.474Z"
   },
   {
    "duration": 94,
    "start_time": "2022-03-12T07:31:37.065Z"
   },
   {
    "duration": 73,
    "start_time": "2022-03-12T07:31:37.161Z"
   },
   {
    "duration": 24,
    "start_time": "2022-03-12T07:31:37.235Z"
   },
   {
    "duration": 10,
    "start_time": "2022-03-12T07:31:37.261Z"
   },
   {
    "duration": 6,
    "start_time": "2022-03-12T07:31:37.272Z"
   },
   {
    "duration": 8,
    "start_time": "2022-03-12T07:31:37.279Z"
   },
   {
    "duration": 16,
    "start_time": "2022-03-12T07:31:37.288Z"
   },
   {
    "duration": 20,
    "start_time": "2022-03-12T07:31:37.333Z"
   },
   {
    "duration": 10,
    "start_time": "2022-03-12T07:31:37.355Z"
   },
   {
    "duration": 4,
    "start_time": "2022-03-12T07:31:37.367Z"
   },
   {
    "duration": 9,
    "start_time": "2022-03-12T07:31:37.372Z"
   },
   {
    "duration": 10,
    "start_time": "2022-03-12T07:31:37.383Z"
   },
   {
    "duration": 12,
    "start_time": "2022-03-12T07:31:51.542Z"
   },
   {
    "duration": 39,
    "start_time": "2022-03-12T07:31:58.532Z"
   },
   {
    "duration": 3,
    "start_time": "2022-03-12T07:33:25.332Z"
   },
   {
    "duration": 4,
    "start_time": "2022-03-12T07:33:48.711Z"
   },
   {
    "duration": 218,
    "start_time": "2022-03-12T07:36:26.744Z"
   },
   {
    "duration": 436,
    "start_time": "2022-03-12T07:43:15.732Z"
   },
   {
    "duration": 485,
    "start_time": "2022-03-12T07:43:39.139Z"
   },
   {
    "duration": 181,
    "start_time": "2022-03-12T07:51:58.297Z"
   },
   {
    "duration": 190,
    "start_time": "2022-03-12T07:52:06.728Z"
   },
   {
    "duration": 239,
    "start_time": "2022-03-12T07:59:43.881Z"
   },
   {
    "duration": 239,
    "start_time": "2022-03-12T07:59:51.907Z"
   },
   {
    "duration": 187,
    "start_time": "2022-03-12T07:59:58.693Z"
   },
   {
    "duration": 177,
    "start_time": "2022-03-12T08:01:20.915Z"
   },
   {
    "duration": 172,
    "start_time": "2022-03-12T08:03:45.111Z"
   },
   {
    "duration": 201,
    "start_time": "2022-03-12T08:05:17.859Z"
   },
   {
    "duration": 168,
    "start_time": "2022-03-12T08:05:25.491Z"
   },
   {
    "duration": 253,
    "start_time": "2022-03-12T08:05:34.818Z"
   },
   {
    "duration": 188,
    "start_time": "2022-03-12T08:06:17.234Z"
   },
   {
    "duration": 183,
    "start_time": "2022-03-12T08:06:55.762Z"
   },
   {
    "duration": 192,
    "start_time": "2022-03-12T08:07:39.154Z"
   },
   {
    "duration": 157,
    "start_time": "2022-03-12T08:18:32.102Z"
   },
   {
    "duration": 162,
    "start_time": "2022-03-12T08:18:44.950Z"
   },
   {
    "duration": 159,
    "start_time": "2022-03-12T08:18:50.338Z"
   },
   {
    "duration": 186,
    "start_time": "2022-03-12T08:18:54.802Z"
   },
   {
    "duration": 169,
    "start_time": "2022-03-12T08:19:22.850Z"
   },
   {
    "duration": 173,
    "start_time": "2022-03-12T08:20:57.366Z"
   },
   {
    "duration": 173,
    "start_time": "2022-03-12T08:21:15.698Z"
   },
   {
    "duration": 247,
    "start_time": "2022-03-12T08:21:33.089Z"
   },
   {
    "duration": 176,
    "start_time": "2022-03-12T08:23:17.138Z"
   },
   {
    "duration": 64,
    "start_time": "2022-03-12T08:28:18.055Z"
   },
   {
    "duration": 211,
    "start_time": "2022-03-12T08:31:03.741Z"
   },
   {
    "duration": 203,
    "start_time": "2022-03-12T08:31:46.418Z"
   },
   {
    "duration": 213,
    "start_time": "2022-03-12T08:41:00.535Z"
   },
   {
    "duration": 205,
    "start_time": "2022-03-12T08:41:29.250Z"
   },
   {
    "duration": 211,
    "start_time": "2022-03-12T08:41:49.089Z"
   },
   {
    "duration": 197,
    "start_time": "2022-03-12T08:48:10.963Z"
   },
   {
    "duration": 7,
    "start_time": "2022-03-12T08:53:46.914Z"
   },
   {
    "duration": 6,
    "start_time": "2022-03-12T08:53:49.842Z"
   },
   {
    "duration": 11,
    "start_time": "2022-03-12T08:53:55.732Z"
   },
   {
    "duration": 285,
    "start_time": "2022-03-12T09:00:00.994Z"
   },
   {
    "duration": 727,
    "start_time": "2022-03-12T09:00:14.714Z"
   },
   {
    "duration": 102,
    "start_time": "2022-03-12T09:00:15.443Z"
   },
   {
    "duration": 67,
    "start_time": "2022-03-12T09:00:15.547Z"
   },
   {
    "duration": 38,
    "start_time": "2022-03-12T09:00:15.616Z"
   },
   {
    "duration": 10,
    "start_time": "2022-03-12T09:00:15.656Z"
   },
   {
    "duration": 6,
    "start_time": "2022-03-12T09:00:15.668Z"
   },
   {
    "duration": 12,
    "start_time": "2022-03-12T09:00:15.676Z"
   },
   {
    "duration": 19,
    "start_time": "2022-03-12T09:00:15.689Z"
   },
   {
    "duration": 38,
    "start_time": "2022-03-12T09:00:15.711Z"
   },
   {
    "duration": 11,
    "start_time": "2022-03-12T09:00:15.751Z"
   },
   {
    "duration": 5,
    "start_time": "2022-03-12T09:00:15.763Z"
   },
   {
    "duration": 10,
    "start_time": "2022-03-12T09:00:15.770Z"
   },
   {
    "duration": 7,
    "start_time": "2022-03-12T09:00:15.782Z"
   },
   {
    "duration": 258,
    "start_time": "2022-03-12T09:00:15.790Z"
   },
   {
    "duration": 475,
    "start_time": "2022-03-12T09:00:16.050Z"
   },
   {
    "duration": 206,
    "start_time": "2022-03-12T09:00:16.527Z"
   },
   {
    "duration": 243,
    "start_time": "2022-03-12T09:00:16.735Z"
   },
   {
    "duration": 189,
    "start_time": "2022-03-12T09:00:16.980Z"
   },
   {
    "duration": 189,
    "start_time": "2022-03-12T09:00:17.171Z"
   },
   {
    "duration": 235,
    "start_time": "2022-03-12T09:00:17.362Z"
   },
   {
    "duration": 234,
    "start_time": "2022-03-12T09:00:17.599Z"
   },
   {
    "duration": 14,
    "start_time": "2022-03-12T09:00:17.835Z"
   },
   {
    "duration": 9,
    "start_time": "2022-03-12T09:00:17.850Z"
   },
   {
    "duration": 209,
    "start_time": "2022-03-12T09:00:17.861Z"
   },
   {
    "duration": 182,
    "start_time": "2022-03-12T09:07:07.425Z"
   },
   {
    "duration": 192,
    "start_time": "2022-03-12T09:07:30.331Z"
   },
   {
    "duration": 173,
    "start_time": "2022-03-12T09:28:52.939Z"
   },
   {
    "duration": 5,
    "start_time": "2022-03-12T09:30:43.405Z"
   },
   {
    "duration": 4,
    "start_time": "2022-03-12T09:31:13.813Z"
   },
   {
    "duration": 149,
    "start_time": "2022-03-12T09:32:22.859Z"
   },
   {
    "duration": 11,
    "start_time": "2022-03-12T09:40:39.948Z"
   },
   {
    "duration": 22,
    "start_time": "2022-03-12T09:42:09.899Z"
   },
   {
    "duration": 58,
    "start_time": "2022-03-12T09:45:12.273Z"
   },
   {
    "duration": 55,
    "start_time": "2022-03-12T09:45:25.932Z"
   },
   {
    "duration": 22,
    "start_time": "2022-03-12T09:45:41.244Z"
   },
   {
    "duration": 10,
    "start_time": "2022-03-12T09:52:41.202Z"
   },
   {
    "duration": 299,
    "start_time": "2022-03-12T09:53:08.734Z"
   },
   {
    "duration": 293,
    "start_time": "2022-03-12T09:55:48.161Z"
   },
   {
    "duration": 294,
    "start_time": "2022-03-12T09:55:58.829Z"
   },
   {
    "duration": 387,
    "start_time": "2022-03-12T09:56:05.981Z"
   },
   {
    "duration": 171,
    "start_time": "2022-03-12T10:07:02.988Z"
   },
   {
    "duration": 636,
    "start_time": "2022-03-12T10:07:10.910Z"
   },
   {
    "duration": 92,
    "start_time": "2022-03-12T10:07:11.548Z"
   },
   {
    "duration": 61,
    "start_time": "2022-03-12T10:07:11.642Z"
   },
   {
    "duration": 33,
    "start_time": "2022-03-12T10:07:11.705Z"
   },
   {
    "duration": 9,
    "start_time": "2022-03-12T10:07:11.740Z"
   },
   {
    "duration": 6,
    "start_time": "2022-03-12T10:07:11.751Z"
   },
   {
    "duration": 6,
    "start_time": "2022-03-12T10:07:11.759Z"
   },
   {
    "duration": 15,
    "start_time": "2022-03-12T10:07:11.768Z"
   },
   {
    "duration": 51,
    "start_time": "2022-03-12T10:07:11.785Z"
   },
   {
    "duration": 12,
    "start_time": "2022-03-12T10:07:11.837Z"
   },
   {
    "duration": 4,
    "start_time": "2022-03-12T10:07:11.850Z"
   },
   {
    "duration": 11,
    "start_time": "2022-03-12T10:07:11.855Z"
   },
   {
    "duration": 7,
    "start_time": "2022-03-12T10:07:11.868Z"
   },
   {
    "duration": 233,
    "start_time": "2022-03-12T10:07:11.877Z"
   },
   {
    "duration": 467,
    "start_time": "2022-03-12T10:07:12.112Z"
   },
   {
    "duration": 202,
    "start_time": "2022-03-12T10:07:12.580Z"
   },
   {
    "duration": 265,
    "start_time": "2022-03-12T10:07:12.784Z"
   },
   {
    "duration": 182,
    "start_time": "2022-03-12T10:07:13.051Z"
   },
   {
    "duration": 169,
    "start_time": "2022-03-12T10:07:13.234Z"
   },
   {
    "duration": 259,
    "start_time": "2022-03-12T10:07:13.404Z"
   },
   {
    "duration": 244,
    "start_time": "2022-03-12T10:07:13.664Z"
   },
   {
    "duration": 13,
    "start_time": "2022-03-12T10:07:13.910Z"
   },
   {
    "duration": 12,
    "start_time": "2022-03-12T10:07:13.926Z"
   },
   {
    "duration": 202,
    "start_time": "2022-03-12T10:07:13.940Z"
   },
   {
    "duration": 192,
    "start_time": "2022-03-12T10:07:14.144Z"
   },
   {
    "duration": 188,
    "start_time": "2022-03-12T10:07:14.338Z"
   },
   {
    "duration": 10,
    "start_time": "2022-03-12T10:07:14.527Z"
   },
   {
    "duration": 4,
    "start_time": "2022-03-12T10:07:14.538Z"
   },
   {
    "duration": 176,
    "start_time": "2022-03-12T10:07:14.544Z"
   },
   {
    "duration": 13,
    "start_time": "2022-03-12T10:07:14.721Z"
   },
   {
    "duration": 21,
    "start_time": "2022-03-12T10:07:14.735Z"
   },
   {
    "duration": 11,
    "start_time": "2022-03-12T10:07:14.758Z"
   },
   {
    "duration": 318,
    "start_time": "2022-03-12T10:07:14.771Z"
   },
   {
    "duration": 7,
    "start_time": "2022-03-12T10:07:15.092Z"
   },
   {
    "duration": 440,
    "start_time": "2022-03-12T10:07:15.101Z"
   },
   {
    "duration": 366,
    "start_time": "2022-03-12T10:09:09.173Z"
   },
   {
    "duration": 385,
    "start_time": "2022-03-12T10:09:12.934Z"
   },
   {
    "duration": 383,
    "start_time": "2022-03-12T10:09:58.981Z"
   },
   {
    "duration": 396,
    "start_time": "2022-03-12T10:13:06.038Z"
   },
   {
    "duration": 510,
    "start_time": "2022-03-12T10:18:33.241Z"
   },
   {
    "duration": 389,
    "start_time": "2022-03-12T10:20:35.591Z"
   },
   {
    "duration": 9,
    "start_time": "2022-03-12T10:25:14.786Z"
   },
   {
    "duration": 12,
    "start_time": "2022-03-12T10:25:17.833Z"
   },
   {
    "duration": 9,
    "start_time": "2022-03-12T10:25:26.761Z"
   },
   {
    "duration": 232,
    "start_time": "2022-03-12T10:28:38.138Z"
   },
   {
    "duration": 639,
    "start_time": "2022-03-12T10:28:45.414Z"
   },
   {
    "duration": 90,
    "start_time": "2022-03-12T10:28:46.055Z"
   },
   {
    "duration": 66,
    "start_time": "2022-03-12T10:28:46.147Z"
   },
   {
    "duration": 36,
    "start_time": "2022-03-12T10:28:46.214Z"
   },
   {
    "duration": 10,
    "start_time": "2022-03-12T10:28:46.252Z"
   },
   {
    "duration": 7,
    "start_time": "2022-03-12T10:28:46.263Z"
   },
   {
    "duration": 9,
    "start_time": "2022-03-12T10:28:46.271Z"
   },
   {
    "duration": 18,
    "start_time": "2022-03-12T10:28:46.282Z"
   },
   {
    "duration": 41,
    "start_time": "2022-03-12T10:28:46.303Z"
   },
   {
    "duration": 10,
    "start_time": "2022-03-12T10:28:46.346Z"
   },
   {
    "duration": 5,
    "start_time": "2022-03-12T10:28:46.358Z"
   },
   {
    "duration": 14,
    "start_time": "2022-03-12T10:28:46.364Z"
   },
   {
    "duration": 9,
    "start_time": "2022-03-12T10:28:46.379Z"
   },
   {
    "duration": 224,
    "start_time": "2022-03-12T10:28:46.390Z"
   },
   {
    "duration": 467,
    "start_time": "2022-03-12T10:28:46.616Z"
   },
   {
    "duration": 207,
    "start_time": "2022-03-12T10:28:47.085Z"
   },
   {
    "duration": 251,
    "start_time": "2022-03-12T10:28:47.293Z"
   },
   {
    "duration": 208,
    "start_time": "2022-03-12T10:28:47.545Z"
   },
   {
    "duration": 186,
    "start_time": "2022-03-12T10:28:47.754Z"
   },
   {
    "duration": 231,
    "start_time": "2022-03-12T10:28:47.942Z"
   },
   {
    "duration": 215,
    "start_time": "2022-03-12T10:28:48.174Z"
   },
   {
    "duration": 15,
    "start_time": "2022-03-12T10:28:48.390Z"
   },
   {
    "duration": 9,
    "start_time": "2022-03-12T10:28:48.407Z"
   },
   {
    "duration": 211,
    "start_time": "2022-03-12T10:28:48.417Z"
   },
   {
    "duration": 192,
    "start_time": "2022-03-12T10:28:48.630Z"
   },
   {
    "duration": 191,
    "start_time": "2022-03-12T10:28:48.824Z"
   },
   {
    "duration": 16,
    "start_time": "2022-03-12T10:28:49.018Z"
   },
   {
    "duration": 6,
    "start_time": "2022-03-12T10:28:49.035Z"
   },
   {
    "duration": 178,
    "start_time": "2022-03-12T10:28:49.042Z"
   },
   {
    "duration": 13,
    "start_time": "2022-03-12T10:28:49.222Z"
   },
   {
    "duration": 24,
    "start_time": "2022-03-12T10:28:49.237Z"
   },
   {
    "duration": 11,
    "start_time": "2022-03-12T10:28:49.263Z"
   },
   {
    "duration": 322,
    "start_time": "2022-03-12T10:28:49.276Z"
   },
   {
    "duration": 7,
    "start_time": "2022-03-12T10:28:49.599Z"
   },
   {
    "duration": 453,
    "start_time": "2022-03-12T10:28:49.608Z"
   },
   {
    "duration": 392,
    "start_time": "2022-03-12T10:28:50.063Z"
   },
   {
    "duration": 395,
    "start_time": "2022-03-12T10:28:50.457Z"
   },
   {
    "duration": 413,
    "start_time": "2022-03-12T10:28:50.854Z"
   },
   {
    "duration": 10,
    "start_time": "2022-03-12T10:28:51.268Z"
   },
   {
    "duration": 10,
    "start_time": "2022-03-12T10:28:51.280Z"
   },
   {
    "duration": 251,
    "start_time": "2022-03-12T10:28:51.291Z"
   },
   {
    "duration": 348,
    "start_time": "2022-03-12T10:29:11.162Z"
   },
   {
    "duration": 185,
    "start_time": "2022-03-12T10:33:32.134Z"
   },
   {
    "duration": 205,
    "start_time": "2022-03-12T10:33:37.602Z"
   },
   {
    "duration": 9,
    "start_time": "2022-03-12T10:33:51.217Z"
   },
   {
    "duration": 87,
    "start_time": "2022-03-12T10:33:59.760Z"
   },
   {
    "duration": 17,
    "start_time": "2022-03-12T10:34:02.495Z"
   },
   {
    "duration": 13,
    "start_time": "2022-03-12T10:34:09.904Z"
   },
   {
    "duration": 8,
    "start_time": "2022-03-12T10:34:17.602Z"
   },
   {
    "duration": 73,
    "start_time": "2022-03-21T08:22:03.446Z"
   },
   {
    "duration": 9,
    "start_time": "2022-03-21T08:22:08.612Z"
   },
   {
    "duration": 1279,
    "start_time": "2022-03-21T08:22:14.428Z"
   },
   {
    "duration": 260,
    "start_time": "2022-03-21T08:22:15.711Z"
   },
   {
    "duration": 181,
    "start_time": "2022-03-21T08:22:15.974Z"
   },
   {
    "duration": 53,
    "start_time": "2022-03-21T08:22:16.159Z"
   },
   {
    "duration": 48,
    "start_time": "2022-03-21T08:22:16.215Z"
   },
   {
    "duration": 11,
    "start_time": "2022-03-21T08:22:16.267Z"
   },
   {
    "duration": 8,
    "start_time": "2022-03-21T08:22:16.280Z"
   },
   {
    "duration": 71,
    "start_time": "2022-03-21T08:22:16.290Z"
   },
   {
    "duration": 28,
    "start_time": "2022-03-21T08:22:16.364Z"
   },
   {
    "duration": 55,
    "start_time": "2022-03-21T08:22:16.396Z"
   },
   {
    "duration": 6,
    "start_time": "2022-03-21T08:22:16.453Z"
   },
   {
    "duration": 13,
    "start_time": "2022-03-21T08:22:16.461Z"
   },
   {
    "duration": 9,
    "start_time": "2022-03-21T08:22:16.476Z"
   },
   {
    "duration": 388,
    "start_time": "2022-03-21T08:22:16.487Z"
   },
   {
    "duration": 522,
    "start_time": "2022-03-21T08:22:16.877Z"
   },
   {
    "duration": 293,
    "start_time": "2022-03-21T08:22:17.401Z"
   },
   {
    "duration": 300,
    "start_time": "2022-03-21T08:22:17.697Z"
   },
   {
    "duration": 190,
    "start_time": "2022-03-21T08:22:17.999Z"
   },
   {
    "duration": 254,
    "start_time": "2022-03-21T08:22:18.191Z"
   },
   {
    "duration": 250,
    "start_time": "2022-03-21T08:22:18.447Z"
   },
   {
    "duration": 291,
    "start_time": "2022-03-21T08:22:18.699Z"
   },
   {
    "duration": 277,
    "start_time": "2022-03-21T08:22:18.993Z"
   },
   {
    "duration": 19,
    "start_time": "2022-03-21T08:22:19.273Z"
   },
   {
    "duration": 12,
    "start_time": "2022-03-21T08:22:19.294Z"
   },
   {
    "duration": 287,
    "start_time": "2022-03-21T08:22:19.308Z"
   },
   {
    "duration": 263,
    "start_time": "2022-03-21T08:22:19.597Z"
   },
   {
    "duration": 249,
    "start_time": "2022-03-21T08:22:19.862Z"
   },
   {
    "duration": 7,
    "start_time": "2022-03-21T08:22:20.117Z"
   },
   {
    "duration": 21,
    "start_time": "2022-03-21T08:22:20.126Z"
   },
   {
    "duration": 241,
    "start_time": "2022-03-21T08:22:20.150Z"
   },
   {
    "duration": 11,
    "start_time": "2022-03-21T08:22:20.393Z"
   },
   {
    "duration": 68,
    "start_time": "2022-03-21T08:22:20.406Z"
   },
   {
    "duration": 21,
    "start_time": "2022-03-21T08:22:20.476Z"
   },
   {
    "duration": 531,
    "start_time": "2022-03-21T08:22:20.499Z"
   },
   {
    "duration": 17,
    "start_time": "2022-03-21T08:22:21.032Z"
   },
   {
    "duration": 511,
    "start_time": "2022-03-21T08:22:21.052Z"
   },
   {
    "duration": 524,
    "start_time": "2022-03-21T08:22:21.566Z"
   },
   {
    "duration": 560,
    "start_time": "2022-03-21T08:22:22.093Z"
   },
   {
    "duration": 504,
    "start_time": "2022-03-21T08:22:22.656Z"
   },
   {
    "duration": 18,
    "start_time": "2022-03-21T08:22:23.162Z"
   },
   {
    "duration": 12,
    "start_time": "2022-03-21T08:22:23.182Z"
   },
   {
    "duration": 492,
    "start_time": "2022-03-21T08:22:23.196Z"
   },
   {
    "duration": 206,
    "start_time": "2022-03-21T08:23:58.204Z"
   },
   {
    "duration": 177,
    "start_time": "2022-03-21T08:25:21.709Z"
   },
   {
    "duration": 280,
    "start_time": "2022-03-21T08:26:18.882Z"
   },
   {
    "duration": 191,
    "start_time": "2022-03-21T08:26:28.588Z"
   },
   {
    "duration": 16,
    "start_time": "2022-03-21T08:30:41.469Z"
   },
   {
    "duration": 64,
    "start_time": "2022-03-21T08:30:45.692Z"
   },
   {
    "duration": 183,
    "start_time": "2022-03-21T08:34:13.085Z"
   },
   {
    "duration": 166,
    "start_time": "2022-03-21T08:34:20.605Z"
   },
   {
    "duration": 217,
    "start_time": "2022-03-21T08:35:39.389Z"
   },
   {
    "duration": 173,
    "start_time": "2022-03-21T08:35:47.308Z"
   },
   {
    "duration": 171,
    "start_time": "2022-03-21T08:35:52.460Z"
   },
   {
    "duration": 186,
    "start_time": "2022-03-21T08:36:01.597Z"
   },
   {
    "duration": 172,
    "start_time": "2022-03-21T08:36:12.796Z"
   },
   {
    "duration": 193,
    "start_time": "2022-03-21T08:36:16.316Z"
   },
   {
    "duration": 197,
    "start_time": "2022-03-21T08:37:27.197Z"
   },
   {
    "duration": 189,
    "start_time": "2022-03-21T08:37:44.620Z"
   },
   {
    "duration": 198,
    "start_time": "2022-03-21T08:37:47.756Z"
   },
   {
    "duration": 194,
    "start_time": "2022-03-21T08:37:51.052Z"
   },
   {
    "duration": 252,
    "start_time": "2022-03-21T08:37:53.948Z"
   },
   {
    "duration": 203,
    "start_time": "2022-03-21T08:37:56.460Z"
   },
   {
    "duration": 326,
    "start_time": "2022-03-21T08:38:00.172Z"
   },
   {
    "duration": 11,
    "start_time": "2022-03-21T08:48:54.493Z"
   },
   {
    "duration": 150,
    "start_time": "2022-03-21T08:50:28.670Z"
   },
   {
    "duration": 151,
    "start_time": "2022-03-21T08:51:50.190Z"
   },
   {
    "duration": 155,
    "start_time": "2022-03-21T08:51:59.997Z"
   },
   {
    "duration": 958,
    "start_time": "2022-03-21T08:52:05.292Z"
   },
   {
    "duration": 252,
    "start_time": "2022-03-21T08:52:06.253Z"
   },
   {
    "duration": 143,
    "start_time": "2022-03-21T08:52:06.508Z"
   },
   {
    "duration": 40,
    "start_time": "2022-03-21T08:52:06.655Z"
   },
   {
    "duration": 47,
    "start_time": "2022-03-21T08:52:06.697Z"
   },
   {
    "duration": 10,
    "start_time": "2022-03-21T08:52:06.747Z"
   },
   {
    "duration": 10,
    "start_time": "2022-03-21T08:52:06.760Z"
   },
   {
    "duration": 71,
    "start_time": "2022-03-21T08:52:06.773Z"
   },
   {
    "duration": 31,
    "start_time": "2022-03-21T08:52:06.846Z"
   },
   {
    "duration": 23,
    "start_time": "2022-03-21T08:52:06.883Z"
   },
   {
    "duration": 39,
    "start_time": "2022-03-21T08:52:06.908Z"
   },
   {
    "duration": 16,
    "start_time": "2022-03-21T08:52:06.950Z"
   },
   {
    "duration": 10,
    "start_time": "2022-03-21T08:52:06.969Z"
   },
   {
    "duration": 426,
    "start_time": "2022-03-21T08:52:06.981Z"
   },
   {
    "duration": 852,
    "start_time": "2022-03-21T08:52:07.409Z"
   },
   {
    "duration": 347,
    "start_time": "2022-03-21T08:52:08.263Z"
   },
   {
    "duration": 256,
    "start_time": "2022-03-21T08:52:08.612Z"
   },
   {
    "duration": 19,
    "start_time": "2022-03-21T08:52:08.870Z"
   },
   {
    "duration": 357,
    "start_time": "2022-03-21T08:52:08.892Z"
   },
   {
    "duration": 243,
    "start_time": "2022-03-21T08:52:09.251Z"
   },
   {
    "duration": 12,
    "start_time": "2022-03-21T08:52:09.497Z"
   },
   {
    "duration": 258,
    "start_time": "2022-03-21T08:52:09.511Z"
   },
   {
    "duration": 183,
    "start_time": "2022-03-21T08:52:09.771Z"
   },
   {
    "duration": 249,
    "start_time": "2022-03-21T08:52:09.956Z"
   },
   {
    "duration": 447,
    "start_time": "2022-03-21T08:52:10.208Z"
   },
   {
    "duration": 405,
    "start_time": "2022-03-21T08:52:10.658Z"
   },
   {
    "duration": 20,
    "start_time": "2022-03-21T08:52:11.066Z"
   },
   {
    "duration": 10,
    "start_time": "2022-03-21T08:52:11.096Z"
   },
   {
    "duration": 272,
    "start_time": "2022-03-21T08:52:11.144Z"
   },
   {
    "duration": 275,
    "start_time": "2022-03-21T08:52:11.418Z"
   },
   {
    "duration": 276,
    "start_time": "2022-03-21T08:52:11.696Z"
   },
   {
    "duration": 10,
    "start_time": "2022-03-21T08:52:11.975Z"
   },
   {
    "duration": 14,
    "start_time": "2022-03-21T08:52:11.988Z"
   },
   {
    "duration": 374,
    "start_time": "2022-03-21T08:52:12.004Z"
   },
   {
    "duration": 9,
    "start_time": "2022-03-21T08:52:12.380Z"
   },
   {
    "duration": 60,
    "start_time": "2022-03-21T08:52:12.391Z"
   },
   {
    "duration": 13,
    "start_time": "2022-03-21T08:52:12.454Z"
   },
   {
    "duration": 430,
    "start_time": "2022-03-21T08:52:12.470Z"
   },
   {
    "duration": 13,
    "start_time": "2022-03-21T08:52:12.903Z"
   },
   {
    "duration": 525,
    "start_time": "2022-03-21T08:52:12.918Z"
   },
   {
    "duration": 544,
    "start_time": "2022-03-21T08:52:13.445Z"
   },
   {
    "duration": 544,
    "start_time": "2022-03-21T08:52:13.991Z"
   },
   {
    "duration": 555,
    "start_time": "2022-03-21T08:52:14.537Z"
   },
   {
    "duration": 18,
    "start_time": "2022-03-21T08:52:15.095Z"
   },
   {
    "duration": 38,
    "start_time": "2022-03-21T08:52:15.117Z"
   },
   {
    "duration": 524,
    "start_time": "2022-03-21T08:52:15.158Z"
   },
   {
    "duration": 255,
    "start_time": "2022-03-21T09:07:50.309Z"
   },
   {
    "duration": 9,
    "start_time": "2022-03-21T09:09:43.175Z"
   },
   {
    "duration": 263,
    "start_time": "2022-03-21T09:12:59.573Z"
   },
   {
    "duration": 176,
    "start_time": "2022-03-21T09:13:30.599Z"
   },
   {
    "duration": 11,
    "start_time": "2022-03-21T09:15:16.743Z"
   },
   {
    "duration": 254,
    "start_time": "2022-03-21T09:15:23.333Z"
   },
   {
    "duration": 898,
    "start_time": "2022-03-21T09:16:04.158Z"
   },
   {
    "duration": 185,
    "start_time": "2022-03-21T09:16:05.059Z"
   },
   {
    "duration": 118,
    "start_time": "2022-03-21T09:16:05.246Z"
   },
   {
    "duration": 37,
    "start_time": "2022-03-21T09:16:05.367Z"
   },
   {
    "duration": 40,
    "start_time": "2022-03-21T09:16:05.406Z"
   },
   {
    "duration": 10,
    "start_time": "2022-03-21T09:16:05.448Z"
   },
   {
    "duration": 25,
    "start_time": "2022-03-21T09:16:05.460Z"
   },
   {
    "duration": 40,
    "start_time": "2022-03-21T09:16:05.487Z"
   },
   {
    "duration": 39,
    "start_time": "2022-03-21T09:16:05.530Z"
   },
   {
    "duration": 24,
    "start_time": "2022-03-21T09:16:05.573Z"
   },
   {
    "duration": 45,
    "start_time": "2022-03-21T09:16:05.599Z"
   },
   {
    "duration": 26,
    "start_time": "2022-03-21T09:16:05.647Z"
   },
   {
    "duration": 14,
    "start_time": "2022-03-21T09:16:05.676Z"
   },
   {
    "duration": 493,
    "start_time": "2022-03-21T09:16:05.693Z"
   },
   {
    "duration": 519,
    "start_time": "2022-03-21T09:16:06.189Z"
   },
   {
    "duration": 302,
    "start_time": "2022-03-21T09:16:06.711Z"
   },
   {
    "duration": 364,
    "start_time": "2022-03-21T09:16:07.016Z"
   },
   {
    "duration": 20,
    "start_time": "2022-03-21T09:16:07.384Z"
   },
   {
    "duration": 320,
    "start_time": "2022-03-21T09:16:07.407Z"
   },
   {
    "duration": 227,
    "start_time": "2022-03-21T09:16:07.730Z"
   },
   {
    "duration": 14,
    "start_time": "2022-03-21T09:16:07.960Z"
   },
   {
    "duration": 263,
    "start_time": "2022-03-21T09:16:07.976Z"
   },
   {
    "duration": 172,
    "start_time": "2022-03-21T09:16:08.241Z"
   },
   {
    "duration": 11,
    "start_time": "2022-03-21T09:16:08.415Z"
   },
   {
    "duration": 238,
    "start_time": "2022-03-21T09:16:08.442Z"
   },
   {
    "duration": 188,
    "start_time": "2022-03-21T09:16:08.683Z"
   },
   {
    "duration": 17,
    "start_time": "2022-03-21T09:16:08.874Z"
   },
   {
    "duration": 327,
    "start_time": "2022-03-21T09:16:08.900Z"
   },
   {
    "duration": 203,
    "start_time": "2022-03-21T09:16:09.230Z"
   },
   {
    "duration": 9,
    "start_time": "2022-03-21T09:16:09.435Z"
   },
   {
    "duration": 309,
    "start_time": "2022-03-21T09:16:09.446Z"
   },
   {
    "duration": 15,
    "start_time": "2022-03-21T09:16:09.757Z"
   },
   {
    "duration": 9,
    "start_time": "2022-03-21T09:16:09.774Z"
   },
   {
    "duration": 298,
    "start_time": "2022-03-21T09:16:09.785Z"
   },
   {
    "duration": 347,
    "start_time": "2022-03-21T09:16:10.087Z"
   },
   {
    "duration": 279,
    "start_time": "2022-03-21T09:16:10.437Z"
   },
   {
    "duration": 25,
    "start_time": "2022-03-21T09:16:10.718Z"
   },
   {
    "duration": 8,
    "start_time": "2022-03-21T09:16:10.745Z"
   },
   {
    "duration": 277,
    "start_time": "2022-03-21T09:16:10.755Z"
   },
   {
    "duration": 12,
    "start_time": "2022-03-21T09:16:11.034Z"
   },
   {
    "duration": 31,
    "start_time": "2022-03-21T09:16:11.048Z"
   },
   {
    "duration": 15,
    "start_time": "2022-03-21T09:16:11.081Z"
   },
   {
    "duration": 465,
    "start_time": "2022-03-21T09:16:11.098Z"
   },
   {
    "duration": 11,
    "start_time": "2022-03-21T09:16:11.566Z"
   },
   {
    "duration": 755,
    "start_time": "2022-03-21T09:16:11.581Z"
   },
   {
    "duration": 552,
    "start_time": "2022-03-21T09:16:12.339Z"
   },
   {
    "duration": 715,
    "start_time": "2022-03-21T09:16:12.893Z"
   },
   {
    "duration": 750,
    "start_time": "2022-03-21T09:16:13.611Z"
   },
   {
    "duration": 24,
    "start_time": "2022-03-21T09:16:14.364Z"
   },
   {
    "duration": 26,
    "start_time": "2022-03-21T09:16:14.390Z"
   },
   {
    "duration": 486,
    "start_time": "2022-03-21T09:16:14.419Z"
   },
   {
    "duration": 268,
    "start_time": "2022-03-21T09:17:46.958Z"
   },
   {
    "duration": 268,
    "start_time": "2022-03-21T09:17:50.603Z"
   },
   {
    "duration": 943,
    "start_time": "2022-03-21T09:20:42.978Z"
   },
   {
    "duration": 168,
    "start_time": "2022-03-21T09:20:43.924Z"
   },
   {
    "duration": 120,
    "start_time": "2022-03-21T09:20:44.094Z"
   },
   {
    "duration": 48,
    "start_time": "2022-03-21T09:20:44.216Z"
   },
   {
    "duration": 15,
    "start_time": "2022-03-21T09:20:44.266Z"
   },
   {
    "duration": 9,
    "start_time": "2022-03-21T09:20:44.283Z"
   },
   {
    "duration": 10,
    "start_time": "2022-03-21T09:20:44.294Z"
   },
   {
    "duration": 67,
    "start_time": "2022-03-21T09:20:44.306Z"
   },
   {
    "duration": 28,
    "start_time": "2022-03-21T09:20:44.376Z"
   },
   {
    "duration": 56,
    "start_time": "2022-03-21T09:20:44.409Z"
   },
   {
    "duration": 5,
    "start_time": "2022-03-21T09:20:44.467Z"
   },
   {
    "duration": 12,
    "start_time": "2022-03-21T09:20:44.474Z"
   },
   {
    "duration": 8,
    "start_time": "2022-03-21T09:20:44.488Z"
   },
   {
    "duration": 395,
    "start_time": "2022-03-21T09:20:44.498Z"
   },
   {
    "duration": 517,
    "start_time": "2022-03-21T09:20:44.896Z"
   },
   {
    "duration": 283,
    "start_time": "2022-03-21T09:20:45.416Z"
   },
   {
    "duration": 236,
    "start_time": "2022-03-21T09:20:45.701Z"
   },
   {
    "duration": 3,
    "start_time": "2022-03-21T09:20:45.943Z"
   },
   {
    "duration": 287,
    "start_time": "2022-03-21T09:20:45.948Z"
   },
   {
    "duration": 219,
    "start_time": "2022-03-21T09:20:46.238Z"
   },
   {
    "duration": 4,
    "start_time": "2022-03-21T09:20:46.459Z"
   },
   {
    "duration": 246,
    "start_time": "2022-03-21T09:20:46.465Z"
   },
   {
    "duration": 192,
    "start_time": "2022-03-21T09:20:46.713Z"
   },
   {
    "duration": 3,
    "start_time": "2022-03-21T09:20:46.907Z"
   },
   {
    "duration": 248,
    "start_time": "2022-03-21T09:20:46.912Z"
   },
   {
    "duration": 192,
    "start_time": "2022-03-21T09:20:47.163Z"
   },
   {
    "duration": 4,
    "start_time": "2022-03-21T09:20:47.357Z"
   },
   {
    "duration": 313,
    "start_time": "2022-03-21T09:20:47.366Z"
   },
   {
    "duration": 229,
    "start_time": "2022-03-21T09:20:47.681Z"
   },
   {
    "duration": 3,
    "start_time": "2022-03-21T09:20:47.913Z"
   },
   {
    "duration": 310,
    "start_time": "2022-03-21T09:20:47.920Z"
   },
   {
    "duration": 36,
    "start_time": "2022-03-21T09:20:48.233Z"
   },
   {
    "duration": 16,
    "start_time": "2022-03-21T09:20:48.272Z"
   },
   {
    "duration": 455,
    "start_time": "2022-03-21T09:20:48.291Z"
   },
   {
    "duration": 409,
    "start_time": "2022-03-21T09:20:48.749Z"
   },
   {
    "duration": 276,
    "start_time": "2022-03-21T09:20:49.160Z"
   },
   {
    "duration": 9,
    "start_time": "2022-03-21T09:20:49.439Z"
   },
   {
    "duration": 12,
    "start_time": "2022-03-21T09:20:49.450Z"
   },
   {
    "duration": 295,
    "start_time": "2022-03-21T09:20:49.465Z"
   },
   {
    "duration": 11,
    "start_time": "2022-03-21T09:20:49.763Z"
   },
   {
    "duration": 34,
    "start_time": "2022-03-21T09:20:49.776Z"
   },
   {
    "duration": 45,
    "start_time": "2022-03-21T09:20:49.812Z"
   },
   {
    "duration": 516,
    "start_time": "2022-03-21T09:20:49.859Z"
   },
   {
    "duration": 15,
    "start_time": "2022-03-21T09:20:50.377Z"
   },
   {
    "duration": 713,
    "start_time": "2022-03-21T09:20:50.395Z"
   },
   {
    "duration": 679,
    "start_time": "2022-03-21T09:20:51.111Z"
   },
   {
    "duration": 564,
    "start_time": "2022-03-21T09:20:51.792Z"
   },
   {
    "duration": 653,
    "start_time": "2022-03-21T09:20:52.358Z"
   },
   {
    "duration": 33,
    "start_time": "2022-03-21T09:20:53.014Z"
   },
   {
    "duration": 18,
    "start_time": "2022-03-21T09:20:53.049Z"
   },
   {
    "duration": 546,
    "start_time": "2022-03-21T09:20:53.070Z"
   },
   {
    "duration": 9,
    "start_time": "2022-03-21T09:22:47.685Z"
   },
   {
    "duration": 240,
    "start_time": "2022-03-21T09:22:50.037Z"
   },
   {
    "duration": 9,
    "start_time": "2022-03-21T09:23:07.604Z"
   },
   {
    "duration": 869,
    "start_time": "2022-03-21T09:23:12.549Z"
   },
   {
    "duration": 172,
    "start_time": "2022-03-21T09:23:13.421Z"
   },
   {
    "duration": 115,
    "start_time": "2022-03-21T09:23:13.595Z"
   },
   {
    "duration": 52,
    "start_time": "2022-03-21T09:23:13.712Z"
   },
   {
    "duration": 15,
    "start_time": "2022-03-21T09:23:13.766Z"
   },
   {
    "duration": 8,
    "start_time": "2022-03-21T09:23:13.783Z"
   },
   {
    "duration": 11,
    "start_time": "2022-03-21T09:23:13.793Z"
   },
   {
    "duration": 57,
    "start_time": "2022-03-21T09:23:13.806Z"
   },
   {
    "duration": 29,
    "start_time": "2022-03-21T09:23:13.865Z"
   },
   {
    "duration": 58,
    "start_time": "2022-03-21T09:23:13.898Z"
   },
   {
    "duration": 5,
    "start_time": "2022-03-21T09:23:13.958Z"
   },
   {
    "duration": 14,
    "start_time": "2022-03-21T09:23:13.965Z"
   },
   {
    "duration": 8,
    "start_time": "2022-03-21T09:23:13.981Z"
   },
   {
    "duration": 383,
    "start_time": "2022-03-21T09:23:13.991Z"
   },
   {
    "duration": 500,
    "start_time": "2022-03-21T09:23:14.377Z"
   },
   {
    "duration": 281,
    "start_time": "2022-03-21T09:23:14.879Z"
   },
   {
    "duration": 242,
    "start_time": "2022-03-21T09:23:15.162Z"
   },
   {
    "duration": 3,
    "start_time": "2022-03-21T09:23:15.406Z"
   },
   {
    "duration": 281,
    "start_time": "2022-03-21T09:23:15.411Z"
   },
   {
    "duration": 221,
    "start_time": "2022-03-21T09:23:15.694Z"
   },
   {
    "duration": 3,
    "start_time": "2022-03-21T09:23:15.917Z"
   },
   {
    "duration": 250,
    "start_time": "2022-03-21T09:23:15.922Z"
   },
   {
    "duration": 189,
    "start_time": "2022-03-21T09:23:16.175Z"
   },
   {
    "duration": 3,
    "start_time": "2022-03-21T09:23:16.366Z"
   },
   {
    "duration": 253,
    "start_time": "2022-03-21T09:23:16.371Z"
   },
   {
    "duration": 190,
    "start_time": "2022-03-21T09:23:16.626Z"
   },
   {
    "duration": 4,
    "start_time": "2022-03-21T09:23:16.818Z"
   },
   {
    "duration": 319,
    "start_time": "2022-03-21T09:23:16.829Z"
   },
   {
    "duration": 217,
    "start_time": "2022-03-21T09:23:17.151Z"
   },
   {
    "duration": 13,
    "start_time": "2022-03-21T09:23:17.370Z"
   },
   {
    "duration": 272,
    "start_time": "2022-03-21T09:23:17.385Z"
   },
   {
    "duration": 14,
    "start_time": "2022-03-21T09:23:17.659Z"
   },
   {
    "duration": 8,
    "start_time": "2022-03-21T09:23:17.675Z"
   },
   {
    "duration": 160,
    "start_time": "2022-03-21T09:23:17.685Z"
   },
   {
    "duration": 0,
    "start_time": "2022-03-21T09:23:17.847Z"
   },
   {
    "duration": 0,
    "start_time": "2022-03-21T09:23:17.848Z"
   },
   {
    "duration": 0,
    "start_time": "2022-03-21T09:23:17.850Z"
   },
   {
    "duration": 0,
    "start_time": "2022-03-21T09:23:17.851Z"
   },
   {
    "duration": 0,
    "start_time": "2022-03-21T09:23:17.852Z"
   },
   {
    "duration": 0,
    "start_time": "2022-03-21T09:23:17.854Z"
   },
   {
    "duration": 0,
    "start_time": "2022-03-21T09:23:17.855Z"
   },
   {
    "duration": 0,
    "start_time": "2022-03-21T09:23:17.857Z"
   },
   {
    "duration": 0,
    "start_time": "2022-03-21T09:23:17.858Z"
   },
   {
    "duration": 0,
    "start_time": "2022-03-21T09:23:17.860Z"
   },
   {
    "duration": 0,
    "start_time": "2022-03-21T09:23:17.861Z"
   },
   {
    "duration": 0,
    "start_time": "2022-03-21T09:23:17.863Z"
   },
   {
    "duration": 0,
    "start_time": "2022-03-21T09:23:17.864Z"
   },
   {
    "duration": 0,
    "start_time": "2022-03-21T09:23:17.866Z"
   },
   {
    "duration": 0,
    "start_time": "2022-03-21T09:23:17.867Z"
   },
   {
    "duration": 0,
    "start_time": "2022-03-21T09:23:17.869Z"
   },
   {
    "duration": 0,
    "start_time": "2022-03-21T09:23:17.870Z"
   },
   {
    "duration": 918,
    "start_time": "2022-03-21T09:23:49.351Z"
   },
   {
    "duration": 178,
    "start_time": "2022-03-21T09:23:50.272Z"
   },
   {
    "duration": 111,
    "start_time": "2022-03-21T09:23:50.452Z"
   },
   {
    "duration": 34,
    "start_time": "2022-03-21T09:23:50.566Z"
   },
   {
    "duration": 41,
    "start_time": "2022-03-21T09:23:50.603Z"
   },
   {
    "duration": 9,
    "start_time": "2022-03-21T09:23:50.647Z"
   },
   {
    "duration": 8,
    "start_time": "2022-03-21T09:23:50.658Z"
   },
   {
    "duration": 75,
    "start_time": "2022-03-21T09:23:50.669Z"
   },
   {
    "duration": 32,
    "start_time": "2022-03-21T09:23:50.747Z"
   },
   {
    "duration": 24,
    "start_time": "2022-03-21T09:23:50.785Z"
   },
   {
    "duration": 5,
    "start_time": "2022-03-21T09:23:50.844Z"
   },
   {
    "duration": 11,
    "start_time": "2022-03-21T09:23:50.851Z"
   },
   {
    "duration": 6,
    "start_time": "2022-03-21T09:23:50.864Z"
   },
   {
    "duration": 377,
    "start_time": "2022-03-21T09:23:50.872Z"
   },
   {
    "duration": 512,
    "start_time": "2022-03-21T09:23:51.251Z"
   },
   {
    "duration": 268,
    "start_time": "2022-03-21T09:23:51.765Z"
   },
   {
    "duration": 234,
    "start_time": "2022-03-21T09:23:52.035Z"
   },
   {
    "duration": 4,
    "start_time": "2022-03-21T09:23:52.272Z"
   },
   {
    "duration": 274,
    "start_time": "2022-03-21T09:23:52.278Z"
   },
   {
    "duration": 221,
    "start_time": "2022-03-21T09:23:52.554Z"
   },
   {
    "duration": 4,
    "start_time": "2022-03-21T09:23:52.777Z"
   },
   {
    "duration": 246,
    "start_time": "2022-03-21T09:23:52.783Z"
   },
   {
    "duration": 181,
    "start_time": "2022-03-21T09:23:53.032Z"
   },
   {
    "duration": 4,
    "start_time": "2022-03-21T09:23:53.215Z"
   },
   {
    "duration": 246,
    "start_time": "2022-03-21T09:23:53.220Z"
   },
   {
    "duration": 180,
    "start_time": "2022-03-21T09:23:53.469Z"
   },
   {
    "duration": 3,
    "start_time": "2022-03-21T09:23:53.652Z"
   },
   {
    "duration": 299,
    "start_time": "2022-03-21T09:23:53.661Z"
   },
   {
    "duration": 232,
    "start_time": "2022-03-21T09:23:53.963Z"
   },
   {
    "duration": 20,
    "start_time": "2022-03-21T09:23:54.197Z"
   },
   {
    "duration": 289,
    "start_time": "2022-03-21T09:23:54.219Z"
   },
   {
    "duration": 33,
    "start_time": "2022-03-21T09:23:54.511Z"
   },
   {
    "duration": 11,
    "start_time": "2022-03-21T09:23:54.546Z"
   },
   {
    "duration": 261,
    "start_time": "2022-03-21T09:23:54.559Z"
   },
   {
    "duration": 311,
    "start_time": "2022-03-21T09:23:54.822Z"
   },
   {
    "duration": 245,
    "start_time": "2022-03-21T09:23:55.142Z"
   },
   {
    "duration": 8,
    "start_time": "2022-03-21T09:23:55.389Z"
   },
   {
    "duration": 7,
    "start_time": "2022-03-21T09:23:55.399Z"
   },
   {
    "duration": 239,
    "start_time": "2022-03-21T09:23:55.442Z"
   },
   {
    "duration": 10,
    "start_time": "2022-03-21T09:23:55.683Z"
   },
   {
    "duration": 55,
    "start_time": "2022-03-21T09:23:55.695Z"
   },
   {
    "duration": 16,
    "start_time": "2022-03-21T09:23:55.752Z"
   },
   {
    "duration": 474,
    "start_time": "2022-03-21T09:23:55.770Z"
   },
   {
    "duration": 14,
    "start_time": "2022-03-21T09:23:56.246Z"
   },
   {
    "duration": 489,
    "start_time": "2022-03-21T09:23:56.263Z"
   },
   {
    "duration": 494,
    "start_time": "2022-03-21T09:23:56.754Z"
   },
   {
    "duration": 520,
    "start_time": "2022-03-21T09:23:57.250Z"
   },
   {
    "duration": 623,
    "start_time": "2022-03-21T09:23:57.772Z"
   },
   {
    "duration": 16,
    "start_time": "2022-03-21T09:23:58.398Z"
   },
   {
    "duration": 34,
    "start_time": "2022-03-21T09:23:58.416Z"
   },
   {
    "duration": 467,
    "start_time": "2022-03-21T09:23:58.453Z"
   },
   {
    "duration": 933,
    "start_time": "2022-03-21T09:25:50.498Z"
   },
   {
    "duration": 164,
    "start_time": "2022-03-21T09:25:51.434Z"
   },
   {
    "duration": 117,
    "start_time": "2022-03-21T09:25:51.600Z"
   },
   {
    "duration": 56,
    "start_time": "2022-03-21T09:25:51.721Z"
   },
   {
    "duration": 19,
    "start_time": "2022-03-21T09:25:51.781Z"
   },
   {
    "duration": 42,
    "start_time": "2022-03-21T09:25:51.802Z"
   },
   {
    "duration": 9,
    "start_time": "2022-03-21T09:25:51.847Z"
   },
   {
    "duration": 24,
    "start_time": "2022-03-21T09:25:51.858Z"
   },
   {
    "duration": 69,
    "start_time": "2022-03-21T09:25:51.885Z"
   },
   {
    "duration": 22,
    "start_time": "2022-03-21T09:25:51.958Z"
   },
   {
    "duration": 6,
    "start_time": "2022-03-21T09:25:51.982Z"
   },
   {
    "duration": 12,
    "start_time": "2022-03-21T09:25:51.989Z"
   },
   {
    "duration": 42,
    "start_time": "2022-03-21T09:25:52.003Z"
   },
   {
    "duration": 362,
    "start_time": "2022-03-21T09:25:52.047Z"
   },
   {
    "duration": 531,
    "start_time": "2022-03-21T09:25:52.411Z"
   },
   {
    "duration": 273,
    "start_time": "2022-03-21T09:25:52.945Z"
   },
   {
    "duration": 248,
    "start_time": "2022-03-21T09:25:53.220Z"
   },
   {
    "duration": 21,
    "start_time": "2022-03-21T09:25:53.470Z"
   },
   {
    "duration": 287,
    "start_time": "2022-03-21T09:25:53.493Z"
   },
   {
    "duration": 225,
    "start_time": "2022-03-21T09:25:53.782Z"
   },
   {
    "duration": 14,
    "start_time": "2022-03-21T09:25:54.010Z"
   },
   {
    "duration": 245,
    "start_time": "2022-03-21T09:25:54.043Z"
   },
   {
    "duration": 171,
    "start_time": "2022-03-21T09:25:54.291Z"
   },
   {
    "duration": 12,
    "start_time": "2022-03-21T09:25:54.464Z"
   },
   {
    "duration": 251,
    "start_time": "2022-03-21T09:25:54.478Z"
   },
   {
    "duration": 177,
    "start_time": "2022-03-21T09:25:54.732Z"
   },
   {
    "duration": 10,
    "start_time": "2022-03-21T09:25:54.911Z"
   },
   {
    "duration": 295,
    "start_time": "2022-03-21T09:25:54.926Z"
   },
   {
    "duration": 194,
    "start_time": "2022-03-21T09:25:55.223Z"
   },
   {
    "duration": 10,
    "start_time": "2022-03-21T09:25:55.419Z"
   },
   {
    "duration": 282,
    "start_time": "2022-03-21T09:25:55.431Z"
   },
   {
    "duration": 29,
    "start_time": "2022-03-21T09:25:55.716Z"
   },
   {
    "duration": 8,
    "start_time": "2022-03-21T09:25:55.747Z"
   },
   {
    "duration": 268,
    "start_time": "2022-03-21T09:25:55.757Z"
   },
   {
    "duration": 334,
    "start_time": "2022-03-21T09:25:56.028Z"
   },
   {
    "duration": 272,
    "start_time": "2022-03-21T09:25:56.365Z"
   },
   {
    "duration": 7,
    "start_time": "2022-03-21T09:25:56.640Z"
   },
   {
    "duration": 7,
    "start_time": "2022-03-21T09:25:56.650Z"
   },
   {
    "duration": 273,
    "start_time": "2022-03-21T09:25:56.659Z"
   },
   {
    "duration": 13,
    "start_time": "2022-03-21T09:25:56.934Z"
   },
   {
    "duration": 23,
    "start_time": "2022-03-21T09:25:56.950Z"
   },
   {
    "duration": 11,
    "start_time": "2022-03-21T09:25:56.975Z"
   },
   {
    "duration": 416,
    "start_time": "2022-03-21T09:25:56.988Z"
   },
   {
    "duration": 12,
    "start_time": "2022-03-21T09:25:57.406Z"
   },
   {
    "duration": 517,
    "start_time": "2022-03-21T09:25:57.420Z"
   },
   {
    "duration": 496,
    "start_time": "2022-03-21T09:25:57.942Z"
   },
   {
    "duration": 501,
    "start_time": "2022-03-21T09:25:58.443Z"
   },
   {
    "duration": 628,
    "start_time": "2022-03-21T09:25:58.946Z"
   },
   {
    "duration": 16,
    "start_time": "2022-03-21T09:25:59.577Z"
   },
   {
    "duration": 12,
    "start_time": "2022-03-21T09:25:59.596Z"
   },
   {
    "duration": 501,
    "start_time": "2022-03-21T09:25:59.643Z"
   },
   {
    "duration": 1022,
    "start_time": "2022-03-21T09:30:13.511Z"
   },
   {
    "duration": 173,
    "start_time": "2022-03-21T09:30:14.535Z"
   },
   {
    "duration": 119,
    "start_time": "2022-03-21T09:30:14.710Z"
   },
   {
    "duration": 48,
    "start_time": "2022-03-21T09:30:14.844Z"
   },
   {
    "duration": 21,
    "start_time": "2022-03-21T09:30:14.895Z"
   },
   {
    "duration": 12,
    "start_time": "2022-03-21T09:30:14.944Z"
   },
   {
    "duration": 11,
    "start_time": "2022-03-21T09:30:14.959Z"
   },
   {
    "duration": 36,
    "start_time": "2022-03-21T09:30:14.973Z"
   },
   {
    "duration": 34,
    "start_time": "2022-03-21T09:30:15.042Z"
   },
   {
    "duration": 24,
    "start_time": "2022-03-21T09:30:15.080Z"
   },
   {
    "duration": 37,
    "start_time": "2022-03-21T09:30:15.106Z"
   },
   {
    "duration": 13,
    "start_time": "2022-03-21T09:30:15.145Z"
   },
   {
    "duration": 10,
    "start_time": "2022-03-21T09:30:15.160Z"
   },
   {
    "duration": 360,
    "start_time": "2022-03-21T09:30:15.172Z"
   },
   {
    "duration": 546,
    "start_time": "2022-03-21T09:30:15.535Z"
   },
   {
    "duration": 316,
    "start_time": "2022-03-21T09:30:16.083Z"
   },
   {
    "duration": 317,
    "start_time": "2022-03-21T09:30:16.401Z"
   },
   {
    "duration": 255,
    "start_time": "2022-03-21T09:30:16.721Z"
   },
   {
    "duration": 256,
    "start_time": "2022-03-21T09:30:16.979Z"
   },
   {
    "duration": 293,
    "start_time": "2022-03-21T09:30:17.237Z"
   },
   {
    "duration": 252,
    "start_time": "2022-03-21T09:30:17.533Z"
   },
   {
    "duration": 19,
    "start_time": "2022-03-21T09:30:17.787Z"
   },
   {
    "duration": 296,
    "start_time": "2022-03-21T09:30:17.808Z"
   },
   {
    "duration": 17,
    "start_time": "2022-03-21T09:30:18.106Z"
   },
   {
    "duration": 29,
    "start_time": "2022-03-21T09:30:18.125Z"
   },
   {
    "duration": 259,
    "start_time": "2022-03-21T09:30:18.156Z"
   },
   {
    "duration": 249,
    "start_time": "2022-03-21T09:30:18.418Z"
   },
   {
    "duration": 266,
    "start_time": "2022-03-21T09:30:18.672Z"
   },
   {
    "duration": 8,
    "start_time": "2022-03-21T09:30:18.941Z"
   },
   {
    "duration": 8,
    "start_time": "2022-03-21T09:30:18.951Z"
   },
   {
    "duration": 257,
    "start_time": "2022-03-21T09:30:18.962Z"
   },
   {
    "duration": 22,
    "start_time": "2022-03-21T09:30:19.222Z"
   },
   {
    "duration": 30,
    "start_time": "2022-03-21T09:30:19.247Z"
   },
   {
    "duration": 15,
    "start_time": "2022-03-21T09:30:19.280Z"
   },
   {
    "duration": 563,
    "start_time": "2022-03-21T09:30:19.298Z"
   },
   {
    "duration": 16,
    "start_time": "2022-03-21T09:30:19.863Z"
   },
   {
    "duration": 507,
    "start_time": "2022-03-21T09:30:19.882Z"
   },
   {
    "duration": 486,
    "start_time": "2022-03-21T09:30:20.392Z"
   },
   {
    "duration": 524,
    "start_time": "2022-03-21T09:30:20.880Z"
   },
   {
    "duration": 529,
    "start_time": "2022-03-21T09:30:21.406Z"
   },
   {
    "duration": 17,
    "start_time": "2022-03-21T09:30:21.938Z"
   },
   {
    "duration": 11,
    "start_time": "2022-03-21T09:30:21.957Z"
   },
   {
    "duration": 492,
    "start_time": "2022-03-21T09:30:21.970Z"
   },
   {
    "duration": 903,
    "start_time": "2022-03-21T09:44:05.035Z"
   },
   {
    "duration": 166,
    "start_time": "2022-03-21T09:44:05.941Z"
   },
   {
    "duration": 114,
    "start_time": "2022-03-21T09:44:06.109Z"
   },
   {
    "duration": 43,
    "start_time": "2022-03-21T09:44:06.227Z"
   },
   {
    "duration": 16,
    "start_time": "2022-03-21T09:44:06.272Z"
   },
   {
    "duration": 9,
    "start_time": "2022-03-21T09:44:06.290Z"
   },
   {
    "duration": 46,
    "start_time": "2022-03-21T09:44:06.301Z"
   },
   {
    "duration": 27,
    "start_time": "2022-03-21T09:44:06.350Z"
   },
   {
    "duration": 29,
    "start_time": "2022-03-21T09:44:06.379Z"
   },
   {
    "duration": 24,
    "start_time": "2022-03-21T09:44:06.446Z"
   },
   {
    "duration": 6,
    "start_time": "2022-03-21T09:44:06.472Z"
   },
   {
    "duration": 11,
    "start_time": "2022-03-21T09:44:06.480Z"
   },
   {
    "duration": 7,
    "start_time": "2022-03-21T09:44:06.493Z"
   },
   {
    "duration": 353,
    "start_time": "2022-03-21T09:44:06.543Z"
   },
   {
    "duration": 501,
    "start_time": "2022-03-21T09:44:06.899Z"
   },
   {
    "duration": 277,
    "start_time": "2022-03-21T09:44:07.403Z"
   },
   {
    "duration": 318,
    "start_time": "2022-03-21T09:44:07.683Z"
   },
   {
    "duration": 243,
    "start_time": "2022-03-21T09:44:08.003Z"
   },
   {
    "duration": 242,
    "start_time": "2022-03-21T09:44:08.249Z"
   },
   {
    "duration": 292,
    "start_time": "2022-03-21T09:44:08.493Z"
   },
   {
    "duration": 224,
    "start_time": "2022-03-21T09:44:08.787Z"
   },
   {
    "duration": 3,
    "start_time": "2022-03-21T09:44:09.013Z"
   },
   {
    "duration": 368,
    "start_time": "2022-03-21T09:44:09.019Z"
   },
   {
    "duration": 21,
    "start_time": "2022-03-21T09:44:09.389Z"
   },
   {
    "duration": 39,
    "start_time": "2022-03-21T09:44:09.412Z"
   },
   {
    "duration": 281,
    "start_time": "2022-03-21T09:44:09.453Z"
   },
   {
    "duration": 268,
    "start_time": "2022-03-21T09:44:09.736Z"
   },
   {
    "duration": 353,
    "start_time": "2022-03-21T09:44:10.009Z"
   },
   {
    "duration": 9,
    "start_time": "2022-03-21T09:44:10.364Z"
   },
   {
    "duration": 14,
    "start_time": "2022-03-21T09:44:10.376Z"
   },
   {
    "duration": 258,
    "start_time": "2022-03-21T09:44:10.392Z"
   },
   {
    "duration": 11,
    "start_time": "2022-03-21T09:44:10.653Z"
   },
   {
    "duration": 32,
    "start_time": "2022-03-21T09:44:10.667Z"
   },
   {
    "duration": 49,
    "start_time": "2022-03-21T09:44:10.702Z"
   },
   {
    "duration": 537,
    "start_time": "2022-03-21T09:44:10.753Z"
   },
   {
    "duration": 13,
    "start_time": "2022-03-21T09:44:11.293Z"
   },
   {
    "duration": 497,
    "start_time": "2022-03-21T09:44:11.309Z"
   },
   {
    "duration": 498,
    "start_time": "2022-03-21T09:44:11.808Z"
   },
   {
    "duration": 517,
    "start_time": "2022-03-21T09:44:12.308Z"
   },
   {
    "duration": 492,
    "start_time": "2022-03-21T09:44:12.827Z"
   },
   {
    "duration": 32,
    "start_time": "2022-03-21T09:44:13.322Z"
   },
   {
    "duration": 14,
    "start_time": "2022-03-21T09:44:13.357Z"
   },
   {
    "duration": 511,
    "start_time": "2022-03-21T09:44:13.373Z"
   },
   {
    "duration": 895,
    "start_time": "2022-03-21T11:10:55.652Z"
   },
   {
    "duration": 177,
    "start_time": "2022-03-21T11:10:56.550Z"
   },
   {
    "duration": 119,
    "start_time": "2022-03-21T11:10:56.730Z"
   },
   {
    "duration": 33,
    "start_time": "2022-03-21T11:10:56.852Z"
   },
   {
    "duration": 15,
    "start_time": "2022-03-21T11:10:56.887Z"
   },
   {
    "duration": 42,
    "start_time": "2022-03-21T11:10:56.904Z"
   },
   {
    "duration": 8,
    "start_time": "2022-03-21T11:10:56.948Z"
   },
   {
    "duration": 28,
    "start_time": "2022-03-21T11:10:56.958Z"
   },
   {
    "duration": 72,
    "start_time": "2022-03-21T11:10:56.988Z"
   },
   {
    "duration": 23,
    "start_time": "2022-03-21T11:10:57.065Z"
   },
   {
    "duration": 5,
    "start_time": "2022-03-21T11:10:57.090Z"
   },
   {
    "duration": 52,
    "start_time": "2022-03-21T11:10:57.097Z"
   },
   {
    "duration": 12,
    "start_time": "2022-03-21T11:10:57.151Z"
   },
   {
    "duration": 352,
    "start_time": "2022-03-21T11:10:57.166Z"
   },
   {
    "duration": 510,
    "start_time": "2022-03-21T11:10:57.520Z"
   },
   {
    "duration": 275,
    "start_time": "2022-03-21T11:10:58.032Z"
   },
   {
    "duration": 317,
    "start_time": "2022-03-21T11:10:58.309Z"
   },
   {
    "duration": 256,
    "start_time": "2022-03-21T11:10:58.628Z"
   },
   {
    "duration": 243,
    "start_time": "2022-03-21T11:10:58.887Z"
   },
   {
    "duration": 299,
    "start_time": "2022-03-21T11:10:59.133Z"
   },
   {
    "duration": 224,
    "start_time": "2022-03-21T11:10:59.435Z"
   },
   {
    "duration": 4,
    "start_time": "2022-03-21T11:10:59.662Z"
   },
   {
    "duration": 286,
    "start_time": "2022-03-21T11:10:59.669Z"
   },
   {
    "duration": 22,
    "start_time": "2022-03-21T11:10:59.958Z"
   },
   {
    "duration": 12,
    "start_time": "2022-03-21T11:10:59.982Z"
   },
   {
    "duration": 302,
    "start_time": "2022-03-21T11:10:59.996Z"
   },
   {
    "duration": 263,
    "start_time": "2022-03-21T11:11:00.300Z"
   },
   {
    "duration": 255,
    "start_time": "2022-03-21T11:11:00.568Z"
   },
   {
    "duration": 21,
    "start_time": "2022-03-21T11:11:00.825Z"
   },
   {
    "duration": 15,
    "start_time": "2022-03-21T11:11:00.848Z"
   },
   {
    "duration": 256,
    "start_time": "2022-03-21T11:11:00.865Z"
   },
   {
    "duration": 22,
    "start_time": "2022-03-21T11:11:01.123Z"
   },
   {
    "duration": 36,
    "start_time": "2022-03-21T11:11:01.147Z"
   },
   {
    "duration": 18,
    "start_time": "2022-03-21T11:11:01.185Z"
   },
   {
    "duration": 584,
    "start_time": "2022-03-21T11:11:01.205Z"
   },
   {
    "duration": 16,
    "start_time": "2022-03-21T11:11:01.791Z"
   },
   {
    "duration": 540,
    "start_time": "2022-03-21T11:11:01.810Z"
   },
   {
    "duration": 559,
    "start_time": "2022-03-21T11:11:02.353Z"
   },
   {
    "duration": 516,
    "start_time": "2022-03-21T11:11:02.915Z"
   },
   {
    "duration": 525,
    "start_time": "2022-03-21T11:11:03.434Z"
   },
   {
    "duration": 16,
    "start_time": "2022-03-21T11:11:03.961Z"
   },
   {
    "duration": 28,
    "start_time": "2022-03-21T11:11:03.979Z"
   },
   {
    "duration": 458,
    "start_time": "2022-03-21T11:11:04.010Z"
   },
   {
    "duration": 83,
    "start_time": "2022-03-21T11:11:44.669Z"
   },
   {
    "duration": 1020,
    "start_time": "2022-03-21T11:11:51.324Z"
   },
   {
    "duration": 175,
    "start_time": "2022-03-21T11:11:52.346Z"
   },
   {
    "duration": 131,
    "start_time": "2022-03-21T11:11:52.523Z"
   },
   {
    "duration": 37,
    "start_time": "2022-03-21T11:11:52.657Z"
   },
   {
    "duration": 19,
    "start_time": "2022-03-21T11:11:52.696Z"
   },
   {
    "duration": 11,
    "start_time": "2022-03-21T11:11:52.743Z"
   },
   {
    "duration": 12,
    "start_time": "2022-03-21T11:11:52.756Z"
   },
   {
    "duration": 27,
    "start_time": "2022-03-21T11:11:52.770Z"
   },
   {
    "duration": 62,
    "start_time": "2022-03-21T11:11:52.799Z"
   },
   {
    "duration": 24,
    "start_time": "2022-03-21T11:11:52.864Z"
   },
   {
    "duration": 5,
    "start_time": "2022-03-21T11:11:52.890Z"
   },
   {
    "duration": 49,
    "start_time": "2022-03-21T11:11:52.897Z"
   },
   {
    "duration": 11,
    "start_time": "2022-03-21T11:11:52.948Z"
   },
   {
    "duration": 365,
    "start_time": "2022-03-21T11:11:52.961Z"
   },
   {
    "duration": 520,
    "start_time": "2022-03-21T11:11:53.328Z"
   },
   {
    "duration": 317,
    "start_time": "2022-03-21T11:11:53.850Z"
   },
   {
    "duration": 327,
    "start_time": "2022-03-21T11:11:54.169Z"
   },
   {
    "duration": 263,
    "start_time": "2022-03-21T11:11:54.498Z"
   },
   {
    "duration": 317,
    "start_time": "2022-03-21T11:11:54.764Z"
   },
   {
    "duration": 301,
    "start_time": "2022-03-21T11:11:55.084Z"
   },
   {
    "duration": 233,
    "start_time": "2022-03-21T11:11:55.388Z"
   },
   {
    "duration": 94,
    "start_time": "2022-03-21T11:11:55.623Z"
   },
   {
    "duration": 281,
    "start_time": "2022-03-21T11:11:55.719Z"
   },
   {
    "duration": 15,
    "start_time": "2022-03-21T11:11:56.003Z"
   },
   {
    "duration": 32,
    "start_time": "2022-03-21T11:11:56.020Z"
   },
   {
    "duration": 267,
    "start_time": "2022-03-21T11:11:56.054Z"
   },
   {
    "duration": 253,
    "start_time": "2022-03-21T11:11:56.323Z"
   },
   {
    "duration": 255,
    "start_time": "2022-03-21T11:11:56.582Z"
   },
   {
    "duration": 8,
    "start_time": "2022-03-21T11:11:56.839Z"
   },
   {
    "duration": 13,
    "start_time": "2022-03-21T11:11:56.849Z"
   },
   {
    "duration": 269,
    "start_time": "2022-03-21T11:11:56.864Z"
   },
   {
    "duration": 20,
    "start_time": "2022-03-21T11:11:57.136Z"
   },
   {
    "duration": 32,
    "start_time": "2022-03-21T11:11:57.159Z"
   },
   {
    "duration": 52,
    "start_time": "2022-03-21T11:11:57.194Z"
   },
   {
    "duration": 567,
    "start_time": "2022-03-21T11:11:57.249Z"
   },
   {
    "duration": 27,
    "start_time": "2022-03-21T11:11:57.818Z"
   },
   {
    "duration": 496,
    "start_time": "2022-03-21T11:11:57.847Z"
   },
   {
    "duration": 500,
    "start_time": "2022-03-21T11:11:58.345Z"
   },
   {
    "duration": 498,
    "start_time": "2022-03-21T11:11:58.847Z"
   },
   {
    "duration": 550,
    "start_time": "2022-03-21T11:11:59.348Z"
   },
   {
    "duration": 17,
    "start_time": "2022-03-21T11:11:59.901Z"
   },
   {
    "duration": 32,
    "start_time": "2022-03-21T11:11:59.920Z"
   },
   {
    "duration": 486,
    "start_time": "2022-03-21T11:11:59.954Z"
   },
   {
    "duration": 73,
    "start_time": "2022-03-21T11:12:37.035Z"
   },
   {
    "duration": 948,
    "start_time": "2022-03-21T11:12:48.109Z"
   },
   {
    "duration": 189,
    "start_time": "2022-03-21T11:12:49.061Z"
   },
   {
    "duration": 113,
    "start_time": "2022-03-21T11:12:49.253Z"
   },
   {
    "duration": 38,
    "start_time": "2022-03-21T11:12:49.369Z"
   },
   {
    "duration": 44,
    "start_time": "2022-03-21T11:12:49.410Z"
   },
   {
    "duration": 11,
    "start_time": "2022-03-21T11:12:49.457Z"
   },
   {
    "duration": 10,
    "start_time": "2022-03-21T11:12:49.471Z"
   },
   {
    "duration": 75,
    "start_time": "2022-03-21T11:12:49.483Z"
   },
   {
    "duration": 29,
    "start_time": "2022-03-21T11:12:49.560Z"
   },
   {
    "duration": 56,
    "start_time": "2022-03-21T11:12:49.595Z"
   },
   {
    "duration": 6,
    "start_time": "2022-03-21T11:12:49.653Z"
   },
   {
    "duration": 11,
    "start_time": "2022-03-21T11:12:49.661Z"
   },
   {
    "duration": 6,
    "start_time": "2022-03-21T11:12:49.675Z"
   },
   {
    "duration": 387,
    "start_time": "2022-03-21T11:12:49.684Z"
   },
   {
    "duration": 504,
    "start_time": "2022-03-21T11:12:50.073Z"
   },
   {
    "duration": 290,
    "start_time": "2022-03-21T11:12:50.579Z"
   },
   {
    "duration": 325,
    "start_time": "2022-03-21T11:12:50.871Z"
   },
   {
    "duration": 247,
    "start_time": "2022-03-21T11:12:51.198Z"
   },
   {
    "duration": 234,
    "start_time": "2022-03-21T11:12:51.447Z"
   },
   {
    "duration": 285,
    "start_time": "2022-03-21T11:12:51.684Z"
   },
   {
    "duration": 217,
    "start_time": "2022-03-21T11:12:51.972Z"
   },
   {
    "duration": 95,
    "start_time": "2022-03-21T11:12:52.191Z"
   },
   {
    "duration": 267,
    "start_time": "2022-03-21T11:12:52.288Z"
   },
   {
    "duration": 16,
    "start_time": "2022-03-21T11:12:52.558Z"
   },
   {
    "duration": 12,
    "start_time": "2022-03-21T11:12:52.577Z"
   },
   {
    "duration": 292,
    "start_time": "2022-03-21T11:12:52.591Z"
   },
   {
    "duration": 245,
    "start_time": "2022-03-21T11:12:52.885Z"
   },
   {
    "duration": 294,
    "start_time": "2022-03-21T11:12:53.144Z"
   },
   {
    "duration": 9,
    "start_time": "2022-03-21T11:12:53.443Z"
   },
   {
    "duration": 7,
    "start_time": "2022-03-21T11:12:53.454Z"
   },
   {
    "duration": 266,
    "start_time": "2022-03-21T11:12:53.463Z"
   },
   {
    "duration": 19,
    "start_time": "2022-03-21T11:12:53.731Z"
   },
   {
    "duration": 34,
    "start_time": "2022-03-21T11:12:53.753Z"
   },
   {
    "duration": 62,
    "start_time": "2022-03-21T11:12:53.790Z"
   },
   {
    "duration": 573,
    "start_time": "2022-03-21T11:12:53.854Z"
   },
   {
    "duration": 19,
    "start_time": "2022-03-21T11:12:54.430Z"
   },
   {
    "duration": 506,
    "start_time": "2022-03-21T11:12:54.451Z"
   },
   {
    "duration": 523,
    "start_time": "2022-03-21T11:12:54.959Z"
   },
   {
    "duration": 488,
    "start_time": "2022-03-21T11:12:55.485Z"
   },
   {
    "duration": 570,
    "start_time": "2022-03-21T11:12:55.976Z"
   },
   {
    "duration": 18,
    "start_time": "2022-03-21T11:12:56.548Z"
   },
   {
    "duration": 15,
    "start_time": "2022-03-21T11:12:56.569Z"
   },
   {
    "duration": 496,
    "start_time": "2022-03-21T11:12:56.587Z"
   },
   {
    "duration": 939,
    "start_time": "2022-03-21T11:13:09.640Z"
   },
   {
    "duration": 181,
    "start_time": "2022-03-21T11:13:10.582Z"
   },
   {
    "duration": 126,
    "start_time": "2022-03-21T11:13:10.765Z"
   },
   {
    "duration": 54,
    "start_time": "2022-03-21T11:13:10.894Z"
   },
   {
    "duration": 17,
    "start_time": "2022-03-21T11:13:10.950Z"
   },
   {
    "duration": 9,
    "start_time": "2022-03-21T11:13:10.969Z"
   },
   {
    "duration": 11,
    "start_time": "2022-03-21T11:13:10.980Z"
   },
   {
    "duration": 73,
    "start_time": "2022-03-21T11:13:10.994Z"
   },
   {
    "duration": 32,
    "start_time": "2022-03-21T11:13:11.069Z"
   },
   {
    "duration": 52,
    "start_time": "2022-03-21T11:13:11.105Z"
   },
   {
    "duration": 6,
    "start_time": "2022-03-21T11:13:11.160Z"
   },
   {
    "duration": 12,
    "start_time": "2022-03-21T11:13:11.168Z"
   },
   {
    "duration": 8,
    "start_time": "2022-03-21T11:13:11.183Z"
   },
   {
    "duration": 409,
    "start_time": "2022-03-21T11:13:11.194Z"
   },
   {
    "duration": 545,
    "start_time": "2022-03-21T11:13:11.607Z"
   },
   {
    "duration": 324,
    "start_time": "2022-03-21T11:13:12.154Z"
   },
   {
    "duration": 345,
    "start_time": "2022-03-21T11:13:12.481Z"
   },
   {
    "duration": 361,
    "start_time": "2022-03-21T11:13:12.829Z"
   },
   {
    "duration": 261,
    "start_time": "2022-03-21T11:13:13.193Z"
   },
   {
    "duration": 324,
    "start_time": "2022-03-21T11:13:13.456Z"
   },
   {
    "duration": 245,
    "start_time": "2022-03-21T11:13:13.782Z"
   },
   {
    "duration": 169,
    "start_time": "2022-03-21T11:13:14.029Z"
   },
   {
    "duration": 308,
    "start_time": "2022-03-21T11:13:14.201Z"
   },
   {
    "duration": 38,
    "start_time": "2022-03-21T11:13:14.512Z"
   },
   {
    "duration": 12,
    "start_time": "2022-03-21T11:13:14.552Z"
   },
   {
    "duration": 291,
    "start_time": "2022-03-21T11:13:14.567Z"
   },
   {
    "duration": 263,
    "start_time": "2022-03-21T11:13:14.861Z"
   },
   {
    "duration": 354,
    "start_time": "2022-03-21T11:13:15.131Z"
   },
   {
    "duration": 11,
    "start_time": "2022-03-21T11:13:15.488Z"
   },
   {
    "duration": 18,
    "start_time": "2022-03-21T11:13:15.501Z"
   },
   {
    "duration": 257,
    "start_time": "2022-03-21T11:13:15.545Z"
   },
   {
    "duration": 12,
    "start_time": "2022-03-21T11:13:15.804Z"
   },
   {
    "duration": 63,
    "start_time": "2022-03-21T11:13:15.818Z"
   },
   {
    "duration": 22,
    "start_time": "2022-03-21T11:13:15.883Z"
   },
   {
    "duration": 593,
    "start_time": "2022-03-21T11:13:15.908Z"
   },
   {
    "duration": 14,
    "start_time": "2022-03-21T11:13:16.503Z"
   },
   {
    "duration": 531,
    "start_time": "2022-03-21T11:13:16.543Z"
   },
   {
    "duration": 541,
    "start_time": "2022-03-21T11:13:17.077Z"
   },
   {
    "duration": 525,
    "start_time": "2022-03-21T11:13:17.620Z"
   },
   {
    "duration": 585,
    "start_time": "2022-03-21T11:13:18.147Z"
   },
   {
    "duration": 17,
    "start_time": "2022-03-21T11:13:18.742Z"
   },
   {
    "duration": 13,
    "start_time": "2022-03-21T11:13:18.760Z"
   },
   {
    "duration": 511,
    "start_time": "2022-03-21T11:13:18.776Z"
   },
   {
    "duration": 864,
    "start_time": "2022-03-21T11:13:41.194Z"
   },
   {
    "duration": 173,
    "start_time": "2022-03-21T11:13:42.061Z"
   },
   {
    "duration": 112,
    "start_time": "2022-03-21T11:13:42.242Z"
   },
   {
    "duration": 33,
    "start_time": "2022-03-21T11:13:42.356Z"
   },
   {
    "duration": 14,
    "start_time": "2022-03-21T11:13:42.393Z"
   },
   {
    "duration": 37,
    "start_time": "2022-03-21T11:13:42.409Z"
   },
   {
    "duration": 10,
    "start_time": "2022-03-21T11:13:42.448Z"
   },
   {
    "duration": 27,
    "start_time": "2022-03-21T11:13:42.460Z"
   },
   {
    "duration": 70,
    "start_time": "2022-03-21T11:13:42.489Z"
   },
   {
    "duration": 25,
    "start_time": "2022-03-21T11:13:42.561Z"
   },
   {
    "duration": 7,
    "start_time": "2022-03-21T11:13:42.588Z"
   },
   {
    "duration": 52,
    "start_time": "2022-03-21T11:13:42.598Z"
   },
   {
    "duration": 8,
    "start_time": "2022-03-21T11:13:42.652Z"
   },
   {
    "duration": 362,
    "start_time": "2022-03-21T11:13:42.665Z"
   },
   {
    "duration": 508,
    "start_time": "2022-03-21T11:13:43.029Z"
   },
   {
    "duration": 271,
    "start_time": "2022-03-21T11:13:43.542Z"
   },
   {
    "duration": 297,
    "start_time": "2022-03-21T11:13:43.815Z"
   },
   {
    "duration": 240,
    "start_time": "2022-03-21T11:13:44.115Z"
   },
   {
    "duration": 231,
    "start_time": "2022-03-21T11:13:44.357Z"
   },
   {
    "duration": 286,
    "start_time": "2022-03-21T11:13:44.590Z"
   },
   {
    "duration": 216,
    "start_time": "2022-03-21T11:13:44.878Z"
   },
   {
    "duration": 159,
    "start_time": "2022-03-21T11:13:45.097Z"
   },
   {
    "duration": 270,
    "start_time": "2022-03-21T11:13:45.258Z"
   },
   {
    "duration": 28,
    "start_time": "2022-03-21T11:13:45.530Z"
   },
   {
    "duration": 13,
    "start_time": "2022-03-21T11:13:45.561Z"
   },
   {
    "duration": 291,
    "start_time": "2022-03-21T11:13:45.577Z"
   },
   {
    "duration": 257,
    "start_time": "2022-03-21T11:13:45.871Z"
   },
   {
    "duration": 338,
    "start_time": "2022-03-21T11:13:46.130Z"
   },
   {
    "duration": 10,
    "start_time": "2022-03-21T11:13:46.472Z"
   },
   {
    "duration": 8,
    "start_time": "2022-03-21T11:13:46.485Z"
   },
   {
    "duration": 272,
    "start_time": "2022-03-21T11:13:46.495Z"
   },
   {
    "duration": 10,
    "start_time": "2022-03-21T11:13:46.769Z"
   },
   {
    "duration": 42,
    "start_time": "2022-03-21T11:13:46.781Z"
   },
   {
    "duration": 18,
    "start_time": "2022-03-21T11:13:46.842Z"
   },
   {
    "duration": 541,
    "start_time": "2022-03-21T11:13:46.862Z"
   },
   {
    "duration": 14,
    "start_time": "2022-03-21T11:13:47.405Z"
   },
   {
    "duration": 495,
    "start_time": "2022-03-21T11:13:47.421Z"
   },
   {
    "duration": 504,
    "start_time": "2022-03-21T11:13:47.918Z"
   },
   {
    "duration": 523,
    "start_time": "2022-03-21T11:13:48.425Z"
   },
   {
    "duration": 552,
    "start_time": "2022-03-21T11:13:48.951Z"
   },
   {
    "duration": 36,
    "start_time": "2022-03-21T11:13:49.510Z"
   },
   {
    "duration": 11,
    "start_time": "2022-03-21T11:13:49.549Z"
   },
   {
    "duration": 487,
    "start_time": "2022-03-21T11:13:49.562Z"
   },
   {
    "duration": 934,
    "start_time": "2022-03-21T11:14:29.375Z"
   },
   {
    "duration": 174,
    "start_time": "2022-03-21T11:14:30.312Z"
   },
   {
    "duration": 119,
    "start_time": "2022-03-21T11:14:30.489Z"
   },
   {
    "duration": 55,
    "start_time": "2022-03-21T11:14:30.610Z"
   },
   {
    "duration": 17,
    "start_time": "2022-03-21T11:14:30.668Z"
   },
   {
    "duration": 10,
    "start_time": "2022-03-21T11:14:30.687Z"
   },
   {
    "duration": 48,
    "start_time": "2022-03-21T11:14:30.699Z"
   },
   {
    "duration": 27,
    "start_time": "2022-03-21T11:14:30.750Z"
   },
   {
    "duration": 32,
    "start_time": "2022-03-21T11:14:30.779Z"
   },
   {
    "duration": 25,
    "start_time": "2022-03-21T11:14:30.845Z"
   },
   {
    "duration": 6,
    "start_time": "2022-03-21T11:14:30.872Z"
   },
   {
    "duration": 25,
    "start_time": "2022-03-21T11:14:30.880Z"
   },
   {
    "duration": 41,
    "start_time": "2022-03-21T11:14:30.907Z"
   },
   {
    "duration": 359,
    "start_time": "2022-03-21T11:14:30.950Z"
   },
   {
    "duration": 532,
    "start_time": "2022-03-21T11:14:31.312Z"
   },
   {
    "duration": 291,
    "start_time": "2022-03-21T11:14:31.846Z"
   },
   {
    "duration": 328,
    "start_time": "2022-03-21T11:14:32.144Z"
   },
   {
    "duration": 262,
    "start_time": "2022-03-21T11:14:32.474Z"
   },
   {
    "duration": 252,
    "start_time": "2022-03-21T11:14:32.739Z"
   },
   {
    "duration": 302,
    "start_time": "2022-03-21T11:14:32.993Z"
   },
   {
    "duration": 228,
    "start_time": "2022-03-21T11:14:33.297Z"
   },
   {
    "duration": 82,
    "start_time": "2022-03-21T11:14:33.527Z"
   },
   {
    "duration": 297,
    "start_time": "2022-03-21T11:14:33.611Z"
   },
   {
    "duration": 41,
    "start_time": "2022-03-21T11:14:33.911Z"
   },
   {
    "duration": 13,
    "start_time": "2022-03-21T11:14:33.954Z"
   },
   {
    "duration": 286,
    "start_time": "2022-03-21T11:14:33.969Z"
   },
   {
    "duration": 278,
    "start_time": "2022-03-21T11:14:34.258Z"
   },
   {
    "duration": 270,
    "start_time": "2022-03-21T11:14:34.542Z"
   },
   {
    "duration": 28,
    "start_time": "2022-03-21T11:14:34.816Z"
   },
   {
    "duration": 14,
    "start_time": "2022-03-21T11:14:34.847Z"
   },
   {
    "duration": 253,
    "start_time": "2022-03-21T11:14:34.863Z"
   },
   {
    "duration": 11,
    "start_time": "2022-03-21T11:14:35.119Z"
   },
   {
    "duration": 33,
    "start_time": "2022-03-21T11:14:35.143Z"
   },
   {
    "duration": 18,
    "start_time": "2022-03-21T11:14:35.178Z"
   },
   {
    "duration": 574,
    "start_time": "2022-03-21T11:14:35.198Z"
   },
   {
    "duration": 13,
    "start_time": "2022-03-21T11:14:35.775Z"
   },
   {
    "duration": 518,
    "start_time": "2022-03-21T11:14:35.790Z"
   },
   {
    "duration": 519,
    "start_time": "2022-03-21T11:14:36.310Z"
   },
   {
    "duration": 501,
    "start_time": "2022-03-21T11:14:36.842Z"
   },
   {
    "duration": 507,
    "start_time": "2022-03-21T11:14:37.346Z"
   },
   {
    "duration": 20,
    "start_time": "2022-03-21T11:14:37.856Z"
   },
   {
    "duration": 12,
    "start_time": "2022-03-21T11:14:37.879Z"
   },
   {
    "duration": 505,
    "start_time": "2022-03-21T11:14:37.893Z"
   },
   {
    "duration": 16,
    "start_time": "2022-03-21T11:15:33.187Z"
   },
   {
    "duration": 10,
    "start_time": "2022-03-21T11:15:39.473Z"
   },
   {
    "duration": 15,
    "start_time": "2022-03-21T11:15:45.412Z"
   },
   {
    "duration": 129,
    "start_time": "2022-03-21T11:15:48.836Z"
   },
   {
    "duration": 11,
    "start_time": "2022-03-21T11:15:51.922Z"
   },
   {
    "duration": 10,
    "start_time": "2022-03-21T11:15:59.591Z"
   },
   {
    "duration": 14,
    "start_time": "2022-03-21T11:16:04.914Z"
   },
   {
    "duration": 12,
    "start_time": "2022-03-21T11:16:55.046Z"
   },
   {
    "duration": 10,
    "start_time": "2022-03-21T11:17:02.214Z"
   },
   {
    "duration": 11,
    "start_time": "2022-03-21T11:17:03.890Z"
   },
   {
    "duration": 11,
    "start_time": "2022-03-21T11:17:08.338Z"
   },
   {
    "duration": 15,
    "start_time": "2022-03-21T11:17:13.858Z"
   },
   {
    "duration": 10,
    "start_time": "2022-03-21T11:17:16.259Z"
   },
   {
    "duration": 13,
    "start_time": "2022-03-21T11:17:41.845Z"
   },
   {
    "duration": 10,
    "start_time": "2022-03-21T11:17:45.714Z"
   },
   {
    "duration": 13,
    "start_time": "2022-03-21T11:18:03.939Z"
   },
   {
    "duration": 14,
    "start_time": "2022-03-21T11:18:13.313Z"
   },
   {
    "duration": 14,
    "start_time": "2022-03-21T11:18:20.658Z"
   },
   {
    "duration": 4,
    "start_time": "2022-03-21T11:19:16.755Z"
   },
   {
    "duration": 68,
    "start_time": "2022-03-21T11:19:22.354Z"
   },
   {
    "duration": 14,
    "start_time": "2022-03-21T11:20:30.043Z"
   },
   {
    "duration": 71,
    "start_time": "2022-03-21T11:20:42.018Z"
   },
   {
    "duration": 1007,
    "start_time": "2022-03-21T11:21:04.624Z"
   },
   {
    "duration": 180,
    "start_time": "2022-03-21T11:21:05.634Z"
   },
   {
    "duration": 101,
    "start_time": "2022-03-21T11:21:05.817Z"
   },
   {
    "duration": 45,
    "start_time": "2022-03-21T11:21:05.921Z"
   },
   {
    "duration": 18,
    "start_time": "2022-03-21T11:21:05.969Z"
   },
   {
    "duration": 33,
    "start_time": "2022-03-21T11:21:05.989Z"
   },
   {
    "duration": 29,
    "start_time": "2022-03-21T11:21:06.024Z"
   },
   {
    "duration": 31,
    "start_time": "2022-03-21T11:21:06.056Z"
   },
   {
    "duration": 30,
    "start_time": "2022-03-21T11:21:06.090Z"
   },
   {
    "duration": 26,
    "start_time": "2022-03-21T11:21:06.123Z"
   },
   {
    "duration": 5,
    "start_time": "2022-03-21T11:21:06.152Z"
   },
   {
    "duration": 16,
    "start_time": "2022-03-21T11:21:06.160Z"
   },
   {
    "duration": 20,
    "start_time": "2022-03-21T11:21:06.178Z"
   },
   {
    "duration": 349,
    "start_time": "2022-03-21T11:21:06.203Z"
   },
   {
    "duration": 802,
    "start_time": "2022-03-21T11:21:06.554Z"
   },
   {
    "duration": 312,
    "start_time": "2022-03-21T11:21:07.358Z"
   },
   {
    "duration": 339,
    "start_time": "2022-03-21T11:21:07.674Z"
   },
   {
    "duration": 253,
    "start_time": "2022-03-21T11:21:08.016Z"
   },
   {
    "duration": 238,
    "start_time": "2022-03-21T11:21:08.271Z"
   },
   {
    "duration": 294,
    "start_time": "2022-03-21T11:21:08.511Z"
   },
   {
    "duration": 228,
    "start_time": "2022-03-21T11:21:08.808Z"
   },
   {
    "duration": 24,
    "start_time": "2022-03-21T11:21:09.038Z"
   },
   {
    "duration": 359,
    "start_time": "2022-03-21T11:21:09.065Z"
   },
   {
    "duration": 29,
    "start_time": "2022-03-21T11:21:09.427Z"
   },
   {
    "duration": 11,
    "start_time": "2022-03-21T11:21:09.458Z"
   },
   {
    "duration": 287,
    "start_time": "2022-03-21T11:21:09.471Z"
   },
   {
    "duration": 266,
    "start_time": "2022-03-21T11:21:09.760Z"
   },
   {
    "duration": 250,
    "start_time": "2022-03-21T11:21:10.028Z"
   },
   {
    "duration": 8,
    "start_time": "2022-03-21T11:21:10.280Z"
   },
   {
    "duration": 8,
    "start_time": "2022-03-21T11:21:10.290Z"
   },
   {
    "duration": 259,
    "start_time": "2022-03-21T11:21:10.300Z"
   },
   {
    "duration": 14,
    "start_time": "2022-03-21T11:21:10.562Z"
   },
   {
    "duration": 65,
    "start_time": "2022-03-21T11:21:10.579Z"
   },
   {
    "duration": 17,
    "start_time": "2022-03-21T11:21:10.647Z"
   },
   {
    "duration": 563,
    "start_time": "2022-03-21T11:21:10.666Z"
   },
   {
    "duration": 24,
    "start_time": "2022-03-21T11:21:11.231Z"
   },
   {
    "duration": 490,
    "start_time": "2022-03-21T11:21:11.257Z"
   },
   {
    "duration": 506,
    "start_time": "2022-03-21T11:21:11.750Z"
   },
   {
    "duration": 501,
    "start_time": "2022-03-21T11:21:12.259Z"
   },
   {
    "duration": 551,
    "start_time": "2022-03-21T11:21:12.762Z"
   },
   {
    "duration": 26,
    "start_time": "2022-03-21T11:21:13.319Z"
   },
   {
    "duration": 12,
    "start_time": "2022-03-21T11:21:13.347Z"
   },
   {
    "duration": 510,
    "start_time": "2022-03-21T11:21:13.361Z"
   },
   {
    "duration": 199,
    "start_time": "2022-03-21T11:22:54.259Z"
   },
   {
    "duration": 74,
    "start_time": "2022-03-21T11:23:40.503Z"
   },
   {
    "duration": 907,
    "start_time": "2022-03-21T11:24:03.298Z"
   },
   {
    "duration": 169,
    "start_time": "2022-03-21T11:24:04.208Z"
   },
   {
    "duration": 133,
    "start_time": "2022-03-21T11:24:04.381Z"
   },
   {
    "duration": 52,
    "start_time": "2022-03-21T11:24:04.517Z"
   },
   {
    "duration": 18,
    "start_time": "2022-03-21T11:24:04.573Z"
   },
   {
    "duration": 16,
    "start_time": "2022-03-21T11:24:04.593Z"
   },
   {
    "duration": 8,
    "start_time": "2022-03-21T11:24:04.644Z"
   },
   {
    "duration": 40,
    "start_time": "2022-03-21T11:24:04.654Z"
   },
   {
    "duration": 58,
    "start_time": "2022-03-21T11:24:04.696Z"
   },
   {
    "duration": 23,
    "start_time": "2022-03-21T11:24:04.756Z"
   },
   {
    "duration": 13,
    "start_time": "2022-03-21T11:24:04.781Z"
   },
   {
    "duration": 18,
    "start_time": "2022-03-21T11:24:04.796Z"
   },
   {
    "duration": 30,
    "start_time": "2022-03-21T11:24:04.816Z"
   },
   {
    "duration": 364,
    "start_time": "2022-03-21T11:24:04.850Z"
   },
   {
    "duration": 727,
    "start_time": "2022-03-21T11:24:05.217Z"
   },
   {
    "duration": 310,
    "start_time": "2022-03-21T11:24:05.947Z"
   },
   {
    "duration": 251,
    "start_time": "2022-03-21T11:24:06.260Z"
   },
   {
    "duration": 169,
    "start_time": "2022-03-21T11:24:06.514Z"
   },
   {
    "duration": 279,
    "start_time": "2022-03-21T11:24:06.685Z"
   },
   {
    "duration": 249,
    "start_time": "2022-03-21T11:24:06.966Z"
   },
   {
    "duration": 245,
    "start_time": "2022-03-21T11:24:07.217Z"
   },
   {
    "duration": 310,
    "start_time": "2022-03-21T11:24:07.464Z"
   },
   {
    "duration": 228,
    "start_time": "2022-03-21T11:24:07.777Z"
   },
   {
    "duration": 12,
    "start_time": "2022-03-21T11:24:08.008Z"
   },
   {
    "duration": 290,
    "start_time": "2022-03-21T11:24:08.023Z"
   },
   {
    "duration": 29,
    "start_time": "2022-03-21T11:24:08.315Z"
   },
   {
    "duration": 12,
    "start_time": "2022-03-21T11:24:08.347Z"
   },
   {
    "duration": 289,
    "start_time": "2022-03-21T11:24:08.362Z"
   },
   {
    "duration": 249,
    "start_time": "2022-03-21T11:24:08.653Z"
   },
   {
    "duration": 287,
    "start_time": "2022-03-21T11:24:08.905Z"
   },
   {
    "duration": 9,
    "start_time": "2022-03-21T11:24:09.196Z"
   },
   {
    "duration": 35,
    "start_time": "2022-03-21T11:24:09.208Z"
   },
   {
    "duration": 330,
    "start_time": "2022-03-21T11:24:09.246Z"
   },
   {
    "duration": 10,
    "start_time": "2022-03-21T11:24:09.578Z"
   },
   {
    "duration": 56,
    "start_time": "2022-03-21T11:24:09.590Z"
   },
   {
    "duration": 97,
    "start_time": "2022-03-21T11:24:09.648Z"
   },
   {
    "duration": 557,
    "start_time": "2022-03-21T11:24:09.747Z"
   },
   {
    "duration": 14,
    "start_time": "2022-03-21T11:24:10.307Z"
   },
   {
    "duration": 479,
    "start_time": "2022-03-21T11:24:10.343Z"
   },
   {
    "duration": 532,
    "start_time": "2022-03-21T11:24:10.824Z"
   },
   {
    "duration": 560,
    "start_time": "2022-03-21T11:24:11.361Z"
   },
   {
    "duration": 557,
    "start_time": "2022-03-21T11:24:11.924Z"
   },
   {
    "duration": 17,
    "start_time": "2022-03-21T11:24:12.483Z"
   },
   {
    "duration": 10,
    "start_time": "2022-03-21T11:24:12.502Z"
   },
   {
    "duration": 483,
    "start_time": "2022-03-21T11:24:12.543Z"
   },
   {
    "duration": 9,
    "start_time": "2022-03-21T11:26:35.980Z"
   },
   {
    "duration": 8,
    "start_time": "2022-03-21T11:26:39.901Z"
   },
   {
    "duration": 13,
    "start_time": "2022-03-21T11:26:42.732Z"
   },
   {
    "duration": 880,
    "start_time": "2022-03-21T11:28:05.090Z"
   },
   {
    "duration": 171,
    "start_time": "2022-03-21T11:28:05.972Z"
   },
   {
    "duration": 117,
    "start_time": "2022-03-21T11:28:06.145Z"
   },
   {
    "duration": 35,
    "start_time": "2022-03-21T11:28:06.265Z"
   },
   {
    "duration": 51,
    "start_time": "2022-03-21T11:28:06.303Z"
   },
   {
    "duration": 9,
    "start_time": "2022-03-21T11:28:06.356Z"
   },
   {
    "duration": 24,
    "start_time": "2022-03-21T11:28:06.367Z"
   },
   {
    "duration": 26,
    "start_time": "2022-03-21T11:28:06.393Z"
   },
   {
    "duration": 48,
    "start_time": "2022-03-21T11:28:06.421Z"
   },
   {
    "duration": 25,
    "start_time": "2022-03-21T11:28:06.475Z"
   },
   {
    "duration": 43,
    "start_time": "2022-03-21T11:28:06.503Z"
   },
   {
    "duration": 14,
    "start_time": "2022-03-21T11:28:06.549Z"
   },
   {
    "duration": 6,
    "start_time": "2022-03-21T11:28:06.565Z"
   },
   {
    "duration": 436,
    "start_time": "2022-03-21T11:28:06.573Z"
   },
   {
    "duration": 551,
    "start_time": "2022-03-21T11:28:07.011Z"
   },
   {
    "duration": 280,
    "start_time": "2022-03-21T11:28:07.564Z"
   },
   {
    "duration": 242,
    "start_time": "2022-03-21T11:28:07.847Z"
   },
   {
    "duration": 3,
    "start_time": "2022-03-21T11:28:08.092Z"
   },
   {
    "duration": 277,
    "start_time": "2022-03-21T11:28:08.098Z"
   },
   {
    "duration": 244,
    "start_time": "2022-03-21T11:28:08.378Z"
   },
   {
    "duration": 251,
    "start_time": "2022-03-21T11:28:08.624Z"
   },
   {
    "duration": 330,
    "start_time": "2022-03-21T11:28:08.878Z"
   },
   {
    "duration": 231,
    "start_time": "2022-03-21T11:28:09.211Z"
   },
   {
    "duration": 21,
    "start_time": "2022-03-21T11:28:09.445Z"
   },
   {
    "duration": 290,
    "start_time": "2022-03-21T11:28:09.469Z"
   },
   {
    "duration": 17,
    "start_time": "2022-03-21T11:28:09.762Z"
   },
   {
    "duration": 11,
    "start_time": "2022-03-21T11:28:09.782Z"
   },
   {
    "duration": 297,
    "start_time": "2022-03-21T11:28:09.800Z"
   },
   {
    "duration": 250,
    "start_time": "2022-03-21T11:28:10.100Z"
   },
   {
    "duration": 243,
    "start_time": "2022-03-21T11:28:10.352Z"
   },
   {
    "duration": 8,
    "start_time": "2022-03-21T11:28:10.597Z"
   },
   {
    "duration": 8,
    "start_time": "2022-03-21T11:28:10.607Z"
   },
   {
    "duration": 267,
    "start_time": "2022-03-21T11:28:10.617Z"
   },
   {
    "duration": 11,
    "start_time": "2022-03-21T11:28:10.886Z"
   },
   {
    "duration": 58,
    "start_time": "2022-03-21T11:28:10.899Z"
   },
   {
    "duration": 108,
    "start_time": "2022-03-21T11:28:10.959Z"
   },
   {
    "duration": 467,
    "start_time": "2022-03-21T11:28:11.069Z"
   },
   {
    "duration": 15,
    "start_time": "2022-03-21T11:28:11.538Z"
   },
   {
    "duration": 497,
    "start_time": "2022-03-21T11:28:11.556Z"
   },
   {
    "duration": 500,
    "start_time": "2022-03-21T11:28:12.055Z"
   },
   {
    "duration": 493,
    "start_time": "2022-03-21T11:28:12.557Z"
   },
   {
    "duration": 545,
    "start_time": "2022-03-21T11:28:13.052Z"
   },
   {
    "duration": 19,
    "start_time": "2022-03-21T11:28:13.601Z"
   },
   {
    "duration": 14,
    "start_time": "2022-03-21T11:28:13.644Z"
   },
   {
    "duration": 488,
    "start_time": "2022-03-21T11:28:13.661Z"
   },
   {
    "duration": 950,
    "start_time": "2022-03-21T11:28:53.644Z"
   },
   {
    "duration": 184,
    "start_time": "2022-03-21T11:28:54.597Z"
   },
   {
    "duration": 125,
    "start_time": "2022-03-21T11:28:54.784Z"
   },
   {
    "duration": 55,
    "start_time": "2022-03-21T11:28:54.911Z"
   },
   {
    "duration": 20,
    "start_time": "2022-03-21T11:28:54.969Z"
   },
   {
    "duration": 9,
    "start_time": "2022-03-21T11:28:54.991Z"
   },
   {
    "duration": 44,
    "start_time": "2022-03-21T11:28:55.002Z"
   },
   {
    "duration": 36,
    "start_time": "2022-03-21T11:28:55.049Z"
   },
   {
    "duration": 31,
    "start_time": "2022-03-21T11:28:55.087Z"
   },
   {
    "duration": 45,
    "start_time": "2022-03-21T11:28:55.120Z"
   },
   {
    "duration": 6,
    "start_time": "2022-03-21T11:28:55.167Z"
   },
   {
    "duration": 18,
    "start_time": "2022-03-21T11:28:55.176Z"
   },
   {
    "duration": 49,
    "start_time": "2022-03-21T11:28:55.196Z"
   },
   {
    "duration": 369,
    "start_time": "2022-03-21T11:28:55.249Z"
   },
   {
    "duration": 553,
    "start_time": "2022-03-21T11:28:55.620Z"
   },
   {
    "duration": 298,
    "start_time": "2022-03-21T11:28:56.175Z"
   },
   {
    "duration": 259,
    "start_time": "2022-03-21T11:28:56.477Z"
   },
   {
    "duration": 176,
    "start_time": "2022-03-21T11:28:56.738Z"
   },
   {
    "duration": 291,
    "start_time": "2022-03-21T11:28:56.917Z"
   },
   {
    "duration": 264,
    "start_time": "2022-03-21T11:28:57.211Z"
   },
   {
    "duration": 271,
    "start_time": "2022-03-21T11:28:57.478Z"
   },
   {
    "duration": 310,
    "start_time": "2022-03-21T11:28:57.752Z"
   },
   {
    "duration": 227,
    "start_time": "2022-03-21T11:28:58.065Z"
   },
   {
    "duration": 13,
    "start_time": "2022-03-21T11:28:58.295Z"
   },
   {
    "duration": 296,
    "start_time": "2022-03-21T11:28:58.311Z"
   },
   {
    "duration": 36,
    "start_time": "2022-03-21T11:28:58.610Z"
   },
   {
    "duration": 13,
    "start_time": "2022-03-21T11:28:58.648Z"
   },
   {
    "duration": 305,
    "start_time": "2022-03-21T11:28:58.663Z"
   },
   {
    "duration": 261,
    "start_time": "2022-03-21T11:28:58.971Z"
   },
   {
    "duration": 254,
    "start_time": "2022-03-21T11:28:59.234Z"
   },
   {
    "duration": 8,
    "start_time": "2022-03-21T11:28:59.490Z"
   },
   {
    "duration": 19,
    "start_time": "2022-03-21T11:28:59.500Z"
   },
   {
    "duration": 243,
    "start_time": "2022-03-21T11:28:59.521Z"
   },
   {
    "duration": 10,
    "start_time": "2022-03-21T11:28:59.766Z"
   },
   {
    "duration": 36,
    "start_time": "2022-03-21T11:28:59.779Z"
   },
   {
    "duration": 100,
    "start_time": "2022-03-21T11:28:59.843Z"
   },
   {
    "duration": 485,
    "start_time": "2022-03-21T11:28:59.946Z"
   },
   {
    "duration": 21,
    "start_time": "2022-03-21T11:29:00.433Z"
   },
   {
    "duration": 494,
    "start_time": "2022-03-21T11:29:00.456Z"
   },
   {
    "duration": 524,
    "start_time": "2022-03-21T11:29:00.952Z"
   },
   {
    "duration": 513,
    "start_time": "2022-03-21T11:29:01.482Z"
   },
   {
    "duration": 569,
    "start_time": "2022-03-21T11:29:01.997Z"
   },
   {
    "duration": 21,
    "start_time": "2022-03-21T11:29:02.569Z"
   },
   {
    "duration": 54,
    "start_time": "2022-03-21T11:29:02.593Z"
   },
   {
    "duration": 485,
    "start_time": "2022-03-21T11:29:02.649Z"
   },
   {
    "duration": 321,
    "start_time": "2022-03-21T11:29:12.409Z"
   },
   {
    "duration": 887,
    "start_time": "2022-03-21T11:29:54.571Z"
   },
   {
    "duration": 164,
    "start_time": "2022-03-21T11:29:55.461Z"
   },
   {
    "duration": 117,
    "start_time": "2022-03-21T11:29:55.627Z"
   },
   {
    "duration": 35,
    "start_time": "2022-03-21T11:29:55.747Z"
   },
   {
    "duration": 16,
    "start_time": "2022-03-21T11:29:55.785Z"
   },
   {
    "duration": 46,
    "start_time": "2022-03-21T11:29:55.803Z"
   },
   {
    "duration": 10,
    "start_time": "2022-03-21T11:29:55.851Z"
   },
   {
    "duration": 26,
    "start_time": "2022-03-21T11:29:55.863Z"
   },
   {
    "duration": 64,
    "start_time": "2022-03-21T11:29:55.892Z"
   },
   {
    "duration": 23,
    "start_time": "2022-03-21T11:29:55.960Z"
   },
   {
    "duration": 5,
    "start_time": "2022-03-21T11:29:55.985Z"
   },
   {
    "duration": 51,
    "start_time": "2022-03-21T11:29:55.992Z"
   },
   {
    "duration": 6,
    "start_time": "2022-03-21T11:29:56.045Z"
   },
   {
    "duration": 342,
    "start_time": "2022-03-21T11:29:56.053Z"
   },
   {
    "duration": 498,
    "start_time": "2022-03-21T11:29:56.398Z"
   },
   {
    "duration": 279,
    "start_time": "2022-03-21T11:29:56.898Z"
   },
   {
    "duration": 235,
    "start_time": "2022-03-21T11:29:57.180Z"
   },
   {
    "duration": 166,
    "start_time": "2022-03-21T11:29:57.417Z"
   },
   {
    "duration": 263,
    "start_time": "2022-03-21T11:29:57.585Z"
   },
   {
    "duration": 236,
    "start_time": "2022-03-21T11:29:57.850Z"
   },
   {
    "duration": 245,
    "start_time": "2022-03-21T11:29:58.089Z"
   },
   {
    "duration": 293,
    "start_time": "2022-03-21T11:29:58.336Z"
   },
   {
    "duration": 211,
    "start_time": "2022-03-21T11:29:58.632Z"
   },
   {
    "duration": 14,
    "start_time": "2022-03-21T11:29:58.845Z"
   },
   {
    "duration": 284,
    "start_time": "2022-03-21T11:29:58.861Z"
   },
   {
    "duration": 19,
    "start_time": "2022-03-21T11:29:59.147Z"
   },
   {
    "duration": 5,
    "start_time": "2022-03-21T11:29:59.168Z"
   },
   {
    "duration": 153,
    "start_time": "2022-03-21T11:29:59.178Z"
   },
   {
    "duration": 0,
    "start_time": "2022-03-21T11:29:59.333Z"
   },
   {
    "duration": 0,
    "start_time": "2022-03-21T11:29:59.335Z"
   },
   {
    "duration": 0,
    "start_time": "2022-03-21T11:29:59.343Z"
   },
   {
    "duration": 0,
    "start_time": "2022-03-21T11:29:59.344Z"
   },
   {
    "duration": 0,
    "start_time": "2022-03-21T11:29:59.347Z"
   },
   {
    "duration": 0,
    "start_time": "2022-03-21T11:29:59.349Z"
   },
   {
    "duration": 0,
    "start_time": "2022-03-21T11:29:59.351Z"
   },
   {
    "duration": 0,
    "start_time": "2022-03-21T11:29:59.352Z"
   },
   {
    "duration": 0,
    "start_time": "2022-03-21T11:29:59.354Z"
   },
   {
    "duration": 0,
    "start_time": "2022-03-21T11:29:59.355Z"
   },
   {
    "duration": 0,
    "start_time": "2022-03-21T11:29:59.356Z"
   },
   {
    "duration": 0,
    "start_time": "2022-03-21T11:29:59.358Z"
   },
   {
    "duration": 0,
    "start_time": "2022-03-21T11:29:59.359Z"
   },
   {
    "duration": 0,
    "start_time": "2022-03-21T11:29:59.360Z"
   },
   {
    "duration": 0,
    "start_time": "2022-03-21T11:29:59.362Z"
   },
   {
    "duration": 0,
    "start_time": "2022-03-21T11:29:59.363Z"
   },
   {
    "duration": 0,
    "start_time": "2022-03-21T11:29:59.364Z"
   },
   {
    "duration": 1018,
    "start_time": "2022-03-21T11:30:14.611Z"
   },
   {
    "duration": 201,
    "start_time": "2022-03-21T11:30:15.632Z"
   },
   {
    "duration": 136,
    "start_time": "2022-03-21T11:30:15.835Z"
   },
   {
    "duration": 38,
    "start_time": "2022-03-21T11:30:15.974Z"
   },
   {
    "duration": 49,
    "start_time": "2022-03-21T11:30:16.014Z"
   },
   {
    "duration": 13,
    "start_time": "2022-03-21T11:30:16.066Z"
   },
   {
    "duration": 15,
    "start_time": "2022-03-21T11:30:16.081Z"
   },
   {
    "duration": 74,
    "start_time": "2022-03-21T11:30:16.099Z"
   },
   {
    "duration": 32,
    "start_time": "2022-03-21T11:30:16.175Z"
   },
   {
    "duration": 50,
    "start_time": "2022-03-21T11:30:16.213Z"
   },
   {
    "duration": 6,
    "start_time": "2022-03-21T11:30:16.265Z"
   },
   {
    "duration": 19,
    "start_time": "2022-03-21T11:30:16.273Z"
   },
   {
    "duration": 9,
    "start_time": "2022-03-21T11:30:16.295Z"
   },
   {
    "duration": 413,
    "start_time": "2022-03-21T11:30:16.344Z"
   },
   {
    "duration": 593,
    "start_time": "2022-03-21T11:30:16.759Z"
   },
   {
    "duration": 359,
    "start_time": "2022-03-21T11:30:17.354Z"
   },
   {
    "duration": 243,
    "start_time": "2022-03-21T11:30:17.716Z"
   },
   {
    "duration": 169,
    "start_time": "2022-03-21T11:30:17.962Z"
   },
   {
    "duration": 306,
    "start_time": "2022-03-21T11:30:18.133Z"
   },
   {
    "duration": 288,
    "start_time": "2022-03-21T11:30:18.443Z"
   },
   {
    "duration": 281,
    "start_time": "2022-03-21T11:30:18.734Z"
   },
   {
    "duration": 328,
    "start_time": "2022-03-21T11:30:19.018Z"
   },
   {
    "duration": 235,
    "start_time": "2022-03-21T11:30:19.349Z"
   },
   {
    "duration": 14,
    "start_time": "2022-03-21T11:30:19.586Z"
   },
   {
    "duration": 326,
    "start_time": "2022-03-21T11:30:19.602Z"
   },
   {
    "duration": 25,
    "start_time": "2022-03-21T11:30:19.932Z"
   },
   {
    "duration": 19,
    "start_time": "2022-03-21T11:30:19.959Z"
   },
   {
    "duration": 271,
    "start_time": "2022-03-21T11:30:19.983Z"
   },
   {
    "duration": 327,
    "start_time": "2022-03-21T11:30:20.256Z"
   },
   {
    "duration": 246,
    "start_time": "2022-03-21T11:30:20.586Z"
   },
   {
    "duration": 7,
    "start_time": "2022-03-21T11:30:20.842Z"
   },
   {
    "duration": 9,
    "start_time": "2022-03-21T11:30:20.851Z"
   },
   {
    "duration": 256,
    "start_time": "2022-03-21T11:30:20.863Z"
   },
   {
    "duration": 23,
    "start_time": "2022-03-21T11:30:21.121Z"
   },
   {
    "duration": 31,
    "start_time": "2022-03-21T11:30:21.146Z"
   },
   {
    "duration": 106,
    "start_time": "2022-03-21T11:30:21.179Z"
   },
   {
    "duration": 485,
    "start_time": "2022-03-21T11:30:21.288Z"
   },
   {
    "duration": 13,
    "start_time": "2022-03-21T11:30:21.775Z"
   },
   {
    "duration": 484,
    "start_time": "2022-03-21T11:30:21.791Z"
   },
   {
    "duration": 503,
    "start_time": "2022-03-21T11:30:22.277Z"
   },
   {
    "duration": 508,
    "start_time": "2022-03-21T11:30:22.783Z"
   },
   {
    "duration": 561,
    "start_time": "2022-03-21T11:30:23.294Z"
   },
   {
    "duration": 17,
    "start_time": "2022-03-21T11:30:23.858Z"
   },
   {
    "duration": 11,
    "start_time": "2022-03-21T11:30:23.878Z"
   },
   {
    "duration": 534,
    "start_time": "2022-03-21T11:30:23.891Z"
   },
   {
    "duration": 7,
    "start_time": "2022-03-21T11:31:09.375Z"
   },
   {
    "duration": 5,
    "start_time": "2022-03-21T11:31:17.311Z"
   },
   {
    "duration": 8,
    "start_time": "2022-03-21T11:31:20.038Z"
   },
   {
    "duration": 290,
    "start_time": "2022-03-21T11:46:24.546Z"
   },
   {
    "duration": 75,
    "start_time": "2022-03-21T11:48:08.559Z"
   },
   {
    "duration": 130,
    "start_time": "2022-03-21T11:48:18.562Z"
   },
   {
    "duration": 940,
    "start_time": "2022-03-21T11:48:26.983Z"
   },
   {
    "duration": 207,
    "start_time": "2022-03-21T11:48:27.926Z"
   },
   {
    "duration": 123,
    "start_time": "2022-03-21T11:48:28.144Z"
   },
   {
    "duration": 51,
    "start_time": "2022-03-21T11:48:28.269Z"
   },
   {
    "duration": 41,
    "start_time": "2022-03-21T11:48:28.323Z"
   },
   {
    "duration": 18,
    "start_time": "2022-03-21T11:48:28.367Z"
   },
   {
    "duration": 11,
    "start_time": "2022-03-21T11:48:28.387Z"
   },
   {
    "duration": 53,
    "start_time": "2022-03-21T11:48:28.400Z"
   },
   {
    "duration": 31,
    "start_time": "2022-03-21T11:48:28.455Z"
   },
   {
    "duration": 55,
    "start_time": "2022-03-21T11:48:28.488Z"
   },
   {
    "duration": 8,
    "start_time": "2022-03-21T11:48:28.546Z"
   },
   {
    "duration": 16,
    "start_time": "2022-03-21T11:48:28.556Z"
   },
   {
    "duration": 16,
    "start_time": "2022-03-21T11:48:28.574Z"
   },
   {
    "duration": 393,
    "start_time": "2022-03-21T11:48:28.596Z"
   },
   {
    "duration": 551,
    "start_time": "2022-03-21T11:48:28.992Z"
   },
   {
    "duration": 298,
    "start_time": "2022-03-21T11:48:29.545Z"
   },
   {
    "duration": 246,
    "start_time": "2022-03-21T11:48:29.845Z"
   },
   {
    "duration": 24,
    "start_time": "2022-03-21T11:48:30.095Z"
   },
   {
    "duration": 305,
    "start_time": "2022-03-21T11:48:30.143Z"
   },
   {
    "duration": 234,
    "start_time": "2022-03-21T11:48:30.451Z"
   },
   {
    "duration": 157,
    "start_time": "2022-03-21T11:48:30.687Z"
   },
   {
    "duration": 276,
    "start_time": "2022-03-21T11:48:30.847Z"
   },
   {
    "duration": 262,
    "start_time": "2022-03-21T11:48:31.126Z"
   },
   {
    "duration": 322,
    "start_time": "2022-03-21T11:48:31.391Z"
   },
   {
    "duration": 237,
    "start_time": "2022-03-21T11:48:31.716Z"
   },
   {
    "duration": 15,
    "start_time": "2022-03-21T11:48:31.956Z"
   },
   {
    "duration": 295,
    "start_time": "2022-03-21T11:48:31.973Z"
   },
   {
    "duration": 17,
    "start_time": "2022-03-21T11:48:32.271Z"
   },
   {
    "duration": 25,
    "start_time": "2022-03-21T11:48:32.291Z"
   },
   {
    "duration": 307,
    "start_time": "2022-03-21T11:48:32.318Z"
   },
   {
    "duration": 257,
    "start_time": "2022-03-21T11:48:32.627Z"
   },
   {
    "duration": 248,
    "start_time": "2022-03-21T11:48:32.886Z"
   },
   {
    "duration": 12,
    "start_time": "2022-03-21T11:48:33.136Z"
   },
   {
    "duration": 12,
    "start_time": "2022-03-21T11:48:33.150Z"
   },
   {
    "duration": 466,
    "start_time": "2022-03-21T11:48:33.164Z"
   },
   {
    "duration": 12,
    "start_time": "2022-03-21T11:48:33.632Z"
   },
   {
    "duration": 31,
    "start_time": "2022-03-21T11:48:33.647Z"
   },
   {
    "duration": 17,
    "start_time": "2022-03-21T11:48:33.680Z"
   },
   {
    "duration": 524,
    "start_time": "2022-03-21T11:48:33.700Z"
   },
   {
    "duration": 24,
    "start_time": "2022-03-21T11:48:34.227Z"
   },
   {
    "duration": 525,
    "start_time": "2022-03-21T11:48:34.257Z"
   },
   {
    "duration": 528,
    "start_time": "2022-03-21T11:48:34.784Z"
   },
   {
    "duration": 530,
    "start_time": "2022-03-21T11:48:35.315Z"
   },
   {
    "duration": 620,
    "start_time": "2022-03-21T11:48:35.848Z"
   },
   {
    "duration": 17,
    "start_time": "2022-03-21T11:48:36.470Z"
   },
   {
    "duration": 12,
    "start_time": "2022-03-21T11:48:36.489Z"
   },
   {
    "duration": 635,
    "start_time": "2022-03-21T11:48:36.503Z"
   },
   {
    "duration": 205,
    "start_time": "2022-03-21T11:51:02.979Z"
   },
   {
    "duration": 191,
    "start_time": "2022-03-21T11:51:20.058Z"
   },
   {
    "duration": 190,
    "start_time": "2022-03-21T11:51:24.553Z"
   },
   {
    "duration": 139,
    "start_time": "2022-03-21T11:52:58.920Z"
   },
   {
    "duration": 947,
    "start_time": "2022-03-21T11:53:12.612Z"
   },
   {
    "duration": 164,
    "start_time": "2022-03-21T11:53:13.562Z"
   },
   {
    "duration": 121,
    "start_time": "2022-03-21T11:53:13.728Z"
   },
   {
    "duration": 36,
    "start_time": "2022-03-21T11:53:13.853Z"
   },
   {
    "duration": 15,
    "start_time": "2022-03-21T11:53:13.891Z"
   },
   {
    "duration": 44,
    "start_time": "2022-03-21T11:53:13.909Z"
   },
   {
    "duration": 11,
    "start_time": "2022-03-21T11:53:13.955Z"
   },
   {
    "duration": 30,
    "start_time": "2022-03-21T11:53:13.968Z"
   },
   {
    "duration": 66,
    "start_time": "2022-03-21T11:53:14.001Z"
   },
   {
    "duration": 24,
    "start_time": "2022-03-21T11:53:14.071Z"
   },
   {
    "duration": 5,
    "start_time": "2022-03-21T11:53:14.097Z"
   },
   {
    "duration": 11,
    "start_time": "2022-03-21T11:53:14.143Z"
   },
   {
    "duration": 9,
    "start_time": "2022-03-21T11:53:14.156Z"
   },
   {
    "duration": 704,
    "start_time": "2022-03-21T11:53:14.167Z"
   },
   {
    "duration": 550,
    "start_time": "2022-03-21T11:53:14.874Z"
   },
   {
    "duration": 283,
    "start_time": "2022-03-21T11:53:15.426Z"
   },
   {
    "duration": 240,
    "start_time": "2022-03-21T11:53:15.711Z"
   },
   {
    "duration": 20,
    "start_time": "2022-03-21T11:53:15.953Z"
   },
   {
    "duration": 285,
    "start_time": "2022-03-21T11:53:15.975Z"
   },
   {
    "duration": 221,
    "start_time": "2022-03-21T11:53:16.263Z"
   },
   {
    "duration": 17,
    "start_time": "2022-03-21T11:53:16.486Z"
   },
   {
    "duration": 257,
    "start_time": "2022-03-21T11:53:16.505Z"
   },
   {
    "duration": 218,
    "start_time": "2022-03-21T11:53:16.764Z"
   },
   {
    "duration": 163,
    "start_time": "2022-03-21T11:53:16.985Z"
   },
   {
    "duration": 238,
    "start_time": "2022-03-21T11:53:17.151Z"
   },
   {
    "duration": 298,
    "start_time": "2022-03-21T11:53:17.391Z"
   },
   {
    "duration": 225,
    "start_time": "2022-03-21T11:53:17.692Z"
   },
   {
    "duration": 22,
    "start_time": "2022-03-21T11:53:17.923Z"
   },
   {
    "duration": 274,
    "start_time": "2022-03-21T11:53:17.948Z"
   },
   {
    "duration": 30,
    "start_time": "2022-03-21T11:53:18.225Z"
   },
   {
    "duration": 11,
    "start_time": "2022-03-21T11:53:18.258Z"
   },
   {
    "duration": 292,
    "start_time": "2022-03-21T11:53:18.272Z"
   },
   {
    "duration": 261,
    "start_time": "2022-03-21T11:53:18.566Z"
   },
   {
    "duration": 315,
    "start_time": "2022-03-21T11:53:18.830Z"
   },
   {
    "duration": 8,
    "start_time": "2022-03-21T11:53:19.148Z"
   },
   {
    "duration": 7,
    "start_time": "2022-03-21T11:53:19.158Z"
   },
   {
    "duration": 264,
    "start_time": "2022-03-21T11:53:19.167Z"
   },
   {
    "duration": 15,
    "start_time": "2022-03-21T11:53:19.435Z"
   },
   {
    "duration": 44,
    "start_time": "2022-03-21T11:53:19.452Z"
   },
   {
    "duration": 50,
    "start_time": "2022-03-21T11:53:19.498Z"
   },
   {
    "duration": 465,
    "start_time": "2022-03-21T11:53:19.551Z"
   },
   {
    "duration": 13,
    "start_time": "2022-03-21T11:53:20.019Z"
   },
   {
    "duration": 517,
    "start_time": "2022-03-21T11:53:20.045Z"
   },
   {
    "duration": 532,
    "start_time": "2022-03-21T11:53:20.564Z"
   },
   {
    "duration": 555,
    "start_time": "2022-03-21T11:53:21.099Z"
   },
   {
    "duration": 761,
    "start_time": "2022-03-21T11:53:21.656Z"
   },
   {
    "duration": 35,
    "start_time": "2022-03-21T11:53:22.419Z"
   },
   {
    "duration": 11,
    "start_time": "2022-03-21T11:53:22.456Z"
   },
   {
    "duration": 499,
    "start_time": "2022-03-21T11:53:22.469Z"
   },
   {
    "duration": 170,
    "start_time": "2022-03-21T11:55:27.712Z"
   },
   {
    "duration": 159,
    "start_time": "2022-03-21T11:55:46.686Z"
   },
   {
    "duration": 121,
    "start_time": "2022-03-21T11:56:36.496Z"
   },
   {
    "duration": 123,
    "start_time": "2022-03-21T11:58:24.271Z"
   },
   {
    "duration": 991,
    "start_time": "2022-03-21T11:58:31.196Z"
   },
   {
    "duration": 165,
    "start_time": "2022-03-21T11:58:32.190Z"
   },
   {
    "duration": 119,
    "start_time": "2022-03-21T11:58:32.358Z"
   },
   {
    "duration": 33,
    "start_time": "2022-03-21T11:58:32.479Z"
   },
   {
    "duration": 38,
    "start_time": "2022-03-21T11:58:32.515Z"
   },
   {
    "duration": 11,
    "start_time": "2022-03-21T11:58:32.556Z"
   },
   {
    "duration": 19,
    "start_time": "2022-03-21T11:58:32.570Z"
   },
   {
    "duration": 54,
    "start_time": "2022-03-21T11:58:32.591Z"
   },
   {
    "duration": 31,
    "start_time": "2022-03-21T11:58:32.647Z"
   },
   {
    "duration": 67,
    "start_time": "2022-03-21T11:58:32.681Z"
   },
   {
    "duration": 8,
    "start_time": "2022-03-21T11:58:32.750Z"
   },
   {
    "duration": 20,
    "start_time": "2022-03-21T11:58:32.760Z"
   },
   {
    "duration": 25,
    "start_time": "2022-03-21T11:58:32.783Z"
   },
   {
    "duration": 356,
    "start_time": "2022-03-21T11:58:32.813Z"
   },
   {
    "duration": 498,
    "start_time": "2022-03-21T11:58:33.171Z"
   },
   {
    "duration": 291,
    "start_time": "2022-03-21T11:58:33.671Z"
   },
   {
    "duration": 293,
    "start_time": "2022-03-21T11:58:33.965Z"
   },
   {
    "duration": 20,
    "start_time": "2022-03-21T11:58:34.260Z"
   },
   {
    "duration": 290,
    "start_time": "2022-03-21T11:58:34.282Z"
   },
   {
    "duration": 217,
    "start_time": "2022-03-21T11:58:34.575Z"
   },
   {
    "duration": 17,
    "start_time": "2022-03-21T11:58:34.794Z"
   },
   {
    "duration": 264,
    "start_time": "2022-03-21T11:58:34.813Z"
   },
   {
    "duration": 225,
    "start_time": "2022-03-21T11:58:35.080Z"
   },
   {
    "duration": 163,
    "start_time": "2022-03-21T11:58:35.308Z"
   },
   {
    "duration": 235,
    "start_time": "2022-03-21T11:58:35.473Z"
   },
   {
    "duration": 183,
    "start_time": "2022-03-21T11:58:35.710Z"
   },
   {
    "duration": 156,
    "start_time": "2022-03-21T11:58:35.895Z"
   },
   {
    "duration": 295,
    "start_time": "2022-03-21T11:58:36.054Z"
   },
   {
    "duration": 212,
    "start_time": "2022-03-21T11:58:36.351Z"
   },
   {
    "duration": 12,
    "start_time": "2022-03-21T11:58:36.566Z"
   },
   {
    "duration": 280,
    "start_time": "2022-03-21T11:58:36.580Z"
   },
   {
    "duration": 15,
    "start_time": "2022-03-21T11:58:36.863Z"
   },
   {
    "duration": 15,
    "start_time": "2022-03-21T11:58:36.881Z"
   },
   {
    "duration": 304,
    "start_time": "2022-03-21T11:58:36.898Z"
   },
   {
    "duration": 327,
    "start_time": "2022-03-21T11:58:37.204Z"
   },
   {
    "duration": 252,
    "start_time": "2022-03-21T11:58:37.534Z"
   },
   {
    "duration": 8,
    "start_time": "2022-03-21T11:58:37.789Z"
   },
   {
    "duration": 8,
    "start_time": "2022-03-21T11:58:37.799Z"
   },
   {
    "duration": 261,
    "start_time": "2022-03-21T11:58:37.810Z"
   },
   {
    "duration": 11,
    "start_time": "2022-03-21T11:58:38.073Z"
   },
   {
    "duration": 56,
    "start_time": "2022-03-21T11:58:38.090Z"
   },
   {
    "duration": 16,
    "start_time": "2022-03-21T11:58:38.148Z"
   },
   {
    "duration": 463,
    "start_time": "2022-03-21T11:58:38.167Z"
   },
   {
    "duration": 23,
    "start_time": "2022-03-21T11:58:38.632Z"
   },
   {
    "duration": 536,
    "start_time": "2022-03-21T11:58:38.657Z"
   },
   {
    "duration": 613,
    "start_time": "2022-03-21T11:58:39.195Z"
   },
   {
    "duration": 647,
    "start_time": "2022-03-21T11:58:39.810Z"
   },
   {
    "duration": 839,
    "start_time": "2022-03-21T11:58:40.459Z"
   },
   {
    "duration": 22,
    "start_time": "2022-03-21T11:58:41.300Z"
   },
   {
    "duration": 30,
    "start_time": "2022-03-21T11:58:41.325Z"
   },
   {
    "duration": 593,
    "start_time": "2022-03-21T11:58:41.357Z"
   },
   {
    "duration": 78,
    "start_time": "2022-03-21T11:59:53.995Z"
   },
   {
    "duration": 74,
    "start_time": "2022-03-21T12:00:41.531Z"
   },
   {
    "duration": 942,
    "start_time": "2022-03-21T12:00:47.004Z"
   },
   {
    "duration": 170,
    "start_time": "2022-03-21T12:00:47.949Z"
   },
   {
    "duration": 171,
    "start_time": "2022-03-21T12:00:48.122Z"
   },
   {
    "duration": 67,
    "start_time": "2022-03-21T12:00:48.296Z"
   },
   {
    "duration": 26,
    "start_time": "2022-03-21T12:00:48.368Z"
   },
   {
    "duration": 11,
    "start_time": "2022-03-21T12:00:48.397Z"
   },
   {
    "duration": 38,
    "start_time": "2022-03-21T12:00:48.411Z"
   },
   {
    "duration": 28,
    "start_time": "2022-03-21T12:00:48.452Z"
   },
   {
    "duration": 63,
    "start_time": "2022-03-21T12:00:48.482Z"
   },
   {
    "duration": 25,
    "start_time": "2022-03-21T12:00:48.547Z"
   },
   {
    "duration": 6,
    "start_time": "2022-03-21T12:00:48.574Z"
   },
   {
    "duration": 17,
    "start_time": "2022-03-21T12:00:48.582Z"
   },
   {
    "duration": 6,
    "start_time": "2022-03-21T12:00:48.601Z"
   },
   {
    "duration": 364,
    "start_time": "2022-03-21T12:00:48.646Z"
   },
   {
    "duration": 502,
    "start_time": "2022-03-21T12:00:49.013Z"
   },
   {
    "duration": 277,
    "start_time": "2022-03-21T12:00:49.517Z"
   },
   {
    "duration": 225,
    "start_time": "2022-03-21T12:00:49.797Z"
   },
   {
    "duration": 31,
    "start_time": "2022-03-21T12:00:50.025Z"
   },
   {
    "duration": 289,
    "start_time": "2022-03-21T12:00:50.058Z"
   },
   {
    "duration": 219,
    "start_time": "2022-03-21T12:00:50.350Z"
   },
   {
    "duration": 17,
    "start_time": "2022-03-21T12:00:50.571Z"
   },
   {
    "duration": 257,
    "start_time": "2022-03-21T12:00:50.590Z"
   },
   {
    "duration": 236,
    "start_time": "2022-03-21T12:00:50.850Z"
   },
   {
    "duration": 160,
    "start_time": "2022-03-21T12:00:51.088Z"
   },
   {
    "duration": 260,
    "start_time": "2022-03-21T12:00:51.250Z"
   },
   {
    "duration": 187,
    "start_time": "2022-03-21T12:00:51.513Z"
   },
   {
    "duration": 7,
    "start_time": "2022-03-21T12:00:51.702Z"
   },
   {
    "duration": 101,
    "start_time": "2022-03-21T12:00:51.711Z"
   },
   {
    "duration": 290,
    "start_time": "2022-03-21T12:00:51.814Z"
   },
   {
    "duration": 221,
    "start_time": "2022-03-21T12:00:52.106Z"
   },
   {
    "duration": 23,
    "start_time": "2022-03-21T12:00:52.329Z"
   },
   {
    "duration": 280,
    "start_time": "2022-03-21T12:00:52.354Z"
   },
   {
    "duration": 20,
    "start_time": "2022-03-21T12:00:52.636Z"
   },
   {
    "duration": 13,
    "start_time": "2022-03-21T12:00:52.658Z"
   },
   {
    "duration": 307,
    "start_time": "2022-03-21T12:00:52.674Z"
   },
   {
    "duration": 315,
    "start_time": "2022-03-21T12:00:52.984Z"
   },
   {
    "duration": 246,
    "start_time": "2022-03-21T12:00:53.301Z"
   },
   {
    "duration": 8,
    "start_time": "2022-03-21T12:00:53.549Z"
   },
   {
    "duration": 8,
    "start_time": "2022-03-21T12:00:53.559Z"
   },
   {
    "duration": 261,
    "start_time": "2022-03-21T12:00:53.569Z"
   },
   {
    "duration": 14,
    "start_time": "2022-03-21T12:00:53.836Z"
   },
   {
    "duration": 30,
    "start_time": "2022-03-21T12:00:53.852Z"
   },
   {
    "duration": 16,
    "start_time": "2022-03-21T12:00:53.884Z"
   },
   {
    "duration": 463,
    "start_time": "2022-03-21T12:00:53.942Z"
   },
   {
    "duration": 13,
    "start_time": "2022-03-21T12:00:54.407Z"
   },
   {
    "duration": 481,
    "start_time": "2022-03-21T12:00:54.422Z"
   },
   {
    "duration": 501,
    "start_time": "2022-03-21T12:00:54.907Z"
   },
   {
    "duration": 491,
    "start_time": "2022-03-21T12:00:55.416Z"
   },
   {
    "duration": 617,
    "start_time": "2022-03-21T12:00:55.910Z"
   },
   {
    "duration": 27,
    "start_time": "2022-03-21T12:00:56.529Z"
   },
   {
    "duration": 11,
    "start_time": "2022-03-21T12:00:56.558Z"
   },
   {
    "duration": 487,
    "start_time": "2022-03-21T12:00:56.572Z"
   },
   {
    "duration": 193,
    "start_time": "2022-03-21T12:01:58.331Z"
   },
   {
    "duration": 160,
    "start_time": "2022-03-21T12:02:09.754Z"
   },
   {
    "duration": 74,
    "start_time": "2022-03-21T12:03:18.170Z"
   },
   {
    "duration": 1022,
    "start_time": "2022-03-21T12:03:30.476Z"
   },
   {
    "duration": 174,
    "start_time": "2022-03-21T12:03:31.501Z"
   },
   {
    "duration": 131,
    "start_time": "2022-03-21T12:03:31.678Z"
   },
   {
    "duration": 54,
    "start_time": "2022-03-21T12:03:31.812Z"
   },
   {
    "duration": 21,
    "start_time": "2022-03-21T12:03:31.869Z"
   },
   {
    "duration": 9,
    "start_time": "2022-03-21T12:03:31.895Z"
   },
   {
    "duration": 8,
    "start_time": "2022-03-21T12:03:31.943Z"
   },
   {
    "duration": 27,
    "start_time": "2022-03-21T12:03:31.953Z"
   },
   {
    "duration": 67,
    "start_time": "2022-03-21T12:03:31.983Z"
   },
   {
    "duration": 26,
    "start_time": "2022-03-21T12:03:32.054Z"
   },
   {
    "duration": 7,
    "start_time": "2022-03-21T12:03:32.082Z"
   },
   {
    "duration": 11,
    "start_time": "2022-03-21T12:03:32.091Z"
   },
   {
    "duration": 12,
    "start_time": "2022-03-21T12:03:32.144Z"
   },
   {
    "duration": 362,
    "start_time": "2022-03-21T12:03:32.159Z"
   },
   {
    "duration": 519,
    "start_time": "2022-03-21T12:03:32.524Z"
   },
   {
    "duration": 290,
    "start_time": "2022-03-21T12:03:33.045Z"
   },
   {
    "duration": 235,
    "start_time": "2022-03-21T12:03:33.338Z"
   },
   {
    "duration": 19,
    "start_time": "2022-03-21T12:03:33.576Z"
   },
   {
    "duration": 294,
    "start_time": "2022-03-21T12:03:33.598Z"
   },
   {
    "duration": 218,
    "start_time": "2022-03-21T12:03:33.894Z"
   },
   {
    "duration": 29,
    "start_time": "2022-03-21T12:03:34.114Z"
   },
   {
    "duration": 248,
    "start_time": "2022-03-21T12:03:34.145Z"
   },
   {
    "duration": 225,
    "start_time": "2022-03-21T12:03:34.396Z"
   },
   {
    "duration": 148,
    "start_time": "2022-03-21T12:03:34.623Z"
   },
   {
    "duration": 251,
    "start_time": "2022-03-21T12:03:34.773Z"
   },
   {
    "duration": 185,
    "start_time": "2022-03-21T12:03:35.027Z"
   },
   {
    "duration": 7,
    "start_time": "2022-03-21T12:03:35.214Z"
   },
   {
    "duration": 78,
    "start_time": "2022-03-21T12:03:35.245Z"
   },
   {
    "duration": 425,
    "start_time": "2022-03-21T12:03:35.325Z"
   },
   {
    "duration": 228,
    "start_time": "2022-03-21T12:03:35.753Z"
   },
   {
    "duration": 13,
    "start_time": "2022-03-21T12:03:35.984Z"
   },
   {
    "duration": 285,
    "start_time": "2022-03-21T12:03:36.000Z"
   },
   {
    "duration": 16,
    "start_time": "2022-03-21T12:03:36.287Z"
   },
   {
    "duration": 41,
    "start_time": "2022-03-21T12:03:36.305Z"
   },
   {
    "duration": 272,
    "start_time": "2022-03-21T12:03:36.349Z"
   },
   {
    "duration": 324,
    "start_time": "2022-03-21T12:03:36.624Z"
   },
   {
    "duration": 373,
    "start_time": "2022-03-21T12:03:36.951Z"
   },
   {
    "duration": 21,
    "start_time": "2022-03-21T12:03:37.326Z"
   },
   {
    "duration": 8,
    "start_time": "2022-03-21T12:03:37.349Z"
   },
   {
    "duration": 259,
    "start_time": "2022-03-21T12:03:37.360Z"
   },
   {
    "duration": 10,
    "start_time": "2022-03-21T12:03:37.621Z"
   },
   {
    "duration": 35,
    "start_time": "2022-03-21T12:03:37.644Z"
   },
   {
    "duration": 21,
    "start_time": "2022-03-21T12:03:37.681Z"
   },
   {
    "duration": 487,
    "start_time": "2022-03-21T12:03:37.704Z"
   },
   {
    "duration": 13,
    "start_time": "2022-03-21T12:03:38.193Z"
   },
   {
    "duration": 504,
    "start_time": "2022-03-21T12:03:38.209Z"
   },
   {
    "duration": 522,
    "start_time": "2022-03-21T12:03:38.715Z"
   },
   {
    "duration": 505,
    "start_time": "2022-03-21T12:03:39.243Z"
   },
   {
    "duration": 645,
    "start_time": "2022-03-21T12:03:39.751Z"
   },
   {
    "duration": 16,
    "start_time": "2022-03-21T12:03:40.398Z"
   },
   {
    "duration": 34,
    "start_time": "2022-03-21T12:03:40.416Z"
   },
   {
    "duration": 495,
    "start_time": "2022-03-21T12:03:40.452Z"
   },
   {
    "duration": 80,
    "start_time": "2022-03-21T12:11:31.910Z"
   },
   {
    "duration": 941,
    "start_time": "2022-03-21T12:12:06.390Z"
   },
   {
    "duration": 184,
    "start_time": "2022-03-21T12:12:07.334Z"
   },
   {
    "duration": 124,
    "start_time": "2022-03-21T12:12:07.520Z"
   },
   {
    "duration": 39,
    "start_time": "2022-03-21T12:12:07.647Z"
   },
   {
    "duration": 16,
    "start_time": "2022-03-21T12:12:07.689Z"
   },
   {
    "duration": 44,
    "start_time": "2022-03-21T12:12:07.707Z"
   },
   {
    "duration": 12,
    "start_time": "2022-03-21T12:12:07.754Z"
   },
   {
    "duration": 29,
    "start_time": "2022-03-21T12:12:07.768Z"
   },
   {
    "duration": 70,
    "start_time": "2022-03-21T12:12:07.800Z"
   },
   {
    "duration": 25,
    "start_time": "2022-03-21T12:12:07.874Z"
   },
   {
    "duration": 6,
    "start_time": "2022-03-21T12:12:07.901Z"
   },
   {
    "duration": 43,
    "start_time": "2022-03-21T12:12:07.909Z"
   },
   {
    "duration": 15,
    "start_time": "2022-03-21T12:12:07.954Z"
   },
   {
    "duration": 466,
    "start_time": "2022-03-21T12:12:07.971Z"
   },
   {
    "duration": 564,
    "start_time": "2022-03-21T12:12:08.439Z"
   },
   {
    "duration": 357,
    "start_time": "2022-03-21T12:12:09.005Z"
   },
   {
    "duration": 320,
    "start_time": "2022-03-21T12:12:09.364Z"
   },
   {
    "duration": 20,
    "start_time": "2022-03-21T12:12:09.687Z"
   },
   {
    "duration": 328,
    "start_time": "2022-03-21T12:12:09.709Z"
   },
   {
    "duration": 234,
    "start_time": "2022-03-21T12:12:10.043Z"
   },
   {
    "duration": 16,
    "start_time": "2022-03-21T12:12:10.280Z"
   },
   {
    "duration": 281,
    "start_time": "2022-03-21T12:12:10.299Z"
   },
   {
    "duration": 224,
    "start_time": "2022-03-21T12:12:10.583Z"
   },
   {
    "duration": 159,
    "start_time": "2022-03-21T12:12:10.810Z"
   },
   {
    "duration": 263,
    "start_time": "2022-03-21T12:12:10.972Z"
   },
   {
    "duration": 193,
    "start_time": "2022-03-21T12:12:11.238Z"
   },
   {
    "duration": 12,
    "start_time": "2022-03-21T12:12:11.433Z"
   },
   {
    "duration": 113,
    "start_time": "2022-03-21T12:12:11.452Z"
   },
   {
    "duration": 404,
    "start_time": "2022-03-21T12:12:11.568Z"
   },
   {
    "duration": 321,
    "start_time": "2022-03-21T12:12:11.976Z"
   },
   {
    "duration": 18,
    "start_time": "2022-03-21T12:12:12.301Z"
   },
   {
    "duration": 397,
    "start_time": "2022-03-21T12:12:12.322Z"
   },
   {
    "duration": 29,
    "start_time": "2022-03-21T12:12:12.721Z"
   },
   {
    "duration": 12,
    "start_time": "2022-03-21T12:12:12.752Z"
   },
   {
    "duration": 365,
    "start_time": "2022-03-21T12:12:12.766Z"
   },
   {
    "duration": 464,
    "start_time": "2022-03-21T12:12:13.133Z"
   },
   {
    "duration": 274,
    "start_time": "2022-03-21T12:12:13.600Z"
   },
   {
    "duration": 8,
    "start_time": "2022-03-21T12:12:13.877Z"
   },
   {
    "duration": 13,
    "start_time": "2022-03-21T12:12:13.888Z"
   },
   {
    "duration": 277,
    "start_time": "2022-03-21T12:12:13.903Z"
   },
   {
    "duration": 10,
    "start_time": "2022-03-21T12:12:14.182Z"
   },
   {
    "duration": 57,
    "start_time": "2022-03-21T12:12:14.194Z"
   },
   {
    "duration": 15,
    "start_time": "2022-03-21T12:12:14.253Z"
   },
   {
    "duration": 706,
    "start_time": "2022-03-21T12:12:14.270Z"
   },
   {
    "duration": 14,
    "start_time": "2022-03-21T12:12:14.979Z"
   },
   {
    "duration": 715,
    "start_time": "2022-03-21T12:12:14.995Z"
   },
   {
    "duration": 638,
    "start_time": "2022-03-21T12:12:15.714Z"
   },
   {
    "duration": 532,
    "start_time": "2022-03-21T12:12:16.356Z"
   },
   {
    "duration": 934,
    "start_time": "2022-03-21T12:12:16.891Z"
   },
   {
    "duration": 32,
    "start_time": "2022-03-21T12:12:17.828Z"
   },
   {
    "duration": 15,
    "start_time": "2022-03-21T12:12:17.863Z"
   },
   {
    "duration": 569,
    "start_time": "2022-03-21T12:12:17.882Z"
   },
   {
    "duration": 235,
    "start_time": "2022-03-21T12:13:45.958Z"
   },
   {
    "duration": 235,
    "start_time": "2022-03-21T12:15:25.653Z"
   },
   {
    "duration": 288,
    "start_time": "2022-03-21T12:15:53.958Z"
   },
   {
    "duration": 352,
    "start_time": "2022-03-21T12:16:24.199Z"
   },
   {
    "duration": 247,
    "start_time": "2022-03-21T12:27:43.910Z"
   },
   {
    "duration": 116,
    "start_time": "2022-03-21T12:29:55.365Z"
   },
   {
    "duration": 9,
    "start_time": "2022-03-21T12:30:00.933Z"
   },
   {
    "duration": 5,
    "start_time": "2022-03-21T12:30:10.581Z"
   },
   {
    "duration": 2700,
    "start_time": "2022-03-21T12:30:12.406Z"
   },
   {
    "duration": 2562,
    "start_time": "2022-03-21T12:30:31.781Z"
   },
   {
    "duration": 2767,
    "start_time": "2022-03-21T12:30:46.918Z"
   },
   {
    "duration": 2706,
    "start_time": "2022-03-21T12:31:06.494Z"
   },
   {
    "duration": 4949,
    "start_time": "2022-03-21T12:32:47.431Z"
   },
   {
    "duration": 2850,
    "start_time": "2022-03-21T12:33:52.583Z"
   },
   {
    "duration": 2527,
    "start_time": "2022-03-21T12:34:55.959Z"
   },
   {
    "duration": 7,
    "start_time": "2022-03-21T12:42:07.198Z"
   },
   {
    "duration": 2464,
    "start_time": "2022-03-21T12:43:32.903Z"
   },
   {
    "duration": 1536,
    "start_time": "2022-03-21T12:44:43.558Z"
   },
   {
    "duration": 1092,
    "start_time": "2022-03-21T13:00:23.767Z"
   },
   {
    "duration": 184,
    "start_time": "2022-03-21T13:00:24.862Z"
   },
   {
    "duration": 119,
    "start_time": "2022-03-21T13:00:25.049Z"
   },
   {
    "duration": 37,
    "start_time": "2022-03-21T13:00:25.170Z"
   },
   {
    "duration": 42,
    "start_time": "2022-03-21T13:00:25.210Z"
   },
   {
    "duration": 13,
    "start_time": "2022-03-21T13:00:25.255Z"
   },
   {
    "duration": 26,
    "start_time": "2022-03-21T13:00:25.271Z"
   },
   {
    "duration": 65,
    "start_time": "2022-03-21T13:00:25.300Z"
   },
   {
    "duration": 41,
    "start_time": "2022-03-21T13:00:25.368Z"
   },
   {
    "duration": 49,
    "start_time": "2022-03-21T13:00:25.412Z"
   },
   {
    "duration": 5,
    "start_time": "2022-03-21T13:00:25.464Z"
   },
   {
    "duration": 12,
    "start_time": "2022-03-21T13:00:25.471Z"
   },
   {
    "duration": 8,
    "start_time": "2022-03-21T13:00:25.485Z"
   },
   {
    "duration": 489,
    "start_time": "2022-03-21T13:00:25.546Z"
   },
   {
    "duration": 519,
    "start_time": "2022-03-21T13:00:26.037Z"
   },
   {
    "duration": 287,
    "start_time": "2022-03-21T13:00:26.559Z"
   },
   {
    "duration": 340,
    "start_time": "2022-03-21T13:00:26.848Z"
   },
   {
    "duration": 21,
    "start_time": "2022-03-21T13:00:27.191Z"
   },
   {
    "duration": 301,
    "start_time": "2022-03-21T13:00:27.215Z"
   },
   {
    "duration": 225,
    "start_time": "2022-03-21T13:00:27.518Z"
   },
   {
    "duration": 19,
    "start_time": "2022-03-21T13:00:27.746Z"
   },
   {
    "duration": 294,
    "start_time": "2022-03-21T13:00:27.768Z"
   },
   {
    "duration": 230,
    "start_time": "2022-03-21T13:00:28.064Z"
   },
   {
    "duration": 16,
    "start_time": "2022-03-21T13:00:28.296Z"
   },
   {
    "duration": 276,
    "start_time": "2022-03-21T13:00:28.314Z"
   },
   {
    "duration": 192,
    "start_time": "2022-03-21T13:00:28.592Z"
   },
   {
    "duration": 7,
    "start_time": "2022-03-21T13:00:28.786Z"
   },
   {
    "duration": 51,
    "start_time": "2022-03-21T13:00:28.796Z"
   },
   {
    "duration": 325,
    "start_time": "2022-03-21T13:00:28.849Z"
   },
   {
    "duration": 242,
    "start_time": "2022-03-21T13:00:29.178Z"
   },
   {
    "duration": 24,
    "start_time": "2022-03-21T13:00:29.422Z"
   },
   {
    "duration": 306,
    "start_time": "2022-03-21T13:00:29.448Z"
   },
   {
    "duration": 5,
    "start_time": "2022-03-21T13:00:29.756Z"
   },
   {
    "duration": 3156,
    "start_time": "2022-03-21T13:00:29.763Z"
   },
   {
    "duration": 25,
    "start_time": "2022-03-21T13:00:32.921Z"
   },
   {
    "duration": 288,
    "start_time": "2022-03-21T13:00:32.948Z"
   },
   {
    "duration": 251,
    "start_time": "2022-03-21T13:00:33.238Z"
   },
   {
    "duration": 246,
    "start_time": "2022-03-21T13:00:33.491Z"
   },
   {
    "duration": 8,
    "start_time": "2022-03-21T13:00:33.743Z"
   },
   {
    "duration": 11,
    "start_time": "2022-03-21T13:00:33.753Z"
   },
   {
    "duration": 365,
    "start_time": "2022-03-21T13:00:33.772Z"
   },
   {
    "duration": 14,
    "start_time": "2022-03-21T13:00:34.144Z"
   },
   {
    "duration": 43,
    "start_time": "2022-03-21T13:00:34.161Z"
   },
   {
    "duration": 52,
    "start_time": "2022-03-21T13:00:34.207Z"
   },
   {
    "duration": 484,
    "start_time": "2022-03-21T13:00:34.262Z"
   },
   {
    "duration": 17,
    "start_time": "2022-03-21T13:00:34.749Z"
   },
   {
    "duration": 613,
    "start_time": "2022-03-21T13:00:34.768Z"
   },
   {
    "duration": 511,
    "start_time": "2022-03-21T13:00:35.384Z"
   },
   {
    "duration": 498,
    "start_time": "2022-03-21T13:00:35.898Z"
   },
   {
    "duration": 563,
    "start_time": "2022-03-21T13:00:36.398Z"
   },
   {
    "duration": 1664,
    "start_time": "2022-03-21T13:00:36.963Z"
   },
   {
    "duration": 22,
    "start_time": "2022-03-21T13:00:38.630Z"
   },
   {
    "duration": 516,
    "start_time": "2022-03-21T13:00:38.654Z"
   },
   {
    "duration": 68,
    "start_time": "2022-03-21T13:02:55.985Z"
   },
   {
    "duration": 960,
    "start_time": "2022-03-21T13:03:46.202Z"
   },
   {
    "duration": 190,
    "start_time": "2022-03-21T13:03:47.165Z"
   },
   {
    "duration": 127,
    "start_time": "2022-03-21T13:03:47.358Z"
   },
   {
    "duration": 69,
    "start_time": "2022-03-21T13:03:47.488Z"
   },
   {
    "duration": 16,
    "start_time": "2022-03-21T13:03:47.561Z"
   },
   {
    "duration": 10,
    "start_time": "2022-03-21T13:03:47.580Z"
   },
   {
    "duration": 12,
    "start_time": "2022-03-21T13:03:47.593Z"
   },
   {
    "duration": 74,
    "start_time": "2022-03-21T13:03:47.607Z"
   },
   {
    "duration": 31,
    "start_time": "2022-03-21T13:03:47.683Z"
   },
   {
    "duration": 48,
    "start_time": "2022-03-21T13:03:47.716Z"
   },
   {
    "duration": 6,
    "start_time": "2022-03-21T13:03:47.766Z"
   },
   {
    "duration": 14,
    "start_time": "2022-03-21T13:03:47.774Z"
   },
   {
    "duration": 53,
    "start_time": "2022-03-21T13:03:47.790Z"
   },
   {
    "duration": 374,
    "start_time": "2022-03-21T13:03:47.848Z"
   },
   {
    "duration": 527,
    "start_time": "2022-03-21T13:03:48.225Z"
   },
   {
    "duration": 288,
    "start_time": "2022-03-21T13:03:48.755Z"
   },
   {
    "duration": 262,
    "start_time": "2022-03-21T13:03:49.046Z"
   },
   {
    "duration": 40,
    "start_time": "2022-03-21T13:03:49.310Z"
   },
   {
    "duration": 273,
    "start_time": "2022-03-21T13:03:49.352Z"
   },
   {
    "duration": 210,
    "start_time": "2022-03-21T13:03:49.627Z"
   },
   {
    "duration": 16,
    "start_time": "2022-03-21T13:03:49.842Z"
   },
   {
    "duration": 261,
    "start_time": "2022-03-21T13:03:49.860Z"
   },
   {
    "duration": 217,
    "start_time": "2022-03-21T13:03:50.123Z"
   },
   {
    "duration": 16,
    "start_time": "2022-03-21T13:03:50.342Z"
   },
   {
    "duration": 272,
    "start_time": "2022-03-21T13:03:50.361Z"
   },
   {
    "duration": 270,
    "start_time": "2022-03-21T13:03:50.642Z"
   },
   {
    "duration": 7,
    "start_time": "2022-03-21T13:03:50.914Z"
   },
   {
    "duration": 18,
    "start_time": "2022-03-21T13:03:50.942Z"
   },
   {
    "duration": 307,
    "start_time": "2022-03-21T13:03:50.963Z"
   },
   {
    "duration": 229,
    "start_time": "2022-03-21T13:03:51.272Z"
   },
   {
    "duration": 16,
    "start_time": "2022-03-21T13:03:51.504Z"
   },
   {
    "duration": 424,
    "start_time": "2022-03-21T13:03:51.522Z"
   },
   {
    "duration": 7,
    "start_time": "2022-03-21T13:03:51.948Z"
   },
   {
    "duration": 2619,
    "start_time": "2022-03-21T13:03:51.958Z"
   },
   {
    "duration": 13,
    "start_time": "2022-03-21T13:03:54.580Z"
   },
   {
    "duration": 315,
    "start_time": "2022-03-21T13:03:54.595Z"
   },
   {
    "duration": 277,
    "start_time": "2022-03-21T13:03:54.913Z"
   },
   {
    "duration": 268,
    "start_time": "2022-03-21T13:03:55.192Z"
   },
   {
    "duration": 10,
    "start_time": "2022-03-21T13:03:55.464Z"
   },
   {
    "duration": 48,
    "start_time": "2022-03-21T13:03:55.477Z"
   },
   {
    "duration": 358,
    "start_time": "2022-03-21T13:03:55.534Z"
   },
   {
    "duration": 15,
    "start_time": "2022-03-21T13:03:55.895Z"
   },
   {
    "duration": 58,
    "start_time": "2022-03-21T13:03:55.913Z"
   },
   {
    "duration": 16,
    "start_time": "2022-03-21T13:03:55.974Z"
   },
   {
    "duration": 517,
    "start_time": "2022-03-21T13:03:55.993Z"
   },
   {
    "duration": 31,
    "start_time": "2022-03-21T13:03:56.512Z"
   },
   {
    "duration": 600,
    "start_time": "2022-03-21T13:03:56.545Z"
   },
   {
    "duration": 767,
    "start_time": "2022-03-21T13:03:57.148Z"
   },
   {
    "duration": 526,
    "start_time": "2022-03-21T13:03:57.918Z"
   },
   {
    "duration": 699,
    "start_time": "2022-03-21T13:03:58.446Z"
   },
   {
    "duration": 1772,
    "start_time": "2022-03-21T13:03:59.148Z"
   },
   {
    "duration": 24,
    "start_time": "2022-03-21T13:04:00.923Z"
   },
   {
    "duration": 526,
    "start_time": "2022-03-21T13:04:00.950Z"
   }
  ],
  "kernelspec": {
   "display_name": "Python 3 (ipykernel)",
   "language": "python",
   "name": "python3"
  },
  "language_info": {
   "codemirror_mode": {
    "name": "ipython",
    "version": 3
   },
   "file_extension": ".py",
   "mimetype": "text/x-python",
   "name": "python",
   "nbconvert_exporter": "python",
   "pygments_lexer": "ipython3",
   "version": "3.9.7"
  },
  "toc": {
   "base_numbering": 1,
   "nav_menu": {},
   "number_sections": true,
   "sideBar": true,
   "skip_h1_title": true,
   "title_cell": "Содержание",
   "title_sidebar": "Contents",
   "toc_cell": true,
   "toc_position": {
    "height": "calc(100% - 180px)",
    "left": "10px",
    "top": "150px",
    "width": "366.188px"
   },
   "toc_section_display": true,
   "toc_window_display": true
  }
 },
 "nbformat": 4,
 "nbformat_minor": 4
}

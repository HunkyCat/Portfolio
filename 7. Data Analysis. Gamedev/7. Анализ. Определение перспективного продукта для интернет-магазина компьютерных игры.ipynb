{
 "cells": [
  {
   "cell_type": "markdown",
   "id": "90f9efe6",
   "metadata": {
    "toc": true
   },
   "source": [
    "<h1>Содержание<span class=\"tocSkip\"></span></h1>\n",
    "<div class=\"toc\"><ul class=\"toc-item\"><li><span><a href=\"#Обзор-данных\" data-toc-modified-id=\"Обзор-данных-1\"><span class=\"toc-item-num\">1&nbsp;&nbsp;</span>Обзор данных</a></span></li><li><span><a href=\"#Предобработка-данных\" data-toc-modified-id=\"Предобработка-данных-2\"><span class=\"toc-item-num\">2&nbsp;&nbsp;</span>Предобработка данных</a></span></li><li><span><a href=\"#Шаг-3.-Исследовательский-анализ-данных\" data-toc-modified-id=\"Шаг-3.-Исследовательский-анализ-данных-3\"><span class=\"toc-item-num\">3&nbsp;&nbsp;</span>Шаг 3. Исследовательский анализ данных</a></span><ul class=\"toc-item\"><li><span><a href=\"#Сколько-лет-актуальна-платформа\" data-toc-modified-id=\"Сколько-лет-актуальна-платформа-3.1\"><span class=\"toc-item-num\">3.1&nbsp;&nbsp;</span>Сколько лет актуальна платформа</a></span></li><li><span><a href=\"#Влияние-отзывов-критиков-и-пользователей-на-продажи\" data-toc-modified-id=\"Влияние-отзывов-критиков-и-пользователей-на-продажи-3.2\"><span class=\"toc-item-num\">3.2&nbsp;&nbsp;</span>Влияние отзывов критиков и пользователей на продажи</a></span></li><li><span><a href=\"#Влияние-жанра-на-кол-во-продаж\" data-toc-modified-id=\"Влияние-жанра-на-кол-во-продаж-3.3\"><span class=\"toc-item-num\">3.3&nbsp;&nbsp;</span>Влияние жанра на кол-во продаж</a></span></li></ul></li><li><span><a href=\"#Шаг-4.-Портрет-пользователя-каждого-региона\" data-toc-modified-id=\"Шаг-4.-Портрет-пользователя-каждого-региона-4\"><span class=\"toc-item-num\">4&nbsp;&nbsp;</span>Шаг 4. Портрет пользователя каждого региона</a></span><ul class=\"toc-item\"><li><span><a href=\"#Портрет-пользователя-из-Северной-Америки\" data-toc-modified-id=\"Портрет-пользователя-из-Северной-Америки-4.1\"><span class=\"toc-item-num\">4.1&nbsp;&nbsp;</span>Портрет пользователя из Северной Америки</a></span></li><li><span><a href=\"#Портрет-пользователя-из-Европы\" data-toc-modified-id=\"Портрет-пользователя-из-Европы-4.2\"><span class=\"toc-item-num\">4.2&nbsp;&nbsp;</span>Портрет пользователя из Европы</a></span></li><li><span><a href=\"#Портрет-пользователя-из-Японии\" data-toc-modified-id=\"Портрет-пользователя-из-Японии-4.3\"><span class=\"toc-item-num\">4.3&nbsp;&nbsp;</span>Портрет пользователя из Японии</a></span></li><li><span><a href=\"#Сравнение-пользователей-из-разные-регионов\" data-toc-modified-id=\"Сравнение-пользователей-из-разные-регионов-4.4\"><span class=\"toc-item-num\">4.4&nbsp;&nbsp;</span>Сравнение пользователей из разные регионов</a></span></li></ul></li><li><span><a href=\"#Шаг-5.-Проверка-гипотез\" data-toc-modified-id=\"Шаг-5.-Проверка-гипотез-5\"><span class=\"toc-item-num\">5&nbsp;&nbsp;</span>Шаг 5. Проверка гипотез</a></span><ul class=\"toc-item\"><li><span><a href=\"#Гипотеза-1.-Средние-пользовательские-рейтинги-платформ-Xbox-One-и-PC-одинаковые\" data-toc-modified-id=\"Гипотеза-1.-Средние-пользовательские-рейтинги-платформ-Xbox-One-и-PC-одинаковые-5.1\"><span class=\"toc-item-num\">5.1&nbsp;&nbsp;</span>Гипотеза 1. Средние пользовательские рейтинги платформ Xbox One и PC одинаковые</a></span></li><li><span><a href=\"#Гипотеза-2.-Средние-пользовательские-рейтинги-жанров-Action-(англ.-«действие»,-экшен-игры)-и-Sports-(англ.-«спортивные-соревнования»)-разные\" data-toc-modified-id=\"Гипотеза-2.-Средние-пользовательские-рейтинги-жанров-Action-(англ.-«действие»,-экшен-игры)-и-Sports-(англ.-«спортивные-соревнования»)-разные-5.2\"><span class=\"toc-item-num\">5.2&nbsp;&nbsp;</span>Гипотеза 2. Средние пользовательские рейтинги жанров Action (англ. «действие», экшен-игры) и Sports (англ. «спортивные соревнования») разные</a></span></li></ul></li><li><span><a href=\"#Общие-выводы:\" data-toc-modified-id=\"Общие-выводы:-6\"><span class=\"toc-item-num\">6&nbsp;&nbsp;</span>Общие выводы:</a></span></li></ul></div>"
   ]
  },
  {
   "cell_type": "markdown",
   "id": "0a9224d2",
   "metadata": {},
   "source": [
    "# Определение перспективного продукта для интернет-магазина компьютерных игры"
   ]
  },
  {
   "cell_type": "markdown",
   "id": "7b80f75c",
   "metadata": {},
   "source": [
    "Интернет-магазину, который продает компьютерные игры по всему миру, необходимо обнаружить факторы, влияющие на популярность игр. Это поможет сделать ставку на потенциально популярынй продукт в следующем году и спланировать рекламные компании."
   ]
  },
  {
   "cell_type": "markdown",
   "id": "2e94f46d",
   "metadata": {},
   "source": [
    "**Цель исследования:**\n",
    "\n",
    "* Определить потенциально популярный продукт в следующем году (2017) на основе данных за прошлые годы. \n",
    "* Составить портрет пользователей из Северной Америки, Европы, Японии.\n",
    "* Проверить две гепотизы: \n",
    "        * Средние пользовательские рейтинги платформ Xbox One и PC одинаковые\" \n",
    "        * Cредние пользовательские рейтинги жанров Action и Sports разные\""
   ]
  },
  {
   "cell_type": "markdown",
   "id": "a5bb92b5",
   "metadata": {},
   "source": [
    "**Ход исследования:** \n",
    "\n",
    "Данные об играх, их продажах и оценках находятся в датасете `games`. Прежде чем присупить к анализу, необходимо проверить датасеты на наличие пропусков или аномальных данных."
   ]
  },
  {
   "cell_type": "markdown",
   "id": "692b416f",
   "metadata": {},
   "source": [
    "**План работы:**\n",
    "* Обзор данных\n",
    "* Предобработка данных\n",
    "* Исследовательский анализ данных\n",
    "* Портрет пользователя каждого региона\n",
    "* Проверка гипотез\n",
    "* Общие выводы"
   ]
  },
  {
   "cell_type": "markdown",
   "id": "bd99dec5",
   "metadata": {},
   "source": [
    "## Обзор данных"
   ]
  },
  {
   "cell_type": "code",
   "execution_count": 1,
   "id": "d3c83ad7",
   "metadata": {},
   "outputs": [],
   "source": [
    "import pandas as pd\n",
    "import numpy as np\n",
    "import plotly\n",
    "import plotly.express as px \n",
    "import matplotlib.pyplot as plt\n",
    "from scipy import stats as st\n",
    "import plotly.graph_objects as go\n",
    "from plotly.subplots import make_subplots"
   ]
  },
  {
   "cell_type": "code",
   "execution_count": 2,
   "id": "0ed3f4c2",
   "metadata": {},
   "outputs": [],
   "source": [
    "games = pd.read_csv('/datasets/games.csv')"
   ]
  },
  {
   "cell_type": "code",
   "execution_count": 3,
   "id": "4435dcf1",
   "metadata": {
    "scrolled": false
   },
   "outputs": [
    {
     "data": {
      "text/html": [
       "<div>\n",
       "<style scoped>\n",
       "    .dataframe tbody tr th:only-of-type {\n",
       "        vertical-align: middle;\n",
       "    }\n",
       "\n",
       "    .dataframe tbody tr th {\n",
       "        vertical-align: top;\n",
       "    }\n",
       "\n",
       "    .dataframe thead th {\n",
       "        text-align: right;\n",
       "    }\n",
       "</style>\n",
       "<table border=\"1\" class=\"dataframe\">\n",
       "  <thead>\n",
       "    <tr style=\"text-align: right;\">\n",
       "      <th></th>\n",
       "      <th>Name</th>\n",
       "      <th>Platform</th>\n",
       "      <th>Year_of_Release</th>\n",
       "      <th>Genre</th>\n",
       "      <th>NA_sales</th>\n",
       "      <th>EU_sales</th>\n",
       "      <th>JP_sales</th>\n",
       "      <th>Other_sales</th>\n",
       "      <th>Critic_Score</th>\n",
       "      <th>User_Score</th>\n",
       "      <th>Rating</th>\n",
       "    </tr>\n",
       "  </thead>\n",
       "  <tbody>\n",
       "    <tr>\n",
       "      <th>0</th>\n",
       "      <td>Wii Sports</td>\n",
       "      <td>Wii</td>\n",
       "      <td>2006.0</td>\n",
       "      <td>Sports</td>\n",
       "      <td>41.36</td>\n",
       "      <td>28.96</td>\n",
       "      <td>3.77</td>\n",
       "      <td>8.45</td>\n",
       "      <td>76.0</td>\n",
       "      <td>8</td>\n",
       "      <td>E</td>\n",
       "    </tr>\n",
       "    <tr>\n",
       "      <th>1</th>\n",
       "      <td>Super Mario Bros.</td>\n",
       "      <td>NES</td>\n",
       "      <td>1985.0</td>\n",
       "      <td>Platform</td>\n",
       "      <td>29.08</td>\n",
       "      <td>3.58</td>\n",
       "      <td>6.81</td>\n",
       "      <td>0.77</td>\n",
       "      <td>NaN</td>\n",
       "      <td>NaN</td>\n",
       "      <td>NaN</td>\n",
       "    </tr>\n",
       "    <tr>\n",
       "      <th>2</th>\n",
       "      <td>Mario Kart Wii</td>\n",
       "      <td>Wii</td>\n",
       "      <td>2008.0</td>\n",
       "      <td>Racing</td>\n",
       "      <td>15.68</td>\n",
       "      <td>12.76</td>\n",
       "      <td>3.79</td>\n",
       "      <td>3.29</td>\n",
       "      <td>82.0</td>\n",
       "      <td>8.3</td>\n",
       "      <td>E</td>\n",
       "    </tr>\n",
       "    <tr>\n",
       "      <th>3</th>\n",
       "      <td>Wii Sports Resort</td>\n",
       "      <td>Wii</td>\n",
       "      <td>2009.0</td>\n",
       "      <td>Sports</td>\n",
       "      <td>15.61</td>\n",
       "      <td>10.93</td>\n",
       "      <td>3.28</td>\n",
       "      <td>2.95</td>\n",
       "      <td>80.0</td>\n",
       "      <td>8</td>\n",
       "      <td>E</td>\n",
       "    </tr>\n",
       "    <tr>\n",
       "      <th>4</th>\n",
       "      <td>Pokemon Red/Pokemon Blue</td>\n",
       "      <td>GB</td>\n",
       "      <td>1996.0</td>\n",
       "      <td>Role-Playing</td>\n",
       "      <td>11.27</td>\n",
       "      <td>8.89</td>\n",
       "      <td>10.22</td>\n",
       "      <td>1.00</td>\n",
       "      <td>NaN</td>\n",
       "      <td>NaN</td>\n",
       "      <td>NaN</td>\n",
       "    </tr>\n",
       "  </tbody>\n",
       "</table>\n",
       "</div>"
      ],
      "text/plain": [
       "                       Name Platform  Year_of_Release         Genre  NA_sales  \\\n",
       "0                Wii Sports      Wii           2006.0        Sports     41.36   \n",
       "1         Super Mario Bros.      NES           1985.0      Platform     29.08   \n",
       "2            Mario Kart Wii      Wii           2008.0        Racing     15.68   \n",
       "3         Wii Sports Resort      Wii           2009.0        Sports     15.61   \n",
       "4  Pokemon Red/Pokemon Blue       GB           1996.0  Role-Playing     11.27   \n",
       "\n",
       "   EU_sales  JP_sales  Other_sales  Critic_Score User_Score Rating  \n",
       "0     28.96      3.77         8.45          76.0          8      E  \n",
       "1      3.58      6.81         0.77           NaN        NaN    NaN  \n",
       "2     12.76      3.79         3.29          82.0        8.3      E  \n",
       "3     10.93      3.28         2.95          80.0          8      E  \n",
       "4      8.89     10.22         1.00           NaN        NaN    NaN  "
      ]
     },
     "metadata": {},
     "output_type": "display_data"
    },
    {
     "name": "stdout",
     "output_type": "stream",
     "text": [
      "<class 'pandas.core.frame.DataFrame'>\n",
      "RangeIndex: 16715 entries, 0 to 16714\n",
      "Data columns (total 11 columns):\n",
      " #   Column           Non-Null Count  Dtype  \n",
      "---  ------           --------------  -----  \n",
      " 0   Name             16713 non-null  object \n",
      " 1   Platform         16715 non-null  object \n",
      " 2   Year_of_Release  16446 non-null  float64\n",
      " 3   Genre            16713 non-null  object \n",
      " 4   NA_sales         16715 non-null  float64\n",
      " 5   EU_sales         16715 non-null  float64\n",
      " 6   JP_sales         16715 non-null  float64\n",
      " 7   Other_sales      16715 non-null  float64\n",
      " 8   Critic_Score     8137 non-null   float64\n",
      " 9   User_Score       10014 non-null  object \n",
      " 10  Rating           9949 non-null   object \n",
      "dtypes: float64(6), object(5)\n",
      "memory usage: 1.4+ MB\n"
     ]
    },
    {
     "data": {
      "text/html": [
       "<div>\n",
       "<style scoped>\n",
       "    .dataframe tbody tr th:only-of-type {\n",
       "        vertical-align: middle;\n",
       "    }\n",
       "\n",
       "    .dataframe tbody tr th {\n",
       "        vertical-align: top;\n",
       "    }\n",
       "\n",
       "    .dataframe thead th {\n",
       "        text-align: right;\n",
       "    }\n",
       "</style>\n",
       "<table border=\"1\" class=\"dataframe\">\n",
       "  <thead>\n",
       "    <tr style=\"text-align: right;\">\n",
       "      <th></th>\n",
       "      <th>Year_of_Release</th>\n",
       "      <th>NA_sales</th>\n",
       "      <th>EU_sales</th>\n",
       "      <th>JP_sales</th>\n",
       "      <th>Other_sales</th>\n",
       "      <th>Critic_Score</th>\n",
       "    </tr>\n",
       "  </thead>\n",
       "  <tbody>\n",
       "    <tr>\n",
       "      <th>count</th>\n",
       "      <td>16446.000000</td>\n",
       "      <td>16715.000000</td>\n",
       "      <td>16715.000000</td>\n",
       "      <td>16715.000000</td>\n",
       "      <td>16715.000000</td>\n",
       "      <td>8137.000000</td>\n",
       "    </tr>\n",
       "    <tr>\n",
       "      <th>mean</th>\n",
       "      <td>2006.484616</td>\n",
       "      <td>0.263377</td>\n",
       "      <td>0.145060</td>\n",
       "      <td>0.077617</td>\n",
       "      <td>0.047342</td>\n",
       "      <td>68.967679</td>\n",
       "    </tr>\n",
       "    <tr>\n",
       "      <th>std</th>\n",
       "      <td>5.877050</td>\n",
       "      <td>0.813604</td>\n",
       "      <td>0.503339</td>\n",
       "      <td>0.308853</td>\n",
       "      <td>0.186731</td>\n",
       "      <td>13.938165</td>\n",
       "    </tr>\n",
       "    <tr>\n",
       "      <th>min</th>\n",
       "      <td>1980.000000</td>\n",
       "      <td>0.000000</td>\n",
       "      <td>0.000000</td>\n",
       "      <td>0.000000</td>\n",
       "      <td>0.000000</td>\n",
       "      <td>13.000000</td>\n",
       "    </tr>\n",
       "    <tr>\n",
       "      <th>25%</th>\n",
       "      <td>2003.000000</td>\n",
       "      <td>0.000000</td>\n",
       "      <td>0.000000</td>\n",
       "      <td>0.000000</td>\n",
       "      <td>0.000000</td>\n",
       "      <td>60.000000</td>\n",
       "    </tr>\n",
       "    <tr>\n",
       "      <th>50%</th>\n",
       "      <td>2007.000000</td>\n",
       "      <td>0.080000</td>\n",
       "      <td>0.020000</td>\n",
       "      <td>0.000000</td>\n",
       "      <td>0.010000</td>\n",
       "      <td>71.000000</td>\n",
       "    </tr>\n",
       "    <tr>\n",
       "      <th>75%</th>\n",
       "      <td>2010.000000</td>\n",
       "      <td>0.240000</td>\n",
       "      <td>0.110000</td>\n",
       "      <td>0.040000</td>\n",
       "      <td>0.030000</td>\n",
       "      <td>79.000000</td>\n",
       "    </tr>\n",
       "    <tr>\n",
       "      <th>max</th>\n",
       "      <td>2016.000000</td>\n",
       "      <td>41.360000</td>\n",
       "      <td>28.960000</td>\n",
       "      <td>10.220000</td>\n",
       "      <td>10.570000</td>\n",
       "      <td>98.000000</td>\n",
       "    </tr>\n",
       "  </tbody>\n",
       "</table>\n",
       "</div>"
      ],
      "text/plain": [
       "       Year_of_Release      NA_sales      EU_sales      JP_sales  \\\n",
       "count     16446.000000  16715.000000  16715.000000  16715.000000   \n",
       "mean       2006.484616      0.263377      0.145060      0.077617   \n",
       "std           5.877050      0.813604      0.503339      0.308853   \n",
       "min        1980.000000      0.000000      0.000000      0.000000   \n",
       "25%        2003.000000      0.000000      0.000000      0.000000   \n",
       "50%        2007.000000      0.080000      0.020000      0.000000   \n",
       "75%        2010.000000      0.240000      0.110000      0.040000   \n",
       "max        2016.000000     41.360000     28.960000     10.220000   \n",
       "\n",
       "        Other_sales  Critic_Score  \n",
       "count  16715.000000   8137.000000  \n",
       "mean       0.047342     68.967679  \n",
       "std        0.186731     13.938165  \n",
       "min        0.000000     13.000000  \n",
       "25%        0.000000     60.000000  \n",
       "50%        0.010000     71.000000  \n",
       "75%        0.030000     79.000000  \n",
       "max       10.570000     98.000000  "
      ]
     },
     "execution_count": 3,
     "metadata": {},
     "output_type": "execute_result"
    }
   ],
   "source": [
    "display(games.head())\n",
    "games.info()\n",
    "games.describe()"
   ]
  },
  {
   "cell_type": "markdown",
   "id": "dc45e10f",
   "metadata": {},
   "source": [
    "Для удобства переведем тип данных в `Year_of_release, Critic_score, User_Score` в `int`\n",
    "\n",
    "Приведем все названия стобцом в нижний регистр\n",
    "\n",
    "Каких-то аномальных значений пока не наблюдается, но очевидно, что пропуски есть. \n"
   ]
  },
  {
   "cell_type": "code",
   "execution_count": 4,
   "id": "b46cda19",
   "metadata": {},
   "outputs": [],
   "source": [
    "games.columns = games.columns.str.lower()"
   ]
  },
  {
   "cell_type": "code",
   "execution_count": 5,
   "id": "9572d0f4",
   "metadata": {},
   "outputs": [
    {
     "data": {
      "text/plain": [
       "name                  2\n",
       "platform              0\n",
       "year_of_release     269\n",
       "genre                 2\n",
       "na_sales              0\n",
       "eu_sales              0\n",
       "jp_sales              0\n",
       "other_sales           0\n",
       "critic_score       8578\n",
       "user_score         6701\n",
       "rating             6766\n",
       "dtype: int64"
      ]
     },
     "execution_count": 5,
     "metadata": {},
     "output_type": "execute_result"
    }
   ],
   "source": [
    "games.isna().sum()"
   ]
  },
  {
   "cell_type": "markdown",
   "id": "0ca5a232",
   "metadata": {},
   "source": [
    "Пропусков в стобцах `name` и `genre` всего 2, их нужно будет обработать.\n",
    "\n",
    "Также есть 269 пропусков и в `year_of_release`.\n",
    "\n",
    "А вот пропусков в `critic_score, user_score, rating` много. Скорее всего, это связано с тем, что информация о некоторых играх сохранилась, но вот играть в них никто не хочет, либо, по техническим причинам, не может. Поэтому и рейтинги ставить некому."
   ]
  },
  {
   "cell_type": "markdown",
   "id": "4eb79427",
   "metadata": {},
   "source": [
    "Узнаем, нет ли повторов:"
   ]
  },
  {
   "cell_type": "code",
   "execution_count": 6,
   "id": "9c85c3d5",
   "metadata": {
    "scrolled": true
   },
   "outputs": [
    {
     "data": {
      "text/plain": [
       "0"
      ]
     },
     "execution_count": 6,
     "metadata": {},
     "output_type": "execute_result"
    }
   ],
   "source": [
    "games.duplicated().sum()"
   ]
  },
  {
   "cell_type": "markdown",
   "id": "11876c67",
   "metadata": {},
   "source": [
    "Посмотрим на все уникальные значения, чтобы проверить нет ли в них ошибок, аномальных значений или неочевидных дубликатов:"
   ]
  },
  {
   "cell_type": "code",
   "execution_count": 7,
   "id": "56edf65d",
   "metadata": {
    "scrolled": false
   },
   "outputs": [
    {
     "name": "stdout",
     "output_type": "stream",
     "text": [
      "['8' nan '8.3' '8.5' '6.6' '8.4' '8.6' '7.7' '6.3' '7.4' '8.2' '9' '7.9'\n",
      " '8.1' '8.7' '7.1' '3.4' '5.3' '4.8' '3.2' '8.9' '6.4' '7.8' '7.5' '2.6'\n",
      " '7.2' '9.2' '7' '7.3' '4.3' '7.6' '5.7' '5' '9.1' '6.5' 'tbd' '8.8' '6.9'\n",
      " '9.4' '6.8' '6.1' '6.7' '5.4' '4' '4.9' '4.5' '9.3' '6.2' '4.2' '6' '3.7'\n",
      " '4.1' '5.8' '5.6' '5.5' '4.4' '4.6' '5.9' '3.9' '3.1' '2.9' '5.2' '3.3'\n",
      " '4.7' '5.1' '3.5' '2.5' '1.9' '3' '2.7' '2.2' '2' '9.5' '2.1' '3.6' '2.8'\n",
      " '1.8' '3.8' '0' '1.6' '9.6' '2.4' '1.7' '1.1' '0.3' '1.5' '0.7' '1.2'\n",
      " '2.3' '0.5' '1.3' '0.2' '0.6' '1.4' '0.9' '1' '9.7']\n",
      "['Wii' 'NES' 'GB' 'DS' 'X360' 'PS3' 'PS2' 'SNES' 'GBA' 'PS4' '3DS' 'N64'\n",
      " 'PS' 'XB' 'PC' '2600' 'PSP' 'XOne' 'WiiU' 'GC' 'GEN' 'DC' 'PSV' 'SAT'\n",
      " 'SCD' 'WS' 'NG' 'TG16' '3DO' 'GG' 'PCFX']\n",
      "[2006. 1985. 2008. 2009. 1996. 1989. 1984. 2005. 1999. 2007. 2010. 2013.\n",
      " 2004. 1990. 1988. 2002. 2001. 2011. 1998. 2015. 2012. 2014. 1992. 1997.\n",
      " 1993. 1994. 1982. 2016. 2003. 1986. 2000.   nan 1995. 1991. 1981. 1987.\n",
      " 1980. 1983.]\n",
      "['Sports' 'Platform' 'Racing' 'Role-Playing' 'Puzzle' 'Misc' 'Shooter'\n",
      " 'Simulation' 'Action' 'Fighting' 'Adventure' 'Strategy' nan]\n",
      "[76. nan 82. 80. 89. 58. 87. 91. 61. 97. 95. 77. 88. 83. 94. 93. 85. 86.\n",
      " 98. 96. 90. 84. 73. 74. 78. 92. 71. 72. 68. 62. 49. 67. 81. 66. 56. 79.\n",
      " 70. 59. 64. 75. 60. 63. 69. 50. 25. 42. 44. 55. 48. 57. 29. 47. 65. 54.\n",
      " 20. 53. 37. 38. 33. 52. 30. 32. 43. 45. 51. 40. 46. 39. 34. 35. 41. 36.\n",
      " 28. 31. 27. 26. 19. 23. 24. 21. 17. 22. 13.]\n"
     ]
    },
    {
     "data": {
      "text/plain": [
       "array(['E', nan, 'M', 'T', 'E10+', 'K-A', 'AO', 'EC', 'RP'], dtype=object)"
      ]
     },
     "execution_count": 7,
     "metadata": {},
     "output_type": "execute_result"
    }
   ],
   "source": [
    "print(games['user_score'].unique())\n",
    "print(games['platform'].unique())\n",
    "print(games['year_of_release'].unique())\n",
    "print(games['genre'].unique())\n",
    "print(games['critic_score'].unique())\n",
    "games['rating'].unique()"
   ]
  },
  {
   "cell_type": "markdown",
   "id": "42a0224e",
   "metadata": {},
   "source": [
    "Все данные в норме, кроме одного выделяющегося значения в столбце `user_score`  - \"tbd\" (to be decided). Это значит, что данных для определения рейтинга слишком мало.\n",
    "\n",
    "Взглянем на игры с еще неопределенным рейтингом:"
   ]
  },
  {
   "cell_type": "code",
   "execution_count": 8,
   "id": "c9ece36e",
   "metadata": {},
   "outputs": [
    {
     "data": {
      "text/html": [
       "<div>\n",
       "<style scoped>\n",
       "    .dataframe tbody tr th:only-of-type {\n",
       "        vertical-align: middle;\n",
       "    }\n",
       "\n",
       "    .dataframe tbody tr th {\n",
       "        vertical-align: top;\n",
       "    }\n",
       "\n",
       "    .dataframe thead th {\n",
       "        text-align: right;\n",
       "    }\n",
       "</style>\n",
       "<table border=\"1\" class=\"dataframe\">\n",
       "  <thead>\n",
       "    <tr style=\"text-align: right;\">\n",
       "      <th></th>\n",
       "      <th>year_of_release</th>\n",
       "      <th>na_sales</th>\n",
       "      <th>eu_sales</th>\n",
       "      <th>jp_sales</th>\n",
       "      <th>other_sales</th>\n",
       "      <th>critic_score</th>\n",
       "    </tr>\n",
       "  </thead>\n",
       "  <tbody>\n",
       "    <tr>\n",
       "      <th>count</th>\n",
       "      <td>2376.000000</td>\n",
       "      <td>2424.000000</td>\n",
       "      <td>2424.000000</td>\n",
       "      <td>2424.000000</td>\n",
       "      <td>2424.000000</td>\n",
       "      <td>1082.000000</td>\n",
       "    </tr>\n",
       "    <tr>\n",
       "      <th>mean</th>\n",
       "      <td>2007.450337</td>\n",
       "      <td>0.126052</td>\n",
       "      <td>0.043519</td>\n",
       "      <td>0.002727</td>\n",
       "      <td>0.015862</td>\n",
       "      <td>60.711645</td>\n",
       "    </tr>\n",
       "    <tr>\n",
       "      <th>std</th>\n",
       "      <td>3.484229</td>\n",
       "      <td>0.180586</td>\n",
       "      <td>0.111412</td>\n",
       "      <td>0.026136</td>\n",
       "      <td>0.039156</td>\n",
       "      <td>11.193035</td>\n",
       "    </tr>\n",
       "    <tr>\n",
       "      <th>min</th>\n",
       "      <td>1997.000000</td>\n",
       "      <td>0.000000</td>\n",
       "      <td>0.000000</td>\n",
       "      <td>0.000000</td>\n",
       "      <td>0.000000</td>\n",
       "      <td>23.000000</td>\n",
       "    </tr>\n",
       "    <tr>\n",
       "      <th>25%</th>\n",
       "      <td>2005.000000</td>\n",
       "      <td>0.030000</td>\n",
       "      <td>0.000000</td>\n",
       "      <td>0.000000</td>\n",
       "      <td>0.000000</td>\n",
       "      <td>54.000000</td>\n",
       "    </tr>\n",
       "    <tr>\n",
       "      <th>50%</th>\n",
       "      <td>2008.000000</td>\n",
       "      <td>0.075000</td>\n",
       "      <td>0.010000</td>\n",
       "      <td>0.000000</td>\n",
       "      <td>0.010000</td>\n",
       "      <td>62.000000</td>\n",
       "    </tr>\n",
       "    <tr>\n",
       "      <th>75%</th>\n",
       "      <td>2010.000000</td>\n",
       "      <td>0.150000</td>\n",
       "      <td>0.040000</td>\n",
       "      <td>0.000000</td>\n",
       "      <td>0.020000</td>\n",
       "      <td>69.000000</td>\n",
       "    </tr>\n",
       "    <tr>\n",
       "      <th>max</th>\n",
       "      <td>2016.000000</td>\n",
       "      <td>3.450000</td>\n",
       "      <td>2.590000</td>\n",
       "      <td>0.860000</td>\n",
       "      <td>1.090000</td>\n",
       "      <td>90.000000</td>\n",
       "    </tr>\n",
       "  </tbody>\n",
       "</table>\n",
       "</div>"
      ],
      "text/plain": [
       "       year_of_release     na_sales     eu_sales     jp_sales  other_sales  \\\n",
       "count      2376.000000  2424.000000  2424.000000  2424.000000  2424.000000   \n",
       "mean       2007.450337     0.126052     0.043519     0.002727     0.015862   \n",
       "std           3.484229     0.180586     0.111412     0.026136     0.039156   \n",
       "min        1997.000000     0.000000     0.000000     0.000000     0.000000   \n",
       "25%        2005.000000     0.030000     0.000000     0.000000     0.000000   \n",
       "50%        2008.000000     0.075000     0.010000     0.000000     0.010000   \n",
       "75%        2010.000000     0.150000     0.040000     0.000000     0.020000   \n",
       "max        2016.000000     3.450000     2.590000     0.860000     1.090000   \n",
       "\n",
       "       critic_score  \n",
       "count   1082.000000  \n",
       "mean      60.711645  \n",
       "std       11.193035  \n",
       "min       23.000000  \n",
       "25%       54.000000  \n",
       "50%       62.000000  \n",
       "75%       69.000000  \n",
       "max       90.000000  "
      ]
     },
     "metadata": {},
     "output_type": "display_data"
    },
    {
     "data": {
      "text/html": [
       "<div>\n",
       "<style scoped>\n",
       "    .dataframe tbody tr th:only-of-type {\n",
       "        vertical-align: middle;\n",
       "    }\n",
       "\n",
       "    .dataframe tbody tr th {\n",
       "        vertical-align: top;\n",
       "    }\n",
       "\n",
       "    .dataframe thead th {\n",
       "        text-align: right;\n",
       "    }\n",
       "</style>\n",
       "<table border=\"1\" class=\"dataframe\">\n",
       "  <thead>\n",
       "    <tr style=\"text-align: right;\">\n",
       "      <th></th>\n",
       "      <th>name</th>\n",
       "      <th>platform</th>\n",
       "      <th>year_of_release</th>\n",
       "      <th>genre</th>\n",
       "      <th>na_sales</th>\n",
       "      <th>eu_sales</th>\n",
       "      <th>jp_sales</th>\n",
       "      <th>other_sales</th>\n",
       "      <th>critic_score</th>\n",
       "      <th>user_score</th>\n",
       "      <th>rating</th>\n",
       "    </tr>\n",
       "  </thead>\n",
       "  <tbody>\n",
       "    <tr>\n",
       "      <th>119</th>\n",
       "      <td>Zumba Fitness</td>\n",
       "      <td>Wii</td>\n",
       "      <td>2010.0</td>\n",
       "      <td>Sports</td>\n",
       "      <td>3.45</td>\n",
       "      <td>2.59</td>\n",
       "      <td>0.0</td>\n",
       "      <td>0.66</td>\n",
       "      <td>NaN</td>\n",
       "      <td>tbd</td>\n",
       "      <td>E</td>\n",
       "    </tr>\n",
       "    <tr>\n",
       "      <th>301</th>\n",
       "      <td>Namco Museum: 50th Anniversary</td>\n",
       "      <td>PS2</td>\n",
       "      <td>2005.0</td>\n",
       "      <td>Misc</td>\n",
       "      <td>2.08</td>\n",
       "      <td>1.35</td>\n",
       "      <td>0.0</td>\n",
       "      <td>0.54</td>\n",
       "      <td>61.0</td>\n",
       "      <td>tbd</td>\n",
       "      <td>E10+</td>\n",
       "    </tr>\n",
       "    <tr>\n",
       "      <th>520</th>\n",
       "      <td>Zumba Fitness 2</td>\n",
       "      <td>Wii</td>\n",
       "      <td>2011.0</td>\n",
       "      <td>Sports</td>\n",
       "      <td>1.51</td>\n",
       "      <td>1.03</td>\n",
       "      <td>0.0</td>\n",
       "      <td>0.27</td>\n",
       "      <td>NaN</td>\n",
       "      <td>tbd</td>\n",
       "      <td>T</td>\n",
       "    </tr>\n",
       "    <tr>\n",
       "      <th>645</th>\n",
       "      <td>uDraw Studio</td>\n",
       "      <td>Wii</td>\n",
       "      <td>2010.0</td>\n",
       "      <td>Misc</td>\n",
       "      <td>1.65</td>\n",
       "      <td>0.57</td>\n",
       "      <td>0.0</td>\n",
       "      <td>0.20</td>\n",
       "      <td>71.0</td>\n",
       "      <td>tbd</td>\n",
       "      <td>E</td>\n",
       "    </tr>\n",
       "    <tr>\n",
       "      <th>657</th>\n",
       "      <td>Frogger's Adventures: Temple of the Frog</td>\n",
       "      <td>GBA</td>\n",
       "      <td>NaN</td>\n",
       "      <td>Adventure</td>\n",
       "      <td>2.15</td>\n",
       "      <td>0.18</td>\n",
       "      <td>0.0</td>\n",
       "      <td>0.07</td>\n",
       "      <td>73.0</td>\n",
       "      <td>tbd</td>\n",
       "      <td>E</td>\n",
       "    </tr>\n",
       "  </tbody>\n",
       "</table>\n",
       "</div>"
      ],
      "text/plain": [
       "                                         name platform  year_of_release  \\\n",
       "119                             Zumba Fitness      Wii           2010.0   \n",
       "301            Namco Museum: 50th Anniversary      PS2           2005.0   \n",
       "520                           Zumba Fitness 2      Wii           2011.0   \n",
       "645                              uDraw Studio      Wii           2010.0   \n",
       "657  Frogger's Adventures: Temple of the Frog      GBA              NaN   \n",
       "\n",
       "         genre  na_sales  eu_sales  jp_sales  other_sales  critic_score  \\\n",
       "119     Sports      3.45      2.59       0.0         0.66           NaN   \n",
       "301       Misc      2.08      1.35       0.0         0.54          61.0   \n",
       "520     Sports      1.51      1.03       0.0         0.27           NaN   \n",
       "645       Misc      1.65      0.57       0.0         0.20          71.0   \n",
       "657  Adventure      2.15      0.18       0.0         0.07          73.0   \n",
       "\n",
       "    user_score rating  \n",
       "119        tbd      E  \n",
       "301        tbd   E10+  \n",
       "520        tbd      T  \n",
       "645        tbd      E  \n",
       "657        tbd      E  "
      ]
     },
     "execution_count": 8,
     "metadata": {},
     "output_type": "execute_result"
    }
   ],
   "source": [
    "tbd_games = games.query('user_score == \"tbd\"')\n",
    "display(tbd_games.describe())\n",
    "tbd_games.head()"
   ]
  },
  {
   "cell_type": "markdown",
   "id": "57d6c0ca",
   "metadata": {},
   "source": [
    "Скорее всего оценок слишком мало, чтобы сформировать рейтинг. Таких значений довольно много, но раз кол-ва оценок недостаточно, значит сами игры прошли для индустрии незаметно. Их продажи и рейтинги ниже средних показателей по генеральной совокупности. \n",
    "\n",
    "Это могут быть переиздания игр, порты на другие платформы, инди-проекты."
   ]
  },
  {
   "cell_type": "markdown",
   "id": "dd5d51f4",
   "metadata": {},
   "source": [
    "**Вывод:**\n",
    "* Мы обнаружили пропуски в столбцах `name, genre, year_of_release, critic_score, user_score, rating` , которые нужно будет обработать.\n",
    "* Данные в стобцах `year_of_release, critic_score, user_Score` нужно перевести в `int`\n",
    "* В столбце `user_score` есть много значений `tbd`, которые будут мешать нализу"
   ]
  },
  {
   "cell_type": "markdown",
   "id": "1385c7d4",
   "metadata": {},
   "source": [
    "## Предобработка данных"
   ]
  },
  {
   "cell_type": "markdown",
   "id": "d0c65ef5",
   "metadata": {},
   "source": [
    "Заменим `tbd` на `-1`, и не будем их учитывать при анализе оценок пользователей:"
   ]
  },
  {
   "cell_type": "code",
   "execution_count": 9,
   "id": "2ad36e7a",
   "metadata": {},
   "outputs": [],
   "source": [
    "games['user_score'] = games['user_score'].replace('tbd', -1)"
   ]
  },
  {
   "cell_type": "markdown",
   "id": "d7d23bd7",
   "metadata": {},
   "source": [
    "Посмотрим на пропуски в столбце `name`:"
   ]
  },
  {
   "cell_type": "code",
   "execution_count": 10,
   "id": "5d6e2126",
   "metadata": {},
   "outputs": [
    {
     "data": {
      "text/html": [
       "<div>\n",
       "<style scoped>\n",
       "    .dataframe tbody tr th:only-of-type {\n",
       "        vertical-align: middle;\n",
       "    }\n",
       "\n",
       "    .dataframe tbody tr th {\n",
       "        vertical-align: top;\n",
       "    }\n",
       "\n",
       "    .dataframe thead th {\n",
       "        text-align: right;\n",
       "    }\n",
       "</style>\n",
       "<table border=\"1\" class=\"dataframe\">\n",
       "  <thead>\n",
       "    <tr style=\"text-align: right;\">\n",
       "      <th></th>\n",
       "      <th>name</th>\n",
       "      <th>platform</th>\n",
       "      <th>year_of_release</th>\n",
       "      <th>genre</th>\n",
       "      <th>na_sales</th>\n",
       "      <th>eu_sales</th>\n",
       "      <th>jp_sales</th>\n",
       "      <th>other_sales</th>\n",
       "      <th>critic_score</th>\n",
       "      <th>user_score</th>\n",
       "      <th>rating</th>\n",
       "    </tr>\n",
       "  </thead>\n",
       "  <tbody>\n",
       "    <tr>\n",
       "      <th>659</th>\n",
       "      <td>NaN</td>\n",
       "      <td>GEN</td>\n",
       "      <td>1993.0</td>\n",
       "      <td>NaN</td>\n",
       "      <td>1.78</td>\n",
       "      <td>0.53</td>\n",
       "      <td>0.00</td>\n",
       "      <td>0.08</td>\n",
       "      <td>NaN</td>\n",
       "      <td>NaN</td>\n",
       "      <td>NaN</td>\n",
       "    </tr>\n",
       "    <tr>\n",
       "      <th>14244</th>\n",
       "      <td>NaN</td>\n",
       "      <td>GEN</td>\n",
       "      <td>1993.0</td>\n",
       "      <td>NaN</td>\n",
       "      <td>0.00</td>\n",
       "      <td>0.00</td>\n",
       "      <td>0.03</td>\n",
       "      <td>0.00</td>\n",
       "      <td>NaN</td>\n",
       "      <td>NaN</td>\n",
       "      <td>NaN</td>\n",
       "    </tr>\n",
       "  </tbody>\n",
       "</table>\n",
       "</div>"
      ],
      "text/plain": [
       "      name platform  year_of_release genre  na_sales  eu_sales  jp_sales  \\\n",
       "659    NaN      GEN           1993.0   NaN      1.78      0.53      0.00   \n",
       "14244  NaN      GEN           1993.0   NaN      0.00      0.00      0.03   \n",
       "\n",
       "       other_sales  critic_score user_score rating  \n",
       "659           0.08           NaN        NaN    NaN  \n",
       "14244         0.00           NaN        NaN    NaN  "
      ]
     },
     "execution_count": 10,
     "metadata": {},
     "output_type": "execute_result"
    }
   ],
   "source": [
    "games.query('name.isna()')"
   ]
  },
  {
   "cell_type": "markdown",
   "id": "051c7623",
   "metadata": {},
   "source": [
    "Таких пропуска всего два, да и информации об оценках в них нет, поэтому их можно просто удалить:"
   ]
  },
  {
   "cell_type": "code",
   "execution_count": 11,
   "id": "154afd2a",
   "metadata": {},
   "outputs": [],
   "source": [
    "games.dropna(subset = ['name'], inplace = True)"
   ]
  },
  {
   "cell_type": "markdown",
   "id": "a0814413",
   "metadata": {},
   "source": [
    "Пропуски в `year_of_release, critic_score, user_score` заменим на `-1` и не будем их учитывать при анализе. Также приведем эти столбцы к типу `int`:"
   ]
  },
  {
   "cell_type": "code",
   "execution_count": 12,
   "id": "7cd7c619",
   "metadata": {},
   "outputs": [],
   "source": [
    "games['year_of_release'] = games['year_of_release'].fillna(-1)\n",
    "games['year_of_release'] = games['year_of_release'].astype(int)"
   ]
  },
  {
   "cell_type": "code",
   "execution_count": 13,
   "id": "256aed37",
   "metadata": {},
   "outputs": [],
   "source": [
    "games['critic_score'] = games['critic_score'].fillna(-1)\n",
    "games['critic_score'] = games['critic_score'].astype(int)"
   ]
  },
  {
   "cell_type": "code",
   "execution_count": 14,
   "id": "849290d3",
   "metadata": {},
   "outputs": [],
   "source": [
    "games['user_score'] = games['user_score'].fillna(-1)\n",
    "games['user_score'] = games['user_score'].astype(float)"
   ]
  },
  {
   "cell_type": "markdown",
   "id": "71d88a2c",
   "metadata": {},
   "source": [
    "Пропуски в столбце `rating` заменим на `unknown`"
   ]
  },
  {
   "cell_type": "code",
   "execution_count": 15,
   "id": "5c548605",
   "metadata": {},
   "outputs": [],
   "source": [
    "games['rating'] = games['rating'].fillna(\"unknown\")"
   ]
  },
  {
   "cell_type": "markdown",
   "id": "83473865",
   "metadata": {},
   "source": [
    "Создадим новый столбец `total_sales` в котором будут сумарные продажи во всех регионах:"
   ]
  },
  {
   "cell_type": "code",
   "execution_count": 16,
   "id": "12810f4d",
   "metadata": {},
   "outputs": [],
   "source": [
    "games['total_sales'] = games['na_sales'] + games['eu_sales'] + games['jp_sales'] + games['other_sales']"
   ]
  },
  {
   "cell_type": "markdown",
   "id": "b23378c4",
   "metadata": {},
   "source": [
    "## Шаг 3. Исследовательский анализ данных"
   ]
  },
  {
   "cell_type": "markdown",
   "id": "c0317621",
   "metadata": {},
   "source": [
    "Взгляем на кол-во выпущенных игр по годам:"
   ]
  },
  {
   "cell_type": "code",
   "execution_count": 17,
   "id": "c7ec942b",
   "metadata": {},
   "outputs": [
    {
     "data": {
      "image/png": "[encoded data removed]"
     },
     "metadata": {},
     "output_type": "display_data"
    }
   ],
   "source": [
    "fig = px.histogram(games.query('year_of_release != -1'), x='year_of_release', title='Кол-во выпущенных игр') \n",
    "fig.show('png')"
   ]
  },
  {
   "cell_type": "markdown",
   "id": "893d6898",
   "metadata": {},
   "source": [
    "Больше всего игр вышло c 2007 - 2011. С 1994 года индрустрия растет, начиная с 2009 - начинается падение\n",
    "Игровая индустрия активно начинает расти с 1994 года, а вот начиная с 2009 года начинается падения. Особенно резко кол-во выпущенных игр упало в 2012 году."
   ]
  },
  {
   "cell_type": "markdown",
   "id": "f50b355e",
   "metadata": {},
   "source": [
    "Можно утверждать, что до 1995 года игровая индустрия была неразвита, поэтому данные раньше 95 можно считать устаревшими"
   ]
  },
  {
   "cell_type": "markdown",
   "id": "12a4119c",
   "metadata": {},
   "source": [
    "Посмотрим на продажи за все время по платформам:"
   ]
  },
  {
   "cell_type": "code",
   "execution_count": 18,
   "id": "66b85ed2",
   "metadata": {
    "scrolled": true
   },
   "outputs": [
    {
     "data": {
      "text/html": [
       "<div>\n",
       "<style scoped>\n",
       "    .dataframe tbody tr th:only-of-type {\n",
       "        vertical-align: middle;\n",
       "    }\n",
       "\n",
       "    .dataframe tbody tr th {\n",
       "        vertical-align: top;\n",
       "    }\n",
       "\n",
       "    .dataframe thead th {\n",
       "        text-align: right;\n",
       "    }\n",
       "</style>\n",
       "<table border=\"1\" class=\"dataframe\">\n",
       "  <thead>\n",
       "    <tr style=\"text-align: right;\">\n",
       "      <th></th>\n",
       "      <th>total_sales</th>\n",
       "    </tr>\n",
       "    <tr>\n",
       "      <th>platform</th>\n",
       "      <th></th>\n",
       "    </tr>\n",
       "  </thead>\n",
       "  <tbody>\n",
       "    <tr>\n",
       "      <th>PS2</th>\n",
       "      <td>1255.77</td>\n",
       "    </tr>\n",
       "    <tr>\n",
       "      <th>X360</th>\n",
       "      <td>971.42</td>\n",
       "    </tr>\n",
       "    <tr>\n",
       "      <th>PS3</th>\n",
       "      <td>939.65</td>\n",
       "    </tr>\n",
       "    <tr>\n",
       "      <th>Wii</th>\n",
       "      <td>907.51</td>\n",
       "    </tr>\n",
       "    <tr>\n",
       "      <th>DS</th>\n",
       "      <td>806.12</td>\n",
       "    </tr>\n",
       "    <tr>\n",
       "      <th>PS</th>\n",
       "      <td>730.86</td>\n",
       "    </tr>\n",
       "    <tr>\n",
       "      <th>GBA</th>\n",
       "      <td>317.85</td>\n",
       "    </tr>\n",
       "    <tr>\n",
       "      <th>PS4</th>\n",
       "      <td>314.14</td>\n",
       "    </tr>\n",
       "    <tr>\n",
       "      <th>PSP</th>\n",
       "      <td>294.05</td>\n",
       "    </tr>\n",
       "    <tr>\n",
       "      <th>PC</th>\n",
       "      <td>259.52</td>\n",
       "    </tr>\n",
       "  </tbody>\n",
       "</table>\n",
       "</div>"
      ],
      "text/plain": [
       "          total_sales\n",
       "platform             \n",
       "PS2           1255.77\n",
       "X360           971.42\n",
       "PS3            939.65\n",
       "Wii            907.51\n",
       "DS             806.12\n",
       "PS             730.86\n",
       "GBA            317.85\n",
       "PS4            314.14\n",
       "PSP            294.05\n",
       "PC             259.52"
      ]
     },
     "execution_count": 18,
     "metadata": {},
     "output_type": "execute_result"
    }
   ],
   "source": [
    "top_platform_alltime = games.pivot_table(index='platform', values='total_sales', aggfunc=('sum'))\n",
    "top_platform_alltime.sort_values('total_sales', ascending=False).head(10)"
   ]
  },
  {
   "cell_type": "markdown",
   "id": "f874604b",
   "metadata": {},
   "source": [
    "### Сколько лет актуальна платформа"
   ]
  },
  {
   "cell_type": "markdown",
   "id": "fa512fd8",
   "metadata": {},
   "source": [
    "Теперь когда мы знаем самые популярные платформы за все время, посмотрим на кол-во игр, которые выходили на этих платформах каждый год, чтобы узнать сколько времени платформа остается актуальной:"
   ]
  },
  {
   "cell_type": "code",
   "execution_count": 19,
   "id": "e5cee2e6",
   "metadata": {},
   "outputs": [
    {
     "data": {
      "image/png": "[encoded data removed]"
     },
     "metadata": {},
     "output_type": "display_data"
    }
   ],
   "source": [
    "fig = make_subplots(rows=2, cols=3) # указываем сколько места для графиков нам нужно\n",
    " \n",
    "ps2 = go.Histogram(x=games.query('platform == \"PS2\" and year_of_release != -1')['year_of_release'], name='PS2')\n",
    "x360 = go.Histogram(x=games.query('platform == \"X360\"and year_of_release != -1')['year_of_release'], name='X360')\n",
    "wii = go.Histogram(x=games.query('platform == \"Wii\"and year_of_release != -1')['year_of_release'], name='Wii')\n",
    "ps3 = go.Histogram(x=games.query('platform == \"PS3\"and year_of_release != -1')['year_of_release'], name='PS3')\n",
    "ds = go.Histogram(x=games.query('platform == \"DS\"and year_of_release != -1')['year_of_release'], name='DS')\n",
    "ps = go.Histogram(x=games.query('platform == \"PS\"and year_of_release != -1')['year_of_release'], name='PS')\n",
    "\n",
    "\n",
    "fig.append_trace(ps2, 1, 1)\n",
    "fig.append_trace(x360, 1, 2)\n",
    "fig.append_trace(wii, 1, 3)\n",
    "fig.append_trace(ps3, 2, 1)\n",
    "fig.append_trace(ds, 2, 2)\n",
    "fig.append_trace(ps, 2, 3)\n",
    "\n",
    "fig.update_layout(height=500, width=1000, title_text=\"Сравнение популярности жанров\")\n",
    "fig.show('png')"
   ]
  },
  {
   "cell_type": "markdown",
   "id": "dd9b545c",
   "metadata": {},
   "source": [
    "Платформы, в среднем остаются актуальными 5 лет, после этого срока кол-во игр, которое на них выходит становится все меньше и меньше."
   ]
  },
  {
   "cell_type": "markdown",
   "id": "c0281032",
   "metadata": {},
   "source": [
    "Таким образом, актуальный период для нашего исследования - с 2012-2016"
   ]
  },
  {
   "cell_type": "code",
   "execution_count": 20,
   "id": "c705b5a1",
   "metadata": {},
   "outputs": [],
   "source": [
    "current_table = games.query('year_of_release >= 2012') # новая таблица только за актуальный период"
   ]
  },
  {
   "cell_type": "markdown",
   "id": "ee02d3b8",
   "metadata": {},
   "source": [
    "Теперь взглянем на самые популярные платформы в актуальном для нас периоде с 2010-2016:"
   ]
  },
  {
   "cell_type": "code",
   "execution_count": 21,
   "id": "754a68c3",
   "metadata": {
    "scrolled": false
   },
   "outputs": [
    {
     "data": {
      "text/html": [
       "<div>\n",
       "<style scoped>\n",
       "    .dataframe tbody tr th:only-of-type {\n",
       "        vertical-align: middle;\n",
       "    }\n",
       "\n",
       "    .dataframe tbody tr th {\n",
       "        vertical-align: top;\n",
       "    }\n",
       "\n",
       "    .dataframe thead th {\n",
       "        text-align: right;\n",
       "    }\n",
       "</style>\n",
       "<table border=\"1\" class=\"dataframe\">\n",
       "  <thead>\n",
       "    <tr style=\"text-align: right;\">\n",
       "      <th></th>\n",
       "      <th>total_sales</th>\n",
       "    </tr>\n",
       "    <tr>\n",
       "      <th>platform</th>\n",
       "      <th></th>\n",
       "    </tr>\n",
       "  </thead>\n",
       "  <tbody>\n",
       "    <tr>\n",
       "      <th>PS4</th>\n",
       "      <td>314.14</td>\n",
       "    </tr>\n",
       "    <tr>\n",
       "      <th>PS3</th>\n",
       "      <td>288.79</td>\n",
       "    </tr>\n",
       "    <tr>\n",
       "      <th>X360</th>\n",
       "      <td>236.54</td>\n",
       "    </tr>\n",
       "    <tr>\n",
       "      <th>3DS</th>\n",
       "      <td>194.61</td>\n",
       "    </tr>\n",
       "    <tr>\n",
       "      <th>XOne</th>\n",
       "      <td>159.32</td>\n",
       "    </tr>\n",
       "    <tr>\n",
       "      <th>WiiU</th>\n",
       "      <td>82.19</td>\n",
       "    </tr>\n",
       "    <tr>\n",
       "      <th>PC</th>\n",
       "      <td>62.65</td>\n",
       "    </tr>\n",
       "    <tr>\n",
       "      <th>PSV</th>\n",
       "      <td>49.18</td>\n",
       "    </tr>\n",
       "    <tr>\n",
       "      <th>Wii</th>\n",
       "      <td>35.37</td>\n",
       "    </tr>\n",
       "    <tr>\n",
       "      <th>DS</th>\n",
       "      <td>12.55</td>\n",
       "    </tr>\n",
       "    <tr>\n",
       "      <th>PSP</th>\n",
       "      <td>11.19</td>\n",
       "    </tr>\n",
       "  </tbody>\n",
       "</table>\n",
       "</div>"
      ],
      "text/plain": [
       "          total_sales\n",
       "platform             \n",
       "PS4            314.14\n",
       "PS3            288.79\n",
       "X360           236.54\n",
       "3DS            194.61\n",
       "XOne           159.32\n",
       "WiiU            82.19\n",
       "PC              62.65\n",
       "PSV             49.18\n",
       "Wii             35.37\n",
       "DS              12.55\n",
       "PSP             11.19"
      ]
     },
     "metadata": {},
     "output_type": "display_data"
    }
   ],
   "source": [
    "top_current_platforms = current_table.pivot_table(index='platform', values='total_sales', aggfunc=('sum'))\n",
    "display(top_current_platforms.sort_values('total_sales', ascending=False))\n",
    "top_platform_list = (top_current_platforms.sort_values('total_sales', \n",
    "                                                       ascending=False).\n",
    "                                                       head(10).index.to_list()\n",
    "                    ) # сохраним список популярных платформ"
   ]
  },
  {
   "cell_type": "markdown",
   "id": "b7a5bb9d",
   "metadata": {},
   "source": [
    "Самые популярные платформы с 2012 - 2016 - `X360, PS3, PS4, 3DS, WiiU, XOne`. \n",
    "\n",
    "Создадим таблицу, где будет указано кол-во проданных игр для каждой популярной платформы из списка `top_platform_list` за 2012-2016, который создали выше:"
   ]
  },
  {
   "cell_type": "code",
   "execution_count": 22,
   "id": "f7c845f7",
   "metadata": {},
   "outputs": [
    {
     "data": {
      "text/html": [
       "<div>\n",
       "<style scoped>\n",
       "    .dataframe tbody tr th:only-of-type {\n",
       "        vertical-align: middle;\n",
       "    }\n",
       "\n",
       "    .dataframe tbody tr th {\n",
       "        vertical-align: top;\n",
       "    }\n",
       "\n",
       "    .dataframe thead th {\n",
       "        text-align: right;\n",
       "    }\n",
       "</style>\n",
       "<table border=\"1\" class=\"dataframe\">\n",
       "  <thead>\n",
       "    <tr style=\"text-align: right;\">\n",
       "      <th>year_of_release</th>\n",
       "      <th>2012</th>\n",
       "      <th>2013</th>\n",
       "      <th>2014</th>\n",
       "      <th>2015</th>\n",
       "      <th>2016</th>\n",
       "    </tr>\n",
       "    <tr>\n",
       "      <th>platform</th>\n",
       "      <th></th>\n",
       "      <th></th>\n",
       "      <th></th>\n",
       "      <th></th>\n",
       "      <th></th>\n",
       "    </tr>\n",
       "  </thead>\n",
       "  <tbody>\n",
       "    <tr>\n",
       "      <th>3DS</th>\n",
       "      <td>51.36</td>\n",
       "      <td>56.57</td>\n",
       "      <td>43.76</td>\n",
       "      <td>27.78</td>\n",
       "      <td>15.14</td>\n",
       "    </tr>\n",
       "    <tr>\n",
       "      <th>DS</th>\n",
       "      <td>11.01</td>\n",
       "      <td>1.54</td>\n",
       "      <td>-</td>\n",
       "      <td>-</td>\n",
       "      <td>-</td>\n",
       "    </tr>\n",
       "    <tr>\n",
       "      <th>PC</th>\n",
       "      <td>23.22</td>\n",
       "      <td>12.38</td>\n",
       "      <td>13.28</td>\n",
       "      <td>8.52</td>\n",
       "      <td>5.25</td>\n",
       "    </tr>\n",
       "    <tr>\n",
       "      <th>PS3</th>\n",
       "      <td>107.36</td>\n",
       "      <td>113.25</td>\n",
       "      <td>47.76</td>\n",
       "      <td>16.82</td>\n",
       "      <td>3.6</td>\n",
       "    </tr>\n",
       "    <tr>\n",
       "      <th>PS4</th>\n",
       "      <td>-</td>\n",
       "      <td>25.99</td>\n",
       "      <td>100.0</td>\n",
       "      <td>118.9</td>\n",
       "      <td>69.25</td>\n",
       "    </tr>\n",
       "    <tr>\n",
       "      <th>PSV</th>\n",
       "      <td>16.19</td>\n",
       "      <td>10.59</td>\n",
       "      <td>11.9</td>\n",
       "      <td>6.25</td>\n",
       "      <td>4.25</td>\n",
       "    </tr>\n",
       "    <tr>\n",
       "      <th>Wii</th>\n",
       "      <td>21.71</td>\n",
       "      <td>8.59</td>\n",
       "      <td>3.75</td>\n",
       "      <td>1.14</td>\n",
       "      <td>0.18</td>\n",
       "    </tr>\n",
       "    <tr>\n",
       "      <th>WiiU</th>\n",
       "      <td>17.56</td>\n",
       "      <td>21.65</td>\n",
       "      <td>22.03</td>\n",
       "      <td>16.35</td>\n",
       "      <td>4.6</td>\n",
       "    </tr>\n",
       "    <tr>\n",
       "      <th>X360</th>\n",
       "      <td>99.74</td>\n",
       "      <td>88.58</td>\n",
       "      <td>34.74</td>\n",
       "      <td>11.96</td>\n",
       "      <td>1.52</td>\n",
       "    </tr>\n",
       "    <tr>\n",
       "      <th>XOne</th>\n",
       "      <td>-</td>\n",
       "      <td>18.96</td>\n",
       "      <td>54.07</td>\n",
       "      <td>60.14</td>\n",
       "      <td>26.15</td>\n",
       "    </tr>\n",
       "  </tbody>\n",
       "</table>\n",
       "</div>"
      ],
      "text/plain": [
       "year_of_release    2012    2013   2014   2015   2016\n",
       "platform                                            \n",
       "3DS               51.36   56.57  43.76  27.78  15.14\n",
       "DS                11.01    1.54      -      -      -\n",
       "PC                23.22   12.38  13.28   8.52   5.25\n",
       "PS3              107.36  113.25  47.76  16.82    3.6\n",
       "PS4                   -   25.99  100.0  118.9  69.25\n",
       "PSV               16.19   10.59   11.9   6.25   4.25\n",
       "Wii               21.71    8.59   3.75   1.14   0.18\n",
       "WiiU              17.56   21.65  22.03  16.35    4.6\n",
       "X360              99.74   88.58  34.74  11.96   1.52\n",
       "XOne                  -   18.96  54.07  60.14  26.15"
      ]
     },
     "execution_count": 22,
     "metadata": {},
     "output_type": "execute_result"
    }
   ],
   "source": [
    "current_top_table = current_table.query('platform == @top_platform_list') # срез только с топ-10 платформами за 2010-2016\n",
    "top_platform_sales = (current_top_table.pivot_table(index='platform', \n",
    "                               columns='year_of_release', \n",
    "                               values='total_sales', \n",
    "                               aggfunc='sum', \n",
    "                               fill_value='-')\n",
    "                             )\n",
    "top_platform_sales"
   ]
  },
  {
   "cell_type": "markdown",
   "id": "69c8a46d",
   "metadata": {},
   "source": [
    "Продажи всех самых популярных приставок в 2016 упали, но, скорее всего, это связанно с тем, что данные о продажах еще не целиком собранны, поэтому будем ориентироваться на 2 факта, чтобы определить перспективные платформы в следующем году:\n",
    "* Упали ли продажи в прошлом году или выросли\n",
    "* Насколько сильно \"упали\"(еще не известно, упали ли продажи на самом деле) продажи в 2016 году"
   ]
  },
  {
   "cell_type": "markdown",
   "id": "5f22da65",
   "metadata": {},
   "source": [
    "Похоже, что, в прошлом году количество проданых игр выросло только у 2 платформ: `PS4` и `XOne`, по данным на сегодняшний день, продажи на этих платформах за 2016 упали чуть ли не в двое, но все равно эти две платформы занимают 1 и 2 место по кол-ву проданных игр."
   ]
  },
  {
   "cell_type": "markdown",
   "id": "e7972774",
   "metadata": {},
   "source": [
    "Взглянем на средние значения по продажм на топ-10 платформах за 2012-2016 год:"
   ]
  },
  {
   "cell_type": "code",
   "execution_count": 23,
   "id": "ff8078ea",
   "metadata": {
    "scrolled": false
   },
   "outputs": [
    {
     "data": {
      "image/png": "[encoded data removed]"
     },
     "metadata": {},
     "output_type": "display_data"
    }
   ],
   "source": [
    "fig = px.box(current_top_table, y=\"total_sales\", x=\"platform\", width=1100, height=500,\n",
    "            title = 'Cредние значения по продажм на топ-10 платформах за 2012-2016 год:')\n",
    "fig.show('png')"
   ]
  },
  {
   "cell_type": "markdown",
   "id": "a18b05d4",
   "metadata": {},
   "source": [
    "Большой предел верхних \"усов\" у следющих платформ, показывает, что, в среднем, кол-во продаж у них выше, по сравнению с другими платформами:\n",
    "* PS3\n",
    "* X360 (наибольший размах средних значений)\n",
    "* PS4\n",
    "* XOne\n",
    "* Wii\n",
    "\n",
    "Также стоит отметить платформы на которых игры чаще \"выстреливают\" и продаются большим тиражем:\n",
    "* PS3\n",
    "* X360\n",
    "* PS4\n",
    "* 3DS"
   ]
  },
  {
   "cell_type": "markdown",
   "id": "b7b33bb2",
   "metadata": {},
   "source": [
    "### Влияние отзывов критиков и пользователей на продажи"
   ]
  },
  {
   "cell_type": "markdown",
   "id": "99b2bd45",
   "metadata": {},
   "source": [
    "Похоже, что одна из самых популярных платформ сейчас - `PS4`. Посмотрим как внутри этой платформы отзывы влияют на кол-во проданных копий:"
   ]
  },
  {
   "cell_type": "code",
   "execution_count": 24,
   "id": "60ec33c2",
   "metadata": {},
   "outputs": [],
   "source": [
    "ps4_table = current_table.query('platform == \"PS4\" and user_score !=-1 and critic_score !=-1')\n",
    "# срез только с играми на PS4 за 2010-2016                                                                                                "
   ]
  },
  {
   "cell_type": "code",
   "execution_count": 25,
   "id": "2a2a8ea8",
   "metadata": {
    "scrolled": false
   },
   "outputs": [
    {
     "data": {
      "image/png": "[encoded data removed]"
     },
     "metadata": {},
     "output_type": "display_data"
    }
   ],
   "source": [
    "fig = px.scatter(ps4_table, x=\"total_sales\", y=\"user_score\", title='Оценки пользователей и кол-во продаж на PS4')\n",
    "fig.show('png')"
   ]
  },
  {
   "cell_type": "code",
   "execution_count": 26,
   "id": "8fbf1be3",
   "metadata": {},
   "outputs": [
    {
     "data": {
      "image/png": "[encoded data removed]"
     },
     "metadata": {},
     "output_type": "display_data"
    }
   ],
   "source": [
    "fig = px.scatter(ps4_table, x=\"total_sales\", y=\"critic_score\", title='Оценки критиков и кол-во продаж на PS4')\n",
    "fig.show('png')"
   ]
  },
  {
   "cell_type": "markdown",
   "id": "539abf01",
   "metadata": {},
   "source": [
    "Судя по всему, оценки критиков сильнее влияют на продажи, чем оценки пользователей. Если оценка критиков больше 70, то шансы, что игра продатся бо́льшим тиражем - выше. "
   ]
  },
  {
   "cell_type": "markdown",
   "id": "d76b9499",
   "metadata": {},
   "source": [
    "Сравним эти выводы по PS4 cо всеми остальными платформами:"
   ]
  },
  {
   "cell_type": "code",
   "execution_count": 27,
   "id": "83714e07",
   "metadata": {
    "scrolled": false
   },
   "outputs": [
    {
     "data": {
      "image/png": "[encoded data removed]"
     },
     "metadata": {},
     "output_type": "display_data"
    }
   ],
   "source": [
    "fig = px.scatter(current_table.query('user_score != -1 and critic_score != -1'), x=\"total_sales\", y=\"user_score\", \n",
    "                 title='Оценки пользователей и кол-во продаж на современный консолях')\n",
    "fig.show('png')"
   ]
  },
  {
   "cell_type": "code",
   "execution_count": 28,
   "id": "0dd023c0",
   "metadata": {},
   "outputs": [
    {
     "data": {
      "image/png": "[encoded data removed]"
     },
     "metadata": {},
     "output_type": "display_data"
    }
   ],
   "source": [
    "fig = px.scatter(current_table.query('user_score != -1 and critic_score != -1'), x=\"total_sales\", y=\"critic_score\",\n",
    "                title='Оценки критиков и кол-во продаж на современных консолях')\n",
    "fig.show('png')"
   ]
  },
  {
   "cell_type": "markdown",
   "id": "48af65e2",
   "metadata": {},
   "source": [
    "Ситуация по всем платформам похожа на то, что мы видели в графиках по `PS4`. Обычно, чем выше оценка критиков, тем выше продажи. С оценками пользователей такая же ситуация, но стоит отметить, что оценки пользователей играют чуть меньшую роль, чем оценки критиков, поскольку мы можешь чаще наблюдать ситуацию, что оценки пользователей низкие, однако продажи высокие."
   ]
  },
  {
   "cell_type": "code",
   "execution_count": 29,
   "id": "63d49513",
   "metadata": {
    "scrolled": true
   },
   "outputs": [
    {
     "data": {
      "text/html": [
       "<div>\n",
       "<style scoped>\n",
       "    .dataframe tbody tr th:only-of-type {\n",
       "        vertical-align: middle;\n",
       "    }\n",
       "\n",
       "    .dataframe tbody tr th {\n",
       "        vertical-align: top;\n",
       "    }\n",
       "\n",
       "    .dataframe thead th {\n",
       "        text-align: right;\n",
       "    }\n",
       "</style>\n",
       "<table border=\"1\" class=\"dataframe\">\n",
       "  <thead>\n",
       "    <tr style=\"text-align: right;\">\n",
       "      <th></th>\n",
       "      <th>user_score</th>\n",
       "      <th>critic_score</th>\n",
       "      <th>total_sales</th>\n",
       "    </tr>\n",
       "  </thead>\n",
       "  <tbody>\n",
       "    <tr>\n",
       "      <th>user_score</th>\n",
       "      <td>1.000000</td>\n",
       "      <td>0.840881</td>\n",
       "      <td>0.182361</td>\n",
       "    </tr>\n",
       "    <tr>\n",
       "      <th>critic_score</th>\n",
       "      <td>0.840881</td>\n",
       "      <td>1.000000</td>\n",
       "      <td>0.248010</td>\n",
       "    </tr>\n",
       "    <tr>\n",
       "      <th>total_sales</th>\n",
       "      <td>0.182361</td>\n",
       "      <td>0.248010</td>\n",
       "      <td>1.000000</td>\n",
       "    </tr>\n",
       "  </tbody>\n",
       "</table>\n",
       "</div>"
      ],
      "text/plain": [
       "              user_score  critic_score  total_sales\n",
       "user_score      1.000000      0.840881     0.182361\n",
       "critic_score    0.840881      1.000000     0.248010\n",
       "total_sales     0.182361      0.248010     1.000000"
      ]
     },
     "execution_count": 29,
     "metadata": {},
     "output_type": "execute_result"
    }
   ],
   "source": [
    "corr_check = current_table[['user_score', 'critic_score', 'total_sales']]\n",
    "corr_check.corr()"
   ]
  },
  {
   "cell_type": "markdown",
   "id": "5719d7f3",
   "metadata": {},
   "source": [
    "Корреляция тоже показывает, что оценки критиков чуть больше влияют на кол-во продаж. Хотя нельзя утверждать, что оценки играют определяющую роль в продажах, корреляция слишком низкая.\n",
    "\n",
    "Ну и заодно можем убедиться, что между оценкой критиков и оценкой пользователей есть сильная взаимосвязь, может быть если определить какой из этих двух факторов определяет другой, то можно эффективнее выстраивать маркетинг."
   ]
  },
  {
   "cell_type": "markdown",
   "id": "cd35487c",
   "metadata": {},
   "source": [
    "### Влияние жанра на кол-во продаж"
   ]
  },
  {
   "cell_type": "markdown",
   "id": "01c983a8",
   "metadata": {},
   "source": [
    "Взглянем на кол-во продаж по жанрам:"
   ]
  },
  {
   "cell_type": "code",
   "execution_count": 30,
   "id": "34019e54",
   "metadata": {
    "scrolled": false
   },
   "outputs": [
    {
     "data": {
      "image/png": "[encoded data removed]"
     },
     "metadata": {},
     "output_type": "display_data"
    }
   ],
   "source": [
    "fig = px.histogram(current_table, x='genre', title='Распределение количества игр по жанрам',\n",
    "                     width=800, height=500)\n",
    "fig.show('png')"
   ]
  },
  {
   "cell_type": "markdown",
   "id": "4ca5ee74",
   "metadata": {},
   "source": [
    "Больше всего вышло игр жанра `Action`, за ним идут `Role-Playing`, `Sports`, `Shooter` и `Adventure`"
   ]
  },
  {
   "cell_type": "markdown",
   "id": "20360997",
   "metadata": {},
   "source": [
    "Теперь посмотрим какой жанр лучше всего продается:"
   ]
  },
  {
   "cell_type": "code",
   "execution_count": 31,
   "id": "49922f54",
   "metadata": {},
   "outputs": [
    {
     "data": {
      "text/html": [
       "<div>\n",
       "<style scoped>\n",
       "    .dataframe tbody tr th:only-of-type {\n",
       "        vertical-align: middle;\n",
       "    }\n",
       "\n",
       "    .dataframe tbody tr th {\n",
       "        vertical-align: top;\n",
       "    }\n",
       "\n",
       "    .dataframe thead th {\n",
       "        text-align: right;\n",
       "    }\n",
       "</style>\n",
       "<table border=\"1\" class=\"dataframe\">\n",
       "  <thead>\n",
       "    <tr style=\"text-align: right;\">\n",
       "      <th></th>\n",
       "      <th>total_sales</th>\n",
       "    </tr>\n",
       "    <tr>\n",
       "      <th>genre</th>\n",
       "      <th></th>\n",
       "    </tr>\n",
       "  </thead>\n",
       "  <tbody>\n",
       "    <tr>\n",
       "      <th>Action</th>\n",
       "      <td>441.12</td>\n",
       "    </tr>\n",
       "    <tr>\n",
       "      <th>Shooter</th>\n",
       "      <td>304.73</td>\n",
       "    </tr>\n",
       "    <tr>\n",
       "      <th>Role-Playing</th>\n",
       "      <td>192.80</td>\n",
       "    </tr>\n",
       "    <tr>\n",
       "      <th>Sports</th>\n",
       "      <td>181.07</td>\n",
       "    </tr>\n",
       "    <tr>\n",
       "      <th>Misc</th>\n",
       "      <td>85.04</td>\n",
       "    </tr>\n",
       "    <tr>\n",
       "      <th>Platform</th>\n",
       "      <td>61.00</td>\n",
       "    </tr>\n",
       "    <tr>\n",
       "      <th>Racing</th>\n",
       "      <td>53.50</td>\n",
       "    </tr>\n",
       "    <tr>\n",
       "      <th>Fighting</th>\n",
       "      <td>44.49</td>\n",
       "    </tr>\n",
       "    <tr>\n",
       "      <th>Simulation</th>\n",
       "      <td>35.12</td>\n",
       "    </tr>\n",
       "    <tr>\n",
       "      <th>Adventure</th>\n",
       "      <td>29.43</td>\n",
       "    </tr>\n",
       "    <tr>\n",
       "      <th>Strategy</th>\n",
       "      <td>13.34</td>\n",
       "    </tr>\n",
       "    <tr>\n",
       "      <th>Puzzle</th>\n",
       "      <td>4.89</td>\n",
       "    </tr>\n",
       "  </tbody>\n",
       "</table>\n",
       "</div>"
      ],
      "text/plain": [
       "              total_sales\n",
       "genre                    \n",
       "Action             441.12\n",
       "Shooter            304.73\n",
       "Role-Playing       192.80\n",
       "Sports             181.07\n",
       "Misc                85.04\n",
       "Platform            61.00\n",
       "Racing              53.50\n",
       "Fighting            44.49\n",
       "Simulation          35.12\n",
       "Adventure           29.43\n",
       "Strategy            13.34\n",
       "Puzzle               4.89"
      ]
     },
     "execution_count": 31,
     "metadata": {},
     "output_type": "execute_result"
    }
   ],
   "source": [
    "top_genre = current_table.pivot_table(index='genre', values='total_sales', aggfunc=('sum')).sort_values('total_sales', ascending=False)\n",
    "top_genre"
   ]
  },
  {
   "cell_type": "markdown",
   "id": "505cac0c",
   "metadata": {},
   "source": [
    "Похоже, что `Action` действительно пользуется спросом. Таких игр больше всего выпускается и продается."
   ]
  },
  {
   "cell_type": "markdown",
   "id": "36b1fddb",
   "metadata": {},
   "source": [
    "Раз мы определили, что оценки критиков влияют сильнее, чем отзывы пользователей, можно взглянуть, какие жанры критикам нравяться больше всего:"
   ]
  },
  {
   "cell_type": "code",
   "execution_count": 32,
   "id": "600e2b01",
   "metadata": {},
   "outputs": [
    {
     "data": {
      "text/html": [
       "<div>\n",
       "<style scoped>\n",
       "    .dataframe tbody tr th:only-of-type {\n",
       "        vertical-align: middle;\n",
       "    }\n",
       "\n",
       "    .dataframe tbody tr th {\n",
       "        vertical-align: top;\n",
       "    }\n",
       "\n",
       "    .dataframe thead th {\n",
       "        text-align: right;\n",
       "    }\n",
       "</style>\n",
       "<table border=\"1\" class=\"dataframe\">\n",
       "  <thead>\n",
       "    <tr style=\"text-align: right;\">\n",
       "      <th></th>\n",
       "      <th>critic_score</th>\n",
       "    </tr>\n",
       "    <tr>\n",
       "      <th>genre</th>\n",
       "      <th></th>\n",
       "    </tr>\n",
       "  </thead>\n",
       "  <tbody>\n",
       "    <tr>\n",
       "      <th>Strategy</th>\n",
       "      <td>75.870968</td>\n",
       "    </tr>\n",
       "    <tr>\n",
       "      <th>Puzzle</th>\n",
       "      <td>75.444444</td>\n",
       "    </tr>\n",
       "    <tr>\n",
       "      <th>Platform</th>\n",
       "      <td>74.586207</td>\n",
       "    </tr>\n",
       "    <tr>\n",
       "      <th>Shooter</th>\n",
       "      <td>73.479532</td>\n",
       "    </tr>\n",
       "    <tr>\n",
       "      <th>Sports</th>\n",
       "      <td>73.340426</td>\n",
       "    </tr>\n",
       "    <tr>\n",
       "      <th>Role-Playing</th>\n",
       "      <td>73.049689</td>\n",
       "    </tr>\n",
       "    <tr>\n",
       "      <th>Adventure</th>\n",
       "      <td>72.879310</td>\n",
       "    </tr>\n",
       "    <tr>\n",
       "      <th>Misc</th>\n",
       "      <td>72.803571</td>\n",
       "    </tr>\n",
       "    <tr>\n",
       "      <th>Racing</th>\n",
       "      <td>72.025316</td>\n",
       "    </tr>\n",
       "    <tr>\n",
       "      <th>Action</th>\n",
       "      <td>71.502315</td>\n",
       "    </tr>\n",
       "    <tr>\n",
       "      <th>Fighting</th>\n",
       "      <td>70.406250</td>\n",
       "    </tr>\n",
       "    <tr>\n",
       "      <th>Simulation</th>\n",
       "      <td>66.702703</td>\n",
       "    </tr>\n",
       "  </tbody>\n",
       "</table>\n",
       "</div>"
      ],
      "text/plain": [
       "              critic_score\n",
       "genre                     \n",
       "Strategy         75.870968\n",
       "Puzzle           75.444444\n",
       "Platform         74.586207\n",
       "Shooter          73.479532\n",
       "Sports           73.340426\n",
       "Role-Playing     73.049689\n",
       "Adventure        72.879310\n",
       "Misc             72.803571\n",
       "Racing           72.025316\n",
       "Action           71.502315\n",
       "Fighting         70.406250\n",
       "Simulation       66.702703"
      ]
     },
     "execution_count": 32,
     "metadata": {},
     "output_type": "execute_result"
    }
   ],
   "source": [
    "critics_top = (current_table.query('user_score != -1 and critic_score != -1')\n",
    "               .pivot_table(index='genre',\n",
    "                            values='critic_score')\n",
    "              )\n",
    "critics_top.sort_values('critic_score', ascending=False)"
   ]
  },
  {
   "cell_type": "markdown",
   "id": "6b1b2a65",
   "metadata": {},
   "source": [
    "Несмотря на то, что критикам нравятся платформеры, стратегии и пазлы, эти жанры редко становятся популярными и успешными. Не стоит расчитывать, что в следующем году это изменится."
   ]
  },
  {
   "cell_type": "markdown",
   "id": "d8bdf783",
   "metadata": {},
   "source": [
    "**Вывод:**\n",
    "* Мы выяснили сколько времени актуальны консоли и определи актуальный период для нашего исследования\n",
    "* Мы нашли потенциально популярные платформы в следующем году - `PS4` и `XOne`\n",
    "* Обнаружили, что оценки критиков влияют на кол-во продаж сильнее, чем отзывы пользователей\n",
    "* Больше всего критикам нравятся игры жанра `Platform`, `Strategy`, `Puzzle`,`Shooter`, `Sports`\n",
    "* Самый продоваемый жанр - `Action`\n"
   ]
  },
  {
   "cell_type": "markdown",
   "id": "ba2bb42e",
   "metadata": {},
   "source": [
    "## Шаг 4. Портрет пользователя каждого региона"
   ]
  },
  {
   "cell_type": "markdown",
   "id": "4b7d05f5",
   "metadata": {},
   "source": [
    "### Портрет пользователя из Северной Америки"
   ]
  },
  {
   "cell_type": "markdown",
   "id": "66241248",
   "metadata": {},
   "source": [
    "Взглянем на самые популярные жанры в Северной Америке:"
   ]
  },
  {
   "cell_type": "code",
   "execution_count": 33,
   "id": "bbe25db2",
   "metadata": {
    "scrolled": true
   },
   "outputs": [
    {
     "data": {
      "text/html": [
       "<div>\n",
       "<style scoped>\n",
       "    .dataframe tbody tr th:only-of-type {\n",
       "        vertical-align: middle;\n",
       "    }\n",
       "\n",
       "    .dataframe tbody tr th {\n",
       "        vertical-align: top;\n",
       "    }\n",
       "\n",
       "    .dataframe thead th {\n",
       "        text-align: right;\n",
       "    }\n",
       "</style>\n",
       "<table border=\"1\" class=\"dataframe\">\n",
       "  <thead>\n",
       "    <tr style=\"text-align: right;\">\n",
       "      <th></th>\n",
       "      <th>na_sales</th>\n",
       "    </tr>\n",
       "    <tr>\n",
       "      <th>genre</th>\n",
       "      <th></th>\n",
       "    </tr>\n",
       "  </thead>\n",
       "  <tbody>\n",
       "    <tr>\n",
       "      <th>Action</th>\n",
       "      <td>177.84</td>\n",
       "    </tr>\n",
       "    <tr>\n",
       "      <th>Shooter</th>\n",
       "      <td>144.77</td>\n",
       "    </tr>\n",
       "    <tr>\n",
       "      <th>Sports</th>\n",
       "      <td>81.53</td>\n",
       "    </tr>\n",
       "    <tr>\n",
       "      <th>Role-Playing</th>\n",
       "      <td>64.00</td>\n",
       "    </tr>\n",
       "    <tr>\n",
       "      <th>Misc</th>\n",
       "      <td>38.19</td>\n",
       "    </tr>\n",
       "  </tbody>\n",
       "</table>\n",
       "</div>"
      ],
      "text/plain": [
       "              na_sales\n",
       "genre                 \n",
       "Action          177.84\n",
       "Shooter         144.77\n",
       "Sports           81.53\n",
       "Role-Playing     64.00\n",
       "Misc             38.19"
      ]
     },
     "execution_count": 33,
     "metadata": {},
     "output_type": "execute_result"
    }
   ],
   "source": [
    "top_5_genre_na = (current_table.pivot_table(index='genre', \n",
    "                                            values='na_sales', aggfunc=('sum')).sort_values('na_sales', \n",
    "                                                                           ascending=False).head()\n",
    "                 )\n",
    "top_5_genre_na"
   ]
  },
  {
   "cell_type": "markdown",
   "id": "181a6f8b",
   "metadata": {},
   "source": [
    "Самые популярные платформы:"
   ]
  },
  {
   "cell_type": "code",
   "execution_count": 34,
   "id": "1c4a1013",
   "metadata": {
    "scrolled": true
   },
   "outputs": [
    {
     "data": {
      "text/html": [
       "<div>\n",
       "<style scoped>\n",
       "    .dataframe tbody tr th:only-of-type {\n",
       "        vertical-align: middle;\n",
       "    }\n",
       "\n",
       "    .dataframe tbody tr th {\n",
       "        vertical-align: top;\n",
       "    }\n",
       "\n",
       "    .dataframe thead th {\n",
       "        text-align: right;\n",
       "    }\n",
       "</style>\n",
       "<table border=\"1\" class=\"dataframe\">\n",
       "  <thead>\n",
       "    <tr style=\"text-align: right;\">\n",
       "      <th></th>\n",
       "      <th>na_sales</th>\n",
       "    </tr>\n",
       "    <tr>\n",
       "      <th>platform</th>\n",
       "      <th></th>\n",
       "    </tr>\n",
       "  </thead>\n",
       "  <tbody>\n",
       "    <tr>\n",
       "      <th>X360</th>\n",
       "      <td>140.05</td>\n",
       "    </tr>\n",
       "    <tr>\n",
       "      <th>PS4</th>\n",
       "      <td>108.74</td>\n",
       "    </tr>\n",
       "    <tr>\n",
       "      <th>PS3</th>\n",
       "      <td>103.38</td>\n",
       "    </tr>\n",
       "    <tr>\n",
       "      <th>XOne</th>\n",
       "      <td>93.12</td>\n",
       "    </tr>\n",
       "    <tr>\n",
       "      <th>3DS</th>\n",
       "      <td>55.31</td>\n",
       "    </tr>\n",
       "  </tbody>\n",
       "</table>\n",
       "</div>"
      ],
      "text/plain": [
       "          na_sales\n",
       "platform          \n",
       "X360        140.05\n",
       "PS4         108.74\n",
       "PS3         103.38\n",
       "XOne         93.12\n",
       "3DS          55.31"
      ]
     },
     "execution_count": 34,
     "metadata": {},
     "output_type": "execute_result"
    }
   ],
   "source": [
    "top_5_platform_na = (current_table.pivot_table(index='platform', \n",
    "                                            values='na_sales', aggfunc=('sum')).sort_values('na_sales', \n",
    "                                                                           ascending=False).head()\n",
    "                 )\n",
    "top_5_platform_na"
   ]
  },
  {
   "cell_type": "markdown",
   "id": "d2c18569",
   "metadata": {},
   "source": [
    "Посмотрим как возрастной рейтинг влияет на кол-во продаж:"
   ]
  },
  {
   "cell_type": "code",
   "execution_count": 35,
   "id": "d573384e",
   "metadata": {},
   "outputs": [
    {
     "data": {
      "image/png": "[encoded data removed]"
     },
     "metadata": {},
     "output_type": "display_data"
    }
   ],
   "source": [
    "fig = px.scatter(current_table, x=\"na_sales\", y=\"rating\", title='Влияние возрастного рейтинга на продажи в Сев. Америке')\n",
    "fig.show('png')"
   ]
  },
  {
   "cell_type": "markdown",
   "id": "b0b64b13",
   "metadata": {},
   "source": [
    "* RP - рейтинг ожидается\n",
    "* EC - для детей младшего возраста\n",
    "* T - подросткам\n",
    "* E10+ - для всех от 10 лет \n",
    "* М - для взрослых\n",
    "* E - для всех"
   ]
  },
  {
   "cell_type": "markdown",
   "id": "4f411c64",
   "metadata": {},
   "source": [
    "Похоже, что рейтинг не просто не влияет на продажи, но, возможно, взрослый рейтинг наоборот повышает кол-во продаж.\n",
    "\n",
    "Так же есть и игры, чей рейтинг неизвестен. Такие игры, в среднем, продаются хуже, но бывают исключения. Скорее всего, это инди проекты до которых руки комиссии не дотянулись."
   ]
  },
  {
   "cell_type": "markdown",
   "id": "6e383094",
   "metadata": {},
   "source": [
    "### Портрет пользователя из Европы"
   ]
  },
  {
   "cell_type": "markdown",
   "id": "f6f3ce6f",
   "metadata": {},
   "source": [
    "Популярные жанры:"
   ]
  },
  {
   "cell_type": "code",
   "execution_count": 36,
   "id": "44d5ec5e",
   "metadata": {
    "scrolled": true
   },
   "outputs": [
    {
     "data": {
      "text/html": [
       "<div>\n",
       "<style scoped>\n",
       "    .dataframe tbody tr th:only-of-type {\n",
       "        vertical-align: middle;\n",
       "    }\n",
       "\n",
       "    .dataframe tbody tr th {\n",
       "        vertical-align: top;\n",
       "    }\n",
       "\n",
       "    .dataframe thead th {\n",
       "        text-align: right;\n",
       "    }\n",
       "</style>\n",
       "<table border=\"1\" class=\"dataframe\">\n",
       "  <thead>\n",
       "    <tr style=\"text-align: right;\">\n",
       "      <th></th>\n",
       "      <th>eu_sales</th>\n",
       "    </tr>\n",
       "    <tr>\n",
       "      <th>genre</th>\n",
       "      <th></th>\n",
       "    </tr>\n",
       "  </thead>\n",
       "  <tbody>\n",
       "    <tr>\n",
       "      <th>Action</th>\n",
       "      <td>159.34</td>\n",
       "    </tr>\n",
       "    <tr>\n",
       "      <th>Shooter</th>\n",
       "      <td>113.47</td>\n",
       "    </tr>\n",
       "    <tr>\n",
       "      <th>Sports</th>\n",
       "      <td>69.09</td>\n",
       "    </tr>\n",
       "    <tr>\n",
       "      <th>Role-Playing</th>\n",
       "      <td>48.53</td>\n",
       "    </tr>\n",
       "    <tr>\n",
       "      <th>Racing</th>\n",
       "      <td>27.29</td>\n",
       "    </tr>\n",
       "  </tbody>\n",
       "</table>\n",
       "</div>"
      ],
      "text/plain": [
       "              eu_sales\n",
       "genre                 \n",
       "Action          159.34\n",
       "Shooter         113.47\n",
       "Sports           69.09\n",
       "Role-Playing     48.53\n",
       "Racing           27.29"
      ]
     },
     "execution_count": 36,
     "metadata": {},
     "output_type": "execute_result"
    }
   ],
   "source": [
    "top_5_genre_eu = (current_table.pivot_table(index='genre', \n",
    "                                            values='eu_sales', aggfunc=('sum')).sort_values('eu_sales', \n",
    "                                                                           ascending=False).head()\n",
    "                 )\n",
    "top_5_genre_eu"
   ]
  },
  {
   "cell_type": "markdown",
   "id": "f656556c",
   "metadata": {},
   "source": [
    "Популярные платформы:"
   ]
  },
  {
   "cell_type": "code",
   "execution_count": 37,
   "id": "029f3f35",
   "metadata": {
    "scrolled": true
   },
   "outputs": [
    {
     "data": {
      "text/html": [
       "<div>\n",
       "<style scoped>\n",
       "    .dataframe tbody tr th:only-of-type {\n",
       "        vertical-align: middle;\n",
       "    }\n",
       "\n",
       "    .dataframe tbody tr th {\n",
       "        vertical-align: top;\n",
       "    }\n",
       "\n",
       "    .dataframe thead th {\n",
       "        text-align: right;\n",
       "    }\n",
       "</style>\n",
       "<table border=\"1\" class=\"dataframe\">\n",
       "  <thead>\n",
       "    <tr style=\"text-align: right;\">\n",
       "      <th></th>\n",
       "      <th>eu_sales</th>\n",
       "    </tr>\n",
       "    <tr>\n",
       "      <th>platform</th>\n",
       "      <th></th>\n",
       "    </tr>\n",
       "  </thead>\n",
       "  <tbody>\n",
       "    <tr>\n",
       "      <th>PS4</th>\n",
       "      <td>141.09</td>\n",
       "    </tr>\n",
       "    <tr>\n",
       "      <th>PS3</th>\n",
       "      <td>106.86</td>\n",
       "    </tr>\n",
       "    <tr>\n",
       "      <th>X360</th>\n",
       "      <td>74.52</td>\n",
       "    </tr>\n",
       "    <tr>\n",
       "      <th>XOne</th>\n",
       "      <td>51.59</td>\n",
       "    </tr>\n",
       "    <tr>\n",
       "      <th>3DS</th>\n",
       "      <td>42.64</td>\n",
       "    </tr>\n",
       "  </tbody>\n",
       "</table>\n",
       "</div>"
      ],
      "text/plain": [
       "          eu_sales\n",
       "platform          \n",
       "PS4         141.09\n",
       "PS3         106.86\n",
       "X360         74.52\n",
       "XOne         51.59\n",
       "3DS          42.64"
      ]
     },
     "execution_count": 37,
     "metadata": {},
     "output_type": "execute_result"
    }
   ],
   "source": [
    "top_5_platform_eu = (current_table.pivot_table(index='platform', \n",
    "                                            values='eu_sales', aggfunc=('sum')).sort_values('eu_sales', \n",
    "                                                                           ascending=False).head()\n",
    "                 )\n",
    "top_5_platform_eu"
   ]
  },
  {
   "cell_type": "markdown",
   "id": "8b8a7852",
   "metadata": {},
   "source": [
    "Влияние возрастного рейтинга на продажи:"
   ]
  },
  {
   "cell_type": "code",
   "execution_count": 38,
   "id": "776bf5c3",
   "metadata": {
    "scrolled": false
   },
   "outputs": [
    {
     "data": {
      "image/png": "[encoded data removed]"
     },
     "metadata": {},
     "output_type": "display_data"
    }
   ],
   "source": [
    "fig = px.scatter(current_table, x=\"eu_sales\", y=\"rating\", title='Влияние возрастного рейтинга на продажи в Европе')\n",
    "fig.show('png')"
   ]
  },
  {
   "cell_type": "markdown",
   "id": "35108de5",
   "metadata": {},
   "source": [
    "* RP - рейтинг ожидается\n",
    "* EC - для детей младшего возраста\n",
    "* T - подросткам\n",
    "* E10+ - для всех от 10 лет \n",
    "* М - для взрослых\n",
    "* E - для всех"
   ]
  },
  {
   "cell_type": "markdown",
   "id": "27a83fc9",
   "metadata": {},
   "source": [
    "График похож на ситуацию в Северной Америке, за тем исключением, что в Европе намного чаще покупают игры с неизвестным рейтингом. Если предположить, что это инди игры, то значит европейцам больше нравится независимый геймдев."
   ]
  },
  {
   "cell_type": "markdown",
   "id": "6b4dcb13",
   "metadata": {},
   "source": [
    "### Портрет пользователя из Японии"
   ]
  },
  {
   "cell_type": "markdown",
   "id": "a88d18ef",
   "metadata": {},
   "source": [
    "Популярные жанры:"
   ]
  },
  {
   "cell_type": "code",
   "execution_count": 39,
   "id": "c800944b",
   "metadata": {},
   "outputs": [
    {
     "data": {
      "text/html": [
       "<div>\n",
       "<style scoped>\n",
       "    .dataframe tbody tr th:only-of-type {\n",
       "        vertical-align: middle;\n",
       "    }\n",
       "\n",
       "    .dataframe tbody tr th {\n",
       "        vertical-align: top;\n",
       "    }\n",
       "\n",
       "    .dataframe thead th {\n",
       "        text-align: right;\n",
       "    }\n",
       "</style>\n",
       "<table border=\"1\" class=\"dataframe\">\n",
       "  <thead>\n",
       "    <tr style=\"text-align: right;\">\n",
       "      <th></th>\n",
       "      <th>jp_sales</th>\n",
       "    </tr>\n",
       "    <tr>\n",
       "      <th>genre</th>\n",
       "      <th></th>\n",
       "    </tr>\n",
       "  </thead>\n",
       "  <tbody>\n",
       "    <tr>\n",
       "      <th>Role-Playing</th>\n",
       "      <td>65.44</td>\n",
       "    </tr>\n",
       "    <tr>\n",
       "      <th>Action</th>\n",
       "      <td>52.80</td>\n",
       "    </tr>\n",
       "    <tr>\n",
       "      <th>Misc</th>\n",
       "      <td>12.86</td>\n",
       "    </tr>\n",
       "    <tr>\n",
       "      <th>Simulation</th>\n",
       "      <td>10.41</td>\n",
       "    </tr>\n",
       "    <tr>\n",
       "      <th>Fighting</th>\n",
       "      <td>9.44</td>\n",
       "    </tr>\n",
       "  </tbody>\n",
       "</table>\n",
       "</div>"
      ],
      "text/plain": [
       "              jp_sales\n",
       "genre                 \n",
       "Role-Playing     65.44\n",
       "Action           52.80\n",
       "Misc             12.86\n",
       "Simulation       10.41\n",
       "Fighting          9.44"
      ]
     },
     "execution_count": 39,
     "metadata": {},
     "output_type": "execute_result"
    }
   ],
   "source": [
    "top_5_genre_jp = (current_table.pivot_table(index='genre', \n",
    "                                            values='jp_sales', aggfunc=('sum')).sort_values('jp_sales', \n",
    "                                                                           ascending=False).head()\n",
    "                 )\n",
    "top_5_genre_jp"
   ]
  },
  {
   "cell_type": "markdown",
   "id": "4a4651c4",
   "metadata": {},
   "source": [
    "Популярные платформы:"
   ]
  },
  {
   "cell_type": "code",
   "execution_count": 40,
   "id": "09daf70d",
   "metadata": {},
   "outputs": [
    {
     "data": {
      "text/html": [
       "<div>\n",
       "<style scoped>\n",
       "    .dataframe tbody tr th:only-of-type {\n",
       "        vertical-align: middle;\n",
       "    }\n",
       "\n",
       "    .dataframe tbody tr th {\n",
       "        vertical-align: top;\n",
       "    }\n",
       "\n",
       "    .dataframe thead th {\n",
       "        text-align: right;\n",
       "    }\n",
       "</style>\n",
       "<table border=\"1\" class=\"dataframe\">\n",
       "  <thead>\n",
       "    <tr style=\"text-align: right;\">\n",
       "      <th></th>\n",
       "      <th>jp_sales</th>\n",
       "    </tr>\n",
       "    <tr>\n",
       "      <th>platform</th>\n",
       "      <th></th>\n",
       "    </tr>\n",
       "  </thead>\n",
       "  <tbody>\n",
       "    <tr>\n",
       "      <th>3DS</th>\n",
       "      <td>87.79</td>\n",
       "    </tr>\n",
       "    <tr>\n",
       "      <th>PS3</th>\n",
       "      <td>35.29</td>\n",
       "    </tr>\n",
       "    <tr>\n",
       "      <th>PSV</th>\n",
       "      <td>21.04</td>\n",
       "    </tr>\n",
       "    <tr>\n",
       "      <th>PS4</th>\n",
       "      <td>15.96</td>\n",
       "    </tr>\n",
       "    <tr>\n",
       "      <th>WiiU</th>\n",
       "      <td>13.01</td>\n",
       "    </tr>\n",
       "  </tbody>\n",
       "</table>\n",
       "</div>"
      ],
      "text/plain": [
       "          jp_sales\n",
       "platform          \n",
       "3DS          87.79\n",
       "PS3          35.29\n",
       "PSV          21.04\n",
       "PS4          15.96\n",
       "WiiU         13.01"
      ]
     },
     "execution_count": 40,
     "metadata": {},
     "output_type": "execute_result"
    }
   ],
   "source": [
    "top_5_platform_jp = (current_table.pivot_table(index='platform', \n",
    "                                            values='jp_sales', aggfunc=('sum')).sort_values('jp_sales', \n",
    "                                                                           ascending=False).head()\n",
    "                 )\n",
    "top_5_platform_jp"
   ]
  },
  {
   "cell_type": "markdown",
   "id": "818f7876",
   "metadata": {},
   "source": [
    "Влияние возрастного рейтинга на продажи:"
   ]
  },
  {
   "cell_type": "code",
   "execution_count": 41,
   "id": "4b06c9a6",
   "metadata": {
    "scrolled": false
   },
   "outputs": [
    {
     "data": {
      "image/png": "[encoded data removed]"
     },
     "metadata": {},
     "output_type": "display_data"
    }
   ],
   "source": [
    "fig = px.scatter(current_table, x=\"jp_sales\", y=\"rating\", title='Влияние возрастного рейтинга на продажи в Японии')\n",
    "fig.show('png')"
   ]
  },
  {
   "cell_type": "markdown",
   "id": "8832f9f6",
   "metadata": {},
   "source": [
    "* RP - рейтинг ожидается\n",
    "* EC - для детей младшего возраста\n",
    "* T - подросткам\n",
    "* E10+ - для всех от 10 лет \n",
    "* М - для взрослых\n",
    "* E - для всех"
   ]
  },
  {
   "cell_type": "markdown",
   "id": "f987b348",
   "metadata": {},
   "source": [
    "В Японии ситуция с рейтингом отличается от Америки и Европы. Продаж с рейтингом `M` намного меньше. Кроме того, на графике видно, что продажи в целом ниже, а игры с миллиоными продажами - редкость. \n",
    "\n",
    "Игры без рейтинга продаются лучше всего. Наверное в Японии выходит много проектов для сугубо внутренего потребления, рейтинговая комиссия о таких проектах и не догадвается."
   ]
  },
  {
   "cell_type": "markdown",
   "id": "30aacba9",
   "metadata": {},
   "source": [
    "### Сравнение пользователей из разные регионов"
   ]
  },
  {
   "cell_type": "markdown",
   "id": "8dc2db38",
   "metadata": {},
   "source": [
    "Сравним популярные жанры и консоли в Северной Америке, Европе и Японии:\n"
   ]
  },
  {
   "cell_type": "code",
   "execution_count": 42,
   "id": "9576158c",
   "metadata": {},
   "outputs": [
    {
     "data": {
      "image/png": "[encoded data removed]"
     },
     "metadata": {},
     "output_type": "display_data"
    }
   ],
   "source": [
    "genre_na = top_5_genre_na.index\n",
    "sales_na = top_5_genre_na['na_sales']\n",
    "\n",
    "genre_eu = top_5_genre_eu.index\n",
    "sales_eu = top_5_genre_eu['eu_sales']\n",
    "\n",
    "genre_jp = top_5_genre_jp.index\n",
    "sales_jp = top_5_genre_jp['jp_sales']\n",
    "\n",
    "\n",
    "\n",
    "fig = make_subplots(rows=1, cols=3) # указываем сколько места для графиков нам нужно\n",
    " \n",
    "fig.add_trace(\n",
    "    go.Bar(x=genre_na, y=sales_na, name='Сев. Америка'), \n",
    "    row=1, col=1\n",
    ")\n",
    "\n",
    "fig.add_trace(\n",
    "    go.Bar(x=genre_eu, y=sales_eu, name='Европа'),\n",
    "    row=1, col=2\n",
    ")\n",
    "\n",
    "fig.add_trace(\n",
    "    go.Bar(x=genre_jp, y=sales_jp, name='Япония'),\n",
    "    row=1, col=3\n",
    ")\n",
    "\n",
    "fig.update_xaxes(title_text=\"Жанры игр\", row=1, col=2)\n",
    "fig.update_yaxes(title_text=\"Число продаж\", row=1, col=1)\n",
    "\n",
    "fig.update_layout(height=500, width=1000, title_text=\"Сравнение популярности жанров\")\n",
    "fig.show('png')"
   ]
  },
  {
   "cell_type": "markdown",
   "id": "690e1e01",
   "metadata": {},
   "source": [
    "Топ 5 жанра в Америке  и Европе практически идентичные, в то время как в Японии популярны и другие жанры, и в топ 5  входят симуляторы и файтинги"
   ]
  },
  {
   "cell_type": "code",
   "execution_count": 43,
   "id": "93a396da",
   "metadata": {
    "scrolled": false
   },
   "outputs": [
    {
     "data": {
      "image/png": "[encoded data removed]"
     },
     "metadata": {},
     "output_type": "display_data"
    }
   ],
   "source": [
    "platform_na = top_5_platform_na.index\n",
    "sales_na = top_5_platform_na['na_sales']\n",
    "\n",
    "platform_eu = top_5_platform_eu.index\n",
    "sales_eu = top_5_platform_eu['eu_sales']\n",
    "\n",
    "platform_jp = top_5_platform_jp.index\n",
    "sales_jp = top_5_platform_jp['jp_sales']\n",
    "\n",
    "\n",
    "\n",
    "fig = make_subplots(rows=1, cols=3)\n",
    "\n",
    "fig.add_trace(\n",
    "    go.Bar(x=platform_na, y=sales_na, name='Сев. Америка'),\n",
    "    row=1, col=1\n",
    ")\n",
    "\n",
    "fig.add_trace(\n",
    "    go.Bar(x=platform_eu, y=sales_eu, name='Европа'),\n",
    "    row=1, col=2\n",
    ")\n",
    "\n",
    "fig.add_trace(\n",
    "    go.Bar(x=platform_jp, y=sales_jp, name='Япония'),\n",
    "    row=1, col=3\n",
    ")\n",
    "\n",
    "fig.update_xaxes(title_text=\"Платформа\", row=1, col=2)\n",
    "fig.update_yaxes(title_text=\"Число продаж\", row=1, col=1)\n",
    "\n",
    "fig.update_layout(height=500, width=1000, title_text=\"Сравнение популярности платформ\")\n",
    "fig.show('png')"
   ]
  },
  {
   "cell_type": "markdown",
   "id": "314d1bcf",
   "metadata": {},
   "source": [
    "Популярные платформы в Америке и Европе не отличаются\n",
    "\n",
    "А вот в Японии в основном популярны портативные консоли и `PS3/4`. Скорее всего, это и связанно с тем, почему в топ-жанрах Японии есть РПГ, симуляторы и файтинги. А вот в шутеры играть на портативках уже не так удобно, поэтому они(шутеры) и так непопулярны."
   ]
  },
  {
   "cell_type": "markdown",
   "id": "9662659c",
   "metadata": {},
   "source": [
    "**Вывод:**\n",
    "* Популярные жанры в Америке и Европе практически одинаковые, это `Action, Shooter, Sports, Role-Playing.\n",
    "* В Японии популярны `Role-Playing, Action, Misc, Simulation, Fighting`, в Японии совсем непопулярны шутеры.\n",
    "\n",
    "Популярные консоли в Америке и Европе одни и те же, и в основном стационарные.\n",
    "\n",
    "В Японии, из стационарных косолей популярна только `PS3` и `PS4`, все остальные консоли портативные.\n",
    "\n",
    "\n",
    "Возрастной рейтинг влияет на продажи только в Японии и игры рейтинга `M - для взрослых` продаются хуже, по сравнению с другими регионами. Также в Японии продается много игр без возрастного рейтинга."
   ]
  },
  {
   "cell_type": "markdown",
   "id": "13fba814",
   "metadata": {},
   "source": [
    "## Шаг 5. Проверка гипотез"
   ]
  },
  {
   "cell_type": "markdown",
   "id": "ef906e6a",
   "metadata": {},
   "source": [
    "### Гипотеза 1. Средние пользовательские рейтинги платформ Xbox One и PC одинаковые"
   ]
  },
  {
   "cell_type": "markdown",
   "id": "1c1a9aa1",
   "metadata": {},
   "source": [
    "Для начала проверки гипотез сформулируем нулевую гипотезу, которая всегда формулируется со знаком равенства, значит, что нулевая гипотеза для \"Средние пользовательские рейтинги платформ Xbox One и PC одинаковые\":\n",
    "\n",
    "* \"Средние пользовательские рейтинги платформ Xbox One и PC **одинаковые**\"\n",
    "\n",
    "Тогда альтернативная гипотеза, которая верна, если нулевая гипотеза неверна:\n",
    "\n",
    "* \"Средние пользовательские рейтинги платформ Xbox One и PC **отличаются**\""
   ]
  },
  {
   "cell_type": "code",
   "execution_count": 44,
   "id": "9723f0eb",
   "metadata": {},
   "outputs": [],
   "source": [
    "xone_current_table = current_table.query('platform == \"XOne\" and user_score != \"-1\"')\n",
    "pc_current_table = current_table.query('platform == \"PC\" and user_score !=\"-1\"')"
   ]
  },
  {
   "cell_type": "markdown",
   "id": "1e6f3d14",
   "metadata": {},
   "source": [
    "Для того, чтобы опровергнуть или подтвердить нулевую гипотезу используем `t-test`, поскольку генеральные совокупности не зависят друг от друга:"
   ]
  },
  {
   "cell_type": "code",
   "execution_count": 45,
   "id": "7eef1dc8",
   "metadata": {},
   "outputs": [
    {
     "name": "stdout",
     "output_type": "stream",
     "text": [
      "p-значение:  0.05605440473353122\n",
      "Не получилось отвергнуть нулевую гипотезу\n"
     ]
    }
   ],
   "source": [
    "alpha = .05 # критический уровень статистической значимости\n",
    "\n",
    "results = st.ttest_ind(\n",
    "    xone_current_table['user_score'], \n",
    "    pc_current_table['user_score'])\n",
    "\n",
    "print('p-значение: ', results.pvalue)\n",
    "\n",
    "if results.pvalue < alpha:\n",
    "    print(\"Отвергаем нулевую гипотезу\")\n",
    "else:\n",
    "    print(\"Не получилось отвергнуть нулевую гипотезу\") "
   ]
  },
  {
   "cell_type": "markdown",
   "id": "cb4e2e04",
   "metadata": {},
   "source": [
    "Поскольку данных не так много, можно и просто сравнить средние показатели для каждоый платформы:"
   ]
  },
  {
   "cell_type": "code",
   "execution_count": 46,
   "id": "7fc7cbb8",
   "metadata": {},
   "outputs": [
    {
     "name": "stdout",
     "output_type": "stream",
     "text": [
      "4.542105263157895\n"
     ]
    },
    {
     "data": {
      "text/plain": [
       "5.1212"
      ]
     },
     "execution_count": 46,
     "metadata": {},
     "output_type": "execute_result"
    }
   ],
   "source": [
    "print(xone_current_table['user_score'].mean())\n",
    "pc_current_table['user_score'].mean()"
   ]
  },
  {
   "cell_type": "code",
   "execution_count": 47,
   "id": "a580117d",
   "metadata": {},
   "outputs": [
    {
     "name": "stdout",
     "output_type": "stream",
     "text": [
      "6.0\n"
     ]
    },
    {
     "data": {
      "text/plain": [
       "6.2"
      ]
     },
     "execution_count": 47,
     "metadata": {},
     "output_type": "execute_result"
    }
   ],
   "source": [
    "print(xone_current_table['user_score'].median())\n",
    "pc_current_table['user_score'].median()"
   ]
  },
  {
   "cell_type": "markdown",
   "id": "71022ff4",
   "metadata": {},
   "source": [
    "Видно, что средние пользовательские оценки на обоих платформах хоть и очень близки, но не одинаковы."
   ]
  },
  {
   "cell_type": "markdown",
   "id": "9a96148e",
   "metadata": {},
   "source": [
    "**Вывод**: Гипотеза \"Средние пользовательские рейтинги платформ Xbox One и PC одинаковые\" - не подтвердилась."
   ]
  },
  {
   "cell_type": "markdown",
   "id": "cb2d712f",
   "metadata": {},
   "source": [
    "### Гипотеза 2. Средние пользовательские рейтинги жанров Action (англ. «действие», экшен-игры) и Sports (англ. «спортивные соревнования») разные "
   ]
  },
  {
   "cell_type": "markdown",
   "id": "4079e4ea",
   "metadata": {},
   "source": [
    "* Нулевая гипотеза - \"Средние пользовательские рейтинги жанров Action (англ. «действие», экшен-игры) и Sports (англ. «спортивные соревнования») **одинаковые**\"\n",
    "* Альтернативная гипотеза - \"Средние пользовательские рейтинги жанров Action (англ. «действие», экшен-игры) и Sports (англ. «спортивные соревнования») **отличаются**\""
   ]
  },
  {
   "cell_type": "code",
   "execution_count": 48,
   "id": "242cf312",
   "metadata": {},
   "outputs": [],
   "source": [
    "action_current_table = current_table.query('genre == \"Action\" and user_score != \"-1\"')\n",
    "sports_current_table = current_table.query('genre == \"Sports\" and user_score != \"-1\"')"
   ]
  },
  {
   "cell_type": "markdown",
   "id": "a6d19ba4",
   "metadata": {},
   "source": [
    "Снова, для начала, используем `t-тест`:"
   ]
  },
  {
   "cell_type": "code",
   "execution_count": 49,
   "id": "b9dc85da",
   "metadata": {},
   "outputs": [
    {
     "name": "stdout",
     "output_type": "stream",
     "text": [
      "p-значение:  0.006352308483614134\n",
      "Отвергаем нулевую гипотезу\n"
     ]
    }
   ],
   "source": [
    "alpha = .05 \n",
    "\n",
    "results = st.ttest_ind(\n",
    "    action_current_table['user_score'], \n",
    "    sports_current_table['user_score'])\n",
    "\n",
    "print('p-значение: ', results.pvalue)\n",
    "\n",
    "if results.pvalue < alpha:\n",
    "    print(\"Отвергаем нулевую гипотезу\")\n",
    "else:\n",
    "    print(\"Не получилось отвергнуть нулевую гипотезу\")"
   ]
  },
  {
   "cell_type": "markdown",
   "id": "f2cd8829",
   "metadata": {},
   "source": [
    "Опять же, данных не так много, поэтому можно взглянуть и на средние показатели двух датафреймов:"
   ]
  },
  {
   "cell_type": "code",
   "execution_count": 50,
   "id": "48273e6d",
   "metadata": {},
   "outputs": [
    {
     "name": "stdout",
     "output_type": "stream",
     "text": [
      "2.969447138700291\n"
     ]
    },
    {
     "data": {
      "text/plain": [
       "3.6973880597014923"
      ]
     },
     "execution_count": 50,
     "metadata": {},
     "output_type": "execute_result"
    }
   ],
   "source": [
    "print(action_current_table['user_score'].mean())\n",
    "sports_current_table['user_score'].mean()"
   ]
  },
  {
   "cell_type": "code",
   "execution_count": 51,
   "id": "67ea4ee5",
   "metadata": {},
   "outputs": [
    {
     "name": "stdout",
     "output_type": "stream",
     "text": [
      "3.0\n"
     ]
    },
    {
     "data": {
      "text/plain": [
       "4.55"
      ]
     },
     "execution_count": 51,
     "metadata": {},
     "output_type": "execute_result"
    }
   ],
   "source": [
    "print(action_current_table['user_score'].median())\n",
    "sports_current_table['user_score'].median()"
   ]
  },
  {
   "cell_type": "markdown",
   "id": "0d29c9e0",
   "metadata": {},
   "source": [
    "Средние пользовательские оценки действительно разные."
   ]
  },
  {
   "cell_type": "markdown",
   "id": "093cbd9e",
   "metadata": {},
   "source": [
    "**Вывод:** Гипотеза \"Средние пользовательские рейтинги жанров Action (англ. «действие», экшен-игры) и Sports (англ. «спортивные соревнования») разные\" - подтвердилась."
   ]
  },
  {
   "cell_type": "markdown",
   "id": "0c441aa0",
   "metadata": {},
   "source": [
    "## Общие выводы:\n",
    "* Оценив данные за все время, мы пришли к выводу, что в среднем платформа актуально в течение 6-7 лет, поэтому прогнозы мы делали исходя из данных за 2010-2016 год. \n",
    "\n",
    "* Мы выяснили, что самыми преспективными платформами для Северной Америки и Европы на 2017 год будут `XOne` и `PS4`.\n",
    "\n",
    "* Японский же рынок, в сравнении с Северной Америковй и Европой приносит намного меньше денег, единственная популярная платформа - `3DS`, но продажи на ней уже 3 года подряд падают. Поэтому лучше сконцентрироваться на Американском и Европейском рынке.\n",
    "\n",
    "* Самый популярные жанры в Америке и Европе одинаковые, первое место среди них занимает -  `Action`, дальше идут `Shooter, Sport, Misc, Role-Playing`.\n",
    "\n",
    "* Возрастной рейтинг в Америке и Европе сильно не влияет на продажи, самые популярные игры рейтинга `\"M\" - для взрослых`. На втором месте рейтинг `\"E\" - для всех`.\n",
    "\n",
    "*Таким образом потенциально популярный продукт будет выходить на `XOne` и `PS4`, в жанре, в первую очередь `Action`, `Shooter` c рейтингом `\"M\" - для взрослых`. Так же неплохой, но меньшей, популярностью будут пользоваться жанры `Sports, Role-Playing, Misc` и возрастной рейтинг `\"E\" - для всех`*."
   ]
  },
  {
   "cell_type": "markdown",
   "id": "29527433",
   "metadata": {},
   "source": [
    "Мы так же проверили 2 гипотезы и они обе подтвердились:\n",
    "* Гипотеза \"Средние пользовательские рейтинги платформ Xbox One и PC одинаковые\" - не подтвердилась.\n",
    "* Гипотеза \"Средние пользовательские рейтинги жанров Action (англ. «действие», экшен-игры) и Sports (англ. «спортивные соревнования») разные\" - подтвердилась."
   ]
  }
 ],
 "metadata": {
  "ExecuteTimeLog": [
   {
    "duration": 2347,
    "start_time": "2022-04-17T06:04:32.824Z"
   },
   {
    "duration": 1451,
    "start_time": "2022-04-17T06:04:35.173Z"
   },
   {
    "duration": 178,
    "start_time": "2022-04-17T06:04:36.625Z"
   },
   {
    "duration": 4,
    "start_time": "2022-04-17T06:04:36.805Z"
   },
   {
    "duration": 18,
    "start_time": "2022-04-17T06:04:36.810Z"
   },
   {
    "duration": 80,
    "start_time": "2022-04-17T06:04:36.830Z"
   },
   {
    "duration": 11,
    "start_time": "2022-04-17T06:04:36.912Z"
   },
   {
    "duration": 100,
    "start_time": "2022-04-17T06:04:36.925Z"
   },
   {
    "duration": 5,
    "start_time": "2022-04-17T06:04:37.026Z"
   },
   {
    "duration": 77,
    "start_time": "2022-04-17T06:04:37.033Z"
   },
   {
    "duration": 8,
    "start_time": "2022-04-17T06:04:37.111Z"
   },
   {
    "duration": 5,
    "start_time": "2022-04-17T06:04:37.121Z"
   },
   {
    "duration": 75,
    "start_time": "2022-04-17T06:04:37.127Z"
   },
   {
    "duration": 8,
    "start_time": "2022-04-17T06:04:37.205Z"
   },
   {
    "duration": 5,
    "start_time": "2022-04-17T06:04:37.215Z"
   },
   {
    "duration": 883,
    "start_time": "2022-04-17T06:04:37.221Z"
   },
   {
    "duration": 9,
    "start_time": "2022-04-17T06:04:38.106Z"
   },
   {
    "duration": 10,
    "start_time": "2022-04-17T06:04:38.116Z"
   },
   {
    "duration": 676,
    "start_time": "2022-04-17T06:04:38.128Z"
   },
   {
    "duration": 5,
    "start_time": "2022-04-17T06:04:38.806Z"
   },
   {
    "duration": 15,
    "start_time": "2022-04-17T06:04:38.812Z"
   },
   {
    "duration": 83,
    "start_time": "2022-04-17T06:04:38.829Z"
   },
   {
    "duration": 114,
    "start_time": "2022-04-17T06:04:38.913Z"
   },
   {
    "duration": 7,
    "start_time": "2022-04-17T06:04:39.029Z"
   },
   {
    "duration": 104,
    "start_time": "2022-04-17T06:04:39.037Z"
   },
   {
    "duration": 158,
    "start_time": "2022-04-17T06:04:39.142Z"
   },
   {
    "duration": 138,
    "start_time": "2022-04-17T06:04:39.302Z"
   },
   {
    "duration": 184,
    "start_time": "2022-04-17T06:04:39.444Z"
   },
   {
    "duration": 183,
    "start_time": "2022-04-17T06:04:39.630Z"
   },
   {
    "duration": 13,
    "start_time": "2022-04-17T06:04:39.815Z"
   },
   {
    "duration": 79,
    "start_time": "2022-04-17T06:04:39.830Z"
   },
   {
    "duration": 12,
    "start_time": "2022-04-17T06:04:39.910Z"
   },
   {
    "duration": 15,
    "start_time": "2022-04-17T06:04:39.923Z"
   },
   {
    "duration": 192,
    "start_time": "2022-04-17T06:04:39.939Z"
   },
   {
    "duration": 73,
    "start_time": "2022-04-17T06:04:40.133Z"
   },
   {
    "duration": 13,
    "start_time": "2022-04-17T06:04:40.208Z"
   },
   {
    "duration": 190,
    "start_time": "2022-04-17T06:04:40.223Z"
   },
   {
    "duration": 14,
    "start_time": "2022-04-17T06:04:40.414Z"
   },
   {
    "duration": 79,
    "start_time": "2022-04-17T06:04:40.429Z"
   },
   {
    "duration": 128,
    "start_time": "2022-04-17T06:04:40.509Z"
   },
   {
    "duration": 71,
    "start_time": "2022-04-17T06:04:40.639Z"
   },
   {
    "duration": 12,
    "start_time": "2022-04-17T06:04:40.711Z"
   },
   {
    "duration": 8,
    "start_time": "2022-04-17T06:04:40.725Z"
   },
   {
    "duration": 70,
    "start_time": "2022-04-17T06:04:40.735Z"
   },
   {
    "duration": 7,
    "start_time": "2022-04-17T06:04:40.806Z"
   },
   {
    "duration": 5,
    "start_time": "2022-04-17T06:04:40.815Z"
   },
   {
    "duration": 10,
    "start_time": "2022-04-17T06:04:40.822Z"
   },
   {
    "duration": 69,
    "start_time": "2022-04-17T06:04:40.833Z"
   },
   {
    "duration": 6,
    "start_time": "2022-04-17T06:04:40.903Z"
   },
   {
    "duration": 5,
    "start_time": "2022-04-17T06:04:40.911Z"
   },
   {
    "duration": 7,
    "start_time": "2022-04-17T06:36:16.037Z"
   },
   {
    "duration": 40,
    "start_time": "2022-04-17T06:36:18.018Z"
   },
   {
    "duration": 1220,
    "start_time": "2022-04-17T06:47:13.921Z"
   },
   {
    "duration": 41,
    "start_time": "2022-04-17T06:47:15.143Z"
   },
   {
    "duration": 51,
    "start_time": "2022-04-17T06:47:15.186Z"
   },
   {
    "duration": 3,
    "start_time": "2022-04-17T06:47:15.240Z"
   },
   {
    "duration": 12,
    "start_time": "2022-04-17T06:47:15.245Z"
   },
   {
    "duration": 16,
    "start_time": "2022-04-17T06:47:15.259Z"
   },
   {
    "duration": 30,
    "start_time": "2022-04-17T06:47:15.276Z"
   },
   {
    "duration": 32,
    "start_time": "2022-04-17T06:47:15.308Z"
   },
   {
    "duration": 3,
    "start_time": "2022-04-17T06:47:15.342Z"
   },
   {
    "duration": 14,
    "start_time": "2022-04-17T06:47:15.348Z"
   },
   {
    "duration": 37,
    "start_time": "2022-04-17T06:47:15.363Z"
   },
   {
    "duration": 4,
    "start_time": "2022-04-17T06:47:15.402Z"
   },
   {
    "duration": 5,
    "start_time": "2022-04-17T06:47:15.408Z"
   },
   {
    "duration": 9,
    "start_time": "2022-04-17T06:47:15.414Z"
   },
   {
    "duration": 5,
    "start_time": "2022-04-17T06:47:15.424Z"
   },
   {
    "duration": 547,
    "start_time": "2022-04-17T06:47:15.431Z"
   },
   {
    "duration": 25,
    "start_time": "2022-04-17T06:47:15.979Z"
   },
   {
    "duration": 32,
    "start_time": "2022-04-17T06:47:16.006Z"
   },
   {
    "duration": 323,
    "start_time": "2022-04-17T06:47:16.039Z"
   },
   {
    "duration": 5,
    "start_time": "2022-04-17T06:47:16.364Z"
   },
   {
    "duration": 29,
    "start_time": "2022-04-17T06:47:16.371Z"
   },
   {
    "duration": 25,
    "start_time": "2022-04-17T06:47:16.401Z"
   },
   {
    "duration": 84,
    "start_time": "2022-04-17T06:47:16.428Z"
   },
   {
    "duration": 9,
    "start_time": "2022-04-17T06:47:16.514Z"
   },
   {
    "duration": 46,
    "start_time": "2022-04-17T06:47:16.524Z"
   },
   {
    "duration": 67,
    "start_time": "2022-04-17T06:47:16.572Z"
   },
   {
    "duration": 92,
    "start_time": "2022-04-17T06:47:16.641Z"
   },
   {
    "duration": 90,
    "start_time": "2022-04-17T06:47:16.738Z"
   },
   {
    "duration": 103,
    "start_time": "2022-04-17T06:47:16.830Z"
   },
   {
    "duration": 13,
    "start_time": "2022-04-17T06:47:16.935Z"
   },
   {
    "duration": 17,
    "start_time": "2022-04-17T06:47:16.950Z"
   },
   {
    "duration": 39,
    "start_time": "2022-04-17T06:47:16.969Z"
   },
   {
    "duration": 11,
    "start_time": "2022-04-17T06:47:17.010Z"
   },
   {
    "duration": 86,
    "start_time": "2022-04-17T06:47:17.023Z"
   },
   {
    "duration": 13,
    "start_time": "2022-04-17T06:47:17.110Z"
   },
   {
    "duration": 19,
    "start_time": "2022-04-17T06:47:17.124Z"
   },
   {
    "duration": 98,
    "start_time": "2022-04-17T06:47:17.144Z"
   },
   {
    "duration": 12,
    "start_time": "2022-04-17T06:47:17.244Z"
   },
   {
    "duration": 13,
    "start_time": "2022-04-17T06:47:17.258Z"
   },
   {
    "duration": 98,
    "start_time": "2022-04-17T06:47:17.272Z"
   },
   {
    "duration": 30,
    "start_time": "2022-04-17T06:47:17.371Z"
   },
   {
    "duration": 12,
    "start_time": "2022-04-17T06:47:17.402Z"
   },
   {
    "duration": 8,
    "start_time": "2022-04-17T06:47:17.416Z"
   },
   {
    "duration": 5,
    "start_time": "2022-04-17T06:47:17.425Z"
   },
   {
    "duration": 7,
    "start_time": "2022-04-17T06:47:17.432Z"
   },
   {
    "duration": 6,
    "start_time": "2022-04-17T06:47:17.440Z"
   },
   {
    "duration": 9,
    "start_time": "2022-04-17T06:47:17.447Z"
   },
   {
    "duration": 5,
    "start_time": "2022-04-17T06:47:17.457Z"
   },
   {
    "duration": 4,
    "start_time": "2022-04-17T06:47:17.501Z"
   },
   {
    "duration": 5,
    "start_time": "2022-04-17T06:47:17.507Z"
   },
   {
    "duration": 47,
    "start_time": "2022-04-19T10:47:52.607Z"
   },
   {
    "duration": 1319,
    "start_time": "2022-04-19T10:47:58.122Z"
   },
   {
    "duration": 33,
    "start_time": "2022-04-19T10:47:59.443Z"
   },
   {
    "duration": 48,
    "start_time": "2022-04-19T10:47:59.478Z"
   },
   {
    "duration": 2,
    "start_time": "2022-04-19T10:47:59.528Z"
   },
   {
    "duration": 24,
    "start_time": "2022-04-19T10:47:59.532Z"
   },
   {
    "duration": 17,
    "start_time": "2022-04-19T10:47:59.558Z"
   },
   {
    "duration": 10,
    "start_time": "2022-04-19T10:47:59.577Z"
   },
   {
    "duration": 38,
    "start_time": "2022-04-19T10:47:59.589Z"
   },
   {
    "duration": 29,
    "start_time": "2022-04-19T10:47:59.628Z"
   },
   {
    "duration": 15,
    "start_time": "2022-04-19T10:47:59.660Z"
   },
   {
    "duration": 7,
    "start_time": "2022-04-19T10:47:59.676Z"
   },
   {
    "duration": 4,
    "start_time": "2022-04-19T10:47:59.684Z"
   },
   {
    "duration": 7,
    "start_time": "2022-04-19T10:47:59.690Z"
   },
   {
    "duration": 7,
    "start_time": "2022-04-19T10:47:59.699Z"
   },
   {
    "duration": 7,
    "start_time": "2022-04-19T10:47:59.707Z"
   },
   {
    "duration": 9,
    "start_time": "2022-04-19T10:47:59.716Z"
   },
   {
    "duration": 532,
    "start_time": "2022-04-19T10:47:59.726Z"
   },
   {
    "duration": 11,
    "start_time": "2022-04-19T10:48:00.259Z"
   },
   {
    "duration": 16,
    "start_time": "2022-04-19T10:48:00.272Z"
   },
   {
    "duration": 378,
    "start_time": "2022-04-19T10:48:00.290Z"
   },
   {
    "duration": 8,
    "start_time": "2022-04-19T10:48:00.670Z"
   },
   {
    "duration": 18,
    "start_time": "2022-04-19T10:48:00.679Z"
   },
   {
    "duration": 23,
    "start_time": "2022-04-19T10:48:00.699Z"
   },
   {
    "duration": 81,
    "start_time": "2022-04-19T10:48:00.724Z"
   },
   {
    "duration": 6,
    "start_time": "2022-04-19T10:48:00.807Z"
   },
   {
    "duration": 65,
    "start_time": "2022-04-19T10:48:00.814Z"
   },
   {
    "duration": 42,
    "start_time": "2022-04-19T10:48:00.881Z"
   },
   {
    "duration": 103,
    "start_time": "2022-04-19T10:48:00.927Z"
   },
   {
    "duration": 90,
    "start_time": "2022-04-19T10:48:01.031Z"
   },
   {
    "duration": 87,
    "start_time": "2022-04-19T10:48:01.123Z"
   },
   {
    "duration": 16,
    "start_time": "2022-04-19T10:48:01.212Z"
   },
   {
    "duration": 24,
    "start_time": "2022-04-19T10:48:01.255Z"
   },
   {
    "duration": 18,
    "start_time": "2022-04-19T10:48:01.281Z"
   },
   {
    "duration": 36,
    "start_time": "2022-04-19T10:48:01.300Z"
   },
   {
    "duration": 85,
    "start_time": "2022-04-19T10:48:01.338Z"
   },
   {
    "duration": 31,
    "start_time": "2022-04-19T10:48:01.425Z"
   },
   {
    "duration": 14,
    "start_time": "2022-04-19T10:48:01.458Z"
   },
   {
    "duration": 96,
    "start_time": "2022-04-19T10:48:01.474Z"
   },
   {
    "duration": 14,
    "start_time": "2022-04-19T10:48:01.572Z"
   },
   {
    "duration": 21,
    "start_time": "2022-04-19T10:48:01.587Z"
   },
   {
    "duration": 90,
    "start_time": "2022-04-19T10:48:01.609Z"
   },
   {
    "duration": 13,
    "start_time": "2022-04-19T10:48:01.700Z"
   },
   {
    "duration": 42,
    "start_time": "2022-04-19T10:48:01.714Z"
   },
   {
    "duration": 24,
    "start_time": "2022-04-19T10:48:01.758Z"
   },
   {
    "duration": 54,
    "start_time": "2022-04-19T10:48:01.784Z"
   },
   {
    "duration": 18,
    "start_time": "2022-04-19T10:48:01.841Z"
   },
   {
    "duration": 37,
    "start_time": "2022-04-19T10:48:01.861Z"
   },
   {
    "duration": 46,
    "start_time": "2022-04-19T10:48:01.900Z"
   },
   {
    "duration": 20,
    "start_time": "2022-04-19T10:48:01.948Z"
   },
   {
    "duration": 9,
    "start_time": "2022-04-19T10:48:01.970Z"
   },
   {
    "duration": 45,
    "start_time": "2022-04-19T10:48:01.981Z"
   },
   {
    "duration": 5,
    "start_time": "2022-04-19T10:49:45.324Z"
   },
   {
    "duration": 173,
    "start_time": "2022-04-19T10:50:08.984Z"
   },
   {
    "duration": 1221,
    "start_time": "2022-04-19T11:02:12.455Z"
   },
   {
    "duration": 33,
    "start_time": "2022-04-19T11:02:13.678Z"
   },
   {
    "duration": 55,
    "start_time": "2022-04-19T11:02:13.713Z"
   },
   {
    "duration": 3,
    "start_time": "2022-04-19T11:02:13.771Z"
   },
   {
    "duration": 19,
    "start_time": "2022-04-19T11:02:13.776Z"
   },
   {
    "duration": 33,
    "start_time": "2022-04-19T11:02:13.796Z"
   },
   {
    "duration": 22,
    "start_time": "2022-04-19T11:02:13.830Z"
   },
   {
    "duration": 55,
    "start_time": "2022-04-19T11:02:13.853Z"
   },
   {
    "duration": 4,
    "start_time": "2022-04-19T11:02:13.909Z"
   },
   {
    "duration": 30,
    "start_time": "2022-04-19T11:02:13.916Z"
   },
   {
    "duration": 15,
    "start_time": "2022-04-19T11:02:13.947Z"
   },
   {
    "duration": 31,
    "start_time": "2022-04-19T11:02:13.964Z"
   },
   {
    "duration": 24,
    "start_time": "2022-04-19T11:02:13.996Z"
   },
   {
    "duration": 26,
    "start_time": "2022-04-19T11:02:14.022Z"
   },
   {
    "duration": 23,
    "start_time": "2022-04-19T11:02:14.049Z"
   },
   {
    "duration": 21,
    "start_time": "2022-04-19T11:02:14.073Z"
   },
   {
    "duration": 532,
    "start_time": "2022-04-19T11:02:14.095Z"
   },
   {
    "duration": 9,
    "start_time": "2022-04-19T11:02:14.629Z"
   },
   {
    "duration": 17,
    "start_time": "2022-04-19T11:02:14.639Z"
   },
   {
    "duration": 374,
    "start_time": "2022-04-19T11:02:14.658Z"
   },
   {
    "duration": 23,
    "start_time": "2022-04-19T11:02:15.034Z"
   },
   {
    "duration": 27,
    "start_time": "2022-04-19T11:02:15.060Z"
   },
   {
    "duration": 25,
    "start_time": "2022-04-19T11:02:15.089Z"
   },
   {
    "duration": 83,
    "start_time": "2022-04-19T11:02:15.116Z"
   },
   {
    "duration": 7,
    "start_time": "2022-04-19T11:02:15.200Z"
   },
   {
    "duration": 72,
    "start_time": "2022-04-19T11:02:15.209Z"
   },
   {
    "duration": 45,
    "start_time": "2022-04-19T11:02:15.282Z"
   },
   {
    "duration": 106,
    "start_time": "2022-04-19T11:02:15.330Z"
   },
   {
    "duration": 90,
    "start_time": "2022-04-19T11:02:15.437Z"
   },
   {
    "duration": 92,
    "start_time": "2022-04-19T11:02:15.528Z"
   },
   {
    "duration": 34,
    "start_time": "2022-04-19T11:02:15.622Z"
   },
   {
    "duration": 34,
    "start_time": "2022-04-19T11:02:15.658Z"
   },
   {
    "duration": 15,
    "start_time": "2022-04-19T11:02:15.693Z"
   },
   {
    "duration": 21,
    "start_time": "2022-04-19T11:02:15.709Z"
   },
   {
    "duration": 89,
    "start_time": "2022-04-19T11:02:15.731Z"
   },
   {
    "duration": 14,
    "start_time": "2022-04-19T11:02:15.821Z"
   },
   {
    "duration": 36,
    "start_time": "2022-04-19T11:02:15.836Z"
   },
   {
    "duration": 80,
    "start_time": "2022-04-19T11:02:15.873Z"
   },
   {
    "duration": 23,
    "start_time": "2022-04-19T11:02:15.955Z"
   },
   {
    "duration": 23,
    "start_time": "2022-04-19T11:02:15.979Z"
   },
   {
    "duration": 104,
    "start_time": "2022-04-19T11:02:16.004Z"
   },
   {
    "duration": 13,
    "start_time": "2022-04-19T11:02:16.110Z"
   },
   {
    "duration": 36,
    "start_time": "2022-04-19T11:02:16.124Z"
   },
   {
    "duration": 12,
    "start_time": "2022-04-19T11:02:16.162Z"
   },
   {
    "duration": 22,
    "start_time": "2022-04-19T11:02:16.175Z"
   },
   {
    "duration": 26,
    "start_time": "2022-04-19T11:02:16.199Z"
   },
   {
    "duration": 15,
    "start_time": "2022-04-19T11:02:16.226Z"
   },
   {
    "duration": 36,
    "start_time": "2022-04-19T11:02:16.242Z"
   },
   {
    "duration": 11,
    "start_time": "2022-04-19T11:02:16.280Z"
   },
   {
    "duration": 17,
    "start_time": "2022-04-19T11:02:16.293Z"
   },
   {
    "duration": 26,
    "start_time": "2022-04-19T11:02:16.311Z"
   },
   {
    "duration": 176,
    "start_time": "2022-04-19T11:14:46.139Z"
   },
   {
    "duration": 323,
    "start_time": "2022-04-19T11:21:26.845Z"
   },
   {
    "duration": 7,
    "start_time": "2022-04-19T11:36:13.948Z"
   },
   {
    "duration": 1324,
    "start_time": "2022-04-19T11:37:05.164Z"
   },
   {
    "duration": 34,
    "start_time": "2022-04-19T11:37:06.490Z"
   },
   {
    "duration": 61,
    "start_time": "2022-04-19T11:37:06.525Z"
   },
   {
    "duration": 3,
    "start_time": "2022-04-19T11:37:06.588Z"
   },
   {
    "duration": 11,
    "start_time": "2022-04-19T11:37:06.593Z"
   },
   {
    "duration": 26,
    "start_time": "2022-04-19T11:37:06.605Z"
   },
   {
    "duration": 10,
    "start_time": "2022-04-19T11:37:06.632Z"
   },
   {
    "duration": 44,
    "start_time": "2022-04-19T11:37:06.643Z"
   },
   {
    "duration": 4,
    "start_time": "2022-04-19T11:37:06.688Z"
   },
   {
    "duration": 14,
    "start_time": "2022-04-19T11:37:06.696Z"
   },
   {
    "duration": 8,
    "start_time": "2022-04-19T11:37:06.712Z"
   },
   {
    "duration": 35,
    "start_time": "2022-04-19T11:37:06.722Z"
   },
   {
    "duration": 6,
    "start_time": "2022-04-19T11:37:06.759Z"
   },
   {
    "duration": 8,
    "start_time": "2022-04-19T11:37:06.767Z"
   },
   {
    "duration": 5,
    "start_time": "2022-04-19T11:37:06.777Z"
   },
   {
    "duration": 6,
    "start_time": "2022-04-19T11:37:06.784Z"
   },
   {
    "duration": 516,
    "start_time": "2022-04-19T11:37:06.791Z"
   },
   {
    "duration": 10,
    "start_time": "2022-04-19T11:37:07.309Z"
   },
   {
    "duration": 42,
    "start_time": "2022-04-19T11:37:07.321Z"
   },
   {
    "duration": 350,
    "start_time": "2022-04-19T11:37:07.364Z"
   },
   {
    "duration": 5,
    "start_time": "2022-04-19T11:37:07.716Z"
   },
   {
    "duration": 37,
    "start_time": "2022-04-19T11:37:07.723Z"
   },
   {
    "duration": 32,
    "start_time": "2022-04-19T11:37:07.762Z"
   },
   {
    "duration": 98,
    "start_time": "2022-04-19T11:37:07.796Z"
   },
   {
    "duration": 9,
    "start_time": "2022-04-19T11:37:07.896Z"
   },
   {
    "duration": 88,
    "start_time": "2022-04-19T11:37:07.907Z"
   },
   {
    "duration": 83,
    "start_time": "2022-04-19T11:37:07.997Z"
   },
   {
    "duration": 111,
    "start_time": "2022-04-19T11:37:08.086Z"
   },
   {
    "duration": 104,
    "start_time": "2022-04-19T11:37:08.199Z"
   },
   {
    "duration": 98,
    "start_time": "2022-04-19T11:37:08.306Z"
   },
   {
    "duration": 18,
    "start_time": "2022-04-19T11:37:08.406Z"
   },
   {
    "duration": 36,
    "start_time": "2022-04-19T11:37:08.426Z"
   },
   {
    "duration": 11,
    "start_time": "2022-04-19T11:37:08.463Z"
   },
   {
    "duration": 19,
    "start_time": "2022-04-19T11:37:08.476Z"
   },
   {
    "duration": 69,
    "start_time": "2022-04-19T11:37:08.497Z"
   },
   {
    "duration": 13,
    "start_time": "2022-04-19T11:37:08.568Z"
   },
   {
    "duration": 16,
    "start_time": "2022-04-19T11:37:08.583Z"
   },
   {
    "duration": 78,
    "start_time": "2022-04-19T11:37:08.601Z"
   },
   {
    "duration": 13,
    "start_time": "2022-04-19T11:37:08.681Z"
   },
   {
    "duration": 26,
    "start_time": "2022-04-19T11:37:08.695Z"
   },
   {
    "duration": 74,
    "start_time": "2022-04-19T11:37:08.723Z"
   },
   {
    "duration": 12,
    "start_time": "2022-04-19T11:37:08.799Z"
   },
   {
    "duration": 14,
    "start_time": "2022-04-19T11:37:08.812Z"
   },
   {
    "duration": 30,
    "start_time": "2022-04-19T11:37:08.828Z"
   },
   {
    "duration": 17,
    "start_time": "2022-04-19T11:37:08.859Z"
   },
   {
    "duration": 12,
    "start_time": "2022-04-19T11:37:08.878Z"
   },
   {
    "duration": 6,
    "start_time": "2022-04-19T11:37:08.892Z"
   },
   {
    "duration": 17,
    "start_time": "2022-04-19T11:37:08.900Z"
   },
   {
    "duration": 8,
    "start_time": "2022-04-19T11:37:08.919Z"
   },
   {
    "duration": 18,
    "start_time": "2022-04-19T11:37:08.928Z"
   },
   {
    "duration": 20,
    "start_time": "2022-04-19T11:37:08.948Z"
   },
   {
    "duration": 23,
    "start_time": "2022-04-19T11:39:27.916Z"
   },
   {
    "duration": 6,
    "start_time": "2022-04-19T13:28:58.855Z"
   },
   {
    "duration": 45,
    "start_time": "2022-04-19T13:29:01.668Z"
   },
   {
    "duration": 54,
    "start_time": "2022-04-19T13:29:12.691Z"
   },
   {
    "duration": 51,
    "start_time": "2022-04-19T13:29:23.427Z"
   },
   {
    "duration": 3,
    "start_time": "2022-04-19T13:37:13.442Z"
   },
   {
    "duration": 146,
    "start_time": "2022-04-19T13:40:34.937Z"
   },
   {
    "duration": 59,
    "start_time": "2022-04-19T13:40:47.779Z"
   },
   {
    "duration": 4,
    "start_time": "2022-04-19T13:44:11.611Z"
   },
   {
    "duration": 55,
    "start_time": "2022-04-19T13:44:14.195Z"
   },
   {
    "duration": 65,
    "start_time": "2022-04-19T13:44:21.013Z"
   },
   {
    "duration": 56,
    "start_time": "2022-04-19T13:44:29.412Z"
   },
   {
    "duration": 56,
    "start_time": "2022-04-19T13:44:43.748Z"
   },
   {
    "duration": 57,
    "start_time": "2022-04-19T13:45:02.676Z"
   },
   {
    "duration": 60,
    "start_time": "2022-04-19T13:45:09.412Z"
   },
   {
    "duration": 58,
    "start_time": "2022-04-19T13:45:14.436Z"
   },
   {
    "duration": 57,
    "start_time": "2022-04-19T13:45:23.172Z"
   },
   {
    "duration": 1201,
    "start_time": "2022-04-19T14:06:40.086Z"
   },
   {
    "duration": 35,
    "start_time": "2022-04-19T14:06:41.289Z"
   },
   {
    "duration": 60,
    "start_time": "2022-04-19T14:06:41.326Z"
   },
   {
    "duration": 3,
    "start_time": "2022-04-19T14:06:41.388Z"
   },
   {
    "duration": 15,
    "start_time": "2022-04-19T14:06:41.393Z"
   },
   {
    "duration": 15,
    "start_time": "2022-04-19T14:06:41.410Z"
   },
   {
    "duration": 33,
    "start_time": "2022-04-19T14:06:41.427Z"
   },
   {
    "duration": 36,
    "start_time": "2022-04-19T14:06:41.462Z"
   },
   {
    "duration": 4,
    "start_time": "2022-04-19T14:06:41.500Z"
   },
   {
    "duration": 20,
    "start_time": "2022-04-19T14:06:41.506Z"
   },
   {
    "duration": 10,
    "start_time": "2022-04-19T14:06:41.528Z"
   },
   {
    "duration": 3,
    "start_time": "2022-04-19T14:06:41.555Z"
   },
   {
    "duration": 5,
    "start_time": "2022-04-19T14:06:41.560Z"
   },
   {
    "duration": 10,
    "start_time": "2022-04-19T14:06:41.566Z"
   },
   {
    "duration": 4,
    "start_time": "2022-04-19T14:06:41.577Z"
   },
   {
    "duration": 6,
    "start_time": "2022-04-19T14:06:41.583Z"
   },
   {
    "duration": 483,
    "start_time": "2022-04-19T14:06:41.590Z"
   },
   {
    "duration": 11,
    "start_time": "2022-04-19T14:06:42.075Z"
   },
   {
    "duration": 8,
    "start_time": "2022-04-19T14:06:42.087Z"
   },
   {
    "duration": 580,
    "start_time": "2022-04-19T14:06:42.096Z"
   },
   {
    "duration": 6,
    "start_time": "2022-04-19T14:06:42.677Z"
   },
   {
    "duration": 70,
    "start_time": "2022-04-19T14:06:42.684Z"
   },
   {
    "duration": 24,
    "start_time": "2022-04-19T14:06:42.756Z"
   },
   {
    "duration": 110,
    "start_time": "2022-04-19T14:06:42.782Z"
   },
   {
    "duration": 6,
    "start_time": "2022-04-19T14:06:42.894Z"
   },
   {
    "duration": 45,
    "start_time": "2022-04-19T14:06:42.955Z"
   },
   {
    "duration": 120,
    "start_time": "2022-04-19T14:06:43.054Z"
   },
   {
    "duration": 188,
    "start_time": "2022-04-19T14:06:43.178Z"
   },
   {
    "duration": 186,
    "start_time": "2022-04-19T14:06:43.368Z"
   },
   {
    "duration": 131,
    "start_time": "2022-04-19T14:06:43.556Z"
   },
   {
    "duration": 67,
    "start_time": "2022-04-19T14:06:43.689Z"
   },
   {
    "duration": 23,
    "start_time": "2022-04-19T14:06:43.758Z"
   },
   {
    "duration": 16,
    "start_time": "2022-04-19T14:06:43.782Z"
   },
   {
    "duration": 17,
    "start_time": "2022-04-19T14:06:43.855Z"
   },
   {
    "duration": 196,
    "start_time": "2022-04-19T14:06:43.874Z"
   },
   {
    "duration": 18,
    "start_time": "2022-04-19T14:06:44.072Z"
   },
   {
    "duration": 64,
    "start_time": "2022-04-19T14:06:44.092Z"
   },
   {
    "duration": 134,
    "start_time": "2022-04-19T14:06:44.158Z"
   },
   {
    "duration": 15,
    "start_time": "2022-04-19T14:06:44.294Z"
   },
   {
    "duration": 46,
    "start_time": "2022-04-19T14:06:44.311Z"
   },
   {
    "duration": 56,
    "start_time": "2022-04-19T14:06:44.358Z"
   },
   {
    "duration": 40,
    "start_time": "2022-04-19T14:06:44.415Z"
   },
   {
    "duration": 13,
    "start_time": "2022-04-19T14:06:44.458Z"
   },
   {
    "duration": 8,
    "start_time": "2022-04-19T14:06:44.473Z"
   },
   {
    "duration": 6,
    "start_time": "2022-04-19T14:06:44.483Z"
   },
   {
    "duration": 6,
    "start_time": "2022-04-19T14:06:44.491Z"
   },
   {
    "duration": 6,
    "start_time": "2022-04-19T14:06:44.498Z"
   },
   {
    "duration": 10,
    "start_time": "2022-04-19T14:06:44.506Z"
   },
   {
    "duration": 40,
    "start_time": "2022-04-19T14:06:44.517Z"
   },
   {
    "duration": 8,
    "start_time": "2022-04-19T14:06:44.559Z"
   },
   {
    "duration": 8,
    "start_time": "2022-04-19T14:06:44.569Z"
   },
   {
    "duration": 143,
    "start_time": "2022-04-19T14:09:12.393Z"
   },
   {
    "duration": 2144,
    "start_time": "2022-04-19T14:09:35.220Z"
   },
   {
    "duration": 4,
    "start_time": "2022-04-19T14:11:44.745Z"
   },
   {
    "duration": 9,
    "start_time": "2022-04-19T14:11:53.746Z"
   },
   {
    "duration": 4,
    "start_time": "2022-04-19T14:12:05.778Z"
   },
   {
    "duration": 8,
    "start_time": "2022-04-19T14:12:13.139Z"
   },
   {
    "duration": 9,
    "start_time": "2022-04-19T14:12:15.923Z"
   },
   {
    "duration": 178,
    "start_time": "2022-04-19T14:22:18.259Z"
   },
   {
    "duration": 1088,
    "start_time": "2022-04-19T14:22:47.004Z"
   },
   {
    "duration": 36,
    "start_time": "2022-04-19T14:22:48.094Z"
   },
   {
    "duration": 52,
    "start_time": "2022-04-19T14:22:48.132Z"
   },
   {
    "duration": 3,
    "start_time": "2022-04-19T14:22:48.185Z"
   },
   {
    "duration": 11,
    "start_time": "2022-04-19T14:22:48.190Z"
   },
   {
    "duration": 16,
    "start_time": "2022-04-19T14:22:48.202Z"
   },
   {
    "duration": 10,
    "start_time": "2022-04-19T14:22:48.219Z"
   },
   {
    "duration": 40,
    "start_time": "2022-04-19T14:22:48.255Z"
   },
   {
    "duration": 5,
    "start_time": "2022-04-19T14:22:48.296Z"
   },
   {
    "duration": 22,
    "start_time": "2022-04-19T14:22:48.303Z"
   },
   {
    "duration": 11,
    "start_time": "2022-04-19T14:22:48.326Z"
   },
   {
    "duration": 18,
    "start_time": "2022-04-19T14:22:48.339Z"
   },
   {
    "duration": 11,
    "start_time": "2022-04-19T14:22:48.359Z"
   },
   {
    "duration": 10,
    "start_time": "2022-04-19T14:22:48.372Z"
   },
   {
    "duration": 9,
    "start_time": "2022-04-19T14:22:48.384Z"
   },
   {
    "duration": 8,
    "start_time": "2022-04-19T14:22:48.395Z"
   },
   {
    "duration": 507,
    "start_time": "2022-04-19T14:22:48.405Z"
   },
   {
    "duration": 47,
    "start_time": "2022-04-19T14:22:48.914Z"
   },
   {
    "duration": 10,
    "start_time": "2022-04-19T14:22:48.964Z"
   },
   {
    "duration": 411,
    "start_time": "2022-04-19T14:22:48.976Z"
   },
   {
    "duration": 7,
    "start_time": "2022-04-19T14:22:49.388Z"
   },
   {
    "duration": 15,
    "start_time": "2022-04-19T14:22:49.397Z"
   },
   {
    "duration": 41,
    "start_time": "2022-04-19T14:22:49.414Z"
   },
   {
    "duration": 64,
    "start_time": "2022-04-19T14:22:49.457Z"
   },
   {
    "duration": 32,
    "start_time": "2022-04-19T14:22:49.523Z"
   },
   {
    "duration": 45,
    "start_time": "2022-04-19T14:22:49.557Z"
   },
   {
    "duration": 59,
    "start_time": "2022-04-19T14:22:49.604Z"
   },
   {
    "duration": 54,
    "start_time": "2022-04-19T14:22:49.668Z"
   },
   {
    "duration": 71,
    "start_time": "2022-04-19T14:22:49.724Z"
   },
   {
    "duration": 11,
    "start_time": "2022-04-19T14:22:49.797Z"
   },
   {
    "duration": 72,
    "start_time": "2022-04-19T14:22:49.810Z"
   },
   {
    "duration": 15,
    "start_time": "2022-04-19T14:22:49.884Z"
   },
   {
    "duration": 18,
    "start_time": "2022-04-19T14:22:49.900Z"
   },
   {
    "duration": 36,
    "start_time": "2022-04-19T14:22:49.919Z"
   },
   {
    "duration": 12,
    "start_time": "2022-04-19T14:22:49.957Z"
   },
   {
    "duration": 61,
    "start_time": "2022-04-19T14:22:49.971Z"
   },
   {
    "duration": 31,
    "start_time": "2022-04-19T14:22:50.034Z"
   },
   {
    "duration": 14,
    "start_time": "2022-04-19T14:22:50.067Z"
   },
   {
    "duration": 78,
    "start_time": "2022-04-19T14:22:50.083Z"
   },
   {
    "duration": 14,
    "start_time": "2022-04-19T14:22:50.163Z"
   },
   {
    "duration": 15,
    "start_time": "2022-04-19T14:22:50.178Z"
   },
   {
    "duration": 71,
    "start_time": "2022-04-19T14:22:50.195Z"
   },
   {
    "duration": 13,
    "start_time": "2022-04-19T14:22:50.268Z"
   },
   {
    "duration": 12,
    "start_time": "2022-04-19T14:22:50.283Z"
   },
   {
    "duration": 8,
    "start_time": "2022-04-19T14:22:50.296Z"
   },
   {
    "duration": 5,
    "start_time": "2022-04-19T14:22:50.306Z"
   },
   {
    "duration": 43,
    "start_time": "2022-04-19T14:22:50.313Z"
   },
   {
    "duration": 7,
    "start_time": "2022-04-19T14:22:50.358Z"
   },
   {
    "duration": 10,
    "start_time": "2022-04-19T14:22:50.366Z"
   },
   {
    "duration": 5,
    "start_time": "2022-04-19T14:22:50.378Z"
   },
   {
    "duration": 16,
    "start_time": "2022-04-19T14:22:50.385Z"
   },
   {
    "duration": 12,
    "start_time": "2022-04-19T14:22:50.403Z"
   },
   {
    "duration": 16,
    "start_time": "2022-04-19T14:24:20.683Z"
   },
   {
    "duration": 134,
    "start_time": "2022-04-19T14:52:52.793Z"
   },
   {
    "duration": 125,
    "start_time": "2022-04-19T14:56:33.550Z"
   },
   {
    "duration": 1196,
    "start_time": "2022-04-19T14:56:59.281Z"
   },
   {
    "duration": 35,
    "start_time": "2022-04-19T14:57:00.479Z"
   },
   {
    "duration": 61,
    "start_time": "2022-04-19T14:57:00.515Z"
   },
   {
    "duration": 3,
    "start_time": "2022-04-19T14:57:00.578Z"
   },
   {
    "duration": 14,
    "start_time": "2022-04-19T14:57:00.583Z"
   },
   {
    "duration": 22,
    "start_time": "2022-04-19T14:57:00.599Z"
   },
   {
    "duration": 17,
    "start_time": "2022-04-19T14:57:00.623Z"
   },
   {
    "duration": 41,
    "start_time": "2022-04-19T14:57:00.653Z"
   },
   {
    "duration": 5,
    "start_time": "2022-04-19T14:57:00.696Z"
   },
   {
    "duration": 25,
    "start_time": "2022-04-19T14:57:00.704Z"
   },
   {
    "duration": 8,
    "start_time": "2022-04-19T14:57:00.730Z"
   },
   {
    "duration": 18,
    "start_time": "2022-04-19T14:57:00.739Z"
   },
   {
    "duration": 16,
    "start_time": "2022-04-19T14:57:00.758Z"
   },
   {
    "duration": 21,
    "start_time": "2022-04-19T14:57:00.775Z"
   },
   {
    "duration": 11,
    "start_time": "2022-04-19T14:57:00.797Z"
   },
   {
    "duration": 18,
    "start_time": "2022-04-19T14:57:00.809Z"
   },
   {
    "duration": 506,
    "start_time": "2022-04-19T14:57:00.829Z"
   },
   {
    "duration": 18,
    "start_time": "2022-04-19T14:57:01.337Z"
   },
   {
    "duration": 15,
    "start_time": "2022-04-19T14:57:01.357Z"
   },
   {
    "duration": 381,
    "start_time": "2022-04-19T14:57:01.374Z"
   },
   {
    "duration": 6,
    "start_time": "2022-04-19T14:57:01.757Z"
   },
   {
    "duration": 26,
    "start_time": "2022-04-19T14:57:01.765Z"
   },
   {
    "duration": 46,
    "start_time": "2022-04-19T14:57:01.793Z"
   },
   {
    "duration": 65,
    "start_time": "2022-04-19T14:57:01.840Z"
   },
   {
    "duration": 8,
    "start_time": "2022-04-19T14:57:01.907Z"
   },
   {
    "duration": 67,
    "start_time": "2022-04-19T14:57:01.917Z"
   },
   {
    "duration": 45,
    "start_time": "2022-04-19T14:57:01.986Z"
   },
   {
    "duration": 56,
    "start_time": "2022-04-19T14:57:02.054Z"
   },
   {
    "duration": 73,
    "start_time": "2022-04-19T14:57:02.112Z"
   },
   {
    "duration": 11,
    "start_time": "2022-04-19T14:57:02.186Z"
   },
   {
    "duration": 71,
    "start_time": "2022-04-19T14:57:02.199Z"
   },
   {
    "duration": 14,
    "start_time": "2022-04-19T14:57:02.272Z"
   },
   {
    "duration": 36,
    "start_time": "2022-04-19T14:57:02.287Z"
   },
   {
    "duration": 16,
    "start_time": "2022-04-19T14:57:02.325Z"
   },
   {
    "duration": 28,
    "start_time": "2022-04-19T14:57:02.343Z"
   },
   {
    "duration": 74,
    "start_time": "2022-04-19T14:57:02.373Z"
   },
   {
    "duration": 14,
    "start_time": "2022-04-19T14:57:02.449Z"
   },
   {
    "duration": 21,
    "start_time": "2022-04-19T14:57:02.465Z"
   },
   {
    "duration": 76,
    "start_time": "2022-04-19T14:57:02.488Z"
   },
   {
    "duration": 14,
    "start_time": "2022-04-19T14:57:02.566Z"
   },
   {
    "duration": 46,
    "start_time": "2022-04-19T14:57:02.581Z"
   },
   {
    "duration": 87,
    "start_time": "2022-04-19T14:57:02.629Z"
   },
   {
    "duration": 13,
    "start_time": "2022-04-19T14:57:02.718Z"
   },
   {
    "duration": 34,
    "start_time": "2022-04-19T14:57:02.733Z"
   },
   {
    "duration": 24,
    "start_time": "2022-04-19T14:57:02.769Z"
   },
   {
    "duration": 24,
    "start_time": "2022-04-19T14:57:02.795Z"
   },
   {
    "duration": 18,
    "start_time": "2022-04-19T14:57:02.821Z"
   },
   {
    "duration": 23,
    "start_time": "2022-04-19T14:57:02.841Z"
   },
   {
    "duration": 28,
    "start_time": "2022-04-19T14:57:02.865Z"
   },
   {
    "duration": 20,
    "start_time": "2022-04-19T14:57:02.895Z"
   },
   {
    "duration": 32,
    "start_time": "2022-04-19T14:57:02.917Z"
   },
   {
    "duration": 21,
    "start_time": "2022-04-19T14:57:02.950Z"
   },
   {
    "duration": 4,
    "start_time": "2022-04-19T14:59:39.418Z"
   },
   {
    "duration": 1839,
    "start_time": "2022-04-20T05:30:18.516Z"
   },
   {
    "duration": 54,
    "start_time": "2022-04-20T05:30:20.358Z"
   },
   {
    "duration": 94,
    "start_time": "2022-04-20T05:30:20.414Z"
   },
   {
    "duration": 4,
    "start_time": "2022-04-20T05:30:20.510Z"
   },
   {
    "duration": 16,
    "start_time": "2022-04-20T05:30:20.517Z"
   },
   {
    "duration": 47,
    "start_time": "2022-04-20T05:30:20.536Z"
   },
   {
    "duration": 17,
    "start_time": "2022-04-20T05:30:20.585Z"
   },
   {
    "duration": 83,
    "start_time": "2022-04-20T05:30:20.605Z"
   },
   {
    "duration": 5,
    "start_time": "2022-04-20T05:30:20.691Z"
   },
   {
    "duration": 26,
    "start_time": "2022-04-20T05:30:20.699Z"
   },
   {
    "duration": 12,
    "start_time": "2022-04-20T05:30:20.727Z"
   },
   {
    "duration": 5,
    "start_time": "2022-04-20T05:30:20.742Z"
   },
   {
    "duration": 7,
    "start_time": "2022-04-20T05:30:20.782Z"
   },
   {
    "duration": 9,
    "start_time": "2022-04-20T05:30:20.794Z"
   },
   {
    "duration": 10,
    "start_time": "2022-04-20T05:30:20.805Z"
   },
   {
    "duration": 9,
    "start_time": "2022-04-20T05:30:20.817Z"
   },
   {
    "duration": 760,
    "start_time": "2022-04-20T05:30:20.829Z"
   },
   {
    "duration": 14,
    "start_time": "2022-04-20T05:30:21.591Z"
   },
   {
    "duration": 12,
    "start_time": "2022-04-20T05:30:21.607Z"
   },
   {
    "duration": 597,
    "start_time": "2022-04-20T05:30:21.621Z"
   },
   {
    "duration": 8,
    "start_time": "2022-04-20T05:30:22.220Z"
   },
   {
    "duration": 26,
    "start_time": "2022-04-20T05:30:22.230Z"
   },
   {
    "duration": 59,
    "start_time": "2022-04-20T05:30:22.258Z"
   },
   {
    "duration": 159,
    "start_time": "2022-04-20T05:30:22.319Z"
   },
   {
    "duration": 8,
    "start_time": "2022-04-20T05:30:22.480Z"
   },
   {
    "duration": 97,
    "start_time": "2022-04-20T05:30:22.490Z"
   },
   {
    "duration": 94,
    "start_time": "2022-04-20T05:30:22.589Z"
   },
   {
    "duration": 112,
    "start_time": "2022-04-20T05:30:22.686Z"
   },
   {
    "duration": 113,
    "start_time": "2022-04-20T05:30:22.801Z"
   },
   {
    "duration": 16,
    "start_time": "2022-04-20T05:30:22.917Z"
   },
   {
    "duration": 125,
    "start_time": "2022-04-20T05:30:22.936Z"
   },
   {
    "duration": 34,
    "start_time": "2022-04-20T05:30:23.064Z"
   },
   {
    "duration": 26,
    "start_time": "2022-04-20T05:30:23.101Z"
   },
   {
    "duration": 60,
    "start_time": "2022-04-20T05:30:23.130Z"
   },
   {
    "duration": 22,
    "start_time": "2022-04-20T05:30:23.192Z"
   },
   {
    "duration": 132,
    "start_time": "2022-04-20T05:30:23.217Z"
   },
   {
    "duration": 41,
    "start_time": "2022-04-20T05:30:23.351Z"
   },
   {
    "duration": 21,
    "start_time": "2022-04-20T05:30:23.395Z"
   },
   {
    "duration": 139,
    "start_time": "2022-04-20T05:30:23.419Z"
   },
   {
    "duration": 35,
    "start_time": "2022-04-20T05:30:23.561Z"
   },
   {
    "duration": 19,
    "start_time": "2022-04-20T05:30:23.603Z"
   },
   {
    "duration": 138,
    "start_time": "2022-04-20T05:30:23.624Z"
   },
   {
    "duration": 30,
    "start_time": "2022-04-20T05:30:23.764Z"
   },
   {
    "duration": 20,
    "start_time": "2022-04-20T05:30:23.796Z"
   },
   {
    "duration": 12,
    "start_time": "2022-04-20T05:30:23.819Z"
   },
   {
    "duration": 11,
    "start_time": "2022-04-20T05:30:23.833Z"
   },
   {
    "duration": 7,
    "start_time": "2022-04-20T05:30:23.883Z"
   },
   {
    "duration": 8,
    "start_time": "2022-04-20T05:30:23.892Z"
   },
   {
    "duration": 13,
    "start_time": "2022-04-20T05:30:23.902Z"
   },
   {
    "duration": 10,
    "start_time": "2022-04-20T05:30:23.917Z"
   },
   {
    "duration": 52,
    "start_time": "2022-04-20T05:30:23.929Z"
   },
   {
    "duration": 8,
    "start_time": "2022-04-20T05:30:23.983Z"
   },
   {
    "duration": 1822,
    "start_time": "2022-04-20T05:59:09.227Z"
   },
   {
    "duration": 53,
    "start_time": "2022-04-20T05:59:11.052Z"
   },
   {
    "duration": 97,
    "start_time": "2022-04-20T05:59:11.108Z"
   },
   {
    "duration": 4,
    "start_time": "2022-04-20T05:59:11.210Z"
   },
   {
    "duration": 25,
    "start_time": "2022-04-20T05:59:11.217Z"
   },
   {
    "duration": 47,
    "start_time": "2022-04-20T05:59:11.245Z"
   },
   {
    "duration": 16,
    "start_time": "2022-04-20T05:59:11.294Z"
   },
   {
    "duration": 81,
    "start_time": "2022-04-20T05:59:11.313Z"
   },
   {
    "duration": 6,
    "start_time": "2022-04-20T05:59:11.396Z"
   },
   {
    "duration": 24,
    "start_time": "2022-04-20T05:59:11.406Z"
   },
   {
    "duration": 12,
    "start_time": "2022-04-20T05:59:11.433Z"
   },
   {
    "duration": 37,
    "start_time": "2022-04-20T05:59:11.448Z"
   },
   {
    "duration": 7,
    "start_time": "2022-04-20T05:59:11.488Z"
   },
   {
    "duration": 11,
    "start_time": "2022-04-20T05:59:11.497Z"
   },
   {
    "duration": 10,
    "start_time": "2022-04-20T05:59:11.510Z"
   },
   {
    "duration": 10,
    "start_time": "2022-04-20T05:59:11.522Z"
   },
   {
    "duration": 777,
    "start_time": "2022-04-20T05:59:11.534Z"
   },
   {
    "duration": 14,
    "start_time": "2022-04-20T05:59:12.314Z"
   },
   {
    "duration": 56,
    "start_time": "2022-04-20T05:59:12.330Z"
   },
   {
    "duration": 598,
    "start_time": "2022-04-20T05:59:12.389Z"
   },
   {
    "duration": 7,
    "start_time": "2022-04-20T05:59:12.990Z"
   },
   {
    "duration": 25,
    "start_time": "2022-04-20T05:59:12.999Z"
   },
   {
    "duration": 66,
    "start_time": "2022-04-20T05:59:13.026Z"
   },
   {
    "duration": 116,
    "start_time": "2022-04-20T05:59:13.094Z"
   },
   {
    "duration": 8,
    "start_time": "2022-04-20T05:59:13.212Z"
   },
   {
    "duration": 103,
    "start_time": "2022-04-20T05:59:13.222Z"
   },
   {
    "duration": 84,
    "start_time": "2022-04-20T05:59:13.327Z"
   },
   {
    "duration": 112,
    "start_time": "2022-04-20T05:59:13.417Z"
   },
   {
    "duration": 103,
    "start_time": "2022-04-20T05:59:13.531Z"
   },
   {
    "duration": 14,
    "start_time": "2022-04-20T05:59:13.636Z"
   },
   {
    "duration": 115,
    "start_time": "2022-04-20T05:59:13.653Z"
   },
   {
    "duration": 22,
    "start_time": "2022-04-20T05:59:13.781Z"
   },
   {
    "duration": 23,
    "start_time": "2022-04-20T05:59:13.805Z"
   },
   {
    "duration": 53,
    "start_time": "2022-04-20T05:59:13.830Z"
   },
   {
    "duration": 21,
    "start_time": "2022-04-20T05:59:13.885Z"
   },
   {
    "duration": 126,
    "start_time": "2022-04-20T05:59:13.909Z"
   },
   {
    "duration": 20,
    "start_time": "2022-04-20T05:59:14.037Z"
   },
   {
    "duration": 41,
    "start_time": "2022-04-20T05:59:14.059Z"
   },
   {
    "duration": 122,
    "start_time": "2022-04-20T05:59:14.102Z"
   },
   {
    "duration": 19,
    "start_time": "2022-04-20T05:59:14.226Z"
   },
   {
    "duration": 41,
    "start_time": "2022-04-20T05:59:14.247Z"
   },
   {
    "duration": 120,
    "start_time": "2022-04-20T05:59:14.291Z"
   },
   {
    "duration": 26,
    "start_time": "2022-04-20T05:59:14.414Z"
   },
   {
    "duration": 52,
    "start_time": "2022-04-20T05:59:14.442Z"
   },
   {
    "duration": 12,
    "start_time": "2022-04-20T05:59:14.496Z"
   },
   {
    "duration": 7,
    "start_time": "2022-04-20T05:59:14.510Z"
   },
   {
    "duration": 9,
    "start_time": "2022-04-20T05:59:14.519Z"
   },
   {
    "duration": 53,
    "start_time": "2022-04-20T05:59:14.530Z"
   },
   {
    "duration": 12,
    "start_time": "2022-04-20T05:59:14.585Z"
   },
   {
    "duration": 8,
    "start_time": "2022-04-20T05:59:14.599Z"
   },
   {
    "duration": 7,
    "start_time": "2022-04-20T05:59:14.609Z"
   },
   {
    "duration": 7,
    "start_time": "2022-04-20T05:59:14.618Z"
   },
   {
    "duration": 1407,
    "start_time": "2022-10-09T15:48:50.131Z"
   },
   {
    "duration": 94,
    "start_time": "2022-10-09T15:48:51.541Z"
   },
   {
    "duration": 63,
    "start_time": "2022-10-09T15:48:51.637Z"
   },
   {
    "duration": 4,
    "start_time": "2022-10-09T15:48:51.703Z"
   },
   {
    "duration": 15,
    "start_time": "2022-10-09T15:48:51.709Z"
   },
   {
    "duration": 17,
    "start_time": "2022-10-09T15:48:51.726Z"
   },
   {
    "duration": 11,
    "start_time": "2022-10-09T15:48:51.744Z"
   },
   {
    "duration": 64,
    "start_time": "2022-10-09T15:48:51.757Z"
   },
   {
    "duration": 5,
    "start_time": "2022-10-09T15:48:51.823Z"
   },
   {
    "duration": 33,
    "start_time": "2022-10-09T15:48:51.832Z"
   },
   {
    "duration": 9,
    "start_time": "2022-10-09T15:48:51.867Z"
   },
   {
    "duration": 19,
    "start_time": "2022-10-09T15:48:51.879Z"
   },
   {
    "duration": 17,
    "start_time": "2022-10-09T15:48:51.899Z"
   },
   {
    "duration": 15,
    "start_time": "2022-10-09T15:48:51.918Z"
   },
   {
    "duration": 11,
    "start_time": "2022-10-09T15:48:51.935Z"
   },
   {
    "duration": 9,
    "start_time": "2022-10-09T15:48:51.948Z"
   },
   {
    "duration": 492,
    "start_time": "2022-10-09T15:48:51.959Z"
   },
   {
    "duration": 10,
    "start_time": "2022-10-09T15:48:52.452Z"
   },
   {
    "duration": 59,
    "start_time": "2022-10-09T15:48:52.464Z"
   },
   {
    "duration": 384,
    "start_time": "2022-10-09T15:48:52.524Z"
   },
   {
    "duration": 6,
    "start_time": "2022-10-09T15:48:52.921Z"
   },
   {
    "duration": 32,
    "start_time": "2022-10-09T15:48:52.929Z"
   },
   {
    "duration": 28,
    "start_time": "2022-10-09T15:48:52.963Z"
   },
   {
    "duration": 123,
    "start_time": "2022-10-09T15:48:52.994Z"
   },
   {
    "duration": 6,
    "start_time": "2022-10-09T15:48:53.119Z"
   },
   {
    "duration": 66,
    "start_time": "2022-10-09T15:48:53.127Z"
   },
   {
    "duration": 46,
    "start_time": "2022-10-09T15:48:53.194Z"
   },
   {
    "duration": 80,
    "start_time": "2022-10-09T15:48:53.246Z"
   },
   {
    "duration": 53,
    "start_time": "2022-10-09T15:48:53.328Z"
   },
   {
    "duration": 10,
    "start_time": "2022-10-09T15:48:53.383Z"
   },
   {
    "duration": 82,
    "start_time": "2022-10-09T15:48:53.394Z"
   },
   {
    "duration": 15,
    "start_time": "2022-10-09T15:48:53.478Z"
   },
   {
    "duration": 36,
    "start_time": "2022-10-09T15:48:53.494Z"
   },
   {
    "duration": 17,
    "start_time": "2022-10-09T15:48:53.531Z"
   },
   {
    "duration": 22,
    "start_time": "2022-10-09T15:48:53.550Z"
   },
   {
    "duration": 75,
    "start_time": "2022-10-09T15:48:53.574Z"
   },
   {
    "duration": 13,
    "start_time": "2022-10-09T15:48:53.651Z"
   },
   {
    "duration": 31,
    "start_time": "2022-10-09T15:48:53.666Z"
   },
   {
    "duration": 79,
    "start_time": "2022-10-09T15:48:53.699Z"
   },
   {
    "duration": 16,
    "start_time": "2022-10-09T15:48:53.780Z"
   },
   {
    "duration": 33,
    "start_time": "2022-10-09T15:48:53.797Z"
   },
   {
    "duration": 77,
    "start_time": "2022-10-09T15:48:53.832Z"
   },
   {
    "duration": 21,
    "start_time": "2022-10-09T15:48:53.911Z"
   },
   {
    "duration": 13,
    "start_time": "2022-10-09T15:48:53.934Z"
   },
   {
    "duration": 8,
    "start_time": "2022-10-09T15:48:53.949Z"
   },
   {
    "duration": 9,
    "start_time": "2022-10-09T15:48:53.959Z"
   },
   {
    "duration": 7,
    "start_time": "2022-10-09T15:48:53.970Z"
   },
   {
    "duration": 45,
    "start_time": "2022-10-09T15:48:53.979Z"
   },
   {
    "duration": 12,
    "start_time": "2022-10-09T15:48:54.026Z"
   },
   {
    "duration": 5,
    "start_time": "2022-10-09T15:48:54.040Z"
   },
   {
    "duration": 9,
    "start_time": "2022-10-09T15:48:54.047Z"
   },
   {
    "duration": 12,
    "start_time": "2022-10-09T15:48:54.058Z"
   },
   {
    "duration": 186,
    "start_time": "2022-10-09T15:57:25.299Z"
   },
   {
    "duration": 14,
    "start_time": "2022-10-09T15:57:34.018Z"
   },
   {
    "duration": 11,
    "start_time": "2022-10-09T16:06:18.043Z"
   },
   {
    "duration": 11,
    "start_time": "2022-10-09T16:07:33.149Z"
   },
   {
    "duration": 10,
    "start_time": "2022-10-09T16:10:29.158Z"
   },
   {
    "duration": 16,
    "start_time": "2022-10-09T16:10:31.744Z"
   },
   {
    "duration": 3,
    "start_time": "2022-10-09T16:21:36.737Z"
   },
   {
    "duration": 59,
    "start_time": "2022-10-09T16:23:30.081Z"
   },
   {
    "duration": 22,
    "start_time": "2022-10-09T16:29:04.858Z"
   },
   {
    "duration": 11,
    "start_time": "2022-10-09T16:30:38.488Z"
   },
   {
    "duration": 1198,
    "start_time": "2022-10-09T16:30:43.879Z"
   },
   {
    "duration": 53,
    "start_time": "2022-10-09T16:30:45.080Z"
   },
   {
    "duration": 58,
    "start_time": "2022-10-09T16:30:45.135Z"
   },
   {
    "duration": 3,
    "start_time": "2022-10-09T16:30:45.195Z"
   },
   {
    "duration": 10,
    "start_time": "2022-10-09T16:30:45.220Z"
   },
   {
    "duration": 21,
    "start_time": "2022-10-09T16:30:45.232Z"
   },
   {
    "duration": 13,
    "start_time": "2022-10-09T16:30:45.255Z"
   },
   {
    "duration": 61,
    "start_time": "2022-10-09T16:30:45.269Z"
   },
   {
    "duration": 4,
    "start_time": "2022-10-09T16:30:45.332Z"
   },
   {
    "duration": 20,
    "start_time": "2022-10-09T16:30:45.339Z"
   },
   {
    "duration": 10,
    "start_time": "2022-10-09T16:30:45.361Z"
   },
   {
    "duration": 6,
    "start_time": "2022-10-09T16:30:45.373Z"
   },
   {
    "duration": 7,
    "start_time": "2022-10-09T16:30:45.380Z"
   },
   {
    "duration": 35,
    "start_time": "2022-10-09T16:30:45.388Z"
   },
   {
    "duration": 4,
    "start_time": "2022-10-09T16:30:45.425Z"
   },
   {
    "duration": 9,
    "start_time": "2022-10-09T16:30:45.431Z"
   },
   {
    "duration": 482,
    "start_time": "2022-10-09T16:30:45.442Z"
   },
   {
    "duration": 10,
    "start_time": "2022-10-09T16:30:45.925Z"
   },
   {
    "duration": 9,
    "start_time": "2022-10-09T16:30:45.937Z"
   },
   {
    "duration": 417,
    "start_time": "2022-10-09T16:30:45.948Z"
   },
   {
    "duration": 7,
    "start_time": "2022-10-09T16:30:46.367Z"
   },
   {
    "duration": 20,
    "start_time": "2022-10-09T16:30:46.376Z"
   },
   {
    "duration": 49,
    "start_time": "2022-10-09T16:30:46.397Z"
   },
   {
    "duration": 91,
    "start_time": "2022-10-09T16:30:46.447Z"
   },
   {
    "duration": 6,
    "start_time": "2022-10-09T16:30:46.540Z"
   },
   {
    "duration": 48,
    "start_time": "2022-10-09T16:30:46.548Z"
   },
   {
    "duration": 47,
    "start_time": "2022-10-09T16:30:46.620Z"
   },
   {
    "duration": 76,
    "start_time": "2022-10-09T16:30:46.672Z"
   },
   {
    "duration": 55,
    "start_time": "2022-10-09T16:30:46.750Z"
   },
   {
    "duration": 11,
    "start_time": "2022-10-09T16:30:46.820Z"
   },
   {
    "duration": 62,
    "start_time": "2022-10-09T16:30:46.832Z"
   },
   {
    "duration": 36,
    "start_time": "2022-10-09T16:30:46.896Z"
   },
   {
    "duration": 18,
    "start_time": "2022-10-09T16:30:46.934Z"
   },
   {
    "duration": 14,
    "start_time": "2022-10-09T16:30:46.954Z"
   },
   {
    "duration": 50,
    "start_time": "2022-10-09T16:30:46.970Z"
   },
   {
    "duration": 63,
    "start_time": "2022-10-09T16:30:47.022Z"
   },
   {
    "duration": 36,
    "start_time": "2022-10-09T16:30:47.087Z"
   },
   {
    "duration": 15,
    "start_time": "2022-10-09T16:30:47.125Z"
   },
   {
    "duration": 84,
    "start_time": "2022-10-09T16:30:47.142Z"
   },
   {
    "duration": 15,
    "start_time": "2022-10-09T16:30:47.228Z"
   },
   {
    "duration": 17,
    "start_time": "2022-10-09T16:30:47.244Z"
   },
   {
    "duration": 86,
    "start_time": "2022-10-09T16:30:47.262Z"
   },
   {
    "duration": 70,
    "start_time": "2022-10-09T16:30:47.350Z"
   },
   {
    "duration": 162,
    "start_time": "2022-10-09T16:30:47.423Z"
   },
   {
    "duration": 0,
    "start_time": "2022-10-09T16:30:47.587Z"
   },
   {
    "duration": 0,
    "start_time": "2022-10-09T16:30:47.588Z"
   },
   {
    "duration": 0,
    "start_time": "2022-10-09T16:30:47.589Z"
   },
   {
    "duration": 0,
    "start_time": "2022-10-09T16:30:47.590Z"
   },
   {
    "duration": 0,
    "start_time": "2022-10-09T16:30:47.591Z"
   },
   {
    "duration": 0,
    "start_time": "2022-10-09T16:30:47.592Z"
   },
   {
    "duration": 0,
    "start_time": "2022-10-09T16:30:47.593Z"
   },
   {
    "duration": 0,
    "start_time": "2022-10-09T16:30:47.595Z"
   },
   {
    "duration": 0,
    "start_time": "2022-10-09T16:30:47.596Z"
   },
   {
    "duration": 0,
    "start_time": "2022-10-09T16:30:47.597Z"
   },
   {
    "duration": 11,
    "start_time": "2022-10-09T16:30:58.338Z"
   },
   {
    "duration": 14,
    "start_time": "2022-10-09T16:31:02.034Z"
   },
   {
    "duration": 14,
    "start_time": "2022-10-09T16:31:17.922Z"
   },
   {
    "duration": 11,
    "start_time": "2022-10-09T16:31:57.585Z"
   },
   {
    "duration": 3,
    "start_time": "2022-10-09T16:32:33.042Z"
   },
   {
    "duration": 11,
    "start_time": "2022-10-09T16:34:55.570Z"
   },
   {
    "duration": 14,
    "start_time": "2022-10-09T16:37:47.047Z"
   },
   {
    "duration": 866,
    "start_time": "2022-10-09T16:37:59.298Z"
   },
   {
    "duration": 1001,
    "start_time": "2022-10-09T16:40:04.499Z"
   },
   {
    "duration": 997,
    "start_time": "2022-10-09T16:40:36.328Z"
   },
   {
    "duration": 1103,
    "start_time": "2022-10-09T16:40:42.658Z"
   },
   {
    "duration": 889,
    "start_time": "2022-10-09T16:41:03.058Z"
   },
   {
    "duration": 862,
    "start_time": "2022-10-09T16:41:40.371Z"
   },
   {
    "duration": 5,
    "start_time": "2022-10-09T16:41:54.306Z"
   },
   {
    "duration": 135,
    "start_time": "2022-10-09T16:42:06.581Z"
   },
   {
    "duration": 131,
    "start_time": "2022-10-09T16:43:38.786Z"
   },
   {
    "duration": 141,
    "start_time": "2022-10-09T16:44:07.761Z"
   },
   {
    "duration": 16,
    "start_time": "2022-10-09T16:48:24.259Z"
   },
   {
    "duration": 15,
    "start_time": "2022-10-09T16:48:27.283Z"
   },
   {
    "duration": 46,
    "start_time": "2022-10-09T16:52:52.330Z"
   },
   {
    "duration": 118,
    "start_time": "2022-10-09T16:53:01.571Z"
   },
   {
    "duration": 109,
    "start_time": "2022-10-09T16:53:37.875Z"
   },
   {
    "duration": 112,
    "start_time": "2022-10-09T16:54:07.939Z"
   },
   {
    "duration": 125,
    "start_time": "2022-10-09T16:54:20.916Z"
   },
   {
    "duration": 110,
    "start_time": "2022-10-09T16:54:23.235Z"
   },
   {
    "duration": 195,
    "start_time": "2022-10-09T16:54:59.620Z"
   },
   {
    "duration": 114,
    "start_time": "2022-10-09T16:55:06.196Z"
   },
   {
    "duration": 117,
    "start_time": "2022-10-09T16:55:12.148Z"
   },
   {
    "duration": 106,
    "start_time": "2022-10-09T16:55:17.940Z"
   },
   {
    "duration": 106,
    "start_time": "2022-10-09T16:55:21.300Z"
   },
   {
    "duration": 121,
    "start_time": "2022-10-09T16:55:24.963Z"
   },
   {
    "duration": 115,
    "start_time": "2022-10-09T16:55:27.763Z"
   },
   {
    "duration": 113,
    "start_time": "2022-10-09T16:55:31.412Z"
   },
   {
    "duration": 114,
    "start_time": "2022-10-09T16:55:40.636Z"
   },
   {
    "duration": 109,
    "start_time": "2022-10-09T16:55:44.020Z"
   },
   {
    "duration": 110,
    "start_time": "2022-10-09T16:55:47.268Z"
   },
   {
    "duration": 110,
    "start_time": "2022-10-09T16:55:52.163Z"
   },
   {
    "duration": 113,
    "start_time": "2022-10-09T16:55:56.212Z"
   },
   {
    "duration": 125,
    "start_time": "2022-10-09T16:56:15.076Z"
   },
   {
    "duration": 108,
    "start_time": "2022-10-09T16:57:03.477Z"
   },
   {
    "duration": 116,
    "start_time": "2022-10-09T16:57:09.219Z"
   },
   {
    "duration": 123,
    "start_time": "2022-10-09T16:57:15.540Z"
   },
   {
    "duration": 114,
    "start_time": "2022-10-09T16:57:20.547Z"
   },
   {
    "duration": 116,
    "start_time": "2022-10-09T16:57:25.203Z"
   },
   {
    "duration": 109,
    "start_time": "2022-10-09T16:57:31.156Z"
   },
   {
    "duration": 134,
    "start_time": "2022-10-09T16:57:36.068Z"
   },
   {
    "duration": 119,
    "start_time": "2022-10-09T16:57:39.412Z"
   },
   {
    "duration": 115,
    "start_time": "2022-10-09T16:57:42.227Z"
   },
   {
    "duration": 31,
    "start_time": "2022-10-09T16:58:57.060Z"
   },
   {
    "duration": 31,
    "start_time": "2022-10-09T16:59:02.788Z"
   },
   {
    "duration": 32,
    "start_time": "2022-10-09T16:59:06.484Z"
   },
   {
    "duration": 33,
    "start_time": "2022-10-09T16:59:17.076Z"
   },
   {
    "duration": 32,
    "start_time": "2022-10-09T16:59:47.268Z"
   },
   {
    "duration": 35,
    "start_time": "2022-10-09T17:00:18.309Z"
   },
   {
    "duration": 38,
    "start_time": "2022-10-09T17:00:28.500Z"
   },
   {
    "duration": 32,
    "start_time": "2022-10-09T17:00:35.876Z"
   },
   {
    "duration": 32,
    "start_time": "2022-10-09T17:00:42.292Z"
   },
   {
    "duration": 32,
    "start_time": "2022-10-09T17:00:46.532Z"
   },
   {
    "duration": 33,
    "start_time": "2022-10-09T17:01:07.349Z"
   },
   {
    "duration": 36,
    "start_time": "2022-10-09T17:03:11.300Z"
   },
   {
    "duration": 34,
    "start_time": "2022-10-09T17:03:20.995Z"
   },
   {
    "duration": 36,
    "start_time": "2022-10-09T17:03:43.237Z"
   },
   {
    "duration": 35,
    "start_time": "2022-10-09T17:03:59.683Z"
   },
   {
    "duration": 34,
    "start_time": "2022-10-09T17:04:06.757Z"
   },
   {
    "duration": 35,
    "start_time": "2022-10-09T17:04:09.860Z"
   },
   {
    "duration": 35,
    "start_time": "2022-10-09T17:04:12.996Z"
   },
   {
    "duration": 34,
    "start_time": "2022-10-09T17:04:17.732Z"
   },
   {
    "duration": 32,
    "start_time": "2022-10-09T17:04:21.364Z"
   },
   {
    "duration": 164,
    "start_time": "2022-10-09T17:04:25.444Z"
   },
   {
    "duration": 34,
    "start_time": "2022-10-09T17:04:31.252Z"
   },
   {
    "duration": 34,
    "start_time": "2022-10-09T17:04:55.636Z"
   },
   {
    "duration": 38,
    "start_time": "2022-10-09T17:05:02.404Z"
   },
   {
    "duration": 37,
    "start_time": "2022-10-09T17:05:15.109Z"
   },
   {
    "duration": 37,
    "start_time": "2022-10-09T17:05:34.453Z"
   },
   {
    "duration": 36,
    "start_time": "2022-10-09T17:05:41.860Z"
   },
   {
    "duration": 38,
    "start_time": "2022-10-09T17:07:14.436Z"
   },
   {
    "duration": 38,
    "start_time": "2022-10-09T17:07:42.085Z"
   },
   {
    "duration": 16,
    "start_time": "2022-10-09T17:08:29.683Z"
   },
   {
    "duration": 38,
    "start_time": "2022-10-09T17:09:25.238Z"
   },
   {
    "duration": 38,
    "start_time": "2022-10-09T17:12:36.998Z"
   },
   {
    "duration": 37,
    "start_time": "2022-10-09T17:13:03.204Z"
   },
   {
    "duration": 36,
    "start_time": "2022-10-09T17:13:09.525Z"
   },
   {
    "duration": 39,
    "start_time": "2022-10-09T17:13:45.204Z"
   },
   {
    "duration": 39,
    "start_time": "2022-10-09T17:13:51.796Z"
   },
   {
    "duration": 1376,
    "start_time": "2022-10-10T07:53:23.771Z"
   },
   {
    "duration": 147,
    "start_time": "2022-10-10T07:53:25.150Z"
   },
   {
    "duration": 73,
    "start_time": "2022-10-10T07:53:25.300Z"
   },
   {
    "duration": 9,
    "start_time": "2022-10-10T07:53:25.376Z"
   },
   {
    "duration": 23,
    "start_time": "2022-10-10T07:53:25.395Z"
   },
   {
    "duration": 30,
    "start_time": "2022-10-10T07:53:25.420Z"
   },
   {
    "duration": 15,
    "start_time": "2022-10-10T07:53:25.453Z"
   },
   {
    "duration": 76,
    "start_time": "2022-10-10T07:53:25.470Z"
   },
   {
    "duration": 5,
    "start_time": "2022-10-10T07:53:25.549Z"
   },
   {
    "duration": 40,
    "start_time": "2022-10-10T07:53:25.558Z"
   },
   {
    "duration": 11,
    "start_time": "2022-10-10T07:53:25.600Z"
   },
   {
    "duration": 5,
    "start_time": "2022-10-10T07:53:25.613Z"
   },
   {
    "duration": 7,
    "start_time": "2022-10-10T07:53:25.620Z"
   },
   {
    "duration": 9,
    "start_time": "2022-10-10T07:53:25.629Z"
   },
   {
    "duration": 7,
    "start_time": "2022-10-10T07:53:25.640Z"
   },
   {
    "duration": 29,
    "start_time": "2022-10-10T07:53:25.649Z"
   },
   {
    "duration": 1221,
    "start_time": "2022-10-10T07:53:25.684Z"
   },
   {
    "duration": 12,
    "start_time": "2022-10-10T07:53:26.908Z"
   },
   {
    "duration": 67,
    "start_time": "2022-10-10T07:53:26.922Z"
   },
   {
    "duration": 506,
    "start_time": "2022-10-10T07:53:26.992Z"
   },
   {
    "duration": 7,
    "start_time": "2022-10-10T07:53:27.500Z"
   },
   {
    "duration": 79,
    "start_time": "2022-10-10T07:53:27.510Z"
   },
   {
    "duration": 35,
    "start_time": "2022-10-10T07:53:27.593Z"
   },
   {
    "duration": 152,
    "start_time": "2022-10-10T07:53:27.630Z"
   },
   {
    "duration": 12,
    "start_time": "2022-10-10T07:53:27.783Z"
   },
   {
    "duration": 74,
    "start_time": "2022-10-10T07:53:27.796Z"
   },
   {
    "duration": 66,
    "start_time": "2022-10-10T07:53:27.872Z"
   },
   {
    "duration": 100,
    "start_time": "2022-10-10T07:53:27.942Z"
   },
   {
    "duration": 65,
    "start_time": "2022-10-10T07:53:28.044Z"
   },
   {
    "duration": 14,
    "start_time": "2022-10-10T07:53:28.112Z"
   },
   {
    "duration": 112,
    "start_time": "2022-10-10T07:53:28.128Z"
   },
   {
    "duration": 18,
    "start_time": "2022-10-10T07:53:28.242Z"
   },
   {
    "duration": 52,
    "start_time": "2022-10-10T07:53:28.262Z"
   },
   {
    "duration": 16,
    "start_time": "2022-10-10T07:53:28.316Z"
   },
   {
    "duration": 37,
    "start_time": "2022-10-10T07:53:28.334Z"
   },
   {
    "duration": 75,
    "start_time": "2022-10-10T07:53:28.373Z"
   },
   {
    "duration": 33,
    "start_time": "2022-10-10T07:53:28.450Z"
   },
   {
    "duration": 32,
    "start_time": "2022-10-10T07:53:28.485Z"
   },
   {
    "duration": 91,
    "start_time": "2022-10-10T07:53:28.519Z"
   },
   {
    "duration": 19,
    "start_time": "2022-10-10T07:53:28.613Z"
   },
   {
    "duration": 20,
    "start_time": "2022-10-10T07:53:28.633Z"
   },
   {
    "duration": 92,
    "start_time": "2022-10-10T07:53:28.655Z"
   },
   {
    "duration": 3,
    "start_time": "2022-10-10T07:53:28.749Z"
   },
   {
    "duration": 69,
    "start_time": "2022-10-10T07:53:28.755Z"
   },
   {
    "duration": 57,
    "start_time": "2022-10-10T07:53:28.826Z"
   },
   {
    "duration": 11,
    "start_time": "2022-10-10T07:53:28.889Z"
   },
   {
    "duration": 7,
    "start_time": "2022-10-10T07:53:28.902Z"
   },
   {
    "duration": 10,
    "start_time": "2022-10-10T07:53:28.911Z"
   },
   {
    "duration": 10,
    "start_time": "2022-10-10T07:53:28.922Z"
   },
   {
    "duration": 13,
    "start_time": "2022-10-10T07:53:28.934Z"
   },
   {
    "duration": 6,
    "start_time": "2022-10-10T07:53:28.949Z"
   },
   {
    "duration": 6,
    "start_time": "2022-10-10T07:53:28.977Z"
   },
   {
    "duration": 35,
    "start_time": "2022-10-10T07:53:28.984Z"
   },
   {
    "duration": 1221,
    "start_time": "2022-10-10T07:55:03.648Z"
   },
   {
    "duration": 484,
    "start_time": "2022-10-10T07:56:52.842Z"
   },
   {
    "duration": 1015,
    "start_time": "2022-10-10T07:58:12.362Z"
   },
   {
    "duration": 265,
    "start_time": "2022-10-10T07:58:42.855Z"
   },
   {
    "duration": 255,
    "start_time": "2022-10-10T07:58:55.047Z"
   },
   {
    "duration": 188,
    "start_time": "2022-10-10T07:59:07.117Z"
   },
   {
    "duration": 1231,
    "start_time": "2022-10-10T07:59:12.825Z"
   },
   {
    "duration": 897,
    "start_time": "2022-10-10T07:59:19.335Z"
   },
   {
    "duration": 246,
    "start_time": "2022-10-10T07:59:44.071Z"
   },
   {
    "duration": 1012,
    "start_time": "2022-10-10T08:00:13.319Z"
   },
   {
    "duration": 1044,
    "start_time": "2022-10-10T08:00:26.887Z"
   },
   {
    "duration": 960,
    "start_time": "2022-10-10T08:00:43.846Z"
   },
   {
    "duration": 219,
    "start_time": "2022-10-10T08:01:21.208Z"
   },
   {
    "duration": 151,
    "start_time": "2022-10-10T08:01:28.951Z"
   },
   {
    "duration": 1583,
    "start_time": "2022-10-10T08:02:49.960Z"
   },
   {
    "duration": 74,
    "start_time": "2022-10-10T08:02:51.546Z"
   },
   {
    "duration": 94,
    "start_time": "2022-10-10T08:02:51.623Z"
   },
   {
    "duration": 4,
    "start_time": "2022-10-10T08:02:51.721Z"
   },
   {
    "duration": 21,
    "start_time": "2022-10-10T08:02:51.727Z"
   },
   {
    "duration": 44,
    "start_time": "2022-10-10T08:02:51.750Z"
   },
   {
    "duration": 19,
    "start_time": "2022-10-10T08:02:51.796Z"
   },
   {
    "duration": 81,
    "start_time": "2022-10-10T08:02:51.818Z"
   },
   {
    "duration": 5,
    "start_time": "2022-10-10T08:02:51.901Z"
   },
   {
    "duration": 27,
    "start_time": "2022-10-10T08:02:51.908Z"
   },
   {
    "duration": 14,
    "start_time": "2022-10-10T08:02:51.937Z"
   },
   {
    "duration": 24,
    "start_time": "2022-10-10T08:02:51.953Z"
   },
   {
    "duration": 8,
    "start_time": "2022-10-10T08:02:51.980Z"
   },
   {
    "duration": 15,
    "start_time": "2022-10-10T08:02:51.991Z"
   },
   {
    "duration": 9,
    "start_time": "2022-10-10T08:02:52.009Z"
   },
   {
    "duration": 14,
    "start_time": "2022-10-10T08:02:52.021Z"
   },
   {
    "duration": 1782,
    "start_time": "2022-10-10T08:02:52.037Z"
   },
   {
    "duration": 29,
    "start_time": "2022-10-10T08:02:53.824Z"
   },
   {
    "duration": 1055,
    "start_time": "2022-10-10T08:02:53.856Z"
   },
   {
    "duration": 8,
    "start_time": "2022-10-10T08:02:54.913Z"
   },
   {
    "duration": 29,
    "start_time": "2022-10-10T08:02:54.924Z"
   },
   {
    "duration": 39,
    "start_time": "2022-10-10T08:02:54.977Z"
   },
   {
    "duration": 299,
    "start_time": "2022-10-10T08:02:55.019Z"
   },
   {
    "duration": 9,
    "start_time": "2022-10-10T08:02:55.320Z"
   },
   {
    "duration": 270,
    "start_time": "2022-10-10T08:02:55.331Z"
   },
   {
    "duration": 208,
    "start_time": "2022-10-10T08:02:55.603Z"
   },
   {
    "duration": 1134,
    "start_time": "2022-10-10T08:02:55.813Z"
   },
   {
    "duration": 937,
    "start_time": "2022-10-10T08:02:56.952Z"
   },
   {
    "duration": 14,
    "start_time": "2022-10-10T08:02:57.892Z"
   },
   {
    "duration": 234,
    "start_time": "2022-10-10T08:02:57.908Z"
   },
   {
    "duration": 51,
    "start_time": "2022-10-10T08:02:58.145Z"
   },
   {
    "duration": 22,
    "start_time": "2022-10-10T08:02:58.198Z"
   },
   {
    "duration": 20,
    "start_time": "2022-10-10T08:02:58.223Z"
   },
   {
    "duration": 48,
    "start_time": "2022-10-10T08:02:58.246Z"
   },
   {
    "duration": 1236,
    "start_time": "2022-10-10T08:02:58.297Z"
   },
   {
    "duration": 40,
    "start_time": "2022-10-10T08:02:59.536Z"
   },
   {
    "duration": 18,
    "start_time": "2022-10-10T08:02:59.579Z"
   },
   {
    "duration": 1140,
    "start_time": "2022-10-10T08:02:59.600Z"
   },
   {
    "duration": 38,
    "start_time": "2022-10-10T08:03:00.744Z"
   },
   {
    "duration": 70,
    "start_time": "2022-10-10T08:03:00.784Z"
   },
   {
    "duration": 1157,
    "start_time": "2022-10-10T08:03:00.857Z"
   },
   {
    "duration": 460,
    "start_time": "2022-10-10T08:03:02.017Z"
   },
   {
    "duration": 198,
    "start_time": "2022-10-10T08:03:02.479Z"
   },
   {
    "duration": 13,
    "start_time": "2022-10-10T08:03:02.680Z"
   },
   {
    "duration": 34,
    "start_time": "2022-10-10T08:03:02.695Z"
   },
   {
    "duration": 44,
    "start_time": "2022-10-10T08:03:02.732Z"
   },
   {
    "duration": 46,
    "start_time": "2022-10-10T08:03:02.779Z"
   },
   {
    "duration": 36,
    "start_time": "2022-10-10T08:03:02.827Z"
   },
   {
    "duration": 28,
    "start_time": "2022-10-10T08:03:02.866Z"
   },
   {
    "duration": 43,
    "start_time": "2022-10-10T08:03:02.897Z"
   },
   {
    "duration": 29,
    "start_time": "2022-10-10T08:03:02.942Z"
   },
   {
    "duration": 225,
    "start_time": "2022-10-10T08:05:57.095Z"
   },
   {
    "duration": 181,
    "start_time": "2022-10-10T08:06:20.743Z"
   },
   {
    "duration": 223,
    "start_time": "2022-10-10T08:06:30.008Z"
   },
   {
    "duration": 240,
    "start_time": "2022-10-10T08:06:40.183Z"
   },
   {
    "duration": 988,
    "start_time": "2022-10-10T08:07:44.935Z"
   },
   {
    "duration": 962,
    "start_time": "2022-10-10T08:08:09.015Z"
   },
   {
    "duration": 1028,
    "start_time": "2022-10-10T08:08:56.374Z"
   },
   {
    "duration": 975,
    "start_time": "2022-10-10T08:09:09.318Z"
   },
   {
    "duration": 910,
    "start_time": "2022-10-10T08:09:18.373Z"
   },
   {
    "duration": 1002,
    "start_time": "2022-10-10T08:09:25.125Z"
   },
   {
    "duration": 1002,
    "start_time": "2022-10-10T08:09:50.806Z"
   },
   {
    "duration": 186,
    "start_time": "2022-10-10T08:10:30.871Z"
   },
   {
    "duration": 217,
    "start_time": "2022-10-10T08:13:59.638Z"
   },
   {
    "duration": 6,
    "start_time": "2022-10-10T08:16:14.230Z"
   },
   {
    "duration": 74,
    "start_time": "2022-10-10T08:16:43.351Z"
   },
   {
    "duration": 153,
    "start_time": "2022-10-10T08:16:53.173Z"
   },
   {
    "duration": 64,
    "start_time": "2022-10-10T08:17:06.006Z"
   },
   {
    "duration": 55,
    "start_time": "2022-10-10T08:17:10.357Z"
   },
   {
    "duration": 53,
    "start_time": "2022-10-10T08:17:17.478Z"
   },
   {
    "duration": 25,
    "start_time": "2022-10-10T08:17:24.310Z"
   },
   {
    "duration": 8,
    "start_time": "2022-10-10T08:17:41.317Z"
   },
   {
    "duration": 5,
    "start_time": "2022-10-10T08:17:46.118Z"
   },
   {
    "duration": 49,
    "start_time": "2022-10-10T08:17:51.271Z"
   },
   {
    "duration": 86,
    "start_time": "2022-10-10T08:18:40.919Z"
   },
   {
    "duration": 6,
    "start_time": "2022-10-10T08:19:10.917Z"
   },
   {
    "duration": 53,
    "start_time": "2022-10-10T08:19:24.151Z"
   },
   {
    "duration": 56,
    "start_time": "2022-10-10T08:19:44.902Z"
   },
   {
    "duration": 106,
    "start_time": "2022-10-10T08:19:49.833Z"
   },
   {
    "duration": 87,
    "start_time": "2022-10-10T08:20:21.158Z"
   },
   {
    "duration": 46,
    "start_time": "2022-10-10T08:20:58.358Z"
   },
   {
    "duration": 7,
    "start_time": "2022-10-10T08:21:28.838Z"
   },
   {
    "duration": 49,
    "start_time": "2022-10-10T08:21:30.727Z"
   },
   {
    "duration": 8,
    "start_time": "2022-10-10T08:21:36.230Z"
   },
   {
    "duration": 53,
    "start_time": "2022-10-10T08:21:38.902Z"
   },
   {
    "duration": 93,
    "start_time": "2022-10-10T08:22:28.757Z"
   },
   {
    "duration": 56,
    "start_time": "2022-10-10T08:22:44.743Z"
   },
   {
    "duration": 73,
    "start_time": "2022-10-10T08:22:53.622Z"
   },
   {
    "duration": 80,
    "start_time": "2022-10-10T08:23:00.406Z"
   },
   {
    "duration": 63,
    "start_time": "2022-10-10T08:23:15.733Z"
   },
   {
    "duration": 58,
    "start_time": "2022-10-10T08:23:34.038Z"
   },
   {
    "duration": 198,
    "start_time": "2022-10-10T08:23:41.590Z"
   },
   {
    "duration": 57,
    "start_time": "2022-10-10T08:23:59.942Z"
   },
   {
    "duration": 105,
    "start_time": "2022-10-10T08:24:05.973Z"
   },
   {
    "duration": 87,
    "start_time": "2022-10-10T08:24:37.398Z"
   },
   {
    "duration": 55,
    "start_time": "2022-10-10T08:24:43.558Z"
   },
   {
    "duration": 86,
    "start_time": "2022-10-10T08:24:47.270Z"
   },
   {
    "duration": 130,
    "start_time": "2022-10-10T08:27:00.182Z"
   },
   {
    "duration": 167,
    "start_time": "2022-10-10T08:27:16.342Z"
   },
   {
    "duration": 244,
    "start_time": "2022-10-10T08:27:28.072Z"
   },
   {
    "duration": 304,
    "start_time": "2022-10-10T08:29:37.045Z"
   },
   {
    "duration": 1140,
    "start_time": "2022-10-10T08:30:44.181Z"
   },
   {
    "duration": 53,
    "start_time": "2022-10-10T08:30:45.323Z"
   },
   {
    "duration": 57,
    "start_time": "2022-10-10T08:30:45.377Z"
   },
   {
    "duration": 4,
    "start_time": "2022-10-10T08:30:45.436Z"
   },
   {
    "duration": 34,
    "start_time": "2022-10-10T08:30:45.443Z"
   },
   {
    "duration": 40,
    "start_time": "2022-10-10T08:30:45.478Z"
   },
   {
    "duration": 21,
    "start_time": "2022-10-10T08:30:45.520Z"
   },
   {
    "duration": 64,
    "start_time": "2022-10-10T08:30:45.544Z"
   },
   {
    "duration": 7,
    "start_time": "2022-10-10T08:30:45.611Z"
   },
   {
    "duration": 34,
    "start_time": "2022-10-10T08:30:45.620Z"
   },
   {
    "duration": 10,
    "start_time": "2022-10-10T08:30:45.659Z"
   },
   {
    "duration": 9,
    "start_time": "2022-10-10T08:30:45.671Z"
   },
   {
    "duration": 17,
    "start_time": "2022-10-10T08:30:45.682Z"
   },
   {
    "duration": 38,
    "start_time": "2022-10-10T08:30:45.704Z"
   },
   {
    "duration": 8,
    "start_time": "2022-10-10T08:30:45.744Z"
   },
   {
    "duration": 10,
    "start_time": "2022-10-10T08:30:45.754Z"
   },
   {
    "duration": 2480,
    "start_time": "2022-10-10T08:30:45.766Z"
   },
   {
    "duration": 52,
    "start_time": "2022-10-10T08:30:48.248Z"
   },
   {
    "duration": 318,
    "start_time": "2022-10-10T08:30:48.302Z"
   },
   {
    "duration": 6,
    "start_time": "2022-10-10T08:30:48.623Z"
   },
   {
    "duration": 29,
    "start_time": "2022-10-10T08:30:48.630Z"
   },
   {
    "duration": 39,
    "start_time": "2022-10-10T08:30:48.661Z"
   },
   {
    "duration": 209,
    "start_time": "2022-10-10T08:30:48.702Z"
   },
   {
    "duration": 6,
    "start_time": "2022-10-10T08:30:48.913Z"
   },
   {
    "duration": 190,
    "start_time": "2022-10-10T08:30:48.921Z"
   },
   {
    "duration": 133,
    "start_time": "2022-10-10T08:30:49.113Z"
   },
   {
    "duration": 765,
    "start_time": "2022-10-10T08:30:49.278Z"
   },
   {
    "duration": 835,
    "start_time": "2022-10-10T08:30:50.045Z"
   },
   {
    "duration": 14,
    "start_time": "2022-10-10T08:30:50.882Z"
   },
   {
    "duration": 151,
    "start_time": "2022-10-10T08:30:50.898Z"
   },
   {
    "duration": 35,
    "start_time": "2022-10-10T08:30:51.051Z"
   },
   {
    "duration": 18,
    "start_time": "2022-10-10T08:30:51.088Z"
   },
   {
    "duration": 13,
    "start_time": "2022-10-10T08:30:51.108Z"
   },
   {
    "duration": 15,
    "start_time": "2022-10-10T08:30:51.123Z"
   },
   {
    "duration": 850,
    "start_time": "2022-10-10T08:30:51.140Z"
   },
   {
    "duration": 15,
    "start_time": "2022-10-10T08:30:51.992Z"
   },
   {
    "duration": 15,
    "start_time": "2022-10-10T08:30:52.008Z"
   },
   {
    "duration": 817,
    "start_time": "2022-10-10T08:30:52.025Z"
   },
   {
    "duration": 45,
    "start_time": "2022-10-10T08:30:52.844Z"
   },
   {
    "duration": 30,
    "start_time": "2022-10-10T08:30:52.891Z"
   },
   {
    "duration": 956,
    "start_time": "2022-10-10T08:30:52.926Z"
   },
   {
    "duration": 241,
    "start_time": "2022-10-10T08:30:53.884Z"
   },
   {
    "duration": 176,
    "start_time": "2022-10-10T08:30:54.128Z"
   },
   {
    "duration": 10,
    "start_time": "2022-10-10T08:30:54.306Z"
   },
   {
    "duration": 7,
    "start_time": "2022-10-10T08:30:54.318Z"
   },
   {
    "duration": 11,
    "start_time": "2022-10-10T08:30:54.327Z"
   },
   {
    "duration": 39,
    "start_time": "2022-10-10T08:30:54.339Z"
   },
   {
    "duration": 9,
    "start_time": "2022-10-10T08:30:54.380Z"
   },
   {
    "duration": 9,
    "start_time": "2022-10-10T08:30:54.391Z"
   },
   {
    "duration": 11,
    "start_time": "2022-10-10T08:30:54.402Z"
   },
   {
    "duration": 7,
    "start_time": "2022-10-10T08:30:54.415Z"
   },
   {
    "duration": 743,
    "start_time": "2022-10-10T08:31:36.149Z"
   },
   {
    "duration": 1182,
    "start_time": "2022-10-10T08:32:13.646Z"
   },
   {
    "duration": 54,
    "start_time": "2022-10-10T08:32:14.830Z"
   },
   {
    "duration": 56,
    "start_time": "2022-10-10T08:32:14.886Z"
   },
   {
    "duration": 4,
    "start_time": "2022-10-10T08:32:14.945Z"
   },
   {
    "duration": 33,
    "start_time": "2022-10-10T08:32:14.951Z"
   },
   {
    "duration": 22,
    "start_time": "2022-10-10T08:32:14.986Z"
   },
   {
    "duration": 35,
    "start_time": "2022-10-10T08:32:15.010Z"
   },
   {
    "duration": 58,
    "start_time": "2022-10-10T08:32:15.047Z"
   },
   {
    "duration": 6,
    "start_time": "2022-10-10T08:32:15.106Z"
   },
   {
    "duration": 18,
    "start_time": "2022-10-10T08:32:15.115Z"
   },
   {
    "duration": 12,
    "start_time": "2022-10-10T08:32:15.135Z"
   },
   {
    "duration": 29,
    "start_time": "2022-10-10T08:32:15.149Z"
   },
   {
    "duration": 5,
    "start_time": "2022-10-10T08:32:15.181Z"
   },
   {
    "duration": 14,
    "start_time": "2022-10-10T08:32:15.188Z"
   },
   {
    "duration": 10,
    "start_time": "2022-10-10T08:32:15.204Z"
   },
   {
    "duration": 10,
    "start_time": "2022-10-10T08:32:15.215Z"
   },
   {
    "duration": 1399,
    "start_time": "2022-10-10T08:32:15.226Z"
   },
   {
    "duration": 26,
    "start_time": "2022-10-10T08:32:16.628Z"
   },
   {
    "duration": 335,
    "start_time": "2022-10-10T08:32:16.678Z"
   },
   {
    "duration": 7,
    "start_time": "2022-10-10T08:32:17.016Z"
   },
   {
    "duration": 51,
    "start_time": "2022-10-10T08:32:17.025Z"
   },
   {
    "duration": 40,
    "start_time": "2022-10-10T08:32:17.079Z"
   },
   {
    "duration": 184,
    "start_time": "2022-10-10T08:32:17.120Z"
   },
   {
    "duration": 6,
    "start_time": "2022-10-10T08:32:17.306Z"
   },
   {
    "duration": 279,
    "start_time": "2022-10-10T08:32:17.314Z"
   },
   {
    "duration": 385,
    "start_time": "2022-10-10T08:32:17.595Z"
   },
   {
    "duration": 1730,
    "start_time": "2022-10-10T08:32:17.982Z"
   },
   {
    "duration": 907,
    "start_time": "2022-10-10T08:32:19.717Z"
   },
   {
    "duration": 11,
    "start_time": "2022-10-10T08:32:20.626Z"
   },
   {
    "duration": 184,
    "start_time": "2022-10-10T08:32:20.638Z"
   },
   {
    "duration": 16,
    "start_time": "2022-10-10T08:32:20.825Z"
   },
   {
    "duration": 45,
    "start_time": "2022-10-10T08:32:20.843Z"
   },
   {
    "duration": 29,
    "start_time": "2022-10-10T08:32:20.890Z"
   },
   {
    "duration": 52,
    "start_time": "2022-10-10T08:32:20.921Z"
   },
   {
    "duration": 915,
    "start_time": "2022-10-10T08:32:20.974Z"
   },
   {
    "duration": 15,
    "start_time": "2022-10-10T08:32:21.892Z"
   },
   {
    "duration": 16,
    "start_time": "2022-10-10T08:32:21.909Z"
   },
   {
    "duration": 931,
    "start_time": "2022-10-10T08:32:21.927Z"
   },
   {
    "duration": 16,
    "start_time": "2022-10-10T08:32:22.877Z"
   },
   {
    "duration": 23,
    "start_time": "2022-10-10T08:32:22.895Z"
   },
   {
    "duration": 866,
    "start_time": "2022-10-10T08:32:22.920Z"
   },
   {
    "duration": 243,
    "start_time": "2022-10-10T08:32:23.789Z"
   },
   {
    "duration": 167,
    "start_time": "2022-10-10T08:32:24.035Z"
   },
   {
    "duration": 9,
    "start_time": "2022-10-10T08:32:24.204Z"
   },
   {
    "duration": 36,
    "start_time": "2022-10-10T08:32:24.215Z"
   },
   {
    "duration": 14,
    "start_time": "2022-10-10T08:32:24.253Z"
   },
   {
    "duration": 11,
    "start_time": "2022-10-10T08:32:24.269Z"
   },
   {
    "duration": 15,
    "start_time": "2022-10-10T08:32:24.282Z"
   },
   {
    "duration": 19,
    "start_time": "2022-10-10T08:32:24.299Z"
   },
   {
    "duration": 39,
    "start_time": "2022-10-10T08:32:24.321Z"
   },
   {
    "duration": 21,
    "start_time": "2022-10-10T08:32:24.362Z"
   }
  ],
  "kernelspec": {
   "display_name": "Python 3 (ipykernel)",
   "language": "python",
   "name": "python3"
  },
  "language_info": {
   "codemirror_mode": {
    "name": "ipython",
    "version": 3
   },
   "file_extension": ".py",
   "mimetype": "text/x-python",
   "name": "python",
   "nbconvert_exporter": "python",
   "pygments_lexer": "ipython3",
   "version": "3.9.5"
  },
  "toc": {
   "base_numbering": 1,
   "nav_menu": {},
   "number_sections": true,
   "sideBar": true,
   "skip_h1_title": true,
   "title_cell": "Содержание",
   "title_sidebar": "Contents",
   "toc_cell": true,
   "toc_position": {
    "height": "calc(100% - 180px)",
    "left": "10px",
    "top": "150px",
    "width": "357px"
   },
   "toc_section_display": true,
   "toc_window_display": true
  }
 },
 "nbformat": 4,
 "nbformat_minor": 5
}
